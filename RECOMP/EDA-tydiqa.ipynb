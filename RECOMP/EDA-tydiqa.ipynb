{
 "cells": [
  {
   "cell_type": "code",
   "execution_count": 1,
   "metadata": {},
   "outputs": [],
   "source": [
    "from collections import Counter\n",
    "import pandas as pd\n",
    "from datasets import load_dataset\n",
    "# pd.set_option('display.max_rows', None)\n",
    "# pd.set_option('display.max_colwidth', None)"
   ]
  },
  {
   "cell_type": "markdown",
   "metadata": {},
   "source": [
    "# EDA TyDi QA\n",
    "Notebook untuk memahami dataset TyDi QA"
   ]
  },
  {
   "cell_type": "code",
   "execution_count": 59,
   "metadata": {},
   "outputs": [
    {
     "data": {
      "text/plain": [
       "DatasetDict({\n",
       "    train: Dataset({\n",
       "        features: ['id', 'language', 'document_title', 'passage_text', 'question_text', 'answers'],\n",
       "        num_rows: 5702\n",
       "    })\n",
       "    validation: Dataset({\n",
       "        features: ['id', 'language', 'document_title', 'passage_text', 'question_text', 'answers'],\n",
       "        num_rows: 565\n",
       "    })\n",
       "})"
      ]
     },
     "execution_count": 59,
     "metadata": {},
     "output_type": "execute_result"
    }
   ],
   "source": [
    "tydiqa_gold = load_dataset(\"khalidalt/tydiqa-goldp\", 'indonesian', trust_remote_code=True)\n",
    "tydiqa_gold"
   ]
  },
  {
   "cell_type": "code",
   "execution_count": 62,
   "metadata": {},
   "outputs": [
    {
     "data": {
      "text/plain": [
       "{'text': ['28 Agustus 1950'], 'start_byte': [45], 'limit_byte': [60]}"
      ]
     },
     "execution_count": 62,
     "metadata": {},
     "output_type": "execute_result"
    }
   ],
   "source": [
    "tydiqa_gold['train'][0]['answers']"
   ]
  },
  {
   "cell_type": "code",
   "execution_count": 9,
   "metadata": {},
   "outputs": [
    {
     "data": {
      "text/html": [
       "<div>\n",
       "<style scoped>\n",
       "    .dataframe tbody tr th:only-of-type {\n",
       "        vertical-align: middle;\n",
       "    }\n",
       "\n",
       "    .dataframe tbody tr th {\n",
       "        vertical-align: top;\n",
       "    }\n",
       "\n",
       "    .dataframe thead th {\n",
       "        text-align: right;\n",
       "    }\n",
       "</style>\n",
       "<table border=\"1\" class=\"dataframe\">\n",
       "  <thead>\n",
       "    <tr style=\"text-align: right;\">\n",
       "      <th></th>\n",
       "      <th>First Word</th>\n",
       "      <th>Count</th>\n",
       "    </tr>\n",
       "  </thead>\n",
       "  <tbody>\n",
       "    <tr>\n",
       "      <th>5</th>\n",
       "      <td>apakah</td>\n",
       "      <td>953</td>\n",
       "    </tr>\n",
       "    <tr>\n",
       "      <th>2</th>\n",
       "      <td>kapan</td>\n",
       "      <td>919</td>\n",
       "    </tr>\n",
       "    <tr>\n",
       "      <th>6</th>\n",
       "      <td>apa</td>\n",
       "      <td>851</td>\n",
       "    </tr>\n",
       "    <tr>\n",
       "      <th>4</th>\n",
       "      <td>siapakah</td>\n",
       "      <td>528</td>\n",
       "    </tr>\n",
       "    <tr>\n",
       "      <th>7</th>\n",
       "      <td>berapakah</td>\n",
       "      <td>406</td>\n",
       "    </tr>\n",
       "    <tr>\n",
       "      <th>8</th>\n",
       "      <td>berapa</td>\n",
       "      <td>391</td>\n",
       "    </tr>\n",
       "    <tr>\n",
       "      <th>1</th>\n",
       "      <td>siapa</td>\n",
       "      <td>379</td>\n",
       "    </tr>\n",
       "    <tr>\n",
       "      <th>3</th>\n",
       "      <td>dimana</td>\n",
       "      <td>255</td>\n",
       "    </tr>\n",
       "    <tr>\n",
       "      <th>0</th>\n",
       "      <td>dimanakah</td>\n",
       "      <td>245</td>\n",
       "    </tr>\n",
       "    <tr>\n",
       "      <th>9</th>\n",
       "      <td>kapankah</td>\n",
       "      <td>238</td>\n",
       "    </tr>\n",
       "  </tbody>\n",
       "</table>\n",
       "</div>"
      ],
      "text/plain": [
       "  First Word  Count\n",
       "5     apakah    953\n",
       "2      kapan    919\n",
       "6        apa    851\n",
       "4   siapakah    528\n",
       "7  berapakah    406\n",
       "8     berapa    391\n",
       "1      siapa    379\n",
       "3     dimana    255\n",
       "0  dimanakah    245\n",
       "9   kapankah    238"
      ]
     },
     "execution_count": 9,
     "metadata": {},
     "output_type": "execute_result"
    }
   ],
   "source": [
    "# Ambil kolom 'question_text' dari dataset train\n",
    "questions = tydiqa_gold['train']['question_text']\n",
    "\n",
    "# Ambil kata pertama dari setiap pertanyaan\n",
    "first_words = [question.lower().split()[0] if question.strip() else None for question in questions]\n",
    "\n",
    "# Hitung jumlah kemunculan tiap kata pertama\n",
    "first_word_counts = Counter(first_words)\n",
    "\n",
    "# Konversi hasil ke DataFrame untuk tampilan lebih mudah\n",
    "first_word_df = pd.DataFrame(first_word_counts.items(), columns=[\"First Word\", \"Count\"]).sort_values(by=\"Count\", ascending=False)\n",
    "\n",
    "# Tampilkan hasil\n",
    "first_word_df.head(10)"
   ]
  },
  {
   "cell_type": "code",
   "execution_count": null,
   "metadata": {},
   "outputs": [],
   "source": [
    "## Beberapa contoh row dimana jawaban ground truth lumayan panjang\n",
    "long_answers_id = ['8223462044041100059-0', '8101241799056890701-0', '-1836421090681989358-7']"
   ]
  },
  {
   "cell_type": "markdown",
   "metadata": {},
   "source": [
    "## Menggunakan meta-llama_Llama-3.2-1B-Instruct-50_results.json sbg Proxy"
   ]
  },
  {
   "cell_type": "markdown",
   "metadata": {},
   "source": [
    "*Jika malas berurusan dengan library datasets*"
   ]
  },
  {
   "cell_type": "code",
   "execution_count": 5,
   "metadata": {},
   "outputs": [],
   "source": [
    "tydi_with_generated = pd.read_json(\"meta-llama_Llama-3.2-1B-Instruct-50_results.json\")"
   ]
  },
  {
   "cell_type": "markdown",
   "metadata": {},
   "source": [
    "### Mismatch antara jenis pertanyaan (dimana) dengan jenis jawaban (waktu)"
   ]
  },
  {
   "cell_type": "code",
   "execution_count": 10,
   "metadata": {},
   "outputs": [],
   "source": [
    "# Definisikan kata-kata pertama yang ingin dicari\n",
    "target_words = ['Dimana', 'dimanakah', 'Dimanakah', 'Dimankah', 'dimankah']\n",
    "\n",
    "# Ambil subset data di mana question_text diawali dengan salah satu kata di target_words\n",
    "filtered_data = [\n",
    "    {\"id\": qid, \"question_text\": question, \"answers\": answers}\n",
    "    for qid, question, answers in zip(tydiqa_gold['train']['id'], tydiqa_gold['train']['question_text'], tydiqa_gold['train']['answers'])\n",
    "    if question.split()[0] in target_words\n",
    "]\n",
    "\n",
    "# Konversi ke DataFrame untuk tampilan lebih mudah\n",
    "filtered_df = pd.DataFrame(filtered_data)"
   ]
  },
  {
   "cell_type": "code",
   "execution_count": 15,
   "metadata": {},
   "outputs": [
    {
     "name": "stdout",
     "output_type": "stream",
     "text": [
      "Jumlah row yg pertanyaan 'Dimana' malah dijawab dengan jawaban waktu: 18\n",
      "Persentase terhadap seluruh pertanyaan 'Dimana': 3.5502958579881656\n"
     ]
    },
    {
     "data": {
      "text/html": [
       "<div>\n",
       "<style scoped>\n",
       "    .dataframe tbody tr th:only-of-type {\n",
       "        vertical-align: middle;\n",
       "    }\n",
       "\n",
       "    .dataframe tbody tr th {\n",
       "        vertical-align: top;\n",
       "    }\n",
       "\n",
       "    .dataframe thead th {\n",
       "        text-align: right;\n",
       "    }\n",
       "</style>\n",
       "<table border=\"1\" class=\"dataframe\">\n",
       "  <thead>\n",
       "    <tr style=\"text-align: right;\">\n",
       "      <th></th>\n",
       "      <th>id</th>\n",
       "      <th>question_text</th>\n",
       "      <th>answers</th>\n",
       "    </tr>\n",
       "  </thead>\n",
       "  <tbody>\n",
       "    <tr>\n",
       "      <th>0</th>\n",
       "      <td>496955121539262633-33</td>\n",
       "      <td>dimanakah  Dr. Ernest François Eugène Douwes Dekker meninggal?</td>\n",
       "      <td>{'text': ['28 Agustus 1950'], 'start_byte': [45], 'limit_byte': [60]}</td>\n",
       "    </tr>\n",
       "    <tr>\n",
       "      <th>3</th>\n",
       "      <td>-2609773390563272077-2</td>\n",
       "      <td>Dimanakah Kucing Pallas pertama kali ditemukan ?</td>\n",
       "      <td>{'text': ['2008'], 'start_byte': [961], 'limit_byte': [965]}</td>\n",
       "    </tr>\n",
       "    <tr>\n",
       "      <th>24</th>\n",
       "      <td>-946255727274322126-4</td>\n",
       "      <td>dimanakah Joseph Patrick \"Joe\" Kennedy dilahirkan?</td>\n",
       "      <td>{'text': ['1858'], 'start_byte': [318], 'limit_byte': [322]}</td>\n",
       "    </tr>\n",
       "    <tr>\n",
       "      <th>28</th>\n",
       "      <td>-7749839855121808364-0</td>\n",
       "      <td>Dimanakah produksi film pertama dilakukan ?</td>\n",
       "      <td>{'text': ['abad 20'], 'start_byte': [434], 'limit_byte': [441]}</td>\n",
       "    </tr>\n",
       "    <tr>\n",
       "      <th>33</th>\n",
       "      <td>4442256442092795257-8</td>\n",
       "      <td>dimanakah Fiber optik pertama kali diciptakan?</td>\n",
       "      <td>{'text': ['1970'], 'start_byte': [2952], 'limit_byte': [2956]}</td>\n",
       "    </tr>\n",
       "  </tbody>\n",
       "</table>\n",
       "</div>"
      ],
      "text/plain": [
       "                        id  \\\n",
       "0    496955121539262633-33   \n",
       "3   -2609773390563272077-2   \n",
       "24   -946255727274322126-4   \n",
       "28  -7749839855121808364-0   \n",
       "33   4442256442092795257-8   \n",
       "\n",
       "                                                     question_text  \\\n",
       "0   dimanakah  Dr. Ernest François Eugène Douwes Dekker meninggal?   \n",
       "3                 Dimanakah Kucing Pallas pertama kali ditemukan ?   \n",
       "24              dimanakah Joseph Patrick \"Joe\" Kennedy dilahirkan?   \n",
       "28                     Dimanakah produksi film pertama dilakukan ?   \n",
       "33                  dimanakah Fiber optik pertama kali diciptakan?   \n",
       "\n",
       "                                                                  answers  \n",
       "0   {'text': ['28 Agustus 1950'], 'start_byte': [45], 'limit_byte': [60]}  \n",
       "3            {'text': ['2008'], 'start_byte': [961], 'limit_byte': [965]}  \n",
       "24           {'text': ['1858'], 'start_byte': [318], 'limit_byte': [322]}  \n",
       "28        {'text': ['abad 20'], 'start_byte': [434], 'limit_byte': [441]}  \n",
       "33         {'text': ['1970'], 'start_byte': [2952], 'limit_byte': [2956]}  "
      ]
     },
     "execution_count": 15,
     "metadata": {},
     "output_type": "execute_result"
    }
   ],
   "source": [
    "\n",
    "# List ID yang ingin dicari\n",
    "target_ids = [\n",
    "    '496955121539262633-33', '-2609773390563272077-2', '-946255727274322126-4', \n",
    "    '-7749839855121808364-0', '4442256442092795257-8', '199208750651388504-2', \n",
    "    '6542172453366557069-7', '4919195816976139224-0', '1443260107176351473-1', \n",
    "    '6273515731581201009-9', '-7557435993194156840-18', '-5596213448756892216-7',  \n",
    "    '-515183342052641630-0', '-4344805552053190465-2', '-1356951969628235591-3', \n",
    "    '132761720256571903-0', '733277053417590077-0', '8422091779176670015-4'\n",
    "]\n",
    "\n",
    "# Filter baris di mana kolom 'id' ada dalam target_ids\n",
    "wrong_where_q = filtered_df[filtered_df['id'].isin(target_ids)]\n",
    "num_wrong_where_q = wrong_where_q.shape[0]\n",
    "print(\"Jumlah row yg pertanyaan 'Dimana' malah dijawab dengan jawaban waktu:\", num_wrong_where_q)\n",
    "\n",
    "percent_of_wrong_where_q = num_wrong_where_q * 100 / filtered_df.shape[0]\n",
    "print(\"Persentase terhadap seluruh pertanyaan 'Dimana':\", percent_of_wrong_where_q)\n",
    "\n",
    "wrong_where_q.head()"
   ]
  },
  {
   "cell_type": "markdown",
   "metadata": {},
   "source": [
    "# EDA Mr. TyDi"
   ]
  },
  {
   "cell_type": "code",
   "execution_count": 49,
   "metadata": {},
   "outputs": [
    {
     "data": {
      "text/plain": [
       "DatasetDict({\n",
       "    train: Dataset({\n",
       "        features: ['query_id', 'query', 'positive_passages', 'negative_passages'],\n",
       "        num_rows: 4902\n",
       "    })\n",
       "    dev: Dataset({\n",
       "        features: ['query_id', 'query', 'positive_passages', 'negative_passages'],\n",
       "        num_rows: 1224\n",
       "    })\n",
       "    test: Dataset({\n",
       "        features: ['query_id', 'query', 'positive_passages', 'negative_passages'],\n",
       "        num_rows: 829\n",
       "    })\n",
       "})"
      ]
     },
     "execution_count": 49,
     "metadata": {},
     "output_type": "execute_result"
    }
   ],
   "source": [
    "mr_tydi = load_dataset(\"castorini/mr-tydi\", \"indonesian\")\n",
    "mr_tydi"
   ]
  },
  {
   "cell_type": "code",
   "execution_count": 58,
   "metadata": {},
   "outputs": [
    {
     "name": "stdout",
     "output_type": "stream",
     "text": [
      "Ditemukan 1 baris dengan query yang cocok:\n",
      "{'split': 'train', 'query_id': '349', 'query': 'dimanakah Joseph Patrick \"Joe\" Kennedy dilahirkan?', 'positive_passages': [{'docid': '12980#4', 'text': 'John Fitzgerald Kennedy lahir di 83 Beals Street, Brookline, Massachusetts, pada tanggal 29 Mei 1917[10] dari pasangan pebisnis/politikus Joseph Patrick \"Joe\" Kennedy, Sr. (1888–1969) dan filantropis Rose Elizabeth Fitzgerald (1890–1995). Joe adalah putra sulung pebisnis/politikus Patrick Joseph \"P. J.\" Kennedy (1858–1929) dan Mary Augusta Hickey (1857–1923). Rose adalah putri sulung Wali Kota Boston John Francis \"Honey Fitz\" Fitzgerald (1863–1950) dan Mary Josephine \"Josie\" Hannon (1865–1964). Keempat kakek-neneknya adalah anak-anak imigran Irlandia.[1]', 'title': 'John F. Kennedy'}], 'negative_passages': [{'docid': '203636#36', 'text': 'Karena nya filantropi dan persahabatan dekat dengan Francis Spellman, Uskup Agung New York (kemudian Kardinal), selama ini, Joseph Kennedy diinvestasikan sebagai ksatria dari Sovereign Orde Militer Malta, suatu kehormatan yang pada saat itu ia bersama dengan hanya selusin Amerika beberapa.', 'title': 'Joseph Patrick Kennedy, Sr.'}, {'docid': '203636#53', 'text': 'Ketika Jack ditanya tentang tingkat keterlibatan dan pengaruh bahwa ayahnya telah diselenggarakan di kemenangan presiden silet-tipis, JFK akan bercanda bahwa pada malam sebelum pemilu, ayahnya telah memintanya jumlah pasti orang menilainya dia akan perlu untuk menang: tidak ada cara dia membayar \"untuk tanah longsor\". Presiden Yohanes adalah kemenangan bagi Joe. Dia melihat itu sebagai langkah maju bukan hanya untuk anak, tetapi juga untuk seluruh keluarga Kennedy. Joe adalah seorang pria keluarga dan strategis dibangun citra keluarganya terhadap publik. Dia pernah berkata, \"Image adalah realitas\" dan presiden membingkai foto keluarga Kennedy.', 'title': 'Joseph Patrick Kennedy, Sr.'}, {'docid': '203636#34', 'text': 'Di kalangan pemerintah Inggris selama Blitz, Kennedy secara luas meremehkan sebagai mengalah. Dia mundur ke pedesaan selama pengeboman London oleh pesawat Jerman, pada saat Keluarga Kerajaan Inggris, Perdana Menteri, menteri, dan duta besar lainnya memilih untuk tinggal di London. (Hal ini mendorong satu mengipaskan di Kantor Luar Negeri Inggris mengatakan, \"Saya pikir bakung saya berwarna kuning sampai aku bertemu Joe Kennedy.\") Ketika publik Amerika dan pejabat pemerintahan Roosevelt membaca kutipan pada demokrasi yang \"selesai\", dan keyakinannya bahwa Pertempuran Britania itu bukan tentang \"memperjuangkan demokrasi\", semua itu menjadi hanya \"tidur\", mereka menyadari bahwa Kennedy tidak bisa dipercaya untuk mewakili Amerika Serikat. Dalam menghadapi kemarahan publik nasional, dan tekanan dari Departemen Roosevelt Negara, yang tidak lagi menginginkan dia, Kennedy mengajukan pengunduran diri akhir bulan November 1940.', 'title': 'Joseph Patrick Kennedy, Sr.'}, {'docid': '1158352#0', 'text': 'Patrick Joseph \"P. J.\" Kennedy (14 Januari 1858 - 18 Mei 1929) adalah seorang Amerika politisi. Dia adalah ayah dari Joseph P. Kennedy, Sr. dan ayah kakek korban Perang Dunia II Joseph P. Kennedy, Jr., Presiden John F. Kennedy, Senator Robert F. Kennedy, dan Senator Ted Kennedy.', 'title': 'P. J. Kennedy'}, {'docid': '203636#52', 'text': 'Joe koneksi dan pengaruh yang berubah secara langsung menjadi modal politik bagi kampanye senator dan presiden John, Robert dan Ted. Sejarawan Richard J. Whalen menjelaskan pengaruh Joe pada keputusan kebijakan John Kennedy dalam biografinya tentang Joseph Kennedy. Joe berpengaruh dalam menciptakan Kennedy Kabinet (Robert Kennedy sebagai Jaksa Agung meskipun ia tidak pernah berargumen atau mencoba sebuah kasus, misalnya). Namun, pada tahun 1961, Joe Kennedy menderita stroke yang ditempatkan lebih pembatasan pengaruhnya dalam karier politik anak-anaknya. Joe Kennedy memperluas Kennedy Compound, yang terus sebagai pusat utama kumpul-kumpul keluarga.', 'title': 'Joseph Patrick Kennedy, Sr.'}, {'docid': '1158361#0', 'text': 'Istri Bangsawan Rose Elizabeth Fitzgerald Kennedy (22 Juli 1890 — 22 Januari 1995) adalah seorang dermawan Amerika, istri Joseph Patrick \"Joe\" Kennedy, Sr, dan ibu dari sembilan anak, termasuk Joseph Patrick \"Joe\" Kennedy, Jr, Presiden John Fitzgerald \"Jack\" Kennedy, Senator Robert Francis \"Bobby\" Kennedy, dan Senator Edward Moore \"Ted\" Kennedy.', 'title': 'Rose Fitzgerald Kennedy'}, {'docid': '203636#57', 'text': 'Kategori:Keluarga Kennedy Kategori:John F. Kennedy Kategori:Politikus Amerika Serikat', 'title': 'Joseph Patrick Kennedy, Sr.'}, {'docid': '203636#4', 'text': 'Joseph Patrick Kennedy, Sr lahir di Boston, Massachusetts. Dia adalah anak sulung dari Patrick Joseph \"P. J.\" Kennedy dan Mary Augusta Hickey. Semua kakek-nenek Kennedy berimigrasi ke Massachusetts pada 1840-an untuk melarikan diri kelaparan Irlandia. Kennedy lahir dalam masyarakat yang sangat sektarian, di mana Katolik Irlandia dikeluarkan oleh kelas atas Boston Brahmana. Boston Irlandia menjadi demikian aktif di Partai Demokrat, termasuk PJ dan sejumlah kerabat.', 'title': 'Joseph Patrick Kennedy, Sr.'}, {'docid': '203636#47', 'text': 'Hubungan dekat Kennedy dengan Republik (GOP) Senator Joseph McCarthy memperkuat posisi keluarganya di kalangan Katolik Irlandia, namun melemah di antara liberal yang sangat menentang McCarthy. Bahkan sebelum McCarthy menjadi terkenal pada tahun 1950, Kennedy telah menjalin hubungan erat dengan Senator Partai Republik dari Wisconsin. Kennedy sering membawanya ke kompleks keluarganya di Hyannis Port sebagai tamu rumah pekan di akhir 1940-an. McCarthy pada satu titik tanggal Patricia Kennedy. Ketika McCarthy menjadi suara dominan anti-Komunisme dimulai pada tahun 1950, Kennedy menyumbang ribuan dolar untuk McCarthy, dan menjadi salah satu pendukung utamanya. Dalam perlombaan Senat tahun 1952, Kennedy tampaknya bekerja kesepakatan sehingga McCarthy, seorang Republikan, tidak akan membuat pidato kampanye untuk tiket GOP di Massachusetts. Sebagai imbalannya, Kongres John F. Kennedy, menjalankan untuk kursi Senat, tidak akan memberikan pidato anti-McCarthy bahwa pendukung liberalnya ingin mendengar. Pada tahun 1953 di Kennedy desakan McCarthy disewa Robert Kennedy (umur 27) sebagai anggota staf senior dari Senat subkomite investigasi, yang diketuai McCarthy. Pada tahun 1954, ketika Senat mengancam untuk mengutuk McCarthy, Senator John Kennedy menghadapi dilema. \"Bagaimana aku bisa menuntut Joe McCarthy dikecam untuk hal-hal yang dia lakukan ketika saudara saya sendiri pada stafnya?\" tanya JFK. Pada tahun 1954, bagaimanapun, Robert Kennedy dan ajudan kepala McCarthy, Roy Cohn, punya keluar jatuh dan Robert tidak lagi bekerja untuk McCarthy. John Kennedy pidato disusun menyerukan kecaman dari McCarthy tetapi ia tidak pernah disampaikan. Ketika Senat memilih untuk mengecam McCarthy pada 2 Desember 1954, Senator Kennedy berada di rumah sakit dan tidak pernah menunjukkan itu atau nanti bagaimana ia akan memilih. Joe Kennedy sangat mendukung McCarthy sampai akhir.', 'title': 'Joseph Patrick Kennedy, Sr.'}, {'docid': '203636#38', 'text': 'Joseph P. Kennedy (untuk sementara waktu) teman dekat dengan pengacara Yahudi terkemuka Felix Frankfurter, yang menjadi Keadilan Associate Mahkamah Agung pada bulan Januari 1939 dan tetap dalam posisi ini sampai 1962. Frankfurter membantu Kennedy mendapatkan putranya Joseph Jr dan John mengakui ke London School of Economics pada 1930-an, di mana mereka belajar di bawah Harold Laski, seorang intelektual Yahudi terkemuka dan terkemuka sosialis .', 'title': 'Joseph Patrick Kennedy, Sr.'}, {'docid': '1172412#1', 'text': 'Anak pertama dari Joseph P. Kennedy, Sr. adalah Joseph Patrick \"Joe\" Kennedy, Jr. yang diharapkan ayahnya untuk terjun di dunia politik dan menjadi presiden. Setelah Joe, Jr. tewas dalam Perang Dunia II, harapan menjadi presiden dialihkan ke putra kedua John Fitzgerald \"Jack\" Kennedy. Segera setelah terpilih sebagai presiden pada November 1960, Jack mengajak adik laki-lakinya, Robert Francis \"Bobby\" Kennedy dan Edward Moore \"Ted\" Kennedy untuk menempati jabatan-jabatan penting di pemerintah federal. Mereka menerima publisitas yang intens, sering kali menonjolkan penampilan mereka yang tampak muda, daya pikat, pendidikan, dan masa depan mereka di politik. Selama 64 tahun, terhitung dari tahun 1947 ketika Jack dilantik sebagai anggota Kongres hingga tahun 2011 saat Patrick Joseph Kennedy II pensiun dari Kongres, anggota klan Kennedy selalu menempati jabatan politik di Washington, D.C. (meski ada kekosongan kurang dari sebulan antara pengunduran diri Jack dari Senat dan pelantikannya sebagai presiden). Seperempat dari sejarah negara Amerika Serikat tidak terlepas dari aktifnya anggota keluarga Kennedy dalam politik. Kekosongan terjadi setelah Patrick pensiun dari Kongres pada tahun 2011 hingga disumpahnya Joseph P. Kennedy III sebagai anggota Kongres pada tahun 2013.', 'title': 'Keluarga Kennedy'}, {'docid': '203636#44', 'text': 'Kennedy mengatakan kepada wartawan Joe Dinneen:', 'title': 'Joseph Patrick Kennedy, Sr.'}, {'docid': '203636#37', 'text': 'Dengan ambisi sendiri untuk mencapai Gedung Putih di reruntuhan akibat perbuatan sendiri, Joseph Kennedy mengulurkan harapan besar untuk putra sulungnya, Joseph P. Kennedy, Jr, mencari kandidat presiden. Namun, Joseph Kennedy, Jr, yang telah menjadi seorang AS Angkatan Laut bomber percontohan, tewas selama Selat Inggris sementara usaha Operasi Aphrodite, seorang, cara baru berisiko tinggi untuk menggunakan pembom berat untuk menyerang situs rudal Jerman di Prancis, pada tahun 1944. Bomber nya sengaja diledakkan awal, sebelum Kennedy bisa menyelamatkan. Setelah berduka atas anaknya yang telah tiada, Joseph P. Kennedy, Sr, kemudian mengalihkan perhatiannya pada putra keduanya, John F. Kennedy, untuk menjalankan untuk presiden. Setelah menjabat sebagai anggota DPR dimulai pada tahun 1946, dan kemudian AS Senator mulai tahun 1952, Kennedy muda memasuki Pilpres 1960, dan menang.', 'title': 'Joseph Patrick Kennedy, Sr.'}, {'docid': '203636#49', 'text': 'Joe Kennedy adalah individu keras ambisius yang berkembang pada persaingan dan menang. Juga, di matanya, hadiah utama adalah presiden Amerika. Joe, Sr ingin anak pertamanya, Joe Jr menjadi presiden, tetapi setelah kematiannya pada Perang Dunia II, ia menjadi bertekad untuk membuat yang masih hidup putra tertua, Jack, presiden.', 'title': 'Joseph Patrick Kennedy, Sr.'}, {'docid': '1158352#1', 'text': 'Patrick Joseph adalah anak bungsu dari lima yang lahir dari imigran Irlandia Katolik Roma, Patrick Kennedy dan Bridget Murphy keduanya dari New Ross, County Wexford, dan menikah di Boston pada tanggal 26 September 1849. Putra sulungnya yang bernama John III, meninggal karena kolera ketika masih bayi. 10 bulan setelah kelahiran PJ, ayahnya Patrick juga meninggal akibat epidemi kolera di Boston Timur. Sebagai laki-laki satunya yang masih hidup, PJ adalah Kennedy pertama yang menerima pendidikan formal. Pada usia empat belas, PJ meninggalkan sekolah untuk bekerja di dermaga Boston sebagai buruh pelabuhan untuk membantu perekonomian ibunya dan tiga kakak perempuan.', 'title': 'P. J. Kennedy'}, {'docid': '203636#43', 'text': 'Pada bulan Agustus 1940, Kennedy khawatir bahwa masa jabatan ketiga sebagai Presiden Roosevelt akan berarti perang. Seperti yang dilaporkan Leamer, \"Joe percaya bahwa Roosevelt, Churchill, orang-orang Yahudi, dan sekutu mereka akan memanipulasi Amerika menjadi mendekati Armageddon.\" Namun, Kennedy mendukung masa jabatan ketiga Roosevelt sebagai imbalan atas dukungan Roosevelt Joseph Kennedy, Jr, dalam jangka untuk Gubernur Massachusetts pada tahun 1942. Namun, bahkan selama bulan-bulan paling gelap dari Perang Dunia II, Kennedy tetap \"lebih waspada\" Yahudi Amerika terkemuka, seperti Keadilan Asosiasi Felix Frankfurter, daripada dirinya Hitler.', 'title': 'Joseph Patrick Kennedy, Sr.'}, {'docid': '1158346#0', 'text': 'Patrick Kennedy (1823 – 1858) adalah ayah Patrick Joseph \"P. J.\" Kennedy, kakek Joseph Patrick \"Joe\" Kennedy, Sr., dan buyut Presiden Amerika Serikat ke-35, John Fitzgerald \"Jack\" Kennedy. Ia lahir di Dunganstown, County Wexford, Irlandia, dan berhijrah ke Amerika Serikat, menetap di Boston Timur, Massachusetts.', 'title': 'Patrick Kennedy'}, {'docid': '1172412#0', 'text': 'Keluarga Kennedy atau klan Kennedy merujuk kepada sebuah keluarga besar keturunan dari Joseph Patrick \"Joe\" Kennedy, Sr. dan Rose Elizabeth Fitzgerald yang berdarah Irlandia-Amerika. Keluarga ini berpengaruh di bidang pemerintahan dan politik Amerika Serikat terutama di Partai Demokrat. Anggota keluarga Kennedy banyak yang lulusan Universitas Harvard, dan berkontribusi untuk almamater mereka di Sekolah Pemerintahan John F. Kennedy. Kekayaan, keglamoran, penampilan mereka yang rata-rata fotogenik, serta keterlibatan mereka secara terus menerus dalam politik telah mengangkat nama keluarga ini hingga mencapai status sebagai sebuah ikon lebih dari setengah abad belakangan ini. Julukan yang kadang-kadang diberikan kepada keluarga Kennedy adalah \"Keluarga Kerajaan Amerika\".', 'title': 'Keluarga Kennedy'}, {'docid': '1158353#0', 'text': 'Mary Loretta Kennedy (6 Agustus 1892 - 18 November 1972) adalah anak ketiga dari empat bersaudara dan putri sulung lahir Joseph Patrick Kennedy dan Mary Augusta Hickey. Keponakan nya termasuk politisi Amerika John F. Kennedy, Robert F. Kennedy dan Ted Kennedy. Dia dibaptis di East Boston pada tanggal 18 Agustus 1892.', 'title': 'Mary Loretta Kennedy'}, {'docid': '203636#56', 'text': \"Dalam sejarah alternatif Novel Tanah berdasarkan Robert Harris, ditetapkan pada tahun 1964, Joseph P. Kennedy-bukan anaknya John F. Kennedy-adalah presiden Amerika Serikat dan akan tiba di Berlin untuk menyimpulkan perjanjian dengan Adolf Hitler. Joseph Kennedy juga memainkan peran penting sebagai karakter dalam Michael Dobbs 's fiksi rekening munculnya Winston Churchill, Winston Perang. Pa Keegan adalah versi fiksi dari Joe Kennedy di Richard Condon 's film thriller Musim Dingin Tewaskan. Dalam verson Film ( Musim Dingin Tewaskan), ia digambarkan oleh John Huston.\", 'title': 'Joseph Patrick Kennedy, Sr.'}, {'docid': '203636#5', 'text': 'Rumah PJ Kennedy adalah nyaman, berkat usahanya sukses sedan, investasi, dan peran berpengaruh dalam politik lokal. Ibunya mendorong Yusuf untuk menghadiri Boston Latin Sekolah, di mana Joe adalah seorang sarjana di bawah rata-rata tetapi sangat populer di kalangan teman-teman sekelasnya, memenangkan pemilihan sebagai ketua kelas dan bermain di sekolah bisbol tim.', 'title': 'Joseph Patrick Kennedy, Sr.'}, {'docid': '203636#51', 'text': 'Namun, Joe Kennedy masih melaju kampanye di belakang layar. Ia memainkan peran sentral dalam perencanaan strategi, penggalangan dana, dan membangun koalisi dan aliansi. Joe mengawasi pengeluaran dan untuk beberapa derajat strategi kampanye secara keseluruhan, membantu memilih biro iklan, dan tanpa henti di telepon dengan para pemimpin lokal dan negara partai, wartawan, dan pemimpin bisnis. Dia telah bertemu ribuan orang kuat dalam kariernya, dan sering disebut dalam chip untuk membantu anak-anaknya.', 'title': 'Joseph Patrick Kennedy, Sr.'}, {'docid': '12980#7', 'text': 'Bulan September 1931, Kennedy dikirimkan ke The Choate School di Wallingford, Connecticut untuk menyelesaikan kelas 9 sampai 12. Kakaknya, Joseph Patrick \"Joe\" Kennedy, Jr. (1915–1944), sudah bersekolah di Choate selama dua tahun dan menjadi bintang sepak bola sekaligus siswa terbaik. Jack menghabiskan tahun-tahun pertamanya di Choate di bawah bayang-bayang kakaknya dan memiliki perilaku melawan yang menarik perhatian teman-temannya. Tingkah mereka yang paling terkenal adalah meledakkan toilet duduk menggunakan kembang api berkekuatan besar. Dalam pertemuan kapel hari itu, kepala sekolah mereka yang disiplin, George St. John, membawa dudukan toilet tersebut dan mengeluhkan \"berandalan\" tertentu yang hendak \"meludah di laut kita\". Jack Kennedy yang keras kepala malah melanjutkan aksinya dan menamai kelompoknya \"The Muckers Club\". Salah satu anggotanya adalah teman sekamar Kennedy, Kirk LeMoyne \"Lem\" Billings.[12]', 'title': 'John F. Kennedy'}, {'docid': '203636#35', 'text': 'Sepanjang sisa perang, hubungan antara Kennedy dan Administrasi Roosevelt tetap tegang (terutama ketika Joseph P. Kennedy, Jr, belum pernah terjadi sebelumnya nominasi vokal menentang Presiden Roosevelt untuk masa jabatan ketiga, yang dimulai pada tahun 1941). Kennedy mungkin ingin mencalonkan diri sebagai presiden sendiri pada tahun 1940 atau lambat. Setelah efektif dihapus dirinya dari pentas nasional, Joseph P. Kennedy, Sr, duduk Perang Dunia II di sela-sela. Namun, Kennedy tidak tetap aktif di tempat yang lebih kecil dari reli Irlandia-Amerika dan Romawi Demokrat Katolik untuk memilih Roosevelt terpilih kembali untuk masa jabatan keempat pada tahun 1944. Mantan Duta Besar Kennedy mengaku bersemangat untuk membantu upaya perang, tetapi sebagai hasil dari kejanggalan sebelumnya, ia tidak dipercaya atau diundang untuk melakukannya.', 'title': 'Joseph Patrick Kennedy, Sr.'}, {'docid': '12980#142', 'text': 'Patrick datang ke Boston dan bekerja sebagai pekerja migran. Ia meninggal delapan atau sembilan tahun kemudian akibat kolera.[251] Mereka dikaruniai tiga putri dan dua putra. Putra sulungnya meninggal saat masih muda akibat kolera. Patrick meninggalkan istri dan empat anaknya. Anak termudanya adalah Patrick Joseph Kennedy.', 'title': 'John F. Kennedy'}, {'docid': '203636#0', 'text': 'Joseph Patrick \"Joe\" Kennedy, Sr. () adalah terkemuka Amerika pengusaha, investor, dan duta. Kennedy adalah seorang Irlandia Amerika dan merupakan ayah dari AS Presiden John F. Kennedy, Amerika Serikat Jaksa Agung dan Senator Robert F. Kennedy, Senator Amerika Serikat Edward M. Kennedy, perwira angkatan laut Joseph P. Kennedy , Jr, Special Olympics pendiri Eunice Kennedy Shriver, dan mantan Duta Besar untuk Irlandia Jean Kennedy Smith; kakek Perwakilan AS Joseph P. Kennedy III dan Patrick J. Kennedy II, dan patrilineal kakek buyut Perwakilan AS Joseph P. kennedy IV. Dia adalah anggota terkemuka dari Partai Demokrat dan dari Irlandia Amerika Katolik Irlandia masyarakat. Dia adalah Ketua perdana AS Securities and Exchange Commission (SEC), ditunjuk oleh Presiden Franklin D. Roosevelt (FDR), dan kemudian mengarahkan Maritim Komisi. Kennedy menjabat sebagai Duta Besar Amerika Serikat ke Inggris dari tahun 1938 sampai akhir 1940, termasuk bagian awal Perang Dunia II.', 'title': 'Joseph Patrick Kennedy, Sr.'}, {'docid': '203636#29', 'text': 'Sepanjang tahun 1938, sedangkan penganiayaan Nazi dari Yahudi di Jerman dan Austria diintensifkan, Kennedy berusaha untuk mengatur pertemuan dengan Adolf Hitler. Sesaat sebelum pengeboman udara Nazi kota-kota Inggris dimulai pada bulan September 1940, Kennedy sekali lagi meminta untuk mengadakan pertemuan pribadi dengan Hitler, lagi tanpa persetujuan dari Departemen Luar Negeri, \"untuk membawa pemahaman yang lebih baik antara Amerika Serikat dan Jerman \". Telah menduga bahwa Kennedy juga memiliki alasan pribadi untuk ingin menghindari perang, \"Dia takut untuk kehidupan tiga putra sulungnya, Joe, Jack dan Bobby, yang semuanya atau segera akan memenuhi syarat untuk melayani.\"', 'title': 'Joseph Patrick Kennedy, Sr.'}, {'docid': '203636#1', 'text': 'Lahir dari keluarga politik di Timur Boston, Massachusetts, Joseph P. Kennedy, Sr dididik di Boston Latin Sekolah dan Universitas Harvard, dan memulai karier di bidang keuangan, membuat keberuntungan besar sebagai pasar saham dan investor komoditas dan dengan berinvestasi di real estate dan berbagai industri.', 'title': 'Joseph Patrick Kennedy, Sr.'}, {'docid': '203636#50', 'text': 'Joe Kennedy diserahkan ke bayang-bayang politik setelah sambutannya pada Perang Dunia II (\"Demokrasi selesai\"), dan ia tetap merupakan tokoh sangat kontroversial di kalangan warga AS karena surat kepercayaan tersangka bisnis, Katolik Romawi, oposisinya terhadap kebijakan luar negeri Roosevelt , dan dukungannya untuk Joseph McCarthy. Akibatnya, kehadirannya dalam kampanye presiden John F. Kennedy harus meremehkan. Memiliki dia dalam sorotan akan menyakiti John, sehingga terlihat seolah-olah itu ayahnya yang mencalonkan diri sebagai presiden.', 'title': 'Joseph Patrick Kennedy, Sr.'}]}\n"
     ]
    }
   ],
   "source": [
    "from datasets import load_dataset\n",
    "\n",
    "# Load dataset\n",
    "mr_tydi = load_dataset(\"castorini/mr-tydi\", \"indonesian\")\n",
    "\n",
    "# Query yang dicari\n",
    "target_query = 'dimanakah Joseph Patrick \"Joe\" Kennedy dilahirkan?'\n",
    "\n",
    "# Variabel untuk menyimpan hasil\n",
    "matching_rows = []\n",
    "\n",
    "# Periksa setiap split dalam dataset\n",
    "for split_name, split_data in mr_tydi.items():\n",
    "    for row in split_data:\n",
    "        if row[\"query\"] == target_query:\n",
    "            matching_rows.append({\"split\": split_name, **row})\n",
    "\n",
    "# Tampilkan hasil\n",
    "if matching_rows:\n",
    "    print(f\"Ditemukan {len(matching_rows)} baris dengan query yang cocok:\")\n",
    "    for row in matching_rows:\n",
    "        print(row)\n",
    "else:\n",
    "    print(\"Tidak ditemukan baris dengan query yang cocok.\")"
   ]
  },
  {
   "cell_type": "markdown",
   "metadata": {},
   "source": [
    "#### Memahami kolom dan nilai dari Mr TyDi"
   ]
  },
  {
   "cell_type": "code",
   "execution_count": 53,
   "metadata": {},
   "outputs": [
    {
     "name": "stdout",
     "output_type": "stream",
     "text": [
      "{'query_id': '1922', 'query': 'kapan Nokia berdiri ?', 'positive_passages': [{'docid': '26149#1', 'text': 'Kata Nokia berasal dari nama sebuah komunitas yang tinggal di sungai Emakoski di negara Finlandia Selatan. Nokia didirikan sebagai perusahaan penggilingan pulp oleh Fredrik Idestam pada tahun 1865. Perusahaan Karet Finlandia kemudian mendirikan pabriknya di kawasan sekitarnya pada awal abad ke-20 dan mulai menggunakan merek Nokia.', 'title': 'Nokia'}], 'negative_passages': [{'docid': '603582#0', 'text': 'Nokia N78 adalah produk telepon genggam yang dirilis oleh perusahaan Nokia. Telepon genggam ini memiliki dimensi 113 x 49 x 15.1 mm dengan berat 101.8 gram. Yang membuat ponsel ini terlihat futuristik adalah adanya penggabungan desain dari nokia Nokia N73 dan Nokia N77 menjadikan Nokia N78 menarik berkat desainer professional, Joeske Schellen.', 'title': 'Nokia N78'}, {'docid': '444657#0', 'text': 'Ovi by Nokia adalah merek layanan Internet Nokia yang dapat digunakan dari peranti bergerak, komputer (melalui Nokia Ovi Suite) atau situs web (Ovi.com). Nokia berfokus pada lima bidang layanan kunci: permainan, peta, media, pengiriman pesan, dan musik. Ovi ditujukan untuk dapat menyertakan pihak ketiga, seperti operator dan layanan pihak ketiga seperti Flickr. Dengan diumumkannya API Ovi Maps Player , Nokia telah mulai mengembangkan layanan mereka menjadi suatu platform yang memungkinkan pihak ketiga untuk menggunakan layanan Ovi Nokia. Ovi memiliki peranan bagi langkah Nokia untuk masuk lebih dalam ke dunia layanan Internet yang menyebabkannya harus bersaing langsung dengan Microsoft, Google, dan Apple Inc. .\\nSignifikansinya adalah bahwa Nokia bergerak lebih dalam ke dalam dunia servis internet, di mana persaingan dengan Microsoft, Google, dan Apple akan tidak dapat dihindarkan. Ovi berasal dari bahasa Finlandia yang berarti “pintu”. Hingga 28 Februari 2010 terdapat hampir 1,5 juta download setiap harinya di seluruh penjuru dunia.', 'title': 'Ovi (Nokia)'}, {'docid': '1438972#1', 'text': 'Didirikan pada 24 Juni 1998 sebagai bentuk kerja sama antara Ericsson, Nokia, Motorola, dan Psion untuk menguasai pangsa pasar PDA dan perangkat seluler. Sepuluh tahun setelah didirikan, pada 24 Juni 2008, Nokia mengumumkan akan membeli saham perusahan ini dengan biaya sebesar €264 juta.', 'title': 'Symbian Ltd.'}, {'docid': '26149#13', 'text': 'Kategori:Perusahaan Finlandia Kategori:Perusahaan telekomunikasi Kategori:Perusahaan yang didirikan tahun 1865', 'title': 'Nokia'}, {'docid': '443445#0', 'text': 'Nokia 3330 adalah sebuah telepon genggam GSM 900/1800, dengan antena dalam, keluaran Nokia. Telepon genggam ini diluncurkan pada tahun 2001 untuk melengkapi fitur Nokia 3310 yang sejenis. Tapi pada kenyataannya Nokia 3310, yang diluncurkan setahun lebih awal, yang menjadi pesaing produk ini di pasar telepon genggam khususnya di Indonesia. Kesamaan desain bentuk luar, fitur yang nyaris menyerupai, dan harga yang lebih murah karena lebih dahulu diluncurkan menjadi beberapa faktor yang menyebabkan Nokia 3310 tetap bersaing dengan Nokia 3330.', 'title': 'Nokia 3330'}, {'docid': '2498851#0', 'text': 'HMD Global Oy, berjenama HMD, adalah perusahaan Finlandia yang berafiliasi dengan Nokia. Sejak beroperasi mulai Desember 2016, perusahaan ini mengembangkan sekaligus memasarkan perangkat telepon seluler dan telepon pintar dengan merek \"Nokia\" melalui kesepakatan lisensi. Perusahaan ini didirikan sebagai penerus bisnis telepon seluler non-pintar Microsoft Mobile yang dijual Nokia pada tahun 2014. HMD memiliki hubungan \"kerja sama erat\" dengan Google dan menggunakan sistem operasi Android untuk produk-produk telepon pintarnya, sedangkan yang non-pintar kebanyakan menggunakan platform Series 30+. Adapun merek HMD hanya digunakan untuk kepentingan korporat dan tidak dimunculkan di iklan, sementara nama Nokia Mobile digunakan di media sosial.', 'title': 'HMD Global'}, {'docid': '443214#0', 'text': 'Nokia N97 Mini adalah telepon seluler buatan Nokia yang dirilis pada Oktober 2009. Nokia N97 Mini ini merupakan versi minimalis dari telepon genggam pendahulunya, Nokia N97.', 'title': 'Nokia N97 Mini'}, {'docid': '1459837#0', 'text': 'Nokia X adalah ponsel cerdas tingkat menengah yang dikembangkan oleh Nokia, diperkenalkan sebagai bagian dari keluarga Nokia X yang baru pada tanggal 24 Februari 2014. Nokia X menjalankan versi Android yang dimodifikasi (bercabang), yang disebut sebagai platform perangkat lunak Nokia X. Perangkat dikirim pada hari yang sama dengan pembukaan, dengan Nokia menargetkan produk untuk pasar negara berkembang. Saat ini dijual dan dikelola oleh Microsoft Mobile. Pada tanggal 17 Juli 2014, Microsoft mengumumkan bahwa mereka akan menghentikan lini.', 'title': 'Nokia X'}, {'docid': '444646#0', 'text': 'Nokia Ovi Suite adalah perangkat lunak untuk mengelola dan mentransfer konten antara ponsel Nokia dan komputer. Nokia Ovi Suite dapat digunakan untuk memindahkan pesan, kontak, foto, musik dan aplikasi ke dalam komputer. Perangkat lunak ini juga dapat digunakan untuk mensinkronkan ponsel Nokia dengan komputer, memperbarui ponsel Nokia dengan perangkat lunak terbaru, dan menjaga hilangnya konten penting dari ponsel Nokia.', 'title': 'Nokia Ovi Suite'}, {'docid': '26149#11', 'text': 'Nokia Lumia 920 dan Nokia N9. Produk telepon cerdas Nokia. Nokia 3530, salah satu produk telepon genggam Nokia. Beberapa tipe telepon genggam yang diproduksi oleh Nokia. Beberapa tipe telepon genggam yang diproduksi oleh Nokia.', 'title': 'Nokia'}, {'docid': '1459837#9', 'text': 'Nokia X banyak dikritik karena tidak memiliki tombol home, tetapi kesalahan sedang diperbaiki di ponsel Nokia X berikutnya. Nokia X2 yang baru saja diperkenalkan telah memperbaiki masalah tersebut.Sedangkan kritik lainnya adalah karena Nokia x tidak memiliki aplikasi \"store \"resmi milik android,yaitu Play store dan malah digantikan oleh aplikasi dari pihak Nokia yaitu Nokia store.', 'title': 'Nokia X'}, {'docid': '443447#0', 'text': 'Nokia 5300 Xpress Music adalah salah satu telepon genggam yang di keluarkan oleh perusahaan ponsel Nokia. Nokia 5300 XpressMusic dilengkapi dengan musik, yang dapat dinikmati melalui MP3 player, selain itu Nokia 5300 mempunyai radio FM terpadu. Nokia 5300 ini dirancang dengan daya tarik teknologi modern dan Nokia 5300 ini merupakan ponsel geser.', 'title': 'Nokia 5300'}, {'docid': '337154#1', 'text': 'Perusahaan telekomunikasi raksasa Nokia didirikan oleh Fredrik Idestam tahun 1865 di kota ini.', 'title': 'Nokia, Finlandia'}, {'docid': '383079#0', 'text': 'Nokia 6630 adalah sebuah telepon pintar berbasis 3G buatan Nokia yang dirilis pada November 2004. Ponsel ini merupakan Nokia Symbian UI60. Secara fisik tampilan layarnya tidak jauh berbeda dengan ponsel Nokia Symbian lainnya yang memiliki resolusi 176x208 piksel. Namun, tampilan layar yang digunakan terasa lebih bening daripada beberapa ponsel Nokia sejenis, Respons layar juga lebih cepat, sehingga menunjukkan bahwa kemampuan prosesor yang digunakan memang lebih cepat dibanding produk sebelumnya. Nokia tetap menyebut Nokia 6630 ini sebagai ponsel dengan Series 60. Namun, dengan berbagai pengembangan yang dilakukan pada interface ini, maka disebutlah ponsel ini sebagai Series 60 Second Edition. Tentu saja kode Second Edition ini menandakan ponsel ini memiliki beberapa fitur tambahan yang tidak dimiliki ponsel dengan Series 60 edisi pertama.', 'title': 'Nokia 6630'}, {'docid': '442841#0', 'text': 'Nokia PC Suite adalah perangkat lunak yang digunakan untuk menyambungkan ponsel Nokia dengan PC yang dijalankan oleh sistem operasi Microsoft Windows. Perangkat lunak ini dapat digunakan untuk mentransfer musik, foto, dan aplikasi. Nokia PC Suite juga dapat digunakan untuk mengirim SMS (Short Message Service) atau digunakan sebagai modem untuk dihubungkan ke internet. Ponsel Nokia dapat dihubungkan ke PC dengan menggunakan kabel USB, Bluetooth, ataupun inframerah. Nokia PC Suite merupakan perangkat lunak yang dimiliki dan dibutuhkan untuk mengakses aspek tertentu dari ponsel Nokia. Nokia PC Suite menyediakan alat bantu untuk mengatur ponsel Nokia pada PC. Nokia PC Suite dapat digunakan dengan ponsel Nokia yang kompatibel. Namun, tidak semua fitur dan aplikasi Nokia PC Suite dapat digunakan dengan semua model ponsel.', 'title': 'Nokia PC Suite'}, {'docid': '739061#0', 'text': 'Nokia n8 lupa sandi\\nNokia N8 adalah produk telepon genggam yang dirilis oleh perusahaan Nokia. Ponsel N8 buatan Nokia ini adalah termasuk ponsel yang dalam kategori telepon pintar (\"smart phone\").', 'title': 'Nokia N8'}, {'docid': '1459837#8', 'text': 'Hanya dua versi Nokia X yang masuk ke pasar Indonesia yaitu Nokia X dan Nokia XL. Nokia XL mulai dipasarkan di Indonesia pada tanggal 13 Juni 2014. Pada awalnya Nokia XL dijual seharga Rp 2,2 juta, namun akhirnya harga jual itu diturunkan menjadi Rp 1.999.000.', 'title': 'Nokia X'}, {'docid': '1134295#0', 'text': 'Nokia Lumia 925 adalah sebuah ponsel pintar yang dikembangkan oleh Nokia berbasis sistem operasi Windows Phone 8. Ia diumumkan pada 14 Mei 2013, digambarkan sebagai \"penafsiran baru\" dari Nokia Lumia 920 dan diperkirakan akan dipasarkan pada Juni 2013. Dibandingkan dengan Nokia Lumia 920 yang berbobot 185 gram dengan ketebalan 10,7mm, Nokia Lumia 925 beratnya hanya 139gm dan ketebalan 8,5mm.', 'title': 'Nokia Lumia 925'}, {'docid': '1107038#7', 'text': 'Dalam hal komunikasi, Nokia Asha 308 memiliki klien email seperti \"OMA E-mail Notification v1.0\", \"Hotmail\", \"Yahoo! Mail\", \"Nokia Messaging\", \"Gmail\", dan \"E-mail Nokia\". Protokol email Nokia Asha 308 terdiri dari SMTP, IMAP4, IMAPS, dan POP3.\\nNokia Asha 308 memiliki fitur email yang selalu \"up-to-date\", multi akun email sekaligus, lampiran email, pemberitahuan email OMA, dan tampilan lampiran email. Layanan olahpesan cepat yang didukung oleh \"Google Talk\", \"Twitter\", \"Facebook Chat\", \"MySpace\", \"Windows Live Messenger\", dan \"Nokia Chat\".', 'title': 'Nokia Asha 308 Dual SIM'}, {'docid': '735021#0', 'text': 'Nokia 1110 dan Nokia 1110i Ponsel GSM low-end yang dijual oleh Nokia. 1110 Dirilis pada tahun 2005; 1110i dirilis pada tahun 2006. Keduanya ditujukan untuk pengguna telepon seluler pertama kali. Dalam pandangan Nokia, 1110i memiliki keuntungan kemudahan penggunaan, kehandalan dan harga yang rendah. Ponsel ini sangat mirip dengan Nokia 1100.', 'title': 'Nokia 1110'}, {'docid': '324294#3', 'text': 'Nokia N81 dilengkapi dengan tombol navigasi lima arah untuk memilih menu. Ada sesuatu yang unik pada ponsel ini. Bagian tengah tombol navigasi dapat berfungsi sebagai navy wheel, seperti yang digunakan pada iPod. Namun fungsi ini hanya bisa berjalan untuk fitur pemutar musik. Dengan sapuan jari di bagian tengah tombol tersebut, pengguna bisa memilih musik yang diinginkan. Jika tidak ingin menggunakan fungsi navy wheel, bisa di nonaktifkan pada menu pengaturan telepon.\\nTampilan antar muka yang digunakan pada Nokia N81\\nNokia N81 menggunakan tampilan antar muka Symbian S60 3rd edition, sama dengan Nokia kebanyakan dan user friendly saat dioperasikan. Tampilan ini bisa diperluas dengan Symbian S60. Nokia N81 bisa bekerja dengan internet service milik Nokia yang disebut Ovi untuk mendownload lagu dari Nokia Music Store dan games dari N-Gage.', 'title': 'Nokia N81'}, {'docid': '270286#8', 'text': 'Sedangkan contoh dari handphone yang mendukung fitur tekan untuk bicara di Indonesia antara lain:\\nNokia N95 Smartphone, Nokia N90, Nokia E61, Nokia E50, Nokia 6131, Nokia 6230, Nokia 6630, Nokia 6300, Nokia 6500, dan produk nokia lainnya yang telah menyupport fitur ini dan memiliki kemampuan 2G-3,5G. Merk lainnya antara lain: Sony Ericsson W950i, Motorola KZR K1, Motorola RIZR Z3, Motorola MOTOSLVR L6, RIM Blackberry 8800.', 'title': 'Tekan untuk bicara'}, {'docid': '444657#1', 'text': 'Nokia Ovi Suite memberikan fasilitas bagi pengguna handphone Nokia untuk mengorganisir dan berbagi foto mereka serta data \"PIM\" antara PC dan \"handset\" mereka. Nokia Ovi Suite adalah generasi selanjutnya dari Nokia PC Suite dan secepatnya Nokia Ovi Suite akan menjadi satu-satunya aplikasi komputer yang ditawarkan oleh Nokia. Iklan komersial Nokia Ovi Suite diluncurkan pada pukul 3.46 tanggal 03-5. Nokia Ovi Suite yang kompatibel dengan MAC OS X diumumkan pada November 2008. Handphone Nokia dapat dihubungkan dengan komputer Mac dengan aplikasi Apple’s iSync.', 'title': 'Ovi (Nokia)'}, {'docid': '444657#11', 'text': 'Nokia Ovi Player, yang sebelumnya dikenal dengan Nokia Music PC Client, adalah software pemutar dan manajemen musik untuk PC. Nokia Music Player diperlukan untuk mengakses Nokia Music Store dan layanan Nokia Comes With Music. Download Nokia Ovi Player tersedia dari http://www.nokia.co.id/layanan-dan-aplikasi/hiburan. Nokia Ovi Player memberikan fasilitas kepada penggunanya untuk mengunduh lagu dari \"music stores\" dan menyediakan fasilitas transfer lagu yang mudah ke handphone atau MP3 Player yang mendukung MTP over standard USB.', 'title': 'Ovi (Nokia)'}, {'docid': '1466970#0', 'text': 'Nokia XL adalah sebuah ponsel pintar yang dirilis oleh Nokia. Ponsel pintar ini menjalankan versi Android yang dimodifikasi (bercabang) dengan layanan Nokia sendiri, sebagai bagian dari keluarga Nokia X. Ini adalah salah satu dari tiga perangkat Android dari Nokia, perangkat pertama mereka pada platform Nokia X atau nokia dengan sistem operasi android. Saat ini dijual dan dikelola oleh Microsoft Mobile. Nokia XL mulai dipasarkan di Indonesia pada tanggal 13 Juni 2014. Pada awalnya Nokia XL dijual seharga Rp 2,2 juta, namun akhirnya harga jual itu diturunkan menjadi Rp 1.999.000.', 'title': 'Nokia XL'}, {'docid': '1466970#2', 'text': \"Laporan menyarankan hanya Android layar sentuh 4-inci menjalankan Nokia X akan diresmikan namun Nokia juga mengumumkan 'keluarga Nokia X' yang terdiri dari Nokia X, Nokia X+ dan Nokia XL.\", 'title': 'Nokia XL'}, {'docid': '846144#0', 'text': 'Nokia 2110 adalah telepon genggam yang dibuat oleh perusahaan telekomunikasi Nokia, Finlandia, pertama kali diumumkan pada tahun 1994. Ini merupakan telepon genggam pertama dari Nokia yang menggunakan nada dering nokia. Versi baru dari seri ini adalah Nokia 2110i yang datang dengan kapasitas memori yang lebih besar dan sebuah kenop antena yang cukup menonjol. Seri ini dirilis pada tahun 1996.', 'title': 'Nokia 2110'}, {'docid': '320265#1', 'text': 'Perusahaan ini diumumkan pendiriannya pada tanggal 19 Juni 2006. Identitas Nokia Networks diciptakan oleh perusahaan \"branding\" Moving Brands yang berkantor di London dan Tokyo, dalam waktu 2 bulan dan diluncurkan pertama kali pada 3GSM \"World Congress\" di Barcelona pada bulan Februari 2007.', 'title': 'Nokia Networks'}, {'docid': '846141#0', 'text': 'Nokia 2651 adalah produk telepon genggam pertama yang dirilis oleh perusahaan Nokia dengan tingkat clamshell. Ini digambarkan oleh perusahaan Nokia sebagai \"gaya lipatan untuk setiap kesempatan dan setiap anggaran\" yang ditulis dalam situs resminya. Meski cukup populer di pasar Amerika Latin, tidak ada satupun operator besar di Amerika Serikat yang menunjukkan minatnya dan Nokia 2651 hampir tidak berkesan di pasaran Amerika Serikat. Versi Eropa dari telepon genggam ini adalah Nokia 2650', 'title': 'Nokia 2651'}]}\n",
      "\n",
      "{'query_id': '2307', 'query': 'Bagaimanakah sistem pemerintahan Uni Soviet ?', 'positive_passages': [{'docid': '8104#0', 'text': 'Uni Soviet (Russian: Сове́тский Сою́з, Sovétskiĭ Soyúz) atau Uni Republik Sosialis Soviet, disingkat URSS (Russian: Сою́з Сове́тских Социалисти́ческих Респу́блик, Soyúz Sovétskikh Sotsialistícheskikh Respúblik; disingkat CCCP, SSSR), adalah negara sosialis yang pernah ada antara tahun 1922–1991 di Eurasia.', 'title': 'Uni Soviet'}], 'negative_passages': [{'docid': '722730#0', 'text': 'Baku Metro (Azerbaijan: \"Bakı Metropoliteni\") adalah sebuah sistem angkutan cepat yang melayani kota Baku, ibu kota dari Azerbaijan. Pertama kali dibuka pada tahun 1967, pada masa pemerintahan Uni Soviet, sistem ini memiliki kelengkapan sama seperti sebagian besar sistem bekas Soviet, termasuk stasiun pusat yang sangat dalam, dekorasi yang menggabungkan motif nasional Azerbaijan dengan ideologi Soviet. Saat ini sistem memiliki 36,7\\xa0km jalur rel dalam tiga jalur dengan 25 stasiun.', 'title': 'Baku Metro'}, {'docid': '1158786#0', 'text': 'Kepemimpinan bersama (, \"kollektivnoye rukovodstvo\") atau kolektivisme kepemimpinan (, \"kollektivnost rukovodstva\") merupakan bentuk kepemimpinan yang dianggap ideal dalam pemerintahan di eks-Uni Soviet dan negara sosialis lainnya yang berlandaskan komunisme. Bentuk kepemimpinan ini membagi rata kekuasaan dan fungsi pemerintahan kepada Politbiro, Komite Pusat, dan Dewan Menteri untuk mencegah upaya pembentukan sistem otokrasi oleh pemimpin Soviet sebagaimana yang terjadi pada masa kepemimpinan Josef Stalin. Di tingkat nasional, inti kepemimpinan bersama secara resmi ada di Komite Pusat Partai Komunis Uni Soviet. Kepemimpinan bersama bercirikan adanya pembatasan kekuasaan Sekretaris Jenderal dan Ketua Dewan Menteri dengan menambah kekuasaan bagi lembaga kolektif seperti politbiro.', 'title': 'Kepemimpinan bersama di Uni Soviet'}, {'docid': '8104#1', 'text': 'Uni Soviet menganut sistem politik satu partai yang dipegang oleh Partai Komunis hingga 1990.[1] Walaupun Uni Soviet sebenarnya adalah suatu kesatuan politik dari beberapa republik Soviet dengan ibu kota di Moskwa, nyatanya Uni Soviet menjelma menjadi negara yang pemerintahannya sangat terpusat dan menerapkan sistem ekonomi terencana.', 'title': 'Uni Soviet'}, {'docid': '8104#26', 'text': 'Penyensoran media yang tak lagi ketat akibat glasnost menyebabkan Partai Komunis tidak dapat berbuat banyak saat media mulai menyingkap masalah-masalah sosial dan ekonomi yang telah lama disangkal dan ditutup-tutupi oleh pemerintah. Masalah seperti perumahan yang buruk, alkoholisme, penyalahgunaan obat-obatan, polusi, pabrik-pabrik yang sudah ketinggalan zaman sejak masa Stalin dan Brezhnev, serta korupsi yang sebelumnya diabaikan oleh media resmi, kini mendapatkan perhatian yang semakin besar. Laporan-laporan media juga menyingkap kejahatan yang dilakukan oleh rezim Stalin seperti gulag dan Pembersihan Besar-Besaran. Selain itu, perang di Afganistan dan kekeliruan penanganan Bencana Chernobyl semakin merusak citra pemerintah. Keyakinan masyarakat terhadap sistem pemerintahan Soviet semakin melemah sehingga mengancam integritas Uni Soviet.', 'title': 'Uni Soviet'}, {'docid': '124610#55', 'text': 'Kebijakan pendudukan Afganistan telah dikritik di Uni Soviet akibat korban jiwa dan kerugian ekonomi yang besar. Leonid Brezhnev meninggal pada tahun 1982, dan setelah 2 penerus yang tidak berkuasa lama, Mikhail Gorbachev mengambil alih pemerintahan pada Maret 1985. Saat Gorbachev mulai membuka sistem kenegaraan Uni Soviet kepada Dunia, tampak jelas bahwa Uni Soviet sedang mencari cara untuk mundur dari Afganistan tanpa perlu menanggung malu.', 'title': 'Perang Soviet–Afganistan'}, {'docid': '216900#5', 'text': 'Pada 1964, oposisi dalam Politbiro dan Komite Pusat memimpin penggulingan Khrushchev dari jabatan Sekretarias Tingkat Satu. Leonid Brezhnev menggantikan Khrushchev pada jabatan sebagai bagian dari kekuasaan kolektif lainnya, bersama dengan Perdana Menteri Alexei Kosygin dan lain-lain. Jabatan tersebut kembali berganti nama menjadi Sekretaris Jenderal pada 1966. Kepemimpinan kolektif membatasi kekuasaan Sekjen pada Era Brezhnev. Pengaruh Brezhnev meningkat sepanjang 1970an karena ia dapat meraih dukungan dengan menghindari reformasi-reformasi radikal apapun. Yuri Andropov dan Konstantin Chernenko memerintah negara tersebut dengan cara yang sama dengan hal yang dilakukan oleh Brezhnev. Mikhail Gorbachev memerintah Uni Soviet sebagai Sekjen sampai 1990, saat Partai Komunis kalah atas monopoli kekuasaannya pada sistem politik. Jabatan Presiden Uni Soviet didirikan agar Gorbachev tetap memegang jabatannya sebagai pemimpin Uni Soviet. Setelah kegagalan kudeta Agustus 1991, Gorbachev mundur dari jabatan Sekjen. Ia digantikan oleh deputinya, Vladimir Ivashko, yang hanya menjabat selama lima hari sebagai Pelaksana Jabatan Sekjen sebelum Boris Yeltsin, Presiden Rusia, menangguhkan seluruh kegiatan dalam Partai Komunis. Setelah pencekalan partai tersebut, Persatuan Partai-partai Komunis – Partai Komunis Uni Soviet didirikan oleh Oleg Shenin pada 1993. Pengerjaan partai tersebut adalah sebagai wadah karya untuk memulihkan dan merestorasi Partai Komunis Uni Soviet. Organisasi tersebut memiliki para anggota dari seluruh bekas republik Soviet.', 'title': 'Sekretaris Jenderal Partai Komunis Uni Soviet'}, {'docid': '1128333#2', 'text': 'Dalam periode antara pembentukan Uni Soviet pada tanggal 30 Desember 1922 hingga pembentukan lembaga pemerintahan resminya yang pertama pada tanggal 6 Juli 1923, Pemerintah RSFS Rusia bertindak sebagai lembaga pemerintah sementara di Uni Soviet.', 'title': 'Pemerintah Uni Soviet'}, {'docid': '2149993#0', 'text': 'De-Stalinisasi (Rusia: десталинизация, \"Destalinizatsiya\") merujuk kepada proses reformasi politik di Uni Soviet yang terjadi setelah kematian pemimpin jangka panjang Joseph Stalin pada 1953. Reformasi tersebut terdiri dari pengubahan atau penghapusan lembaga-lembaga penting yang membantu Stalin berkuasa; kultus personalitas yang mengelilinginya, sistem politik Stalinis, dan sistem kamp buruh Gulag, yang semuanya dibuat dan didominasi olehnya sebagai Sekretaris Jenderal, dan gelar-gelar lainnya, dari 1922 sampai 1952. Stalin diteruskan oleh kepemimpinan kolektif setelah kematiannya pada Maret 1953, yang terdiri dari Georgy Malenkov, Perdana Menteri Uni Soviet; Lavrentiy Beria, kepala Kementerian Dalam Negeri; dan Nikita Khrushchev, Sekretaris Pertama Komite Pusat Partai Komunis Uni Soviet (KPPUS). Orang-orang tersebut semuanya adalah Stalinis loyal, namun mereka juga menyadari bahwa keberadaan Stalinisme mengancam setiap orang, bahkan kaum loyalis paling papan atas, dengan eksekusi arbitrasi. Mereka melakukan proses peniadaan pemerintahan satu orang dan merehabilitas beberapa orang yang diperlakukan tidak semestinya.', 'title': 'De-Stalinisasi'}, {'docid': '2577451#0', 'text': 'Kongres Soviet Uni Soviet (), adalah badan pemerintahan tertinggi di Uni Soviet sejak pembentukan USSR (30 Desember 1922) sampai adopsi Konstitusi Soviet 1936. Ini tak sama dengan Kongres Soviet Seluruh Rusia yang memerintah Republik Sosialis Federatif Soviet Rusia', 'title': 'Kongres Soviet Uni Soviet'}, {'docid': '8104#38', 'text': 'Uni Soviet adalah negara pertama yang mengadopsi sistem ekonomi terencana, di mana produksi dan distribusi dilakukan secara terpusat dan dikendalikan oleh pemerintah. Sistem ekonomi terencana yang diterapkan pada masa-masa awal kekuasaan Bolshevik adalah peraturan Perang Komunisme yang di antaranya termasuk nasionalisasi industri, penyatuan distribusi hasil produksi, rekuisisi koersif produksi pertanian, dan percobaan menghilangkan peredaran uang, termasuk perusahaan pribadi dan perdagangan bebas. Peraturan itu ternyata malah menyebabkan perekonomian Rusia pra-Uni Soviet kolaps sehingga pada tahun 1921, Lenin menggantinya dengan Kebijakan Ekonomi Baru yang melegalkan kembali perdagangan bebas dan kepemilikan bisnis secara kecil-kecilan. Perekonomian pun dengan cepat bangkit kembali.[12]', 'title': 'Uni Soviet'}, {'docid': '8462#22', 'text': 'Mulai tahun 1985, pemimpin terakhir Soviet Mikhail Gorbachev, yang berusaha untuk memberlakukan reformasi liberal dalam sistem Soviet, memperkenalkan kebijakan glasnost (keterbukaan) dan perestroika (restrukturisasi) untuk mencoba mengakhiri periode stagnasi ekonomi dan mendemokratisasi pemerintah. Namun, hal ini menyebabkan munculnya pergerakan nasionalis dan separatis. Sebelum tahun 1991, ekonomi Soviet terbesar kedua dunia,[38] tetapi pada tahun-tahun terakhirnya negara ini terkena imbasnya ditandai dengan kelangkaan barang, defisit anggaran besar, dan inflasi.[39] Tahun 1991, gejolak ekonomi dan politik mulai mendidih, ditambah lagi republik-republik Baltik memilih untuk memisahkan diri dari Uni Soviet. Pada bulan Maret, dilakukan referendum, di mana sebagian besar penduduk yang berpartisipasi memilih untuk mengubah Uni Soviet menjadi renewed federation. Bulan Agustus 1991, terjadi percobaan kudeta oleh anggota pemerintah Gorbachev, diarahkan melawan Gorbachev dan bertujuan untuk mempertahankan Uni Soviet. Namun, kudeta ini gagal dan malah berakhir dengan bubarnya Partai Komunis Uni Soviet. Tanggal 25 Desember 1991, Uni Soviet bubar menjadi 15 negara yang terpisah.', 'title': 'Rusia'}, {'docid': '1122715#1', 'text': 'Pada tahun 1918, pemerintah RSFS Rusia sebagai pendahulu Uni Soviet membuat kebijakan bahwa setiap warganya berhak untuk mendapatkan pengajaran dalam bahasanya sendiri. Sistem penulisan yang baru menggunakan alfabet Sirilik, Latin, atau Arab, sesuai keadaan geografis dan budaya setempat. Setelah tahun 1937, semua bahasa mulai diseragamkan untuk menggunakan alfabet Sirilik sehingga akan memudahkan pengguna bahasa minoritas untuk menulis dalam bahasa Rusia maupun bahasanya sendiri. Pada tahun 1960, undang-undang yang mengatur masalah pendidikan di sekolah diubah dan pengajaran semakin didominasi oleh bahasa Rusia hingga keruntuhan Uni Soviet.', 'title': 'Bahasa di Uni Soviet'}, {'docid': '1153442#0', 'text': 'Dewan Komisar Rakyat (, translit. \"Soviet narodnykh kommissarov\" atau Sovnarkom, juga disingkat SNK), adalah institusi pemerintahan yang langsung dibentuk setelah Revolusi Oktober tahun 1917. Dibentuk di Republik Rusia, dewan ini menetapkan dasar restrukturisasi negara untuk membentuk Uni Soviet. Dewan ini berubah menjadi otoritas pemerintahan eksekutif tertinggi di bawah sistem Soviet di negara-negara yang dikuasai kaum Bolshevik.', 'title': 'Dewan Komisar Rakyat'}, {'docid': '112495#8', 'text': 'Menjelang akhir dari Perang Dunia II, Angkatan Darat Soviet menduduki Hongaria, dengan negara tersebut jatuh ke dalam lingkup pengaruh Uni Soviet. Segera setelah Perang Dunia II, Hongaria menganut sistem demokrasi multipartai, dan pemilu di tahun 1945 menghasilkan pemerintahan koalisi dengan Perdana Menteri Zoltán Tildy. Namun, Partai Komunis Hongaria yang merupakan partai Marxis–Leninis dengan ideologi yang sama dengan pemerintah Uni Soviet, terus-menerus menggerus pemerintahan dengan taktik salami, yang sedikit demi sedikit menyingkirkan pengaruh pemerintahan yang dipilih secara demokratis, walau Partai Komunis Hongaria hanya mendapat 17% suara.', 'title': 'Revolusi Hongaria 1956'}, {'docid': '1887594#0', 'text': 'Koridor Persia adalah jalur penyaluran bantuan logistik Amerika Serikat dan Inggris kepada sekutunya, Uni Soviet selama Perang Dunia II yang melalui Iran dan Azerbaijan.\\nDokumen-dokumen resmi berbahasa Inggris tentang Koridor Persia mengacu istilah \"Persia\" untuk negara \"Iran\". Dalam korespondensi pemerintah Inggris, penggunaan istilah \"Persia\" dipilih oleh Perdana Menteri Inggris Winston Churchill untuk menghindari kerancuan dengan nama negara tetangganya Iraq.\\nSetelah invasi Jerman Nazi ke Uni Soviet pada Juni 1941, Inggris dan Uni Soviet menjadi sekutu dan keduanya mengalihkan perhatiannya ke Iran. Inggris dan Uni Soviet memandang jalur kereta api \"\" sebagai rute yang menarik untuk mengangkut suplai dari Teluk Persia ke Uni Soviet. Inggris dan Uni Soviet menggunakan konsesi yang mereka peroleh dari intervensi terdahulu untuk menekan Iran (dan, dalam kasus Inggris, Iraq juga) hingga mengizinkan menggunakan teritori negara-negara tersebut untuk keperluan militer dan logistik. Meningkatnya ketegangan politik dengan Inggris memicu demonstrasi-demonstrasi massa pro-Jerman di Tehran. Pada Agustus 1941, Reza Shah menolak untuk mengusir seluruh warga Jerman dan menjadi alasan yang jelas bagi pihak Sekutu, Inggris dan Uni Soviet menginvasi Iran, menangkap sang raja dan mengasingkannya ke Afrika Selatan, untuk mengambil alih komunikasi dan jalur kereta api Iran yang mereka incar.\\nPada awal tahun 1942, Amerika Serikat, yang saat itu belum terlibat di Perang Dunia II, mengirim pasukannya ke Iran untuk membantu menjaga dan mengoperasikan jalur kereta api tersebut. Inggris dan Uni Soviet membiarkan sistem pemerintahan Reza Shah runtuh, dan membatasi campur tangan pemerintah konstitusional. Mereka menempatkan putra mahkota Reza Shah, Mohammad Reza Pahlavi ke atas tahta Iran.', 'title': 'Koridor Persia'}, {'docid': '949223#1', 'text': 'Karl Marx tidak memberi detail mengenai struktur pemerintahan dan masyarakat sosialis atau komunis, selain pengganti sistem kapitalis dengan sosialisme, pada akhirnya komunisme, oleh berbagai macam kelas pekerja. Lenin sebagai pemimpin para Bolsheviks, telah mengembangkan teori bahwa Partai Komunis harus bertugas sebagai \"pelapor dan pelindung proletariat\" dengan pemerintahan yang bedasarkan keinginan mereka (kelas pekerja), tapi, seperti Marx ia tidak mengembangkan program ekonomi dan politik secara mendetail. Pemerintahan komunis baru dari Uni Soviet menghadapi masalah: memperluas kekuasaan diluar kota besar, melawan kounter-revolusi dan partai atau organisasi yang beroposisi dengan pemerintah, mengatasi dan melanjutkan perang dan mengatur sebuah sistem ekonomi dan politik yang baru.', 'title': 'Politik Uni Soviet'}, {'docid': '8104#31', 'text': 'Pada tahun 1990, pemerintah Uni Soviet praktis telah kehilangan seluruh kendalinya terhadap kondisi-kondisi ekonomi. Pengeluaran pemerintah meroket karena perusahaan tak menguntungkan yang memerlukan bantuan dari negara semakin bertambah, sedangkan subsidi harga-harga kebutuhan pokok terus berlanjut. Perolehan pajak menurun, terutama karena adanya kampanye antialkohol dan desentralisasi. Pemerintah pusat yang tidak dapat lagi membuat kebijakan produksi, khususnya dalam industri pemenuhan kebutuhan pokok, menyebabkan lenyapnya rantai produsen dengan pemasok sementara rantai yang baru belum terbentuk. Jadi, bukannya merampingkan sistem, program desentralisasi Gorbachev justru menyebabkan kemacetan proses produksi.', 'title': 'Uni Soviet'}, {'docid': '11430#0', 'text': 'Josef Stalin (terlahir dengan nama Ioseb Besarionis dze Jughashvili; ) adalah tokoh revolusi dan politikus Uni Soviet keturunan Georgia. Ia menjadi kepala negara Uni Soviet sejak pertengahan era 1920-an sampai akhir hayatnya pada tahun 1953, dengan gelar Sekretaris Jenderal Partai Komunis Uni Soviet sejak tahun 1922 sampai 1952, dan Kepala Pemerintahan Uni Soviet sejak tahun 1941 sampai 1953. Meskipun mula-mula menjalankan pemerintahan Uni Soviet selaku kepala dari suatu rezim partai tunggal oligarkis yang memerintah dengan suara terbanyak relatif (pluralitas), Stalin akhirnya menjadi diktator \"de facto\" Uni Soviet pada era 1930-an. Sebagai pengamal setia gagasan-gagasan hasil tafsir Marxisme menurut teori-teori Leninisme, ia turut berjasa membakukan gagasan-gagasan ini menjadi paham Marxisme–Leninisme, sementara kebijakan-kebijakannya sendiri akhirnya dikenal dengan sebutan Stalinisme.\\nPutra keluarga miskin asal Gori, Kekaisaran Rusia, ini mengawali perjalanan karier revolusionernya dengan menjadi anggota Partai Buruh Demokrat Sosial Rusia yang berhaluan Marxis pada masa mudanya. Sebagai anggota partai, ia bekerja menyunting surat kabar partai, \"Pravda\", dan menghimpun dana bagi faksi Bolshevik pimpinan Vladimir Lenin dengan cara merampok, melakukan penculikan, dan menjual jasa keamanan. Ia berulang kali ditahan, dan beberapa kali harus menjalani hukuman pengasingan di dalam negeri. Setelah kaum Bolshevik berhasil mengambil alih pemerintahan Rusia melalui Revolusi Oktober 1917, Stalin masuk menjadi anggota Politbiro, badan eksekutif partai komunis. Selaku anggota Politbiro, Stalin turut terlibat dalam proses pembentukan Uni Soviet pada tahun 1922. Setelah Lenin jatuh sakit lalu wafat pada tahun 1924, Stalin tampil menjadi pemimpin baru Uni Soviet. Di bawah rezim Stalin, \"Sosialisme dalam Satu Negara\" menjadi asas utama dari dogma partai, dan Kebijakan Ekonomi Baru yang dicanangkan oleh Lenin digantikan dengan ekonomi terpimpin yang tersentralisasi. Dengan menggunakan sistem Rencana Lima Tahun, Uni Soviet berusaha melakukan kolektivisasi dan industrialisasi yang berjalan dengan pesat, tetapi tidak mampu menghindari kemelut di bidang produksi pangan yang menimbulkan bencana kelaparan 1932–1933. Guna mengenyahkan pihak-pihak yang dianggap sebagai \"musuh-musuh kelas pekerja\", Stalin melancarkan gerakan \"Pembersihan Besar-Besaran\" yang mengakibatkan lebih dari sejuta orang dipenjarakan dan sekurang-kurangnya 700.000 orang dihukum mati antara 1934 sampai 1939.\\nRezim Stalin berusaha menyebarluaskan paham Marxisme-Leninisme ke luar Rusia melalui organisasi Komunis Internasional, dan mendukung gerakan-gerakan antifasis di seluruh Eropa pada era 1930-an, khususnya gerakan antifasis dalam perang saudara di Spanyol. Pada tahun 1939, rezim Stalin dan Jerman Nazi menandatangani sebuah kesepakatan untuk tidak saling menyerang. Atas dasar kesepakatan ini, Uni Soviet dan Jerman Nazi bersama-sama menginvasi Polandia, tetapi Jerman secara sepihak mengingkari kesepakatan ini dengan menginvasi Uni Soviet pada tahun 1941. Meskipun mula-mula terdesak, Tentara Merah Soviet mampu memukul mundur pasukan Jerman, bahkan berhasil merebut kota Berlin pada tahun 1945, dan mengakhiri Perang Dunia II di Eropa. Uni Soviet menganeksasi negara-negara Baltik dan menyokong pembentukan rezim-rezim pro-Uni Soviet di hampir seluruh kawasan tengah dan timur Eropa, di Tiongkok, dan di Korea Utara. Seusai Perang Dunia II, Uni Soviet dan Amerika Serikat tampil menjadi dua negara adidaya di tataran dunia. Ketegangan-ketegangan yang timbul di antara kedua negara adidaya ini memuncak menjadi Perang Dingin antara Blok Timur yang didukung Soviet dan Blok Barat yang didukung Amerika Serikat. Stalin memimpin negaranya melewati kurun waktu pembangunan kembali pascaperang, dan pada kurun waktu inilah, tepatnya pada tahun 1949, Uni Soviet berhasil mengembangkan senjata nuklir. Pada tahun-tahun ini pula Uni Soviet sekali lagi mengalami bencana kelaparan dahsyat, dan merebaknya kampanye antisemit yang berpuncak pada kasus persekongkolan para dokter. Stalin wafat pada tahun 1953, dan jabatannya selaku kepala negara Uni Soviet di kemudian hari diduduki oleh Nikita Khrushchev yang justru mengecam pendahulunya itu dan memelopori suatu proses de-Stalinisasi atas segenap lapisan masyarakat Soviet.\\nSebagai salah seorang tokoh terpenting pada abad ke-20 menurut anggapan banyak orang, Stalin menjadi subjek dari suatu kultus individu yang mewabah dalam gerakan Marxis-Leninis internasional. Bagi para pemujanya, Stalin adalah pahlawan sosialisme dan kelas pekerja. Meskipun Uni Soviet akhirnya bubar pada tahun 1991, masih banyak orang di Rusia dan Georgia yang mengaguminya sebagai seorang pemimpin yang jaya pada masa perang, dan berjasa membangun Uni Soviet menjadi sebuah kekuatan besar di mata dunia. Sebaliknya, banyak pula yang mengutuk rezim totaliternya sebagai pihak yang bertanggung jawab atas tindakan-tindakan penindasan massal, pembersihan etnis, ratusan ribu penghukuman mati, dan bencana kelaparan yang merenggut jutaan korban jiwa.', 'title': 'Josef Stalin'}, {'docid': '154858#2', 'text': 'PKUS menganut gagasan komunisme aliran Marxisme–Leninisme, ideologi yang digagas oleh Josef Stalin. Partai ini melaksanakan prinsip sosialisme negara yang berarti bahwa perekonomian dimiliki dan direncanakan oleh negara. Sebelum sistem ekonomi terencana diperkenalkan di Uni Soviet pada tahun 1929, Lenin telah menerapkan sistem ekonomi campuran yang disebutnya sebagai Kebijakan Ekonomi Baru. Saat Mikhail Gorbachev berkuasa, kalangan anggota partai dan masyarakat umumnya berpendapat bahwa sistem ekonomi terencana telah gagal. Selain itu, ada pula desakan untuk beralih ke sistem ekonomi pasar. Gorbachev dan beberapa sekutunya mencoba memperkenalkan sistem ekonomi yang mirip dengan Kebijakan Ekonomi Baru Lenin, tetapi ternyata gagal dilaksanakan sehingga turut berperan besar dalam bubarnya Uni Soviet.', 'title': 'Partai Komunis Uni Soviet'}, {'docid': '154858#7', 'text': 'Pada akhir tahun 1980-an, PKUS di bawah pimpinan Mikhail Gorbachev menjalankan kebijakan \"glasnost\" dan \"perestroika\" untuk meliberalkan sistem politik dan ekonomi Uni Soviet. Setelah partai ini kehilangan status konstitusionalnya sebagai penguasa penuh pemerintahan, Uni Soviet mulai bergejolak dan terpecah-belah. PKUS dibubarkan setelah percobaan kudeta pada bulan Agustus 1991. Partai ini diteruskan oleh Partai Komunis Federasi Rusia di Rusia dan partai-partai komunis lain di negara-negara eks-Uni Soviet.Berikut ini adalah cabang Partai Komunis Uni Soviet di republik-republik konstituennya.', 'title': 'Partai Komunis Uni Soviet'}, {'docid': '2488310#0', 'text': 'Republik Sosialis Soviet merupakan bentuk pemerintahan bagi setiap negara bagian (kecuali di RSFS Rusia) di Uni Soviet. Yang dalam konstitusi Uni Soviet dilindungi oleh serikat tersebutSetelah kematian Lenin kekuasaan disentralasikan (dipusatkan) di RSFS Rusia dan dipegang oleh Joseph Stalin maka kebanyakan pemerintah setiap Republik Sosialis Soviet atau Republik Sosialis Federasi Soviet berada langsung dibawah kekuasaan Uni Soviet dan para pemimpinnya hanyalah anggota majelis saja.', 'title': 'Republik Sosialis Soviet'}, {'docid': '1128333#0', 'text': 'Pemerintah Uni Republik Sosialis Soviet (, \"Pravitel\\'stvo SSSR\") merupakan lembaga eksekutif utama dalam pemerintahan Uni Soviet. Lembaga ini dipimpin oleh seorang kepala pemerintahan yang disebut juga sebagai Perdana Menteri Uni Soviet.', 'title': 'Pemerintah Uni Soviet'}, {'docid': '1130715#0', 'text': 'Ada dua belas orang yang pernah menjabat sebagai kepala pemerintahan Uni Soviet (); dua di antara mereka wafat secara alami saat bertugas (Vladimir Lenin dan Josef Stalin), tiga mengundurkan diri (Aleksey Kosygin, Nikolay Tikhonov, dan Ivan Silayev), dan tiga orang menjabat sebagai kepala pemerintahan sekaligus pemimpin partai secara bersamaan (Vladimir Lenin, Josef Stalin, dan Nikita Khrushchev). Kepala Pemerintahan Uni Soviet yang pertama adalah Vladimir Lenin yang dilantik sebagai Ketua Dewan Komisar Rakyat pada tahun 1922 setelah penandatanganan Traktat Pembentukan Uni Soviet. Ivan Silayev adalah pejabat tersingkat yang hanya menjabat selama 126 hari pada tahun 1991. Sementara itu, pejabat terlama adalah Aleksey Kosygin yang menjabat selama lebih dari 14 tahun dan menjadi satu-satunya pemimpin lebih dari dua kabinet pemerintahan di Uni Soviet.', 'title': 'Daftar kepala pemerintahan Uni Soviet'}, {'docid': '2565976#0', 'text': 'Setelah upaya kudeta Soviet 1991, Dewan Negara Uni Republik Sosialis Soviet (USSR) (), yang lebih dikenal sebagai Soviet Negara, dibentuk pada 5 September 1991 dan dirancang menjadi salah satu badan pemerintahan paling berpengaruh di Uni Soviet pada masa pemerintahan Mikhail Gorbachev. Para anggota dewan terdiri dari Presiden Uni Soviet, dan para pejabat tertinggi (biasanya adalah para presiden dari republik-republik mereka) dari Republik-Republik di Uni Soviet.', 'title': 'Dewan Negara Uni Soviet'}, {'docid': '64632#4', 'text': \"Contoh sistem pemerintahan yang paling sering disebut sebagai pemerintah totalitarian adalah bekas pemerintah Uni Soviet di bawah Stalin, Jerman pada masa Nazi dan Republik Rakyat Tiongkok pada masa Mao. Regim komunis di Uni Soviet dan Tiongkok berusaha mencapai 'nilai-nilai manusiawi yang universal' dengan menciptakan berbagai kelas masyarakat. Negara Sosial Nasionalis Jerman berusaha mewujudkan 'keunggulan dan kelebihan positif' bangsa Arya.\", 'title': 'Totalitarian'}, {'docid': '11371#1', 'text': 'Pada masa pemerintahannya, ia melakukan perubahan besar-besaran dalam sistem perekonomian dan politik yang secara langsung maupun tidak langsung memicu bubarnya Uni Soviet. Ia mengundurkan diri sebagai Presiden Uni Soviet pada tanggal 25 Desember 1991 menyusul percobaan kudeta oleh kelompok garis keras di Moskwa pada bulan Agustus 1991 yang dipicu oleh adanya pertentangan atas rencana perubahan bentuk negara.', 'title': 'Mikhail Gorbachev'}, {'docid': '228023#3', 'text': 'Pada mulanya, ketentaraan Uni Soviet menggunakan kepangkatan dengan sistem jasa. Pemerintah Uni Soviet menganggap bahwa pemangkatan perwira adalah warisan keburukan Tsar. Masa itu, Uni Soviet hanya memakai pemangkatan \"perwira\" dan \"tentara\" saja. Pada tahun 1920-an, dikembangkan sistem pemangkatan jasa, yaitu K-1 (terendah) sampai K-14(tertinggi).', 'title': 'Angkatan Bersenjata Uni Soviet'}, {'docid': '51574#11', 'text': 'Uni Soviet juga mulai mengalami pergolakan ketika akibat-akibat politik dari glasnost dirasakan getarannya di seluruh negeri. Meskipun dilakukan upaya-upaya untuk meredamnya, ketidakstabilan di Eropa Timur mau tidak mau menyear ke negara-negara di lingkungan Uni Republik Sosialis Soviet. Dalam pemilu-pemilu untuk dewan-dewan regional di republik-republik Uni Soviet, kaum nasionalis maupun para tokoh pembaruan yang radikal menyapu kursi di dewan. sementara Gorbachev telah memperlemah sistem penindasan politik internal, kemampuan pemerintahan sentral Moskwa untuk memaksakan kehendaknya pada republik-republik anggota RSUS pada umumnya telah diperlemah.', 'title': 'Pembubaran Uni Soviet'}, {'docid': '11430#55', 'text': 'Tentara Merah lalu memasuki negara-negara Baltik dan ketiga negara tersebut dipaksa bergabung dengan Uni Soviet pada bulan Agustus. Uni Soviet juga mengklaim wilayah Finlandia, tetapi pemerintah Finlandia menolak tuntutan mereka. Uni Soviet kemudian menyerang Finlandia pada bulan November; meskipun kalah jumlah, Finlandia dapat menahan serangan Tentara Merah. Opini internasional mendukung Finlandia dan Uni Soviet dikeluarkan dari Liga Bangsa-Bangsa. Uni Soviet merasa dipermalukan karena tidak mampu mengalahkan Finlandia dan kemudian mereka menandatangani perjanjian perdamaian sementara. Berdasarkan perjanjian tersebut, Uni Soviet memperoleh beberapa wilayah dari Finlandia. Pada Juni 1940, wilayah Bessarabia dan Bukovina utara di Rumania dicaplok oleh Uni Soviet. Pada saat yang sama, pemerintah Soviet mencoba mencegah segala upaya perlawanan di wilayah-wilayah Eropa Timur yang baru dikuasai. Salah satu peristiwa yang terjadi di tengah upaya tersebut adalah pembantaian Katyn pada April dan Mei 1940, ketika 22.000 anggota angkatan bersenjata, polisi dan intelijensia Polandia dihukum mati.', 'title': 'Josef Stalin'}, {'docid': '11383#20', 'text': 'Banyak orang yang mengira komunisme \"mati\" setelah Revolusi 1989 yang berakhir pada bubarnya Uni Soviet dua tahun kemudian, yang diawali dengan keputusan Presiden Mikhail Gorbachev. Namun demikian, setelah runtuhnya Uni Soviet dan pecahnya Yugoslavia, terdapat beberapa negara yang masih dipimpin oleh pemerintahan Marxis-Leninis dengan partai tunggal. Di antaranya adalah Kuba, Laos, Vietnam, dan Republik Rakyat Tiongkok. Korea Utara menyebut ideologinya sebagai Juche, yang mereka anggap sebagai perkembangan dari Marxisme-Leninisme. Meskipun demikian, Tiongkok[12], Laos[13], Vietnam[14], dan Kuba telah mengubah sistem ekonominya dari menjadi lebih terbuka. Di India, komunis memimpin pemerintahan di tiga negara bagian. Sementara di Nepal, partai komunis menjadi mayoritas di parlemen.[15]', 'title': 'Komunisme'}]}\n",
      "\n",
      "{'query_id': '1373', 'query': 'tahun berapakah Universitas Gadjah Mada didirikan?', 'positive_passages': [{'docid': '17476#0', 'text': 'Universitas Gadjah Mada (Hanacaraka: ꦈꦤꦶꦮ꦳ꦺꦂꦱꦶꦠꦱ꧀\\u200bꦒꦢ꧀ꦗꦃ\\u200bꦩꦢ; disingkat UGM) merupakan universitas negeri di Indonesia yang didirikan oleh Pemerintah Republik Indonesia pada tanggal 19 Desember 1949 berdasarkan Peraturan Pemerintah Nomor 23 Tahun 1949 tentang Peraturan Tentang Penggabungan Perguruan Tinggi Menjadi Universiteit tanggal 16 Desember 1949.[1] Kampus UGM yang terletak di Yogyakarta merupakan universitas pertama yang didirikan oleh Pemerintah Republik Indonesia setelah Indonesia merdeka.', 'title': 'Universitas Gadjah Mada'}], 'negative_passages': [{'docid': '43319#4', 'text': 'Universitas Airlangga secara resmi berdiri pada tahun 1954 berdasarkan Peraturan Pemerintah No. 57/1954 dan diresmikan oleh Presiden Republik Indonesia pada tanggal 10 November 1954, bertepatan dengan perayaan hari pahlawan yang kesembilan. Pada tahun yang sama pula berdiri Fakultas Hukum yang dulunya merupakan cabang dari Fakultas Hukum, Ekonomi dan Sosial Politik Universitas Gadjah Mada, Yogyakarta.', 'title': 'Universitas Airlangga'}, {'docid': '318991#6', 'text': 'Setelah proklamasi kemerdekaan (1945), pemerintah Republik Indonesia mendirikan Balai Perguruan Tinggi Republik Indonesia (BPTRI) di Jakarta. Sementara itu, pada tahun 1946, Belanda berusaha berkuasa kembali di Indonesia serta membuka sebuah universitas darurat dengan nama \"Nooduniversiteit\" pada tanggal 21 Januari. Ketika NICA (\"Netherlands Indies Civil Administration\") menguasai Jakarta, BPTRI pun pindah ke Yogyakarta. Di sana, diselenggarakan BPTRI yang menjelma menjadi Universitit Gadjah Mada (yang sejak tahun 1954 menjadi Universitas Gadjah Mada), sedangkan sebagian kemudian pindah ke Jakarta. Pada tanggal 21 Maret 1947, \"Nooduniversiteit\" berganti nama menjadi \"Universiteit van Indonesie\" yang fakultas-fakultasnya tersebar di Jakarta, Bogor, Bandung, Surabaya, dan Makasar. Sejak 1954 secara berangsur-angsur fakultas-fakultas tersebut menjadi lembaga-lembaga pendidikan tinggi yang berdiri sendiri, seperti Institut Pertanian Bogor (IPB), Institut Teknologi Bandung (ITB), Universitas Airlangga, dan Universitas Hasanuddin.', 'title': 'Fakultas Ilmu Pengetahuan Budaya Universitas Indonesia'}, {'docid': '17476#1', 'text': 'Pada saat didirikan, Universitas Gadjah Mada hanya memiliki enam fakultas, sekarang memiliki 18 Fakultas dan dua Sekolah yaitu Sekolah Vokasi dan Sekolah Pascasarjana (dahulu bernama Program Pascasarjana), dan lebih dari 100 Program Studi untuk S2, S3, dan Spesialis. Universitas Gadjah Mada berlokasi di Kampus Bulaksumur, Yogyakarta. Sebagian besar fakultas dalam lingkungan Universitas Gadjah Mada terdiri atas beberapa jurusan/bagian dan atau program studi. Kegiatan Universitas Gadjah Mada dituangkan dalam bentuk Tri Dharma Perguruan Tinggi yang terdiri atas pendidikan dan pengajaran, penelitian, dan pengabdian kepada masyarakat', 'title': 'Universitas Gadjah Mada'}, {'docid': '1825910#0', 'text': 'Prof. Dr. Soffian Effendi () adalah seorang akademisi Indonesia. Sofian merupakan Guru Besar Ilmu Administrasi Negara Universitas Gadjah Mada. Ia pernah menjadi Rektor Universitas Gadjah Mada dari tahun 2002 sampai 2007 dan menjabat sebagai Kepala Badan Kepegawaian Negara (BKN) pada tahun 1999 hingga 2000.', 'title': 'Sofian Effendi (akademisi)'}, {'docid': '765740#3', 'text': 'Pada tahun 1958, dr. Heyder bin Heyder dan dr. Soerarjo Darsono menghadap Presiden Universitas Diponegoro (waktu itu Soedarto, SH) dan mengungkapkan gagasan untuk mendirikan Fakultas Kedokteran, mengingat mahasiswa kedokteran Universitas Gadjah Mada banyak yang menjalani kepaniteraan di Semarang.', 'title': 'Fakultas Kedokteran Universitas Diponegoro'}, {'docid': '302490#3', 'text': 'Ia mengawali karier dengan berwiraswasta di Bandung dengan mendirikan Biro Insinyur Roosseno dan Soekarno (Presiden pertama RI) di Jalan Banceuy pada tahun 1933. Roosseno kemudian tercatat sebagai seorang di antara pendiri Fakultas Teknik Universitas Gadjah Mada di Yogyakarta.', 'title': 'Roosseno Soerjohadikoesoemo'}, {'docid': '17476#6', 'text': 'Institut Pasteur di Bandung sejak 1 September 1945, turut pula dipindahkan ke Klaten dengan laboratorium di Rumah Sakit Tegalyoso. Salah seorang yang berperan dalam pemindahan ini adalah Prof. Dr. M. Sardjito yang kelak menjadi Rektor Universitas Gadjah Mada yang pertama. Kehidupan kampus di Klaten semakin ramai dengan berdirinya Fakultas Kedokteran Gigi pada awal 1948.', 'title': 'Universitas Gadjah Mada'}, {'docid': '1439563#1', 'text': 'Ia menempuh pendidikan S1 Fakultas Ekonomi Universitas Gadjah Mada tahun 1983, kemudian menyelesaikan S2 Murray State University, Kentucky, USA tahun 1991 dan mendapat gelar Doktor (S3) Program Pascasarjana Universitas Gadjah Mada tahun 2002. Ia dikukuhkan sebagai guru besar tahun 2004 dengan pidato berjudul Reformasi Akuntansi Keuangan dan Anggaran Daerah: Dua Pilar Utama Manajemen Keuangan Daerah.', 'title': 'Abdul Halim (pengajar)'}, {'docid': '150290#0', 'text': 'Rumah Sakit Umum Pusat (RSUP) Dr. Sardjito (bahasa Jawa: Hanacaraka, ꦒꦿꦶꦪ\\u200bꦱꦏꦶꦠ꧀\\u200bꦈꦩꦸꦩ꧀\\u200bꦥꦸꦱꦠ꧀\\u200bꦝꦺꦴꦏ꧀ꦠꦼꦂ\\u200bꦱꦂꦢ꧀ꦗꦶꦠꦺꦴ, \"Griya Sakit Umum Pusat Dhokter Sardjito\") adalah rumah sakit umum yang terletak di Sinduadi, Mlati, Kabupaten Sleman, provinsi Daerah Istimewa Yogyakarta, persis di sebelah barat Fakultas Kedokteran Universitas Gadjah Mada dan di sebelah selatan Fakultas Teknik Universitas Gadjah Mada. Didirikan pada tahun 1982, rumah sakit ini segera menjadi mitra tetap Fakultas Kedokteran Universitas Gadjah Mada dalam menyelenggarakan pendidikan dokter, dokter spesialis, dan perawat. Rumah Sakit ini mempunyai beragam layanan spesialis, yaitu penyakit dalam, jantung dan pembuluh darah, bedah umum, bedah orthopedi, bedah plastik, bedah thorax, jantung, dan pembuluh darah, bedah saluran kemih, bedah anak, bedah tumor, bedah saraf, anestesi, kebidanan dan penyakit kandungan, telinga hidung tenggorokan leher kepala, penyakit mata, kesehatan anak, radiologi, dan rehabilitasi medis.', 'title': 'Rumah Sakit Umum Pusat Dr Sardjito'}, {'docid': '28462#1', 'text': 'Sejarah Universitas Negeri Yogyakarta tidak lepas dari perkembangan IKIP Yogyakarta dan Universitas Gadjah Mada. Berdasarkan PP 37/1950, pada 23 Januari 1951, Universitas Gadjah Mada. Dalam perkembangan UGM, ada beberapa fakultas yang menjadi cikal bakal lahirnya IKIP Yogyakarta, seperti Fakultas Pendidik (FIP), Fakultas Pendidikan Jasmani (FPD), dan Fakultas Keguruan dan Ilmu Pendidikan (FKIP). Berdasarkan SK Mentri PDK 92, 1962 berdiri Institut Pendidikan Guru (IPG). Sementara itu, IPG dan FKIP adalah bidang pendidikan. Dari situ keluar Keputusan Presiden RI No.1, 1963 pada 3 Januari 1963 yang memutuskan penyatuan FKIP dan IPG menjadi Institut Keguruan dan Ilmu Pendidikan (IKIP). Pelaksanaan Keppres ini menetapkan berdirinya IKIP Jakarta, IKIP Bandung, IKIP Yogyakarta, dan IKIP Malang yang resminya berdiri pada 1 Mei 1963.', 'title': 'Universitas Negeri Yogyakarta'}, {'docid': '26031#2', 'text': '19 DESEMBER 1949, ketika Universitas Gadjah Mada berdiri, muncul tuntutan dan keinginan dari mahasiswanya untuk bergulat dengan jurnalisme, maka didirikanlah Majalah Gadjah Mada.', 'title': 'Balairung (majalah)'}, {'docid': '1386207#7', 'text': 'Konferensi tahun 2012 yang diisi 171 makalah dan 100 pembicara diselenggarakan di Universitas Gadjah Mada di Yogyakarta. Para pembicaranya berasal dari sejumlah universitas dalam dan luar negeri, termasuk Harvard, Cornell, Berkeley, Sydney, Leiden, dan London School of Economics. Rektor Universitas Gadjah Mada, Pratikno, menyatakan bahwa konferensi ini cocok bagi Indonesia sekaligus universitas, karena pendidikan sangat diperlukan untuk melawan korupsi. Ini adalah konferensi IIF terakhir yang didukung Yale. Badan organisasi independen yang baru didirikan supaya penyelenggaraan konferensi ini bisa diteruskan secara bebas.', 'title': 'International Indonesia Forum'}, {'docid': '1174201#2', 'text': 'Rusdi Lamsudin menempuh pendidikan tingginya di Universitas Gadjah Mada (UGM), Yogyakarta, dan berhasil meraih gelar S1 (dokter) pada tahun 1971. Pada tahun 1978, Rusdi berhasil pula menamatkan pendidikannya pada bidang spesialis ilmu penyakit saraf. Sedangkan gelar Master of Medical Science (S2) ia dapatkan dari sebuah universitas di New South Wales, Australia, yaitu University of New Castle pada tahun 1986. Selanjutnya, Rusdi meneruskan pendidikannya pada Program Pascasarjana Universitas Gadjah Mada, yang berhasil diselesaikannya dengan mendapatkan gelar doktor (S3) pada tahun 1997.', 'title': 'Rusdi Lamsudin'}, {'docid': '17476#50', 'text': 'Dalam peringatan Dies Natalis UGM tahun 1958 Ir. Suwarno (alm.) didesak Panitia Dies Natalis Dewan Mahasiswa UGM untuk mengambil inisiatif pertama menyelenggarakan musyawarah para alumnus UGM pertama dari berbagai kota tanggal 18 Desember 1958 di Yogyakarta. Dari musyawarah ini lahirlah organisasi \"Keluarga Alumni Universitas Gadjah Mada\" disingkat KAGAMA.', 'title': 'Universitas Gadjah Mada'}, {'docid': '2491470#0', 'text': 'Fakultas Psikologi adalah salah satu fakultas di Universitas Gadjah Mada. Didirikan pada 8 Januari 1965, Fakultas Psikologi UGM adalah salah satu fakultas psikologi yang awal berdiri di Indonesia. Saat ini Fakultas Psikologi UGM dipimpin oleh Prof. Dr. Faturochman, M.A. Dibantu oleh Dr. Nida Ul Hasanat, M.Si sebagai Wakil Dekan Bidang Akademik dan Kemahasiswaan, Prof. Kwartarini Wahyu Yuniarti, M.Med.Sc., Ph.D sebagai Wakil Dekan Bidang Penelitian, Pengabdian Kepada Masyarakat, dan Kerjasama, serta Dr. Avin Fadilla Helmi, M.Si. sebagai Wakil Dekan Bidang Keuangan, Aset, dan Sumber Daya Manusia.', 'title': 'Fakultas Psikologi Universitas Gadjah Mada'}, {'docid': '2121201#1', 'text': 'Sebelum terbentuk Fakultas Ekonomika dan Bisnis, yang ada pada Universitas Diponegoro adalah Akademi Tata Niaga yang merupakan kelanjutan dari Akademi Tata Niaga Universitas Semarang. Fakultas Ekonomika dan Bisnis Universitas Diponegoro pada saat berdirinya mempunyai dua jurusan untuk program gelar yaitu Jurusan Perusahaan dan Jurusan Umum dengan sistem pendidikan yang disebut sistem paket. Pada tahun akademik 1980/1981 sesuai dengan arahan dari Departemen Pendidikan dan Kebudayaan diterapkan sistem pendidikan yang baru disebut sistem kredit. Di bawah sistem yang baru ini nama jurusan juga diubah, yaitu masing-masing menjadi Jurusan Manajemen dan Jurusan Ilmu Ekonomi dan Studi Pembangunan. Sejak tahun akademik 1982/1983 dibuka jurusan baru yaitu jurusan Akuntansi di bawah bimbingan atau pembinaan Jurusan Akuntansi Universitas Gadjah Mada. Pada tahun 1986 sudah tidak di bawah pembinaan dari Universitas Gadjah Mada. Program gelar yang ada di Fakultas Ekonomi Universitas Diponegoro adalah Program Sarjana (S1).', 'title': 'Fakultas Ekonomika dan Bisnis Universitas Diponegoro'}, {'docid': '17476#3', 'text': 'Nama Gadjah Mada berawal dari dibentuknya Balai Perguruan Tinggi Gadjah Mada yang terdiri dari Fakultas Hukum dan Fakultas Kesusasteraan. Pendirian diumumkan di Gedung KNI Malioboro pada tanggal 3 Maret 1946 oleh Mr. R. S. Budhyarto Martoatmodjo, Ir. Marsito, Prof. Dr. Prijono, Mr. Soenario, Dr. Soleiman, dr. Boentaran Martoatmodjo dan Dr. Soeharto.', 'title': 'Universitas Gadjah Mada'}, {'docid': '803548#1', 'text': 'Tahun 1973 ia menamatkan kuliahnya di jurusan sastra Ingggris Fakultas Sastra Universitas Gadjah Mada. Tahun 1984 lulus M.A. dari Universitas Massachusets, Amerika Serikat, dan tahun 1989 lulus Ph.D. dari Universitas Hawaii, Honolulu, Amerika Serikat. Ia pernah menjadi redaktur \"Mercu Suar\" dan Harian \"Kami\" (keduanya edisi Sulawesi Selatan), Ketua Seni Budaya Muslim Indonesia di Ujungpandang, penggiat Teater Gadjah Mada, redaktur majalah Titian, dan sekarang sebagai peneliti LIPI di Jakarta.', 'title': 'Mochtar Pabottingi'}, {'docid': '2463737#1', 'text': 'Reza Zaki menempuh studi S1 di Fakultas Hukum Universitas Gadjah Mada. Kemudian pada tahun 2013, Zaki melanjutkan studi S2 di Hubungan Internasional Universitas Gadjah Mada dengan kajian diplomasi perdagangan dunia. Pada tahun 2015, Zaki melanjutkan studi S3 Hukum di Universitas Padjadjaran dengan kajian hukum perdagangan internasional. Reza Zaki menikah dengan Gresika Bunga Sylvana dan dikaruniai putri bernama Khalisa Melodi Kemalahayati Zaki.', 'title': 'Muhammad Reza Syariffudin Zaki'}, {'docid': '17476#2', 'text': 'Ditilik dari sejarahnya, Universitas Gadjah Mada merupakan penggabungan dan pendirian kembali dari berbagai balai pendidikan, sekolah tinggi, perguruan tinggi yang ada di Yogyakarta, Klaten dan Surakarta.', 'title': 'Universitas Gadjah Mada'}, {'docid': '43878#10', 'text': 'Sejak tahun akademik 1982/1983 dibuka jurusan baru yaitu jurusan Akuntansi di bawah bimbingan atau pembinaan Jurusan Akuntansi Universitas Gadjah Mada. Pada tahun 1986 sudah tidak di bawah pembinaan dari Universitas Gadjah Mada. Dengan dileburnya Akademi Administrasi Niaga Negara (AANN) Semarang pada Fakultas Ekonomi Universitas Diponegoro, mulai tahun 1975 dibuka program non gelar dengan nama Pendidikan Ahli Administrasi Perusahaan (PAAP) yang kemudian pada tahun 1982/1983 ditingkatkan menjadi Program Diploma III Fakultas Ekonomi. Saat ini Program Diploma III mempunyai tiga program studi yaitu Program Studi Akuntansi, Program Studi Kesekretariatan dan Program Studi Perpajakan.', 'title': 'Universitas Diponegoro'}, {'docid': '17476#14', 'text': 'Akhirnya tanggal 19 Desember 1949, lahirlah Universitas Gadjah Mada dengan enam fakultas. Menurut Peraturan Pemerintah No. 23 Tahun 1949, keenam fakultas tersebut adalah:', 'title': 'Universitas Gadjah Mada'}, {'docid': '2088170#3', 'text': 'Berkat bantuan yang sangat besar dari Wakil Presiden RI Drs. Moh. Hatta, Menteri Pendidikan, Pengajaran dan Kebudayaan Ki Mangun Sarkoro, Menteri Kesehatan Dr. Soerono dan Prof. Soetopo, Menteri Keuangan Lukman Hakim, Menteri Perhubungan dan Pekerjaan Umum Ir. Laoh dan Ir. Sitompul, Menteri Kemakmuran dan Pertanian I.J. Kamiso dan Sadjarwo SH dan Sekretaris Jendralnya Mr. Hadi, Ir. Putuhena dan Ir. Goenoeng, Perguruan Tinggi tersebut dibuka kembali tanggal 1 November 1949. Pada saat itu di Yogyakarta sudah ada Sekolah Tinggi Teknik dan Sekolah Hukum milik Yayasan balai Perguruan Tinggi Gadjah Mada, dan setiap Perguruan Tinggi masih dibawah Kementrian yang bersangkutan. Timbul gagasan untuk menggabungkan Perguruan-perguruan Tinggi dan Sekolah-sekolah Tinggi menjadi suatu Universitas dibawah Kementrian Pendidikan, Pengajaran dan Kebudayaan (PP&K). Gagasan tersebut terlaksana dengan dibukanya Universitas Negeri Gadjah Mada (UNGM) oleh Kementrian PP&K pada tanggal 19 Desember 1949 (sekarang ditetapkan sebagai hari ulang tahun Universitas Gadjah Mada Yogyakarta).', 'title': 'Fakultas Farmasi Universitas Gadjah Mada'}, {'docid': '58948#17', 'text': 'Tahun 1960, Muhammad Saleh diangkat menjadi residen Kedu sampai pensiun tahun 1965. Muh. Saleh yang mempunyai sifat pendidik dan sangat memperhatikan masalah pendidikan, pada tahun 1946 bersama rekan-rekannya mendirikan Universitas di Yogyakarta, yang sekarang dikenal sebagai Universitas Gadjah Mada; di samping turut memberikan sumbangan dalam berdirinya Universitas Surakarta.', 'title': 'Muhammad Saleh Werdisastro'}, {'docid': '247125#0', 'text': 'Prof. Dr. M. Sardjito () adalah dokter yang menjadi Guru Besar Fakultas Kedokteran Universitas Gadjah Mada.\\nPada masa perang kemerdekaan, ia ikut serta dalam proses pemindahan Institut Pasteur di Bandung ke Klaten. Selanjutnya ia menjadi Presiden Universiteit (sekarang disebut Rektor) Universitas Gadjah Mada yang pertama dari awal berdirinya UGM tahun 1949 sampai 1961.', 'title': 'Sardjito'}, {'docid': '2631982#1', 'text': 'Setelah menyelesaikan sekolah di SMA Negeri 8 Yogyakarta pada tahun 1992, Ellis melanjutkan kuliah di Fakultas Biologi, Universitas Gadjah Mada, lulus tahun 1997. Gelar Master of Science (M.Si) diperoleh seusai menamatkan kuliah lanjutan di Jurusan Antar Bidang, Program Studi Bioteknologi, Universitas Gadjah Mada .', 'title': 'Roro Elis'}, {'docid': '2609278#0', 'text': 'Pada 2 Mei 2016, sebuah demonstrasi berlangsung di Balairung Universitas Gadjah Mada. Demonstrasi ini juga dikenal dengan \"Pesta Rakyat Gadjah Mada\".', 'title': 'Demonstrasi Universitas Gadjah Mada 2016'}, {'docid': '17476#41', 'text': 'Satu Bumi (Solidaritas Teknik Untuk Bumi) merupakan organisasi mahasiswa penggiat kegiatan alam bebas dari Fakultas Teknik Universitas Gadjah Mada (UGM) Yogyakarta. Organisasi pecinta alam ini (biasa disebut Mapala) merupakan salah satu komunitas mapala terbesar di Universitas Gadjah Mada dan berdiri sejak tanggal 27 April 2000.', 'title': 'Universitas Gadjah Mada'}, {'docid': '34228#1', 'text': 'Kuntowijoyo mendapatkan pendidikan formal keagamaan di Madrasah Ibtidaiyah di Ngawonggo, Klaten. Ia lulus SMP di Klaten dan SMA di Solo, sebelum lulus sarjana Sejarah Universitas Gadjah Mada pada tahun 1969. Gelar MA \"American History\" diperoleh dari Universitas Connecticut, Amerika Serikat pada tahun 1974, dan Ph.D Ilmu Sejarah dari Universitas Columbia pada tahun 1980. Ia mengajar di Fakultas Sastra Universitas Gadjah Mada dan terakhir menjadi Guru Besar Fakultas Ilmu Budaya, dan menjadi peneliti senior di Pusat Studi dan Penelitian Kependudukan Universitas Gadjah Mada, Yogyakarta.', 'title': 'Kuntowijoyo'}]}\n",
      "\n",
      "{'query_id': '1126', 'query': 'Siapa pendiri Boeing Commercial Airplanes?', 'positive_passages': [{'docid': '16924#2', 'text': 'Pada bulan Maret 1910, William E. Boeing membeli galangan kapal Heath di Sungai Duwamish, Seattle, yang kemudian menjadi pabrik pesawat pertamanya.[13] Boeing didirikan di Seattle oleh William Boeing, pada tanggal 15 Juli 1916, sebagai \"Pacific Aero Products Co\". Boeing kemudian membentuk badan hukum di Delaware, sertifikat pendirian perusahaan yang asli diajukan ke Secretary of State of Delaware pada 19 Juli 1934. Boeing, yang kuliah di Universitas Yale, awalnya bekerja di industri kayu, di mana ia menjadi kaya dan belajar tentang struktur kayu. Pengetahuan ini terbukti sangat berharga dalam desain dan perakitan pesawat terbangnya. Perusahaan menetap di Seattle untuk mengambil manfaat dari pasokan lokal kayu cemara lokal.[14]', 'title': 'Boeing'}], 'negative_passages': [{'docid': '28707#0', 'text': 'Boeing 757 adalah pesawat penumpang sipil jarak menengah dibuat oleh Boeing Commercial Airplanes. Pesawat ini didesain bagi Eastern Airlines dan British Airways untuk menggantikan Boeing 727 dan mulai memasuki masa dinas pada tahun 1983. Produksi 757 berakhir pada bulan 28 Oktober 2004 setelah diproduksi 1,050 pesawat untuk 54 pelanggan.', 'title': 'Boeing 757'}, {'docid': '1189061#0', 'text': 'Boeing YB-9 adalah pesawat pembom monoplane sayap rendah (low wing) yang pertama semua logam dirancang untuk Amerika Serikat Army Air Corps. YB-9 adalah sebuah perubahan diperbesar Boeing Model 200 Commercial Transport.', 'title': 'Boeing YB-9'}, {'docid': '16924#99', 'text': 'Boeing Capital Boeing Commercial Airplanes (BCA) Boeing Defense, Space & Security (BDS) Phantom Works Engineering, Test & Technology Boeing Research & Technology Boeing Test & Evaluation Intellectual Property Management Information Technology Environment, Health, and Safety[126] Boeing Shared Services Group Boeing Realty Boeing Travel Management Company Boeing Supplier Management', 'title': 'Boeing'}, {'docid': '696744#1', 'text': 'Untuk semua model yang dijual mulai dari Boeing 707 pada tahun 1957, sistem penamaan Boeing untuk pesawat komersial telah mengambil bentuk 7x7. Semua model penunjukan, 707 melalui 787 telah ditunjukkan, meninggalkan 797 sebagai model nama 7x7 hanya tidak ditugaskan untuk produk.\\nUntuk nomor model di 707 untuk 777 , nomor model yang terdiri dari nomor model pesawat terbang, misalnya 707 atau 747 , diikuti oleh dash dan tiga digit yang mewakili seri dalam model, misalnya 707-320 atau 747-400 . Di kalangan penerbangan, model penunjukan yang lebih spesifik kadang-kadang digunakan di mana dua digit terakhir dari seri penanda diganti dengan dua digit, alpha-numeric kode pelanggan Boeing , misalnya 747-112, 747-100 awalnya mewakili dipesan oleh Pan American World Airways (Boeing pelanggan kode 12) atau 737-7H4, mewakili 737-700 awalnya dipesan oleh Southwest Airlines (kode pelanggan Boeing H4). Tidak seperti model lain, 787 menggunakan digit tunggal untuk menunjuk seri, misalnya 787-8.\\nhuruf tambahan kadang-kadang ditambahkan ke nama model sebagai akhiran, termasuk \"ER\" untuk menunjuk \"extended range\" versi, seperti 777-300ER atau \"LR\" untuk menunjuk \"jarak jauh\" versi, misalnya 777-200LR . designators akhiran lainnya termasuk \"F\" untuk \"kargo\", ( 747-400F ) \"C\" untuk konversi \"pesawat\" yang dapat dikonversi antara penumpang dan konfigurasi kapal barang ( 727-100C ) dan \"M\" untuk pesawat yang dikonfigurasi untuk membawa kedua penumpang dan barang pada waktu yang sama ( 757-200M ). \\\\ Penumpang pesawat yang awalnya dibuat sebagai pesawat penumpang dan kemudian dikonversi menjadi konfigurasi kargo oleh Boeing membawa akhiran \"BCF\" menunjuk sebuah dikonversi kargo Boeing ( 747-400BCF ).', 'title': 'Boeing Commercial Airplanes'}, {'docid': '255133#0', 'text': 'Constellation International Airlines S.A., didirikan tanggal 23 Juni 1995 dan memulai operasinya dengan Boeing 727-200 dari Bandar Udara Brussels, Belgia yang digantikan dengan pesawat Airbus A320, disewa dari International Lease Finance Corporation. Constellation International Airplanes merupakan perusahaan pertama di Benelux untuk mengoperasikan pesawat keluarga Airbus A320. Pasarnya ditujukan untuk penerbangan wisata dan sub-penerbangan untuk perusahaan lainnya, ketika kebutuhan meningkat. Constellation International Airlines menghentikan operasinya karena masalah keuangan tanggal 3 Desember 1999 dan mengumumkan kebangkrutan pada 15 Desember 1999.Armada Constellation Airlines telah meliputi pesawat berikut:', 'title': 'Constellation Airlines'}, {'docid': '2094236#0', 'text': 'ETOPS atau Extended Operations. Istilah yang digunakan adalah \"Extended Range Option with Two-Engine Airplanes\" namun makna itu diubah oleh Federal Aviation Administration(FAA) ketika peraturan yang diperluas untuk mencakup pesawat dengan lebih dari dua mesin. Hal ini mengacu pada standar dan direkomendasikan praktik (SARPS) yang dikeluarkan oleh ICAO untuk pesawat (seperti Airbus A300, A310, A320, A330 dan A350, Boeing 737, 757, 767, 777, 787, Embraer E-Jets, dan ATR 72) untuk terbang lama -rute -Jarak yang telah melebihi batas untuk pesawat bermesin ganda, dan kemudian untuk operasi berbagai diperpanjang pesawat bermesin empat (seperti Boeing 747-8 Intercontinental).', 'title': 'ETOPS'}, {'docid': '1583892#0', 'text': 'Commercial Aircraft Corporation of China, Ltd (\"Comac\", Cina disederhanakan: 中国商用飞机有限责任公司; Cina tradisional: 中國商用飛機有限責任公司; pinyin: Zhongguo shang yong fēijī yǒuxiàn ZEREN gongsi, Cina disederhanakan: 中国商飞; tradisional Cina: 中國商飛; pinyin: Zhongguo shāngfēi) adalah produsen kedirgantaraan milik negara Cina yang didirikan pada 11 Mei 2008 di Shanghai, China. Perusahaan ini memiliki modal terdaftar dari RMB 19 miliar (US $ 2,7 miliar Mei 2008). Perusahaan milik pemerintah ini adalah merancang dan akhirnya akan membangun pesawat penumpang besar dengan kapasitas lebih dari 150 penumpang untuk mengurangi ketergantungan negara pada Boeing dan Airbus.', 'title': 'Comac'}, {'docid': '16924#98', 'text': 'Dua divisi terbesar Boeing adalah Boeing Commercial Airplanes dan Boeing Defense, Space & Security (BDS).[126]', 'title': 'Boeing'}, {'docid': '28727#0', 'text': \"Boeing 777 adalah sebuah pesawat penumpang sipil berbadan lebar bermesin ganda berjarak jauh dibuat oleh Boeing Commercial Airplanes. Dapat mengangkut antara 314 - 451 penumpang dan memiliki jangkauan dari 9'695 sampai 17'372\\xa0km (5'235 sampai 9'380 mil nautikal). Penerbangan pertama Boeing 777 pada 1994.\", 'title': 'Boeing 777'}, {'docid': '28726#0', 'text': 'Boeing 767 adalah pesawat berbadan lebar penumpang sipil dengan mesin jet berukuran menengah yang dibangun oleh Boeing Commercial Airplanes. Pesawat ini pesawat berbadan lebar dengan mesin \"twinjet\" pertama yang diproduksi oleh pabrikan tersebut dan pesawat pertama dengan kaca kokpit untuk dua awak. Pesawat ini memiliki dua mesin turbofan, ekor konvensional, dan untuk mengurangi hambatan aerodinamis, sebuah desain sayap superkritis. Dirancang sebagai pesawat berbadan lebar yang lebih kecil dari pesawat yang telah ada sebelumnya seperti 747, 767 memiliki kapasitas 181-375 orang dan di desain untuk menempuh jarak sejauh , tergantung pada variannya. Pengembangan 767 terjadi bersamaan dengan pengembangan pesawat berbadan lebar lainnya yaitu 757, sehingga fitur desain yang sama yang memungkinkan pilot untuk mendapatkan umum rating tipe untuk mengoperasikan kedua pesawat ini.', 'title': 'Boeing 767'}, {'docid': '716069#0', 'text': 'Bank of Beijing () () adalah salah satu bank komersial bermarkas di Beijing, Republik Rakyat Tiongkok. Didirikan pada 8 Januari 1996 sebagai Beijing City Commercial Bank (kadang-kadang disebut sebagai Beijing Commercial Bank), bank ini mengadopsi nama sekarang pada Januari 2005. Pemegang saham terbesar di bank ini termasuk: Pemerintah Kota Beijing, dan ING dari Belanda.', 'title': 'Bank of Beijing'}, {'docid': '1497537#0', 'text': 'NASA Docking System (NDS) adalah docking pesawat ruang angkasa dan mekanisme berlabuh dikembangkan oleh NASA depan kendaraan eksplorasi ruang angkasa AS untuk masa, seperti Orion Multi-Purpose Crew Vehicle dan Commercial Crew vehicles. NDS adalah untuk menjadi implementasi NASA International Docking System Standard (IDSS) upaya oleh Multilateral Coordination Board (MCB) ISS untuk menciptakan docking standar internasional. NDS juga dikenal sebagai (internasional) Low Impact Docking System (iLIDS atau LID). Pada 2012 NASA memilih untuk mengadopsi desain alternatif bersumber dari Boeing atas desain iLIDS NDS.', 'title': 'NASA Docking System'}, {'docid': '1484741#0', 'text': 'Jet seri Boeing Business adalah sebuah varian dari pesawat Boeing yang untuk pasar jet perusahaan, awalnya pesawat seri komersial 737. Pesawat inimemiliki kursi biasanya antara 25 dan 50 penumpang dalam konfigurasi mewah. Ini termasuk kamar tidur utama, kamar kecil dengan kamar mandi, ruang konferensi / ruang makan, dan ruang tamu. Boeing Business Jet adalah 50/50 kemitraan antara Boeing Commercial Airplanes dan General Electric.', 'title': 'Boeing Business Jet'}, {'docid': '1073196#0', 'text': 'Boeing 787, atau Dreamliner, adalah pesawat penumpang sipil berbadan lebar ukuran sedang yang diproduksi oleh Boeing Commercial Airplanes dan memulai pelayanan pada 2011. B787 membawa antara 242 - 335 penumpang tergantung konfigurasi tempat duduk, dan akan lebih efisien bahan bakar dibandingkan dengan model-model sebelumnya. 787 juga akan menjadi pesawat penumpang pertama yang menggunakan material komposit di kebanyakan konstruksinya.', 'title': 'Boeing 787'}, {'docid': '16924#51', 'text': 'Pada tanggal 2 Agustus 2005, Boeing menjual divisi mesin roket Rocketdyne miliknya kepada Pratt & Whitney. Pada tanggal 1 Mei 2006, Boeing setuju untuk membeli Aviall, Inc. yang berbasis di Dallas, Texas sebesar $1.7 milyar dan mempertahankan $350 juta dalam hutang. Aviall, Inc. dan anak perusahaannya, Aviall Services, Inc. dan ILS membentuk anak perusahaan yang sepenuhnya dimiliki Boeing Commercial Aviation Services (BCAS).[58]', 'title': 'Boeing'}, {'docid': '848384#0', 'text': 'Boeing 2707 merupakan sebuah pesawat yang dirancang oleh Boeing Commercial Airplanes. Pesawat ini merupakan pesawat supersonik pertama di dunia.', 'title': 'Boeing 2707'}, {'docid': '16924#103', 'text': 'Airbus Group Boeing Commercial Airplanes Boeing Defense, Space & Security Boeing Renton Facility Comac UAC Persaingan antara Airbus dan Boeing Future of Flight Aviation Center & Boeing Tour – Museum publik milik perusahaan Plant 42', 'title': 'Boeing'}, {'docid': '201753#8', 'text': 'Pada Maret 2006, Excel Airways menandatangani perjanjian dengan GE Commercial Aviation Services (GECA) untuk penyewaan 2 pesawat Boeing 737-900ER (Extended Range) Next Generation yang dipasarkan oleh Boeing pada 2007 dan 2 Boeing 737-800 dengan pengiriman pada pertengahan 2007, 2 pesawat dari ILFC (International Lease Finance Corporation) dan 2 pesawat dari RBS Aviation Capital (bagian dari Royal Bank of Scotland). Semua pesawat disewa selama 8 tahun sebagai bagian dari rencana penambahan armada mereka.', 'title': 'XL Airways'}, {'docid': '724471#0', 'text': 'The Shanghai Commercial and Savings Bank () adalah salah satu bank didirikan pada Shanghai, Cina daratan pada tahun 1915 oleh Chen Guangfu, lebih dikenal sebagai K. P. Chen. The-Chin Chuang terpilih sebagai ketua pertama, dan pendiri Chen, adalah presiden pertama.', 'title': 'Shanghai Commercial and Savings Bank'}, {'docid': '688067#41', 'text': 'Pada 10 Maret 2008, manajemen Biman membuka rencana untuk membeli delapan pesawat berbadan lebar next-generation dari Boeing Commercial Airplanes dengan biaya total $1,26\\xa0juta. Delapan pesawat tersebut meliputi empat Boeing 777-300ER (dengan harga rata-rata $182.9\\xa0juta per unit) akan dikirimkan pada tahun 2013 dan empat Boeing 787–8 Dreamliners ($133.31\\xa0juta per unit) untuk bergabung dengan armada Biman pada tahun 2017. Boeing 777-300ER akan memiliki kapasitas tempat duduk 463 sedangkan Dreamliners berkapasitas 294.', 'title': 'Biman Bangladesh Airlines'}, {'docid': '696744#0', 'text': 'Boeing Commercial Airplanes (BCA) adalah sebuah perusaahan mendesain, merakit, dan menjual pesawat jet komersial besar dan menyediakan perawatan yang berhubungan dengan produk dan pelatihan untuk pelanggan di seluruh dunia. sepenuhnya dimiliki anak perusahaan dan divisi usaha induk Perusahaan Boeing , Boeing Commercial Airplanes beroperasi dari sebuah markas divisi di Renton, Washington dan lebih dari satu lusin rekayasa, manufaktur dan fasilitas perakitan di seluruh Amerika Serikat dan internasional. Boeing Commercial Airplanes termasuk pembagian aset Pesawat Douglas McDonnell Douglas Corporation , yang bergabung dengan Boeing pada tahun 1997. Presiden dan CEO Boeing Commercial Airplanes adalah James F. Albaugh , yang juga merupakan Wakil Eksekutif Presiden dari Perusahaan Boeing.', 'title': 'Boeing Commercial Airplanes'}, {'docid': '993841#15', 'text': \"McDonnell Douglas nantinya bergabung dengan kompetitornya, Boeing pada tahun 1997. Boeing nantinya menggabungkan 'Douglas Aircraft Company' dengan divisi 'Boeing Commercial Airplanes', yang secara otomatis juga mengakhiri 75 tahun berdirinya Douglas Aircraft Company. Boeing 717 (generasi ketiga dari Douglas DC-9) merupakan varian pesawat komersial terakhir yang dirakit di pabrik Long Beach, dan produksinya resmi dihentikan pada bulan Mei 2006. Sampai tahun 2011, Boeing C-17 Globemaster III adalah varian pesawat terakhir yang dirakit di pabrik ini.\", 'title': 'Douglas Aircraft Company'}, {'docid': '696744#2', 'text': 'Meskipun pesawat biasanya dipesan dengan fitur atau opsi atas permintaan maskapai penerbangan, ada model tertentu yang telah dibangun khusus untuk pelanggan.\\nContoh,Boeing 707-138B, memperpendek jarak jauh model hanya dijual ke Qantas .\\nBoeing 757-200 Combi adalah contoh-model tunggal yang dibangun untuk Royal Nepal Airlines (kemudian berganti nama menjadi Nepal Airlines), meskipun desain teknik dari pintu angkutan selanjutnya digunakan ketika UPS Airlines adalah pengguna pertama untuk beberapa 200PF kemudian .\\nJalur produksi boeing 747SP dibuka kembali hampir empat tahun setelah seharusnya final 747SP dibangun, untuk pembuatan pesawat untuk Uni Emirat Arab . . Ini memiliki awak kokpit dua bukannya tata letak tiga awak 747SPlainnya.\\nDua Boeing VC-25s dibangun untuk US Air Force sebagai Presiden Air Force One transportasi. This model was a highly modified 747-200. Model ini yang sangat dimodifikasi 747-200.\\n]]Boeing Commercial Airplanes (BCA) diatur sebagai berikut:', 'title': 'Boeing Commercial Airplanes'}, {'docid': '860637#0', 'text': \"Boeing 737 Classic adalah sebuah nama yang diberikan kepada seri -300/400/500 dari Boeing 737 mengikuti perkenalan dari seri -600/-700/-800/-900. Pesawat ini adalah penumpang sipil (airliner) berjangkauan pendek hingga medium dan berbadan sempit yang diproduksi oleh Boeing Commercial Airplanes. Seri klasik diperkenalkan sebagai 'Generasi baru' dari 737. Diproduksi dari 1984 sampai 2000, 1988 unit pesawat telah dikirim.\", 'title': 'Boeing 737 Classic'}, {'docid': '675905#0', 'text': 'Boeing 747-8 adalah pesawat komersial berbadan lebar yang diproduksi Boeing Commercial Airplanes. Secara resmi Boeing mengumumkan proyek ini pada tahun 2005, evolusi 747-8 adalah varian terbaru dari Boeing 747 dengan memperpanjang badan pesawat, merancang ulang sayap dan peningkatan efisiensi bahan bakar. Pesawat ini juga mampu terbang dengan kecepatan 0,85 mach (917 km/h) dan merupakan salah satu pesawat subsonik tercepat di dunia. Pesawat ini merupakan satu-satunya model Boeing 747 yang saat ini masih diproduksi.', 'title': 'Boeing 747-8'}, {'docid': '728169#1', 'text': 'Boeing Commercial Airplanes mengumumkan pada tanggal 13 Oktober 2003, karena lamanya waktu yang dibutuhkan untuk pengiriman barang dari darat dan pelayaran laut , angkutan udara adalah metode utama mengangkut suku cadang untuk Boeing 787 Dreamliner(sebelumnya dikenal sebagai 7E7). Awalnya tiga penumpang pesawat 747-400 yang digunakan itu harus diubah menjadi konfigurasi outsize untuk feri sub-rakitan dari Jepang dan Italia untuk North Charleston, South Carolina dan kemudian keWashington untuk perakitan akhir, tetapi keempat kemudian ditambahkan ke program .Large Cargo Freighter memiliki pesawat menonjol mirip dalam konsep ke Super Guppy dan Airbus beluga, yang juga digunakan untuk mengangkut sayap dan bagian pesawat. Hal ini dapat menggelar tiga kali volume-400F dari pesawat barang 747', 'title': 'Boeing 747 Large Cargo Freighter'}, {'docid': '13065#1', 'text': 'Pesawat empat mesin ini, diproduksi oleh Boeing Commercial Airplanes, menggunakan konfigurasi dua dek di mana dek atas digunakan untuk kelas bisnis. Konfigurasi 3-kelas (kelas pertama, kelas bisnis dan kelas ekonomi) mampu menampung 400 penumpang dan konfigurasi 1-kelas (hanya kelas ekonomi saja) mampu menampung 600 penumpang.', 'title': 'Boeing 747'}, {'docid': '16924#1', 'text': 'Kantor pusat perusahaan The Boeing Company berlokasi di Chicago dan dipimpin oleh Presiden dan CEO Dennis Muilenburg.[7][8][9][10] Boeing diorganisir menjadi lima divisi utama: Boeing Commercial Airplanes (BCA); Boeing Defense, Space & Security (BDS); Engineering, Operations & Technology; Boeing Capital; dan Boeing Shared Services Group. Pada tahun 2015, Boeing mencatat penjualan sebesar $96.11 milyar, menduduki peringkat ke-27 dalam daftar \"Fortune 500\" (2015) di majalah Fortune,[11] peringkat ke-90 dalam daftar \"Fortune Global 500\" (2015), dan peringkat ke-27 dalam daftar \"World\\'s Most Admired Companies\" (\"Perusahaan Paling Dikagumi di Dunia\") tahun 2015.[12]', 'title': 'Boeing'}, {'docid': '16924#30', 'text': 'Jumlah karyawan Commercial Airplane Group, unit terbesar dari Boeing, menyusut dari 83.700 karyawan pada tahun 1968 menjadi 20.750 karyawan pada tahun 1971. Setiap karyawan Boeing yang di-PHK dibayar setidaknya dengan satu pekerjaan lain, pengangguran naik menjadi 14 persen, tertinggi di Amerika Serikat. Karyawan yang dirumahkan naik menjadi 16 persen dari awalnya 1 persen pada tahun 1967. Dealer U-Haul kehabisan trailer karena begitu banyak orang yang pindah. Sebuah baliho muncul di dekat bandara:[34]:303–304', 'title': 'Boeing'}]}\n",
      "\n",
      "{'query_id': '1792', 'query': 'apakah nama mata uang Jepang ?', 'positive_passages': [{'docid': '2867#0', 'text': 'jmpl|Uang logam Jepang, ¥1, ¥5, ¥10, ¥50, ¥100, ¥500 Yen adalah mata uang Jepang. Simbol: ¥; atau dalam bahasa Jepang: en(円).', 'title': 'Yen'}], 'negative_passages': [{'docid': '27260#15', 'text': 'Dengan menggunakan ATM, nasabah dapat mengakses rekening bank mereka untuk membuat penarikan, uang tunai melalui kartu debit, dan memeriksa saldo rekening mereka serta membeli kredit ponsel prabayar. Jika mata uang yang ditarik dari ATM berbeda dengan rekening bank dalam mata uang (misalnya: Penarikan Yen Jepang dari rekening bank berisi Dolar AS), uang tersebut akan diubah satuan mata uangnya sesuai nilai tukar saat itu. Dengan demikian, ATM dapat dimanfaatkan untuk transaksi pertukaran uang bagi wisatawan asing.', 'title': 'ATM'}, {'docid': '18743#1', 'text': 'Pada 1837, mata uang Rupee India digunakan sebagai mata uang resmi di Penempatan Selat (yaitu Negeri-negeri Selat; Straits Settlements) tetapi pada 1867, dolar Perak kembali digunakan. Pada tahun 1903, dolar Selat ditetapkan senilai 2 shilling dan empat pence (mata uang Britania saat itu) setelah diperkenalkan oleh Dewan Pengatur Mata Uang (Board of Commissioners of Currency). Bank-bank swasta dilarang mengeluarkan uang kertas. Namun penggunaan mata uang ini terhenti akibat penaklukan Jepang pada 1942 hingga 1975 dan ketika mata uang ini ditetapkan kembali berdasarkan Pound Sterling pada 1967, nilai uang Selat telah jatuh sebanyak 15% dari nilai asalnya. Mulai bulan Agustus 1975, nama \"Ringgit\" diterima secara resmi sebagai nama mata uang Malaysia. Sebelumnya, uang dikenal sebagai dolar dalam bahasa Inggris dan ringgit dalam bahasa Melayu. Namun penggunaan simbol $ tetap digunakan hingga akhirnya diganti menjadi RM pada tahun 1990-an. Sejak krisis ekonomi Asia pada 1997, mata uang ringgit dipatok pada dolar Amerika Serikat pada nilai yang tetap yaitu RM 3,80 untuk satu dolar AS. Pada 21 Juli 2005, Bank Negara Malaysia memutuskan untuk mengambangkan ringgit terhadap beberapa mata uang besar. Hal ini dilakukan pada hari yang sama dengan revaluasi yuan China.', 'title': 'Ringgit'}, {'docid': '549039#1', 'text': 'Gulden Antillen Belanda saat ini masih digunakan sebagai nama alat tukar resmi. Gulden dahulu juga dipakai oleh Suriname sebagai nama mata uangnya, namun sejak 2004 sudah beralih ke dolar. Guilder pun adalah mata uang Guyana Inggris antara 1796 dan 1839. Indonesia telah menggunakan mata uang gulden Belanda sejak tahun 1610 hingga 1817. Setelah tahun 1817, dikenalkan mata uang gulden Hindia Belanda, yang digunakan sampai tibanya pendudukan Jepang pada Perang Dunia ke-2. Ketika terjadinya kedatangan Sekutu dan NICA, mereka pun sempat membuat gulden NICA, meskipun saat itu penggunaan rupiah sudah meluas. Penggunaan gulden terakhir di wilayah Indonesia adalah sebagai mata uang Nugini Belanda, yang digunakan hingga tahun 1963.', 'title': 'Gulden'}, {'docid': '2447552#1', 'text': 'Sebuah mata uang adalah sebuah jenis dari uang dan media tukar. Mata uang meliputi uang kertas, kapas, atau polimer dan koin metal. Negara-negara umumnya memiliki monopoli atas pengeluaran mata uang, meskipun beberapa negara berbagi mata uang dengan negara lainnya. Untuk keperluan dari daftar ini. hanya mata-mata uang yang menjadi alat tukar sah, termasuk mata-mata uang yang dipakai dalam perdagangan sebenarnya atau dikeluarkan untuk keperluan komemoratif, yang dianggap \"mata uang yang beredar\". Ini meliputi unit fraksional yang tak memiliki bentuk fisik namun diakui oleh negara yang mengeluarkan, seperti \"mill\" dari Amerika Serikat, \"millime\" dari Mesir, dan \"rin\" dari Jepang.\\nMata-mata uang yang dipakai oleh entitas non-negara, seperti Ordo Militer Berdaulat Malta, dipakai oleh entitas-entitas swasta dan mata-mata uang swasta, virtual dan alternatif lainnya tidak dicantumkan pada daftar ini.', 'title': 'Daftar mata uang yang beredar'}, {'docid': '713324#6', 'text': 'Pada tahun 1880, Yokohama Specie Bank (\"Yokohama Shokin Ginko\") mulai beroperasi di Jepang dengan kantor pusatnya di kota pelabuhan Yokohama. Yokohama Specie Bank adalah salah satu bank asal Jepang yang berekspansi secara global, dengan membuka kantor perwakilan di New York, Amerika Serikat pada tahun 1880, dan London pada tahun 1881. Yokohama Specie Bank berpartisipasi dalam perdagangan mata uang asing dan pembiayaan perdagangan, serta membuka banyak kantor cabang di seluruh dunia, termasuk Hindia Belanda. Yokohama Specie Bank terus beroperasi secara global hingga usai berakhirnya Perang Dunia II, pada tahun 1946, Yokohama Specie Bank dibubarkan oleh Komando Tertinggi Sekutu yang selama beberapa tahun menduduki Jepang. Dengan tetap mempertahankan sifat bisnisnya yang global dan berfokus pada pembiayaan perdagangan serta mata uang asing, nama Yokohama Specie Bank tidak lagi digunakan, namun diganti dengan nama yang dipilih dari gagasan-gagasan yang dimiliki para karyawan, yaitu \"Bank of Tokyo\".', 'title': 'MUFG Bank'}, {'docid': '2055696#2', 'text': 'Nilai XDR didasarkan pada keranjang mata uang internasional yang ditinjau oleh DMI setiap lima tahun. Bobot setiap mata uang dalam keranjang XDR disesuaikan dengan penting tidaknya mata uang tersebut dalam perdagangan internasional dan cadangan valuta asing nasional. Dalam tinjauan November 2015, DMI memutuskan bahwa Renminbi (Yuan Cina) akan ditambahkan ke keranjang mata uang tersebut pada 1 Oktober 2016. Sejak saat itu, XDR dapat ditukar dengan lima mata uang berikut: dolar Amerika Serikat\\xa041,73%, Euro\\xa030.93%, yuan Cina\\xa010,92%, yen Jepang\\xa08,33%, pound Britania Raya\\xa08,09%.', 'title': 'Hak penarikan khusus'}, {'docid': '14704#1', 'text': 'Krisis ini bermula di Thailand (dikenal dengan nama krisis Tom Yam Gung di Thailand; Thai: วิกฤตต้มยำกุ้ง) seiring jatuhnya nilai mata uang baht setelah pemerintah Thailand terpaksa mengambangkan baht karena sedikitnya valuta asing yang dapat mempertahankan jangkarnya ke dolar Amerika Serikat. Waktu itu, Thailand menanggung beban utang luar negeri yang besar sampai-sampai negara ini dapat dinyatakan bangkrut sebelum nilai mata uangnya jatuh.[1] Saat krisis ini menyebar, nilai mata uang di sebagian besar Asia Tenggara dan Jepang ikut turun,[2] bursa saham dan nilai aset lainnya jatuh, dan utang swastanya naik drastis.[3]', 'title': 'Krisis finansial Asia 1997'}, {'docid': '2697419#0', 'text': 'Uang invasi Jepang, secara resmi dikenal sebagai Uang Kertas Pembangunan Selatan ( \"Dai Tō-A Sensō gunpyō\", uang kertas darurat militer \"Perang Asia Timur Raya\"), adalah mata uang yang dikeluarkan oleh Otoritas Militer Jepang, sebagai pengganti mata uang lokal setelah penaklukan koloni-koloni dan negara-negara lainnya dalam Perang Dunia II. Pada Februari 1942 di Jepang, undang-undang disahkan dengan membentuk Bank Keuangan Masa Perang dan Bank Pembangunan Selatan. Kedua institusi ini menerbitkan obligasi untuk menghimpun dana. Bank yang pertama meminjamkan uang terutama untuk industri militer, tetapi juga untuk berbagai usaha lain, termasuk pembangkit listrik tenaga air, perusahaan tenaga listrik, pembuatan kapal, dan minyak bumi. Sementara bank yang kedua menyediakan jasa keuangan di daerah-daerah yang diduduki oleh militer Jepang, dan uang kertas Bank Pembangunan Selatan pada kenyataannya digunakan sebagai uang kertas darurat militer \"de facto\". Pada Desember 1942, saldo uang kertas Bank Pembangunan Selatan dalam peredaran mencapai lebih dari 470 juta; pada Maret 1945, lebih dari 13 miliar.', 'title': 'Uang invasi Jepang'}, {'docid': '14059#3', 'text': 'ISO 4217 juga mengandung definisi hubungan antara satuan utama dan satuan pecahan suatu mata uang. Umumnya, satuan pecahan suatu mata memiliki nilai 1/100 satuan utamanya walaupun 1/10 atau 1/1000 juga sering ditemukan. Beberapa mata uang tidak memiliki satuan pecahannya sama sekali. Satuan pecahan eberapa mata uang memiliki nilai yang sangat kecil sehingga tidak digunakan lagi (contohnya: \"sen\" Jepang, 1/100 yen). Beberapa mata uang tidak memiliki pecahan, contohnya 1 ouguiya (UM) = 5 khoums. 1 ariary = 5 iraimbilanja. Satuan non pecahan seperti ini dalam ISO 4217 didefinisikan sebagai eksponen mata uang. USD memiliki eksponen mata uang 2, sedangkan yen memiliki eksponen mata uang 0.', 'title': 'ISO 4217'}, {'docid': '779559#2', 'text': 'Ketika Jepang diduduki Myanmar pada tahun 1942, mereka memperkenalkan mata uang baru: rupee, setiap satuannya terbagi menjadi 100 \"sen\". Mata uang ini hanya diterbitkan dalam bentuk kertas. Rupee ini digantikan oleh kyat pada tahun 1943. Pada tahun 1945, mata uang pendudukan Jepang dinyatakan tidak berharga dan Myanmar kembali untuk menggunakan uang koin India dan uang kertas rupee sendiri.', 'title': 'Rupee Myanmar'}, {'docid': '2697419#2', 'text': 'Dimulai dengan direbutnya Filipina, militer Jepang mengambil alih semua mata uang kuat, baik pada tingkat federal maupun individu, menggantinya dengan uang kertas yang dicetak secara lokal ditandai dengan proklamasi emisi militer. Semua uang kertas membawa nama pemerintahan Kekaisaran Jepang, dan beberapa uang kertas memproklamasikan \"janji untuk membayar pembawa atas permintaan\". Disebut \"Uang Tikus Mickey\" oleh orang Filipina setempat, uang ini menjadi tidak bernilai setelah penggulingan Jepang, dan berton-ton dibakar. Pasukan Jepang diperintahkan untuk menghancurkan catatan bank dan semua mata uang yang tersisa sebelum penyerahan.', 'title': 'Uang invasi Jepang'}, {'docid': '822204#2', 'text': 'Namun peredaran ORI tersebut sangat terbatas dan tidak mencakup seluruh wilayah Republik Indonesia.\\nDi Sumatera yang beredar adalah mata uang rupiah Jepang. Dalam peredarannya mata uang Jepang terlalu banyak di masyarakat, sehingga nilai terus merosot. Sebaliknya harga-harga barang terus melambung tinggi.', 'title': 'Uang Republik Indonesia Propinsi Sumatera'}, {'docid': '2697419#3', 'text': 'Pada akhir Perang Dunia II, perang berakhir dan mata uang yang beredar yang mencantumkan nama Jepang segera menjadi kertas yang tidak berguna. Uang yang diterbitkan termasuk Filipina, Burma (sekarang Myanmar), Malaya, Borneo Utara dan Sarawak (sekarang Malaysia), Singapura, Brunei, Hindia Timur Belanda (sekarang Indonesia), dan beberapa wilayah Oseania (New Guinea, Solomon, dan Kepulauan Gilbert).', 'title': 'Uang invasi Jepang'}, {'docid': '14059#0', 'text': 'ISO 4217 adalah standar internasional yang ditetapkan oleh International Organization for Standardization atau ISO yang berisi kode tiga huruf (juga disebut dengan kode mata uang) yang mendefinisikan nama mata uang. Daftar kode ISO 4217 dipakai oleh perbankan dan bisnis di seluruh dunia untuk mendefinisikan mata uang. Di beberapa negara, kode-kode mata uang tersebut sudah dikenal luas sehingga nilai kurs yang diumumkan di surat kabar dan bank menggunakan kode-kode ini dibandingkan nama mata uang yang telah diterjemahkan atau simbol mata uang lainnya.', 'title': 'ISO 4217'}, {'docid': '1160758#0', 'text': 'Paʻanga adalah mata uang negara Tonga. Mata uang ini dikendalikan oleh Bank Cadangan Nasional Tonga (\"Pangikē Pule Fakafonua o Tonga\") di Nukuʻalofa. Paʻanga tidak dikonversikan dan dipatok ke mata uang yang terdiri dari dollar Australia, Selandia Baru, dan Amerika Serikat dan juga yen Jepang.', 'title': \"Pa'anga\"}, {'docid': '875694#0', 'text': 'Tanda mata uang adalah simbol grafis yang digunakan sebagai singkatan untuk sebuah nama mata uang, terutama mengacu pada jumlah uang. Mereka biasanya menggunakan huruf pertama atau karakter mata uang, kadang-kadang dengan perubahan kecil seperti ligatur atau overlay vertikal atau horisontal. Hari ini, kode ISO 4217 ini digunakan sebagai pengganti tanda-tanda mata uang besar untuk tujuan resmi, meskipun tanda-tanda mata uang dapat menjadi umum digunakan dalam konteks lain. Beberapa mata uang di dunia tidak memiliki simbol pendek tangan sama sekali.', 'title': 'Tanda mata uang'}, {'docid': '1408324#0', 'text': 'Franc (₣) merupakan nama beberapa unit keuangan. Franc yang paling dikenali adalah Franc Swiss yang merupakan salah satu mata uang yang terpenting di dunia. Franc juga merupakan nama mata uang Perancis terdahulu, yaitu Franc Perancis, sebelum negara tersebut menerima pakai euro sebagai mata uang. Nama \"franc\" dikatakan berasal dari tulisan bahasa Latin \"francorum rex\" (Raja Orang Frank) pada koin Perancis awal, atau perkataan bahasa Perancis \"franc\", yang bermakna \"bebas\" atau \"jujur.\"', 'title': 'Franc (mata uang)'}, {'docid': '2867#2', 'text': 'Ada beberapa penjelasan tentang asal usul penggunaan aksara kanji en(円, lingkaran) untuk menulis lambang mata uang Jepang. Salah satunya adalah tradisi orang Jepang melambangkan uang dengan lingkaran yang dibentuk dari jari telunjuk dan ibu jari. Ōkuma Shigenobu mengatakan semua orang Jepang pasti tahu bahwa aksara kanji untuk \"lingkaran\" berarti uang. Penjelasan lain mengatakan uang logam bentuknya bundar, sehingga aksara kanji untuk lingkaran digunakan untuk menyebut uang. Pada waktu itu di Hong Kong dikeluarkan uang logam bertuliskan Hong Kong ichi en(香港壱圓), dan ditiru pemerintah Jepang yang memakai aksara kanji 圓 untuk melambangkan mata uang Jepang, namun menggunakan aksara kanji bentuk baru.', 'title': 'Yen'}, {'docid': '49501#9', 'text': 'Menurut keputusan Panitia Persiapan Kemerdekaan Indonesia, Soerachman menduduki posisi Menteri Kemakmuran dalam Kabinet Presidensial. Pada akhir pemerintahan Jepang dan awal pemerintahan Republik Indonesia, keadaan ekonomi kacau balau. Inflasi meningkat dengan hebat, adapun yang menjadi sumber inflasi adalah mata uang Jepang yang tidak terkendalikan. Peredaran mata uang Jepang diperkirakan sejumlah 4 Milyar. Sampai dengan bulan Agustus 1945 mata uang Jepang yang beredar di Jawa berjumlah 1,6 Milyar. Jumlah ini kemudian bertambah lagi ketika pasukan Serikat berhasil menduduki kota besar di Indonesia dan segera menguasai bank-bank. Dari bank-bank itu diedarkan uang cadangan sebesar 2,3 Milyar untuk tujuan operasi dan membiayai pembantu-pembantunya, menggaji pegawai dalam rangka mengembalikan pemerintahan kolonial Belanda. Pemerintah Indonesia tidak dapat menyatakan bahwa uang pendudukan Jepang tidak berlaku karena Negara Indonesia belum memiliki uang untuk menggantikannya. Kas pemerintah kosong, pajak-pajak dan bea masuk lainnya sangat berkurang, sebaliknya pengeluaran negara semakin bertambah besar. Untuk sementara waktu, kebijakan yang diambil pemerintah adalah mengeluarkan penetapan berlakunya mata uang sebagai tanda pembayaran yang sah di wilayah RI. Untuk itu, ditetapkan tiga macam mata uang: mata uang De Javasche Bank, mata uang pemerintah Hindia Belanda, dan mata uang pendudukan Jepang.', 'title': 'Pandji Soerachman Tjokroadisoerjo'}, {'docid': '903101#0', 'text': 'Won Korea Selatan (원) (simbol: ₩; kode: KRW) adalah mata uang resmi negara Korea Selatan. Mata uang ini dikeluarkan penggunaannya oleh Bank of Korea. Satu won dibagi menjadi 100 jeon, subunit moneter. Jeon tidak lagi digunakan untuk transaksi sehari-hari, dan muncul hanya dalam kurs valuta asing. Satu won Korea Selatan (pada 20 Februari 2015) adalah sama dengan 0,125349 won Korea Utara, pada kurs resmi Korea Utara.[2] \"Won\" adalah kognitif dari yuan Cina dan yen Jepang. Semua nama berasal dari Hanja 圓(원), yang berarti \"bentuk bulat\". Satu won dibagi menjadi 100 jeon (Korean:전;Hanja:錢;RR:jeon;MR:chŏn), yang berarti \"uang\", kata asal Hanja mengacu pada uang logam perunggu dan tembaga lama.', 'title': 'Won Korea Selatan'}, {'docid': '2714523#7', 'text': 'Hanya ada dua penantang serius untuk status dolar Amerika Serikat sebagai mata uang global. Selama tahun 1980-an, yen Jepang semakin digunakan sebagai mata uang internasional, tetapi penggunaan berkurang setelah Jepang mengalami resesi di tahun 1990-an. Baru-baru ini, Euro telah semakin bersaing dengan dolar Amerika Serikat sebagai mata uang internasional.', 'title': 'Mata uang global'}, {'docid': '2398143#22', 'text': 'Peredaran mata uang yang berbeda-beda secara liar mengakibatkan munculnya ketidakstabilan kegiatan ekonomi di indonesia, dimana pada saat itu terdapat 3 mata uang yang berbeda yaitu, mata uang De Javasche Bank, mata uang pemerintah Hindia Belanda, dan mata uang pendudukan Jepang. Pada saat itu diperkirakan mata uang Jepang yang beredar di masyarakat sebesar 4 miliar. Dari jumlah tersebut, yang beredar di Jawa saja, diperkirakan mencapai 1,6 miliar. Hal ini mengakibatkan terjadinya inflasi yang tidak terkendali dan hal ini mengakibatkan sebagian besar kalangan masyarakat kalangan bawah seperti masyarakat umum dan petani kesulitan untuk memakai uangnya untuk ditukarkan menjadi bahan pangan dan kebutuhan sehari-hari karena harganya yang tidak terjangkau. Oleh karena itu, untuk sementara waktu Pemerintah RI menetapkan secara resmi tiga mata uang berlaku di wilayah RI. Meski kebijakan \"tri-currency\" diberlakukan, hal tersebut tidak berdampak secara signifikan pada laju inflasi yang terjadi di Indonesia, karena pada saat itu Indonesia masih berjuang lagi untuk mempertahankan kemerdekaan Indonesia setelah diketahui bahwa sekutu kembali ke Indonesia dibawah pimpinan Panglima AFNEI untuk mengembalikan Indonesia dari penjajahan Jepang kepada Belanda.', 'title': 'Sejarah ekonomi Indonesia'}, {'docid': '2398143#23', 'text': 'Kedatangan armada pasukan AFNEI diberbagai penjuru pulau Indonesia dimanfaatkan oleh sekutu dengan menduduki beberapa kota besar di Indonesia dan menguasai instansi keuangan seperti kantor kas perbankan. Penguasaan bank-bank oleh Sekutu bertujuan agar mampu mengedarkan uang cadangan sebesar 2,3 miliar untuk keperluan operasi mereka. Panglima AFNEI, Letnan Jenderal Sir Montagu Stopford pada tanggal 6 Maret 1946 mengumumkan berlakunya uang NICA di daerah-daerah yang dikuasai sekutu yang bertujuan untuk mengganti mata uang Jepang yang nilainya sudah sangat turun. Pemerintah melalui Perdana Menteri Syahrir memprotes kebijakan tersebut. Karena hal itu berarti pihak Sekutu telah melanggar persetujuan yang telah disepakati, yakni selama belum ada penyelesaian politik mengenai status Indonesia, tidak akan ada mata uang baru. Pemerintah RI langsung merespon langkah sekutu dengan mencetak dan mengedarkan mata uang baru yaitu Oeang Republik Indonesia (ORI) sebagai pengganti uang Jepang untuk mempertahankan kedaulatan ekonomi Indonesia yang dilaksanakan oleh Bank Negara Indonesia yang didirikan pada tanggal 1 November 1946 yang dipimpin oleh Margono Djojohadikusumo.', 'title': 'Sejarah ekonomi Indonesia'}, {'docid': '954410#6', 'text': 'Setelah penaklukan oleh Aleksander Agung, nama drakhma digunakan pada banyak kerajaan Helenistik di Timur Tengah, termasuk kerajaan Ptolemaik di Alexandria. Satuan mata uang Arabia yang dikenal sebagai dirham (dalam bahasa Arab, درهم), dikenal dari zaman pra-Islam dan seterusnya, mendapatkan nama ini dari drakhma atau didrachm (δίδραχμον, yang bernilai \"2 drakhma\"). Mata uang \"Dirham\" sampai sekarang masih merupakan mata uang resmi di negara Maroko dan Uni Emirat Arab. Mata uang \"Dram Armenia\" juga merupakan turunan nama drakhma.', 'title': 'Drakhma'}, {'docid': '50238#16', 'text': 'Setelah Jepang menyerah pada 15 Agustus 1945, Indonesia segera memproklamirkan kemerdekaan Republik Indonesia tanggal 17 Agustus 1945. Kota Jakarta dijadikan pusat pemerintahan. Pada masa ini, Gedung Department of Financien masih berfungsi sebagai pusat kegiatan pengolahan keuangan sehari-hari. Keadaan ekonomi keuangan awal kemerdekaan amat buruk, dimana terjadi inflasi yang tinggi yang disebabkan beredarnya tiga buah mata uang yang berlaku di wilayah RI, yaitu mata uang De Javasche Bank, mata uang pemerintah Hindia Belanda, dan mata uang pendudukan Jepang. Mata uang Jepang yang beredar sekitar 4 Milyar dan uang merah NICA menyebabkan terjadinya inflasi tinggi. Permasalahan ekonomi ini menyebabkan diadakannya rapat tanggal 2 september 1945 oleh BPKKP dan BKR di karesidenan Surabaya. Mereka sama-sama menyadari, disamping mempertahankan kemerdekaan selain kekuatan bersenjata juga diperlukan kekuatan dana untuk membiayai perjuangan itu.[1]', 'title': 'Kementerian Keuangan Indonesia'}, {'docid': '2714523#22', 'text': 'Untuk mengatasi kendala sulitnya integrasi negara-negara di dunia dalam sistem mata uang tunggal, Global Currency Initiative (GCI), membuat konsep sistem mata uang organik atau hibrid, yaitu menggabungkan antara sistem mata uang lokal dan sistem mata internasional. Nama sistemnya adalah Organic Global Currency atau disingkat OGC. OGC adalah sistem mata uang internasional yang dibuat, digunakan, dan dikelola bersama-sama oleh seluruh negara anggota di seluruh dunia, tanpa batasan regional. OGC hanya dipergunakan untuk transaksi internasional. Untuk transaksi lokal, setiap negara masih menggunakan mata uang masing-masing. Dengan dipertahankannya sistem mata uang lokal maka sistem OGC tidak memerlukan persyaratan integrasi ekonomi atau OCR sebagaimana disyaratkan dalam sistem mata uang tunggal.', 'title': 'Mata uang global'}, {'docid': '2639435#1', 'text': 'Pada mulanya, nama Yokohama Specie Bank berasal dari \"specie\", sejenis mata uang perak yang berlaku sebagai mata uang perdagangan internasional pada abad ke-19. Hal ini dimaksudkan pula agar Yokohama Specie Bank bertransaksi secara eksklusif dengan menggunakan specie, untuk mengatasi depresiasi nilai perak tersebut. Walau demikian, langkah ini hampir mendorong bank kepada kebangkrutan, hingga pemerintah Jepang terpaksa menyediakan pinjaman darurat untuk menyelamatkan bank.', 'title': 'Yokohama Specie Bank'}, {'docid': '389420#1', 'text': 'Dalam sistem pertukaran dinyatakan oleh yang pernyataan besaran jumlah unit yaitu \"mata uang\" (atau \"harga mata uang\" atau \"sarian mata uang\") yang dapat dibeli dari 1 penggalan \"unit mata uang\" (disebut pula sebagai \"dasar mata uang\"). sebagai contoh, dalam penggalan disebutkan bahwa kurs EUR-USD adalah 1,4320 (1,4320 USD per EUR) yang berarti bahwa penggalan mata uang adalah dalam USD dengan penggunaan penggalan nilai dasar tukar mata uang adalah EUR\\n\"Sistem nilai tukar mata uang bebas-apung\" merupakan nilai tukar yang dibolehkan untuk berbeda terhadap yang lain dan mata uang ditentukan berdasarkan kekuatan-kekuatan pasar atas dari penawaran dan permintaan nilai tukar mata uang akan cenderung berubah hampir selalu seperti yang akan dikutip pada papan pasar keuangan, terutama oleh bank-bank di seluruh dunia sedangkan dalam penggunaan \"sistem pasak nilai tukar mata uang\" atau merupakan nilai tukar tetap dengan ketentuan berlakunya devaluasi dari nilai mata uang berdasarkan sistem Bretton Woods.RER sebenarnya hanya ada pada teori ideal. Dalam praktik, terdapat banyak mata uang asing dan harga ke tingkat nilai yang dipertimbangkan. bersamaan dengan ini, model perhitungan semakin menjadi lebih rumit. Selain itu, model ini didasarkan pada \"purchasing power parity (PPP)\" yang dapat berarti sebuah konstan dari RER. secara empiris dalam penentuan nilai konstan RER tidak akan bisa disadari, karena keterbatasan pada data. dalam PPP akan menyiratkan bahwa RER adalah tingkat di mana suatu organisasi dapat memperdagangkan barang dan jasa dari satuan ekonomi (misalnya negara) untuk orang perorang yang lain. Misalnya, jika harga yang meningkat 10% di Inggris dan pada mata uang Jepang akan sekaligus menghargai 10% terhadap mata uang Inggris serta harga barang akan tetap konstan untuk seseorang di Jepang. Sedangkan bagi orang di Inggris masih akan tetap berkaitan dengan kenaikan harga 10% di dalam negerinya. Ini juga menyebutkan bahwa harga atau nilai dasar tarif yang ditetapkan pemerintah dapat merupakan ikutan dalam memengaruhi nilai tukar, untuk membantu untuk mengurangi tekanan harga. PPP akan terus muncul hanya dalam jangka panjang (3-5 tahun), ketika harga akhir menjadi sama terhadap paritas daya beli', 'title': 'Nilai tukar'}, {'docid': '2055696#3', 'text': 'Nilai XDR ditentukan oleh nilai beberapa mata uang utama dalam sistem perdagangan dan keuangan dunia. Awalnya, nilai XDR ditetapkan, jadi 1 XDR = 1 dolar A.S., namun model seperti itu dihapus dan diganti dengan keranjang mata uang setelah sistem nilai tukar tetap Bretton Woods bubar pada tahun 1973. Pada Juli 1974 sampai Desember 1980, XDR terdiri dari 16 mata uang. Sejak Januari 1981 sampai kelahiran euro, keranjang ini diperbarui dan terdiri dari dolar A.S., mark Jerman, franc Perancis, pound Britania, dan yen Jepang. Ketika euro diperkenalkan bulan Januari 1999, euro menggantikan mark dan franc; keranjang mata uang pun terdiri dari dolar A.S., euro, pound Britania, dan yen Jepang. Terhitung 1 Oktober 2016, Renminbi Cina akan masuk keranjang mata uang XDR.', 'title': 'Hak penarikan khusus'}, {'docid': '15703#0', 'text': 'Seperti sebagian besar lembaga nasional Jepang lainnya, Bank of Japan didirikan setelah terjadinya Restorasi Meiji. Sebelum restorasi, para tuan tanah Jepang mengeluarkan mata uang mereka masing-masing, yaitu hansatsu, dengan kesetaraan yang tidak jelas satu sama lain, tetapi Undang-Undang Mata Uang Baru pada tahun 4 Meiji (1871) menyatakan bahwa yen adalah mata uang resmi baru.', 'title': 'Bank of Japan'}]}\n",
      "\n"
     ]
    }
   ],
   "source": [
    "# Ambil 5 baris acak dari split 'train'\n",
    "random_sample = mr_tydi['train'].shuffle(seed=42).select(range(5))\n",
    "\n",
    "# Tampilkan isi baris yang diambil\n",
    "for row in random_sample:\n",
    "    print(row)\n",
    "    print()"
   ]
  },
  {
   "cell_type": "markdown",
   "metadata": {},
   "source": [
    "__Memahami kolom positive_passages__"
   ]
  },
  {
   "cell_type": "code",
   "execution_count": 54,
   "metadata": {},
   "outputs": [],
   "source": [
    "import json\n",
    "\n",
    "# Ambil salah satu row dari random_sample\n",
    "sample_row = random_sample[0]  # Mengambil baris pertama dari random_sample\n",
    "with open(\"contoh_mr_tydi\", \"w\") as f:\n",
    "        json.dump(sample_row, f, indent=4)\n",
    "# # Periksa isi kolom positive_passages\n",
    "# positive_passages = sample_row['positive_passages']\n",
    "# positive_passages"
   ]
  },
  {
   "cell_type": "markdown",
   "metadata": {},
   "source": [
    "__Memahami kolom negative_passages__"
   ]
  },
  {
   "cell_type": "code",
   "execution_count": 11,
   "metadata": {},
   "outputs": [
    {
     "name": "stdout",
     "output_type": "stream",
     "text": [
      "jumlah negative passages dalam 1 row random: 29\n"
     ]
    },
    {
     "data": {
      "text/plain": [
       "[{'docid': '603582#0',\n",
       "  'text': 'Nokia N78 adalah produk telepon genggam yang dirilis oleh perusahaan Nokia. Telepon genggam ini memiliki dimensi 113 x 49 x 15.1 mm dengan berat 101.8 gram. Yang membuat ponsel ini terlihat futuristik adalah adanya penggabungan desain dari nokia Nokia N73 dan Nokia N77 menjadikan Nokia N78 menarik berkat desainer professional, Joeske Schellen.',\n",
       "  'title': 'Nokia N78'},\n",
       " {'docid': '444657#0',\n",
       "  'text': 'Ovi by Nokia adalah merek layanan Internet Nokia yang dapat digunakan dari peranti bergerak, komputer (melalui Nokia Ovi Suite) atau situs web (Ovi.com). Nokia berfokus pada lima bidang layanan kunci: permainan, peta, media, pengiriman pesan, dan musik. Ovi ditujukan untuk dapat menyertakan pihak ketiga, seperti operator dan layanan pihak ketiga seperti Flickr. Dengan diumumkannya API Ovi Maps Player , Nokia telah mulai mengembangkan layanan mereka menjadi suatu platform yang memungkinkan pihak ketiga untuk menggunakan layanan Ovi Nokia. Ovi memiliki peranan bagi langkah Nokia untuk masuk lebih dalam ke dunia layanan Internet yang menyebabkannya harus bersaing langsung dengan Microsoft, Google, dan Apple Inc. .\\nSignifikansinya adalah bahwa Nokia bergerak lebih dalam ke dalam dunia servis internet, di mana persaingan dengan Microsoft, Google, dan Apple akan tidak dapat dihindarkan. Ovi berasal dari bahasa Finlandia yang berarti “pintu”. Hingga 28 Februari 2010 terdapat hampir 1,5 juta download setiap harinya di seluruh penjuru dunia.',\n",
       "  'title': 'Ovi (Nokia)'},\n",
       " {'docid': '1438972#1',\n",
       "  'text': 'Didirikan pada 24 Juni 1998 sebagai bentuk kerja sama antara Ericsson, Nokia, Motorola, dan Psion untuk menguasai pangsa pasar PDA dan perangkat seluler. Sepuluh tahun setelah didirikan, pada 24 Juni 2008, Nokia mengumumkan akan membeli saham perusahan ini dengan biaya sebesar €264 juta.',\n",
       "  'title': 'Symbian Ltd.'},\n",
       " {'docid': '26149#13',\n",
       "  'text': 'Kategori:Perusahaan Finlandia Kategori:Perusahaan telekomunikasi Kategori:Perusahaan yang didirikan tahun 1865',\n",
       "  'title': 'Nokia'},\n",
       " {'docid': '443445#0',\n",
       "  'text': 'Nokia 3330 adalah sebuah telepon genggam GSM 900/1800, dengan antena dalam, keluaran Nokia. Telepon genggam ini diluncurkan pada tahun 2001 untuk melengkapi fitur Nokia 3310 yang sejenis. Tapi pada kenyataannya Nokia 3310, yang diluncurkan setahun lebih awal, yang menjadi pesaing produk ini di pasar telepon genggam khususnya di Indonesia. Kesamaan desain bentuk luar, fitur yang nyaris menyerupai, dan harga yang lebih murah karena lebih dahulu diluncurkan menjadi beberapa faktor yang menyebabkan Nokia 3310 tetap bersaing dengan Nokia 3330.',\n",
       "  'title': 'Nokia 3330'}]"
      ]
     },
     "execution_count": 11,
     "metadata": {},
     "output_type": "execute_result"
    }
   ],
   "source": [
    "# Periksa isi kolom positive_passages\n",
    "negative_passages = sample_row['negative_passages']\n",
    "print(\"jumlah negative passages dalam 1 row random:\", len(negative_passages))\n",
    "negative_passages[:5]"
   ]
  },
  {
   "cell_type": "markdown",
   "metadata": {},
   "source": [
    "__Mengecek jumlah positive_passages terbanyak, ditemukan bahwa semua positive_passages berisi satu elemen saja__"
   ]
  },
  {
   "cell_type": "code",
   "execution_count": 12,
   "metadata": {},
   "outputs": [
    {
     "name": "stdout",
     "output_type": "stream",
     "text": [
      "Jumlah positive_passages terbanyak: 1\n",
      "Row dengan positive_passages terbanyak:\n",
      "{'query_id': '0', 'query': 'dimanakah  Dr. Ernest François Eugène Douwes Dekker meninggal?', 'positive_passages': [{'docid': '7080#33', 'text': 'Ernest Douwes Dekker wafat dini hari tanggal 28 Agustus 1950 (tertulis di batu nisannya; 29 Agustus 1950 versi van der Veur, 2006) dan dimakamkan di TMP Cikutra, Bandung.', 'title': 'Ernest Douwes Dekker'}], 'negative_passages': [{'docid': '7074#0', 'text': 'dr. Tjipto Mangoenkoesoemo (EYD: Cipto Mangunkusumo) (Pecangaan, Jepara, Jawa Tengah, 1886 – Jakarta, 8 Maret 1943) adalah seorang tokoh pergerakan kemerdekaan Indonesia. Bersama dengan Ernest Douwes Dekker dan Ki Hajar Dewantara ia dikenal sebagai \"Tiga Serangkai\" yang banyak menyebarluaskan ide pemerintahan sendiri dan kritis terhadap pemerintahan penjajahan Hindia Belanda. Ia adalah tokoh dalam Indische Partij, suatu organisasi politik yang pertama kali mencetuskan ide pemerintahan sendiri di tangan penduduk setempat, bukan oleh Belanda. Pada tahun 1913 ia dan kedua rekannya diasingkan oleh pemerintah kolonial ke Belanda akibat tulisan dan aktivitas politiknya, dan baru kembali 1917.', 'title': 'Tjipto Mangoenkoesoemo'}, {'docid': '425142#0', 'text': 'Olaf Douwes Dekker () adalah penyair dan wartawan Belanda. Kakek moyangnya yang ke-4, Jan, adalah saudara dari penulis Eduard Douwes Dekker, terkenal sebagai Multatuli. Wartawan, penulis, dan aktivis politik Ernest Douwes Dekker adalah saudara kakeknya.', 'title': 'Olaf Douwes Dekker'}, {'docid': '44227#4', 'text': 'Selain itu juga disadari betapa pun baiknya usaha yang dibangun oleh orang Indonesia, tidak akan mendapat tanggapan rakyat tanpa adanya bantuan orang-orang bumiputera. Perlu diketahui bahwa E.F.E. Douwes Dekker dilahirkan dari keturunan campuran, ayah Belanda, ibu seorang Indonesia. Indische Partij merupakan satu-satunya organisasi pergerakan yang secara terang-terangan bergerak di bidang politik dan ingin mencapai Indonesia merdeka. Tujuan Indische Partij adalah untuk membangunkan patriotisme semua indiers terhadap tanah air. IP menggunakan media majalah \"Het Tijdschrifc\" dan surat kabar \"De Expres\" pimpinan E.F.E Douwes Dekker sebagai sarana untuk membangkitkan rasa kebangsaan dan cinta tanah air. Tujuan dari partai ini benar-benar revolusioner karena mau mendobrak kenyataan politik rasial yang dilakukan pemerintah kolonial. Tindakan ini terlihat nyata pada tahun 1913. Saat itu pemerintah Belanda akan mengadakan peringatan 100 tahun bebasnya Belanda dari tangan Napoleon Bonaparte (Perancis). Perayaan ini direncanakan diperingati juga oleh pemerintah Hindia Belanda. Adalah suatu yang kurang pas di mana suatu negara penjajah melakukan upacara peringatan pembebasan dari penjajah pada suatu bangsa yang dia sebagai penjajahnya. Hal yang ironis ini mendatangkan cemoohan termasuk dari para pemimpin Indische Partij. R.M. Suwardi Suryaningrat menulis artikel bernada sarkastis yang berjudul \"Als ik een Nederlander was\" (Andaikan aku seorang Belanda). Akibat dari tulisan itu R.M. Suwardi Suryaningrat ditangkap. Menyusul sarkasme dari Dr. Cipto Mangunkusumo yang dimuat dalam \"De Expres\" tanggal 26 Juli 1913 yang diberi judul \"Kracht of Vrees?\", berisi tentang kekhawatiran, kekuatan, dan ketakutan. Dr. Tjipto pun ditangkap, yang membuat rekan dalam Tiga Serangkai, Douwes Dekker mengkritik dalam tulisan di De Express tanggal 5 Agustus 1913 yang berjudul \"Onze Helden: Tjipto Mangoenkoesoemo en Soewardi Soerjaningrat\" (Pahlawan kita: Tjipto Mangoenkoesoemo dan Soewardi Soerjaningrat). Kecaman-kecaman yang menentang pemerintah Belanda menyebabkan ketiga tokoh dari Indische Partij ditangkap. Pada tahun 1913 mereka diasingkan ke Belanda. Douwes Dekker dibuang ke Kupang, NTT sedangkan Dr. Cipto Mangunkusumo dibuang ke Pulau Banda. Namun pada tahun 1914 Cipto Mangunkusumo dikembalikan ke Indonesia karena sakit. Sedangkan Suwardi Suryaningrat dan E.F.E. Douwes Dekker baru kembali ke Indonesia pada tahun 1919. Suwardi Suryaningrat terjun dalam dunia pendidikan, dikenal sebagai Ki Hajar Dewantara, mendirikan perguruan Taman Siswa. E.F.E Douwes Dekker juga mengabdikan diri dalam dunia pendidikan dan mendirikan yayasan pendidikan Ksatrian Institute di Sukabumi pada tahun 1940. Dalam perkembangannya, E.F.E Douwes Dekker ditangkap lagi dan dibuang ke Suriname, Amerika Selatan.', 'title': 'National Indische Partij'}, {'docid': '20439#25', 'text': 'Eduard Douwes Dekker kemudian pindah ke Ingelheim am Rhein dekat Sungai Rhein sampai akhirnya meninggal 19 Februari 1887.', 'title': 'Eduard Douwes Dekker'}, {'docid': '7080#1', 'text': 'Ia adalah salah seorang peletak dasar nasionalisme Indonesia di awal abad ke-20, penulis yang kritis terhadap kebijakan pemerintah penjajahan Hindia Belanda, wartawan, aktivis politik, serta penggagas nama \"Nusantara\" sebagai nama untuk Hindia Belanda yang merdeka. Setiabudi adalah salah satu dari \"Tiga Serangkai\" pejuang pergerakan kemerdekaan Indonesia, selain dr. Tjipto Mangoenkoesoemo dan Suwardi Suryaningrat.', 'title': 'Ernest Douwes Dekker'}, {'docid': '7080#38', 'text': 'Kategori:Pahlawan nasional Indonesia Kategori:Orang Indo Kategori:Menteri Kabinet Sjahrir III Kategori:Tokoh dari Pasuruan Kategori:Tokoh yang berpindah agama ke Islam Kategori:Tokoh Orde Lama', 'title': 'Ernest Douwes Dekker'}, {'docid': '7080#37', 'text': 'Italic or bold markup not allowed in: |publisher= (help)', 'title': 'Ernest Douwes Dekker'}, {'docid': '7080#5', 'text': 'Sewaktu Douwes Dekker \"kabur\" dari Suriname dan menetap sebentar di Belanda (1946), ia menjadi dekat dengan perawat yang mengasuhnya, Nelly Alberta Geertzema née Kruymel, seorang Indo yang berstatus janda beranak satu. Nelly kemudian menemani Douwes Dekker yang menggunakan nama samaran pulang ke Indonesia agar tidak ditangkap intelijen Belanda. Mengetahui bahwa Johanna telah menikah dengan Djafar, Douwes Dekker tidak lama kemudian menikahi Nelly, pada tahun 1947. Douwes Dekker kemudian menggunakan nama Danoedirdja Setiabuddhi dan Nelly menggunakan nama Haroemi Wanasita, nama-nama yang diusulkan oleh Sukarno. Sepeninggal Douwes Dekker, Haroemi menikah dengan Wayne E. Evans pada tahun 1964 dan kini tinggal di Amerika Serikat.', 'title': 'Ernest Douwes Dekker'}, {'docid': '7080#4', 'text': 'Kemudian Douwes Dekker menikah lagi dengan Johanna Petronella Mossel (1905-1978), seorang Indo keturunan Yahudi, pada tahun 1927. Johanna adalah guru yang banyak membantu kegiatan kesekretariatan Ksatrian Instituut, sekolah yang didirikan Douwes Dekker. Dari perkawinan ini mereka tidak dikaruniai anak. Di saat Douwes Dekker dibuang ke Suriname pada tahun 1941 pasangan ini harus berpisah, dan di kala itu kemudian Johanna menikah dengan Djafar Kartodiredjo, yang juga merupakan seorang Indo (sebelumnya dikenal sebagai Arthur Kolmus), tanpa perceraian resmi terlebih dahulu. Tidak jelas apakah Douwes Dekker mengetahui pernikahan ini karena ia selama dalam pengasingan tetap berkirim surat namun tidak dibalas.', 'title': 'Ernest Douwes Dekker'}, {'docid': '441326#2', 'text': 'Pahlawan nasional Indonesia, Ernest Douwes Dekker, adalah alumnus universitas ini.', 'title': 'Universitas Zürich'}, {'docid': '7080#36', 'text': 'Daftar tokoh Indonesia Daftar tokoh Eropa-Indonesia', 'title': 'Ernest Douwes Dekker'}, {'docid': '7080#0', 'text': 'Dr. Ernest François Eugène Douwes Dekker (umumnya dikenal dengan nama Douwes Dekker atau Danudirja Setiabudi; ) adalah seorang pejuang kemerdekaan dan pahlawan nasional Indonesia.', 'title': 'Ernest Douwes Dekker'}, {'docid': '7080#17', 'text': 'jmpl|200px|Universitas Zurich, tempat Ernest Douwes Dekker menempuh pendidikan tingginya. Masa di Eropa dimanfaatkan oleh Nes untuk mengambil program doktor di Universitas Zürich, Swiss, dalam bidang ekonomi. Di sini ia tinggal bersama-sama keluarganya. Gelar doktor diperoleh secara agak kontroversial dan dengan nilai \"serendah-rendahnya\", menurut istilah salah satu pengujinya. Karena di Swis ia terlibat konspirasi dengan kaum revolusioner India, ia ditangkap di Hong Kong dan diadili, kemudian ia ditahan di Singapura (1918). Setelah dua tahun dipenjara, ia pulang ke Hindia Belanda 1920.', 'title': 'Ernest Douwes Dekker'}, {'docid': '7074#17', 'text': 'Pada tahun 1912 Cipto pindah dari Solo ke Bandung, dengan dalih agar dekat dengan Douwes Dekker. Ia kemudian menjadi anggota redaksi penerbitan harian de Express dan majalah het Tijdschrijft. Perkenalan antara Cipto dan Douwes Dekker yang sehaluan itu sebenarnya telah dijalin ketika Douwes Dekker bekerja pada Bataviaasch Nieuwsblad. Douwes Dekker sering berhubungan dengan murid-murid STOVIA.', 'title': 'Tjipto Mangoenkoesoemo'}, {'docid': '7074#16', 'text': 'Setelah mengundurkan diri dari Budi Utomo, Cipto membuka praktik dokter di Solo. Meskipun demikian, Cipto tidak meninggalkan dunia politik sama sekali. Di sela-sela kesibukan nya melayani pasien nya, Cipto mendirikan Raden Ajeng Kartini Klub yang bertujuan memperbaiki nasib rakyat. Perhatiannya pada politik semakin menjadi-jadi setelah dia bertemu dengan Douwes Dekker yang tengah berpropaganda untuk mendirikan Indische Partij. Cipto melihat Douwes Dekker sebagai kawan seperjuangan. Kerja sama dengan Douwes Dekker telah memberinya kesempatan untuk melaksanakan cita-citanya, yakni gerakan politik bagi seluruh rakyat Hindia Belanda. Bagi Cipto Indische Partij merupakan upaya mulia mewakili kepentingan-kepentingan semua penduduk Hindia Belanda, tidak memandang suku, golongan, dan agama.', 'title': 'Tjipto Mangoenkoesoemo'}, {'docid': '7080#6', 'text': 'Walaupun mencintai anak-anaknya, Douwes Dekker tampaknya terlalu berfokus pada perjuangan idealismenya sehingga perhatian pada keluarga agak kurang dalam. Ia pernah berkata kepada kakak perempuannya, Adelin, kalau yang ia perjuangkan adalah untuk memberi masa depan yang baik kepada anak-anaknya di Hindia kelak yang merdeka. Pada kenyataannya, semua anaknya meninggalkan Indonesia menuju ke Belanda ketika Jepang masuk. Demikian pula semua saudaranya, tidak ada yang memilih menjadi warga negara Indonesia.', 'title': 'Ernest Douwes Dekker'}, {'docid': '447388#1', 'text': 'E.F.E. Douwes Dekker, bekas pemimpin \"Indische Partij\", setelah pulang dari pengasingan di Belanda tahun 1922 kemudian berusaha untuk melamar sebagai guru pada sekolah rendah partikelir pimpinan Ny. H.E. Mayer-Elenbaas di Jln. Kebon Kelapa No. 17, Bandung. Hal tersebut dilaporkan oleh Residen Priangan kepada Gubernur Jenderal saat itu, Mr. Dr. Dirk Fock, dimana salah satu keberatannya ialah karena suami Ny. Mayer tercatat seorang komunis. Namun Gubernur Jenderal mengatakan bahwa \"lebih baik kepada orang-orang yang sedang gelisah seperti Douwes Dekker diberi kesempatan kerja tetap bagi penghidupannya daripada ia, karena dihalangi kesempatannya, akan lebih condong untuk rakyat\". Douwes Dekker kemudian mulai mengajar di sana sejak September 1922.', 'title': 'Ksatrian Instituut'}, {'docid': '7080#3', 'text': 'Douwes Dekker menikah dengan Clara Charlotte Deije (1885-1968), anak dokter campuran Jerman-Belanda pada tahun 1903, dan mendapat lima anak, namun dua di antaranya meninggal sewaktu bayi (keduanya laki-laki). Yang bertahan hidup semuanya perempuan. Perkawinan ini kandas pada tahun 1919 dan keduanya bercerai.', 'title': 'Ernest Douwes Dekker'}, {'docid': '7080#2', 'text': 'Douwes Dekker terlahir di Pasuruan, Jawa Timur, pada tanggal 8 Oktober 1879, sebagaimana yang dia tulis pada riwayat hidup singkat saat mendaftar di Universitas Zurich, September 1913. Ayahnya, Auguste Henri Edoeard Douwes Dekker, adalah seorang agen di bank kelas kakap Nederlandsch Indisch Escomptobank. Auguste ayahnya, memiliki darah Belanda dari ayahnya, Jan (adik Eduard Douwes Dekker) dan dari ibunya, Louise Bousquet. Sementara itu, ibu Douwes Dekker, Louisa Neumann, lahir di Pekalongan, Jawa Tengah, dari pasangan Jerman-Jawa.[1] Dia terlahir sebagai anak ke-3 dari 4 bersaudara, dan keluarganya pun sering berpindah-pindah. Saudaranya yang perempuan dan laki-laki, yakni Adeline (1876) dan Julius (1878) terlahir sewaktu keluarga Dekker berada di Surabaya, dan adik laki-lakinya lahir di Meester Cornelis, Batavia (sekarang Jatinegara, Jakarta Timur pada tahun 1883. Dari situ, keluarga Dekker berpindah lagi ke Pegangsaan, Jakarta Pusat.[1]', 'title': 'Ernest Douwes Dekker'}, {'docid': '1780350#5', 'text': 'Dalam dunia politik ia berguru kepada Dr. Ernest François Eugène Douwes Dekker, bersama Darnasukumah, Bakri Suraatmaja, dan Gatot Mangkupraja di Bandung. Pada tahun 1949-1950 ia mulai berkiprah di Dewan Perwakilan Rakyat Kota Bandung. Ema, dalam pandangan politiknya, (1) ingin memajukan bangsanya karena cinta akan tanah air yang dimulai dan diutamakan dari tingkat bawah berdasarkan kebudayaan (suku bangsa dan daerah: Sunda), (2) ingin memerdekakan bangsanya dari belenggu penjajahan melalui persiapan rakyat harus berani bertarung secara individual dan atau kelompok, (3) bentuk negara yang sesuai bagi Indonesia merdeka adalah federasi atau otonomi yang luas, karena sesuai dengan kodrat masyarakat dan geografi Indonesia. Untuk mencapai pandangan tersebut ditempuhlah program pendidikan, pers, dan pencak. Meskipun demikian, jiwa ke-jurnalistik-annya pun masih tetap membara, pada tahun 1956 bersama Sutisna Senjaya, Supyan Iskandar, dan Otong Kosasih, ia mendirikan surat kabar Kalawarta Kujang. Media ini didirikan demi menunjang perjuangan Sunda dan Partai Gerakan Pilihan Sunda pada saat itu.', 'title': 'Ema Bratakusumah'}, {'docid': '80082#5', 'text': 'Pada usia 17 tahun, Burhanuddin berangkat ke Jakarta dan belajar di Ksatriaan Instituut (sekarang Sekolah Ksatrian) yang dipimpin oleh Dr. E.E. Douwes Dekker. Burhanuddin memilih jurusan jurnalistik, namun ia banyak belajar tentang dunia kewartawanan dari pribadi Douwes Dekker.', 'title': 'B.M. Diah'}, {'docid': '339098#0', 'text': 'Johanna Petronella Mossel (Batavia, 1904-1978) adalah seorang guru dari kalangan Indo yang menjadi istri kedua Ernest Douwes Dekker (DD). Ia lahir dari keluarga Belanda keturunan Yahudi.', 'title': 'Johanna Petronella Mossel'}, {'docid': '7080#35', 'text': 'Di Belanda, nama DD juga dihormati sebagai orang yang berjasa dalam meluruskan arah kolonialisme (meskipun hampir sepanjang hidupnya ia berseberangan posisi politik dengan pemerintah kolonial Belanda; bahkan dituduh \"pengkhianat\").', 'title': 'Ernest Douwes Dekker'}, {'docid': '605469#1', 'text': 'Ernest Douwes Dekker, pahlawan nasional Indonesia, pernah terlibat dalam perang ini di pihak Republik Transvaal.', 'title': 'Perang Boer Kedua'}, {'docid': '132274#44', 'text': 'Ini dalah suatu infiltrasi yang amat efektif dan merupakan jasa pertama dari Dr. E.F.E. douwes Dekker (alias Danudirdja Setiabudhi), seorang kerabat jauh E. Douwes Dekker (Multatuli).', 'title': 'Soerjopranoto'}, {'docid': '378455#3', 'text': 'Tokoh Nasional Indonesia Ernest Douwes Dekker pernah berpartisipasi dalam perang ini di kubu Republik Transvaal.', 'title': 'Perang Boer'}, {'docid': '7080#22', 'text': 'Sekeluarnya dari tahanan dan rentetan pengadilan, DD cenderung meninggalkan kegiatan jurnalistik dan menyibukkan diri dalam penulisan sejumlah buku semi-ilmiah dan melakukan penangkaran anjing gembala Jerman dan aktif dalam organisasinya. Prestasinya cukup mengesankan, karena salah satu anjingnya memenangi kontes dan bahkan mampu menjawab beberapa pertanyaan berhitung dan menjawab beberapa pertanyaan tertulis.', 'title': 'Ernest Douwes Dekker'}, {'docid': '1892023#3', 'text': 'Pada tahun 1912, ketika itu di Bandung berdiri organisasi kebangsaan pertama di Indonesia yakni National Indische Partij dengan tokoh-tokohnya: Dr. Ernest Douwes Dekker (Danudirja Setiabudi), Dr. Cipto Mangunkusumo, dan Dr. Suwardi Suryaningrat (Ki Hadjar Dewantara).\\nKarena organisasi ini dianggap membahayakan kelanggengan kolonialisme Belanda, pada tahun 1913 para tokoh tersebut dibuang ke negeri Belanda. Pada tahun 1918, terjadi Perang Dunia I, mereka bebas dan kembali ke Indonesia. Pada tanggal 12 November 1924, Dr. Danudirja Setiabudi di Kota Bandung mendirikan lembaga pendidikan berwawasan kebangsaan Indonesia namanya Ksatrian Institute.', 'title': 'SMP Negeri 1 Bandung'}, {'docid': '20439#1', 'text': 'Eduard memiliki saudara bernama Jan yang adalah kakek dari tokoh pergerakan kemerdekaan Indonesia, Ernest Douwes Dekker yang dikenal pula dengan nama Danudirja Setiabudi.', 'title': 'Eduard Douwes Dekker'}]}\n"
     ]
    }
   ],
   "source": [
    "# Tentukan split yang ingin diperiksa, misalnya 'train'\n",
    "split = mr_tydi['train']\n",
    "\n",
    "# Cari row dengan positive_passages terbanyak\n",
    "max_pos_row = max(split, key=lambda row: len(row['positive_passages']))\n",
    "\n",
    "# Tampilkan jumlah positive_passages dan isi row tersebut\n",
    "print(f\"Jumlah positive_passages terbanyak: {len(max_pos_row['positive_passages'])}\")\n",
    "print(\"Row dengan positive_passages terbanyak:\")\n",
    "print(max_pos_row)"
   ]
  },
  {
   "cell_type": "code",
   "execution_count": null,
   "metadata": {},
   "outputs": [
    {
     "name": "stdout",
     "output_type": "stream",
     "text": [
      "Tidak ada row dengan positive_passages sama dengan 0.\n"
     ]
    }
   ],
   "source": [
    "# Tentukan split yang ingin diperiksa, misalnya 'train'\n",
    "split = mr_tydi['train']\n",
    "\n",
    "# Cari semua row yang memiliki positive_passages sama dengan 0\n",
    "rows_with_zero_positive_passages = [row for row in split if len(row['positive_passages']) == 0]\n",
    "\n",
    "# Periksa apakah ada row yang memenuhi kriteria\n",
    "if rows_with_zero_positive_passages:\n",
    "    print(f\"Terdapat {len(rows_with_zero_positive_passages)} row dengan positive_passages bernilai 0.\")\n",
    "    # Tampilkan salah satu row untuk melihat contohnya\n",
    "    print(\"Contoh row:\", rows_with_zero_positive_passages[0])\n",
    "else:\n",
    "    print(\"Tidak ada row dengan positive_passages sama dengan 0.\")"
   ]
  },
  {
   "cell_type": "code",
   "execution_count": 22,
   "metadata": {},
   "outputs": [
    {
     "name": "stdout",
     "output_type": "stream",
     "text": [
      "Jumlah negative_passages terbanyak: 30\n",
      "Row dengan negative_passages terbanyak:\n",
      "{'query_id': '1', 'query': 'Siapa arsitek Balai Kota Seoul?', 'positive_passages': [{'docid': '2693620#5', 'text': 'Pada tanggal 18 Februari 2008, desain Yoo Kerl dari iArc terpilih dalam kompetisi desain Pemerintah Metropolitan Seoul.[6] Bagian atas depan bangunan baru ini dirancang untuk menonjol dalam bentuk lengkung. Perancang Yoo merangkul tiga kata kunci yakni \"tradisi, warga negara, dan masa depan\" dalam rancangannya, yang mencerminkan elemen horisontal dari arsitektur tradisional tingkat rendah Korea dan penafsiran ulang dari nuansa mendalam dan lekukan atap atap.[7]', 'title': 'Balai Kota Seoul'}], 'negative_passages': [{'docid': '2692513#0', 'text': 'Seoul Plaza adalah sebuah ruang terbuka umum yang berlokasi di depan Balai Kota Seoul di Taepyeongno, Jung-gu di Seoul, Korea Selatan. Plaza ini dibuka kembali pada 1 Mei 2004, oleh Pemerintah Metropolitan Seoul, dengan tujuan menyediakan ruang terbuka kepada publik. Ini adalah bagian dari rencana Kota untuk proyek-proyek renovasi yang ramah lingkungan seperti Kali Cheonggye dan Gwanghwamun Plaza.', 'title': 'Seoul Plaza'}, {'docid': '2693620#6', 'text': 'jmpl|Gedung Balai Kota Seoul yang baru, tepat di belakang gedung lama pada bulan Februari 2013 Pada tanggal 20 Mei 2008, karena keterbatasan elevasi Deoksugung, pembangunan gedung baru ini mengalami perubahan dari 22 lantai menjadi 13 lantai. Pada tanggal 26 Agustus 2008, pemerintah memindahkan Balai Taepyeong untuk mengembalikan Balai Taepyeong yang lama di kota itu setelah pembongkaran Balai Taepyeong, dan penghentian sementara Balai Taepyeong dihentikan.[8] Setelah itu, Pemerintah Metropolitan Seoul dan Administrasi Warisan Budaya terus bekerja bersama, dan pada 8 Januari 2009, Balai Taepyeong dihancurkan dan gedung lama ditutup.', 'title': 'Balai Kota Seoul'}, {'docid': '251766#2', 'text': 'Gedung utama Balai Kota di Taman Surya di daerah Ketabang itu mulai dibangun pada tahun 1923 dan mulai ditempati pada tahun 1927. Arsiteknya ialah C. Citroen dan pelaksanaannya H.V. Hollandsche Beton Mij. Biaya seluruhnya, termasuk perlengkapan dan lain-lainnya, menghabiskan dana sekitar 1000 \"gulden\".\\nUkuran gedung utama : panjang 102 m dan lebar 19 m. Konstruksinya terdiri dari tiang-tiang pancang beton bertulang yang ditanam, sedangkan dinding-dindingnya diisi dengan bata dan semen. Atapnya terbuat dari rangka besi dan ditutup dengan sirap, Belakangan atap ini kemudian diganti dengan genteng.', 'title': 'Balai Kota Surabaya'}, {'docid': '2695752#2', 'text': 'Bangunan ini telah diperluas sebanyak enam kali. Bangunan utama adalah aset budaya terdaftar Republik Korea, Gedung Utara, yang diperbesar pada tahun 1962, dan gedung baru, yang diperbesar pada tahun 1986, dihancurkan pada awal tahun 2006 untuk membangun gedung kantor yang baru. Balai kota ini diperluas sebanyak 6 kali. Bangunan utama adalah properti budaya terdaftar yang terdaftar di Republik Korea. Gedung Utara dibangun pada tahun 1962 dan gedung baru pada tahun 1986. Keduanya dihancurkan pada tahun 2006 untuk pembangunan balai kota baru.', 'title': 'Perpustakaan Metropolitan Seoul'}, {'docid': '2693157#1', 'text': 'Di pemerintah kota ini, terdapat 5 kantor, 32 biro, dan 107 divisi. Markas besarnya terletak di gedung Balai Kota Seoul yang berada di Taepyeongno, Jung-gu, Seoul. Pemerintahan ini dimulai pada tanggal 28 September 1946 sebagai Pemerintah Kota Seoul yang menjadi Pemerintah Metropolitan Seoul pada 15 Agustus 1949. Pemerintah Metropolitan Seoul memiliki satu Wali Kota dan tiga wakil Wali Kota, dua di antaranya bertanggung jawab atas urusan administrasi dan yang lainnya untuk urusan politik . Seoul dibagi menjadi 25 \"gu\" otonom dan 522 \"dong\" administratif.', 'title': 'Pemerintah Metropolitan Seoul'}, {'docid': '2693620#10', 'text': 'Stasiun Balai Kota (Seoul) Stasiun Balai Kota (Seoul)', 'title': 'Balai Kota Seoul'}, {'docid': '473344#0', 'text': 'Balai Kota Leeds () adalah sebuah bangunan markah tanah di Leeds, West Yorkshire, Inggris. Bangunan ini dibangun antara 1853 dan 1858 di Park Lane (sekarang Headrow), Leeds, berdasarkan desain dari arsitek Cuthbert Brodrick. ini mewakili kemunculan Leeds sebagai pusat industri penting selama Revolusi Industri dan simbol kebanggaan dan kepercayaan diri masyarakat. Balai Kota Leeds adalah salah satu balai kota terbesar di Inggris Raya dan pada tahun 2008 merupakan bangunan tertinggi ke-8 di Leeds. Balai Kota ini dibuka oleh Ratu Victoria, menandai statusnya sebagai struktur sipil Victoria. Bangunan ini ditempatkan sebagai bangunan Tingkat I.\\nDengan tinggi bangunan ini adalah bangunan tertinggi di Leeds sejak didirikan pada tahun 1858 hingga 1966, yang kemudian digantikan oleh Park Plaza Hotel, yang lebih tinggi dengan . Dengan rekor tersebut, Balai Kota Leeds merupakan pemegang rekor terlama untuk bangunan tertinggi di Leeds dengan 108 tahun. Menara jam yang khas, yang berfungsi untuk banyak orang sebagai simbol dari Leeds dan juga telah menjadi ikon visual pemerintah daerah secara nasional, bukan bagian dari desain awal tetapi ditambahkan oleh Brodrick tahun 1856 sebagai pemimpin sipil yang berusaha untuk membuat lebih mencolok dan berkesan.', 'title': 'Balai Kota Leeds'}, {'docid': '2693620#11', 'text': 'Gwanghwamun Istana Gyeongbok Pemerintah Metropolitan Seoul', 'title': 'Balai Kota Seoul'}, {'docid': '2524565#1', 'text': 'Pada pertengahan abad ke-19, kantor balai kota Wina yang lama (yang dipersembahkan oleh Adipati Austria Friedrich yang Adil pada tahun 1316 dan dibangun ulang oleh arsitek Johann Bernhard Fischer von Erlach dengan gaya Barok sekitar tahun 1700) sudah tidak mampu lagi memenuhi kebutuhan pemerintahan karena gedungnya terlalu kecil. Saat proyek pembangunan Jalan Lingkar Wina dimulai pada tahun 1860-an, diadakan kompetisi untuk membangun balai kota yang baru, dan kompetisi ini dimenangkan oleh arsitek Jerman Friedrich Schmidt.', 'title': 'Balai Kota Wina'}, {'docid': '2693620#9', 'text': 'Lapangan rumput oval ini di depan Balai Kota Seoul, didirikan kembali pada tahun 2004, digunakan sebagai tempat untuk mengadakan berbagai acara dan festival budaya seperti “Hai! Seoul Festival, ”dan dinikmati oleh banyak masyarakat Seoul sebagai tempat untuk beristirahat. Salah satu atraksi Seoul Plaza adalah Air Mancur Lantai, yang terlihat seperti trotoar yang normal tetapi menyemburkan air yang sangat tinggi dari lantai ketika berjalan melewatinya. Sebanyak 48 lampu lantai di sepanjang alun-alun rumput dan Fala—jenis jam dinding luar berbentuk bulat—merupakan fitur menarik lainnya dari alun-alun ini.', 'title': 'Balai Kota Seoul'}, {'docid': '2693620#7', 'text': \"Pembangunan gedung baru ini awalnya dijadwalkan akan selesai pada Februari 2011 namun terus mengalami pengunduran. Pada 27 Agustus 2012, Balai Kota baru dibuka untuk umum dan pemerintah kota memindahkan operasionalnya ke gedung baru ini pada tanggal 1 September. Proyek pembangunannya, yang memakan waktu penyelesaian selama empat tahun dan lima bulan, juga termasuk ruang serbaguna dan fasilitas budaya bagi warga. Bangunan Balai Kota lama, yang terdaftar sebagai bangunan cagar budaya, telah diubah menjadi perpustakaan, dan menawarkan koleksi lebih dari 200.000 buku.[9][10] Gedung balai kota baru ini dibangun sebagai bangunan ramah lingkungan yang futuristik, dan tidak seperti apa yang disebut 'istana kaca' di provinsi lain, gedung ini juga memiliki 'dinding tirai' dan dinding-dinding putar eksterior.[11]\", 'title': 'Balai Kota Seoul'}, {'docid': '2500216#1', 'text': 'Pada abad ke-16 Antwerpen menjadi salah satu pelabuhan perdagangan tersibuk dan kota-kota paling makmur di Eropa Utara. Pihak berwenang munisipal ingin mengganti balai kota abad pertengahan Antwerpen yang kecil dengan bangunan yang lebih mengesankan yang sesuai dengan kemakmuran kota pelabuhan besar. Arsitek Antwerpen, Domien de Waghemakere merancang sebuah rencana (sekitar tahun 1540) untuk sebuah bangunan baru dengan gaya khas dari balai kota Gotik monumental di Flandria dan Brabant.', 'title': 'Balai Kota Antwerpen'}, {'docid': '591501#0', 'text': 'Seoul Metro adalah sistem kereta api bawah tanah yang melayani Daerah Khusus Ibukota Seoul, Korea Selatan. Sistem kereta api cepat ini melayani 11 jalur ke seluruh kota Seoul dan saling terhubung. Misalnya Jalur 1 terhubung dengan Jalur 2 di Stasiun Balai Kota Seoul; Jalur 1 dan 4 bertemu di Stasiun Kereta Api Seoul, dan Jalur 5 dan 9 melayani penumpang ke terminal keberangkatan domestik dan internasional di Bandar Udara Gimpo. Banyak warga Seoul memilih menggunakan transportasi kereta bawah tanah untuk menghindari kemacetan jalan raya dan juga karena harganya terjangkau, antara ₩ 1000 - ₩ 1300 (sekitar Rp 9000 – Rp 12.000). Seoul Metro melayani seluruh bagian dan penjuru kota Seoul serta berbagai objek wisata terkenal.', 'title': 'Seoul Metro'}, {'docid': '2693157#7', 'text': 'Plaza Informasi Komunikasi menyediakan berbagai dokumen permintaan persetujuan internal dari berbagai bidang yang dibuat oleh Kota Seoul. Terutama, di samping kantor utama Balai Kota dan Badan Usaha kota, pengguna dapat mengakses informasi dari 25 distrik otonom dan organisasi lain yang didanai oleh kota, yang memungkinkan akses ke informasi rinci yang dibutuhkan warga. Juga, bagian ‘Informasi Dewan’ menyediakan informasi tentang pertemuan yang diselenggarakan oleh Kota Seoul dari jadwal rapat hingga menitnya. Selain itu, bagian dari ‘Kebijakan Seoul’ memberikan informasi mengenai proyek-proyek utama pemerintah kota dan proyek-proyek besar yang melibatkan investasi lebih dari 10 miliar won. Hal ini sangat membantu bagi siapa saja yang ingin mengakses informasi status pada berbagai proyek konstruksi yang dilaksanakan oleh kota ini.', 'title': 'Pemerintah Metropolitan Seoul'}, {'docid': '2695752#4', 'text': 'Rencana awal menyerukan bangunan bersejarah itu harus diratakan dan diganti dengan desain baru, tetapi dukungan untuk konservasi menghentikan penghancuran bangunan tersebut. Komite Properti Budaya, di bawah Administrasi Warisan Budaya, mendaftarkan bangunan itu sebagai peninggalan bersejarah. Akhirnya, kompromi tercapai, melestarikan bangunan depan yang menghadap Seoul Plaza, dan memungkinkan pembangunan gedung modern di belakang gedung balai kota lama.', 'title': 'Perpustakaan Metropolitan Seoul'}, {'docid': '2693620#1', 'text': 'Awalnya dibangun sebagai Kantor Pemerintahan Ibu Kota Gyeongseong atau Keijō (경성부청(京城府廳)) pada tahun 1925, selama pendudukan Jepang atas Korea,[1] gedung ini kemudian menjadi gedung Balai Kota Seoul setelah kemerdekaan. Bangunan ini mencontoh arsitektur Gaya Mahkota Kekaisaran, dan berfungsi sebagai balai kota sejak kemerdekaan Korea pada tahun 1945, hingga pembangunan gedung modern pada tahun 2008.', 'title': 'Balai Kota Seoul'}, {'docid': '2441770#1', 'text': 'Balai Kota Cirebon dibangun dengan langgam arsitektur Art Deco yang terpengaruh oleh gaya modern Mazhab Amsterdam dari Belanda. Pembangunannya diprakarsai oleh Kepala Dinas Pekerjaan Umum Cirebon Joost Jacob Jiskoot (1896–1987) dan rancangannya dikerjakan oleh dua orang arsitek yakni H.P Hamdl dan CFH Koll. Fondasi bangunan diletakkan pada tanggal 26 Juni 1926, sementara pengerjaannya berlangsung dari 1 Juli 1926 hingga 1 September 1927.', 'title': 'Balai Kota Cirebon'}, {'docid': '2500216#0', 'text': 'Balai Kota Antwerpen atau Antwerpen Stadhuis adalah balai kota yang berdiri di sisi barat \"Grote Markt\" Antwerpen, Belgia. Didirikan antara tahun 1561 dan 1565 menurut desain yang dibuat oleh Cornelis Floris de Vriendt dan beberapa arsitek dan seniman lainnya, bangunan Renaisans ini memadukan pengaruh Flandria dan Italia. Stadhuis masuk dalam Daftar Warisan Dunia UNESCO bersama dengan menara lonceng gereja Belgia dan Perancis.', 'title': 'Balai Kota Antwerpen'}, {'docid': '2055452#0', 'text': '\\' (\"Balai Rakyat\"), juga disebut \\' (\"Balai Besar\") atau (\"Balai Kejayaan\"), adalah bangunan monumental berbentuk kubah yang direncanakan oleh Adolf Hitler dan arsiteknya Albert Speer di kota Berlin. Proyek ini merupakan bagian dari proyek ambisius Welthauptstadt Germania yang ingin mengubah wajah kota Berlin. Namun, proyek ini tidak pernah direalisasikan.', 'title': 'Volkshalle'}, {'docid': '632244#5', 'text': 'Pada masa akhirnya, ia tinggal di Balai Nakseon, Changdeokgung, bekas kediaman istana kerajaan di Seoul dengan Yi Bangja dan adik perempuannya Putri Deokhye. Tujuh tahun setelah kembali ke negaranya, ia meninggal pada tanggal 1 Mei 1970 di Balai Nakseon, Istana Changdeok, Seoul. Ia dimakamkan di Hongyureung di Namyangju, dekat Seoul dan dikenal dengan nama anumerta Putra Mahkota Pangeran Euimin dari Korea.', 'title': 'Putra Mahkota Euimin'}, {'docid': '2693620#12', 'text': 'Kategori:Bangunan dan struktur di Korea Selatan', 'title': 'Balai Kota Seoul'}, {'docid': '2693620#3', 'text': 'Dari Juni 2013, di depan gedung balai kota lama tergantung sebuah papan besar yang disebut Dream Cracker. Papan ini dimaksudkan untuk menyampaikan pesan \"kenyamanan, harapan, dan simpati\" kepada warga yang melewati Seoul Plaza. Tulisan yang dimasukkan dalam papan ukiran tersebut terbatas pada karya-karya kreatif murni yang kurang dari 20 karakter dan dipilih melalui langganan publik.[2] Kalimat pertama di papan ini adalah \\'Jangan lupa, Anda adalah pahlawan bagi seseorang\\' yang terpampang dari Juni hingga September 2013. Sejak 21 Maret 2017, yang terbaru, kalimat yang terdapat di papan tersebut adalah \\'Saya melihat Anda pertama, hari ini\\'.[2]', 'title': 'Balai Kota Seoul'}, {'docid': '2693620#0', 'text': 'Balai Kota Seoul adalah sebuah gedung pemerintahan bagi Pemerintah Metropolitan Seoul di Korea Selatan, yang bertanggung jawab atas urusan administrasi Seoul. Terletak di Taepyeongno, Jung-gu, di jantung kota Seoul. Balai Kota ini terhubung dengan stasiun di Seoul Subway Line 1, dengan akses pada Seoul Subway Line 2 dari stasiun yang sama. Di depan balai kota saat ini terdapat gedung balai kota lama, sekarang merupakan Perpustakaan Metropolitan Seoul, dan Seoul Plaza (Korean: 서울광장).', 'title': 'Balai Kota Seoul'}, {'docid': '758571#1', 'text': 'Setelah Balai Nasional Seoul hancur terbakar pada tahun 1972, Dewan Kota Seoul menugaskan pembangunan tempat untuk melanjutkan warisan budaya dari struktur tersebut. Dibangun pada tahun 1978, ditugaskan oleh Kota Seoul, Sejong Center sebagian besar tidak didukung secara finansial selama 20 tahun, berada di bawah kendali Kota Khusus Seoul. Pada tahun 1999, pusat tersebut ditempatkan di bawah kendali sebuah yayasan yang diperintah oleh orang-orang sipil yang semangatnya untuk kesenian memicu keberhasilan barunya. Tempat ini menjadi tuan rumah penyelenggaraan malam final kontes kecantikan Miss Universe 1980.', 'title': 'Sejong Center'}, {'docid': '2693620#8', 'text': 'Seoul Plaza di depan Balai Kota merupakan sebuah situs bersejarah di mana Gerakan Kemerdekaan 1 Maret 1919[12][13] dan gerakan pro-demokrasi pada bulan Juni 1987 diadakan.[14][15] Plaza ini juga merupakan tempat yang terkenal di mana puluhan ribu penggemar sepak bola Korea datang untuk menyemangati selama Pertandingan Piala Dunia FIFA 2002.', 'title': 'Balai Kota Seoul'}, {'docid': '2695752#1', 'text': 'Bangunan ini pertama kali dibangun oleh Gubernur Jenderal Korea pada tahun 1926 selama pendudukan Jepang sebagai Kantor Pemerintahan Ibu Kota Gyeongseong atau Keijō (경성부청(京城府廳)). Terdaftar sebagai Warisan Budaya No. 52, awalnya digunakan sebagai markas besar gubernur jenderal Korea. Gedung ini kemudian menjadi gedung Balai Kota Seoul sejak kemerdekaan Korea pada tahun 1945, hingga pembangunan gedung modern pada tahun 2008.', 'title': 'Perpustakaan Metropolitan Seoul'}, {'docid': '2695752#0', 'text': 'Perpustakaan Metropolitan Seoul () adalah sebuah perpustakaan metropolitan di Seoul, Korea Selatan. Terletak di Taepyeongno, Jung-gu, jantung kota Seoul. Perpustakaan ini terletak di depan Balai Kota Seoul dan di samping Stasiun Balai Kota di Seoul Subway Line 1. Di depan Perpustakaan Metropolitan Seoul terdapat Seoul Plaza, sebuah alun-alun kota berbentuk oval.', 'title': 'Perpustakaan Metropolitan Seoul'}, {'docid': '2692513#2', 'text': 'Lapangan rumput oval ini di depan Balai Kota Seoul, didirikan kembali pada tahun 2004, digunakan sebagai tempat untuk mengadakan berbagai acara dan festival budaya seperti “Hai! Seoul Festival” dan dinikmati oleh banyak masyarakat Seoul sebagai tempat untuk beristirahat. Alun-alun ini menjadi tempat protes impor daging Amerika Serikat di Korea Selatan, dan Festival Budaya Queer Seoul.', 'title': 'Seoul Plaza'}, {'docid': '2692513#1', 'text': 'Seoul Plaza di depan Balai Kota Seoul merupakan sebuah situs bersejarah di mana Gerakan Kemerdekaan 1 Maret 1919 dan gerakan pro-demokrasi pada bulan Juni 1987 diadakan. Lokasi ini awalnya adalah alun-alun lalu lintas dengan air mancur berusia 40 tahun yang dihancurkan dan ruang di dekatnya direnovasi. Plaza ini juga merupakan tempat yang terkenal di mana puluhan ribu penggemar sepak bola Korea datang untuk menyemangati selama Pertandingan Piala Dunia FIFA 2002.', 'title': 'Seoul Plaza'}, {'docid': '620431#1', 'text': 'Terdapat beberapa kolam dan pendopo di taman ini yang mencerminkan arsitektur khas Joseon yang meminimalkan konsep tiruan dan memaksimalkan faktor alam. Walau tampak tenang, taman ini berada tak jauh dari pusat kota Seoul. Bangunan utama antara lain Balai Yeonghwadang (\"Balai Pantulan Bunga\"), Pendopo Juhamnu (\"Pendopo Surga\"), dan \"Balai Yeongyeongdang\" yang melengkapi kolam bunga teratai yang berbentuk persegi. Pada zaman Joseon, orang-orang yang berhasil lulus ujian sipil kenegaraan (gwageo) diundang ke taman ini untuk menerima ucapan selamat dari raja.', 'title': 'Changdeokgung Huwon'}]}\n",
      "\n",
      "Jumlah negative_passages tersedikit: 2\n",
      "Row dengan negative_passages tersedikit:\n",
      "{'query_id': '2962', 'query': 'Apa itu hemiplegia?', 'positive_passages': [{'docid': '145686#0', 'text': 'Lumpuh otak (English: cerebral palsy, spastic paralysis, spastic hemiplegia, spastic diplegia, spastic quadriplegia, CP) adalah suatu kondisi terganggunya fungsi otak dan jaringan saraf yang mengendalikan gerakan, laju belajar, pendengaran, penglihatan, kemampuan berpikir.[1]', 'title': 'Lumpuh otak'}], 'negative_passages': [{'docid': '533285#5', 'text': 'Mutasi pada SLC1A3 merupakan penyebab ataksia episodik yang ditandai antara lain oleh migrain, hemiplegia dan aktivitas elektris abnormal yang terjadi mendadak di otak.', 'title': 'Transporter glutamat'}, {'docid': '38136#2', 'text': 'Karenanya, daerah yang terkena stroke tidak dapat berfungsi seperti seharusnya. Gejala-gejalanya termasuk: hemiplegia (ketidakmampuan untuk menggerakkan satu atau lebih anggota badan dari salah satu sisi badan, aphasia (ketidakmampuan untuk mengerti atau berbicara), atau tidak mampu untuk melihat salah satu sisi dari luas pandang (visual field).[3]', 'title': 'Strok'}]}\n"
     ]
    }
   ],
   "source": [
    "# Cari row dengan negative_passages terbanyak\n",
    "max_neg_row = max(split, key=lambda row: len(row['negative_passages']))\n",
    "\n",
    "# Tampilkan jumlah negative_passages terbanyak dan isi row tersebut\n",
    "print(f\"Jumlah negative_passages terbanyak: {len(max_neg_row['negative_passages'])}\")\n",
    "print(\"Row dengan negative_passages terbanyak:\")\n",
    "print(max_neg_row)\n",
    "print()\n",
    "# Kebalikannya: negative_passages tersedikit\n",
    "min_neg_row = min(split, key=lambda row: len(row['negative_passages']))\n",
    "print(f\"Jumlah negative_passages tersedikit: {len(min_neg_row['negative_passages'])}\")\n",
    "print(\"Row dengan negative_passages tersedikit:\")\n",
    "print(min_neg_row)"
   ]
  },
  {
   "cell_type": "code",
   "execution_count": 20,
   "metadata": {},
   "outputs": [
    {
     "name": "stdout",
     "output_type": "stream",
     "text": [
      "Rata-rata jumlah negative_passages: 29.29\n"
     ]
    }
   ],
   "source": [
    "# Tentukan split yang ingin diperiksa, misalnya 'train'\n",
    "split = mr_tydi['train']\n",
    "\n",
    "# Hitung total panjang negative_passages\n",
    "total_negative_passages = sum(len(row['negative_passages']) for row in split)\n",
    "\n",
    "# Hitung rata-rata\n",
    "average_negative_passages = total_negative_passages / len(split)\n",
    "\n",
    "# Cetak hasil\n",
    "print(f\"Rata-rata jumlah negative_passages: {average_negative_passages:.2f}\")"
   ]
  },
  {
   "cell_type": "markdown",
   "metadata": {},
   "source": [
    "# Natural Questions (Versi RECOMP)"
   ]
  },
  {
   "cell_type": "markdown",
   "metadata": {},
   "source": [
    "### 5 sampel saja"
   ]
  },
  {
   "cell_type": "code",
   "execution_count": null,
   "metadata": {},
   "outputs": [
    {
     "name": "stdout",
     "output_type": "stream",
     "text": [
      "DatasetDict({\n",
      "    train: Dataset({\n",
      "        features: ['question', 'em', 'f1', 'gold_answers', 'pred_answer', 'has_gold_answer', 'sentence', 'title', 'title+sentence', 'query', 'retrieved_docs', 'num_sentences', 'contriever_scores', 'lm_scores', 'dpr_instance'],\n",
      "        num_rows: 5\n",
      "    })\n",
      "})\n"
     ]
    }
   ],
   "source": [
    "# Path ke file JSON\n",
    "file_path = \"./data/extract-nq-train-ORIGINAL.json\"\n",
    "\n",
    "# Load dataset\n",
    "nq_train_few = load_dataset(\"json\", data_files=file_path)\n",
    "\n",
    "# Tampilkan info dataset\n",
    "print(nq_train_few)"
   ]
  },
  {
   "cell_type": "code",
   "execution_count": null,
   "metadata": {},
   "outputs": [],
   "source": [
    "sample = nq_train_few['train'][0]"
   ]
  },
  {
   "cell_type": "markdown",
   "metadata": {},
   "source": [
    "## RECOMP - extractive"
   ]
  },
  {
   "cell_type": "markdown",
   "metadata": {},
   "source": [
    "### Seluruh data"
   ]
  },
  {
   "cell_type": "markdown",
   "metadata": {},
   "source": [
    "## RECOMP - Abstractive"
   ]
  },
  {
   "cell_type": "code",
   "execution_count": 1,
   "metadata": {},
   "outputs": [
    {
     "name": "stdout",
     "output_type": "stream",
     "text": [
      "DatasetDict({\n",
      "    train: Dataset({\n",
      "        features: ['question', 'has_gold_answer_in_prompt', 'gpt3_completions', 'gold_answers', 'generated_answers', 'gold_answer_score', 'gold_answer_with_max_score', 'pred_answer', 'em', 'f1', 'no_retrieval_em', 'no_retrieval_df', 'no_retrieval_pred_answer', 'passages', 'top_5_retrieval_em', 'top_5_retrieval_df', 'top_5_retrieval_pred_answer', 'type', 'summary'],\n",
      "        num_rows: 39466\n",
      "    })\n",
      "    dev: Dataset({\n",
      "        features: ['question', 'has_gold_answer_in_prompt', 'gpt3_completions', 'gold_answers', 'generated_answers', 'gold_answer_score', 'gold_answer_with_max_score', 'pred_answer', 'em', 'f1', 'no_retrieval_em', 'no_retrieval_df', 'no_retrieval_pred_answer', 'passages', 'top_5_retrieval_em', 'top_5_retrieval_df', 'top_5_retrieval_pred_answer', 'type', 'summary'],\n",
      "        num_rows: 4931\n",
      "    })\n",
      "})\n"
     ]
    }
   ],
   "source": [
    "from datasets import load_dataset\n",
    "\n",
    "# Path ke file dataset\n",
    "data_files = {\n",
    "    \"train\": \"./data/RECOMP-abstractive-nq-train-ORIGINAL.json\",\n",
    "    \"dev\": \"./data/RECOMP-abstractive-nq-dev-ORIGINAL.json\"\n",
    "}\n",
    "\n",
    "# Load dataset dengan menentukan split\n",
    "abstract_nq = load_dataset(\"json\", data_files=data_files)\n",
    "\n",
    "# Tampilkan informasi dataset\n",
    "print(abstract_nq)"
   ]
  },
  {
   "cell_type": "markdown",
   "metadata": {},
   "source": [
    "__kolom penting:__\n",
    "\n",
    "`sudah dapat dari dataset` \n",
    "- question\n",
    "- passages\n",
    "- gold_answers\n",
    "\n",
    "`perlu di-generate`\n",
    "- gpt3_completions\n",
    "- summary\n",
    "- generated_answers\n",
    "- gold_answers_score\n",
    "- no_retrieval_pred_answer\n",
    "- exact match & F1"
   ]
  },
  {
   "cell_type": "code",
   "execution_count": 7,
   "metadata": {},
   "outputs": [
    {
     "data": {
      "text/plain": [
       "'where will the 2022 fifa world cup be hosted'"
      ]
     },
     "execution_count": 7,
     "metadata": {},
     "output_type": "execute_result"
    }
   ],
   "source": [
    "abstract_nq['train'][1]['question']"
   ]
  },
  {
   "cell_type": "code",
   "execution_count": 4,
   "metadata": {},
   "outputs": [
    {
     "data": {
      "text/plain": [
       "'The 2022 FIFA World Cup will be hosted by Qatar, the first time a World Cup will be held in the Arab World and the second time in Asia since 2002. The allocation of slots for each confederation was decided in 2015, and although there was a request to expand the number of teams from 32 to 48, the FIFA congress rejected the proposal.'"
      ]
     },
     "execution_count": 4,
     "metadata": {},
     "output_type": "execute_result"
    }
   ],
   "source": [
    "abstract_nq['train'][1]['summary']"
   ]
  },
  {
   "cell_type": "code",
   "execution_count": 23,
   "metadata": {},
   "outputs": [
    {
     "data": {
      "text/plain": [
       "False"
      ]
     },
     "execution_count": 23,
     "metadata": {},
     "output_type": "execute_result"
    }
   ],
   "source": [
    "# answers = [\"['2018']\", \"['Qatar']\", \"['to help, defend']\", \"['white', 'light blue']\", \"['Prince Edward Island', 'Milton, Ontario', 'the UK']\", \"['\\\"law of attraction\\\"']\"]"
   ]
  },
  {
   "cell_type": "markdown",
   "metadata": {},
   "source": [
    "##### Memahami distribusi data: bagaimana jika generated tidak/sama dengan gold answer dan bagaimana jika no_retrieval_pred tidak/sama dgn gold. "
   ]
  },
  {
   "cell_type": "code",
   "execution_count": 28,
   "metadata": {},
   "outputs": [
    {
     "name": "stdout",
     "output_type": "stream",
     "text": [
      "Hasil disimpan di: inspect_generated_no-retrieval-pred_gold.json\n"
     ]
    }
   ],
   "source": [
    "import json\n",
    "import ast\n",
    "\n",
    "# Fungsi untuk memfilter kasus unik\n",
    "def filter_cases(dataset):\n",
    "    cases = {\"case_1\": [], \"case_2\": [], \"case_3\": [], \"case_4\": []}\n",
    "\n",
    "    # Menentukan batas maksimum contoh per kasus\n",
    "    max_examples = 3\n",
    "\n",
    "    for row in dataset:\n",
    "        if row[\"summary\"] == \" \":\n",
    "\n",
    "            gold_answers_list = ast.literal_eval(row[\"gold_answers\"])\n",
    "            generated = row[\"generated_answers\"]\n",
    "            no_retrieval = row[\"no_retrieval_pred_answer\"]\n",
    "\n",
    "            # Case 1: Both generated_answers and no_retrieval_pred_answer match gold_answers\n",
    "            if generated in gold_answers_list and no_retrieval in gold_answers_list:\n",
    "                if len(cases[\"case_1\"]) < max_examples:\n",
    "                    cases[\"case_1\"].append(row)\n",
    "            # Case 2: Only generated_answers matches gold_answers\n",
    "            elif generated in gold_answers_list and no_retrieval not in gold_answers_list:\n",
    "                if len(cases[\"case_2\"]) < max_examples:\n",
    "                    cases[\"case_2\"].append(row)\n",
    "            # Case 3: Only no_retrieval_pred_answer matches gold_answers\n",
    "            elif generated not in gold_answers_list and no_retrieval in gold_answers_list:\n",
    "                if len(cases[\"case_3\"]) < max_examples:\n",
    "                    cases[\"case_3\"].append(row)\n",
    "            # Case 4: Neither matches gold_answers\n",
    "            elif generated not in gold_answers_list and no_retrieval not in gold_answers_list:\n",
    "                if len(cases[\"case_4\"]) < max_examples:\n",
    "                    cases[\"case_4\"].append(row)\n",
    "\n",
    "            # Jika semua kasus sudah memiliki cukup contoh, hentikan iterasi\n",
    "            if all(len(cases[case]) >= max_examples for case in cases):\n",
    "                break\n",
    "\n",
    "    return cases\n",
    "\n",
    "# Simpan hasil ke file JSON\n",
    "def save_cases_to_json(cases, output_path):\n",
    "    with open(output_path, \"w\") as f:\n",
    "        json.dump(cases, f, indent=4)\n",
    "    print(f\"Hasil disimpan di: {output_path}\")\n",
    "\n",
    "# Filter kasus pada data training\n",
    "sampled_cases_train = filter_cases(abstract_nq[\"train\"])\n",
    "\n",
    "# Simpan hasil ke file JSON\n",
    "save_cases_to_json(sampled_cases_train, \"inspect_empty_summary.json\")\n"
   ]
  },
  {
   "cell_type": "markdown",
   "metadata": {},
   "source": [
    "##### Memahami distribusi data ketika summary di-set ke kosong"
   ]
  },
  {
   "cell_type": "code",
   "execution_count": 3,
   "metadata": {},
   "outputs": [
    {
     "data": {
      "application/vnd.jupyter.widget-view+json": {
       "model_id": "1a9fd3cf1b634b538b649859ad220ebe",
       "version_major": 2,
       "version_minor": 0
      },
      "text/plain": [
       "Filter:   0%|          | 0/39466 [00:00<?, ? examples/s]"
      ]
     },
     "metadata": {},
     "output_type": "display_data"
    },
    {
     "name": "stdout",
     "output_type": "stream",
     "text": [
      "Hasil pada data training:\n",
      "{'case_1': 0, 'case_2': 0, 'case_3': 8986, 'case_4': 799}\n"
     ]
    }
   ],
   "source": [
    "from datasets import DatasetDict\n",
    "import ast\n",
    "\n",
    "\n",
    "# Fungsi untuk menghitung kasus\n",
    "def count_cases(dataset):\n",
    "    # Filter row dengan summary bernilai \" \"\n",
    "    filtered_dataset = dataset.filter(lambda x: x[\"summary\"] == \" \")\n",
    "    \n",
    "    # Inisialisasi penghitung untuk masing-masing kasus\n",
    "    case_1 = 0\n",
    "    case_2 = 0\n",
    "    case_3 = 0\n",
    "    case_4 = 0\n",
    "\n",
    "    for row in filtered_dataset:\n",
    "        # Parse gold_answers menjadi list\n",
    "        gold_answers_list = ast.literal_eval(row[\"gold_answers\"])\n",
    "        \n",
    "        # Ambil generated_answers dan no_retrieval_pred_answer\n",
    "        generated = row[\"generated_answers\"]\n",
    "        no_retrieval = row[\"no_retrieval_pred_answer\"]\n",
    "\n",
    "        # Tentukan kasusnya\n",
    "        if generated in gold_answers_list and no_retrieval in gold_answers_list:\n",
    "            case_1 += 1  # Baik generated dan no_retrieval sama dengan gold_answers\n",
    "        elif generated in gold_answers_list and no_retrieval not in gold_answers_list:\n",
    "            case_2 += 1  # Hanya generated yang sama dengan gold_answers\n",
    "        elif generated not in gold_answers_list and no_retrieval in gold_answers_list:\n",
    "            case_3 += 1  # Hanya no_retrieval yang sama dengan gold_answers\n",
    "        elif generated not in gold_answers_list and no_retrieval not in gold_answers_list:\n",
    "            case_4 += 1  # Keduanya tidak sama dengan gold_answers\n",
    "\n",
    "    # Return hasil penghitungannya\n",
    "    return {\n",
    "        \"case_1\": case_1,\n",
    "        \"case_2\": case_2,\n",
    "        \"case_3\": case_3,\n",
    "        \"case_4\": case_4\n",
    "    }\n",
    "\n",
    "# Hitung kasus pada data training\n",
    "cases_train = count_cases(abstract_nq[\"train\"])\n",
    "\n",
    "# # Hitung kasus pada data dev\n",
    "# cases_dev = count_cases(abstract_nq[\"dev\"])\n",
    "\n",
    "# Tampilkan hasil\n",
    "print(\"Hasil pada data training:\")\n",
    "print(cases_train)\n",
    "# print(\"\\nHasil pada data dev:\")\n",
    "# print(cases_dev)\n"
   ]
  },
  {
   "cell_type": "markdown",
   "metadata": {},
   "source": [
    "##### Mengecek apakah generated_answers sama saja dengan pred_answer"
   ]
  },
  {
   "cell_type": "code",
   "execution_count": 4,
   "metadata": {},
   "outputs": [
    {
     "data": {
      "application/vnd.jupyter.widget-view+json": {
       "model_id": "c6024885a13e4cd7b9ad449be4838cfd",
       "version_major": 2,
       "version_minor": 0
      },
      "text/plain": [
       "Filter:   0%|          | 0/39466 [00:00<?, ? examples/s]"
      ]
     },
     "metadata": {},
     "output_type": "display_data"
    },
    {
     "name": "stdout",
     "output_type": "stream",
     "text": [
      "Jumlah row dengan generated_answers != pred_answer pada data training: 3\n"
     ]
    }
   ],
   "source": [
    "# Fungsi untuk menghitung jumlah row dengan generated_answers != pred_answer\n",
    "def count_generated_not_equal_pred(dataset):\n",
    "    # Filter dataset berdasarkan kondisi\n",
    "    filtered_dataset = dataset.filter(lambda x: x[\"generated_answers\"] != x[\"pred_answer\"])\n",
    "    # Hitung jumlah row yang memenuhi kondisi\n",
    "    return len(filtered_dataset)\n",
    "\n",
    "# Hitung jumlah untuk data training\n",
    "count_train = count_generated_not_equal_pred(abstract_nq[\"train\"])\n",
    "\n",
    "# Hitung jumlah untuk data dev\n",
    "count_dev = count_generated_not_equal_pred(abstract_nq[\"dev\"])\n",
    "\n",
    "# Tampilkan hasil\n",
    "print(f\"Jumlah row dengan generated_answers != pred_answer pada data training: {count_train}\")\n",
    "# print(f\"Jumlah row dengan generated_answers != pred_answer pada data dev: {count_dev}\")\n"
   ]
  },
  {
   "cell_type": "code",
   "execution_count": 6,
   "metadata": {},
   "outputs": [
    {
     "name": "stdout",
     "output_type": "stream",
     "text": [
      "3 row berhasil disimpan ke nq_abstract_where_pred-answer_not_equal_to_generated.json\n"
     ]
    }
   ],
   "source": [
    "import json\n",
    "\n",
    "# Fungsi untuk memfilter row dengan generated_answers != pred_answer\n",
    "def get_rows_generated_not_equal_pred(dataset):\n",
    "    return dataset.filter(lambda x: x[\"generated_answers\"] != x[\"pred_answer\"])\n",
    "\n",
    "# Ambil row yang sesuai dari split train\n",
    "filtered_rows_train = get_rows_generated_not_equal_pred(abstract_nq[\"train\"])\n",
    "\n",
    "# Konversi ke dictionary\n",
    "filtered_rows_dict = filtered_rows_train.to_dict()\n",
    "\n",
    "# Simpan ke file JSON\n",
    "output_file = \"nq_abstract_where_pred-answer_not_equal_to_generated.json\"\n",
    "with open(output_file, \"w\", encoding=\"utf-8\") as f:\n",
    "    json.dump(filtered_rows_dict, f, indent=4)\n",
    "\n",
    "print(f\"{len(filtered_rows_train)} row berhasil disimpan ke {output_file}\")"
   ]
  },
  {
   "cell_type": "markdown",
   "metadata": {},
   "source": [
    "##### Menghitung jumlah row dimana pred_answer ataupun generated_answers kosong"
   ]
  },
  {
   "cell_type": "code",
   "execution_count": 8,
   "metadata": {},
   "outputs": [
    {
     "data": {
      "application/vnd.jupyter.widget-view+json": {
       "model_id": "2c67aeaa975a4e5180600efb64ea09bf",
       "version_major": 2,
       "version_minor": 0
      },
      "text/plain": [
       "Filter:   0%|          | 0/39466 [00:00<?, ? examples/s]"
      ]
     },
     "metadata": {},
     "output_type": "display_data"
    },
    {
     "name": "stdout",
     "output_type": "stream",
     "text": [
      "Jumlah row dengan pred_answer kosong pada split train: 3\n"
     ]
    }
   ],
   "source": [
    "# Fungsi untuk memfilter row dengan pred_answer kosong\n",
    "def count_empty_pred_answer(dataset):\n",
    "    filtered_dataset = dataset.filter(lambda x: x[\"pred_answer\"] == \"\")\n",
    "    return len(filtered_dataset)\n",
    "\n",
    "# Hitung jumlah row pada split train\n",
    "num_empty_pred_answer_train = count_empty_pred_answer(abstract_nq[\"train\"])\n",
    "\n",
    "# Cetak hasil\n",
    "print(f\"Jumlah row dengan pred_answer kosong pada split train: {num_empty_pred_answer_train}\")\n"
   ]
  },
  {
   "cell_type": "code",
   "execution_count": null,
   "metadata": {},
   "outputs": [],
   "source": [
    "# Fungsi untuk memfilter row dengan pred_answer kosong\n",
    "def count_empty_gen_answer(dataset):\n",
    "    filtered_dataset = dataset.filter(lambda x: x[\"generated_answers\"] is None)\n",
    "    return len(filtered_dataset)\n",
    "\n",
    "# Hitung jumlah row pada split train\n",
    "num_empty_gen_answer_train = count_empty_gen_answer(abstract_nq[\"train\"])\n",
    "\n",
    "# Cetak hasil\n",
    "print(f\"Jumlah row dengan pred_answer kosong pada split train: {num_empty_gen_answer_train}\")"
   ]
  },
  {
   "cell_type": "markdown",
   "metadata": {},
   "source": [
    "##### Mencari kasus dimana generated sama dengan no_retrieval tetapi keduanya berbeda dengan gold_answers"
   ]
  },
  {
   "cell_type": "code",
   "execution_count": 46,
   "metadata": {},
   "outputs": [
    {
     "name": "stdout",
     "output_type": "stream",
     "text": [
      "gold: out of time\n",
      "generated: out of time\n"
     ]
    }
   ],
   "source": [
    "import re\n",
    "import ast\n",
    "\n",
    "def remove_stopword(text):\n",
    "    # Hapus kata 'the' dengan batas kata\n",
    "    cleaned_text = re.sub(r'\\b(the|a|an)\\b', '', text)  # Hapus kata 'the' dan 'a'\n",
    "    cleaned_text = re.sub(r\"[.,()^!?:'*+%~-]\", '', cleaned_text)  # Hapus tanda titik dan koma\n",
    "    # Hapus spasi ekstra yang mungkin tersisa\n",
    "    cleaned_text = re.sub(r'\\s+', ' ', cleaned_text).strip()\n",
    "    return cleaned_text\n",
    "\n",
    "def fix_gold(text):\n",
    "    result = text.lower().replace(\"\\\\xa0\", \" \").replace(\"\\\"\", \"\")\n",
    "    result = ast.literal_eval(result)\n",
    "    for i, answer in enumerate(result):\n",
    "        result[i] = remove_stopword(answer)\n",
    "    return result\n",
    "\n",
    "gold = fix_gold(\"['\\\"Out of Time\\\"']\")\n",
    "generated = remove_stopword(\"\\\"Out of Time\\\"\".lower().replace(\"\\\"\", \"\"))\n",
    "print(\"gold:\", gold[0])\n",
    "print(\"generated:\", generated)\n",
    "\n",
    "if generated not in gold:\n",
    "    print(\"Tidak terdapat di dalam gold answers list\")"
   ]
  },
  {
   "cell_type": "code",
   "execution_count": 47,
   "metadata": {},
   "outputs": [
    {
     "name": "stdout",
     "output_type": "stream",
     "text": [
      "Hasil disimpan di: all_different.json\n"
     ]
    }
   ],
   "source": [
    "import json\n",
    "import ast\n",
    "\n",
    "# Fungsi untuk memfilter kasus unik\n",
    "def filter_cases(dataset):\n",
    "    filtered_rows = []\n",
    "    exceptional = []\n",
    "    for row in dataset:\n",
    "        try:\n",
    "            gold_answers = row[\"gold_answers\"].lower().replace(\"\\\\xa0\", \" \").replace(\"\\\"\", \"\")\n",
    "            gold_answers_list = ast.literal_eval(gold_answers)\n",
    "            for i, answer in enumerate(gold_answers_list):\n",
    "                gold_answers_list[i] = remove_stopword(answer)\n",
    "            generated = remove_stopword(row[\"generated_answers\"].lower().replace(\"\\\"\", \"\"))\n",
    "            no_retrieval = remove_stopword(row[\"no_retrieval_pred_answer\"].lower().replace(\"\\\"\", \"\"))\n",
    "\n",
    "            if generated != no_retrieval and generated not in gold_answers_list and no_retrieval not in gold_answers_list:\n",
    "                filtered_rows.append(row)\n",
    "\n",
    "        except Exception as e:\n",
    "            # Opsional: Cetak error untuk debugging\n",
    "            # print(f\"Error processing row: {e}\")\n",
    "            exceptional.append(row)\n",
    "            # print(\"gold:\", row[\"gold_answers\"], \"--\", \"generated:\", row[\"generated_answers\"])\n",
    "            continue  # Lewati row jika terjadi error\n",
    "\n",
    "    return filtered_rows, exceptional\n",
    "\n",
    "# Simpan hasil ke file JSON\n",
    "def save_cases_to_json(cases, output_path):\n",
    "    with open(output_path, \"w\") as f:\n",
    "        json.dump(cases, f, indent=4)\n",
    "    print(f\"Hasil disimpan di: {output_path}\")\n",
    "\n",
    "# Filter kasus pada data training\n",
    "sampled_cases_train, exceptional = filter_cases(abstract_nq[\"train\"])\n",
    "\n",
    "# Simpan hasil ke file JSON\n",
    "save_cases_to_json(sampled_cases_train, \"all_different.json\")\n"
   ]
  },
  {
   "cell_type": "markdown",
   "metadata": {},
   "source": [
    "Dari data tersebut, dicek apakah ada kasus dimana summary-nya kosong"
   ]
  },
  {
   "cell_type": "code",
   "execution_count": 10,
   "metadata": {},
   "outputs": [
    {
     "name": "stdout",
     "output_type": "stream",
     "text": [
      "Hasil disimpan di gen_eq_no-retriev_yet_empty_summary.json. Total baris: 0\n"
     ]
    }
   ],
   "source": [
    "import json\n",
    "\n",
    "# Nama file yang akan dibaca\n",
    "input_file = \"inspect_gen_equal_to_no-retriev_but_different_from_gold.json\"\n",
    "\n",
    "# Load data dari file JSON\n",
    "with open(input_file, \"r\", encoding=\"utf-8\") as f:\n",
    "    data = json.load(f)\n",
    "\n",
    "# Filter baris di mana summary hanya berisi string kosong atau whitespace\n",
    "filtered_rows = [row for row in data if row[\"summary\"].strip() == \" \"]\n",
    "\n",
    "# Nama file output\n",
    "output_file = \"gen_eq_no-retriev_yet_empty_summary.json\"\n",
    "\n",
    "# Simpan hasil filter ke file JSON baru\n",
    "with open(output_file, \"w\", encoding=\"utf-8\") as f:\n",
    "    json.dump(filtered_rows, f, indent=4)\n",
    "\n",
    "print(f\"Hasil disimpan di {output_file}. Total baris: {len(filtered_rows)}\")"
   ]
  },
  {
   "cell_type": "markdown",
   "metadata": {},
   "source": [
    "##### Memahami nilai unik dari kolom type"
   ]
  },
  {
   "cell_type": "code",
   "execution_count": 48,
   "metadata": {},
   "outputs": [
    {
     "name": "stdout",
     "output_type": "stream",
     "text": [
      "Nilai unik di kolom 'type': {'[good]'}\n"
     ]
    }
   ],
   "source": [
    "# Ambil split train\n",
    "train_data = abstract_nq[\"train\"]\n",
    "\n",
    "# Ambil semua nilai di kolom 'type'\n",
    "type_values = [row[\"type\"] for row in train_data]\n",
    "\n",
    "# Dapatkan nilai unik\n",
    "unique_types = set(type_values)\n",
    "\n",
    "# Cetak hasil\n",
    "print(\"Nilai unik di kolom 'type':\", unique_types)"
   ]
  },
  {
   "cell_type": "markdown",
   "metadata": {},
   "source": [
    "__Daftar Pertanyaan__\n",
    "1. has_gold_answer_in_prompt = true itu apakah berarti gold answer terdapat di dalam passages atau di dalam summary?\n",
    "`jawab: di dalam passages. sebenarnya kolom ini tidaklah relevan, karena kan yg menentukan apakah summary dibuat atau tidak itu adalah log probs nya.`\n",
    "2. generated_answers itu adalah hasil dari model mendasarkan jawaban pada summary kan? Apa bedanya summary dengan gpt3_completions?\n",
    "`Beda antara summary adalah gpt3_completions yang telah ditentukan apakah membantu dalam generasi jawaban atau tidak. Hal ini berarti summary antara bernilai sama persis dengan gpt3_completions atau bernilai kosong`\n",
    "3. apakah gold_answer_score adalah log probs dari gold_answer di dalam gpt3_completions? \n",
    "`perlu dipahami dulu bahwa gpt3_completions bukanlah jawaban akhir, melainkan nama lain bagi summary (kurang lebih), generated_answer adalah jawaban akhir setelah menggunakan summary sebagai konteks dan score di sini adalah log probs dari generated_anwer`\n",
    "4. Kalau gitu kenapa ada contoh dimana generated_answer tidak sama dengan gold_answers, tetapi gold_answer_score-nya memiliki nilai? berhubung penentuan apakah summary memiliki nilai atau justru kosong didasarkan pada skor jawaban (generated) yang benar (sesuai dgn gold), bukankah score harusnya kosong?\n",
    "5. Kasus (row) mana saja yang generated_answer tidak sama dengan gold_answer? apakah max_gold\n",
    "Pada tahap training kan data disusun dengan melihat apakah (1) model menjawab dengan benar (2) log probs dari jawaban natural lebih tinggi drpd jawaban \n",
    "\n",
    "jika summary tidak memberikan skor lebih tinggi daripada tanpa-summary (hanya mengandalkan memori parameter model), maka summary dibuat kosong. \n"
   ]
  },
  {
   "cell_type": "markdown",
   "metadata": {},
   "source": []
  }
 ],
 "metadata": {
  "kernelspec": {
   "display_name": "cuda_12-4",
   "language": "python",
   "name": "python3"
  },
  "language_info": {
   "codemirror_mode": {
    "name": "ipython",
    "version": 3
   },
   "file_extension": ".py",
   "mimetype": "text/x-python",
   "name": "python",
   "nbconvert_exporter": "python",
   "pygments_lexer": "ipython3",
   "version": "3.12.7"
  }
 },
 "nbformat": 4,
 "nbformat_minor": 2
}
