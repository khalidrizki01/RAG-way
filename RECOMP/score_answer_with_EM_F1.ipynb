{
 "cells": [
  {
   "cell_type": "markdown",
   "id": "cbf145be",
   "metadata": {},
   "source": [
    "# Cek Apakah passage masih memiliki \\n\\n\n",
    "\\n\\n adalah separator antara passage, yg mana jika tidak ada berarti model llm hanya menerima input teks berupa passage pertama saja, dan bukan passage kedua & ketika"
   ]
  },
  {
   "cell_type": "code",
   "execution_count": null,
   "id": "14fd1a92",
   "metadata": {},
   "outputs": [],
   "source": [
    "from datasets import load_from_disk\n",
    "from transformers import AutoTokenizer\n",
    "from tqdm import tqdm\n",
    "\n",
    "# Load dataset dan tokenizer\n",
    "dataset = load_from_disk(\"./generated_data/RECOMP_tuning_with_no_Judul_nTeks\")\n",
    "test_data = dataset[\"test\"]\n",
    "tokenizer = AutoTokenizer.from_pretrained(\"./models/-google-flan-t5-base-2025-05-28_07-17-31\")\n",
    "\n",
    "# Inisialisasi\n",
    "decoded_passages = []\n",
    "pipe_counts = []\n",
    "multi_pipe_count = 0\n",
    "single_or_none_pipe_count = 0\n",
    "\n",
    "# Proses setiap passage\n",
    "for passage in tqdm(test_data[\"passages\"]):\n",
    "    # Tokenisasi dan truncation\n",
    "    tokenized = tokenizer(\n",
    "        passage,\n",
    "        max_length=512,\n",
    "        truncation=True,\n",
    "        return_tensors=\"pt\",\n",
    "        add_special_tokens=True\n",
    "    )\n",
    "    \n",
    "    # Decode\n",
    "    decoded = tokenizer.decode(tokenized[\"input_ids\"][0], skip_special_tokens=True)\n",
    "    decoded_passages.append(decoded)\n",
    "\n",
    "    # Hitung jumlah karakter pipe\n",
    "    pipe_count = decoded.count(\"|\")\n",
    "    pipe_counts.append(pipe_count)\n",
    "\n",
    "    # Klasifikasi\n",
    "    if pipe_count > 1:\n",
    "        multi_pipe_count += 1\n",
    "    else:\n",
    "        single_or_none_pipe_count += 1\n",
    "\n",
    "# Tambahkan kolom ke dataset\n",
    "test_data = test_data.add_column(\"truncated_decoded_passage\", decoded_passages)\n",
    "test_data = test_data.add_column(\"pipe_count\", pipe_counts)\n",
    "\n",
    "# Hitung total dan persentase\n",
    "total = multi_pipe_count + single_or_none_pipe_count\n",
    "percent_multi = 100 * multi_pipe_count / total\n",
    "percent_single_or_none = 100 * single_or_none_pipe_count / total\n",
    "\n",
    "# Cetak statistik\n",
    "print(f\"Total entries: {total}\")\n",
    "print(f\"Pipe > 1: {multi_pipe_count} ({percent_multi:.2f}%)\")\n",
    "print(f\"Pipe ≤ 1: {single_or_none_pipe_count} ({percent_single_or_none:.2f}%)\")\n",
    "\n",
    "# # Contoh hasil\n",
    "# print(\"\\nContoh hasil:\")\n",
    "# for i in range(3):\n",
    "#     print(f\"\\nOriginal passage:\\n{test_data['passages'][i]}\")\n",
    "#     print(f\"\\nTruncated-decoded passage:\\n{test_data['truncated_decoded_passage'][i]}\")\n",
    "#     print(f\"Jumlah karakter '|': {test_data['pipe_count'][i]}\")\n"
   ]
  },
  {
   "cell_type": "code",
   "execution_count": 9,
   "id": "5d3a810e",
   "metadata": {},
   "outputs": [
    {
     "data": {
      "text/plain": [
       "Dataset({\n",
       "    features: ['query', 'passages', 'summary', 'final_summary', 'answer', 'generated_results'],\n",
       "    num_rows: 565\n",
       "})"
      ]
     },
     "execution_count": 9,
     "metadata": {},
     "output_type": "execute_result"
    }
   ],
   "source": [
    "test_data"
   ]
  },
  {
   "cell_type": "markdown",
   "id": "c12fc44b",
   "metadata": {},
   "source": [
    "# Generate Answer based on T5 Summary"
   ]
  },
  {
   "cell_type": "markdown",
   "id": "f93da710",
   "metadata": {},
   "source": [
    "Sebelum menjalankan generasi jawaban dengan rangkuman hasil fine tuning T5, T5 sudah melakukan generasi rangkuman ketika menjalankan train_summarizer.py dengan command `python train_summarizer.py --do_predict`"
   ]
  },
  {
   "cell_type": "code",
   "execution_count": 1,
   "id": "a9adf397",
   "metadata": {},
   "outputs": [
    {
     "name": "stderr",
     "output_type": "stream",
     "text": [
      "/data/khalid_RAG/RAG-way/rag_way/lib/python3.10/site-packages/tqdm/auto.py:21: TqdmWarning: IProgress not found. Please update jupyter and ipywidgets. See https://ipywidgets.readthedocs.io/en/stable/user_install.html\n",
      "  from .autonotebook import tqdm as notebook_tqdm\n"
     ]
    },
    {
     "name": "stdout",
     "output_type": "stream",
     "text": [
      "Loading model on cuda with torch.bfloat16\n"
     ]
    },
    {
     "name": "stderr",
     "output_type": "stream",
     "text": [
      "Loading checkpoint shards: 100%|██████████| 2/2 [00:00<00:00, 23.42it/s]\n"
     ]
    }
   ],
   "source": [
    "from utils import load_model_and_tokenizer\n",
    "model_name='Qwen/Qwen3-1.7B'\n",
    "model, tokenizer, config = load_model_and_tokenizer(model_name)"
   ]
  },
  {
   "cell_type": "code",
   "execution_count": 52,
   "id": "f27df7af",
   "metadata": {},
   "outputs": [],
   "source": [
    "from datasets import load_from_disk\n",
    "dataset = load_from_disk(\"./generated_data/RECOMP_tuning_with_no_Judul_nTeks\")\n",
    "test_data = dataset[\"test\"]"
   ]
  },
  {
   "cell_type": "code",
   "execution_count": 54,
   "id": "eee605d1",
   "metadata": {},
   "outputs": [
    {
     "data": {
      "text/plain": [
       "Dataset({\n",
       "    features: ['query', 'passages', 'summary', 'final_summary', 'answer', 'generated_results'],\n",
       "    num_rows: 565\n",
       "})"
      ]
     },
     "execution_count": 54,
     "metadata": {},
     "output_type": "execute_result"
    }
   ],
   "source": [
    "test_data"
   ]
  },
  {
   "cell_type": "code",
   "execution_count": 19,
   "id": "33ed41ac",
   "metadata": {},
   "outputs": [
    {
     "name": "stderr",
     "output_type": "stream",
     "text": [
      "Generating responses with summary only:   0%|          | 0/565 [00:00<?, ?it/s]The attention mask is not set and cannot be inferred from input because pad token is same as eos token. As a consequence, you may observe unexpected behavior. Please pass your input's `attention_mask` to obtain reliable results.\n",
      "Generating responses with summary only: 100%|██████████| 565/565 [12:34<00:00,  1.34s/it]\n"
     ]
    }
   ],
   "source": [
    "from generate_answer import generate_answer_and_do_scoring\n",
    "\n",
    "# Muat baris-baris teks dari file\n",
    "with open(\"./outputs/-.-models--google-flan-t5-base-2025-05-28_07-17-31-2025-05-28_10-26-57/generated_predictions.txt\", \"r\", encoding=\"utf-8\") as f:\n",
    "    predictions = [line.strip() for line in f.readlines()]\n",
    "\n",
    "# Pastikan jumlah prediksi sama dengan jumlah data\n",
    "assert len(predictions) == len(test_data), f\"Jumlah prediksi ({len(predictions)}) tidak sama dengan jumlah data ({len(test_data)})\"\n",
    "\n",
    "# Tambahkan kolom ke dataset\n",
    "test_data = test_data.add_column(\"T5_summary\", predictions)\n",
    "\n",
    "answer_based_on_t5_summary = generate_answer_and_do_scoring(\n",
    "    test_data, \n",
    "    query_col='query', \n",
    "    summary_col=\"T5_summary\", \n",
    "    label_col='answer', \n",
    "    passages_col='passages', \n",
    "    model=model, \n",
    "    tokenizer=tokenizer, \n",
    "    max_new_tokens=52\n",
    ")"
   ]
  },
  {
   "cell_type": "code",
   "execution_count": 22,
   "id": "d92e3df7",
   "metadata": {},
   "outputs": [],
   "source": [
    "from datasets import Dataset\n",
    "fin = Dataset.from_list(answer_based_on_t5_summary)"
   ]
  },
  {
   "cell_type": "code",
   "execution_count": 34,
   "id": "69079d41",
   "metadata": {},
   "outputs": [
    {
     "name": "stderr",
     "output_type": "stream",
     "text": [
      "Saving the dataset (1/1 shards): 100%|██████████| 565/565 [00:00<00:00, 69336.47 examples/s]\n"
     ]
    }
   ],
   "source": [
    "fin.save_to_disk(\"./outputs/EM_F1_testing/SCORES_google-flan-t5-base-2025-05-28_07-17-31\")"
   ]
  },
  {
   "cell_type": "code",
   "execution_count": 30,
   "id": "93f00861",
   "metadata": {},
   "outputs": [
    {
     "data": {
      "text/plain": [
       "Dataset({\n",
       "    features: ['query', 'passages', 'summary', 'label', 'generated_answer', 'em', 'f1'],\n",
       "    num_rows: 565\n",
       "})"
      ]
     },
     "execution_count": 30,
     "metadata": {},
     "output_type": "execute_result"
    }
   ],
   "source": [
    "fin_read = load_from_disk(\"./outputs/EM_F1_testing/SCORES_google-flan-t5-base-2025-05-28_07-17-31\")\n",
    "fin_read"
   ]
  },
  {
   "cell_type": "code",
   "execution_count": 24,
   "id": "6c96b284",
   "metadata": {},
   "outputs": [
    {
     "data": {
      "text/plain": [
       "0.42123893805309737"
      ]
     },
     "execution_count": 24,
     "metadata": {},
     "output_type": "execute_result"
    }
   ],
   "source": [
    "sum(fin['em'])/len(fin)"
   ]
  },
  {
   "cell_type": "code",
   "execution_count": 50,
   "id": "63c4c66a",
   "metadata": {},
   "outputs": [
    {
     "data": {
      "text/plain": [
       "226.0"
      ]
     },
     "execution_count": 50,
     "metadata": {},
     "output_type": "execute_result"
    }
   ],
   "source": [
    "sum(substringmatch_xcode_details)"
   ]
  },
  {
   "cell_type": "code",
   "execution_count": 51,
   "id": "3c0e3d4d",
   "metadata": {},
   "outputs": [
    {
     "data": {
      "text/plain": [
       "565"
      ]
     },
     "execution_count": 51,
     "metadata": {},
     "output_type": "execute_result"
    }
   ],
   "source": [
    "len(substringmatch_xcode_details)"
   ]
  },
  {
   "cell_type": "code",
   "execution_count": 25,
   "id": "ea5f642e",
   "metadata": {},
   "outputs": [
    {
     "data": {
      "text/plain": [
       "0.25522817089095584"
      ]
     },
     "execution_count": 25,
     "metadata": {},
     "output_type": "execute_result"
    }
   ],
   "source": [
    "sum(fin['f1'])/len(fin)"
   ]
  },
  {
   "cell_type": "markdown",
   "id": "7904bccc",
   "metadata": {},
   "source": [
    "# Menguji kinerja jika menggunakan RAG biasa"
   ]
  },
  {
   "cell_type": "code",
   "execution_count": null,
   "id": "42edeb8a",
   "metadata": {},
   "outputs": [],
   "source": [
    "from generate_answer import generate_answer_and_do_scoring\n",
    "answer_based_on_passages = generate_answer_and_do_scoring(\n",
    "    test_data, \n",
    "    query_col='query', \n",
    "    summary_col=\"passages\", \n",
    "    label_col='answer', \n",
    "    passages_col='passages', \n",
    "    model=model, \n",
    "    tokenizer=tokenizer, \n",
    "    max_new_tokens=52, \n",
    "    max_source_length = 512\n",
    ")"
   ]
  },
  {
   "cell_type": "code",
   "execution_count": 8,
   "id": "5e3beeeb",
   "metadata": {},
   "outputs": [
    {
     "name": "stdout",
     "output_type": "stream",
     "text": [
      "HASIL RAG BIASA\n",
      "rerata EM: 0.29557522123893804\n",
      "rerata F1: 0.1659491847867348\n"
     ]
    }
   ],
   "source": [
    "from datasets import Dataset\n",
    "normal_RAG = Dataset.from_list(answer_based_on_passages)\n",
    "print(\"HASIL RAG BIASA\")\n",
    "print(\"rerata EM:\", sum(normal_RAG['em'])/len(normal_RAG))\n",
    "print(\"rerata F1:\", sum(normal_RAG['f1'])/len(normal_RAG))"
   ]
  },
  {
   "cell_type": "markdown",
   "id": "402105f4",
   "metadata": {},
   "source": [
    "__Terbukti bahwa dengan menggunakan RECOMP kinerja RAG menjadi lebih baik, bisa dilihat dari skor EM dan F1 nya yang lebih tinggi__"
   ]
  },
  {
   "cell_type": "markdown",
   "id": "bbcc1cfe",
   "metadata": {},
   "source": [
    "# Push Model ke Huggingface Hub"
   ]
  },
  {
   "cell_type": "code",
   "execution_count": 18,
   "id": "13d95914",
   "metadata": {},
   "outputs": [],
   "source": [
    "t5_model_path = \"./models/-google-flan-t5-base-2025-05-28_07-17-31\""
   ]
  },
  {
   "cell_type": "code",
   "execution_count": 20,
   "id": "8b58f48d",
   "metadata": {},
   "outputs": [],
   "source": [
    "from transformers import AutoModelForSeq2SeqLM, AutoTokenizer\n",
    "t5_model = AutoModelForSeq2SeqLM.from_pretrained(t5_model_path)\n",
    "t5_tokenizer = AutoTokenizer.from_pretrained(t5_model_path)"
   ]
  },
  {
   "cell_type": "code",
   "execution_count": null,
   "id": "d5fc379f",
   "metadata": {},
   "outputs": [],
   "source": [
    "hub_repo = \"khalidrizki/indonesian-T5-RECOMP\"\n",
    "t5_model.push_to_hub(hub_repo)\n",
    "t5_tokenizer.push_to_hub(hub_repo)"
   ]
  },
  {
   "cell_type": "code",
   "execution_count": null,
   "id": "751c9ee0",
   "metadata": {},
   "outputs": [],
   "source": []
  }
 ],
 "metadata": {
  "kernelspec": {
   "display_name": "Python (rag_way)",
   "language": "python",
   "name": "rag_way"
  },
  "language_info": {
   "codemirror_mode": {
    "name": "ipython",
    "version": 3
   },
   "file_extension": ".py",
   "mimetype": "text/x-python",
   "name": "python",
   "nbconvert_exporter": "python",
   "pygments_lexer": "ipython3",
   "version": "3.10.12"
  }
 },
 "nbformat": 4,
 "nbformat_minor": 5
}
