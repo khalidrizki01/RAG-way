{
 "cells": [
  {
   "cell_type": "markdown",
   "metadata": {},
   "source": [
    "# Loading Data"
   ]
  },
  {
   "cell_type": "code",
   "execution_count": 1,
   "metadata": {},
   "outputs": [],
   "source": [
    "from datasets import load_dataset, load_from_disk\n",
    "\n",
    "# tydiqa_gold = load_dataset(\"khalidalt/tydiqa-goldp\", 'indonesian', trust_remote_code=True)\n",
    "# mr_tydi = load_from_disk(\"./generated_data/mr_tydi_filled\")"
   ]
  },
  {
   "cell_type": "code",
   "execution_count": 2,
   "metadata": {},
   "outputs": [
    {
     "data": {
      "text/plain": [
       "DatasetDict({\n",
       "    train: Dataset({\n",
       "        features: ['id', 'language', 'document_title', 'passage_text', 'question_text', 'answers'],\n",
       "        num_rows: 5702\n",
       "    })\n",
       "    validation: Dataset({\n",
       "        features: ['id', 'language', 'document_title', 'passage_text', 'question_text', 'answers'],\n",
       "        num_rows: 565\n",
       "    })\n",
       "})"
      ]
     },
     "execution_count": 2,
     "metadata": {},
     "output_type": "execute_result"
    }
   ],
   "source": [
    "tydiqa_gold"
   ]
  },
  {
   "cell_type": "markdown",
   "metadata": {},
   "source": [
    "# Data Cleaning"
   ]
  },
  {
   "cell_type": "code",
   "execution_count": 3,
   "metadata": {},
   "outputs": [],
   "source": [
    "tydiqa_gold = tydiqa_gold.remove_columns([\"language\", \"document_title\", \"passage_text\"])\n",
    "tydiqa_gold = tydiqa_gold.rename_column(\"id\", \"tydiqa_id\")\n",
    "tydiqa_gold = tydiqa_gold.rename_column(\"question_text\", \"query\")"
   ]
  },
  {
   "cell_type": "code",
   "execution_count": 4,
   "metadata": {},
   "outputs": [],
   "source": [
    "from datasets import DatasetDict\n",
    "\n",
    "def clean_answers(example):\n",
    "    example[\"answers\"] = example[\"answers\"][\"text\"]  # Ambil hanya bagian text\n",
    "    return example\n",
    "\n",
    "# Terapkan fungsi untuk membersihkan answers di setiap split\n",
    "tydiqa_gold = DatasetDict({\n",
    "    split: dataset.map(clean_answers)\n",
    "    for split, dataset in tydiqa_gold.items()\n",
    "})"
   ]
  },
  {
   "cell_type": "code",
   "execution_count": 5,
   "metadata": {},
   "outputs": [
    {
     "data": {
      "application/vnd.jupyter.widget-view+json": {
       "model_id": "ff7fbd0cfec14af194ac309dd7fbee71",
       "version_major": 2,
       "version_minor": 0
      },
      "text/plain": [
       "Map:   0%|          | 0/5702 [00:00<?, ? examples/s]"
      ]
     },
     "metadata": {},
     "output_type": "display_data"
    },
    {
     "data": {
      "application/vnd.jupyter.widget-view+json": {
       "model_id": "eebf55ed51aa4791bdb8086d80cff061",
       "version_major": 2,
       "version_minor": 0
      },
      "text/plain": [
       "Map:   0%|          | 0/565 [00:00<?, ? examples/s]"
      ]
     },
     "metadata": {},
     "output_type": "display_data"
    }
   ],
   "source": [
    "import re\n",
    "from datasets import load_from_disk, DatasetDict\n",
    "\n",
    "# Fungsi untuk membersihkan teks: hapus newline & whitespace berlebih\n",
    "def clean_text(text):\n",
    "    return re.sub(r'\\s+', ' ', text).strip()\n",
    "\n",
    "# Fungsi untuk membersihkan dan memilih jawaban terpendek\n",
    "def clean_tydiqa(example):\n",
    "    # Bersihkan query\n",
    "    example[\"query\"] = clean_text(example[\"query\"])\n",
    "    \n",
    "    # Bersihkan answers dan pilih jawaban terpendek jika ada lebih dari satu\n",
    "    cleaned_answers = [clean_text(ans) for ans in example[\"answers\"]]\n",
    "    example[\"answers\"] = min(cleaned_answers, key=len) if cleaned_answers else \"\"  # Pilih jawaban terpendek\n",
    "\n",
    "    return example\n",
    "\n",
    "# Fungsi untuk membersihkan query di MR-TyDi\n",
    "def clean_mr_tydi(example):\n",
    "    example[\"query\"] = clean_text(example[\"query\"])\n",
    "    return example\n",
    "\n",
    "# Terapkan pembersihan pada dataset\n",
    "tydiqa_gold_cleaned = DatasetDict({\n",
    "    split: dataset.map(clean_tydiqa)\n",
    "    for split, dataset in tydiqa_gold.items()\n",
    "})\n",
    "\n",
    "mr_tydi_cleaned = DatasetDict({\n",
    "    split: dataset.map(clean_mr_tydi)\n",
    "    for split, dataset in mr_tydi.items()\n",
    "})"
   ]
  },
  {
   "cell_type": "code",
   "execution_count": 6,
   "metadata": {},
   "outputs": [
    {
     "data": {
      "application/vnd.jupyter.widget-view+json": {
       "model_id": "1a39a90fc9b24c0b818d256a6b0392ac",
       "version_major": 2,
       "version_minor": 0
      },
      "text/plain": [
       "Filter:   0%|          | 0/5702 [00:00<?, ? examples/s]"
      ]
     },
     "metadata": {},
     "output_type": "display_data"
    },
    {
     "name": "stdout",
     "output_type": "stream",
     "text": [
      "Nicolas Loufrani\n"
     ]
    },
    {
     "data": {
      "application/vnd.jupyter.widget-view+json": {
       "model_id": "e03fe9fd494149a0b01ddd4e22fd35c0",
       "version_major": 2,
       "version_minor": 0
      },
      "text/plain": [
       "Filter:   0%|          | 0/565 [00:00<?, ? examples/s]"
      ]
     },
     "metadata": {},
     "output_type": "display_data"
    },
    {
     "data": {
      "text/plain": [
       "{'tydiqa_id': '8601389648636013237-1',\n",
       " 'query': 'siapakah ketua Perum LKBN pertama?',\n",
       " 'answers': 'Mr. Soemanang'}"
      ]
     },
     "execution_count": 6,
     "metadata": {},
     "output_type": "execute_result"
    }
   ],
   "source": [
    "check_if_answer_is_cleaned = tydiqa_gold_cleaned['train'].filter(lambda x: x['tydiqa_id']==\"-2253919563477221294-3\")\n",
    "print(check_if_answer_is_cleaned[0]['answers'])\n",
    "\n",
    "check_if_answer_more_than_1 = tydiqa_gold_cleaned['validation'].filter(lambda x: x['tydiqa_id']==\"8601389648636013237-1\")\n",
    "check_if_answer_more_than_1[0]"
   ]
  },
  {
   "cell_type": "code",
   "execution_count": 46,
   "metadata": {},
   "outputs": [
    {
     "name": "stdout",
     "output_type": "stream",
     "text": [
      "🔍 Ditemukan 42 kata unik yang menjadi kata pertama dalam query ketika answers memiliki lebih dari 10 kata.\n",
      "📋 Kata unik tersebut: ['Aapakah', 'Ada', 'Apa', 'Apaka', 'Apakah', 'Bagaimana', 'Bagaimanakah', 'Berapa', 'Berapakah', 'Bidang', 'Dari', 'Darimanakah', 'Daun', 'Di', 'Dimana', 'Dimanakah', 'Dimankah', 'Kapan', 'Kenapa', 'Menceritakan', 'Mengapa', 'Musik', 'Siapa', 'Siapakah', 'Tentang', 'Untuk', 'Zat', 'aoakah', 'apa', 'apaah', 'apakah', 'berapa', 'berapakah', 'berdasarkan', 'dari', 'di', 'dimanakah', 'kapankah', 'mengapa', 'negara', 'siapakah', 'siapakh']\n"
     ]
    }
   ],
   "source": [
    "import re\n",
    "from collections import Counter\n",
    "from datasets import concatenate_datasets\n",
    "\n",
    "# Gabungkan split train dan validation\n",
    "tydiqa_gold_combined = concatenate_datasets([tydiqa_gold_cleaned[\"train\"], tydiqa_gold_cleaned[\"validation\"]])\n",
    "\n",
    "# Fungsi untuk menghitung jumlah kata dalam jawaban\n",
    "def count_words(text):\n",
    "    return len(re.findall(r'\\w+', text))\n",
    "\n",
    "# Filter hanya row dengan answers lebih dari 10 kata\n",
    "long_answer_rows = [row for row in tydiqa_gold_combined if count_words(row[\"answers\"]) > 10]\n",
    "\n",
    "# Ambil kata pertama dari query\n",
    "first_words = [row[\"query\"].split()[0] for row in long_answer_rows]\n",
    "\n",
    "# Hitung jumlah kemunculan kata pertama dalam query\n",
    "first_word_counts = Counter(first_words)\n",
    "\n",
    "# Konversi ke daftar kata unik\n",
    "unique_first_words = sorted(set(first_words))\n",
    "\n",
    "# Cetak hasil\n",
    "print(f\"🔍 Ditemukan {len(unique_first_words)} kata unik yang menjadi kata pertama dalam query ketika answers memiliki lebih dari 10 kata.\")\n",
    "print(\"📋 Kata unik tersebut:\", unique_first_words)\n"
   ]
  },
  {
   "cell_type": "markdown",
   "metadata": {},
   "source": [
    "# Filtering untuk answers yang jumlah katanya kurang dari 15 (opsional)"
   ]
  },
  {
   "cell_type": "code",
   "execution_count": null,
   "metadata": {},
   "outputs": [],
   "source": []
  },
  {
   "cell_type": "markdown",
   "metadata": {},
   "source": [
    "# Join"
   ]
  },
  {
   "cell_type": "code",
   "execution_count": 57,
   "metadata": {},
   "outputs": [
    {
     "data": {
      "text/plain": [
       "DatasetDict({\n",
       "    train: Dataset({\n",
       "        features: ['tydiqa_id', 'query', 'answers'],\n",
       "        num_rows: 5702\n",
       "    })\n",
       "    validation: Dataset({\n",
       "        features: ['tydiqa_id', 'query', 'answers'],\n",
       "        num_rows: 565\n",
       "    })\n",
       "})"
      ]
     },
     "execution_count": 57,
     "metadata": {},
     "output_type": "execute_result"
    }
   ],
   "source": [
    "tydiqa_gold_cleaned"
   ]
  },
  {
   "cell_type": "code",
   "execution_count": 7,
   "metadata": {},
   "outputs": [
    {
     "name": "stdout",
     "output_type": "stream",
     "text": [
      "✅ Dataset berhasil digabungkan berdasarkan `query` dengan struktur mengikuti `mr_tydi_cleaned`.\n"
     ]
    }
   ],
   "source": [
    "from datasets import DatasetDict, concatenate_datasets\n",
    "\n",
    "# Gabungkan split train & validation pada tydiqa_gold_cleaned\n",
    "tydiqa_gold_combined = concatenate_datasets([tydiqa_gold_cleaned[\"train\"], tydiqa_gold_cleaned[\"validation\"]])\n",
    "\n",
    "# Buat struktur baru mengikuti split dari mr_tydi_cleaned\n",
    "joined_datasets = {}\n",
    "\n",
    "for split, mr_tydi_split in mr_tydi_cleaned.items():\n",
    "    # Buat dictionary {query: row} dari tydiqa_gold_cleaned untuk lookup cepat\n",
    "    tydiqa_gold_dict = {row[\"query\"]: row for row in tydiqa_gold_combined}\n",
    "    \n",
    "    # Buat daftar baru dengan menggabungkan informasi dari mr_tydi_cleaned dan tydiqa_gold_cleaned\n",
    "    new_split_data = []\n",
    "    \n",
    "    for row in mr_tydi_split:\n",
    "        query = row[\"query\"]\n",
    "        tydiqa_data = tydiqa_gold_dict.get(query, None)  # Ambil data dari tydiqa_gold jika ada\n",
    "        \n",
    "        # Gabungkan data (jika tidak ada di tydiqa_gold, biarkan bagian tersebut kosong)\n",
    "        merged_row = {\n",
    "            **row,  # Data dari mr_tydi_cleaned\n",
    "            \"tydiqa_id\": tydiqa_data[\"tydiqa_id\"] if tydiqa_data else None,\n",
    "            \"answers\": tydiqa_data[\"answers\"] if tydiqa_data else None\n",
    "        }\n",
    "        \n",
    "        new_split_data.append(merged_row)\n",
    "\n",
    "    # Konversi kembali ke Dataset\n",
    "    joined_datasets[split] = mr_tydi_split.from_list(new_split_data)\n",
    "\n",
    "# Simpan hasil sebagai DatasetDict\n",
    "final_dataset = DatasetDict(joined_datasets)\n",
    "\n",
    "# # Simpan hasil ke disk\n",
    "# final_dataset.save_to_disk(\"generated_data/mr_tydi_tydiqa_joined\")\n",
    "\n",
    "print(\"✅ Dataset berhasil digabungkan berdasarkan `query` dengan struktur mengikuti `mr_tydi_cleaned`.\")\n",
    "# print(\"✅ Dataset telah disimpan di 'generated_data/mr_tydi_tydiqa_joined'.\")\n"
   ]
  },
  {
   "cell_type": "code",
   "execution_count": 9,
   "metadata": {},
   "outputs": [
    {
     "data": {
      "application/vnd.jupyter.widget-view+json": {
       "model_id": "346c03fe26194d868d497470d98c2cbf",
       "version_major": 2,
       "version_minor": 0
      },
      "text/plain": [
       "Filter:   0%|          | 0/4902 [00:00<?, ? examples/s]"
      ]
     },
     "metadata": {},
     "output_type": "display_data"
    },
    {
     "data": {
      "application/vnd.jupyter.widget-view+json": {
       "model_id": "aee34eba771d48148113e36ddafc8628",
       "version_major": 2,
       "version_minor": 0
      },
      "text/plain": [
       "Filter:   0%|          | 0/1224 [00:00<?, ? examples/s]"
      ]
     },
     "metadata": {},
     "output_type": "display_data"
    },
    {
     "data": {
      "application/vnd.jupyter.widget-view+json": {
       "model_id": "c0407fd9d46c41e3a72ce20e8b05e37f",
       "version_major": 2,
       "version_minor": 0
      },
      "text/plain": [
       "Filter:   0%|          | 0/829 [00:00<?, ? examples/s]"
      ]
     },
     "metadata": {},
     "output_type": "display_data"
    },
    {
     "name": "stdout",
     "output_type": "stream",
     "text": [
      "✅ Semua row dengan 'answers = None' telah dihapus dari dataset baru `finished_dataset`.\n"
     ]
    }
   ],
   "source": [
    "from datasets import DatasetDict\n",
    "\n",
    "# Fungsi untuk menghapus rows dengan answers = None\n",
    "def remove_none_answers(dataset):\n",
    "    return dataset.filter(lambda row: row[\"answers\"] is not None)\n",
    "\n",
    "# Buat dataset baru tanpa row yang memiliki answers = None\n",
    "finished_dataset = DatasetDict({\n",
    "    \"train\": remove_none_answers(final_dataset[\"train\"]),\n",
    "    \"dev\": remove_none_answers(final_dataset[\"dev\"]),\n",
    "    \"test\": remove_none_answers(final_dataset[\"test\"])\n",
    "})\n",
    "\n",
    "print(\"✅ Semua row dengan 'answers = None' telah dihapus dari dataset baru `finished_dataset`.\")"
   ]
  },
  {
   "cell_type": "code",
   "execution_count": 10,
   "metadata": {},
   "outputs": [
    {
     "name": "stdout",
     "output_type": "stream",
     "text": [
      "🔍 Split 'train': 0 row(s) memiliki 'answers' = None\n",
      "🔍 Split 'dev': 0 row(s) memiliki 'answers' = None\n",
      "🔍 Split 'test': 0 row(s) memiliki 'answers' = None\n"
     ]
    }
   ],
   "source": [
    "# Fungsi untuk mengecek apakah ada None dalam kolom 'answers'\n",
    "def check_none_answers(dataset, split_name):\n",
    "    none_count = sum(1 for row in dataset if row[\"answers\"] is None)\n",
    "    print(f\"🔍 Split '{split_name}': {none_count} row(s) memiliki 'answers' = None\")\n",
    "\n",
    "# Periksa setiap split\n",
    "check_none_answers(finished_dataset[\"train\"], \"train\")\n",
    "check_none_answers(finished_dataset[\"dev\"], \"dev\")\n",
    "check_none_answers(finished_dataset[\"test\"], \"test\")"
   ]
  },
  {
   "cell_type": "code",
   "execution_count": 16,
   "metadata": {},
   "outputs": [
    {
     "data": {
      "application/vnd.jupyter.widget-view+json": {
       "model_id": "ad097fed306d44969609697109a203c0",
       "version_major": 2,
       "version_minor": 0
      },
      "text/plain": [
       "tokenizer_config.json:   0%|          | 0.00/443 [00:00<?, ?B/s]"
      ]
     },
     "metadata": {},
     "output_type": "display_data"
    },
    {
     "data": {
      "application/vnd.jupyter.widget-view+json": {
       "model_id": "4b692f1cf2ee4ecb9f313a8fcd480d20",
       "version_major": 2,
       "version_minor": 0
      },
      "text/plain": [
       "sentencepiece.bpe.model:   0%|          | 0.00/5.07M [00:00<?, ?B/s]"
      ]
     },
     "metadata": {},
     "output_type": "display_data"
    },
    {
     "data": {
      "application/vnd.jupyter.widget-view+json": {
       "model_id": "268609c542fc4c5caee36ff5b239e4e1",
       "version_major": 2,
       "version_minor": 0
      },
      "text/plain": [
       "tokenizer.json:   0%|          | 0.00/17.1M [00:00<?, ?B/s]"
      ]
     },
     "metadata": {},
     "output_type": "display_data"
    },
    {
     "data": {
      "application/vnd.jupyter.widget-view+json": {
       "model_id": "c470f8077c464917b0bffdfa2fc989c3",
       "version_major": 2,
       "version_minor": 0
      },
      "text/plain": [
       "special_tokens_map.json:   0%|          | 0.00/167 [00:00<?, ?B/s]"
      ]
     },
     "metadata": {},
     "output_type": "display_data"
    },
    {
     "data": {
      "application/vnd.jupyter.widget-view+json": {
       "model_id": "c0c610182de34cef8ecbf1f18fa9ce49",
       "version_major": 2,
       "version_minor": 0
      },
      "text/plain": [
       "config.json:   0%|          | 0.00/655 [00:00<?, ?B/s]"
      ]
     },
     "metadata": {},
     "output_type": "display_data"
    },
    {
     "data": {
      "application/vnd.jupyter.widget-view+json": {
       "model_id": "4746e9d700a04fd1ab71d8af63d59418",
       "version_major": 2,
       "version_minor": 0
      },
      "text/plain": [
       "model.safetensors:   0%|          | 0.00/471M [00:00<?, ?B/s]"
      ]
     },
     "metadata": {},
     "output_type": "display_data"
    }
   ],
   "source": [
    "from transformers import AutoTokenizer, AutoModel\n",
    "\n",
    "# # Load dataset yang sudah dibersihkan\n",
    "# finished_dataset = load_from_disk(\"generated_data/mr_tydi_tydiqa_cleaned\")\n",
    "\n",
    "# Load tokenizer & model untuk Multilingual-E5-Small\n",
    "model_name = \"intfloat/multilingual-e5-small\"\n",
    "embedding_tokenizer = AutoTokenizer.from_pretrained(model_name)\n",
    "embedding_model = AutoModel.from_pretrained(model_name).to(\"cuda:0\")"
   ]
  },
  {
   "cell_type": "code",
   "execution_count": 17,
   "metadata": {},
   "outputs": [
    {
     "data": {
      "application/vnd.jupyter.widget-view+json": {
       "model_id": "896b03a502804ca5aa5b15ca75972907",
       "version_major": 2,
       "version_minor": 0
      },
      "text/plain": [
       "Map:   0%|          | 0/4542 [00:00<?, ? examples/s]"
      ]
     },
     "metadata": {},
     "output_type": "display_data"
    },
    {
     "data": {
      "application/vnd.jupyter.widget-view+json": {
       "model_id": "ebc689749e344fce95e9c16bc3b6ee97",
       "version_major": 2,
       "version_minor": 0
      },
      "text/plain": [
       "Saving the dataset (0/1 shards):   0%|          | 0/4542 [00:00<?, ? examples/s]"
      ]
     },
     "metadata": {},
     "output_type": "display_data"
    },
    {
     "data": {
      "application/vnd.jupyter.widget-view+json": {
       "model_id": "d98e5f6a7a134954b0a080d6356969c5",
       "version_major": 2,
       "version_minor": 0
      },
      "text/plain": [
       "Saving the dataset (0/1 shards):   0%|          | 0/1143 [00:00<?, ? examples/s]"
      ]
     },
     "metadata": {},
     "output_type": "display_data"
    },
    {
     "data": {
      "application/vnd.jupyter.widget-view+json": {
       "model_id": "2c05e8f479bc4d11aff2048f0d221b68",
       "version_major": 2,
       "version_minor": 0
      },
      "text/plain": [
       "Saving the dataset (0/1 shards):   0%|          | 0/565 [00:00<?, ? examples/s]"
      ]
     },
     "metadata": {},
     "output_type": "display_data"
    },
    {
     "name": "stdout",
     "output_type": "stream",
     "text": [
      "✅ Negative passages pada split train telah dipangkas menjadi top 4 berdasarkan similarity!\n",
      "✅ Dataset telah disimpan di 'generated_data/mr_tydi_tydiqa_final'.\n"
     ]
    }
   ],
   "source": [
    "import torch.nn.functional as F\n",
    "import torch\n",
    "from torch import Tensor\n",
    "from tqdm import tqdm\n",
    "import gc\n",
    "from datasets import load_from_disk\n",
    "\n",
    "\n",
    "# Fungsi average pooling\n",
    "def average_pool(last_hidden_states: Tensor, attention_mask: Tensor) -> Tensor:\n",
    "    last_hidden = last_hidden_states.masked_fill(~attention_mask[..., None].bool(), 0.0)\n",
    "    return last_hidden.sum(dim=1) / attention_mask.sum(dim=1)[..., None]\n",
    "\n",
    "# Fungsi untuk memilih top 4 negative_passages berdasarkan similarity\n",
    "def select_top4_negative_passages(example):\n",
    "    query_text = example[\"query\"]\n",
    "    negative_passages = example[\"negative_passages\"]\n",
    "\n",
    "    # Jika sudah <= 4, tidak perlu pemrosesan\n",
    "    if len(negative_passages) <= 4:\n",
    "        return example\n",
    "\n",
    "    # Ambil teks dari negative_passages\n",
    "    neg_texts = [neg[\"text\"] for neg in negative_passages]\n",
    "\n",
    "    # Tokenisasi dan embedding query serta negative_passages\n",
    "    batch_dict = embedding_tokenizer([query_text] + neg_texts, max_length=512, padding=True, truncation=True, return_tensors='pt')\n",
    "    batch_dict = {k: v.to(\"cuda:0\") for k, v in batch_dict.items()}\n",
    "\n",
    "    with torch.no_grad():\n",
    "        outputs = embedding_model(**batch_dict)\n",
    "\n",
    "    # Hitung embedding dan normalisasi\n",
    "    embeddings = average_pool(outputs.last_hidden_state, batch_dict['attention_mask'])\n",
    "    embeddings = F.normalize(embeddings, p=2, dim=1)  # Normalisasi untuk cosine similarity\n",
    "\n",
    "    # Hitung similarity scores (query vs negative_passages)\n",
    "    query_embedding = embeddings[0].unsqueeze(0)  # Query ada di indeks pertama\n",
    "    neg_embeddings = embeddings[1:]  # Negative passages setelah query\n",
    "    scores = (query_embedding @ neg_embeddings.T).squeeze(0)  # Cosine similarity\n",
    "\n",
    "    # Ambil indeks top 4 dengan similarity tertinggi\n",
    "    top_indices = torch.argsort(scores, descending=True)[:4]\n",
    "\n",
    "    # Simpan hanya 4 negative_passages terbaik\n",
    "    example[\"negative_passages\"] = [negative_passages[i] for i in top_indices]\n",
    "\n",
    "    # Bersihkan cache GPU setelah query diproses\n",
    "    del batch_dict, outputs, embeddings, scores\n",
    "    torch.cuda.empty_cache()\n",
    "    gc.collect()\n",
    "\n",
    "    return example\n",
    "\n",
    "# Terapkan fungsi ke split train\n",
    "finished_dataset[\"train\"] = finished_dataset[\"train\"].map(select_top4_negative_passages)\n",
    "\n",
    "# Simpan hasilnya ke disk\n",
    "finished_dataset.save_to_disk(\"generated_data/mr_tydi_tydiqa_final\")\n",
    "\n",
    "print(\"✅ Negative passages pada split train telah dipangkas menjadi top 4 berdasarkan similarity!\")\n",
    "print(\"✅ Dataset telah disimpan di 'generated_data/mr_tydi_tydiqa_final'.\")\n"
   ]
  },
  {
   "cell_type": "markdown",
   "metadata": {},
   "source": [
    "# Uji LLAMA 3.2 3B vs Groq"
   ]
  },
  {
   "cell_type": "code",
   "execution_count": 2,
   "metadata": {},
   "outputs": [
    {
     "name": "stdout",
     "output_type": "stream",
     "text": [
      "Loading model on cuda with torch.float16\n"
     ]
    },
    {
     "data": {
      "application/vnd.jupyter.widget-view+json": {
       "model_id": "92d0a26af81f48daa9a09f125cdd9a09",
       "version_major": 2,
       "version_minor": 0
      },
      "text/plain": [
       "Loading checkpoint shards:   0%|          | 0/2 [00:00<?, ?it/s]"
      ]
     },
     "metadata": {},
     "output_type": "display_data"
    }
   ],
   "source": [
    "from datasets import load_from_disk\n",
    "from utils import load_model_and_tokenizer\n",
    "\n",
    "model_name = \"meta-llama/Llama-3.2-3B-Instruct\"\n",
    "model, tokenizer, config = load_model_and_tokenizer(model_name)\n",
    "finished_dataset = load_from_disk(\"./generated_data/mr_tydi_tydiqa_final\")"
   ]
  },
  {
   "cell_type": "code",
   "execution_count": 12,
   "metadata": {},
   "outputs": [
    {
     "name": "stdout",
     "output_type": "stream",
     "text": [
      "🔹 Truncated input for LLaMA:\n",
      "<|begin_of_text|><|begin_of_text|><|start_header_id|>system<|end_header_id|>\n",
      "\n",
      "Cutting Knowledge Date: December 2023\n",
      "Today Date: 09 Feb 2025\n",
      "\n",
      "<|eot_id|><|start_header_id|>user<|end_header_id|>\n",
      "\n",
      "Judul: Ernest Douwes Dekker \n",
      "Teks: Ernest Douwes Dekker wafat dini hari tanggal 28 Agustus 1950 (tertulis di batu nisannya; 29 Agustus 1950 versi van der Veur, 2006) dan dimakamkan di TMP Cikutra, Bandung.\n",
      "\n",
      "Judul: Eduard Douwes Dekker \n",
      "Teks: Eduard Douwes Dekker kemudian pindah ke Ingelheim am Rhein dekat Sungai Rhein sampai akhirnya meninggal 19 Februari 1887.\n",
      "\n",
      "Judul: Ernest Douwes Dekker \n",
      "Teks: Dr. Ernest François Eugène Douwes Dekker (umumnya dikenal dengan nama Douwes Dekker atau Danudirja Setiabudi; ) adalah seorang pejuang kemerdekaan dan pahlawan nasional Indonesia.\n",
      "\n",
      "Ringkaslah teks di atas agar dapat menjawab pertanyaan secara mendetail. Jangan berikan pengantar pada hasil. Pertanyaan: \"dimanakah Dr. Ernest François Eugène Douwes Dekker meninggal?\"<|eot_id|><|start_header_id|>assistant<|end_header_id|>\n",
      "\n",
      "\n",
      "\n",
      "🔸 Special Token Count: 35\n",
      "\n",
      "🔹 Truncated input for LLaMA:\n",
      "<|begin_of_text|><|begin_of_text|><|start_header_id|>system<|end_header_id|>\n",
      "\n",
      "Cutting Knowledge Date: December 2023\n",
      "Today Date: 09 Feb 2025\n",
      "\n",
      "<|eot_id|><|start_header_id|>user<|end_header_id|>\n",
      "\n",
      "Judul: Balai Kota Seoul \n",
      "Teks: Pada tanggal 18 Februari 2008, desain Yoo Kerl dari iArc terpilih dalam kompetisi desain Pemerintah Metropolitan Seoul.[6] Bagian atas depan bangunan baru ini dirancang untuk menonjol dalam bentuk lengkung. Perancang Yoo merangkul tiga kata kunci yakni \"tradisi, warga negara, dan masa depan\" dalam rancangannya, yang mencerminkan elemen horisontal dari arsitektur tradisional tingkat rendah Korea dan penafsiran ulang dari nuansa mendalam dan lekukan atap atap.[7]\n",
      "\n",
      "Judul: Balai Kota Seoul \n",
      "Teks: Balai Kota Seoul adalah sebuah gedung pemerintahan bagi Pemerintah Metropolitan Seoul di Korea Selatan, yang bertanggung jawab atas urusan administrasi Seoul. Terletak di Taepyeongno, Jung-gu, di jantung kota Seoul. Balai Kota ini terhubung dengan stasiun di Seoul Subway Line 1, dengan akses pada Seoul Subway Line 2 dari stasiun yang sama. Di depan balai kota saat ini terdapat gedung balai kota lama, sekarang merupakan Perpustakaan Metropolitan Seoul, dan Seoul Plaza (Korean: 서울광장).\n",
      "\n",
      "Judul: Balai Kota Seoul \n",
      "Teks: jmpl|Gedung Balai Kota Seoul yang baru, tepat di belakang gedung lama pada bulan Februari 2013 Pada tanggal 20 Mei 2008, karena keterbatasan elevasi Deoksugung, pembangunan gedung baru ini mengalami perubahan dari 22 lantai menjadi 13 lantai. Pada tanggal 26 Agustus 2008, pemerintah memindahkan Balai Taepyeong untuk mengembalikan Balai Taepyeong yang lama di kota itu setelah pembongkaran Balai Taepyeong, dan penghentian sementara Balai Taepyeong dihentikan.[8] Setelah itu, Pemerintah Metropolitan\n",
      "\n",
      "🔸 Special Token Count: 35\n",
      "\n",
      "🔹 Truncated input for LLaMA:\n",
      "<|begin_of_text|><|begin_of_text|><|start_header_id|>system<|end_header_id|>\n",
      "\n",
      "Cutting Knowledge Date: December 2023\n",
      "Today Date: 09 Feb 2025\n",
      "\n",
      "<|eot_id|><|start_header_id|>user<|end_header_id|>\n",
      "\n",
      "Judul: Perserikatan Bangsa-Bangsa \n",
      "Teks: Sebagai tindak lanjut Atlantic Charter tersebut, pada tanggal 25 April 1945, Konferensi PBB tentang Organisasi Internasional diadakan di San Francisco, dengan dihadiri oleh 50 pemerintah negara, dan sejumlah organisasi non-pemerintah yang terlibat dalam penyusunan Piagam Perserikatan Bangsa-Bangsa (Declaration of the United Nations). PBB resmi dibentuk pada 24 Oktober 1945 atas ratifikasi Piagam oleh lima anggota tetap Dewan Keamanan -Perancis, Republik Tiongkok, Uni Soviet, Inggris dan Amerika Serikat- dan mayoritas dari 46 negara anggota lainnya.\n",
      "\n",
      "Judul: Kantor Koordinasi Urusan Kemanusiaan PBB \n",
      "Teks: Kantor Koordinasi Urusan Kemanusiaan PBB atau yang dalam Bahasa Inggris disebut \"Office for the Coordination of Humanitarian Affairs\" (OCHA) adalah sebuah kantor Perserikatan Bangsa-Bangsa yang dibentuk pada Desember 1991 oleh Resolusi Majelis Umum No. 46/182. Resolusi ini dibuat untuk memperkuat respon PBB dalam membantu menangani keadaan darurat dan bencana alam yang kompleks, dengan mendirikan Departemen Urusan Kemanusiaan PBB, dan mengganti Kantor Koordinator Bencana PBB, yang telah dibentuk pada tahun 1972. Pada tahun 1998, Departemen Urusan Kemanusiaan PBB digabung dengan Kantor Koordinasi Urusan Kemanusiaan PBB dan didesain untuk menjadi \"focal point\" PBB dalam berbagai urusan bencana utama. Mandat dari kantor ini juga diperluas untuk mencakupi koordinasi respon kemanusiaan, pembentukan kebijakan dan advokasi kemanusiaan. Kantor ini merupakan pengamat dalam Kelompok Pembangunan Perserikatan Bangsa-Bangsa.\n",
      "\n",
      "Judul: UN\n",
      "\n",
      "🔸 Special Token Count: 35\n",
      "\n",
      "📊 Konsistensi Special Token Count: [35, 35, 35]\n"
     ]
    }
   ],
   "source": [
    "from typing import List, Dict\n",
    "from utils import DeviceType, format_chat_prompt, prepare_inputs\n",
    "from transformers import AutoTokenizer\n",
    "import torch\n",
    "\n",
    "def combine_passages(example):\n",
    "    \"\"\"\n",
    "    Menggabungkan positive_passages dan negative_passages menjadi satu list.\n",
    "    \"\"\"\n",
    "    example[\"all_passages\"] = example[\"positive_passages\"] + example[\"negative_passages\"]\n",
    "    return example\n",
    "\n",
    "def format_passages(example):\n",
    "    \"\"\"\n",
    "    Memformat top 3 passages menjadi format \"Judul: {title} \\nTeks: {text}\".\n",
    "    \"\"\"\n",
    "    formatted_passages = [\n",
    "        f\"Judul: {p['title']} \\nTeks: {p['text']}\" for p in example[\"all_passages\"][:3]  # Ambil 3 passage pertama\n",
    "    ]\n",
    "    return \"\\n\\n\".join(formatted_passages)\n",
    "\n",
    "def truncate_for_flan_t5(messages: List[Dict[str, str]], tokenizer_llama, max_flan_tokens=512):\n",
    "    \"\"\"\n",
    "    Truncate input agar memiliki konten utama yang setara dengan 512 token di Flan-T5, lalu tambahkan token spesial LLaMA.\n",
    "\n",
    "    Args:\n",
    "        messages: List chat messages (role: \"user\", \"assistant\", dll).\n",
    "        tokenizer_llama: Tokenizer untuk model LLaMA.\n",
    "        max_flan_tokens: Jumlah token utama yang harus sesuai dengan input Flan-T5.\n",
    "\n",
    "    Returns:\n",
    "        str: Prompt yang sudah di-truncate dan siap digunakan untuk LLaMA.\n",
    "    \"\"\"\n",
    "    # Format chat prompt sesuai tokenizer LLaMA\n",
    "    formatted_prompt = format_chat_prompt(messages, tokenizer_llama)\n",
    "\n",
    "    # Tokenisasi prompt dengan tokenizer LLaMA\n",
    "    tokenized = tokenizer_llama(formatted_prompt, return_tensors=\"pt\", truncation=False)[\"input_ids\"][0]\n",
    "\n",
    "    # Hitung jumlah token spesial yang ditambahkan oleh tokenizer LLaMA\n",
    "    special_tokens_count = len(tokenized) - sum(len(tokenizer_llama(m[\"content\"])[\"input_ids\"]) for m in messages)\n",
    "\n",
    "    # Pastikan hanya konten utama yang sesuai dengan batas Flan-T5\n",
    "    max_llama_tokens = max_flan_tokens  # Konten utama tetap 512 token\n",
    "\n",
    "    # Truncate teks utama sebelum ditambahkan token spesial\n",
    "    truncated_tokenized = tokenized[:max_llama_tokens]  # Potong agar isi utama setara Flan-T5\n",
    "\n",
    "    # Decode kembali untuk memastikan input tetap masuk akal\n",
    "    truncated_text = tokenizer_llama.decode(truncated_tokenized, skip_special_tokens=False)\n",
    "\n",
    "    return truncated_text, special_tokens_count\n",
    "\n",
    "# 🔍 Menerapkan pipeline preprocessing ke dataset (minimal 3 row untuk pengecekan konsistensi special token count)\n",
    "processed_dataset = finished_dataset.map(combine_passages).map(lambda example: {\n",
    "    \"formatted_passages\": format_passages(example),\n",
    "    \"question\": example[\"query\"]\n",
    "})\n",
    "\n",
    "# Ambil minimal 3 row untuk diuji\n",
    "test_rows = processed_dataset['train'].select(range(min(3, len(processed_dataset))))\n",
    "\n",
    "special_token_counts = []\n",
    "for row in test_rows:\n",
    "    messages = [\n",
    "        {\"role\": \"user\", \"content\": f'{row[\"formatted_passages\"]}\\n\\nRingkaslah teks di atas agar dapat menjawab pertanyaan secara mendetail. Jangan berikan pengantar pada hasil. Pertanyaan: \"{row[\"question\"]}\"'}\n",
    "    ]\n",
    "    \n",
    "    truncated_text, special_tokens_count = truncate_for_flan_t5(messages, tokenizer)\n",
    "    special_token_counts.append(special_tokens_count)\n",
    "\n",
    "    print(f\"🔹 Truncated input for LLaMA:\\n{truncated_text}\\n\")\n",
    "    print(f\"🔸 Special Token Count: {special_tokens_count}\\n\")\n",
    "    \n",
    "# 🔍 Cek apakah jumlah token spesial konsisten\n",
    "print(f\"📊 Konsistensi Special Token Count: {special_token_counts}\")\n"
   ]
  },
  {
   "cell_type": "code",
   "execution_count": 19,
   "metadata": {},
   "outputs": [
    {
     "data": {
      "text/plain": [
       "DatasetDict({\n",
       "    train: Dataset({\n",
       "        features: ['query_id', 'query', 'positive_passages', 'negative_passages', 'tydiqa_id', 'answers'],\n",
       "        num_rows: 4542\n",
       "    })\n",
       "    dev: Dataset({\n",
       "        features: ['query_id', 'query', 'positive_passages', 'negative_passages', 'tydiqa_id', 'answers'],\n",
       "        num_rows: 1143\n",
       "    })\n",
       "    test: Dataset({\n",
       "        features: ['query_id', 'query', 'positive_passages', 'negative_passages', 'tydiqa_id', 'answers'],\n",
       "        num_rows: 565\n",
       "    })\n",
       "})"
      ]
     },
     "execution_count": 19,
     "metadata": {},
     "output_type": "execute_result"
    }
   ],
   "source": [
    "finished_dataset"
   ]
  },
  {
   "cell_type": "code",
   "execution_count": 29,
   "metadata": {},
   "outputs": [
    {
     "name": "stdout",
     "output_type": "stream",
     "text": [
      "🔹 Row 1 - Token Spesial dalam format ID: [128006, 9125, 128007, 271, 38766, 1303, 33025, 2696, 6790, 2366, 18, 198, 15724, 2696, 2545, 13806, 2366, 20, 271, 128009, 128006, 882, 128007, 271, 128009, 128006, 78191, 128007, 271]\n",
      "🔸 Row 1 - Token Spesial dalam format teks: \"<|start_header_id|> system <|end_header_id|> ĊĊ Cut ting ĠKnowledge ĠDate ĠDecember 202 3 Ċ Today ĠDate 09 ĠFeb 202 5 ĊĊ <|eot_id|> <|start_header_id|> user <|end_header_id|> ĊĊ <|eot_id|> <|start_header_id|> assistant <|end_header_id|> ĊĊ\"\n",
      "🔢 Row 1 - Jumlah Token Spesial: 29\n",
      "\n",
      "🔹 Row 2 - Token Spesial dalam format ID: [128006, 9125, 128007, 271, 38766, 1303, 33025, 2696, 6790, 2366, 198, 15724, 2696, 2545, 13806, 2366, 20, 271, 128009, 128006, 882, 128007, 271, 128009, 128006, 78191, 128007, 271]\n",
      "🔸 Row 2 - Token Spesial dalam format teks: \"<|start_header_id|> system <|end_header_id|> ĊĊ Cut ting ĠKnowledge ĠDate ĠDecember 202 Ċ Today ĠDate 09 ĠFeb 202 5 ĊĊ <|eot_id|> <|start_header_id|> user <|end_header_id|> ĊĊ <|eot_id|> <|start_header_id|> assistant <|end_header_id|> ĊĊ\"\n",
      "🔢 Row 2 - Jumlah Token Spesial: 28\n",
      "\n",
      "🔹 Row 3 - Token Spesial dalam format ID: [128006, 9125, 128007, 271, 38766, 1303, 33025, 2696, 6790, 2366, 18, 198, 15724, 2696, 2545, 13806, 2366, 271, 128009, 128006, 882, 128007, 271, 128009, 128006, 78191, 128007, 271]\n",
      "🔸 Row 3 - Token Spesial dalam format teks: \"<|start_header_id|> system <|end_header_id|> ĊĊ Cut ting ĠKnowledge ĠDate ĠDecember 202 3 Ċ Today ĠDate 09 ĠFeb 202 ĊĊ <|eot_id|> <|start_header_id|> user <|end_header_id|> ĊĊ <|eot_id|> <|start_header_id|> assistant <|end_header_id|> ĊĊ\"\n",
      "🔢 Row 3 - Jumlah Token Spesial: 28\n",
      "\n",
      "🔹 Row 4 - Token Spesial dalam format ID: [128006, 9125, 128007, 271, 38766, 1303, 33025, 2696, 6790, 2366, 198, 15724, 2696, 2545, 13806, 2366, 271, 128009, 128006, 882, 128007, 271, 128009, 128006, 78191, 128007, 271]\n",
      "🔸 Row 4 - Token Spesial dalam format teks: \"<|start_header_id|> system <|end_header_id|> ĊĊ Cut ting ĠKnowledge ĠDate ĠDecember 202 Ċ Today ĠDate 09 ĠFeb 202 ĊĊ <|eot_id|> <|start_header_id|> user <|end_header_id|> ĊĊ <|eot_id|> <|start_header_id|> assistant <|end_header_id|> ĊĊ\"\n",
      "🔢 Row 4 - Jumlah Token Spesial: 27\n",
      "\n",
      "🔹 Row 5 - Token Spesial dalam format ID: [128006, 9125, 128007, 271, 38766, 1303, 33025, 2696, 6790, 2366, 18, 198, 15724, 2696, 2545, 13806, 2366, 271, 128009, 128006, 882, 128007, 271, 128009, 128006, 78191, 128007, 271]\n",
      "🔸 Row 5 - Token Spesial dalam format teks: \"<|start_header_id|> system <|end_header_id|> ĊĊ Cut ting ĠKnowledge ĠDate ĠDecember 202 3 Ċ Today ĠDate 09 ĠFeb 202 ĊĊ <|eot_id|> <|start_header_id|> user <|end_header_id|> ĊĊ <|eot_id|> <|start_header_id|> assistant <|end_header_id|> ĊĊ\"\n",
      "🔢 Row 5 - Jumlah Token Spesial: 28\n",
      "\n",
      "🔹 Row 6 - Token Spesial dalam format ID: [128006, 9125, 128007, 271, 38766, 1303, 33025, 2696, 6790, 2366, 18, 198, 15724, 2696, 2545, 13806, 2366, 271, 128009, 128006, 882, 128007, 271, 128009, 128006, 78191, 128007, 271]\n",
      "🔸 Row 6 - Token Spesial dalam format teks: \"<|start_header_id|> system <|end_header_id|> ĊĊ Cut ting ĠKnowledge ĠDate ĠDecember 202 3 Ċ Today ĠDate 09 ĠFeb 202 ĊĊ <|eot_id|> <|start_header_id|> user <|end_header_id|> ĊĊ <|eot_id|> <|start_header_id|> assistant <|end_header_id|> ĊĊ\"\n",
      "🔢 Row 6 - Jumlah Token Spesial: 28\n",
      "\n",
      "🔹 Row 7 - Token Spesial dalam format ID: [128006, 9125, 128007, 271, 38766, 1303, 33025, 2696, 6790, 2366, 18, 198, 15724, 2696, 2545, 13806, 2366, 20, 271, 128009, 128006, 882, 128007, 271, 128009, 128006, 78191, 128007, 271]\n",
      "🔸 Row 7 - Token Spesial dalam format teks: \"<|start_header_id|> system <|end_header_id|> ĊĊ Cut ting ĠKnowledge ĠDate ĠDecember 202 3 Ċ Today ĠDate 09 ĠFeb 202 5 ĊĊ <|eot_id|> <|start_header_id|> user <|end_header_id|> ĊĊ <|eot_id|> <|start_header_id|> assistant <|end_header_id|> ĊĊ\"\n",
      "🔢 Row 7 - Jumlah Token Spesial: 29\n",
      "\n",
      "🔹 Row 8 - Token Spesial dalam format ID: [128006, 9125, 128007, 271, 38766, 1303, 33025, 2696, 6790, 2366, 18, 198, 15724, 2696, 2545, 13806, 2366, 20, 271, 128009, 128006, 882, 128007, 271, 128009, 128006, 78191, 128007, 271]\n",
      "🔸 Row 8 - Token Spesial dalam format teks: \"<|start_header_id|> system <|end_header_id|> ĊĊ Cut ting ĠKnowledge ĠDate ĠDecember 202 3 Ċ Today ĠDate 09 ĠFeb 202 5 ĊĊ <|eot_id|> <|start_header_id|> user <|end_header_id|> ĊĊ <|eot_id|> <|start_header_id|> assistant <|end_header_id|> ĊĊ\"\n",
      "🔢 Row 8 - Jumlah Token Spesial: 29\n",
      "\n",
      "🔹 Row 9 - Token Spesial dalam format ID: [128006, 9125, 128007, 38766, 1303, 33025, 2696, 6790, 2366, 18, 198, 15724, 2696, 2545, 13806, 2366, 20, 128009, 128006, 882, 128007, 128009, 128006, 78191, 128007]\n",
      "🔸 Row 9 - Token Spesial dalam format teks: \"<|start_header_id|> system <|end_header_id|> Cut ting ĠKnowledge ĠDate ĠDecember 202 3 Ċ Today ĠDate 09 ĠFeb 202 5 <|eot_id|> <|start_header_id|> user <|end_header_id|> <|eot_id|> <|start_header_id|> assistant <|end_header_id|>\"\n",
      "🔢 Row 9 - Jumlah Token Spesial: 25\n",
      "\n",
      "🔹 Row 10 - Token Spesial dalam format ID: [128006, 9125, 128007, 271, 38766, 1303, 33025, 2696, 6790, 2366, 198, 15724, 2696, 2545, 13806, 2366, 20, 271, 128009, 128006, 882, 128007, 271, 128009, 128006, 78191, 128007, 271]\n",
      "🔸 Row 10 - Token Spesial dalam format teks: \"<|start_header_id|> system <|end_header_id|> ĊĊ Cut ting ĠKnowledge ĠDate ĠDecember 202 Ċ Today ĠDate 09 ĠFeb 202 5 ĊĊ <|eot_id|> <|start_header_id|> user <|end_header_id|> ĊĊ <|eot_id|> <|start_header_id|> assistant <|end_header_id|> ĊĊ\"\n",
      "🔢 Row 10 - Jumlah Token Spesial: 28\n",
      "\n",
      "📊 Jumlah Token Spesial per Row: [29, 28, 28, 27, 28, 28, 29, 29, 25, 28]\n",
      "❌ Token spesial berbeda di beberapa row.\n"
     ]
    }
   ],
   "source": [
    "def get_special_tokens(messages, tokenizer_llama):\n",
    "    \"\"\"\n",
    "    Menampilkan token spesial yang ditambahkan oleh tokenizer LLaMA dalam format teks dan angka (token ID).\n",
    "    \n",
    "    Args:\n",
    "        messages: List pesan dalam format chat.\n",
    "        tokenizer_llama: Tokenizer dari model LLaMA.\n",
    "\n",
    "    Returns:\n",
    "        Dict berisi daftar token spesial dalam bentuk teks (string) dan ID token.\n",
    "    \"\"\"\n",
    "    # Format prompt dengan tokenizer LLaMA\n",
    "    formatted_prompt = format_chat_prompt(messages, tokenizer_llama)\n",
    "\n",
    "    # Tokenisasi seluruh prompt\n",
    "    full_tokenized = tokenizer_llama(formatted_prompt, return_tensors=\"pt\", truncation=False)[\"input_ids\"][0].tolist()\n",
    "\n",
    "    # Tokenisasi ulang hanya bagian konten utama (tanpa format chat)\n",
    "    content_only = \"\".join([m[\"content\"] for m in messages])  # Gabungkan konten\n",
    "    content_tokenized = tokenizer_llama(content_only, return_tensors=\"pt\", truncation=False)[\"input_ids\"][0].tolist()\n",
    "\n",
    "    # Token spesial = Token yang ada di full_tokenized tetapi tidak ada di content_tokenized\n",
    "    special_token_ids = [tid for tid in full_tokenized if tid not in content_tokenized]\n",
    "    \n",
    "    # Konversi token spesial dari ID ke teks dalam satu string\n",
    "    special_tokens_text = \" \".join(tokenizer_llama.convert_ids_to_tokens(special_token_ids))\n",
    "\n",
    "    return {\n",
    "        \"special_token_ids\": special_token_ids,\n",
    "        \"special_tokens_text\": special_tokens_text,  # Sekarang dalam format string\n",
    "        \"num_special_tokens\": len(special_token_ids)  # Tambahkan jumlah token spesial\n",
    "    }\n",
    "\n",
    "# 🔍 Cek 5 row pertama dari finished_dataset\n",
    "special_tokens_per_row = []\n",
    "num_rows = min(10, len(finished_dataset['train']))  # Ambil maksimal 5 row\n",
    "processed_dataset = finished_dataset['train'].select(range(num_rows)).map(combine_passages).map(lambda example: {\n",
    "    \"formatted_passages\": format_passages(example),\n",
    "    \"question\": example[\"query\"]\n",
    "})\n",
    "\n",
    "token_counts = []  # Untuk menyimpan jumlah token spesial setiap row\n",
    "\n",
    "for i in range(num_rows):\n",
    "    row = processed_dataset[i]\n",
    "    messages = [\n",
    "        {\"role\": \"user\", \"content\": f'{row[\"formatted_passages\"]}\\n\\nRingkaslah teks di atas agar dapat menjawab pertanyaan secara mendetail. Jangan berikan pengantar pada hasil. Pertanyaan: \"{row[\"question\"]}\"'}\n",
    "    ]\n",
    "    \n",
    "    special_tokens = get_special_tokens(messages, tokenizer)\n",
    "    special_tokens_per_row.append(special_tokens)\n",
    "    token_counts.append(special_tokens[\"num_special_tokens\"])\n",
    "\n",
    "    print(f\"🔹 Row {i+1} - Token Spesial dalam format ID: {special_tokens['special_token_ids']}\")\n",
    "    print(f\"🔸 Row {i+1} - Token Spesial dalam format teks: \\\"{special_tokens['special_tokens_text']}\\\"\")  # Ditampilkan dalam satu string\n",
    "    print(f\"🔢 Row {i+1} - Jumlah Token Spesial: {special_tokens['num_special_tokens']}\\n\")\n",
    "\n",
    "# 🔍 Periksa apakah semua row memiliki token spesial yang sama\n",
    "all_same = all(special_tokens_per_row[i][\"special_token_ids\"] == special_tokens_per_row[0][\"special_token_ids\"]\n",
    "               for i in range(1, num_rows))\n",
    "\n",
    "# 🔢 Tampilkan jumlah token spesial di semua row\n",
    "print(\"📊 Jumlah Token Spesial per Row:\", token_counts)\n",
    "\n",
    "print(\"\\n✅ Semua row memiliki token spesial yang sama\" if all_same else \"❌ Token spesial berbeda di beberapa row.\")\n"
   ]
  },
  {
   "cell_type": "code",
   "execution_count": 24,
   "metadata": {},
   "outputs": [
    {
     "data": {
      "text/plain": [
       "3"
      ]
     },
     "execution_count": 24,
     "metadata": {},
     "output_type": "execute_result"
    }
   ],
   "source": [
    "num_rows = min(5, len(finished_dataset))\n",
    "num_rows"
   ]
  },
  {
   "cell_type": "code",
   "execution_count": 5,
   "metadata": {},
   "outputs": [
    {
     "name": "stdout",
     "output_type": "stream",
     "text": [
      "Total samples: 200\n"
     ]
    }
   ],
   "source": [
    "import random\n",
    "\n",
    "SEED = 42\n",
    "random.seed(SEED)\n",
    "\n",
    "# Ambil sampel dari tiap split\n",
    "train_sample = random.sample(list(finished_dataset[\"train\"]), 132)\n",
    "dev_sample = random.sample(list(finished_dataset[\"dev\"]), 40)\n",
    "test_sample = random.sample(list(finished_dataset[\"test\"]), 28)\n",
    "\n",
    "# Gabungkan semua sampel\n",
    "sample_data = train_sample + dev_sample + test_sample\n",
    "\n",
    "print(f\"Total samples: {len(sample_data)}\")  # Harusnya 71 (50+13+8)\n",
    "\n",
    "def combine_passages(example):\n",
    "    example[\"all_passages\"] = example[\"positive_passages\"] + example[\"negative_passages\"]\n",
    "    return example\n",
    "\n",
    "# Terapkan ke semua sampel\n",
    "sample_data = [combine_passages(ex) for ex in sample_data]\n",
    "\n",
    "def format_passages(example):\n",
    "    formatted_passages = [\n",
    "        f\"Judul: {p['title']} \\nTeks: {p['text']}\" for p in example[\"all_passages\"][:3]  # Ambil 5 passage\n",
    "    ]\n",
    "    return \"\\n\\n\".join(formatted_passages)  # Gabungkan semua passages\n",
    "\n",
    "# Tambahkan kolom \"formatted_passages\"\n",
    "for ex in sample_data:\n",
    "    ex[\"formatted_passages\"] = format_passages(ex)"
   ]
  },
  {
   "cell_type": "code",
   "execution_count": 3,
   "metadata": {},
   "outputs": [
    {
     "data": {
      "text/plain": [
       "'Dimana Kerajaan Kuru didirikan?'"
      ]
     },
     "execution_count": 3,
     "metadata": {},
     "output_type": "execute_result"
    }
   ],
   "source": [
    "sample_data[0]['query']"
   ]
  },
  {
   "cell_type": "code",
   "execution_count": 6,
   "metadata": {},
   "outputs": [
    {
     "data": {
      "text/plain": [
       "Dataset({\n",
       "    features: ['query_id', 'query', 'positive_passages', 'negative_passages', 'tydiqa_id', 'answers', 'all_passages', 'formatted_passages'],\n",
       "    num_rows: 200\n",
       "})"
      ]
     },
     "execution_count": 6,
     "metadata": {},
     "output_type": "execute_result"
    }
   ],
   "source": [
    "from datasets import Dataset\n",
    "\n",
    "# Konversi list sample_data menjadi Dataset\n",
    "sample_dataset = Dataset.from_list(sample_data)\n",
    "sample_dataset"
   ]
  },
  {
   "cell_type": "code",
   "execution_count": null,
   "metadata": {},
   "outputs": [
    {
     "name": "stderr",
     "output_type": "stream",
     "text": [
      "Summarizing dataset:   0%|          | 0/1 [00:00<?, ?it/s]The attention mask is not set and cannot be inferred from input because pad token is same as eos token. As a consequence, you may observe unexpected behavior. Please pass your input's `attention_mask` to obtain reliable results.\n",
      "From v4.47 onwards, when a model cache is to be returned, `generate` will return a `Cache` instance instead by default (as opposed to the legacy tuple of tuples format). If you want to keep returning the legacy format, please set `return_legacy_cache=True`.\n",
      "Summarizing dataset: 100%|██████████| 1/1 [02:41<00:00, 161.79s/it]"
     ]
    },
    {
     "name": "stdout",
     "output_type": "stream",
     "text": [
      "Durasi: 162.0047287940979 detik\n"
     ]
    },
    {
     "name": "stderr",
     "output_type": "stream",
     "text": [
      "\n"
     ]
    }
   ],
   "source": [
    "from summarize import summarize_top_5_combined\n",
    "import time\n",
    "import json\n",
    "\n",
    "model_name = \"meta-llama/Llama-3.2-1B-Instruct\"\n",
    "\n",
    "start = time.time()\n",
    "sample_output = summarize_top_5_combined(\n",
    "    model_name=model_name,\n",
    "    dataset=sample_dataset,\n",
    "    query_col=\"query\",\n",
    "    docs_col=\"formatted_passages\", \n",
    "    model=model, \n",
    "    tokenizer=tokenizer,\n",
    "    batch_size=2\n",
    ")\n",
    "end = time.time()\n",
    "duration = end - start\n",
    "print(f\"Durasi: {duration} detik\")\n",
    "\n",
    "# output_file = \"generated_data/sample_summaries.json\"\n",
    "\n",
    "# # Konversi dataset ke list dan simpan sebagai JSON\n",
    "# with open(output_file, \"w\", encoding=\"utf-8\") as f:\n",
    "#     json.dump(sample_data.to_list(), f, ensure_ascii=False, indent=2)\n",
    "\n",
    "# print(f\"✅ Data telah disimpan dalam {output_file}\")\n",
    "\n",
    "# output_file_parquet = \"generated_data/sample_summaries.parquet\"\n",
    "\n",
    "# # Simpan sebagai Parquet\n",
    "# sample_data.to_parquet(output_file_parquet)\n",
    "\n",
    "# print(f\"✅ Data telah disimpan dalam {output_file_parquet}\")\n"
   ]
  },
  {
   "cell_type": "code",
   "execution_count": 8,
   "metadata": {},
   "outputs": [
    {
     "name": "stderr",
     "output_type": "stream",
     "text": [
      "Summarizing dataset:   0%|          | 0/200 [00:00<?, ?it/s]The attention mask is not set and cannot be inferred from input because pad token is same as eos token. As a consequence, you may observe unexpected behavior. Please pass your input's `attention_mask` to obtain reliable results.\n",
      "From v4.47 onwards, when a model cache is to be returned, `generate` will return a `Cache` instance instead by default (as opposed to the legacy tuple of tuples format). If you want to keep returning the legacy format, please set `return_legacy_cache=True`.\n",
      "Summarizing dataset: 100%|██████████| 200/200 [19:33<00:00,  5.87s/it]\n"
     ]
    },
    {
     "name": "stdout",
     "output_type": "stream",
     "text": [
      "Batch size 1: 1174.00 detik (5.8700 detik per instance)\n"
     ]
    },
    {
     "name": "stderr",
     "output_type": "stream",
     "text": [
      "Summarizing dataset: 100%|██████████| 100/100 [23:42<00:00, 14.23s/it]\n"
     ]
    },
    {
     "name": "stdout",
     "output_type": "stream",
     "text": [
      "Batch size 2: 1422.90 detik (7.1145 detik per instance)\n"
     ]
    },
    {
     "name": "stderr",
     "output_type": "stream",
     "text": [
      "Summarizing dataset: 100%|██████████| 50/50 [26:32<00:00, 31.84s/it]\n"
     ]
    },
    {
     "name": "stdout",
     "output_type": "stream",
     "text": [
      "Batch size 4: 1592.24 detik (7.9612 detik per instance)\n"
     ]
    },
    {
     "name": "stderr",
     "output_type": "stream",
     "text": [
      "Summarizing dataset: 100%|██████████| 25/25 [28:15<00:00, 67.83s/it]"
     ]
    },
    {
     "name": "stdout",
     "output_type": "stream",
     "text": [
      "Batch size 8: 1695.84 detik (8.4792 detik per instance)\n",
      "\n",
      "🚀 Batch size optimal: 1 (dengan rata-rata waktu per instance: 5.8700 detik)\n"
     ]
    },
    {
     "name": "stderr",
     "output_type": "stream",
     "text": [
      "\n"
     ]
    }
   ],
   "source": [
    "import time\n",
    "import numpy as np\n",
    "from utils import load_model_and_tokenizer\n",
    "from summarize import summarize_top_5_combined\n",
    "model_name = \"meta-llama/Llama-3.2-3B-Instruct\"\n",
    "\n",
    "batch_sizes = [1, 2, 4, 8]  # Uji berbagai batch size\n",
    "num_samples = 200  # Coba dengan 100 sample\n",
    "\n",
    "results = {}\n",
    "ds = []\n",
    "\n",
    "for batch_size in batch_sizes:\n",
    "    start = time.time()\n",
    "    \n",
    "    ds.append(summarize_top_5_combined(\n",
    "        model_name=\"meta-llama/Llama-3.2-1B-Instruct\",\n",
    "        dataset=sample_dataset.select(range(num_samples)),  # Ambil subset data\n",
    "        query_col=\"query\",\n",
    "        docs_col=\"formatted_passages\",\n",
    "        model=model, \n",
    "        tokenizer=tokenizer,\n",
    "        batch_size=batch_size\n",
    "    ))\n",
    "\n",
    "    end = time.time()\n",
    "    duration = end - start\n",
    "    avg_time_per_instance = duration / num_samples\n",
    "    \n",
    "    results[batch_size] = avg_time_per_instance\n",
    "    print(f\"Batch size {batch_size}: {duration:.2f} detik ({avg_time_per_instance:.4f} detik per instance)\")\n",
    "\n",
    "# Menampilkan hasil\n",
    "optimal_batch = min(results, key=results.get)\n",
    "print(f\"\\n🚀 Batch size optimal: {optimal_batch} (dengan rata-rata waktu per instance: {results[optimal_batch]:.4f} detik)\")"
   ]
  },
  {
   "cell_type": "code",
   "execution_count": 19,
   "metadata": {},
   "outputs": [
    {
     "data": {
      "text/plain": [
       "Dataset({\n",
       "    features: ['query_id', 'query', 'positive_passages', 'negative_passages', 'tydiqa_id', 'answers', 'all_passages', 'formatted_passages', 'summary'],\n",
       "    num_rows: 200\n",
       "})"
      ]
     },
     "execution_count": 19,
     "metadata": {},
     "output_type": "execute_result"
    }
   ],
   "source": [
    "ds[0]"
   ]
  },
  {
   "cell_type": "code",
   "execution_count": 23,
   "metadata": {},
   "outputs": [
    {
     "name": "stdout",
     "output_type": "stream",
     "text": [
      "batch size 1\n",
      "QUERY: Dimana Kerajaan Kuru didirikan?\n",
      "TOP 3:-----------------------------------------\n",
      "Judul: Kerajaan Kuru \n",
      "Teks: Dalam sastra dan wiracarita India Kuno, Kerajaan Kuru merupakan kerajaan yang diperintah oleh Wangsa Kuru, keturunan Sang Kuru. Tidak diketahui dengan pasti kapan kerajaan ini berdiri, dan hingga sekarang dikenal sebagai legenda dalam wiracarita India, seperti misalnya Mahabharata. Kerajaan Kuru yang lain berada di utara Himalaya, dan disebut Uttara Kuru. Menurut sastra Hindu, Kerajaan Kuru terbentang di antara sungai Saraswati dan sungai Gangga. Salah satu kitab yang dijadikan sumber keberadaan kerajaan Kuru adalah Mahabharata, dan tokoh utama yang diceritakan dalam kitab tersebut merupakan keturunan Kuru. Menurut Mahabharata, pada masa pemerintahan Raja Dretarastra, Kerajaan tersebut terbagi menjadi dua bagian, yaitu Kurujangala dan Kuru asli.\n",
      "\n",
      "Judul: Kuru (raja) \n",
      "Teks: Semenjak kecil, Kuru dididik oleh seorang Maharesi Wasista. Pada usia sepuluh tahun, ia sudah menguasai sastra, kitab suci, dan tugas-tugas sebagai seorang raja. Menurut kitab \"Wamanapurana\", pada usia enam belas tahun, Kuru menikah dengan Sodamini, putri Raja Sudama. Setelah Sambarana mangkat, Kuru diangkat menjadi raja dan membebaskan kerajaannya dari jajahan musuhnya. Namanya membuat dataran Kurujanggala (sebelah timur Haryana) menjadi masyur di seluruh dunia. Konon Kuru memerintah kerajaannya dengan baik, adil dan bijaksana. Untuk membuat keturunannya mengenangnya selamanya, Kuru memutuskan untuk melakukan perjalanan keliling dunia, demi mencari hal yang dapat membuat namanya termahsyur.\n",
      "\n",
      "Judul: Kerajaan Kuru \n",
      "Teks: Raja kerajaan Kuru pertama – Pururawa – selalu dikelilingi sekutu/tetangga yang merupakan ras manusia sakti. Kerajaannya kemungkinan terbentang dari wilayah Himalaya di Tibet atau di utara Xin Jiang atau di Kirgizstan. Nahusa disebutkan pernah memerintah wilayah para dewa (suatu tempat di Tibet). Yayati adalah raja pertama dalam generasi tersebut yang berinteraksi dengan anggota klan asura seperti misalnya Wresaparwa (kerajaan Wresaparwa terbentang di sebelah utara Uttarakhand, di Tibet). Putera Yayati yang bernama Puru mendirikan Dinasti Paurawa, salah satu cabang Dinasti Candra. Kemungkinan dia memerintah wilayah Himalaya selatan di Uttarakhand, Himachal Pradesh dan Punjab.\n",
      "-----------------------------------------------\n",
      "summary: Kerajaan Kuru didirikan di wilayah Himalaya, dengan kemungkinan terletak di Tibet, utara Xin Jiang, atau Kirgizstan.\n",
      "answer: sungai Saraswati dan sungai Gangga\n",
      "\n",
      "QUERY: apakah 5 tingktan ekologi?\n",
      "TOP 3:-----------------------------------------\n",
      "Judul: Ekologi \n",
      "Teks: Pembahasan ekologi tidak lepas dari pembahasan ekosistem dengan berbagai komponen penyusunnya, yaitu faktor abiotik dan biotik. Faktor abiotik antara lain suhu, air, kelembaban, cahaya, dan topografi, sedangkan faktor biotik adalah makhluk hidup yang terdiri dari manusia, hewan, tumbuhan, dan mikroba. Ekologi juga berhubungan erat dengan tingkatan-tingkatan organisasi makhluk hidup, yaitu populasi, komunitas, dan ekosistem yang saling memengaruhi dan merupakan suatu sistem yang menunjukkan kesatuan.\n",
      "\n",
      "Judul: Ekologi \n",
      "Teks: Ekologi Tingkah Laku Ekologi Bahasa Ekologi Komunitas dan Sinekologi Ekologi Fisiologi Ekologi Ekosistem Ekologi Evolusi Ekologi Global Ekologi Manusia Ekologi Populasi Ekologi Akuatik Ekologi Api Ekologi Fungsional Ekologi Polinasi Ekologi Hutan Ekologi Laut Ekologi Laut Tropis Ekologi Pangan dan Gizi Ekologi Hutan Mangrove Ekologi Kesehatan Ekologi Antariksa Ekologi Pedesaan Ekologi Serangga Ekologi Habitat Ekologi Pelestarian Ekologi Hewan Ekologi Produksi Ekologi Purbakala Ekologi Sosial Ekologi Radiasi Ekologi Tumbuhan Penganggu Ekologi Lanskap Ekologi Molekuler Ekologi Robot Ekologi Industri\n",
      "\n",
      "Judul: Ekologi \n",
      "Teks: Banyak ekolog menghubungkan ekologi dengan ekonomi manusia:\n",
      "-----------------------------------------------\n",
      "summary: Tidak ada jawaban yang jelas di teks tersebut yang menjelaskan apa-apa tentang 5 tingkatan ekologi. Teks tersebut hanya menyebutkan beberapa istilah-istilah terkait ekologi tanpa\n",
      "answer: populasi, komunitas, dan ekosistem yang saling memengaruhi dan merupakan suatu sistem yang menunjukkan kesatuan\n",
      "\n",
      "QUERY: Siapa pendiri Keraton Sumenep?\n",
      "TOP 3:-----------------------------------------\n",
      "Judul: Keraton Sumenep \n",
      "Teks: Karaton Pajagalan atau lebih dikenal Karaton Songennep dibangun di atas tanah pribadi milik Panembahan Somala penguasa Sumenep XXXI. Dibangun Pada tahun 1781 dengan arsitek pembangunan Karaton oleh Lauw Piango salah seorang warga keturunan Tionghoa yang mengungsi akibat Huru Hara Tionghoa 1740 M di Semarang. Karaton Panembahan Somala dibangun di sebelah timur karaton milik Gusti R. Ayu Rasmana Tirtonegoro dan Kanjeng Tumenggung Ario Tirtonegoro (Bindara Saod) yang tak lain adalah orang tua dia. Bangunan Kompleks Karaton sendiri terdiri dari banyak massa, tidak dibangun secara bersamaan namun di bangun dan diperluas secara bertahap oleh para keturunannya.\n",
      "\n",
      "Judul: Keraton Sumenep \n",
      "Teks: Keraton Sumenep berdiri di atas tanah milik pribadi Pangeran Natakusuma I (Panembahan Somala) (sebelah timur keraton lama milik Ratu R. Ayu Rasmana Tirtanegara). Kompleks bangunan Karaton Sumenep lebih sederhana dari kompleks Karaton kerajaan Mataram, bangunannya hanya meliputi Gedong Negeri, Pengadilan Karaton, Paseban, dan beberapa bangunan Pribadi Keluarga Karaton.\n",
      "\n",
      "Judul: Masjid Agung Sumenep \n",
      "Teks: Menurut catatan sejarah Sumenep, Pembangunan Masjid Jamik Sumenep dimulai pada tahun 1779 Masehi dan selesai 1787 Masehi. Bangunan ini merupakan salah satu bangunan pendukung Karaton, yakni sebagai tempat ibadah bagi keluarga Karaton dan Masyarakat, masjid ini adalah masjid kedua yang dibangun oleh keluarga keraton, di mana sebelumnya kompleks masjid berada tepat di belakang keraton yang lebih dikenal dengan nama \"Masjid laju\" yang dibangun oleh Kanjeng R. Tumenggung Ario Anggadipa, penguasa Sumenep XXI.\n",
      "-----------------------------------------------\n",
      "summary: Pendiri Keraton Sumenep adalah Pangeran Natakusuma I, yang lebih dikenal sebagai Panembahan Somala.\n",
      "answer: Panembahan Somala\n",
      "\n",
      "QUERY: Kapan Masashi Kishimoto pertama kali berkarya?\n",
      "TOP 3:-----------------------------------------\n",
      "Judul: Masashi Kishimoto \n",
      "Teks: Masashi Kishimoto(岸本 斉史,Kishimoto Masashi, Template:Lahirmati[1]) adalah seorang Mangaka Jepang. Masashi Kishimoto mulai mengembangkan bakatnya akan menggambar semenjak usia SD. Dia menjadi mangaka terkenal semenjak karyanya, Naruto sukses besar baik di Jepang sendiri ataupun di negara-negara lain. Dia suka membaca manga sejak usia muda, sampai dia menunjukkan keinginannya untuk menulis manga sendiri. Akira Toriyama dan Katsuhiro Otomo adalah sebagai inspirasi utamanya. Pada tahun 1999 Naruto pertama kali dipublikasikan di Shounen jump membuat Kishimoto menerima penghargaan hop step. Saudara kembar Masashi Kishimoto, Seishi Kishimoto, juga merupakan seniman manga dengan karyanya yang terkenal 666 Satan (O-Parts Hunter) dan Blazer Drive. Selama penerbitan Naruto, Kishimoto menikah dan menjadi seorang ayah.[2]\n",
      "\n",
      "Judul: Naruto \n",
      "Teks: Masashi Kishimoto pertama kali membuat one-shot Naruto pada Agustus 1997 ke dalam edisi Akamaru Jump. Meskipun hasil polling pembaca sangat tinggi dan bernilai positif, Kishimoto berpikir \"desain dan cerita berantakan!\". Kishimoto awalnya bekerja pada Karakuri untuk Hop Step Award. Tidak puas dengan desain kasar, ia memutuskan untuk bekerja pada sesuatu yang berbeda, yang kemudian dibuat menjadi seri manga Naruto. Kishimoto yakin seri ini akan menjadi manga yang nyaman untuk dibaca.[14] Ketika ditanya tentang apa tema utama Naruto selama Bagian I, Kishimoto menjawab bahwa itu adalah cara orang menerima satu sama lain terhadap perkembangan serial Naruto. Kishimoto mengatakan ia tidak dapat fokus pada percintaan selama Bagian I, ia menekankan lebih dalam pada Bagian II, awal dari bagian manga dengan 28 volume, meskipun kesulitan.[15]\n",
      "\n",
      "Judul: Naruto: Shippuden (musim 1) \n",
      "Teks: Musim pertama serial anime \"\" yang disutradarai oleh Hayato Date, dan diproduksi oleh Studio Pierrot dan TV Tokyo. Serial tersebut berdasarkan pada Bagian II untuk serial manga Masashi Kishimoto.\n",
      "-----------------------------------------------\n",
      "summary: Masashi Kishimoto pertama kali berkarya pada tahun 1997.\n",
      "answer: usia SD\n",
      "\n",
      "QUERY: apakah yang dimaksudkan dengan sistem ?\n",
      "TOP 3:-----------------------------------------\n",
      "Judul: Sistem \n",
      "Teks: Sistem berasal dari bahasa Latin (systēma) dan bahasa Yunani (sustēma) adalah suatu kesatuan yang terdiri komponen atau elemen yang dihubungkan bersama untuk memudahkan aliran informasi, materi atau energi untuk mencapai suatu tujuan. Istilah ini sering dipergunakan untuk menggambarkan suatu set entitas yang berinteraksi, di mana suatu model matematika seringkali bisa dibuat.\n",
      "\n",
      "Judul: Sistem inovasi \n",
      "Teks: Memang tidak (setidaknya belum) ada “kesepakatan yang diterima luas” tentang pengertian istilah sistem inovasi. Setiap pakar atau pihak yang menggunakan istilah ini mendefinisikan pengertian masing-masing tentang sistem inovasi. Tetapi jika dicermati, sebagian besar dalam literatur menggunakannya untuk maksud yang sama /serupa dan menunjukkan pengertian cara pandang (pendekatan) sistem \"(system approach)\". Pendekatan sistem ini dimaksudkan baik dalam memahami konstruksi dari objek-objek yang dimaksud, maupun dalam mengkaji isu dan implikasi kebijakannya (yang biasanya disebut dengan istilah kebijakan inovasi).\n",
      "\n",
      "Judul: Konversi satuan \n",
      "Teks: Konversi satuan dalam sistem satuan yang berbeda maksudnya kita akan mengubah atau mengonversi nilai dari suatu sistem satuan tertentu ke sistem satuan yang lain. Misalnya dari sistem inggris ke Sistem Satuan Internasional atau sebaliknya. Pengubahan satuan seperti ini dapat dilakukan dengan menggunakan faktor konversi satuan.\n",
      "-----------------------------------------------\n",
      "summary: Sistem adalah suatu kesatuan yang terdiri dari komponen atau elemen yang dihubungkan bersama untuk memudahkan aliran informasi, materi atau energi untuk mencapai suatu tujuan.\n",
      "answer: suatu kesatuan yang terdiri komponen atau elemen yang dihubungkan bersama untuk memudahkan aliran informasi, materi atau energi untuk mencapai suatu tujuan\n",
      "\n",
      "============================================================================================================\n",
      "batch size 2\n",
      "QUERY: Dimana Kerajaan Kuru didirikan?\n",
      "TOP 3:-----------------------------------------\n",
      "Judul: Kerajaan Kuru \n",
      "Teks: Dalam sastra dan wiracarita India Kuno, Kerajaan Kuru merupakan kerajaan yang diperintah oleh Wangsa Kuru, keturunan Sang Kuru. Tidak diketahui dengan pasti kapan kerajaan ini berdiri, dan hingga sekarang dikenal sebagai legenda dalam wiracarita India, seperti misalnya Mahabharata. Kerajaan Kuru yang lain berada di utara Himalaya, dan disebut Uttara Kuru. Menurut sastra Hindu, Kerajaan Kuru terbentang di antara sungai Saraswati dan sungai Gangga. Salah satu kitab yang dijadikan sumber keberadaan kerajaan Kuru adalah Mahabharata, dan tokoh utama yang diceritakan dalam kitab tersebut merupakan keturunan Kuru. Menurut Mahabharata, pada masa pemerintahan Raja Dretarastra, Kerajaan tersebut terbagi menjadi dua bagian, yaitu Kurujangala dan Kuru asli.\n",
      "\n",
      "Judul: Kuru (raja) \n",
      "Teks: Semenjak kecil, Kuru dididik oleh seorang Maharesi Wasista. Pada usia sepuluh tahun, ia sudah menguasai sastra, kitab suci, dan tugas-tugas sebagai seorang raja. Menurut kitab \"Wamanapurana\", pada usia enam belas tahun, Kuru menikah dengan Sodamini, putri Raja Sudama. Setelah Sambarana mangkat, Kuru diangkat menjadi raja dan membebaskan kerajaannya dari jajahan musuhnya. Namanya membuat dataran Kurujanggala (sebelah timur Haryana) menjadi masyur di seluruh dunia. Konon Kuru memerintah kerajaannya dengan baik, adil dan bijaksana. Untuk membuat keturunannya mengenangnya selamanya, Kuru memutuskan untuk melakukan perjalanan keliling dunia, demi mencari hal yang dapat membuat namanya termahsyur.\n",
      "\n",
      "Judul: Kerajaan Kuru \n",
      "Teks: Raja kerajaan Kuru pertama – Pururawa – selalu dikelilingi sekutu/tetangga yang merupakan ras manusia sakti. Kerajaannya kemungkinan terbentang dari wilayah Himalaya di Tibet atau di utara Xin Jiang atau di Kirgizstan. Nahusa disebutkan pernah memerintah wilayah para dewa (suatu tempat di Tibet). Yayati adalah raja pertama dalam generasi tersebut yang berinteraksi dengan anggota klan asura seperti misalnya Wresaparwa (kerajaan Wresaparwa terbentang di sebelah utara Uttarakhand, di Tibet). Putera Yayati yang bernama Puru mendirikan Dinasti Paurawa, salah satu cabang Dinasti Candra. Kemungkinan dia memerintah wilayah Himalaya selatan di Uttarakhand, Himachal Pradesh dan Punjab.\n",
      "-----------------------------------------------\n",
      "summary: Kerajaan Kuru didirikan di wilayah Himalaya, kemungkinan terletak di Tibet, utara Xin Jiang, atau Kirgizstan.\n",
      "answer: sungai Saraswati dan sungai Gangga\n",
      "\n",
      "QUERY: apakah 5 tingktan ekologi?\n",
      "TOP 3:-----------------------------------------\n",
      "Judul: Ekologi \n",
      "Teks: Pembahasan ekologi tidak lepas dari pembahasan ekosistem dengan berbagai komponen penyusunnya, yaitu faktor abiotik dan biotik. Faktor abiotik antara lain suhu, air, kelembaban, cahaya, dan topografi, sedangkan faktor biotik adalah makhluk hidup yang terdiri dari manusia, hewan, tumbuhan, dan mikroba. Ekologi juga berhubungan erat dengan tingkatan-tingkatan organisasi makhluk hidup, yaitu populasi, komunitas, dan ekosistem yang saling memengaruhi dan merupakan suatu sistem yang menunjukkan kesatuan.\n",
      "\n",
      "Judul: Ekologi \n",
      "Teks: Ekologi Tingkah Laku Ekologi Bahasa Ekologi Komunitas dan Sinekologi Ekologi Fisiologi Ekologi Ekosistem Ekologi Evolusi Ekologi Global Ekologi Manusia Ekologi Populasi Ekologi Akuatik Ekologi Api Ekologi Fungsional Ekologi Polinasi Ekologi Hutan Ekologi Laut Ekologi Laut Tropis Ekologi Pangan dan Gizi Ekologi Hutan Mangrove Ekologi Kesehatan Ekologi Antariksa Ekologi Pedesaan Ekologi Serangga Ekologi Habitat Ekologi Pelestarian Ekologi Hewan Ekologi Produksi Ekologi Purbakala Ekologi Sosial Ekologi Radiasi Ekologi Tumbuhan Penganggu Ekologi Lanskap Ekologi Molekuler Ekologi Robot Ekologi Industri\n",
      "\n",
      "Judul: Ekologi \n",
      "Teks: Banyak ekolog menghubungkan ekologi dengan ekonomi manusia:\n",
      "-----------------------------------------------\n",
      "summary: Lahat Berikut:\n",
      "\n",
      "A) Dengan mendukung\n",
      "\n",
      "Berdasarkan perkembang.\n",
      "answer: populasi, komunitas, dan ekosistem yang saling memengaruhi dan merupakan suatu sistem yang menunjukkan kesatuan\n",
      "\n",
      "QUERY: Siapa pendiri Keraton Sumenep?\n",
      "TOP 3:-----------------------------------------\n",
      "Judul: Keraton Sumenep \n",
      "Teks: Karaton Pajagalan atau lebih dikenal Karaton Songennep dibangun di atas tanah pribadi milik Panembahan Somala penguasa Sumenep XXXI. Dibangun Pada tahun 1781 dengan arsitek pembangunan Karaton oleh Lauw Piango salah seorang warga keturunan Tionghoa yang mengungsi akibat Huru Hara Tionghoa 1740 M di Semarang. Karaton Panembahan Somala dibangun di sebelah timur karaton milik Gusti R. Ayu Rasmana Tirtonegoro dan Kanjeng Tumenggung Ario Tirtonegoro (Bindara Saod) yang tak lain adalah orang tua dia. Bangunan Kompleks Karaton sendiri terdiri dari banyak massa, tidak dibangun secara bersamaan namun di bangun dan diperluas secara bertahap oleh para keturunannya.\n",
      "\n",
      "Judul: Keraton Sumenep \n",
      "Teks: Keraton Sumenep berdiri di atas tanah milik pribadi Pangeran Natakusuma I (Panembahan Somala) (sebelah timur keraton lama milik Ratu R. Ayu Rasmana Tirtanegara). Kompleks bangunan Karaton Sumenep lebih sederhana dari kompleks Karaton kerajaan Mataram, bangunannya hanya meliputi Gedong Negeri, Pengadilan Karaton, Paseban, dan beberapa bangunan Pribadi Keluarga Karaton.\n",
      "\n",
      "Judul: Masjid Agung Sumenep \n",
      "Teks: Menurut catatan sejarah Sumenep, Pembangunan Masjid Jamik Sumenep dimulai pada tahun 1779 Masehi dan selesai 1787 Masehi. Bangunan ini merupakan salah satu bangunan pendukung Karaton, yakni sebagai tempat ibadah bagi keluarga Karaton dan Masyarakat, masjid ini adalah masjid kedua yang dibangun oleh keluarga keraton, di mana sebelumnya kompleks masjid berada tepat di belakang keraton yang lebih dikenal dengan nama \"Masjid laju\" yang dibangun oleh Kanjeng R. Tumenggung Ario Anggadipa, penguasa Sumenep XXI.\n",
      "-----------------------------------------------\n",
      "summary: Keraton Sumenep\n",
      "answer: Panembahan Somala\n",
      "\n",
      "QUERY: Kapan Masashi Kishimoto pertama kali berkarya?\n",
      "TOP 3:-----------------------------------------\n",
      "Judul: Masashi Kishimoto \n",
      "Teks: Masashi Kishimoto(岸本 斉史,Kishimoto Masashi, Template:Lahirmati[1]) adalah seorang Mangaka Jepang. Masashi Kishimoto mulai mengembangkan bakatnya akan menggambar semenjak usia SD. Dia menjadi mangaka terkenal semenjak karyanya, Naruto sukses besar baik di Jepang sendiri ataupun di negara-negara lain. Dia suka membaca manga sejak usia muda, sampai dia menunjukkan keinginannya untuk menulis manga sendiri. Akira Toriyama dan Katsuhiro Otomo adalah sebagai inspirasi utamanya. Pada tahun 1999 Naruto pertama kali dipublikasikan di Shounen jump membuat Kishimoto menerima penghargaan hop step. Saudara kembar Masashi Kishimoto, Seishi Kishimoto, juga merupakan seniman manga dengan karyanya yang terkenal 666 Satan (O-Parts Hunter) dan Blazer Drive. Selama penerbitan Naruto, Kishimoto menikah dan menjadi seorang ayah.[2]\n",
      "\n",
      "Judul: Naruto \n",
      "Teks: Masashi Kishimoto pertama kali membuat one-shot Naruto pada Agustus 1997 ke dalam edisi Akamaru Jump. Meskipun hasil polling pembaca sangat tinggi dan bernilai positif, Kishimoto berpikir \"desain dan cerita berantakan!\". Kishimoto awalnya bekerja pada Karakuri untuk Hop Step Award. Tidak puas dengan desain kasar, ia memutuskan untuk bekerja pada sesuatu yang berbeda, yang kemudian dibuat menjadi seri manga Naruto. Kishimoto yakin seri ini akan menjadi manga yang nyaman untuk dibaca.[14] Ketika ditanya tentang apa tema utama Naruto selama Bagian I, Kishimoto menjawab bahwa itu adalah cara orang menerima satu sama lain terhadap perkembangan serial Naruto. Kishimoto mengatakan ia tidak dapat fokus pada percintaan selama Bagian I, ia menekankan lebih dalam pada Bagian II, awal dari bagian manga dengan 28 volume, meskipun kesulitan.[15]\n",
      "\n",
      "Judul: Naruto: Shippuden (musim 1) \n",
      "Teks: Musim pertama serial anime \"\" yang disutradarai oleh Hayato Date, dan diproduksi oleh Studio Pierrot dan TV Tokyo. Serial tersebut berdasarkan pada Bagian II untuk serial manga Masashi Kishimoto.\n",
      "-----------------------------------------------\n",
      "summary: Masashi Kishimoto pertama kali berkarya sebagai mangaka sejak usia SD, yaitu ketika dia berusia 8 tahun. Namun, pertama kali dia mengembangkan bakatnya sebagai mangaka adalah pada\n",
      "answer: usia SD\n",
      "\n",
      "QUERY: apakah yang dimaksudkan dengan sistem ?\n",
      "TOP 3:-----------------------------------------\n",
      "Judul: Sistem \n",
      "Teks: Sistem berasal dari bahasa Latin (systēma) dan bahasa Yunani (sustēma) adalah suatu kesatuan yang terdiri komponen atau elemen yang dihubungkan bersama untuk memudahkan aliran informasi, materi atau energi untuk mencapai suatu tujuan. Istilah ini sering dipergunakan untuk menggambarkan suatu set entitas yang berinteraksi, di mana suatu model matematika seringkali bisa dibuat.\n",
      "\n",
      "Judul: Sistem inovasi \n",
      "Teks: Memang tidak (setidaknya belum) ada “kesepakatan yang diterima luas” tentang pengertian istilah sistem inovasi. Setiap pakar atau pihak yang menggunakan istilah ini mendefinisikan pengertian masing-masing tentang sistem inovasi. Tetapi jika dicermati, sebagian besar dalam literatur menggunakannya untuk maksud yang sama /serupa dan menunjukkan pengertian cara pandang (pendekatan) sistem \"(system approach)\". Pendekatan sistem ini dimaksudkan baik dalam memahami konstruksi dari objek-objek yang dimaksud, maupun dalam mengkaji isu dan implikasi kebijakannya (yang biasanya disebut dengan istilah kebijakan inovasi).\n",
      "\n",
      "Judul: Konversi satuan \n",
      "Teks: Konversi satuan dalam sistem satuan yang berbeda maksudnya kita akan mengubah atau mengonversi nilai dari suatu sistem satuan tertentu ke sistem satuan yang lain. Misalnya dari sistem inggris ke Sistem Satuan Internasional atau sebaliknya. Pengubahan satuan seperti ini dapat dilakukan dengan menggunakan faktor konversi satuan.\n",
      "-----------------------------------------------\n",
      "summary: Jawab: Sistem inovasi adalah suatu suatu tindakan atau perubahan atau perubahan struktur, komponen, atau suatu sistem yang berlapis yang berinteraksi, yang bertujuan untuk menc\n",
      "answer: suatu kesatuan yang terdiri komponen atau elemen yang dihubungkan bersama untuk memudahkan aliran informasi, materi atau energi untuk mencapai suatu tujuan\n",
      "\n",
      "============================================================================================================\n",
      "batch size 4\n",
      "QUERY: Dimana Kerajaan Kuru didirikan?\n",
      "TOP 3:-----------------------------------------\n",
      "Judul: Kerajaan Kuru \n",
      "Teks: Dalam sastra dan wiracarita India Kuno, Kerajaan Kuru merupakan kerajaan yang diperintah oleh Wangsa Kuru, keturunan Sang Kuru. Tidak diketahui dengan pasti kapan kerajaan ini berdiri, dan hingga sekarang dikenal sebagai legenda dalam wiracarita India, seperti misalnya Mahabharata. Kerajaan Kuru yang lain berada di utara Himalaya, dan disebut Uttara Kuru. Menurut sastra Hindu, Kerajaan Kuru terbentang di antara sungai Saraswati dan sungai Gangga. Salah satu kitab yang dijadikan sumber keberadaan kerajaan Kuru adalah Mahabharata, dan tokoh utama yang diceritakan dalam kitab tersebut merupakan keturunan Kuru. Menurut Mahabharata, pada masa pemerintahan Raja Dretarastra, Kerajaan tersebut terbagi menjadi dua bagian, yaitu Kurujangala dan Kuru asli.\n",
      "\n",
      "Judul: Kuru (raja) \n",
      "Teks: Semenjak kecil, Kuru dididik oleh seorang Maharesi Wasista. Pada usia sepuluh tahun, ia sudah menguasai sastra, kitab suci, dan tugas-tugas sebagai seorang raja. Menurut kitab \"Wamanapurana\", pada usia enam belas tahun, Kuru menikah dengan Sodamini, putri Raja Sudama. Setelah Sambarana mangkat, Kuru diangkat menjadi raja dan membebaskan kerajaannya dari jajahan musuhnya. Namanya membuat dataran Kurujanggala (sebelah timur Haryana) menjadi masyur di seluruh dunia. Konon Kuru memerintah kerajaannya dengan baik, adil dan bijaksana. Untuk membuat keturunannya mengenangnya selamanya, Kuru memutuskan untuk melakukan perjalanan keliling dunia, demi mencari hal yang dapat membuat namanya termahsyur.\n",
      "\n",
      "Judul: Kerajaan Kuru \n",
      "Teks: Raja kerajaan Kuru pertama – Pururawa – selalu dikelilingi sekutu/tetangga yang merupakan ras manusia sakti. Kerajaannya kemungkinan terbentang dari wilayah Himalaya di Tibet atau di utara Xin Jiang atau di Kirgizstan. Nahusa disebutkan pernah memerintah wilayah para dewa (suatu tempat di Tibet). Yayati adalah raja pertama dalam generasi tersebut yang berinteraksi dengan anggota klan asura seperti misalnya Wresaparwa (kerajaan Wresaparwa terbentang di sebelah utara Uttarakhand, di Tibet). Putera Yayati yang bernama Puru mendirikan Dinasti Paurawa, salah satu cabang Dinasti Candra. Kemungkinan dia memerintah wilayah Himalaya selatan di Uttarakhand, Himachal Pradesh dan Punjab.\n",
      "-----------------------------------------------\n",
      "summary: Kerajaan Kuru didirikan di wilayah Himalaya, dan kemungkinan terbentang dari wilayah Tibet, Xin Jiang, atau Kirgizstan.\n",
      "answer: sungai Saraswati dan sungai Gangga\n",
      "\n",
      "QUERY: apakah 5 tingktan ekologi?\n",
      "TOP 3:-----------------------------------------\n",
      "Judul: Ekologi \n",
      "Teks: Pembahasan ekologi tidak lepas dari pembahasan ekosistem dengan berbagai komponen penyusunnya, yaitu faktor abiotik dan biotik. Faktor abiotik antara lain suhu, air, kelembaban, cahaya, dan topografi, sedangkan faktor biotik adalah makhluk hidup yang terdiri dari manusia, hewan, tumbuhan, dan mikroba. Ekologi juga berhubungan erat dengan tingkatan-tingkatan organisasi makhluk hidup, yaitu populasi, komunitas, dan ekosistem yang saling memengaruhi dan merupakan suatu sistem yang menunjukkan kesatuan.\n",
      "\n",
      "Judul: Ekologi \n",
      "Teks: Ekologi Tingkah Laku Ekologi Bahasa Ekologi Komunitas dan Sinekologi Ekologi Fisiologi Ekologi Ekosistem Ekologi Evolusi Ekologi Global Ekologi Manusia Ekologi Populasi Ekologi Akuatik Ekologi Api Ekologi Fungsional Ekologi Polinasi Ekologi Hutan Ekologi Laut Ekologi Laut Tropis Ekologi Pangan dan Gizi Ekologi Hutan Mangrove Ekologi Kesehatan Ekologi Antariksa Ekologi Pedesaan Ekologi Serangga Ekologi Habitat Ekologi Pelestarian Ekologi Hewan Ekologi Produksi Ekologi Purbakala Ekologi Sosial Ekologi Radiasi Ekologi Tumbuhan Penganggu Ekologi Lanskap Ekologi Molekuler Ekologi Robot Ekologi Industri\n",
      "\n",
      "Judul: Ekologi \n",
      "Teks: Banyak ekolog menghubungkan ekologi dengan ekonomi manusia:\n",
      "-----------------------------------------------\n",
      "summary: Tentu, berbedik ke kebutuk bumi ini dan dapat memecah-pengemar dengan cara mengenakan ekologi 10 ekologi.\n",
      "answer: populasi, komunitas, dan ekosistem yang saling memengaruhi dan merupakan suatu sistem yang menunjukkan kesatuan\n",
      "\n",
      "QUERY: Siapa pendiri Keraton Sumenep?\n",
      "TOP 3:-----------------------------------------\n",
      "Judul: Keraton Sumenep \n",
      "Teks: Karaton Pajagalan atau lebih dikenal Karaton Songennep dibangun di atas tanah pribadi milik Panembahan Somala penguasa Sumenep XXXI. Dibangun Pada tahun 1781 dengan arsitek pembangunan Karaton oleh Lauw Piango salah seorang warga keturunan Tionghoa yang mengungsi akibat Huru Hara Tionghoa 1740 M di Semarang. Karaton Panembahan Somala dibangun di sebelah timur karaton milik Gusti R. Ayu Rasmana Tirtonegoro dan Kanjeng Tumenggung Ario Tirtonegoro (Bindara Saod) yang tak lain adalah orang tua dia. Bangunan Kompleks Karaton sendiri terdiri dari banyak massa, tidak dibangun secara bersamaan namun di bangun dan diperluas secara bertahap oleh para keturunannya.\n",
      "\n",
      "Judul: Keraton Sumenep \n",
      "Teks: Keraton Sumenep berdiri di atas tanah milik pribadi Pangeran Natakusuma I (Panembahan Somala) (sebelah timur keraton lama milik Ratu R. Ayu Rasmana Tirtanegara). Kompleks bangunan Karaton Sumenep lebih sederhana dari kompleks Karaton kerajaan Mataram, bangunannya hanya meliputi Gedong Negeri, Pengadilan Karaton, Paseban, dan beberapa bangunan Pribadi Keluarga Karaton.\n",
      "\n",
      "Judul: Masjid Agung Sumenep \n",
      "Teks: Menurut catatan sejarah Sumenep, Pembangunan Masjid Jamik Sumenep dimulai pada tahun 1779 Masehi dan selesai 1787 Masehi. Bangunan ini merupakan salah satu bangunan pendukung Karaton, yakni sebagai tempat ibadah bagi keluarga Karaton dan Masyarakat, masjid ini adalah masjid kedua yang dibangun oleh keluarga keraton, di mana sebelumnya kompleks masjid berada tepat di belakang keraton yang lebih dikenal dengan nama \"Masjid laju\" yang dibangun oleh Kanjeng R. Tumenggung Ario Anggadipa, penguasa Sumenep XXI.\n",
      "-----------------------------------------------\n",
      "summary: Beriikan yang terdapah kekerasan dan kesetiaan dari Jawa dibangun dan berjala dan terus harkat, dan sekitar 12 Maret 1949 M Pajak, P\n",
      "answer: Panembahan Somala\n",
      "\n",
      "QUERY: Kapan Masashi Kishimoto pertama kali berkarya?\n",
      "TOP 3:-----------------------------------------\n",
      "Judul: Masashi Kishimoto \n",
      "Teks: Masashi Kishimoto(岸本 斉史,Kishimoto Masashi, Template:Lahirmati[1]) adalah seorang Mangaka Jepang. Masashi Kishimoto mulai mengembangkan bakatnya akan menggambar semenjak usia SD. Dia menjadi mangaka terkenal semenjak karyanya, Naruto sukses besar baik di Jepang sendiri ataupun di negara-negara lain. Dia suka membaca manga sejak usia muda, sampai dia menunjukkan keinginannya untuk menulis manga sendiri. Akira Toriyama dan Katsuhiro Otomo adalah sebagai inspirasi utamanya. Pada tahun 1999 Naruto pertama kali dipublikasikan di Shounen jump membuat Kishimoto menerima penghargaan hop step. Saudara kembar Masashi Kishimoto, Seishi Kishimoto, juga merupakan seniman manga dengan karyanya yang terkenal 666 Satan (O-Parts Hunter) dan Blazer Drive. Selama penerbitan Naruto, Kishimoto menikah dan menjadi seorang ayah.[2]\n",
      "\n",
      "Judul: Naruto \n",
      "Teks: Masashi Kishimoto pertama kali membuat one-shot Naruto pada Agustus 1997 ke dalam edisi Akamaru Jump. Meskipun hasil polling pembaca sangat tinggi dan bernilai positif, Kishimoto berpikir \"desain dan cerita berantakan!\". Kishimoto awalnya bekerja pada Karakuri untuk Hop Step Award. Tidak puas dengan desain kasar, ia memutuskan untuk bekerja pada sesuatu yang berbeda, yang kemudian dibuat menjadi seri manga Naruto. Kishimoto yakin seri ini akan menjadi manga yang nyaman untuk dibaca.[14] Ketika ditanya tentang apa tema utama Naruto selama Bagian I, Kishimoto menjawab bahwa itu adalah cara orang menerima satu sama lain terhadap perkembangan serial Naruto. Kishimoto mengatakan ia tidak dapat fokus pada percintaan selama Bagian I, ia menekankan lebih dalam pada Bagian II, awal dari bagian manga dengan 28 volume, meskipun kesulitan.[15]\n",
      "\n",
      "Judul: Naruto: Shippuden (musim 1) \n",
      "Teks: Musim pertama serial anime \"\" yang disutradarai oleh Hayato Date, dan diproduksi oleh Studio Pierrot dan TV Tokyo. Serial tersebut berdasarkan pada Bagian II untuk serial manga Masashi Kishimoto.\n",
      "-----------------------------------------------\n",
      "summary: Pertanyaan: Masashi Kishimoto bertemu teman-teman atau persahabatnya, Kishimoto adalah seseorang yang sering mengekutipkan teks dari Jujin Fumoon:\n",
      "answer: usia SD\n",
      "\n",
      "QUERY: apakah yang dimaksudkan dengan sistem ?\n",
      "TOP 3:-----------------------------------------\n",
      "Judul: Sistem \n",
      "Teks: Sistem berasal dari bahasa Latin (systēma) dan bahasa Yunani (sustēma) adalah suatu kesatuan yang terdiri komponen atau elemen yang dihubungkan bersama untuk memudahkan aliran informasi, materi atau energi untuk mencapai suatu tujuan. Istilah ini sering dipergunakan untuk menggambarkan suatu set entitas yang berinteraksi, di mana suatu model matematika seringkali bisa dibuat.\n",
      "\n",
      "Judul: Sistem inovasi \n",
      "Teks: Memang tidak (setidaknya belum) ada “kesepakatan yang diterima luas” tentang pengertian istilah sistem inovasi. Setiap pakar atau pihak yang menggunakan istilah ini mendefinisikan pengertian masing-masing tentang sistem inovasi. Tetapi jika dicermati, sebagian besar dalam literatur menggunakannya untuk maksud yang sama /serupa dan menunjukkan pengertian cara pandang (pendekatan) sistem \"(system approach)\". Pendekatan sistem ini dimaksudkan baik dalam memahami konstruksi dari objek-objek yang dimaksud, maupun dalam mengkaji isu dan implikasi kebijakannya (yang biasanya disebut dengan istilah kebijakan inovasi).\n",
      "\n",
      "Judul: Konversi satuan \n",
      "Teks: Konversi satuan dalam sistem satuan yang berbeda maksudnya kita akan mengubah atau mengonversi nilai dari suatu sistem satuan tertentu ke sistem satuan yang lain. Misalnya dari sistem inggris ke Sistem Satuan Internasional atau sebaliknya. Pengubahan satuan seperti ini dapat dilakukan dengan menggunakan faktor konversi satuan.\n",
      "-----------------------------------------------\n",
      "summary: Cameron) dari mana yang berbedani, saya mengenakan ujul, pengalami pengguna asal 3D printing\n",
      "Jika memutuh Tahun 2019. \"The Rise to the 2004.\n",
      "answer: suatu kesatuan yang terdiri komponen atau elemen yang dihubungkan bersama untuk memudahkan aliran informasi, materi atau energi untuk mencapai suatu tujuan\n",
      "\n",
      "============================================================================================================\n",
      "batch size 8\n",
      "QUERY: Dimana Kerajaan Kuru didirikan?\n",
      "TOP 3:-----------------------------------------\n",
      "Judul: Kerajaan Kuru \n",
      "Teks: Dalam sastra dan wiracarita India Kuno, Kerajaan Kuru merupakan kerajaan yang diperintah oleh Wangsa Kuru, keturunan Sang Kuru. Tidak diketahui dengan pasti kapan kerajaan ini berdiri, dan hingga sekarang dikenal sebagai legenda dalam wiracarita India, seperti misalnya Mahabharata. Kerajaan Kuru yang lain berada di utara Himalaya, dan disebut Uttara Kuru. Menurut sastra Hindu, Kerajaan Kuru terbentang di antara sungai Saraswati dan sungai Gangga. Salah satu kitab yang dijadikan sumber keberadaan kerajaan Kuru adalah Mahabharata, dan tokoh utama yang diceritakan dalam kitab tersebut merupakan keturunan Kuru. Menurut Mahabharata, pada masa pemerintahan Raja Dretarastra, Kerajaan tersebut terbagi menjadi dua bagian, yaitu Kurujangala dan Kuru asli.\n",
      "\n",
      "Judul: Kuru (raja) \n",
      "Teks: Semenjak kecil, Kuru dididik oleh seorang Maharesi Wasista. Pada usia sepuluh tahun, ia sudah menguasai sastra, kitab suci, dan tugas-tugas sebagai seorang raja. Menurut kitab \"Wamanapurana\", pada usia enam belas tahun, Kuru menikah dengan Sodamini, putri Raja Sudama. Setelah Sambarana mangkat, Kuru diangkat menjadi raja dan membebaskan kerajaannya dari jajahan musuhnya. Namanya membuat dataran Kurujanggala (sebelah timur Haryana) menjadi masyur di seluruh dunia. Konon Kuru memerintah kerajaannya dengan baik, adil dan bijaksana. Untuk membuat keturunannya mengenangnya selamanya, Kuru memutuskan untuk melakukan perjalanan keliling dunia, demi mencari hal yang dapat membuat namanya termahsyur.\n",
      "\n",
      "Judul: Kerajaan Kuru \n",
      "Teks: Raja kerajaan Kuru pertama – Pururawa – selalu dikelilingi sekutu/tetangga yang merupakan ras manusia sakti. Kerajaannya kemungkinan terbentang dari wilayah Himalaya di Tibet atau di utara Xin Jiang atau di Kirgizstan. Nahusa disebutkan pernah memerintah wilayah para dewa (suatu tempat di Tibet). Yayati adalah raja pertama dalam generasi tersebut yang berinteraksi dengan anggota klan asura seperti misalnya Wresaparwa (kerajaan Wresaparwa terbentang di sebelah utara Uttarakhand, di Tibet). Putera Yayati yang bernama Puru mendirikan Dinasti Paurawa, salah satu cabang Dinasti Candra. Kemungkinan dia memerintah wilayah Himalaya selatan di Uttarakhand, Himachal Pradesh dan Punjab.\n",
      "-----------------------------------------------\n",
      "summary: Tetapi, namun, Aparan Kura yang selama. Orang Kura, Rana.\n",
      "answer: sungai Saraswati dan sungai Gangga\n",
      "\n",
      "QUERY: apakah 5 tingktan ekologi?\n",
      "TOP 3:-----------------------------------------\n",
      "Judul: Ekologi \n",
      "Teks: Pembahasan ekologi tidak lepas dari pembahasan ekosistem dengan berbagai komponen penyusunnya, yaitu faktor abiotik dan biotik. Faktor abiotik antara lain suhu, air, kelembaban, cahaya, dan topografi, sedangkan faktor biotik adalah makhluk hidup yang terdiri dari manusia, hewan, tumbuhan, dan mikroba. Ekologi juga berhubungan erat dengan tingkatan-tingkatan organisasi makhluk hidup, yaitu populasi, komunitas, dan ekosistem yang saling memengaruhi dan merupakan suatu sistem yang menunjukkan kesatuan.\n",
      "\n",
      "Judul: Ekologi \n",
      "Teks: Ekologi Tingkah Laku Ekologi Bahasa Ekologi Komunitas dan Sinekologi Ekologi Fisiologi Ekologi Ekosistem Ekologi Evolusi Ekologi Global Ekologi Manusia Ekologi Populasi Ekologi Akuatik Ekologi Api Ekologi Fungsional Ekologi Polinasi Ekologi Hutan Ekologi Laut Ekologi Laut Tropis Ekologi Pangan dan Gizi Ekologi Hutan Mangrove Ekologi Kesehatan Ekologi Antariksa Ekologi Pedesaan Ekologi Serangga Ekologi Habitat Ekologi Pelestarian Ekologi Hewan Ekologi Produksi Ekologi Purbakala Ekologi Sosial Ekologi Radiasi Ekologi Tumbuhan Penganggu Ekologi Lanskap Ekologi Molekuler Ekologi Robot Ekologi Industri\n",
      "\n",
      "Judul: Ekologi \n",
      "Teks: Banyak ekolog menghubungkan ekologi dengan ekonomi manusia:\n",
      "-----------------------------------------------\n",
      "summary: The Art of Staines, I am not a scientific study pada Kalen Doordor Ekonomi, yang dengan mungil\n",
      "Jalan Jika B. \n",
      "Tentang, a beautiful one a, the Great Pacificid.\n",
      "answer: populasi, komunitas, dan ekosistem yang saling memengaruhi dan merupakan suatu sistem yang menunjukkan kesatuan\n",
      "\n",
      "QUERY: Siapa pendiri Keraton Sumenep?\n",
      "TOP 3:-----------------------------------------\n",
      "Judul: Keraton Sumenep \n",
      "Teks: Karaton Pajagalan atau lebih dikenal Karaton Songennep dibangun di atas tanah pribadi milik Panembahan Somala penguasa Sumenep XXXI. Dibangun Pada tahun 1781 dengan arsitek pembangunan Karaton oleh Lauw Piango salah seorang warga keturunan Tionghoa yang mengungsi akibat Huru Hara Tionghoa 1740 M di Semarang. Karaton Panembahan Somala dibangun di sebelah timur karaton milik Gusti R. Ayu Rasmana Tirtonegoro dan Kanjeng Tumenggung Ario Tirtonegoro (Bindara Saod) yang tak lain adalah orang tua dia. Bangunan Kompleks Karaton sendiri terdiri dari banyak massa, tidak dibangun secara bersamaan namun di bangun dan diperluas secara bertahap oleh para keturunannya.\n",
      "\n",
      "Judul: Keraton Sumenep \n",
      "Teks: Keraton Sumenep berdiri di atas tanah milik pribadi Pangeran Natakusuma I (Panembahan Somala) (sebelah timur keraton lama milik Ratu R. Ayu Rasmana Tirtanegara). Kompleks bangunan Karaton Sumenep lebih sederhana dari kompleks Karaton kerajaan Mataram, bangunannya hanya meliputi Gedong Negeri, Pengadilan Karaton, Paseban, dan beberapa bangunan Pribadi Keluarga Karaton.\n",
      "\n",
      "Judul: Masjid Agung Sumenep \n",
      "Teks: Menurut catatan sejarah Sumenep, Pembangunan Masjid Jamik Sumenep dimulai pada tahun 1779 Masehi dan selesai 1787 Masehi. Bangunan ini merupakan salah satu bangunan pendukung Karaton, yakni sebagai tempat ibadah bagi keluarga Karaton dan Masyarakat, masjid ini adalah masjid kedua yang dibangun oleh keluarga keraton, di mana sebelumnya kompleks masjid berada tepat di belakang keraton yang lebih dikenal dengan nama \"Masjid laju\" yang dibangun oleh Kanjeng R. Tumenggung Ario Anggadipa, penguasa Sumenep XXI.\n",
      "-----------------------------------------------\n",
      "summary: Jika dibuat dengan mengenang yang terdapat 2018. \n",
      "I have always been a bahagwari Bahari: Anan, Jakarta, Jambi, Pata lau 5 Desa Damar L. \n",
      "answer: Panembahan Somala\n",
      "\n",
      "QUERY: Kapan Masashi Kishimoto pertama kali berkarya?\n",
      "TOP 3:-----------------------------------------\n",
      "Judul: Masashi Kishimoto \n",
      "Teks: Masashi Kishimoto(岸本 斉史,Kishimoto Masashi, Template:Lahirmati[1]) adalah seorang Mangaka Jepang. Masashi Kishimoto mulai mengembangkan bakatnya akan menggambar semenjak usia SD. Dia menjadi mangaka terkenal semenjak karyanya, Naruto sukses besar baik di Jepang sendiri ataupun di negara-negara lain. Dia suka membaca manga sejak usia muda, sampai dia menunjukkan keinginannya untuk menulis manga sendiri. Akira Toriyama dan Katsuhiro Otomo adalah sebagai inspirasi utamanya. Pada tahun 1999 Naruto pertama kali dipublikasikan di Shounen jump membuat Kishimoto menerima penghargaan hop step. Saudara kembar Masashi Kishimoto, Seishi Kishimoto, juga merupakan seniman manga dengan karyanya yang terkenal 666 Satan (O-Parts Hunter) dan Blazer Drive. Selama penerbitan Naruto, Kishimoto menikah dan menjadi seorang ayah.[2]\n",
      "\n",
      "Judul: Naruto \n",
      "Teks: Masashi Kishimoto pertama kali membuat one-shot Naruto pada Agustus 1997 ke dalam edisi Akamaru Jump. Meskipun hasil polling pembaca sangat tinggi dan bernilai positif, Kishimoto berpikir \"desain dan cerita berantakan!\". Kishimoto awalnya bekerja pada Karakuri untuk Hop Step Award. Tidak puas dengan desain kasar, ia memutuskan untuk bekerja pada sesuatu yang berbeda, yang kemudian dibuat menjadi seri manga Naruto. Kishimoto yakin seri ini akan menjadi manga yang nyaman untuk dibaca.[14] Ketika ditanya tentang apa tema utama Naruto selama Bagian I, Kishimoto menjawab bahwa itu adalah cara orang menerima satu sama lain terhadap perkembangan serial Naruto. Kishimoto mengatakan ia tidak dapat fokus pada percintaan selama Bagian I, ia menekankan lebih dalam pada Bagian II, awal dari bagian manga dengan 28 volume, meskipun kesulitan.[15]\n",
      "\n",
      "Judul: Naruto: Shippuden (musim 1) \n",
      "Teks: Musim pertama serial anime \"\" yang disutradarai oleh Hayato Date, dan diproduksi oleh Studio Pierrot dan TV Tokyo. Serial tersebut berdasarkan pada Bagian II untuk serial manga Masashi Kishimoto.\n",
      "-----------------------------------------------\n",
      "summary: Maj. P., namun mengenakan Kekin. Mereka Kishou, Kisho Shindo, di komiura yang 1st Place, I had no prior kecil, terapi untuk melal\n",
      "answer: usia SD\n",
      "\n",
      "QUERY: apakah yang dimaksudkan dengan sistem ?\n",
      "TOP 3:-----------------------------------------\n",
      "Judul: Sistem \n",
      "Teks: Sistem berasal dari bahasa Latin (systēma) dan bahasa Yunani (sustēma) adalah suatu kesatuan yang terdiri komponen atau elemen yang dihubungkan bersama untuk memudahkan aliran informasi, materi atau energi untuk mencapai suatu tujuan. Istilah ini sering dipergunakan untuk menggambarkan suatu set entitas yang berinteraksi, di mana suatu model matematika seringkali bisa dibuat.\n",
      "\n",
      "Judul: Sistem inovasi \n",
      "Teks: Memang tidak (setidaknya belum) ada “kesepakatan yang diterima luas” tentang pengertian istilah sistem inovasi. Setiap pakar atau pihak yang menggunakan istilah ini mendefinisikan pengertian masing-masing tentang sistem inovasi. Tetapi jika dicermati, sebagian besar dalam literatur menggunakannya untuk maksud yang sama /serupa dan menunjukkan pengertian cara pandang (pendekatan) sistem \"(system approach)\". Pendekatan sistem ini dimaksudkan baik dalam memahami konstruksi dari objek-objek yang dimaksud, maupun dalam mengkaji isu dan implikasi kebijakannya (yang biasanya disebut dengan istilah kebijakan inovasi).\n",
      "\n",
      "Judul: Konversi satuan \n",
      "Teks: Konversi satuan dalam sistem satuan yang berbeda maksudnya kita akan mengubah atau mengonversi nilai dari suatu sistem satuan tertentu ke sistem satuan yang lain. Misalnya dari sistem inggris ke Sistem Satuan Internasional atau sebaliknya. Pengubahan satuan seperti ini dapat dilakukan dengan menggunakan faktor konversi satuan.\n",
      "-----------------------------------------------\n",
      "summary: Pengelola Peraško was born in Kamban. Posisisi jadi, untuk memudah\n",
      "\n",
      "The New York: Indonesia  |\n",
      "| 2019\n",
      "\n",
      "A. Al-Kot: Rs. 15. J\n",
      "answer: suatu kesatuan yang terdiri komponen atau elemen yang dihubungkan bersama untuk memudahkan aliran informasi, materi atau energi untuk mencapai suatu tujuan\n",
      "\n",
      "============================================================================================================\n"
     ]
    }
   ],
   "source": [
    "for i in range(4):\n",
    "    print('batch size', batch_sizes[i])\n",
    "    for j in range(5):\n",
    "        print('QUERY:', ds[i][j]['query'])\n",
    "        print('TOP 3:-----------------------------------------')  \n",
    "        print(ds[i][j]['formatted_passages'])\n",
    "        print('-----------------------------------------------\\nsummary:', ds[i][j]['summary'])\n",
    "        print('answer:', ds[i][j]['answers'])\n",
    "        print()\n",
    "    print(\"============================================================================================================\")"
   ]
  },
  {
   "cell_type": "code",
   "execution_count": 10,
   "metadata": {},
   "outputs": [
    {
     "data": {
      "text/plain": [
       "'Kerajaan Kuru didirikan di wilayah Himalaya, kemungkinan terletak di Tibet, utara Xin Jiang, atau Kirgizstan.'"
      ]
     },
     "execution_count": 10,
     "metadata": {},
     "output_type": "execute_result"
    }
   ],
   "source": [
    "ds[1][0]['summary']"
   ]
  },
  {
   "cell_type": "code",
   "execution_count": null,
   "metadata": {},
   "outputs": [],
   "source": [
    "ds[2][0]"
   ]
  },
  {
   "cell_type": "code",
   "execution_count": 10,
   "metadata": {},
   "outputs": [
    {
     "data": {
      "text/plain": [
       "['Kerajaan Kuru didirikan di antara sungai Saraswati dan sungai Gangga.',\n",
       " 'Ya, ada 5 tingkatan ekologi yang disebutkan dalam teks tersebut:\\n\\n1. Populasi\\n2. Komunitas\\n3. Ekosistem\\n4. Ekologi Manusia\\n5. Ekologi Global',\n",
       " 'Pangeran Natakusuma I (Panembahan Somala) adalah pendiri Keraton Sumenep.',\n",
       " 'Masashi Kishimoto pertama kali berkarya sebagai mangaka semenjak usia SD.',\n",
       " 'Sebuah sistem adalah suatu kesatuan yang terdiri komponen atau elemen yang dihubungkan bersama untuk memudahkan aliran informasi, materi atau energi untuk mencapai suatu tujuan.',\n",
       " 'Unsur \"A\" pada Jalur ABG merupakan Angkatan Bersenjata Republik Indonesia (ABRI).',\n",
       " 'Tidak ada teks yang membahas tentang suku yang mendiami wilayah Surakarta. Teks yang ada membahas tentang wilayah Jawa Tengah dan beberapa suku yang mendiami wilayah Rejang Lebong, Sum',\n",
       " 'Permainan daring multipemain masif (MMO) adalah permainan daring dengan jumlah pemain yang besar, biasanya dari ratusan sampai ribuan, di server yang sama.',\n",
       " 'Kromosom adalah struktur di dalam sel yang berupa deret panjang molekul DNA dan berbagai protein terkait yang merupakan informasi genetik suatu organisme.',\n",
       " 'Luas wilayah Skotlandia adalah 78,772km2.']"
      ]
     },
     "execution_count": 10,
     "metadata": {},
     "output_type": "execute_result"
    }
   ],
   "source": [
    "ds[0]['summary']"
   ]
  },
  {
   "cell_type": "code",
   "execution_count": 13,
   "metadata": {},
   "outputs": [
    {
     "data": {
      "text/plain": [
       "['sungai Saraswati dan sungai Gangga',\n",
       " 'populasi, komunitas, dan ekosistem yang saling memengaruhi dan merupakan suatu sistem yang menunjukkan kesatuan',\n",
       " 'Panembahan Somala',\n",
       " 'usia SD',\n",
       " 'suatu kesatuan yang terdiri komponen atau elemen yang dihubungkan bersama untuk memudahkan aliran informasi, materi atau energi untuk mencapai suatu tujuan',\n",
       " 'Angkatan Bersenjata Republik Indonesia',\n",
       " 'Suku Jawa',\n",
       " 'dapat diakses oleh banyak pemain secara massal untuk bermain bersama dalam dunia maya yang terus berkembang pada saat yang sama melalui sambungan Internet dan LAN',\n",
       " 'struktur di dalam sel berupa deret panjang molekul yang terdiri dari satu molekul DNA[1] dan berbagai protein terkait yang merupakan informasi genetik suatu organisme',\n",
       " '78,772km']"
      ]
     },
     "execution_count": 13,
     "metadata": {},
     "output_type": "execute_result"
    }
   ],
   "source": [
    "ds[0]['answers']"
   ]
  },
  {
   "cell_type": "code",
   "execution_count": 8,
   "metadata": {},
   "outputs": [],
   "source": [
    "import torch\n",
    "\n",
    "# GPU yang digunakan\n",
    "def check_gpu():\n",
    "    device = torch.device(\"cuda:0\")\n",
    "\n",
    "    # Total memori GPU\n",
    "    total_memory = torch.cuda.get_device_properties(device).total_memory / (1024 ** 3)  # Dalam GB\n",
    "    print(f\"Total GPU Memory: {total_memory:.2f} GB\")\n",
    "\n",
    "    # Memori yang sudah dialokasikan oleh PyTorch\n",
    "    allocated_memory = torch.cuda.memory_allocated(device) / (1024 ** 3)  # Dalam GB\n",
    "    print(f\"Allocated GPU Memory: {allocated_memory:.2f} GB\")\n",
    "\n",
    "    max_reserved_memory = torch.cuda.max_memory_reserved(device) / (1024 ** 3)  # Dalam GB\n",
    "    print(f\"Max Reserved GPU Memory: {max_reserved_memory:.2f} GB\")\n",
    "\n",
    "    # Memori GPU yang dicadangkan oleh PyTorch\n",
    "    reserved_memory = torch.cuda.memory_reserved(device) / (1024 ** 3)  # Dalam GB\n",
    "    print(f\"Reserved GPU Memory: {reserved_memory:.2f} GB\")\n",
    "\n",
    "    # Memori GPU yang tersedia\n",
    "    free_memory = reserved_memory - allocated_memory\n",
    "    print(f\"Free GPU Memory: {free_memory:.2f} GB\")"
   ]
  },
  {
   "cell_type": "code",
   "execution_count": 9,
   "metadata": {},
   "outputs": [
    {
     "name": "stdout",
     "output_type": "stream",
     "text": [
      "Total GPU Memory: 6.00 GB\n",
      "Allocated GPU Memory: 5.99 GB\n",
      "Max Reserved GPU Memory: 9.83 GB\n",
      "Reserved GPU Memory: 6.05 GB\n",
      "Free GPU Memory: 0.06 GB\n"
     ]
    }
   ],
   "source": [
    "check_gpu()"
   ]
  },
  {
   "cell_type": "code",
   "execution_count": 10,
   "metadata": {},
   "outputs": [],
   "source": [
    "torch.cuda.empty_cache()"
   ]
  },
  {
   "cell_type": "code",
   "execution_count": 12,
   "metadata": {},
   "outputs": [
    {
     "data": {
      "text/plain": [
       "DatasetDict({\n",
       "    train: Dataset({\n",
       "        features: ['query_id', 'query', 'positive_passages', 'negative_passages', 'tydiqa_id', 'answers'],\n",
       "        num_rows: 4542\n",
       "    })\n",
       "    dev: Dataset({\n",
       "        features: ['query_id', 'query', 'positive_passages', 'negative_passages', 'tydiqa_id', 'answers'],\n",
       "        num_rows: 1143\n",
       "    })\n",
       "    test: Dataset({\n",
       "        features: ['query_id', 'query', 'positive_passages', 'negative_passages', 'tydiqa_id', 'answers'],\n",
       "        num_rows: 565\n",
       "    })\n",
       "})"
      ]
     },
     "execution_count": 12,
     "metadata": {},
     "output_type": "execute_result"
    }
   ],
   "source": [
    "finished_dataset"
   ]
  },
  {
   "cell_type": "code",
   "execution_count": 25,
   "metadata": {},
   "outputs": [
    {
     "data": {
      "text/plain": [
       "['Kerajaan Kuru didirikan di wilayah Himalaya timur, kemungkinan terletak di Uttarakhand atau di Tibet.']"
      ]
     },
     "execution_count": 25,
     "metadata": {},
     "output_type": "execute_result"
    }
   ],
   "source": [
    "sample_output['summary']"
   ]
  },
  {
   "cell_type": "code",
   "execution_count": 26,
   "metadata": {},
   "outputs": [
    {
     "data": {
      "text/plain": [
       "['sungai Saraswati dan sungai Gangga']"
      ]
     },
     "execution_count": 26,
     "metadata": {},
     "output_type": "execute_result"
    }
   ],
   "source": [
    "sample_output['answers']"
   ]
  },
  {
   "cell_type": "code",
   "execution_count": 30,
   "metadata": {},
   "outputs": [
    {
     "name": "stdout",
     "output_type": "stream",
     "text": [
      "['Judul: Kerajaan Kuru \\nTeks: Dalam sastra dan wiracarita India Kuno, Kerajaan Kuru merupakan kerajaan yang diperintah oleh Wangsa Kuru, keturunan Sang Kuru. Tidak diketahui dengan pasti kapan kerajaan ini berdiri, dan hingga sekarang dikenal sebagai legenda dalam wiracarita India, seperti misalnya Mahabharata. Kerajaan Kuru yang lain berada di utara Himalaya, dan disebut Uttara Kuru. Menurut sastra Hindu, Kerajaan Kuru terbentang di antara sungai Saraswati dan sungai Gangga. Salah satu kitab yang dijadikan sumber keberadaan kerajaan Kuru adalah Mahabharata, dan tokoh utama yang diceritakan dalam kitab tersebut merupakan keturunan Kuru. Menurut Mahabharata, pada masa pemerintahan Raja Dretarastra, Kerajaan tersebut terbagi menjadi dua bagian, yaitu Kurujangala dan Kuru asli.\\n\\nJudul: Kuru (raja) \\nTeks: Semenjak kecil, Kuru dididik oleh seorang Maharesi Wasista. Pada usia sepuluh tahun, ia sudah menguasai sastra, kitab suci, dan tugas-tugas sebagai seorang raja. Menurut kitab \"Wamanapurana\", pada usia enam belas tahun, Kuru menikah dengan Sodamini, putri Raja Sudama. Setelah Sambarana mangkat, Kuru diangkat menjadi raja dan membebaskan kerajaannya dari jajahan musuhnya. Namanya membuat dataran Kurujanggala (sebelah timur Haryana) menjadi masyur di seluruh dunia. Konon Kuru memerintah kerajaannya dengan baik, adil dan bijaksana. Untuk membuat keturunannya mengenangnya selamanya, Kuru memutuskan untuk melakukan perjalanan keliling dunia, demi mencari hal yang dapat membuat namanya termahsyur.\\n\\nJudul: Kerajaan Kuru \\nTeks: Raja kerajaan Kuru pertama – Pururawa – selalu dikelilingi sekutu/tetangga yang merupakan ras manusia sakti. Kerajaannya kemungkinan terbentang dari wilayah Himalaya di Tibet atau di utara Xin Jiang atau di Kirgizstan. Nahusa disebutkan pernah memerintah wilayah para dewa (suatu tempat di Tibet). Yayati adalah raja pertama dalam generasi tersebut yang berinteraksi dengan anggota klan asura seperti misalnya Wresaparwa (kerajaan Wresaparwa terbentang di sebelah utara Uttarakhand, di Tibet). Putera Yayati yang bernama Puru mendirikan Dinasti Paurawa, salah satu cabang Dinasti Candra. Kemungkinan dia memerintah wilayah Himalaya selatan di Uttarakhand, Himachal Pradesh dan Punjab.']\n"
     ]
    }
   ],
   "source": [
    "print(sample_output['formatted_passages'])"
   ]
  },
  {
   "cell_type": "code",
   "execution_count": null,
   "metadata": {},
   "outputs": [],
   "source": []
  }
 ],
 "metadata": {
  "kernelspec": {
   "display_name": "cuda_12-4",
   "language": "python",
   "name": "python3"
  },
  "language_info": {
   "codemirror_mode": {
    "name": "ipython",
    "version": 3
   },
   "file_extension": ".py",
   "mimetype": "text/x-python",
   "name": "python",
   "nbconvert_exporter": "python",
   "pygments_lexer": "ipython3",
   "version": "3.12.7"
  }
 },
 "nbformat": 4,
 "nbformat_minor": 2
}
