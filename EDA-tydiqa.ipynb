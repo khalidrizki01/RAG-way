{
 "cells": [
  {
   "cell_type": "markdown",
   "metadata": {},
   "source": [
    "# EDA TyDi QA\n",
    "Notebook untuk memahami dataset TyDi QA"
   ]
  },
  {
   "cell_type": "code",
   "execution_count": 14,
   "metadata": {},
   "outputs": [],
   "source": [
    "from collections import Counter\n",
    "import pandas as pd\n",
    "from datasets import load_dataset\n",
    "pd.set_option('display.max_rows', None)\n",
    "pd.set_option('display.max_colwidth', None)"
   ]
  },
  {
   "cell_type": "code",
   "execution_count": 9,
   "metadata": {},
   "outputs": [
    {
     "data": {
      "text/html": [
       "<div>\n",
       "<style scoped>\n",
       "    .dataframe tbody tr th:only-of-type {\n",
       "        vertical-align: middle;\n",
       "    }\n",
       "\n",
       "    .dataframe tbody tr th {\n",
       "        vertical-align: top;\n",
       "    }\n",
       "\n",
       "    .dataframe thead th {\n",
       "        text-align: right;\n",
       "    }\n",
       "</style>\n",
       "<table border=\"1\" class=\"dataframe\">\n",
       "  <thead>\n",
       "    <tr style=\"text-align: right;\">\n",
       "      <th></th>\n",
       "      <th>First Word</th>\n",
       "      <th>Count</th>\n",
       "    </tr>\n",
       "  </thead>\n",
       "  <tbody>\n",
       "    <tr>\n",
       "      <th>5</th>\n",
       "      <td>apakah</td>\n",
       "      <td>953</td>\n",
       "    </tr>\n",
       "    <tr>\n",
       "      <th>2</th>\n",
       "      <td>kapan</td>\n",
       "      <td>919</td>\n",
       "    </tr>\n",
       "    <tr>\n",
       "      <th>6</th>\n",
       "      <td>apa</td>\n",
       "      <td>851</td>\n",
       "    </tr>\n",
       "    <tr>\n",
       "      <th>4</th>\n",
       "      <td>siapakah</td>\n",
       "      <td>528</td>\n",
       "    </tr>\n",
       "    <tr>\n",
       "      <th>7</th>\n",
       "      <td>berapakah</td>\n",
       "      <td>406</td>\n",
       "    </tr>\n",
       "    <tr>\n",
       "      <th>8</th>\n",
       "      <td>berapa</td>\n",
       "      <td>391</td>\n",
       "    </tr>\n",
       "    <tr>\n",
       "      <th>1</th>\n",
       "      <td>siapa</td>\n",
       "      <td>379</td>\n",
       "    </tr>\n",
       "    <tr>\n",
       "      <th>3</th>\n",
       "      <td>dimana</td>\n",
       "      <td>255</td>\n",
       "    </tr>\n",
       "    <tr>\n",
       "      <th>0</th>\n",
       "      <td>dimanakah</td>\n",
       "      <td>245</td>\n",
       "    </tr>\n",
       "    <tr>\n",
       "      <th>9</th>\n",
       "      <td>kapankah</td>\n",
       "      <td>238</td>\n",
       "    </tr>\n",
       "  </tbody>\n",
       "</table>\n",
       "</div>"
      ],
      "text/plain": [
       "  First Word  Count\n",
       "5     apakah    953\n",
       "2      kapan    919\n",
       "6        apa    851\n",
       "4   siapakah    528\n",
       "7  berapakah    406\n",
       "8     berapa    391\n",
       "1      siapa    379\n",
       "3     dimana    255\n",
       "0  dimanakah    245\n",
       "9   kapankah    238"
      ]
     },
     "execution_count": 9,
     "metadata": {},
     "output_type": "execute_result"
    }
   ],
   "source": [
    "dataset = load_dataset(\"khalidalt/tydiqa-goldp\", 'indonesian', trust_remote_code=True)\n",
    "\n",
    "# Ambil kolom 'question_text' dari dataset train\n",
    "questions = dataset['train']['question_text']\n",
    "\n",
    "# Ambil kata pertama dari setiap pertanyaan\n",
    "first_words = [question.lower().split()[0] if question.strip() else None for question in questions]\n",
    "\n",
    "# Hitung jumlah kemunculan tiap kata pertama\n",
    "first_word_counts = Counter(first_words)\n",
    "\n",
    "# Konversi hasil ke DataFrame untuk tampilan lebih mudah\n",
    "first_word_df = pd.DataFrame(first_word_counts.items(), columns=[\"First Word\", \"Count\"]).sort_values(by=\"Count\", ascending=False)\n",
    "\n",
    "# Tampilkan hasil\n",
    "first_word_df.head(10)"
   ]
  },
  {
   "cell_type": "markdown",
   "metadata": {},
   "source": [
    "## Menggunakan meta-llama_Llama-3.2-1B-Instruct-50_results.json sbg Proxy"
   ]
  },
  {
   "cell_type": "markdown",
   "metadata": {},
   "source": [
    "*Karena malas berurusan dengan library datasets*"
   ]
  },
  {
   "cell_type": "code",
   "execution_count": 5,
   "metadata": {},
   "outputs": [],
   "source": [
    "tydi_with_generated = pd.read_json(\"meta-llama_Llama-3.2-1B-Instruct-50_results.json\")"
   ]
  },
  {
   "cell_type": "markdown",
   "metadata": {},
   "source": [
    "### Mismatch antara jenis pertanyaan (dimana) dengan jenis jawaban (waktu)"
   ]
  },
  {
   "cell_type": "code",
   "execution_count": 10,
   "metadata": {},
   "outputs": [],
   "source": [
    "# Definisikan kata-kata pertama yang ingin dicari\n",
    "target_words = ['Dimana', 'dimanakah', 'Dimanakah', 'Dimankah', 'dimankah']\n",
    "\n",
    "# Ambil subset data di mana question_text diawali dengan salah satu kata di target_words\n",
    "filtered_data = [\n",
    "    {\"id\": qid, \"question_text\": question, \"answers\": answers}\n",
    "    for qid, question, answers in zip(dataset['train']['id'], dataset['train']['question_text'], dataset['train']['answers'])\n",
    "    if question.split()[0] in target_words\n",
    "]\n",
    "\n",
    "# Konversi ke DataFrame untuk tampilan lebih mudah\n",
    "filtered_df = pd.DataFrame(filtered_data)"
   ]
  },
  {
   "cell_type": "code",
   "execution_count": 15,
   "metadata": {},
   "outputs": [
    {
     "name": "stdout",
     "output_type": "stream",
     "text": [
      "Jumlah row yg pertanyaan 'Dimana' malah dijawab dengan jawaban waktu: 18\n",
      "Persentase terhadap seluruh pertanyaan 'Dimana': 3.5502958579881656\n"
     ]
    },
    {
     "data": {
      "text/html": [
       "<div>\n",
       "<style scoped>\n",
       "    .dataframe tbody tr th:only-of-type {\n",
       "        vertical-align: middle;\n",
       "    }\n",
       "\n",
       "    .dataframe tbody tr th {\n",
       "        vertical-align: top;\n",
       "    }\n",
       "\n",
       "    .dataframe thead th {\n",
       "        text-align: right;\n",
       "    }\n",
       "</style>\n",
       "<table border=\"1\" class=\"dataframe\">\n",
       "  <thead>\n",
       "    <tr style=\"text-align: right;\">\n",
       "      <th></th>\n",
       "      <th>id</th>\n",
       "      <th>question_text</th>\n",
       "      <th>answers</th>\n",
       "    </tr>\n",
       "  </thead>\n",
       "  <tbody>\n",
       "    <tr>\n",
       "      <th>0</th>\n",
       "      <td>496955121539262633-33</td>\n",
       "      <td>dimanakah  Dr. Ernest François Eugène Douwes Dekker meninggal?</td>\n",
       "      <td>{'text': ['28 Agustus 1950'], 'start_byte': [45], 'limit_byte': [60]}</td>\n",
       "    </tr>\n",
       "    <tr>\n",
       "      <th>3</th>\n",
       "      <td>-2609773390563272077-2</td>\n",
       "      <td>Dimanakah Kucing Pallas pertama kali ditemukan ?</td>\n",
       "      <td>{'text': ['2008'], 'start_byte': [961], 'limit_byte': [965]}</td>\n",
       "    </tr>\n",
       "    <tr>\n",
       "      <th>24</th>\n",
       "      <td>-946255727274322126-4</td>\n",
       "      <td>dimanakah Joseph Patrick \"Joe\" Kennedy dilahirkan?</td>\n",
       "      <td>{'text': ['1858'], 'start_byte': [318], 'limit_byte': [322]}</td>\n",
       "    </tr>\n",
       "    <tr>\n",
       "      <th>28</th>\n",
       "      <td>-7749839855121808364-0</td>\n",
       "      <td>Dimanakah produksi film pertama dilakukan ?</td>\n",
       "      <td>{'text': ['abad 20'], 'start_byte': [434], 'limit_byte': [441]}</td>\n",
       "    </tr>\n",
       "    <tr>\n",
       "      <th>33</th>\n",
       "      <td>4442256442092795257-8</td>\n",
       "      <td>dimanakah Fiber optik pertama kali diciptakan?</td>\n",
       "      <td>{'text': ['1970'], 'start_byte': [2952], 'limit_byte': [2956]}</td>\n",
       "    </tr>\n",
       "  </tbody>\n",
       "</table>\n",
       "</div>"
      ],
      "text/plain": [
       "                        id  \\\n",
       "0    496955121539262633-33   \n",
       "3   -2609773390563272077-2   \n",
       "24   -946255727274322126-4   \n",
       "28  -7749839855121808364-0   \n",
       "33   4442256442092795257-8   \n",
       "\n",
       "                                                     question_text  \\\n",
       "0   dimanakah  Dr. Ernest François Eugène Douwes Dekker meninggal?   \n",
       "3                 Dimanakah Kucing Pallas pertama kali ditemukan ?   \n",
       "24              dimanakah Joseph Patrick \"Joe\" Kennedy dilahirkan?   \n",
       "28                     Dimanakah produksi film pertama dilakukan ?   \n",
       "33                  dimanakah Fiber optik pertama kali diciptakan?   \n",
       "\n",
       "                                                                  answers  \n",
       "0   {'text': ['28 Agustus 1950'], 'start_byte': [45], 'limit_byte': [60]}  \n",
       "3            {'text': ['2008'], 'start_byte': [961], 'limit_byte': [965]}  \n",
       "24           {'text': ['1858'], 'start_byte': [318], 'limit_byte': [322]}  \n",
       "28        {'text': ['abad 20'], 'start_byte': [434], 'limit_byte': [441]}  \n",
       "33         {'text': ['1970'], 'start_byte': [2952], 'limit_byte': [2956]}  "
      ]
     },
     "execution_count": 15,
     "metadata": {},
     "output_type": "execute_result"
    }
   ],
   "source": [
    "\n",
    "# List ID yang ingin dicari\n",
    "target_ids = [\n",
    "    '496955121539262633-33', '-2609773390563272077-2', '-946255727274322126-4', \n",
    "    '-7749839855121808364-0', '4442256442092795257-8', '199208750651388504-2', \n",
    "    '6542172453366557069-7', '4919195816976139224-0', '1443260107176351473-1', \n",
    "    '6273515731581201009-9', '-7557435993194156840-18', '-5596213448756892216-7',  \n",
    "    '-515183342052641630-0', '-4344805552053190465-2', '-1356951969628235591-3', \n",
    "    '132761720256571903-0', '733277053417590077-0', '8422091779176670015-4'\n",
    "]\n",
    "\n",
    "# Filter baris di mana kolom 'id' ada dalam target_ids\n",
    "wrong_where_q = filtered_df[filtered_df['id'].isin(target_ids)]\n",
    "num_wrong_where_q = wrong_where_q.shape[0]\n",
    "print(\"Jumlah row yg pertanyaan 'Dimana' malah dijawab dengan jawaban waktu:\", num_wrong_where_q)\n",
    "\n",
    "percent_of_wrong_where_q = num_wrong_where_q * 100 / filtered_df.shape[0]\n",
    "print(\"Persentase terhadap seluruh pertanyaan 'Dimana':\", percent_of_wrong_where_q)\n",
    "\n",
    "wrong_where_q.head()"
   ]
  },
  {
   "cell_type": "code",
   "execution_count": null,
   "metadata": {},
   "outputs": [],
   "source": []
  }
 ],
 "metadata": {
  "kernelspec": {
   "display_name": "cuda_12-4",
   "language": "python",
   "name": "python3"
  },
  "language_info": {
   "codemirror_mode": {
    "name": "ipython",
    "version": 3
   },
   "file_extension": ".py",
   "mimetype": "text/x-python",
   "name": "python",
   "nbconvert_exporter": "python",
   "pygments_lexer": "ipython3",
   "version": "3.12.7"
  }
 },
 "nbformat": 4,
 "nbformat_minor": 2
}
