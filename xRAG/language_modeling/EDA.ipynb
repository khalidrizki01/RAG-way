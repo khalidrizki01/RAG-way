{
 "cells": [
  {
   "cell_type": "code",
   "execution_count": null,
   "id": "2ebdf3b4",
   "metadata": {},
   "outputs": [],
   "source": [
    "from transformers import set_seed\n",
    "set_seed(42)"
   ]
  },
  {
   "cell_type": "markdown",
   "id": "94b45175",
   "metadata": {},
   "source": [
    "# Load Models"
   ]
  },
  {
   "cell_type": "markdown",
   "id": "0e141aaf",
   "metadata": {},
   "source": [
    "##  Projector (independen)"
   ]
  },
  {
   "cell_type": "code",
   "execution_count": null,
   "id": "8250cebd",
   "metadata": {},
   "outputs": [],
   "source": [
    "import torch\n",
    "projector_ckpt = torch.load(\"../output/finetuned/2025-07-19_projector_learningrate_1e-3/projector_checkpoints/epoch_10/projector.pth\")\n",
    "projector_ckpt"
   ]
  },
  {
   "cell_type": "markdown",
   "id": "a1facb2b",
   "metadata": {},
   "source": [
    "## Qwen3"
   ]
  },
  {
   "cell_type": "code",
   "execution_count": null,
   "id": "bf863b47",
   "metadata": {},
   "outputs": [],
   "source": [
    "import sys\n",
    "sys.path.append('..')\n",
    "from transformers import AutoConfig\n",
    "from model.xQwen3 import XQwen3Config, XQwen3ForCausalLM\n",
    "model_name_or_path  = \"Qwen/Qwen3-1.7B\"\n",
    "config = XQwen3Config.from_pretrained(model_name_or_path, retriever_hidden_size=384)\n",
    "fresh_model = XQwen3ForCausalLM.from_pretrained(  # XLlamaForCausalLM\n",
    "    model_name_or_path,\n",
    "    config=config,\n",
    "    torch_dtype = 'bfloat16'\n",
    ").to(\"cuda:0\")"
   ]
  },
  {
   "cell_type": "markdown",
   "id": "fe35fbe7",
   "metadata": {},
   "source": [
    "## Xqwen3 (projector+qwen3 sepaket)"
   ]
  },
  {
   "cell_type": "code",
   "execution_count": null,
   "id": "88e41e28",
   "metadata": {},
   "outputs": [],
   "source": [
    "import torch\n",
    "import sys\n",
    "sys.path.append('..')\n",
    "from model.xQwen3 import XQwen3Config, XQwen3ForCausalLM\n",
    "\n",
    "# Model hasil fine-tuning\n",
    "finetuned_model = XQwen3ForCausalLM.from_pretrained(\n",
    "    \"../output/finetuned/2025-07-19_projector_learningrate_1e-3/finished_model\",\n",
    "    torch_dtype=torch.bfloat16\n",
    ").to(\"cuda:0\")"
   ]
  },
  {
   "cell_type": "markdown",
   "id": "24691b06",
   "metadata": {},
   "source": [
    "# EDA"
   ]
  },
  {
   "cell_type": "markdown",
   "id": "346932be",
   "metadata": {},
   "source": [
    "## Membuktikan bahwa yang fresh dgn finetuned berbeda (finetuning berhasil)"
   ]
  },
  {
   "cell_type": "code",
   "execution_count": null,
   "id": "f49b231c",
   "metadata": {},
   "outputs": [],
   "source": [
    "layers_to_check = [\n",
    "    \"projector.projector.0.weight\",\n",
    "    \"projector.projector.0.bias\",\n",
    "    \"projector.projector.2.weight\",\n",
    "    \"projector.projector.2.bias\",\n",
    "]\n",
    "\n",
    "for layer in layers_to_check:\n",
    "    finetuned_tensor = dict(finetuned_model.named_parameters())[layer].detach().cpu().float()\n",
    "    fresh_tensor = dict(fresh_model.named_parameters())[layer].detach().cpu().float()\n",
    "\n",
    "    is_equal = torch.allclose(finetuned_tensor, fresh_tensor, atol=1e-6)\n",
    "    max_diff = torch.max(torch.abs(finetuned_tensor - fresh_tensor)).item()\n",
    "\n",
    "    print(f\"{layer}:\")\n",
    "    print(f\"  ➤ Equal? {is_equal}\")\n",
    "    print(f\"  ➤ Max abs diff: {max_diff:.6f}\")\n"
   ]
  },
  {
   "cell_type": "markdown",
   "id": "e562723e",
   "metadata": {},
   "source": [
    "### Membuktikan bahwa bisa me-load projector finetuned ke xqwen3"
   ]
  },
  {
   "cell_type": "code",
   "execution_count": null,
   "id": "e9f214d6",
   "metadata": {},
   "outputs": [],
   "source": [
    "fresh_projector_state = {\n",
    "    k: v.detach().clone().cpu().float() \n",
    "    for k, v in fresh_model.projector.projector.state_dict().items()\n",
    "}\n",
    "fresh_projector_state.keys()\n",
    "\n",
    "# Langkah 3: Injeksi ke dalam model\n",
    "fresh_model.projector.projector.load_state_dict(projector_ckpt)"
   ]
  },
  {
   "cell_type": "code",
   "execution_count": null,
   "id": "d7b9d317",
   "metadata": {},
   "outputs": [],
   "source": [
    "print(\"Perbandingan bobot projector fresh vs yang sudah difinetuned:\")\n",
    "for name in projector_ckpt:\n",
    "    before = fresh_projector_state[name]\n",
    "    after = fresh_model.projector.projector.state_dict()[name].detach().cpu().float()\n",
    "\n",
    "    if torch.allclose(before, after, atol=1e-6):\n",
    "        print(f\"  🔁 {name}: ❌ TIDAK berubah\")\n",
    "    else:\n",
    "        diff = torch.max(torch.abs(before - after)).item()\n",
    "        print(f\"  ✅ {name}: BERUBAH (max abs diff: {diff:.6f})\")"
   ]
  },
  {
   "cell_type": "markdown",
   "id": "ce4c0f4c",
   "metadata": {},
   "source": []
  }
 ],
 "metadata": {
  "kernelspec": {
   "display_name": "recomp",
   "language": "python",
   "name": "python3"
  },
  "language_info": {
   "codemirror_mode": {
    "name": "ipython",
    "version": 3
   },
   "file_extension": ".py",
   "mimetype": "text/x-python",
   "name": "python",
   "nbconvert_exporter": "python",
   "pygments_lexer": "ipython3",
   "version": "3.12.3"
  }
 },
 "nbformat": 4,
 "nbformat_minor": 5
}
