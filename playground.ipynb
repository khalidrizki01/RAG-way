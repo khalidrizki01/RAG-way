{
 "cells": [
  {
   "cell_type": "markdown",
   "metadata": {},
   "source": [
    "# PLAYGROUND NOTEBOOK\n",
    "Notebook untuk mengecek kode yang telah dibuat"
   ]
  },
  {
   "cell_type": "markdown",
   "metadata": {},
   "source": [
    "### Cek CUDA"
   ]
  },
  {
   "cell_type": "code",
   "execution_count": 3,
   "metadata": {},
   "outputs": [
    {
     "name": "stdout",
     "output_type": "stream",
     "text": [
      "Current active GPU: 0 (NVIDIA GeForce RTX 4050 Laptop GPU)\n",
      "Tensor is on device: cuda:0\n"
     ]
    }
   ],
   "source": [
    "import torch\n",
    "\n",
    "# Cek GPU yang sedang aktif (default)\n",
    "current_device = torch.cuda.current_device()\n",
    "print(f\"Current active GPU: {current_device} ({torch.cuda.get_device_name(current_device)})\")\n",
    "\n",
    "# Pindahkan tensor ke GPU tertentu\n",
    "tensor = torch.tensor([1, 2, 3])\n",
    "gpu_tensor = tensor.to(f'cuda:{current_device}')\n",
    "print(f\"Tensor is on device: {gpu_tensor.device}\")"
   ]
  },
  {
   "cell_type": "code",
   "execution_count": 4,
   "metadata": {},
   "outputs": [],
   "source": [
    "# GPU yang digunakan\n",
    "def check_gpu():\n",
    "    device = torch.device(\"cuda:0\")\n",
    "\n",
    "    # Total memori GPU\n",
    "    total_memory = torch.cuda.get_device_properties(device).total_memory / (1024 ** 3)  # Dalam GB\n",
    "    print(f\"Total GPU Memory: {total_memory:.2f} GB\")\n",
    "\n",
    "    # Memori yang sudah dialokasikan oleh PyTorch\n",
    "    allocated_memory = torch.cuda.memory_allocated(device) / (1024 ** 3)  # Dalam GB\n",
    "    print(f\"Allocated GPU Memory: {allocated_memory:.2f} GB\")\n",
    "\n",
    "    max_reserved_memory = torch.cuda.max_memory_reserved(device) / (1024 ** 3)  # Dalam GB\n",
    "    print(f\"Max Reserved GPU Memory: {max_reserved_memory:.2f} GB\")\n",
    "\n",
    "    # Memori GPU yang dicadangkan oleh PyTorch\n",
    "    reserved_memory = torch.cuda.memory_reserved(device) / (1024 ** 3)  # Dalam GB\n",
    "    print(f\"Reserved GPU Memory: {reserved_memory:.2f} GB\")\n",
    "\n",
    "    # Memori GPU yang tersedia\n",
    "    free_memory = reserved_memory - allocated_memory\n",
    "    print(f\"Free GPU Memory: {free_memory:.2f} GB\")"
   ]
  },
  {
   "cell_type": "code",
   "execution_count": 5,
   "metadata": {},
   "outputs": [
    {
     "name": "stdout",
     "output_type": "stream",
     "text": [
      "Total GPU Memory: 6.00 GB\n",
      "Allocated GPU Memory: 5.98 GB\n",
      "Max Reserved GPU Memory: 6.03 GB\n",
      "Reserved GPU Memory: 6.03 GB\n",
      "Free GPU Memory: 0.04 GB\n"
     ]
    }
   ],
   "source": [
    "### before cleaning cache and before loading embedding model\n",
    "check_gpu()"
   ]
  },
  {
   "cell_type": "code",
   "execution_count": 11,
   "metadata": {},
   "outputs": [
    {
     "name": "stdout",
     "output_type": "stream",
     "text": [
      "Total GPU Memory: 6.00 GB\n",
      "Allocated GPU Memory: 0.53 GB\n",
      "Max Reserved GPU Memory: 11.37 GB\n",
      "Reserved GPU Memory: 0.55 GB\n",
      "Free GPU Memory: 0.02 GB\n"
     ]
    }
   ],
   "source": [
    "# After loading embedding model, but before executing embedding on input texts\n",
    "check_gpu()"
   ]
  },
  {
   "cell_type": "code",
   "execution_count": 18,
   "metadata": {},
   "outputs": [],
   "source": [
    "# Clean cuda GPU cache\n",
    "torch.cuda.empty_cache()"
   ]
  },
  {
   "cell_type": "code",
   "execution_count": 26,
   "metadata": {},
   "outputs": [
    {
     "name": "stdout",
     "output_type": "stream",
     "text": [
      "Total GPU Memory: 6.00 GB\n",
      "Allocated GPU Memory: 2.84 GB\n",
      "Max Reserved GPU Memory: 11.37 GB\n",
      "Reserved GPU Memory: 3.15 GB\n",
      "Free GPU Memory: 0.31 GB\n"
     ]
    }
   ],
   "source": [
    "# setelah menjalankan program\n",
    "check_gpu()"
   ]
  },
  {
   "cell_type": "markdown",
   "metadata": {},
   "source": [
    "### Import library dan load model utk generasi"
   ]
  },
  {
   "cell_type": "code",
   "execution_count": 1,
   "metadata": {},
   "outputs": [],
   "source": [
    "import pandas as pd\n",
    "from utils import load_model_and_tokenizer\n",
    "from transformers import AutoTokenizer, AutoModel\n",
    "import os\n",
    "os.environ[\"PYTORCH_CUDA_ALLOC_CONF\"] = \"expandable_segments:True\"\n",
    "pd.set_option('display.max_colwidth', None)"
   ]
  },
  {
   "cell_type": "code",
   "execution_count": 2,
   "metadata": {},
   "outputs": [],
   "source": [
    "# # Muat tokenizer dan model\n",
    "# embedding_id = 'intfloat/multilingual-e5-base'\n",
    "# embedding_tokenizer = AutoTokenizer.from_pretrained(embedding_id)\n",
    "# embedding_model = AutoModel.from_pretrained(embedding_id, torch_dtype=torch.float16)\n",
    "# embedding_model = embedding_model.to(\"cuda:0\")"
   ]
  },
  {
   "cell_type": "code",
   "execution_count": 2,
   "metadata": {},
   "outputs": [
    {
     "name": "stdout",
     "output_type": "stream",
     "text": [
      "Loading model on cuda with torch.float16\n"
     ]
    },
    {
     "data": {
      "application/vnd.jupyter.widget-view+json": {
       "model_id": "285580db9442470881d11b00719ab6a0",
       "version_major": 2,
       "version_minor": 0
      },
      "text/plain": [
       "Loading checkpoint shards:   0%|          | 0/2 [00:00<?, ?it/s]"
      ]
     },
     "metadata": {},
     "output_type": "display_data"
    },
    {
     "name": "stderr",
     "output_type": "stream",
     "text": [
      "c:\\Users\\LENOVO\\anaconda3\\envs\\cuda_12-4\\Lib\\site-packages\\torch\\nn\\modules\\module.py:1326: UserWarning: expandable_segments not supported on this platform (Triggered internally at C:\\cb\\pytorch_1000000000000\\work\\c10/cuda/CUDAAllocatorConfig.h:28.)\n",
      "  return t.to(\n"
     ]
    }
   ],
   "source": [
    "# llama32_results = pd.read_json(\"meta-llama_Llama-3.2-1B-Instruct-50_results.json\")\n",
    "# model_name = \"meta-llama/Llama-3.2-1B-Instruct\"\n",
    "model_name = \"meta-llama/Llama-3.2-3B-Instruct\"\n",
    "model, tokenizer, config = load_model_and_tokenizer(model_name)"
   ]
  },
  {
   "cell_type": "code",
   "execution_count": 3,
   "metadata": {},
   "outputs": [
    {
     "name": "stdout",
     "output_type": "stream",
     "text": [
      "Model device: cuda:0\n",
      "Allocated GPU Memory: 5.98 GB\n",
      "Reserved GPU Memory: 6.03 GB\n"
     ]
    }
   ],
   "source": [
    "import torch\n",
    "# Cek apakah model telah berada di GPU\n",
    "print(f\"Model device: {next(model.parameters()).device}\")\n",
    "\n",
    "# Periksa penggunaan memori GPU\n",
    "print(f\"Allocated GPU Memory: {torch.cuda.memory_allocated() / (1024**3):.2f} GB\")\n",
    "print(f\"Reserved GPU Memory: {torch.cuda.memory_reserved() / (1024**3):.2f} GB\")"
   ]
  },
  {
   "cell_type": "markdown",
   "metadata": {},
   "source": [
    "## Cek Prioritas Memilih Token *Ground-Truth*"
   ]
  },
  {
   "cell_type": "markdown",
   "metadata": {},
   "source": [
    "### Explore apakah ada token x di dalam ground truth yang mana token x tersebut dihasilkan berkali-kali di *generated answer*"
   ]
  },
  {
   "cell_type": "markdown",
   "metadata": {},
   "source": [
    "menyimpan rows tersebut ke variabel *rows_with_duplicates*"
   ]
  },
  {
   "cell_type": "markdown",
   "metadata": {},
   "source": [
    "#### meta-llama_Llama-3.2-1B-Instruct-50_results (NEW version)"
   ]
  },
  {
   "cell_type": "code",
   "execution_count": 3,
   "metadata": {},
   "outputs": [],
   "source": [
    "from utils import is_groundtruth_duplicated_in_generation\n",
    "\n",
    "# Tambahkan kolom baru untuk menandai apakah ada duplikasi kata, apakah kata tersebut ada di 'answer',\n",
    "# dan daftar kata yang merupakan duplikat\n",
    "llama32_results['duplicates_in_answer'], llama32_results['duplicate_words_list'] = zip(\n",
    "    *llama32_results.apply(lambda row: is_groundtruth_duplicated_in_generation(row['generated_completion'], row['answer']), axis=1)\n",
    ")\n",
    "\n",
    "# Filter baris yang memiliki duplikasi kata\n",
    "rows_with_duplicates = llama32_results[llama32_results['duplicates_in_answer']]\n",
    "print(f\"Banyak row yang ground truth terduplikat dalam generation: {rows_with_duplicates.shape[0]}\")"
   ]
  },
  {
   "cell_type": "code",
   "execution_count": 10,
   "metadata": {},
   "outputs": [
    {
     "data": {
      "text/html": [
       "<div>\n",
       "<style scoped>\n",
       "    .dataframe tbody tr th:only-of-type {\n",
       "        vertical-align: middle;\n",
       "    }\n",
       "\n",
       "    .dataframe tbody tr th {\n",
       "        vertical-align: top;\n",
       "    }\n",
       "\n",
       "    .dataframe thead th {\n",
       "        text-align: right;\n",
       "    }\n",
       "</style>\n",
       "<table border=\"1\" class=\"dataframe\">\n",
       "  <thead>\n",
       "    <tr style=\"text-align: right;\">\n",
       "      <th></th>\n",
       "      <th>id</th>\n",
       "      <th>question</th>\n",
       "      <th>passage</th>\n",
       "      <th>generated_completion</th>\n",
       "      <th>answer</th>\n",
       "      <th>tokens</th>\n",
       "      <th>duplicate_words_list</th>\n",
       "    </tr>\n",
       "  </thead>\n",
       "  <tbody>\n",
       "    <tr>\n",
       "      <th>1</th>\n",
       "      <td>-6515196497017052077-5</td>\n",
       "      <td>Siapa arsitek Balai Kota Seoul?</td>\n",
       "      <td>Pada tanggal 18 Februari 2008, desain Yoo Kerl dari iArc terpilih dalam kompetisi desain Pemerintah Metropolitan Seoul.[6] Bagian atas depan bangunan baru ini dirancang untuk menonjol dalam bentuk lengkung. Perancang Yoo merangkul tiga kata kunci yakni \"tradisi, warga negara, dan masa depan\" dalam rancangannya, yang mencerminkan elemen horisontal dari arsitektur tradisional tingkat rendah Korea dan penafsiran ulang dari nuansa mendalam dan lekukan atap atap.[7]</td>\n",
       "      <td>Arsitek yang dirancang desain Yoo Kerl dari iArc adalah Yoo Kerl.</td>\n",
       "      <td>Yoo Kerl</td>\n",
       "      <td>[Ar, site, k, Ġyang, Ġdir, anc, ang, Ġdes, ain, ĠY, oo, ĠKer, l, Ġdari, Ġi, Arc, Ġadalah, ĠY, oo, ĠKer, l, ., &lt;|eot_id|&gt;]</td>\n",
       "      <td>[Yoo, Kerl]</td>\n",
       "    </tr>\n",
       "    <tr>\n",
       "      <th>4</th>\n",
       "      <td>7410193178422667195-3</td>\n",
       "      <td>Dimana Jamie Richard Vardy lahir?</td>\n",
       "      <td>Lahir di Sheffield, South Yorkshire, Vardy memulai kariernya di tim muda Stocksbridge Park Steels pada umur 16 tahun setelah dilepas Sheffield Wednesday. Ia masuk ke tim reserve dan tim utama dibawah arahan Gary Marrow tahun 2007, menerima £30 perminggu di klub. Setelah performa menakjubkannya, beberapa tim dari Football League tertarik dan tahun 2009 ia menghabiskan seminggu melakukan trial dengan Crewe Alexandra. Transfer itu tidak terjadi dan ia lalu menolak kontrak jangka pendek dengan Rotherham United.</td>\n",
       "      <td>Jamie Richard Vardy lahir di Sheffield, South Yorkshire, Inggris.</td>\n",
       "      <td>Sheffield, South Yorkshire</td>\n",
       "      <td>[J, am, ie, ĠRichard, ĠV, ardy, Ġla, hir, Ġdi, ĠSheffield, ,, ĠSouth, ĠYorkshire, ,, ĠIng, gr, is, ., &lt;|eot_id|&gt;]</td>\n",
       "      <td>[,]</td>\n",
       "    </tr>\n",
       "    <tr>\n",
       "      <th>5</th>\n",
       "      <td>7176612552296612393-4</td>\n",
       "      <td>siapakah orang tua John Fitzgerald Kennedy?</td>\n",
       "      <td>John Fitzgerald Kennedy lahir di 83 Beals Street, Brookline, Massachusetts, pada tanggal 29 Mei 1917[10] dari pasangan pebisnis/politikus Joseph Patrick \"Joe\" Kennedy, Sr. (1888–1969) dan filantropis Rose Elizabeth Fitzgerald (1890–1995). Joe adalah putra sulung pebisnis/politikus Patrick Joseph \"P. J.\" Kennedy (1858–1929) dan Mary Augusta Hickey (1857–1923). Rose adalah putri sulung Wali Kota Boston John Francis \"Honey Fitz\" Fitzgerald (1863–1950) dan Mary Josephine \"Josie\" Hannon (1865–1964). Keempat kakek-neneknya adalah anak-anak imigran Irlandia.[1]</td>\n",
       "      <td>Menurut teks, Joseph Patrick \"Joe\" Kennedy, Sr. adalah ayah John Fitzgerald Kennedy, sedangkan Rose Elizabeth Fitzgerald adalah ibu.</td>\n",
       "      <td>Joseph Patrick \"Joe\" Kennedy, Sr. (1888–1969) dan filantropis Rose Elizabeth Fitzgerald</td>\n",
       "      <td>[Men, ur, ut, Ġte, ks, ,, ĠJoseph, ĠPatrick, Ġ\", Joe, \", ĠKennedy, ,, ĠSr, ., Ġadalah, Ġay, ah, ĠJohn, ĠFitzgerald, ĠKennedy, ,, Ġsed, angkan, ĠRose, ĠElizabeth, ĠFitzgerald, Ġadalah, Ġib, u, ., &lt;|eot_id|&gt;]</td>\n",
       "      <td>[,, \", Kennedy, Fitzgerald, .]</td>\n",
       "    </tr>\n",
       "  </tbody>\n",
       "</table>\n",
       "</div>"
      ],
      "text/plain": [
       "                       id                                     question  \\\n",
       "1  -6515196497017052077-5              Siapa arsitek Balai Kota Seoul?   \n",
       "4   7410193178422667195-3            Dimana Jamie Richard Vardy lahir?   \n",
       "5   7176612552296612393-4  siapakah orang tua John Fitzgerald Kennedy?   \n",
       "\n",
       "                                                                                                                                                                                                                                                                                                                                                                                                                                                                                                                                                                            passage  \\\n",
       "1                                                                                                 Pada tanggal 18 Februari 2008, desain Yoo Kerl dari iArc terpilih dalam kompetisi desain Pemerintah Metropolitan Seoul.[6] Bagian atas depan bangunan baru ini dirancang untuk menonjol dalam bentuk lengkung. Perancang Yoo merangkul tiga kata kunci yakni \"tradisi, warga negara, dan masa depan\" dalam rancangannya, yang mencerminkan elemen horisontal dari arsitektur tradisional tingkat rendah Korea dan penafsiran ulang dari nuansa mendalam dan lekukan atap atap.[7]   \n",
       "4                                                  Lahir di Sheffield, South Yorkshire, Vardy memulai kariernya di tim muda Stocksbridge Park Steels pada umur 16 tahun setelah dilepas Sheffield Wednesday. Ia masuk ke tim reserve dan tim utama dibawah arahan Gary Marrow tahun 2007, menerima £30 perminggu di klub. Setelah performa menakjubkannya, beberapa tim dari Football League tertarik dan tahun 2009 ia menghabiskan seminggu melakukan trial dengan Crewe Alexandra. Transfer itu tidak terjadi dan ia lalu menolak kontrak jangka pendek dengan Rotherham United.   \n",
       "5  John Fitzgerald Kennedy lahir di 83 Beals Street, Brookline, Massachusetts, pada tanggal 29 Mei 1917[10] dari pasangan pebisnis/politikus Joseph Patrick \"Joe\" Kennedy, Sr. (1888–1969) dan filantropis Rose Elizabeth Fitzgerald (1890–1995). Joe adalah putra sulung pebisnis/politikus Patrick Joseph \"P. J.\" Kennedy (1858–1929) dan Mary Augusta Hickey (1857–1923). Rose adalah putri sulung Wali Kota Boston John Francis \"Honey Fitz\" Fitzgerald (1863–1950) dan Mary Josephine \"Josie\" Hannon (1865–1964). Keempat kakek-neneknya adalah anak-anak imigran Irlandia.[1]   \n",
       "\n",
       "                                                                                                                   generated_completion  \\\n",
       "1                                                                     Arsitek yang dirancang desain Yoo Kerl dari iArc adalah Yoo Kerl.   \n",
       "4                                                                     Jamie Richard Vardy lahir di Sheffield, South Yorkshire, Inggris.   \n",
       "5  Menurut teks, Joseph Patrick \"Joe\" Kennedy, Sr. adalah ayah John Fitzgerald Kennedy, sedangkan Rose Elizabeth Fitzgerald adalah ibu.   \n",
       "\n",
       "                                                                                    answer  \\\n",
       "1                                                                                 Yoo Kerl   \n",
       "4                                                               Sheffield, South Yorkshire   \n",
       "5  Joseph Patrick \"Joe\" Kennedy, Sr. (1888–1969) dan filantropis Rose Elizabeth Fitzgerald   \n",
       "\n",
       "                                                                                                                                                                                                           tokens  \\\n",
       "1                                                                                       [Ar, site, k, Ġyang, Ġdir, anc, ang, Ġdes, ain, ĠY, oo, ĠKer, l, Ġdari, Ġi, Arc, Ġadalah, ĠY, oo, ĠKer, l, ., <|eot_id|>]   \n",
       "4                                                                                               [J, am, ie, ĠRichard, ĠV, ardy, Ġla, hir, Ġdi, ĠSheffield, ,, ĠSouth, ĠYorkshire, ,, ĠIng, gr, is, ., <|eot_id|>]   \n",
       "5  [Men, ur, ut, Ġte, ks, ,, ĠJoseph, ĠPatrick, Ġ\", Joe, \", ĠKennedy, ,, ĠSr, ., Ġadalah, Ġay, ah, ĠJohn, ĠFitzgerald, ĠKennedy, ,, Ġsed, angkan, ĠRose, ĠElizabeth, ĠFitzgerald, Ġadalah, Ġib, u, ., <|eot_id|>]   \n",
       "\n",
       "             duplicate_words_list  \n",
       "1                     [Yoo, Kerl]  \n",
       "4                             [,]  \n",
       "5  [,, \", Kennedy, Fitzgerald, .]  "
      ]
     },
     "execution_count": 10,
     "metadata": {},
     "output_type": "execute_result"
    }
   ],
   "source": [
    "rows_with_duplicates[['id', 'question', 'passage', 'generated_completion', 'answer','tokens', 'duplicate_words_list']].head(3)"
   ]
  },
  {
   "cell_type": "markdown",
   "metadata": {},
   "source": [
    "### Memahami kode retrieve_correct_token_logprobs"
   ]
  },
  {
   "cell_type": "markdown",
   "metadata": {},
   "source": [
    "#### llama_32_1B_50_pairs (OLD version)"
   ]
  },
  {
   "cell_type": "code",
   "execution_count": 3,
   "metadata": {},
   "outputs": [
    {
     "data": {
      "text/html": [
       "<div>\n",
       "<style scoped>\n",
       "    .dataframe tbody tr th:only-of-type {\n",
       "        vertical-align: middle;\n",
       "    }\n",
       "\n",
       "    .dataframe tbody tr th {\n",
       "        vertical-align: top;\n",
       "    }\n",
       "\n",
       "    .dataframe thead th {\n",
       "        text-align: right;\n",
       "    }\n",
       "</style>\n",
       "<table border=\"1\" class=\"dataframe\">\n",
       "  <thead>\n",
       "    <tr style=\"text-align: right;\">\n",
       "      <th></th>\n",
       "      <th>id</th>\n",
       "      <th>question</th>\n",
       "      <th>generated_completion</th>\n",
       "      <th>answer</th>\n",
       "    </tr>\n",
       "  </thead>\n",
       "  <tbody>\n",
       "    <tr>\n",
       "      <th>46</th>\n",
       "      <td>8223462044041100059-0</td>\n",
       "      <td>Dimana letak daerah \"Pardembanan\"?</td>\n",
       "      <td>Maaf, saya tidak bisa memberikan informasi tentang lokasi \"Pardembanan\" karena tidak ada informasi yang lengkap tentang daerah tersebut. Namun, saya bisa memberikan informasi umum tentang Kabupaten Asahan,</td>\n",
       "      <td>Kabupaten Asahan, Sumatera Utara, Indonesia</td>\n",
       "    </tr>\n",
       "  </tbody>\n",
       "</table>\n",
       "</div>"
      ],
      "text/plain": [
       "                       id                            question  \\\n",
       "46  8223462044041100059-0  Dimana letak daerah \"Pardembanan\"?   \n",
       "\n",
       "                                                                                                                                                                                             generated_completion  \\\n",
       "46  Maaf, saya tidak bisa memberikan informasi tentang lokasi \"Pardembanan\" karena tidak ada informasi yang lengkap tentang daerah tersebut. Namun, saya bisa memberikan informasi umum tentang Kabupaten Asahan,   \n",
       "\n",
       "                                         answer  \n",
       "46  Kabupaten Asahan, Sumatera Utara, Indonesia  "
      ]
     },
     "execution_count": 3,
     "metadata": {},
     "output_type": "execute_result"
    }
   ],
   "source": [
    "results = pd.read_json(\"llama_32_1B_50_pairs.json\")\n",
    "row = results.loc[[46], :].copy()\n",
    "row[[\"id\", \"question\", \"generated_completion\", \"answer\"]]"
   ]
  },
  {
   "cell_type": "code",
   "execution_count": 4,
   "metadata": {},
   "outputs": [],
   "source": [
    "from retrieve_logprobs import retrieve_correct_token_logprobs\n",
    "row_updated = retrieve_correct_token_logprobs(row, tokenizer)"
   ]
  },
  {
   "cell_type": "code",
   "execution_count": 6,
   "metadata": {},
   "outputs": [
    {
     "data": {
      "text/plain": [
       "46    {' Kab': -2.058924436569214, 'upaten': -3.707477662828751e-05, ' As': -6.55653229841846e-06, 'ahan': -2.145769485650817e-06, ',': -1.106772899627685, 'Sum': None, 'ater': None, 'a': None, 'Ut': None, 'ara': None, 'Ind': None, 'onesia': None}\n",
       "Name: answer_logprobs, dtype: object"
      ]
     },
     "execution_count": 6,
     "metadata": {},
     "output_type": "execute_result"
    }
   ],
   "source": [
    "row_updated['answer_logprobs']"
   ]
  },
  {
   "cell_type": "markdown",
   "metadata": {},
   "source": [
    "## Prototipe membuat dataset"
   ]
  },
  {
   "cell_type": "markdown",
   "metadata": {},
   "source": [
    "### Memilih subset dari TyDi QA"
   ]
  },
  {
   "cell_type": "markdown",
   "metadata": {},
   "source": [
    "#### Load dataset"
   ]
  },
  {
   "cell_type": "code",
   "execution_count": 1,
   "metadata": {},
   "outputs": [],
   "source": [
    "from datasets import load_dataset\n",
    "\n",
    "tydiqa_gold = load_dataset(\"khalidalt/tydiqa-goldp\", 'indonesian', trust_remote_code=True)\n",
    "mr_tydi = load_dataset(\"castorini/mr-tydi\", \"indonesian\")"
   ]
  },
  {
   "cell_type": "code",
   "execution_count": 4,
   "metadata": {},
   "outputs": [
    {
     "data": {
      "text/plain": [
       "DatasetDict({\n",
       "    train: Dataset({\n",
       "        features: ['id', 'language', 'document_title', 'passage_text', 'question_text', 'answers'],\n",
       "        num_rows: 5702\n",
       "    })\n",
       "    validation: Dataset({\n",
       "        features: ['id', 'language', 'document_title', 'passage_text', 'question_text', 'answers'],\n",
       "        num_rows: 565\n",
       "    })\n",
       "})"
      ]
     },
     "execution_count": 4,
     "metadata": {},
     "output_type": "execute_result"
    }
   ],
   "source": [
    "tydiqa_gold"
   ]
  },
  {
   "cell_type": "markdown",
   "metadata": {},
   "source": [
    "#### Filtering untuk row dimana jawaban tidak terlalu panjang (tidak lebih dari 6 kata)"
   ]
  },
  {
   "cell_type": "code",
   "execution_count": 12,
   "metadata": {},
   "outputs": [],
   "source": [
    "# import json \n",
    "\n",
    "# Fungsi untuk memeriksa jumlah kata dalam key 'text'\n",
    "def filter_short_answers(example):\n",
    "    # Ambil jawaban pertama dari list 'text' (jika ada) dan hitung jumlah katanya\n",
    "    text = example['answers']['text']\n",
    "    if text:  # Pastikan tidak kosong\n",
    "        return len(text[0].split()) <= 6\n",
    "    return False\n",
    "\n",
    "# Filter dataset train untuk mengambil hanya baris dengan key 'text' <= 6 kata\n",
    "filtered_train = tydiqa_gold['train'].filter(filter_short_answers)\n",
    "\n",
    "# filtered_train = load_dataset('json', data_files=\"tydiqa_answer_less_than_six_words.json\")\n",
    "\n",
    "# Konversi dataset ke list of dictionaries\n",
    "filtered_train_as_list = [dict(row) for row in filtered_train]\n",
    "\n",
    "# Simpan ke file JSON\n",
    "# with open(\"tydiqa_answer_less_than_six_words.json\", \"w\", encoding=\"utf-8\") as f:\n",
    "#     json.dump(filtered_train_as_list, f, indent=4, ensure_ascii=False)"
   ]
  },
  {
   "cell_type": "markdown",
   "metadata": {},
   "source": [
    "Karena dataset mr tydi hanya memiliki data positive_passages dan negative_passages utk split train, maka akan difilter dulu row di mr-tydi-split-train lalu filter kembali untuk tydiqa-split-train"
   ]
  },
  {
   "cell_type": "code",
   "execution_count": 13,
   "metadata": {},
   "outputs": [
    {
     "data": {
      "application/vnd.jupyter.widget-view+json": {
       "model_id": "50e8c053a10e46bcab91a1ea816a36f6",
       "version_major": 2,
       "version_minor": 0
      },
      "text/plain": [
       "Filter:   0%|          | 0/4902 [00:00<?, ? examples/s]"
      ]
     },
     "metadata": {},
     "output_type": "display_data"
    }
   ],
   "source": [
    "all_train_questions = set(row[\"question_text\"] for row in filtered_train)\n",
    "\n",
    "# Fungsi untuk mencocokkan query di mr_tydi dengan all_train_questions di tydiqa_gold\n",
    "def filter_mr_tydi_to_the_six_word_answers(example):\n",
    "    return example[\"query\"] in all_train_questions\n",
    "\n",
    "# Filter semua split di mr_tydi berdasarkan query yang cocok\n",
    "six_words_anwers_mr_tydi_train = mr_tydi[\"train\"].filter(filter_mr_tydi_to_the_six_word_answers)"
   ]
  },
  {
   "cell_type": "code",
   "execution_count": 14,
   "metadata": {},
   "outputs": [],
   "source": [
    "all_retrieval_questions = set(row[\"query\"] for row in six_words_anwers_mr_tydi_train)\n",
    "\n",
    "# Fungsi untuk mencocokkan query di mr_tydi dengan question_text di tydiqa_gold\n",
    "def filter_tydiqa_to_the_six_word_answers(example):\n",
    "    return example[\"question_text\"] in all_retrieval_questions\n",
    "\n",
    "# Filter semua split di mr_tydi berdasarkan query yang cocok\n",
    "six_words_anwers_tydiqa_train = tydiqa_gold[\"train\"].filter(filter_tydiqa_to_the_six_word_answers)"
   ]
  },
  {
   "cell_type": "code",
   "execution_count": 15,
   "metadata": {},
   "outputs": [
    {
     "name": "stdout",
     "output_type": "stream",
     "text": [
      "Distribusi Positive Passages:\n",
      "1 valid passages: 3539 rows\n",
      "Query IDs: ['0', '1', '2', '6', '7', '8', '9', '12', '13', '14', '16', '18', '20', '23', '26', '28', '29', '31', '33', '36', '38', '39', '40', '42', '43', '44', '45', '47', '48', '49', '51', '54', '56', '57', '59', '61', '63', '64', '66', '67', '68', '69', '70', '71', '73', '74', '75', '77', '80', '83', '84', '85', '87', '89', '90', '91', '93', '94', '97', '101', '102', '104', '105', '106', '107', '110', '112', '114', '115', '117', '118', '119', '120', '122', '124', '130', '132', '135', '137', '139', '141', '142', '143', '146', '147', '148', '152', '154', '158', '160', '162', '164', '166', '168', '173', '174', '175', '179', '183', '184', '185', '186', '188', '189', '190', '191', '192', '193', '194', '195', '197', '200', '201', '202', '206', '207', '208', '209', '210', '212', '214', '215', '217', '221', '222', '223', '228', '230', '233', '234', '240', '242', '243', '245', '248', '249', '250', '252', '253', '255', '258', '259', '260', '261', '262', '269', '271', '273', '274', '278', '281', '283', '284', '290', '291', '294', '295', '300', '301', '303', '304', '306', '307', '308', '311', '312', '313', '314', '315', '321', '323', '330', '331', '333', '334', '335', '337', '338', '339', '340', '342', '344', '345', '347', '348', '349', '350', '352', '353', '354', '360', '362', '365', '366', '368', '371', '372', '373', '375', '376', '379', '380', '381', '383', '384', '385', '386', '387', '391', '392', '393', '395', '396', '399', '400', '401', '403', '406', '408', '410', '411', '412', '413', '414', '415', '416', '420', '421', '424', '425', '428', '431', '432', '433', '434', '435', '438', '440', '441', '442', '444', '446', '449', '451', '452', '457', '458', '459', '460', '461', '462', '464', '468', '469', '470', '471', '472', '473', '474', '476', '477', '482', '483', '485', '487', '490', '492', '493', '495', '497', '499', '501', '503', '504', '505', '507', '508', '511', '513', '514', '515', '516', '518', '519', '520', '524', '528', '529', '531', '532', '533', '534', '535', '537', '538', '540', '542', '543', '544', '546', '549', '551', '552', '553', '557', '560', '561', '562', '564', '565', '569', '570', '576', '578', '580', '582', '583', '584', '587', '588', '589', '591', '592', '594', '595', '596', '597', '599', '600', '602', '604', '606', '607', '608', '610', '612', '615', '617', '618', '619', '624', '625', '626', '629', '632', '634', '635', '637', '641', '643', '646', '647', '648', '649', '650', '651', '655', '656', '657', '658', '660', '661', '663', '664', '665', '666', '667', '671', '677', '682', '685', '686', '687', '688', '690', '691', '692', '693', '699', '703', '704', '705', '707', '710', '711', '715', '716', '717', '718', '719', '720', '722', '723', '725', '727', '728', '732', '733', '735', '738', '740', '743', '745', '748', '749', '750', '753', '755', '756', '760', '761', '762', '763', '764', '765', '766', '767', '768', '775', '783', '784', '786', '787', '790', '791', '792', '793', '796', '797', '798', '799', '800', '801', '802', '803', '806', '807', '809', '811', '812', '813', '814', '817', '818', '819', '820', '822', '825', '826', '827', '828', '829', '832', '834', '838', '839', '842', '843', '844', '848', '850', '851', '852', '853', '854', '855', '856', '857', '858', '860', '861', '863', '864', '865', '866', '870', '871', '872', '874', '878', '880', '882', '883', '884', '885', '886', '887', '888', '889', '890', '891', '892', '893', '895', '897', '898', '900', '901', '903', '906', '908', '912', '914', '915', '916', '917', '918', '920', '921', '922', '925', '926', '928', '929', '930', '931', '933', '936', '937', '939', '943', '947', '948', '949', '950', '951', '952', '953', '954', '956', '958', '960', '962', '963', '964', '969', '970', '974', '975', '976', '977', '978', '979', '982', '983', '985', '986', '987', '988', '994', '995', '996', '999', '1000', '1001', '1003', '1004', '1005', '1009', '1010', '1011', '1012', '1013', '1016', '1017', '1018', '1020', '1021', '1022', '1023', '1027', '1033', '1034', '1036', '1037', '1039', '1040', '1043', '1044', '1046', '1047', '1049', '1050', '1052', '1054', '1055', '1056', '1059', '1060', '1061', '1067', '1068', '1070', '1071', '1072', '1073', '1074', '1075', '1077', '1078', '1080', '1085', '1086', '1087', '1090', '1092', '1093', '1094', '1095', '1098', '1099', '1102', '1105', '1106', '1108', '1119', '1120', '1121', '1122', '1123', '1125', '1126', '1127', '1129', '1131', '1132', '1135', '1136', '1137', '1138', '1140', '1142', '1143', '1147', '1149', '1151', '1152', '1154', '1155', '1156', '1157', '1159', '1164', '1166', '1169', '1170', '1171', '1173', '1174', '1175', '1176', '1178', '1179', '1181', '1182', '1184', '1185', '1187', '1188', '1189', '1190', '1191', '1194', '1199', '1200', '1206', '1207', '1209', '1211', '1214', '1215', '1216', '1217', '1218', '1220', '1221', '1222', '1224', '1226', '1229', '1230', '1231', '1233', '1235', '1237', '1243', '1246', '1248', '1253', '1255', '1256', '1260', '1261', '1262', '1263', '1264', '1267', '1268', '1269', '1270', '1275', '1276', '1279', '1280', '1282', '1283', '1284', '1286', '1288', '1290', '1292', '1293', '1298', '1299', '1300', '1301', '1302', '1304', '1306', '1308', '1309', '1311', '1312', '1313', '1314', '1315', '1316', '1317', '1320', '1321', '1325', '1326', '1329', '1331', '1333', '1334', '1336', '1337', '1338', '1339', '1341', '1343', '1344', '1345', '1346', '1347', '1348', '1349', '1350', '1351', '1353', '1354', '1355', '1358', '1359', '1360', '1361', '1366', '1368', '1369', '1370', '1371', '1372', '1373', '1375', '1377', '1379', '1383', '1384', '1385', '1386', '1387', '1388', '1390', '1391', '1392', '1397', '1399', '1400', '1405', '1406', '1408', '1413', '1415', '1416', '1418', '1421', '1422', '1423', '1424', '1425', '1426', '1427', '1428', '1429', '1431', '1432', '1433', '1434', '1435', '1436', '1438', '1439', '1440', '1441', '1442', '1447', '1448', '1449', '1457', '1458', '1459', '1460', '1461', '1462', '1463', '1469', '1470', '1471', '1474', '1475', '1476', '1479', '1480', '1481', '1482', '1483', '1484', '1485', '1486', '1487', '1490', '1492', '1494', '1495', '1497', '1501', '1503', '1504', '1507', '1508', '1511', '1512', '1514', '1515', '1516', '1520', '1521', '1522', '1524', '1526', '1527', '1528', '1529', '1530', '1531', '1533', '1535', '1537', '1538', '1539', '1541', '1542', '1544', '1546', '1547', '1548', '1549', '1550', '1552', '1553', '1555', '1556', '1560', '1563', '1564', '1566', '1567', '1569', '1572', '1575', '1576', '1577', '1580', '1582', '1583', '1585', '1586', '1587', '1588', '1589', '1592', '1595', '1596', '1597', '1599', '1601', '1602', '1603', '1604', '1608', '1610', '1611', '1613', '1614', '1615', '1618', '1620', '1623', '1627', '1631', '1632', '1637', '1638', '1639', '1640', '1641', '1643', '1644', '1645', '1646', '1650', '1651', '1653', '1654', '1655', '1657', '1658', '1660', '1662', '1664', '1666', '1667', '1668', '1669', '1671', '1673', '1674', '1675', '1677', '1678', '1679', '1681', '1682', '1684', '1686', '1689', '1691', '1692', '1694', '1696', '1698', '1699', '1700', '1701', '1703', '1704', '1705', '1706', '1711', '1712', '1715', '1720', '1721', '1722', '1723', '1727', '1728', '1730', '1732', '1734', '1735', '1736', '1738', '1739', '1740', '1741', '1742', '1743', '1745', '1746', '1749', '1753', '1757', '1758', '1759', '1760', '1761', '1762', '1763', '1768', '1772', '1773', '1774', '1776', '1779', '1780', '1783', '1785', '1787', '1788', '1790', '1791', '1792', '1794', '1796', '1799', '1800', '1802', '1804', '1805', '1808', '1809', '1811', '1812', '1814', '1815', '1818', '1821', '1822', '1824', '1826', '1827', '1828', '1829', '1830', '1831', '1832', '1833', '1834', '1836', '1840', '1844', '1847', '1848', '1849', '1850', '1851', '1852', '1855', '1856', '1859', '1860', '1861', '1864', '1867', '1868', '1869', '1870', '1871', '1872', '1875', '1876', '1878', '1879', '1881', '1882', '1883', '1884', '1885', '1886', '1887', '1888', '1889', '1890', '1891', '1892', '1893', '1894', '1895', '1896', '1898', '1899', '1900', '1901', '1902', '1903', '1907', '1914', '1916', '1917', '1918', '1919', '1920', '1921', '1922', '1923', '1929', '1931', '1932', '1933', '1934', '1937', '1938', '1939', '1941', '1942', '1943', '1946', '1947', '1948', '1949', '1950', '1955', '1957', '1959', '1960', '1961', '1963', '1964', '1967', '1969', '1970', '1972', '1973', '1975', '1976', '1977', '1980', '1983', '1985', '1987', '1988', '1989', '1992', '1995', '1996', '1997', '1999', '2000', '2003', '2004', '2008', '2012', '2014', '2016', '2017', '2018', '2019', '2020', '2021', '2022', '2024', '2025', '2026', '2028', '2029', '2032', '2033', '2034', '2037', '2038', '2042', '2044', '2047', '2048', '2050', '2051', '2052', '2053', '2055', '2056', '2058', '2060', '2061', '2062', '2063', '2064', '2065', '2066', '2067', '2068', '2071', '2072', '2074', '2078', '2081', '2082', '2084', '2085', '2088', '2089', '2091', '2094', '2096', '2098', '2099', '2100', '2103', '2107', '2108', '2110', '2111', '2112', '2113', '2114', '2115', '2116', '2121', '2122', '2123', '2124', '2125', '2127', '2128', '2131', '2132', '2133', '2134', '2135', '2139', '2141', '2143', '2145', '2146', '2147', '2149', '2150', '2151', '2152', '2155', '2156', '2157', '2160', '2163', '2164', '2165', '2168', '2176', '2178', '2179', '2181', '2182', '2185', '2186', '2187', '2190', '2191', '2192', '2194', '2195', '2197', '2198', '2199', '2201', '2202', '2203', '2205', '2206', '2207', '2208', '2209', '2211', '2214', '2217', '2218', '2222', '2223', '2229', '2230', '2235', '2237', '2238', '2240', '2241', '2242', '2243', '2244', '2246', '2247', '2251', '2252', '2255', '2257', '2258', '2263', '2266', '2268', '2269', '2271', '2272', '2273', '2274', '2277', '2278', '2279', '2281', '2283', '2284', '2286', '2287', '2288', '2290', '2291', '2292', '2294', '2296', '2297', '2299', '2300', '2301', '2302', '2303', '2304', '2305', '2307', '2309', '2310', '2311', '2314', '2316', '2317', '2318', '2320', '2321', '2322', '2324', '2325', '2326', '2330', '2336', '2337', '2339', '2340', '2341', '2342', '2344', '2346', '2347', '2348', '2351', '2352', '2353', '2354', '2355', '2356', '2357', '2358', '2361', '2365', '2366', '2368', '2369', '2373', '2375', '2376', '2379', '2380', '2381', '2383', '2385', '2386', '2387', '2388', '2390', '2393', '2396', '2398', '2399', '2400', '2401', '2405', '2406', '2407', '2408', '2411', '2412', '2413', '2414', '2415', '2420', '2421', '2422', '2423', '2424', '2426', '2427', '2429', '2430', '2432', '2433', '2435', '2436', '2437', '2438', '2440', '2441', '2443', '2445', '2447', '2449', '2454', '2455', '2456', '2457', '2458', '2460', '2461', '2462', '2463', '2465', '2466', '2468', '2469', '2472', '2474', '2475', '2476', '2478', '2479', '2482', '2483', '2485', '2486', '2487', '2488', '2489', '2490', '2491', '2492', '2495', '2497', '2499', '2503', '2504', '2505', '2507', '2508', '2509', '2510', '2511', '2512', '2514', '2515', '2518', '2519', '2522', '2523', '2524', '2525', '2527', '2528', '2529', '2530', '2531', '2533', '2535', '2536', '2537', '2538', '2539', '2541', '2544', '2545', '2546', '2548', '2550', '2551', '2552', '2553', '2555', '2557', '2558', '2559', '2560', '2563', '2564', '2565', '2566', '2567', '2568', '2569', '2570', '2573', '2574', '2575', '2576', '2577', '2579', '2583', '2584', '2585', '2587', '2588', '2589', '2590', '2592', '2594', '2599', '2602', '2603', '2604', '2605', '2606', '2608', '2609', '2612', '2613', '2614', '2615', '2616', '2618', '2620', '2622', '2624', '2627', '2628', '2629', '2630', '2631', '2633', '2634', '2635', '2636', '2640', '2642', '2643', '2645', '2646', '2649', '2651', '2652', '2655', '2656', '2657', '2658', '2659', '2661', '2664', '2665', '2666', '2669', '2670', '2672', '2673', '2675', '2676', '2677', '2678', '2679', '2680', '2681', '2685', '2686', '2687', '2688', '2689', '2691', '2692', '2693', '2695', '2697', '2698', '2705', '2708', '2710', '2711', '2713', '2714', '2715', '2716', '2718', '2722', '2723', '2725', '2727', '2729', '2730', '2732', '2733', '2734', '2735', '2736', '2737', '2738', '2740', '2741', '2743', '2745', '2746', '2748', '2749', '2750', '2753', '2754', '2755', '2756', '2757', '2758', '2759', '2760', '2764', '2765', '2766', '2767', '2770', '2774', '2775', '2777', '2778', '2779', '2780', '2785', '2788', '2789', '2790', '2791', '2792', '2799', '2800', '2802', '2804', '2807', '2808', '2809', '2810', '2814', '2817', '2818', '2820', '2821', '2822', '2823', '2824', '2825', '2828', '2830', '2832', '2833', '2836', '2838', '2840', '2841', '2844', '2846', '2848', '2850', '2852', '2853', '2854', '2855', '2857', '2858', '2859', '2860', '2861', '2862', '2863', '2865', '2868', '2869', '2872', '2875', '2876', '2877', '2878', '2879', '2880', '2881', '2882', '2883', '2885', '2887', '2889', '2890', '2892', '2893', '2894', '2895', '2896', '2899', '2900', '2903', '2904', '2905', '2907', '2909', '2911', '2912', '2913', '2915', '2916', '2918', '2920', '2921', '2922', '2924', '2927', '2928', '2929', '2934', '2936', '2937', '2941', '2945', '2948', '2950', '2951', '2952', '2953', '2956', '2957', '2958', '2966', '2969', '2970', '2972', '2974', '2979', '2980', '2981', '2982', '2983', '2984', '2985', '2986', '2989', '2990', '2991', '2992', '2993', '2995', '2997', '2999', '3000', '3002', '3003', '3004', '3006', '3007', '3008', '3009', '3011', '3012', '3013', '3015', '3017', '3019', '3021', '3022', '3023', '3024', '3025', '3027', '3028', '3032', '3037', '3039', '3040', '3041', '3043', '3044', '3047', '3049', '3050', '3052', '3053', '3056', '3059', '3062', '3063', '3064', '3067', '3068', '3069', '3070', '3074', '3078', '3081', '3082', '3083', '3087', '3088', '3093', '3094', '3097', '3099', '3100', '3101', '3103', '3105', '3106', '3107', '3108', '3109', '3111', '3112', '3114', '3115', '3118', '3120', '3123', '3125', '3127', '3129', '3130', '3131', '3132', '3133', '3134', '3135', '3140', '3145', '3148', '3149', '3150', '3151', '3152', '3154', '3155', '3157', '3159', '3160', '3163', '3164', '3167', '3169', '3170', '3171', '3174', '3176', '3179', '3181', '3184', '3185', '3188', '3192', '3195', '3196', '3197', '3198', '3199', '3200', '3202', '3206', '3207', '3210', '3215', '3216', '3219', '3221', '3222', '3226', '3231', '3234', '3235', '3236', '3237', '3239', '3240', '3242', '3245', '3246', '3248', '3249', '3251', '3252', '3253', '3256', '3260', '3261', '3262', '3263', '3265', '3268', '3269', '3270', '3271', '3272', '3274', '3277', '3279', '3280', '3281', '3284', '3285', '3287', '3288', '3289', '3291', '3292', '3293', '3294', '3297', '3298', '3299', '3301', '3302', '3303', '3304', '3305', '3307', '3308', '3309', '3311', '3312', '3313', '3314', '3316', '3317', '3318', '3319', '3321', '3323', '3324', '3325', '3326', '3327', '3328', '3329', '3330', '3331', '3335', '3336', '3337', '3341', '3342', '3343', '3344', '3346', '3349', '3350', '3351', '3352', '3355', '3356', '3357', '3359', '3360', '3363', '3364', '3368', '3371', '3372', '3374', '3377', '3378', '3379', '3380', '3388', '3389', '3391', '3392', '3394', '3395', '3396', '3397', '3398', '3399', '3400', '3402', '3403', '3404', '3405', '3408', '3409', '3410', '3411', '3412', '3414', '3416', '3417', '3419', '3425', '3429', '3430', '3431', '3432', '3436', '3437', '3438', '3441', '3442', '3443', '3445', '3446', '3447', '3448', '3451', '3453', '3454', '3455', '3456', '3460', '3461', '3462', '3463', '3465', '3469', '3470', '3471', '3474', '3475', '3477', '3478', '3479', '3481', '3485', '3486', '3488', '3490', '3491', '3492', '3493', '3494', '3496', '3497', '3498', '3499', '3501', '3502', '3505', '3506', '3509', '3512', '3513', '3515', '3516', '3517', '3518', '3519', '3520', '3521', '3522', '3524', '3525', '3526', '3527', '3530', '3531', '3541', '3542', '3543', '3544', '3548', '3549', '3550', '3551', '3552', '3553', '3554', '3556', '3557', '3559', '3560', '3561', '3562', '3563', '3564', '3567', '3568', '3569', '3573', '3581', '3585', '3586', '3587', '3588', '3592', '3593', '3596', '3599', '3601', '3602', '3603', '3604', '3608', '3610', '3611', '3612', '3617', '3619', '3621', '3622', '3623', '3625', '3626', '3627', '3630', '3631', '3632', '3633', '3635', '3636', '3638', '3639', '3641', '3642', '3644', '3645', '3646', '3647', '3648', '3649', '3650', '3652', '3656', '3657', '3658', '3660', '3663', '3664', '3667', '3669', '3670', '3671', '3672', '3673', '3674', '3675', '3677', '3678', '3680', '3681', '3682', '3683', '3685', '3686', '3687', '3689', '3692', '3693', '3697', '3699', '3700', '3701', '3702', '3703', '3704', '3705', '3707', '3712', '3713', '3714', '3715', '3716', '3717', '3718', '3719', '3720', '3722', '3724', '3726', '3727', '3729', '3730', '3732', '3734', '3735', '3736', '3737', '3739', '3740', '3743', '3746', '3749', '3752', '3755', '3758', '3759', '3760', '3763', '3764', '3768', '3769', '3770', '3771', '3772', '3773', '3774', '3775', '3776', '3777', '3778', '3781', '3782', '3783', '3785', '3789', '3791', '3792', '3793', '3794', '3795', '3796', '3798', '3799', '3801', '3802', '3803', '3805', '3806', '3807', '3808', '3810', '3811', '3814', '3815', '3819', '3820', '3822', '3824', '3827', '3829', '3831', '3832', '3833', '3834', '3835', '3836', '3839', '3841', '3842', '3845', '3847', '3848', '3849', '3851', '3854', '3857', '3860', '3863', '3866', '3868', '3871', '3872', '3875', '3876', '3877', '3879', '3880', '3881', '3882', '3883', '3886', '3889', '3891', '3894', '3896', '3904', '3905', '3907', '3909', '3910', '3914', '3916', '3918', '3919', '3921', '3922', '3923', '3925', '3928', '3929', '3931', '3935', '3936', '3938', '3940', '3941', '3943', '3944', '3945', '3948', '3949', '3950', '3951', '3954', '3955', '3957', '3958', '3959', '3960', '3961', '3962', '3963', '3967', '3971', '3972', '3973', '3974', '3975', '3979', '3980', '3981', '3982', '3983', '3985', '3986', '3987', '3988', '3990', '3991', '3993', '3994', '3995', '3996', '4001', '4002', '4003', '4004', '4005', '4007', '4008', '4009', '4011', '4012', '4013', '4014', '4016', '4019', '4020', '4021', '4023', '4024', '4025', '4026', '4028', '4029', '4030', '4033', '4034', '4035', '4038', '4039', '4040', '4041', '4042', '4043', '4047', '4048', '4050', '4052', '4054', '4055', '4056', '4060', '4061', '4066', '4067', '4068', '4071', '4072', '4073', '4077', '4079', '4080', '4081', '4082', '4083', '4084', '4085', '4088', '4090', '4093', '4096', '4098', '4099', '4102', '4103', '4104', '4105', '4108', '4110', '4112', '4113', '4114', '4115', '4116', '4118', '4121', '4122', '4124', '4128', '4130', '4131', '4132', '4133', '4138', '4139', '4142', '4143', '4144', '4146', '4147', '4149', '4150', '4152', '4154', '4156', '4157', '4158', '4159', '4160', '4164', '4167', '4169', '4178', '4179', '4182', '4184', '4187', '4188', '4189', '4190', '4191', '4192', '4193', '4194', '4195', '4196', '4197', '4200', '4201', '4204', '4205', '4209', '4210', '4213', '4214', '4215', '4218', '4219', '4220', '4223', '4224', '4225', '4226', '4228', '4229', '4230', '4231', '4235', '4236', '4237', '4240', '4241', '4242', '4243', '4245', '4246', '4247', '4248', '4249', '4250', '4251', '4253', '4255', '4256', '4257', '4258', '4260', '4261', '4262', '4263', '4264', '4266', '4268', '4270', '4271', '4274', '4275', '4276', '4277', '4278', '4280', '4282', '4283', '4284', '4286', '4287', '4289', '4290', '4291', '4293', '4294', '4295', '4298', '4300', '4301', '4305', '4306', '4308', '4309', '4310', '4312', '4313', '4316', '4320', '4321', '4322', '4323', '4325', '4326', '4327', '4328', '4329', '4330', '4331', '4333', '4334', '4335', '4338', '4339', '4342', '4345', '4347', '4348', '4350', '4351', '4353', '4354', '4355', '4356', '4357', '4361', '4363', '4364', '4365', '4366', '4368', '4369', '4370', '4371', '4374', '4379', '4380', '4382', '4383', '4385', '4388', '4389', '4391', '4392', '4395', '4396', '4397', '4398', '4399', '4400', '4402', '4403', '4404', '4406', '4407', '4409', '4410', '4412', '4416', '4418', '4419', '4420', '4422', '4423', '4424', '4425', '4428', '4429', '4430', '4431', '4432', '4434', '4438', '4440', '4445', '4450', '4451', '4452', '4453', '4455', '4458', '4459', '4460', '4461', '4462', '4463', '4464', '4465', '4466', '4469', '4471', '4472', '4473', '4476', '4477', '4479', '4480', '4483', '4484', '4486', '4488', '4490', '4491', '4494', '4495', '4497', '4498', '4502', '4504', '4505', '4507', '4508', '4509', '4510', '4511', '4513', '4515', '4518', '4521', '4522', '4525', '4527', '4528', '4529', '4531', '4532', '4534', '4538', '4539', '4540', '4541', '4542', '4543', '4545', '4547', '4548', '4549', '4550', '4552', '4554', '4555', '4556', '4559', '4560', '4561', '4562', '4564', '4565', '4572', '4573', '4575', '4576', '4578', '4580', '4581', '4583', '4584', '4585', '4587', '4588', '4590', '4591', '4592', '4596', '4602', '4604', '4607', '4611', '4614', '4616', '4617', '4618', '4619', '4620', '4623', '4626', '4627', '4631', '4632', '4635', '4636', '4637', '4638', '4641', '4643', '4644', '4645', '4646', '4651', '4652', '4653', '4655', '4656', '4657', '4659', '4660', '4661', '4662', '4666', '4667', '4668', '4670', '4671', '4672', '4673', '4674', '4676', '4680', '4682', '4683', '4684', '4686', '4688', '4691', '4692', '4694', '4696', '4697', '4698', '4702', '4704', '4705', '4706', '4707', '4710', '4715', '4717', '4718', '4720', '4721', '4722', '4723', '4725', '4726', '4727', '4728', '4729', '4730', '4734', '4735', '4736', '4737', '4738', '4739', '4740', '4741', '4743', '4744', '4750', '4751', '4752', '4753', '4754', '4755', '4756', '4757', '4758', '4759', '4761', '4762', '4764', '4765', '4766', '4767', '4769', '4770', '4772', '4773', '4774', '4775', '4776', '4777', '4781', '4782', '4783', '4784', '4787', '4789', '4790', '4791', '4792', '4793', '4795', '4800', '4801', '4803', '4804', '4809', '4810', '4811', '4812', '4813', '4815', '4817', '4818', '4819', '4820', '4821', '4822', '4827', '4828', '4829', '4830', '4831', '4833', '4834', '4835', '4837', '4839', '4841', '4842', '4843', '4844', '4845', '4847', '4848', '4851', '4854', '4857', '4859', '4860', '4862', '4864', '4866', '4867', '4868', '4870', '4872', '4877', '4878', '4879', '4881', '4884', '4885', '4887', '4891', '4894', '4895', '4896', '4899', '4900', '4901', '4902', '4903', '4904', '4905', '4906', '4908', '4909', '4910', '4911', '4913', '4914', '4915', '4918', '4920', '4923', '4926', '4927', '4928', '4930', '4933', '4934', '4935', '4936', '4937', '4938', '4939', '4941', '4942', '4944', '4945', '4946', '4947', '4948', '4949', '4950', '4953', '4954', '4955', '4956', '4957', '4958', '4959', '4961', '4963', '4965', '4966', '4967', '4968', '4969', '4970', '4972', '4974', '4975', '4976', '4978', '4984', '4987', '4989', '4990', '4993', '4995', '4997', '4998', '4999', '5001', '5002', '5004', '5005', '5012', '5013', '5014', '5015', '5018', '5019', '5020', '5021', '5023', '5024', '5025', '5026', '5027', '5028', '5029', '5030', '5031', '5032', '5033', '5034', '5035', '5036', '5037', '5038', '5040', '5041', '5042', '5043', '5046', '5047', '5050', '5052', '5053', '5054', '5055', '5058', '5061', '5062', '5063', '5065', '5066', '5069', '5070', '5071', '5072', '5075', '5076', '5077', '5081', '5082', '5083', '5085', '5087', '5088', '5090', '5092', '5094', '5095', '5098', '5100', '5102', '5103', '5105', '5111', '5112', '5113', '5115', '5118', '5119', '5122', '5123', '5124', '5127', '5128', '5129', '5130', '5132', '5134', '5136', '5137', '5138', '5139', '5140', '5142', '5143', '5144', '5149', '5151', '5154', '5155', '5156', '5157', '5162', '5163', '5164', '5166', '5167', '5169', '5174', '5179', '5180', '5182', '5184', '5185', '5186', '5187', '5190', '5191', '5192', '5194', '5196', '5197', '5198', '5199', '5201', '5202', '5203', '5204', '5205', '5206', '5208', '5213', '5216', '5223', '5224', '5225', '5228', '5230', '5231', '5232', '5235', '5246', '5252', '5254', '5256', '5257', '5259', '5260', '5261', '5266', '5267', '5272', '5273', '5277', '5280', '5282', '5287', '5289', '5290', '5291', '5293', '5294', '5295', '5296', '5297', '5300', '5301', '5302', '5306', '5307', '5308', '5313', '5314', '5315', '5316', '5318', '5320', '5321', '5322', '5323', '5324', '5328', '5329', '5330', '5331', '5332', '5334', '5335', '5336', '5338', '5339', '5340', '5341', '5342', '5343', '5345', '5346', '5350', '5351', '5353', '5355', '5356', '5357', '5359', '5361', '5364', '5365', '5368', '5369', '5371', '5373', '5374', '5377', '5378', '5381', '5383', '5384', '5386', '5388', '5389', '5394', '5396', '5397', '5399', '5400', '5401', '5402', '5404', '5405', '5407', '5417', '5418', '5420', '5422', '5424', '5425', '5426', '5429', '5430', '5431', '5432', '5433', '5434', '5440', '5441', '5442', '5443', '5444', '5445', '5446', '5448', '5449', '5450', '5451', '5453', '5454', '5455', '5456', '5458', '5459', '5464', '5466', '5467', '5468', '5469', '5471', '5477', '5478', '5479', '5481', '5483', '5485', '5487', '5488', '5490', '5493', '5494', '5498', '5500', '5501', '5508', '5512', '5514', '5515', '5520', '5521', '5522', '5523', '5527', '5530', '5532', '5535', '5537', '5538', '5539', '5541', '5542', '5543', '5544', '5545', '5546', '5547', '5548', '5549', '5550', '5551', '5552', '5555', '5558', '5561', '5562', '5564', '5568', '5571', '5572', '5574', '5576', '5578', '5581', '5582', '5584', '5585', '5587', '5588', '5589', '5591', '5600', '5601', '5602', '5603', '5606', '5607', '5611', '5613', '5614', '5615', '5619', '5620', '5622', '5624', '5625', '5626', '5630', '5631', '5632', '5633', '5634', '5635', '5637', '5639', '5640', '5641', '5643', '5645', '5646', '5650', '5654', '5657', '5660', '5661', '5662', '5663', '5665', '5666', '5667', '5669', '5670', '5671', '5672', '5674', '5676', '5677', '5678', '5679', '5684', '5689', '5690', '5691', '5693', '5694', '5696', '5698', '5699', '5700', '5701', '5703', '5704', '5708', '5709', '5710', '5711', '5718', '5720', '5721', '5722', '5723', '5724', '5726', '5728', '5729', '5733', '5735', '5739', '5741', '5744', '5745', '5746', '5748', '5750', '5752', '5753', '5754', '5755', '5756', '5758', '5760', '5762', '5764', '5765', '5766', '5767', '5768', '5770', '5771', '5773', '5774', '5775', '5776', '5779', '5781', '5782', '5784', '5787', '5793', '5794', '5795', '5796', '5800', '5802', '5803', '5804', '5808', '5809', '5813', '5814', '5815', '5816', '5822', '5823', '5825', '5828', '5830', '5833', '5837', '5838', '5839', '5845', '5847', '5848', '5849', '5851', '5852', '5857', '5859', '5860', '5862', '5864', '5865', '5866', '5867', '5868', '5869', '5871', '5872', '5873', '5876', '5878', '5881', '5882', '5883', '5886', '5888', '5889', '5890', '5891', '5893', '5895', '5896', '5897', '5898', '5899', '5900', '5902', '5903', '5907', '5908', '5909', '5913', '5914', '5915', '5916', '5919', '5920', '5922', '5923', '5926', '5927', '5928', '5929', '5930', '5931', '5933', '5936', '5938', '5939', '5942', '5944', '5945', '5950', '5951', '5952', '5953', '5954', '5955', '5957', '5959', '5960', '5964', '5966', '5967', '5968', '5974', '5975', '5977', '5978', '5982', '5984', '5985', '5986', '5988', '5989', '5992', '5993', '5995', '5996', '5997', '5999', '6000', '6001', '6002', '6003', '6004', '6006', '6009', '6011', '6012', '6013', '6014', '6015', '6017', '6019', '6020', '6022', '6023', '6024', '6026', '6027', '6028', '6029', '6030', '6032', '6034', '6037', '6038', '6039', '6040', '6041', '6044', '6045', '6046', '6047', '6049', '6050', '6051', '6053', '6054', '6056', '6057', '6058', '6062', '6064', '6067', '6068', '6069', '6070', '6071', '6072', '6073', '6076', '6077', '6078', '6079', '6080', '6083', '6084', '6086', '6088', '6090', '6091', '6093', '6094', '6095', '6099', '6100', '6102', '6104', '6105', '6106', '6107', '6108', '6109', '6111', '6112', '6113', '6117', '6118', '6120', '6121', '6122', '6123', '6124', '6125', '6126', '6127', '6130', '6131', '6132', '6134', '6136', '6137', '6139', '6140', '6141', '6142', '6143', '6144', '6145', '6146', '6147']\n",
      "\n",
      "\n",
      "Distribusi Negative Passages:\n",
      "5 valid passages: 1 rows\n",
      "Query IDs: ['1040']\n",
      "\n",
      "8 valid passages: 1 rows\n",
      "Query IDs: ['3960']\n",
      "\n",
      "12 valid passages: 2 rows\n",
      "Query IDs: ['5036', '5964']\n",
      "\n",
      "19 valid passages: 1 rows\n",
      "Query IDs: ['2465']\n",
      "\n",
      "29 valid passages: 2392 rows\n",
      "Query IDs: ['0', '6', '7', '9', '12', '14', '16', '18', '23', '26', '28', '29', '31', '33', '36', '38', '39', '42', '44', '45', '47', '51', '56', '61', '63', '64', '66', '67', '68', '69', '73', '74', '75', '77', '80', '83', '84', '85', '89', '90', '91', '93', '94', '101', '106', '110', '112', '114', '118', '119', '120', '122', '124', '130', '135', '137', '142', '143', '146', '147', '148', '154', '160', '164', '166', '173', '174', '175', '179', '183', '186', '188', '189', '190', '191', '192', '194', '200', '202', '207', '208', '209', '210', '212', '214', '215', '217', '221', '222', '223', '230', '233', '234', '240', '242', '243', '245', '248', '249', '250', '252', '258', '259', '260', '262', '269', '273', '278', '283', '290', '291', '294', '295', '300', '303', '307', '311', '314', '315', '321', '330', '331', '333', '334', '338', '339', '342', '345', '347', '348', '349', '352', '353', '354', '362', '365', '368', '371', '376', '379', '380', '384', '385', '391', '393', '395', '396', '399', '401', '403', '408', '411', '412', '413', '414', '415', '416', '420', '421', '424', '428', '431', '432', '442', '444', '449', '451', '452', '457', '459', '460', '464', '468', '469', '470', '471', '472', '473', '476', '485', '490', '492', '493', '495', '497', '503', '504', '505', '507', '508', '515', '516', '518', '519', '520', '524', '528', '529', '531', '532', '535', '537', '538', '544', '546', '549', '552', '553', '557', '560', '561', '562', '570', '576', '580', '583', '584', '587', '588', '589', '591', '592', '594', '595', '596', '597', '599', '600', '602', '606', '607', '608', '610', '612', '618', '619', '624', '626', '629', '632', '635', '637', '641', '648', '649', '650', '651', '655', '656', '658', '660', '661', '665', '666', '671', '677', '682', '685', '686', '687', '688', '691', '692', '703', '705', '707', '711', '715', '716', '718', '720', '722', '723', '725', '728', '732', '733', '738', '740', '743', '748', '749', '755', '756', '760', '761', '762', '764', '765', '783', '790', '791', '793', '796', '798', '799', '800', '801', '802', '803', '806', '807', '809', '812', '813', '814', '817', '818', '820', '822', '825', '838', '839', '842', '843', '848', '854', '855', '856', '857', '858', '860', '861', '866', '872', '874', '878', '880', '883', '885', '887', '888', '889', '890', '891', '892', '898', '900', '901', '912', '918', '920', '921', '922', '925', '926', '928', '929', '930', '936', '937', '939', '943', '947', '949', '950', '951', '952', '954', '958', '962', '963', '969', '970', '974', '975', '976', '977', '978', '979', '983', '985', '986', '987', '988', '994', '995', '996', '999', '1000', '1001', '1004', '1005', '1009', '1010', '1011', '1012', '1013', '1017', '1021', '1022', '1023', '1027', '1033', '1036', '1037', '1044', '1046', '1049', '1050', '1052', '1054', '1055', '1056', '1060', '1068', '1070', '1071', '1072', '1073', '1074', '1075', '1078', '1085', '1087', '1090', '1092', '1094', '1098', '1099', '1102', '1106', '1108', '1119', '1120', '1122', '1123', '1126', '1127', '1132', '1135', '1138', '1142', '1143', '1149', '1156', '1157', '1159', '1169', '1175', '1176', '1178', '1179', '1182', '1184', '1185', '1187', '1188', '1190', '1191', '1194', '1199', '1206', '1211', '1214', '1216', '1218', '1220', '1222', '1229', '1231', '1235', '1237', '1248', '1253', '1256', '1260', '1261', '1263', '1264', '1267', '1270', '1275', '1279', '1280', '1283', '1290', '1292', '1293', '1298', '1299', '1300', '1302', '1304', '1309', '1311', '1312', '1314', '1316', '1321', '1326', '1329', '1331', '1333', '1336', '1337', '1341', '1344', '1345', '1347', '1348', '1349', '1351', '1354', '1355', '1359', '1360', '1361', '1366', '1368', '1369', '1370', '1371', '1372', '1373', '1377', '1379', '1383', '1384', '1385', '1386', '1387', '1390', '1392', '1405', '1408', '1415', '1416', '1421', '1423', '1424', '1426', '1427', '1428', '1429', '1431', '1432', '1433', '1436', '1439', '1440', '1442', '1447', '1448', '1449', '1457', '1458', '1459', '1462', '1469', '1474', '1475', '1476', '1480', '1481', '1482', '1483', '1484', '1485', '1486', '1487', '1494', '1501', '1503', '1504', '1507', '1508', '1511', '1512', '1516', '1520', '1521', '1524', '1527', '1528', '1529', '1530', '1531', '1537', '1538', '1539', '1541', '1542', '1546', '1547', '1548', '1549', '1550', '1552', '1553', '1555', '1556', '1563', '1564', '1566', '1567', '1569', '1572', '1575', '1577', '1580', '1582', '1585', '1586', '1587', '1589', '1595', '1596', '1597', '1599', '1603', '1608', '1610', '1614', '1615', '1620', '1627', '1632', '1637', '1639', '1640', '1641', '1643', '1646', '1650', '1651', '1654', '1655', '1662', '1664', '1666', '1667', '1669', '1671', '1673', '1675', '1678', '1679', '1681', '1686', '1689', '1691', '1692', '1694', '1699', '1700', '1703', '1704', '1705', '1711', '1715', '1720', '1722', '1723', '1727', '1728', '1730', '1732', '1734', '1736', '1738', '1740', '1743', '1745', '1746', '1749', '1757', '1758', '1759', '1760', '1761', '1762', '1763', '1768', '1772', '1773', '1774', '1776', '1779', '1780', '1785', '1791', '1794', '1799', '1800', '1802', '1804', '1808', '1812', '1815', '1818', '1821', '1822', '1824', '1827', '1828', '1829', '1830', '1833', '1834', '1836', '1844', '1850', '1852', '1855', '1856', '1859', '1861', '1864', '1868', '1871', '1872', '1878', '1879', '1881', '1884', '1885', '1887', '1889', '1891', '1895', '1896', '1898', '1899', '1900', '1901', '1902', '1903', '1907', '1916', '1918', '1919', '1920', '1921', '1922', '1929', '1931', '1937', '1941', '1947', '1948', '1950', '1955', '1957', '1959', '1960', '1961', '1963', '1964', '1967', '1969', '1970', '1972', '1977', '1980', '1985', '1988', '1989', '1995', '1996', '2004', '2008', '2012', '2014', '2017', '2018', '2020', '2021', '2022', '2024', '2025', '2026', '2028', '2034', '2037', '2042', '2044', '2047', '2048', '2050', '2051', '2053', '2056', '2058', '2060', '2061', '2062', '2063', '2065', '2066', '2067', '2068', '2071', '2072', '2074', '2078', '2084', '2085', '2088', '2089', '2091', '2094', '2096', '2099', '2107', '2108', '2110', '2111', '2113', '2115', '2121', '2122', '2124', '2125', '2128', '2131', '2132', '2134', '2141', '2143', '2145', '2147', '2149', '2150', '2151', '2157', '2160', '2163', '2164', '2165', '2168', '2176', '2178', '2182', '2186', '2190', '2192', '2194', '2195', '2198', '2199', '2203', '2207', '2214', '2217', '2218', '2222', '2223', '2229', '2237', '2238', '2240', '2244', '2252', '2257', '2258', '2263', '2266', '2268', '2269', '2271', '2272', '2273', '2274', '2277', '2278', '2279', '2281', '2283', '2284', '2286', '2287', '2288', '2290', '2292', '2294', '2299', '2301', '2303', '2305', '2309', '2310', '2311', '2314', '2316', '2317', '2318', '2321', '2324', '2325', '2326', '2330', '2337', '2339', '2344', '2346', '2351', '2353', '2355', '2356', '2357', '2361', '2365', '2366', '2368', '2373', '2375', '2376', '2379', '2380', '2381', '2386', '2388', '2390', '2400', '2401', '2405', '2408', '2411', '2412', '2413', '2414', '2415', '2420', '2421', '2422', '2423', '2424', '2426', '2430', '2435', '2437', '2438', '2440', '2441', '2445', '2449', '2456', '2457', '2458', '2460', '2461', '2462', '2463', '2466', '2468', '2472', '2474', '2482', '2483', '2485', '2489', '2490', '2495', '2507', '2508', '2510', '2511', '2514', '2515', '2519', '2522', '2527', '2528', '2529', '2530', '2531', '2533', '2535', '2536', '2537', '2539', '2546', '2550', '2552', '2553', '2557', '2563', '2566', '2567', '2568', '2570', '2574', '2575', '2576', '2577', '2579', '2583', '2584', '2587', '2589', '2592', '2594', '2599', '2604', '2606', '2608', '2609', '2613', '2614', '2615', '2616', '2620', '2624', '2627', '2628', '2629', '2630', '2631', '2633', '2634', '2636', '2642', '2643', '2645', '2646', '2649', '2655', '2656', '2657', '2658', '2659', '2661', '2664', '2665', '2666', '2669', '2670', '2672', '2673', '2676', '2677', '2678', '2681', '2686', '2687', '2688', '2689', '2691', '2695', '2698', '2708', '2714', '2715', '2716', '2722', '2729', '2730', '2732', '2733', '2737', '2743', '2745', '2746', '2748', '2756', '2757', '2758', '2759', '2760', '2764', '2766', '2767', '2770', '2775', '2778', '2779', '2788', '2789', '2790', '2791', '2807', '2809', '2810', '2820', '2821', '2823', '2824', '2825', '2830', '2836', '2838', '2841', '2844', '2846', '2848', '2850', '2852', '2853', '2854', '2855', '2857', '2858', '2861', '2862', '2865', '2868', '2869', '2872', '2875', '2877', '2878', '2879', '2880', '2885', '2887', '2889', '2892', '2893', '2894', '2895', '2896', '2899', '2903', '2905', '2907', '2909', '2912', '2913', '2915', '2916', '2918', '2920', '2921', '2922', '2927', '2928', '2929', '2934', '2937', '2941', '2948', '2952', '2953', '2956', '2957', '2958', '2969', '2970', '2972', '2974', '2979', '2980', '2981', '2982', '2983', '2984', '2989', '2990', '2991', '2992', '2995', '2997', '2999', '3000', '3002', '3003', '3004', '3006', '3008', '3012', '3013', '3019', '3021', '3022', '3023', '3024', '3025', '3027', '3028', '3032', '3039', '3040', '3044', '3047', '3049', '3050', '3052', '3053', '3059', '3063', '3064', '3067', '3069', '3070', '3087', '3093', '3094', '3099', '3100', '3101', '3105', '3109', '3112', '3114', '3123', '3125', '3127', '3129', '3131', '3133', '3134', '3135', '3145', '3148', '3149', '3150', '3151', '3155', '3160', '3164', '3170', '3174', '3176', '3179', '3181', '3185', '3192', '3195', '3196', '3198', '3199', '3200', '3202', '3206', '3207', '3215', '3216', '3226', '3231', '3234', '3235', '3239', '3240', '3242', '3246', '3248', '3251', '3252', '3253', '3256', '3260', '3262', '3263', '3265', '3269', '3271', '3272', '3274', '3277', '3281', '3284', '3285', '3287', '3289', '3291', '3293', '3297', '3299', '3302', '3303', '3304', '3308', '3309', '3311', '3316', '3317', '3318', '3319', '3321', '3324', '3325', '3326', '3329', '3330', '3331', '3335', '3336', '3337', '3341', '3343', '3344', '3346', '3349', '3350', '3352', '3355', '3357', '3359', '3360', '3363', '3364', '3368', '3371', '3372', '3374', '3378', '3379', '3380', '3388', '3389', '3392', '3394', '3395', '3397', '3398', '3405', '3408', '3410', '3411', '3412', '3416', '3417', '3429', '3430', '3431', '3432', '3436', '3437', '3438', '3443', '3445', '3446', '3448', '3451', '3453', '3455', '3460', '3461', '3462', '3463', '3465', '3469', '3474', '3475', '3477', '3479', '3485', '3486', '3488', '3490', '3491', '3492', '3493', '3494', '3497', '3498', '3499', '3505', '3509', '3512', '3513', '3515', '3516', '3517', '3518', '3519', '3520', '3522', '3524', '3526', '3530', '3531', '3541', '3542', '3543', '3544', '3549', '3550', '3551', '3553', '3554', '3556', '3557', '3559', '3560', '3561', '3562', '3564', '3567', '3568', '3569', '3573', '3581', '3585', '3586', '3588', '3593', '3599', '3601', '3602', '3603', '3610', '3612', '3619', '3621', '3625', '3627', '3631', '3633', '3636', '3639', '3642', '3644', '3645', '3647', '3649', '3652', '3657', '3658', '3663', '3664', '3667', '3669', '3670', '3671', '3672', '3673', '3674', '3675', '3681', '3682', '3683', '3686', '3687', '3692', '3697', '3699', '3700', '3701', '3704', '3705', '3712', '3713', '3714', '3715', '3716', '3718', '3719', '3720', '3722', '3724', '3727', '3729', '3730', '3732', '3735', '3736', '3737', '3739', '3746', '3749', '3752', '3755', '3758', '3760', '3763', '3768', '3770', '3773', '3774', '3775', '3776', '3778', '3781', '3782', '3789', '3791', '3792', '3793', '3794', '3795', '3796', '3799', '3803', '3805', '3806', '3810', '3820', '3822', '3824', '3829', '3831', '3833', '3834', '3835', '3836', '3839', '3842', '3845', '3847', '3851', '3857', '3860', '3863', '3868', '3872', '3876', '3877', '3879', '3880', '3881', '3882', '3883', '3886', '3894', '3896', '3907', '3909', '3918', '3921', '3922', '3925', '3928', '3929', '3935', '3938', '3941', '3943', '3944', '3945', '3948', '3949', '3954', '3955', '3957', '3959', '3961', '3962', '3972', '3973', '3974', '3979', '3980', '3981', '3985', '3986', '3987', '3990', '3993', '3994', '3996', '4001', '4002', '4003', '4004', '4005', '4007', '4008', '4009', '4011', '4012', '4013', '4019', '4020', '4023', '4024', '4028', '4029', '4030', '4033', '4034', '4039', '4040', '4041', '4042', '4043', '4047', '4048', '4050', '4052', '4055', '4056', '4061', '4066', '4068', '4071', '4072', '4073', '4077', '4080', '4081', '4083', '4084', '4090', '4093', '4096', '4099', '4103', '4105', '4108', '4110', '4112', '4113', '4115', '4116', '4121', '4122', '4124', '4128', '4130', '4132', '4133', '4138', '4139', '4144', '4147', '4149', '4150', '4152', '4154', '4158', '4160', '4164', '4167', '4169', '4178', '4179', '4182', '4184', '4187', '4188', '4189', '4190', '4191', '4192', '4194', '4197', '4200', '4201', '4204', '4205', '4209', '4210', '4213', '4215', '4219', '4220', '4223', '4224', '4225', '4226', '4228', '4230', '4231', '4235', '4236', '4237', '4241', '4242', '4243', '4245', '4246', '4247', '4248', '4249', '4250', '4251', '4253', '4255', '4257', '4261', '4263', '4264', '4268', '4270', '4271', '4274', '4275', '4276', '4277', '4280', '4282', '4283', '4287', '4289', '4291', '4293', '4295', '4300', '4301', '4306', '4308', '4312', '4313', '4316', '4320', '4321', '4322', '4326', '4327', '4328', '4330', '4331', '4333', '4338', '4342', '4348', '4350', '4353', '4356', '4357', '4361', '4363', '4364', '4365', '4366', '4368', '4370', '4374', '4379', '4382', '4383', '4388', '4397', '4398', '4399', '4402', '4403', '4407', '4409', '4412', '4416', '4419', '4422', '4424', '4425', '4430', '4434', '4438', '4445', '4450', '4451', '4455', '4458', '4459', '4460', '4464', '4469', '4471', '4472', '4473', '4477', '4479', '4483', '4484', '4486', '4488', '4490', '4491', '4494', '4495', '4504', '4507', '4508', '4510', '4513', '4515', '4518', '4521', '4522', '4525', '4528', '4529', '4531', '4532', '4534', '4540', '4541', '4543', '4545', '4548', '4549', '4550', '4552', '4555', '4556', '4559', '4561', '4564', '4565', '4572', '4573', '4575', '4576', '4578', '4580', '4584', '4587', '4588', '4590', '4591', '4602', '4607', '4611', '4614', '4616', '4618', '4619', '4623', '4626', '4627', '4631', '4632', '4635', '4636', '4637', '4638', '4641', '4643', '4644', '4646', '4651', '4653', '4655', '4657', '4660', '4661', '4666', '4673', '4674', '4680', '4682', '4683', '4684', '4691', '4692', '4696', '4698', '4704', '4705', '4706', '4707', '4715', '4717', '4721', '4725', '4726', '4727', '4729', '4730', '4734', '4735', '4736', '4737', '4738', '4739', '4740', '4741', '4743', '4744', '4751', '4753', '4754', '4756', '4759', '4764', '4765', '4766', '4767', '4769', '4775', '4776', '4781', '4783', '4784', '4787', '4790', '4791', '4792', '4793', '4795', '4800', '4801', '4803', '4809', '4810', '4811', '4815', '4817', '4820', '4822', '4827', '4829', '4833', '4837', '4841', '4843', '4844', '4847', '4848', '4851', '4854', '4859', '4860', '4862', '4864', '4866', '4870', '4879', '4881', '4885', '4895', '4903', '4906', '4910', '4914', '4915', '4918', '4920', '4923', '4928', '4933', '4934', '4935', '4936', '4937', '4939', '4941', '4942', '4944', '4947', '4948', '4950', '4953', '4955', '4957', '4959', '4963', '4965', '4966', '4969', '4970', '4972', '4975', '4976', '4978', '4984', '4987', '4990', '4995', '4998', '5001', '5002', '5004', '5005', '5012', '5014', '5019', '5020', '5025', '5026', '5027', '5028', '5029', '5030', '5031', '5034', '5035', '5037', '5038', '5042', '5043', '5046', '5047', '5053', '5054', '5055', '5058', '5062', '5065', '5070', '5072', '5075', '5076', '5077', '5081', '5082', '5083', '5085', '5087', '5090', '5094', '5098', '5100', '5102', '5105', '5111', '5113', '5115', '5118', '5119', '5122', '5123', '5124', '5128', '5129', '5130', '5132', '5134', '5136', '5137', '5138', '5142', '5143', '5149', '5151', '5156', '5157', '5164', '5166', '5169', '5179', '5182', '5185', '5187', '5191', '5192', '5198', '5199', '5201', '5202', '5204', '5205', '5206', '5223', '5225', '5230', '5232', '5254', '5256', '5257', '5259', '5260', '5261', '5266', '5267', '5272', '5273', '5277', '5280', '5282', '5287', '5291', '5293', '5294', '5300', '5301', '5302', '5306', '5307', '5313', '5314', '5316', '5318', '5320', '5322', '5323', '5324', '5329', '5330', '5331', '5332', '5334', '5336', '5338', '5339', '5340', '5341', '5342', '5343', '5345', '5346', '5350', '5353', '5355', '5356', '5357', '5359', '5364', '5365', '5368', '5369', '5371', '5373', '5374', '5377', '5378', '5381', '5383', '5384', '5386', '5388', '5394', '5396', '5397', '5400', '5401', '5402', '5405', '5407', '5417', '5418', '5420', '5422', '5425', '5429', '5431', '5432', '5433', '5434', '5442', '5443', '5444', '5445', '5446', '5448', '5450', '5451', '5453', '5454', '5459', '5466', '5468', '5469', '5471', '5477', '5478', '5479', '5481', '5483', '5485', '5487', '5488', '5490', '5493', '5494', '5498', '5500', '5501', '5512', '5520', '5521', '5522', '5523', '5527', '5530', '5532', '5538', '5539', '5541', '5542', '5543', '5545', '5546', '5547', '5549', '5550', '5552', '5555', '5558', '5561', '5562', '5564', '5571', '5572', '5576', '5581', '5582', '5584', '5585', '5588', '5591', '5600', '5602', '5603', '5606', '5607', '5613', '5614', '5615', '5620', '5624', '5625', '5626', '5630', '5632', '5633', '5635', '5637', '5639', '5640', '5641', '5643', '5645', '5646', '5650', '5654', '5657', '5660', '5661', '5663', '5665', '5666', '5667', '5669', '5670', '5672', '5674', '5676', '5678', '5679', '5684', '5690', '5691', '5694', '5696', '5698', '5699', '5701', '5704', '5710', '5711', '5718', '5722', '5724', '5726', '5729', '5735', '5741', '5744', '5745', '5746', '5748', '5750', '5754', '5755', '5758', '5760', '5765', '5766', '5767', '5773', '5775', '5776', '5782', '5784', '5787', '5793', '5794', '5795', '5800', '5802', '5803', '5804', '5813', '5815', '5822', '5823', '5825', '5830', '5833', '5838', '5845', '5847', '5848', '5849', '5860', '5862', '5864', '5866', '5867', '5868', '5871', '5872', '5873', '5882', '5883', '5886', '5888', '5889', '5891', '5895', '5898', '5900', '5903', '5907', '5908', '5909', '5913', '5915', '5916', '5920', '5922', '5923', '5926', '5927', '5929', '5930', '5931', '5933', '5936', '5942', '5945', '5950', '5951', '5952', '5954', '5955', '5960', '5966', '5974', '5975', '5977', '5978', '5985', '5988', '5989', '5993', '5996', '6000', '6003', '6004', '6006', '6011', '6012', '6013', '6014', '6015', '6017', '6019', '6020', '6022', '6023', '6024', '6026', '6027', '6028', '6032', '6034', '6037', '6038', '6039', '6040', '6041', '6046', '6047', '6050', '6051', '6056', '6057', '6058', '6062', '6064', '6069', '6072', '6073', '6076', '6077', '6078', '6079', '6080', '6084', '6088', '6090', '6091', '6093', '6100', '6102', '6104', '6105', '6107', '6108', '6109', '6111', '6113', '6117', '6120', '6121', '6122', '6123', '6124', '6125', '6126', '6130', '6131', '6132', '6136', '6137', '6139', '6140', '6144']\n",
      "\n",
      "30 valid passages: 1142 rows\n",
      "Query IDs: ['1', '2', '8', '13', '20', '40', '43', '48', '49', '54', '57', '59', '70', '71', '87', '97', '102', '104', '105', '107', '115', '117', '132', '139', '141', '152', '158', '162', '168', '184', '185', '193', '195', '197', '201', '206', '228', '253', '255', '261', '271', '274', '281', '284', '301', '304', '306', '308', '312', '313', '323', '335', '337', '340', '344', '350', '360', '366', '372', '373', '375', '381', '383', '386', '387', '392', '400', '406', '410', '425', '433', '434', '435', '438', '440', '441', '446', '458', '461', '462', '474', '477', '482', '483', '487', '499', '501', '511', '513', '514', '533', '534', '540', '542', '543', '551', '564', '565', '569', '578', '582', '604', '615', '617', '625', '634', '643', '646', '647', '657', '663', '664', '667', '690', '693', '699', '704', '710', '717', '719', '727', '735', '745', '750', '753', '763', '766', '767', '768', '775', '784', '786', '787', '792', '797', '811', '819', '826', '827', '828', '829', '832', '834', '844', '850', '851', '852', '853', '863', '864', '865', '870', '871', '882', '884', '886', '893', '895', '897', '903', '906', '908', '914', '915', '916', '917', '931', '933', '948', '953', '956', '960', '964', '982', '1003', '1016', '1018', '1020', '1034', '1039', '1043', '1047', '1059', '1061', '1067', '1077', '1080', '1086', '1093', '1095', '1105', '1121', '1125', '1129', '1131', '1136', '1137', '1140', '1147', '1151', '1152', '1154', '1155', '1164', '1166', '1170', '1171', '1173', '1174', '1181', '1189', '1200', '1207', '1209', '1215', '1217', '1221', '1224', '1226', '1230', '1233', '1243', '1246', '1255', '1262', '1268', '1269', '1276', '1282', '1284', '1286', '1288', '1301', '1306', '1308', '1313', '1315', '1317', '1320', '1325', '1334', '1338', '1339', '1343', '1346', '1350', '1353', '1358', '1375', '1388', '1391', '1397', '1399', '1400', '1406', '1413', '1418', '1422', '1425', '1434', '1435', '1438', '1441', '1460', '1461', '1463', '1470', '1471', '1479', '1490', '1492', '1495', '1497', '1514', '1515', '1522', '1526', '1533', '1535', '1544', '1560', '1576', '1583', '1588', '1592', '1601', '1602', '1604', '1611', '1613', '1618', '1623', '1631', '1638', '1644', '1645', '1653', '1657', '1658', '1660', '1668', '1674', '1677', '1682', '1684', '1696', '1698', '1701', '1706', '1712', '1721', '1735', '1739', '1741', '1742', '1753', '1783', '1787', '1788', '1790', '1792', '1796', '1805', '1809', '1811', '1814', '1826', '1831', '1832', '1840', '1847', '1848', '1849', '1851', '1860', '1867', '1869', '1870', '1875', '1876', '1882', '1883', '1886', '1888', '1890', '1892', '1893', '1894', '1914', '1917', '1923', '1932', '1933', '1934', '1938', '1939', '1942', '1943', '1946', '1949', '1973', '1975', '1976', '1983', '1987', '1992', '1997', '1999', '2000', '2003', '2016', '2019', '2029', '2032', '2033', '2038', '2052', '2055', '2064', '2081', '2082', '2098', '2100', '2103', '2112', '2114', '2116', '2123', '2127', '2133', '2135', '2139', '2146', '2152', '2155', '2156', '2179', '2181', '2185', '2187', '2191', '2197', '2201', '2202', '2205', '2206', '2208', '2209', '2211', '2230', '2235', '2241', '2242', '2243', '2246', '2247', '2251', '2255', '2291', '2296', '2297', '2300', '2302', '2304', '2307', '2320', '2322', '2336', '2340', '2341', '2342', '2347', '2348', '2352', '2354', '2358', '2369', '2383', '2385', '2387', '2393', '2396', '2398', '2399', '2406', '2407', '2427', '2429', '2432', '2433', '2436', '2443', '2447', '2454', '2455', '2469', '2475', '2476', '2478', '2479', '2486', '2487', '2488', '2491', '2492', '2497', '2499', '2503', '2504', '2505', '2509', '2512', '2518', '2523', '2524', '2525', '2538', '2541', '2544', '2545', '2548', '2551', '2555', '2558', '2559', '2560', '2564', '2565', '2569', '2573', '2585', '2588', '2590', '2602', '2603', '2605', '2612', '2618', '2622', '2635', '2640', '2651', '2652', '2675', '2679', '2680', '2685', '2692', '2693', '2697', '2705', '2710', '2711', '2713', '2718', '2723', '2725', '2727', '2734', '2735', '2736', '2738', '2740', '2741', '2749', '2750', '2753', '2754', '2755', '2765', '2774', '2777', '2780', '2785', '2792', '2799', '2800', '2802', '2804', '2808', '2814', '2817', '2818', '2822', '2828', '2832', '2833', '2840', '2859', '2860', '2863', '2876', '2881', '2882', '2883', '2890', '2900', '2904', '2911', '2924', '2936', '2945', '2950', '2951', '2966', '2985', '2986', '2993', '3007', '3009', '3011', '3015', '3017', '3037', '3041', '3043', '3056', '3062', '3068', '3074', '3078', '3081', '3082', '3083', '3088', '3097', '3103', '3106', '3107', '3108', '3111', '3115', '3118', '3120', '3130', '3132', '3140', '3152', '3154', '3157', '3159', '3163', '3167', '3169', '3171', '3184', '3188', '3197', '3210', '3219', '3221', '3222', '3236', '3237', '3245', '3249', '3261', '3268', '3270', '3279', '3280', '3288', '3292', '3294', '3298', '3301', '3305', '3307', '3312', '3313', '3314', '3323', '3327', '3328', '3342', '3351', '3356', '3377', '3391', '3396', '3399', '3400', '3402', '3403', '3404', '3409', '3414', '3419', '3425', '3441', '3442', '3447', '3454', '3456', '3470', '3471', '3478', '3481', '3496', '3501', '3502', '3506', '3521', '3525', '3527', '3548', '3552', '3563', '3587', '3592', '3596', '3604', '3608', '3611', '3617', '3622', '3623', '3626', '3630', '3632', '3635', '3638', '3641', '3646', '3648', '3650', '3656', '3660', '3677', '3678', '3680', '3685', '3689', '3693', '3702', '3703', '3707', '3717', '3726', '3734', '3740', '3743', '3759', '3764', '3769', '3771', '3772', '3777', '3783', '3785', '3798', '3801', '3802', '3807', '3808', '3811', '3814', '3815', '3819', '3827', '3832', '3841', '3848', '3849', '3854', '3866', '3871', '3875', '3889', '3891', '3904', '3905', '3910', '3914', '3916', '3919', '3923', '3931', '3936', '3940', '3950', '3951', '3958', '3963', '3967', '3971', '3975', '3982', '3983', '3988', '3991', '3995', '4014', '4016', '4021', '4025', '4026', '4035', '4038', '4054', '4060', '4067', '4079', '4082', '4085', '4088', '4098', '4102', '4104', '4114', '4118', '4131', '4142', '4143', '4146', '4156', '4157', '4159', '4193', '4195', '4196', '4214', '4218', '4229', '4240', '4256', '4258', '4260', '4262', '4266', '4278', '4284', '4286', '4290', '4294', '4298', '4305', '4309', '4310', '4323', '4325', '4329', '4334', '4335', '4339', '4345', '4347', '4351', '4354', '4355', '4369', '4371', '4380', '4385', '4389', '4391', '4392', '4395', '4396', '4400', '4404', '4406', '4410', '4418', '4420', '4423', '4428', '4429', '4431', '4432', '4440', '4452', '4453', '4461', '4462', '4463', '4465', '4466', '4476', '4480', '4497', '4498', '4502', '4505', '4509', '4511', '4527', '4538', '4539', '4542', '4547', '4554', '4560', '4562', '4581', '4583', '4585', '4592', '4596', '4604', '4617', '4620', '4645', '4652', '4656', '4659', '4662', '4667', '4668', '4670', '4671', '4672', '4676', '4686', '4688', '4694', '4697', '4702', '4710', '4718', '4720', '4722', '4723', '4728', '4750', '4752', '4755', '4757', '4758', '4761', '4762', '4770', '4772', '4773', '4774', '4777', '4782', '4789', '4804', '4812', '4813', '4818', '4819', '4821', '4828', '4830', '4831', '4834', '4835', '4839', '4842', '4845', '4857', '4867', '4868', '4872', '4877', '4878', '4884', '4887', '4891', '4894', '4896', '4899', '4900', '4901', '4902', '4904', '4905', '4908', '4909', '4911', '4913', '4926', '4927', '4930', '4938', '4945', '4946', '4949', '4954', '4956', '4958', '4961', '4967', '4968', '4974', '4989', '4993', '4997', '4999', '5013', '5015', '5018', '5021', '5023', '5024', '5032', '5033', '5040', '5041', '5050', '5052', '5061', '5063', '5066', '5069', '5071', '5088', '5092', '5095', '5103', '5112', '5127', '5139', '5140', '5144', '5154', '5155', '5162', '5163', '5167', '5174', '5180', '5184', '5186', '5190', '5194', '5196', '5197', '5203', '5208', '5213', '5216', '5224', '5228', '5231', '5235', '5246', '5252', '5289', '5290', '5295', '5296', '5297', '5308', '5315', '5321', '5328', '5335', '5351', '5361', '5389', '5399', '5404', '5424', '5426', '5430', '5440', '5441', '5449', '5455', '5456', '5458', '5464', '5467', '5508', '5514', '5515', '5535', '5537', '5544', '5548', '5551', '5568', '5574', '5578', '5587', '5589', '5601', '5611', '5619', '5622', '5631', '5634', '5662', '5671', '5677', '5689', '5693', '5700', '5703', '5708', '5709', '5720', '5721', '5723', '5728', '5733', '5739', '5752', '5753', '5756', '5762', '5764', '5768', '5770', '5771', '5774', '5779', '5781', '5796', '5808', '5809', '5814', '5816', '5828', '5837', '5839', '5851', '5852', '5857', '5859', '5865', '5869', '5876', '5878', '5881', '5890', '5893', '5896', '5897', '5899', '5902', '5914', '5919', '5928', '5938', '5939', '5944', '5953', '5957', '5959', '5967', '5968', '5982', '5984', '5986', '5992', '5995', '5997', '5999', '6001', '6002', '6009', '6029', '6030', '6044', '6045', '6049', '6053', '6054', '6067', '6068', '6070', '6071', '6083', '6086', '6094', '6095', '6099', '6106', '6112', '6118', '6127', '6134', '6141', '6142', '6143', '6145', '6146', '6147']\n",
      "\n"
     ]
    }
   ],
   "source": [
    "from collections import defaultdict\n",
    "\n",
    "# Fungsi untuk memeriksa validitas passage\n",
    "def is_valid_passage(passage):\n",
    "    return passage[\"text\"].strip() != \"\" and passage[\"title\"].strip() != \"\"\n",
    "\n",
    "# Fungsi untuk menghitung distribusi panjang passage dan mengembalikan query_id\n",
    "def compute_passage_distribution_with_ids(dataset, column_name):\n",
    "    distribution = defaultdict(list)  # Menyimpan query_id berdasarkan panjang passages\n",
    "    for row in dataset:\n",
    "        if column_name in row:\n",
    "            valid_passages = [\n",
    "                passage for passage in row[column_name] if is_valid_passage(passage)\n",
    "            ]\n",
    "            length = len(valid_passages)  # Hitung jumlah valid_passages\n",
    "            distribution[length].append(row[\"query_id\"])  # Simpan query_id berdasarkan panjang\n",
    "    return distribution\n",
    "\n",
    "# Hitung distribusi panjang untuk positive_passages\n",
    "positive_distribution_with_ids = compute_passage_distribution_with_ids(six_words_anwers_mr_tydi_train, \"positive_passages\")\n",
    "\n",
    "# Hitung distribusi panjang untuk negative_passages\n",
    "negative_distribution_with_ids = compute_passage_distribution_with_ids(six_words_anwers_mr_tydi_train, \"negative_passages\")\n",
    "\n",
    "# Tampilkan hasil\n",
    "print(\"Distribusi Positive Passages:\")\n",
    "for length, query_ids in sorted(positive_distribution_with_ids.items()):\n",
    "    print(f\"{length} valid passages: {len(query_ids)} rows\")\n",
    "    print(f\"Query IDs: {query_ids}\\n\")\n",
    "\n",
    "print(\"\\nDistribusi Negative Passages:\")\n",
    "for length, query_ids in sorted(negative_distribution_with_ids.items()):\n",
    "    print(f\"{length} valid passages: {len(query_ids)} rows\")\n",
    "    print(f\"Query IDs: {query_ids}\\n\")"
   ]
  },
  {
   "cell_type": "markdown",
   "metadata": {},
   "source": [
    "##### Memilih 30 sample untuk percobaan kecil"
   ]
  },
  {
   "cell_type": "code",
   "execution_count": 18,
   "metadata": {},
   "outputs": [],
   "source": [
    "# Ambil 30 baris secara random dari dataset yang telah difilter\n",
    "selected_rows = six_words_anwers_tydiqa_train.shuffle(seed=42).select(range(30))\n",
    "\n",
    "# Ambil semua question_text dari random_rows (tydi_qa subset)\n",
    "question_texts_samples = set(row[\"question_text\"] for row in selected_rows)"
   ]
  },
  {
   "cell_type": "code",
   "execution_count": 19,
   "metadata": {},
   "outputs": [
    {
     "data": {
      "application/vnd.jupyter.widget-view+json": {
       "model_id": "f00032cda7fd4deeab7208f5877744e0",
       "version_major": 2,
       "version_minor": 0
      },
      "text/plain": [
       "Filter:   0%|          | 0/3539 [00:00<?, ? examples/s]"
      ]
     },
     "metadata": {},
     "output_type": "display_data"
    }
   ],
   "source": [
    "# Fungsi untuk mencocokkan query di mr_tydi dengan question_text di tydiqa_gold\n",
    "def filter_queries(example):\n",
    "    return example[\"query\"] in question_texts_samples\n",
    "\n",
    "# Filter semua split di mr_tydi berdasarkan query yang cocok\n",
    "filtered_mr_tydi_samples = six_words_anwers_mr_tydi_train.filter(filter_queries)"
   ]
  },
  {
   "cell_type": "code",
   "execution_count": 20,
   "metadata": {},
   "outputs": [
    {
     "name": "stdout",
     "output_type": "stream",
     "text": [
      "Siapakah penulis anime naruto ?\n",
      "Apa novel pertama yang ditulis Ernest Miller Hemingway?\n",
      "Berapa lama Gempa bumi Lisboa 1755 terjadi?\n",
      "Apa itu Ligia?\n",
      "Siapa pendiri Boeing Commercial Airplanes?\n",
      "umur berapakah saat David Émile Durkheim mendirikan fakultas sosiologi pertama di Eropa?\n",
      "Berapa luas kota Raha ?\n",
      "Siapakah Menteri Transmigrasi dan Pemukiman Proyek lahan gambut satu juta hektar?\n",
      "Ada berapa jenis gulma ?\n",
      "Kapan universitas Sriwijaya berdiri ?\n",
      "Siapa nama pemimipin perang Goguryeo-Su Dinasti Sui pertama ?\n",
      "Darimana asal Robert Heinrich Herman Koch?\n",
      "berapakah luas Provinsi Jawa Tengah?\n",
      "Kapan pemerintahan Gugghiermu I dimulai?\n",
      "dimanakah televisi pertama diciptakan?\n",
      "apakah sistem pemerintahan di Amerika Serikat?\n",
      "Apakah ibukota Serbia?\n",
      "Dimana letak Universitas Cape Town?\n",
      "Siapa raja pertama Dinasti Ming?\n",
      "apakah nama ibukota Afganistan?\n",
      "Siapa itu Bimasena?\n",
      "Kapan Muhammad Saleh Werdisastro lahir ?\n",
      "Apa mata uang jepang?\n",
      "Dimana Samantha Louise Lewthwaite lahir?\n",
      "berapakah luas benua Afrika?\n",
      "Berapa lama dinasti Joseon berkuasa di Korea ?\n",
      "Berapa lama diperlukan untuk memproduksi Tuak nira?\n",
      "apakah nama ibukota Argentina?\n",
      "dimanakah kantor pusat PBB?\n",
      "Kapan perusahaan Ubisoft berdiri ?\n",
      "Total rows in joined dataset: 30\n",
      "{'id': '-4524059048903943069-0', 'language': 'indonesian', 'document_title': 'Masashi Kishimoto', 'passage_text': 'Masashi Kishimoto(岸本 斉史,Kishimoto Masashi, Template:Lahirmati[1]) adalah seorang Mangaka Jepang. Masashi Kishimoto mulai mengembangkan bakatnya akan menggambar semenjak usia SD. Dia menjadi mangaka terkenal semenjak karyanya, Naruto sukses besar baik di Jepang sendiri ataupun di negara-negara lain. Dia suka membaca manga sejak usia muda, sampai dia menunjukkan keinginannya untuk menulis manga sendiri. Akira Toriyama dan Katsuhiro Otomo adalah sebagai inspirasi utamanya. Pada tahun 1999 Naruto pertama kali dipublikasikan di Shounen jump membuat Kishimoto menerima penghargaan hop step. Saudara kembar Masashi Kishimoto, Seishi Kishimoto, juga merupakan seniman manga dengan karyanya yang terkenal 666 Satan (O-Parts Hunter) dan Blazer Drive. Selama penerbitan Naruto, Kishimoto menikah dan menjadi seorang ayah.[2]', 'query': 'Siapakah penulis anime naruto ?', 'answers': {'limit_byte': [17], 'start_byte': [0], 'text': ['Masashi Kishimoto']}, 'query_id': '1308', 'positive_passages': [{'docid': '22117#0', 'text': 'Masashi Kishimoto(岸本 斉史,Kishimoto Masashi, Template:Lahirmati[1]) adalah seorang Mangaka Jepang. Masashi Kishimoto mulai mengembangkan bakatnya akan menggambar semenjak usia SD. Dia menjadi mangaka terkenal semenjak karyanya, Naruto sukses besar baik di Jepang sendiri ataupun di negara-negara lain. Dia suka membaca manga sejak usia muda, sampai dia menunjukkan keinginannya untuk menulis manga sendiri. Akira Toriyama dan Katsuhiro Otomo adalah sebagai inspirasi utamanya. Pada tahun 1999 Naruto pertama kali dipublikasikan di Shounen jump membuat Kishimoto menerima penghargaan hop step. Saudara kembar Masashi Kishimoto, Seishi Kishimoto, juga merupakan seniman manga dengan karyanya yang terkenal 666 Satan (O-Parts Hunter) dan Blazer Drive. Selama penerbitan Naruto, Kishimoto menikah dan menjadi seorang ayah.[2]', 'title': 'Masashi Kishimoto'}], 'negative_passages': [{'docid': '211490#12', 'text': 'Beberapa daftar karakter yang muncul dalam serial anime atau manga Naruto.', 'title': 'Daftar karakter Naruto'}, {'docid': '86757#27', 'text': 'Sayang sekali seusai pertarungan dengan Naruto, Sasuke hanya muncul beberapa kali yaitu di episode 170 dan 202 di Anime (sebagai special guest, dan hanya beberapa detik). Anime Naruto diwarnai misi-misi yang terpisah dari komiknya.', 'title': 'Sasuke Uchiha'}, {'docid': '160482#28', 'text': 'Desa ini juga merupakan desa fiktif yang ada di dalam anime dan manga Naruto. Desa ini tersembunyi di antara rerumputan yang luas. Tak banyak yang mengetahui tentang desa ini, seseorang dari Akatsuki yaitu Zetsu menggunakan ikat kepala desa tersebut. Desa ini merupakan latar dari dan merupakan tempat Hozukijyou, penjara paling mengerikan. Desa ini juga masuk dalam cerita Naruto Jump Fiesta.', 'title': 'Daftar daerah dalam seri Naruto'}, {'docid': '16849#2', 'text': 'Viz Media memiliki lisensi manga dan anime produksi Amerika Utara. Viz telah menerbitkan seri ini ke dalam majalah mereka, yaitu Shonen Jump, serta beberapa volume. Seri anime ini mulai ditayangkan di Amerika Serikat dan Kanada pada tahun 2005, dan kemudian di Inggris dan Australia pada tahun 2006 dan 2007. Film, serta sebagian OVA dari seri ini juga telah dirilis oleh Viz, dengan tayang perdana di bioskop. Volume DVD pertama Naruto: Shippuden dirilis oleh Viz di Amerika Utara pada 29 September 2009, dan mulai disiarkan di Disney XD pada bulan Oktober pada tahun yang sama. Naruto Shippuden ditayangkan di Adult Swim, Toonami pada Januari 2014. Viz Media mulai streaming kedua seri pada layanan streaming Neon Alley mereka pada Desember 2012.', 'title': 'Naruto'}, {'docid': '149231#0', 'text': 'Gaara adalah nama seorang tokoh fiksi dalam serial manga dan anime Naruto. Gaara adalah seorang anak dari kazekage keempat yang mempunyai kekuatan untuk mengendalikan dan mengontrol pasir. Ciri khasnya adalah gentong pasir yang selalu dibawa-bawa di punggungnya dan luka bertuliskan \"ai - cinta\" pada dahinya.', 'title': 'Gaara'}, {'docid': '2352320#0', 'text': 'Musim kedua dari serial anime \"Naruto\" yang disutradarai oleh Hayato Date, dan diproduksi oleh Studio Pierrot dan TV Tokyo. Berdasarkan pada serial manga Masashi Kishimoto, musim tersebut mengisahkan Naruto menyelesaikan Ujian Chūnin hanya untuk menemukan invasi Konoha.', 'title': 'Naruto (musim 2)'}, {'docid': '160482#26', 'text': 'Desa ini merupakan desa fiktif di dalam anime dan manga Naruto. Di desa ini juga terdapat shinobi yang bergabung dengan kelompok Akatsuki, yaitu sebuah kelompok antagonis di anime dan manga Naruto. Shinobi tersebut adalah Kakuzu. Selain itu, desa ini juga memiliki seorang Jinchuuriki ekor 7 yang bernama fū.', 'title': 'Daftar daerah dalam seri Naruto'}, {'docid': '2352781#0', 'text': 'Musim kelima dan terakhir serial anime \"Naruto\", yang berjudul \"5th Stage\" di Jepang, disutradarai oleh Hayato Date, diproduksi oleh Studio Pierrot dan TV Tokyo dan berdasarkan pada manga \"Naruto\" buatan Masashi Kishimoto. Musim tersebut mengisahkan misi-misi dari para ninja Konohagakure sampai Naruto Uzumaki dibawa gurunya Jiraiya untuk berlatih ke seluruh dunia. Jalan ceritanya dilanjutkan dalam sekuel \"Naruto: Shippuden\" yang tayang perdana di Jepang tak lama setelah serial tersebut berakhir.', 'title': 'Naruto (musim 5)'}, {'docid': '105206#0', 'text': 'Plot Naruto, atau sering juga disebut Naruto I, adalah plot cerita dari bagian pertama anime dan seri manga Naruto, cerita difokuskan pada petualangan Naruto Uzumaki pada awal karier ninjanya', 'title': 'Plot Naruto'}, {'docid': '1404692#0', 'text': 'Manga \"Naruto\" ditulis oleh Masashi Kishimoto dan diterbitkan oleh Shueisha pada \"Shōnen Jump Mingguan\". Serial ini mulai diserialkan dalam 43 edisi sejak tahun 1999. melanjutkan lebih dari enam ratus bab dalam semua volumenya. Manga \"Naruto\" diserialkan di Amerika Utara oleh Viz Media di majalah antologi manga mereka \"Shonen Jump\", dengan bab pertama dari adaptasi bahasa Inggris yang diterbitkan pada edisi Januari 2003. Manga \"Naruto\" dibagi dalam dua bagian untuk membagi alur cerita; bagian pertama, meliputi 238 bab dari seri pertama. Bagian II dari alur cerita \"Naruto\" dimulai pada bab 245, dan berlangsung selama dua setengah tahun setelah berakhirnya Bagian I. Enam bab antara Bagian I dan Bagian II membentuk gaiden yang terjadi sebelum alur cerita, disebut . sebuah anime adaptasi dari serial, diproduksi oleh Studio Pierrot dan TV Tokyo, disiarkan di TV Tokyo, dengan bab pertama yang disiarkan pada 3 Oktober 2002. Bab terakhir dari anime \"Naruto\" disiarkan pada 8 Februari 2007, dengan adaptasi anime dari Bagian II, dikenal sebagai \"Naruto: Shippūden\", untuk menggantikannya.', 'title': 'Daftar bab Naruto (Bagian I)'}, {'docid': '16849#29', 'text': 'Naruto adalah salah satu seri manga terlaris sepanjang masa yang telah mencetak lebih dari 130 juta kopi di Jepang. Diserialkan di majalah Viz Shonen Jump, Naruto telah menjadi salah satu manga terlaris. Baik manga maupun anime telah mencapai distribusi ke luar negeri yang luar biasa, yang diterbitkan di lebih dari dua puluh negara dan versi anime disiarkan di lebih dari enam puluh negara.[27]', 'title': 'Naruto'}, {'docid': '1766134#15', 'text': 'Tanggapan kritikus terhadap karakter Boruto pada umumnya beragam. Saat pertama kali melihatnya, Ramsey Isler dari IGN menyebut bahwa ia terlalu mirip dengan ayahnya. Di sisi lain, Andy Hanley dari UK Anime Network mengatakan bahwa meskipun desain dan tindakannya mirip dengan Naruto, Boruto tidak seperti ayahnya dan memiliki kepribadian berbeda. Amy McNulty dari Anime News Network dan Hanley menikmati hubungan Boruto dengan Naruto karena perbedaan pada masa kecil mereka dan mengenai bagaimana aspek ini menjadi fokus dalam film \"Boruto: Naruto the Movie\". McNulty juga menyukai perkembangan Boruto ketika ia khawatir terhadap nasib ayahnya setelah diserang oleh Momoshiki. Ia memuji peran Amanda C. Miller sebagai pengisi suara Boruto versi bahasa Inggris, namun merasa suaranya kadang-kadang terdengar lebih feminim daripada pengisi suara Boruto versi bahasa Jepang. Christian Chiok dari Japanator menikmati perkembangan karakter Boruto, hubungannya dengan ayahnya, dan seberapa menyentuh aspek tersebut saat muncul dalam film. Alexandria Hill dari \"Otaku USA\" menikmati pertarungan Boruto dengan penjahat dalam film tersebut serta kombinasinya dengan Naruto dan Sasuke. Chris Zimmerman dari DVD Talk menyebut para penulis naskah cukup memahami hubungan Boruto yang buruk dengan ayahnya dan bagaimana hal tersebut membaik selama bagian klimaks dari film. Rebecca Silverman dari Anime News Network memuji para penulis naskah yang berhasil mengembangkan kegelisahan Boruto tanpa memunculkannya sebagai \"rengekan remaja\" dan bagaimana Sasuke Uchiha memutuskan untuk melatihnya ketika melihat kemiripannya dengan Naruto. Leroy Douresseaux menyukai fakta bahwa karakter Boruto telah mulai berkembang sejak volume kedua dari seri.', 'title': 'Boruto Uzumaki'}, {'docid': '16849#1', 'text': 'Manga Naruto pertama kali diterbitkan di Jepang oleh Shueisha pada tahun 1999 dalam edisi ke-43 majalah Shonen Jump. Di Indonesia, manga ini diterbitkan oleh Elex Media Komputindo. Popularitas dan panjang seri Naruto sendiri (terutama di Jepang) menyaingi Dragon Ball karya Akira Toriyama, sedangkan serial anime Naruto, diproduksi oleh Studio Pierrot dan Aniplex, disiarkan secara perdana di Jepang oleh jaringan TV Tokyo dan juga oleh jaringan televisi satelit khusus anime, seperti Animax dan stasiun televisi lainnya, pada 3 Oktober 2002 sampai sekarang. Seri pertama terdiri atas 9 musim dan berlangsung 220 episode. Musim pertama dari seri kedua mulai ditayangkan pada tanggal 15 Februari 2007. Di Indonesia sendiri, anime Naruto pernah ditayangkan oleh stasiun televisi Trans TV, yang kemudian ditayangkan lebih lanjut oleh GTV dan sempat ditayangkan di Indosiar untuk musim keempat dan kelima sampai Naruto Shippuden musim kelima. Selain serial anime, Studio Pierrot telah mengembangkan delapan film untuk seri dan beberapa original video animation (OVA). Jenis barang dagangan termasuk novel ringan, permainan video dan koleksi kartu yang dikembangkan oleh beberapa perusahaan.', 'title': 'Naruto'}, {'docid': '1404660#1', 'text': 'Beberapa adaptasi berdasarkan \"Naruto\" telah dibuat, termasuk dua seri anime dan tujuh film. Serial anime pertama, juga berjudul \"Naruto\", meliputi keseluruhan Bagian I dan lebih dari 220 bab. Yang kedua, berjudul , berdasarkan pada Bagian II. Kedua seri ini diproduksi oleh Studio Pierrot dan TV Tokyo, dan ditayangkan pada TV Tokyo.', 'title': 'Daftar volume Naruto'}, {'docid': '16849#33', 'text': 'Berikut beberapa nilai kehidupan yang terkandung di dalam anime dan manga Naruto:', 'title': 'Naruto'}, {'docid': '16849#0', 'text': 'Naruto (ナルト) adalah sebuah serial manga karya Masashi Kishimoto yang diadaptasi menjadi serial anime. Manga Naruto bercerita seputar kehidupan tokoh utamanya, Naruto Uzumaki, seorang ninja yang hiperaktif, periang, dan ambisius yang ingin mewujudkan keinginannya untuk mendapatkan gelar Hokage, pemimpin dan ninja terkuat di desanya. Serial ini didasarkan pada komik one-shot oleh Kishimoto yang diterbitkan dalam edisi Akamaru Jump pada Agustus 1997.[1]', 'title': 'Naruto'}, {'docid': '1404789#2', 'text': 'Adaptasi anime Bagian II, diproduksi oleh Studio Pierrot dan TV Tokyo, mulai disiarkan pada 15 Februari 2007, di TV Tokyo dengan nama . Episode ini mulai disiarkan setelah akhir dari anime asli \"Naruto\", yang telah menunjukkan episode filler untuk memperluas kesenjangan alur cerita antara anime dan manga.', 'title': 'Daftar bab Naruto (Bagian II, volume 49-72)'}, {'docid': '1066057#0', 'text': 'Situs HUT Naruto 10 meluncurkan film dan iklan yang ditunjukkan bersama dengan pratinjau The Three-Tails Arrival anime arc. Situs resmi dari anime \"Naruto: Shippūden\" telah memasang video promosi film.', 'title': 'Naruto Shippuden the Movie: The Will of Fire'}, {'docid': '1766134#4', 'text': 'Dibimbingnya Boruto oleh rival sekaligus teman terbaik Naruto—Sasuke Uchiha, dipengaruhi oleh kurangnya kemunculan Sasuke di film-film \"Naruto\". Kishimoto telah memutuskan bahwa ia menginginkan Sasuke untuk memiliki peran penting di \"Boruto: Naruto the Movie\", yang juga ditulisnya. Di film tersebut, Sasuke menjadi guru dari Boruto, dan ini terinspirasi dari karakter Piccolo dari seri manga \"Dragon Ball\" karya Akira Toriyama. Sebagai mantan musuh dari protagonis \"Dragon Ball\" Goku, Piccolo menjadi guru dari putra pertama Goku, Gohan. Sutradara anime dan film \"Boruto\", Hiroyuki Yamashita, mengatakan bahwa saat pertama kali ia melihatnya di yang khusus mengisahkan Sarada Uchiha, ia menyukai karakter Boruto. Dalam pembuatan film \"Boruto\", Yamashita mengatakan beberapa adegan terkait Boruto dihapus karena keterbatasan waktu—seperti interaksi antara Boruto dengan ayahnya, begitu pula interaksi lain seperti di antara Boruto dan Sarada. Adegan yang tersulit untuk staf adalah penggunaan teknik yang akan menghilang segera setelah digunakan dan muncul kembali sebagai sebuah serangan. Adegan di mana Naruto menyalurkan seluruh chakranya untuk memperbesar Rasengan Boruto ditangani secara hati-hati dalam film.', 'title': 'Boruto Uzumaki'}, {'docid': '1404780#2', 'text': 'Adaptasi anime Bagian II, diproduksi oleh Studio Pierrot dan TV Tokyo, mulai disiarkan pada 15 Februari 2007, di TV Tokyo dengan nama . Episode ini mulai disiarkan setelah akhir dari anime asli \"Naruto\", yang telah menunjukkan episode filler untuk memperluas kesenjangan alur cerita antara anime dan manga.', 'title': 'Daftar bab Naruto (Bagian II, volume 28-48)'}, {'docid': '2348077#0', 'text': 'Musim ketiga serial anime \"\" yang disutradarai oleh Hayato Date, dan diproduksi oleh Studio Pierrot dan TV Tokyo. Serial tersebut berdasarkan pada Bagian II pada serial manga karya Masashi Kishimoto. Musim ketiganya ditayangkan dari April sampai Agustus 2008 di TV Tokyo. Berjudul , anime tersebut adalah satu-satunya musim yang mengisahkan Naruto Uzumaki berusaha untuk melindungi biarawan Asuma Sarutobi bernama Sora.', 'title': 'Naruto: Shippuden (musim 3)'}, {'docid': '2515897#1', 'text': 'Munculnya \"Boruto\" berawal dari proposal Shueisha kepada Kishimoto untuk membuat cerita sekuel \"Naruto\". Namun, Kishimoto menolak tawaran ini dan mengajukan mantan asistennya, Mikio Ikemoto untuk menggambarnya; dan penulis film \"Boruto\"—Ukyō Kodachi, sebagai penulis ceritanya. Meski Kodachi dan Ikemoto bekerja sama untuk versi manga, Kodachi juga memantau versi adaptasi anime bersama Kishimoto.', 'title': 'Boruto: Naruto Next Generations'}, {'docid': '2348336#0', 'text': 'Musim ketujuh serial anime \"\" yang disutradarai oleh Hayato Date, dan diproduksi oleh Studio Pierrot dan TV Tokyo. Musim ketujuhnya ditayangkan dari 21 Januari sampai 11 Maret 2010 di TV Tokyo di Jepang. Anime tersebut mengisahkan Naruto Uzumaki berupaya menghancurkan Jutsu Terlarang. Musim tersebut disebut pada DVD-DVDnya sebagai bab .', 'title': 'Naruto: Shippuden (musim 7)'}, {'docid': '1766134#16', 'text': 'McNulty mengekspresikan kesenangannya tentang bagaimana para penonton anime \"Boruto\" bisa melihat keseharian Boruto di akademi ninja yang hanya ditampilkan secara singkat di seri \"Naruto\" dan mengenai bagaimana Boruto tidak memiliki kelakuan yang sama dengan ayahnya saat masih kecil. Selain menilai bahwa Boruto masih harus bertarung dengan musuh yang dikuasai oleh \"bayangan\" di anime, penulis dari Anime Now—Sarah Nelkin, menilai bahwa aspek ini lebih ringan daripada aksi yang dilakukan Naruto di seri pertama, seperti pertarungannya melawan Sasuke Uchiha di mana keduanya menjadi teman setelah hampir membunuh satu sama lain. Setelah meningkatnya tensi dari plot cerita pertama dari anime, McNulty memuji pertarungan antara Boruto, Mitsuki, dan Sumire atas kualitas animasinya. Para pengulas juga melihat bagaimana Boruto mewarisi cara ayahnya dalam melihat sisi baik dari musuhnya demi menghindari kekerasan. Sutradara senior dari Viz Media, Kevin Hamric, menyebut Boruto memiliki perbedaan dengan ayahnya seperti tidak adanya niat untuk menjadi pemimpin desa dan justru melakukan kegiatan lain seperti bermain permainan video. Namun, Hamric mengatakan bahwa Boruto pada awalnya memiliki keinginan untuk melampaui ayahnya. Pengisi suara Denki Kaminarimon, Chihiro Ikki, mengatakan bahwa ia menyukai cara Boruto melindungi Denki dari para penindas pada awal dimulainya seri karena ia sendiri pernah ditindas saat masih kecil. Terkait adegan masa depan yang menampilkan desa yang telah hancur, Ikki mengatakan bahwa ia tidak tahu apa yang akan terjadi namun berharap Denki akan ada pada masa depan tersebut untuk membantu Boruto yang sudah dewasa demi melindungi dunia ninja dari para tokoh antagonis yang mengancamnya.', 'title': 'Boruto Uzumaki'}, {'docid': '193896#0', 'text': 'Temari adalah nama seorang tokoh fiksi dari anime dan manga \"Naruto\". Ia adalah tokoh utama wanita dari Sunagakure yang merupakan kakak dari Kankurou dan Gaara. Temari pertama kali muncul di Ujian Chuunin. Temari juga berarti bola untuk mainan anak perempuan di Jepang yang dibuat dari benang, kain, atau karet. Pengisi suara Temari adalah Paku Romi, seiyuu yang sering mengisikan suara untuk tokoh laki-laki di anime sehingga suara Temari agak berat, mirip laki-laki.', 'title': 'Temari (Naruto)'}, {'docid': '1766134#0', 'text': ', awalnya dieja oleh Viz Media sebagai \"Bolt\", adalah seorang karakter fiksi yang diciptakan oleh mangaka Masashi Kishimoto, yang pertama kali muncul pada akhir cerita dari seri manga \"Naruto\" sebagai putra dari tokoh utama dan protagonis Naruto Uzumaki dan Hinata Hyuga. Ia kemudian muncul sebagai tokoh utama dalam film anime tahun 2015 bertajuk \"\", di mana ia berlatih sebagai seorang ninja untuk melampaui ayahnya, pemimpin desa ninja Konohagakure. Boruto juga berperan sebagai tokoh protagonis dalam seri manga dan anime \".\" Di manga, kisah diawali dengan menceritakan kembali film \"Boruto\", sedangkan anime dimulai dari masa kecilnya di akademi ninja di mana ia bertemu dengan rekan-rekannya di masa depan—Sarada Uchiha dan Mitsuki—begitu pula dengan gurunya, Konohamaru Sarutobi.', 'title': 'Boruto Uzumaki'}, {'docid': '206974#1', 'text': 'Masashi Kishimoto mengembangkan konsep jutsu untuk menjelaskan sumber kemampuan super para ninja dalam manga karyanya, serta untuk menetapkan gambaran orisinal tentang sosok ninja dalam manga tersebut.[1] Pengadaan konsep jutsu dalam seri tersebut mendapatkan pujian dan kritik dari beberapa media massa anime dan manga. T.H.E.M. Anime Reviews menyatakan bahwa jutsu merupakan fokus utama dalam kisah Naruto sekaligus penyebab kesukesannya, namun ia juga mengkritik penampilan jutsu tertentu yang berulang-ulang pada adegan pertarungan.[2] Anime News Network sependapat dengan pendapat tersebut, tetapi ia memuji penggambaran jutsu baik dalam anime maupun manga.[3][4][5]', 'title': 'Jutsu (Naruto)'}, {'docid': '1766134#7', 'text': 'Karena para staf dari anime \"Naruto\" menggambarkan sosok Naruto dan Sasuke sebagai \"karakter legendaris\", para pengembang anime dari studio Pierrot mencoba untuk berhati-hati dalam menggambarkan sosok Boruto dan kawan-kawannya, atau lebih dikenal dengan \"generasi baru\", sebagai para tokoh protagonis yang baru. Mereka juga berniat untuk membiarkan generasi baru berkembang dengan cara yang sama seperti generasi sebelumnya. Namun, Kishimoto khawatir perihal bagaimana Boruto dan teman-temannya bisa menyamai tingkat kekuatan Naruto dan Sasuke karena menurutnya hal ini repetitif.', 'title': 'Boruto Uzumaki'}, {'docid': '1799303#0', 'text': 'Naruto SD: Rock Lee no Seishun Full-Power Ninden atau hanya disebut Naruto SD adalah sebuah judul anime yang diadaptasi dari manga Spin-Off berjudul Rock Lee\\'s Springtime of Youth Full Power Ninja Chronicles yang dibuat oleh asisten Masashi Kishimoto bernama Kenji Taira. Banyak yang mengira bahwa singkatan dari SD pada judul anime ini adalah \"Super Deformed\" padahal arti sebenarnya yaitu \"Sugoi Doryoku\" atau bisa diartikan sebagai \"Usaha Yang Mengaggumkan\". Anime ini pertama kali diumumkan pada Februari 2012 oleh Shueisha. Dengan diproduksi oleh Studio Pierrot dan disutradarai oleh Masahiko Murata, serial ini memiliki 51 episode dan pertama kali tayang pada 3 April 2012 di TV Tokyo.\\nWalaupun judulnya Naruto SD tapi yang menjadi tokoh utamanya bukanlah Naruto Uzumaki melainkan Rock Lee, sorang ninja konoha yang mampu melakukan Taijutsu dengan baik tapi tidak punya kemampuan sama sekali dalam Ninjutsu maupun Genjutsu. Alur ceritanya sendiri pun tidak mengikuti plot ‘’Naruto Shippuden’’ melainkan lebih kepada kehidupan sehari-hari Rock Lee dan rekan se-timnya dalam menghadapi masalah-masalah mereka yang nantinya malah menyebabkan banyaknya adegan konyol dan lucu yang terjadi akibat tingkah laku Rock Lee yang kocak. Anime ini juga ditayangkan di Indonesia oleh Global TV. Keunikan lain dari anime ini adalah bentuk para tokohnya yang berbentuk chibi sehingga lebih menimbulkan kesan lucunya.', 'title': 'Naruto SD'}, {'docid': '2515897#0', 'text': ', juga dikenal sebagai \"Boruto\", adalah sebuah seri manga Jepang yang ditulis oleh Ukyō Kodachi dan diilustrasikan oleh Mikio Ikemoto. Dimuat di majalah manga \"shōnen\" \"Weekly Shōnen Jump\" milik Shueisha, \"Boruto\" adalah cerita sempalan dan sekuel dari manga \"Naruto\" karya Masashi Kishimoto, yang mengisahkan kehidupan putra Naruto Uzumaki, Boruto Uzumaki, dan kelompok ninjanya. Versi adaptasi anime televisi yang disutradarai oleh Noriyuki Abe mulai tayang di TV Tokyo pada tanggal 5 April 2017. Berbeda dengan versi manganya, yang menceritakan ulang peristiwa dalam film \"\" (2015), versi anime \"Boruto\" berperan sebagai prekuel yang berlatar sebelum Boruto dan teman-temannya menjadi ninja pada plot cerita berikutnya. Serangkaian novel ringan untuk manga ini juga telah diterbitkan.', 'title': 'Boruto: Naruto Next Generations'}]}\n"
     ]
    }
   ],
   "source": [
    "filtered_tydiqa_samples = selected_rows.rename_column(\"question_text\", \"query\")\n",
    "\n",
    "# Konversi filtered_mr_tydi menjadi dictionary dengan query sebagai kunci\n",
    "filtered_mr_tydi_samples_dict = {row[\"query\"]: row for row in filtered_mr_tydi_samples}\n",
    "\n",
    "# Gabungkan selected_rows dengan filtered_mr_tydi berdasarkan query\n",
    "joined_rows = []\n",
    "for row in filtered_tydiqa_samples:\n",
    "    query = row[\"query\"]\n",
    "    print(query)\n",
    "    \n",
    "    if query in filtered_mr_tydi_samples_dict:\n",
    "        # Gabungkan baris dari selected_rows dan filtered_mr_tydi\n",
    "        combined_row = {**row, **filtered_mr_tydi_samples_dict[query]}  # Merge kedua dictionary\n",
    "        joined_rows.append(combined_row)\n",
    "\n",
    "# Hasil akhir: dataset baru dengan hasil join\n",
    "from datasets import Dataset\n",
    "joined_dataset = Dataset.from_list(joined_rows)\n",
    "\n",
    "# Tampilkan informasi hasil\n",
    "print(f\"Total rows in joined dataset: {len(joined_dataset)}\")\n",
    "print(joined_dataset[0])  # Contoh row"
   ]
  },
  {
   "cell_type": "code",
   "execution_count": 73,
   "metadata": {},
   "outputs": [
    {
     "name": "stdout",
     "output_type": "stream",
     "text": [
      "Distribusi Positive Passages:\n",
      "1 valid passages: 30 rows\n",
      "Query IDs: ['1308', '5767', '2165', '3960', '1126', '5291', '365', '2426', '461', '2757', '6126', '84', '2489', '4276', '5455', '5295', '6032', '5432', '4309', '2347', '2890', '4740', '4541', '3520', '687', '3125', '2278', '5804', '3680', '4787']\n",
      "\n",
      "\n",
      "Distribusi Negative Passages:\n",
      "8 valid passages: 1 rows\n",
      "Query IDs: ['3960']\n",
      "\n",
      "29 valid passages: 21 rows\n",
      "Query IDs: ['5767', '2165', '1126', '5291', '365', '2426', '2757', '6126', '84', '2489', '4276', '6032', '5432', '4740', '4541', '3520', '687', '3125', '2278', '5804', '4787']\n",
      "\n",
      "30 valid passages: 8 rows\n",
      "Query IDs: ['1308', '461', '5455', '5295', '4309', '2347', '2890', '3680']\n",
      "\n"
     ]
    }
   ],
   "source": [
    "# Hitung distribusi panjang untuk positive_passages\n",
    "positive_distribution_with_ids = compute_passage_distribution_with_ids(joined_dataset, \"positive_passages\")\n",
    "\n",
    "# Hitung distribusi panjang untuk negative_passages\n",
    "negative_distribution_with_ids = compute_passage_distribution_with_ids(joined_dataset, \"negative_passages\")\n",
    "\n",
    "# Tampilkan hasil\n",
    "print(\"Distribusi Positive Passages:\")\n",
    "for length, query_ids in sorted(positive_distribution_with_ids.items()):\n",
    "    print(f\"{length} valid passages: {len(query_ids)} rows\")\n",
    "    print(f\"Query IDs: {query_ids}\\n\")\n",
    "\n",
    "print(\"\\nDistribusi Negative Passages:\")\n",
    "for length, query_ids in sorted(negative_distribution_with_ids.items()):\n",
    "    print(f\"{length} valid passages: {len(query_ids)} rows\")\n",
    "    print(f\"Query IDs: {query_ids}\\n\")"
   ]
  },
  {
   "cell_type": "code",
   "execution_count": null,
   "metadata": {},
   "outputs": [],
   "source": [
    "from datasets import Dataset\n",
    "\n",
    "# Fungsi untuk menggabungkan positive_passages dan negative_passages\n",
    "def combine_passages(example):\n",
    "    example['all_passages'] = example['positive_passages'] + example['negative_passages']\n",
    "    return example\n",
    "\n",
    "# Proses penggabungan menggunakan map\n",
    "joined_dataset = joined_dataset.map(combine_passages)\n",
    "\n",
    "# Mengecek hasil\n",
    "print(joined_dataset[0]['all_passages'])  # Menampilkan isi kolom baru 'all_passages' pada row pertama"
   ]
  },
  {
   "cell_type": "code",
   "execution_count": 39,
   "metadata": {},
   "outputs": [
    {
     "data": {
      "application/vnd.jupyter.widget-view+json": {
       "model_id": "4847bddc2129448f95c6b8042ea07af5",
       "version_major": 2,
       "version_minor": 0
      },
      "text/plain": [
       "Map:   0%|          | 0/30 [00:00<?, ? examples/s]"
      ]
     },
     "metadata": {},
     "output_type": "display_data"
    },
    {
     "name": "stdout",
     "output_type": "stream",
     "text": [
      "['judul: Masashi Kishimoto teks: Masashi Kishimoto(岸本 斉史,Kishimoto Masashi, Template:Lahirmati[1]) adalah seorang Mangaka Jepang. Masashi Kishimoto mulai mengembangkan bakatnya akan menggambar semenjak usia SD. Dia menjadi mangaka terkenal semenjak karyanya, Naruto sukses besar baik di Jepang sendiri ataupun di negara-negara lain. Dia suka membaca manga sejak usia muda, sampai dia menunjukkan keinginannya untuk menulis manga sendiri. Akira Toriyama dan Katsuhiro Otomo adalah sebagai inspirasi utamanya. Pada tahun 1999 Naruto pertama kali dipublikasikan di Shounen jump membuat Kishimoto menerima penghargaan hop step. Saudara kembar Masashi Kishimoto, Seishi Kishimoto, juga merupakan seniman manga dengan karyanya yang terkenal 666 Satan (O-Parts Hunter) dan Blazer Drive. Selama penerbitan Naruto, Kishimoto menikah dan menjadi seorang ayah.[2]', 'judul: Daftar karakter Naruto teks: Beberapa daftar karakter yang muncul dalam serial anime atau manga Naruto.', 'judul: Sasuke Uchiha teks: Sayang sekali seusai pertarungan dengan Naruto, Sasuke hanya muncul beberapa kali yaitu di episode 170 dan 202 di Anime (sebagai special guest, dan hanya beberapa detik). Anime Naruto diwarnai misi-misi yang terpisah dari komiknya.', 'judul: Daftar daerah dalam seri Naruto teks: Desa ini juga merupakan desa fiktif yang ada di dalam anime dan manga Naruto. Desa ini tersembunyi di antara rerumputan yang luas. Tak banyak yang mengetahui tentang desa ini, seseorang dari Akatsuki yaitu Zetsu menggunakan ikat kepala desa tersebut. Desa ini merupakan latar dari dan merupakan tempat Hozukijyou, penjara paling mengerikan. Desa ini juga masuk dalam cerita Naruto Jump Fiesta.', 'judul: Naruto teks: Viz Media memiliki lisensi manga dan anime produksi Amerika Utara. Viz telah menerbitkan seri ini ke dalam majalah mereka, yaitu Shonen Jump, serta beberapa volume. Seri anime ini mulai ditayangkan di Amerika Serikat dan Kanada pada tahun 2005, dan kemudian di Inggris dan Australia pada tahun 2006 dan 2007. Film, serta sebagian OVA dari seri ini juga telah dirilis oleh Viz, dengan tayang perdana di bioskop. Volume DVD pertama Naruto: Shippuden dirilis oleh Viz di Amerika Utara pada 29 September 2009, dan mulai disiarkan di Disney XD pada bulan Oktober pada tahun yang sama. Naruto Shippuden ditayangkan di Adult Swim, Toonami pada Januari 2014. Viz Media mulai streaming kedua seri pada layanan streaming Neon Alley mereka pada Desember 2012.', 'judul: Gaara teks: Gaara adalah nama seorang tokoh fiksi dalam serial manga dan anime Naruto. Gaara adalah seorang anak dari kazekage keempat yang mempunyai kekuatan untuk mengendalikan dan mengontrol pasir. Ciri khasnya adalah gentong pasir yang selalu dibawa-bawa di punggungnya dan luka bertuliskan \"ai - cinta\" pada dahinya.', 'judul: Naruto (musim 2) teks: Musim kedua dari serial anime \"Naruto\" yang disutradarai oleh Hayato Date, dan diproduksi oleh Studio Pierrot dan TV Tokyo. Berdasarkan pada serial manga Masashi Kishimoto, musim tersebut mengisahkan Naruto menyelesaikan Ujian Chūnin hanya untuk menemukan invasi Konoha.', 'judul: Daftar daerah dalam seri Naruto teks: Desa ini merupakan desa fiktif di dalam anime dan manga Naruto. Di desa ini juga terdapat shinobi yang bergabung dengan kelompok Akatsuki, yaitu sebuah kelompok antagonis di anime dan manga Naruto. Shinobi tersebut adalah Kakuzu. Selain itu, desa ini juga memiliki seorang Jinchuuriki ekor 7 yang bernama fū.', 'judul: Naruto (musim 5) teks: Musim kelima dan terakhir serial anime \"Naruto\", yang berjudul \"5th Stage\" di Jepang, disutradarai oleh Hayato Date, diproduksi oleh Studio Pierrot dan TV Tokyo dan berdasarkan pada manga \"Naruto\" buatan Masashi Kishimoto. Musim tersebut mengisahkan misi-misi dari para ninja Konohagakure sampai Naruto Uzumaki dibawa gurunya Jiraiya untuk berlatih ke seluruh dunia. Jalan ceritanya dilanjutkan dalam sekuel \"Naruto: Shippuden\" yang tayang perdana di Jepang tak lama setelah serial tersebut berakhir.', 'judul: Plot Naruto teks: Plot Naruto, atau sering juga disebut Naruto I, adalah plot cerita dari bagian pertama anime dan seri manga Naruto, cerita difokuskan pada petualangan Naruto Uzumaki pada awal karier ninjanya', 'judul: Daftar bab Naruto (Bagian I) teks: Manga \"Naruto\" ditulis oleh Masashi Kishimoto dan diterbitkan oleh Shueisha pada \"Shōnen Jump Mingguan\". Serial ini mulai diserialkan dalam 43 edisi sejak tahun 1999. melanjutkan lebih dari enam ratus bab dalam semua volumenya. Manga \"Naruto\" diserialkan di Amerika Utara oleh Viz Media di majalah antologi manga mereka \"Shonen Jump\", dengan bab pertama dari adaptasi bahasa Inggris yang diterbitkan pada edisi Januari 2003. Manga \"Naruto\" dibagi dalam dua bagian untuk membagi alur cerita; bagian pertama, meliputi 238 bab dari seri pertama. Bagian II dari alur cerita \"Naruto\" dimulai pada bab 245, dan berlangsung selama dua setengah tahun setelah berakhirnya Bagian I. Enam bab antara Bagian I dan Bagian II membentuk gaiden yang terjadi sebelum alur cerita, disebut . sebuah anime adaptasi dari serial, diproduksi oleh Studio Pierrot dan TV Tokyo, disiarkan di TV Tokyo, dengan bab pertama yang disiarkan pada 3 Oktober 2002. Bab terakhir dari anime \"Naruto\" disiarkan pada 8 Februari 2007, dengan adaptasi anime dari Bagian II, dikenal sebagai \"Naruto: Shippūden\", untuk menggantikannya.', 'judul: Naruto teks: Naruto adalah salah satu seri manga terlaris sepanjang masa yang telah mencetak lebih dari 130 juta kopi di Jepang. Diserialkan di majalah Viz Shonen Jump, Naruto telah menjadi salah satu manga terlaris. Baik manga maupun anime telah mencapai distribusi ke luar negeri yang luar biasa, yang diterbitkan di lebih dari dua puluh negara dan versi anime disiarkan di lebih dari enam puluh negara.[27]', 'judul: Boruto Uzumaki teks: Tanggapan kritikus terhadap karakter Boruto pada umumnya beragam. Saat pertama kali melihatnya, Ramsey Isler dari IGN menyebut bahwa ia terlalu mirip dengan ayahnya. Di sisi lain, Andy Hanley dari UK Anime Network mengatakan bahwa meskipun desain dan tindakannya mirip dengan Naruto, Boruto tidak seperti ayahnya dan memiliki kepribadian berbeda. Amy McNulty dari Anime News Network dan Hanley menikmati hubungan Boruto dengan Naruto karena perbedaan pada masa kecil mereka dan mengenai bagaimana aspek ini menjadi fokus dalam film \"Boruto: Naruto the Movie\". McNulty juga menyukai perkembangan Boruto ketika ia khawatir terhadap nasib ayahnya setelah diserang oleh Momoshiki. Ia memuji peran Amanda C. Miller sebagai pengisi suara Boruto versi bahasa Inggris, namun merasa suaranya kadang-kadang terdengar lebih feminim daripada pengisi suara Boruto versi bahasa Jepang. Christian Chiok dari Japanator menikmati perkembangan karakter Boruto, hubungannya dengan ayahnya, dan seberapa menyentuh aspek tersebut saat muncul dalam film. Alexandria Hill dari \"Otaku USA\" menikmati pertarungan Boruto dengan penjahat dalam film tersebut serta kombinasinya dengan Naruto dan Sasuke. Chris Zimmerman dari DVD Talk menyebut para penulis naskah cukup memahami hubungan Boruto yang buruk dengan ayahnya dan bagaimana hal tersebut membaik selama bagian klimaks dari film. Rebecca Silverman dari Anime News Network memuji para penulis naskah yang berhasil mengembangkan kegelisahan Boruto tanpa memunculkannya sebagai \"rengekan remaja\" dan bagaimana Sasuke Uchiha memutuskan untuk melatihnya ketika melihat kemiripannya dengan Naruto. Leroy Douresseaux menyukai fakta bahwa karakter Boruto telah mulai berkembang sejak volume kedua dari seri.', 'judul: Naruto teks: Manga Naruto pertama kali diterbitkan di Jepang oleh Shueisha pada tahun 1999 dalam edisi ke-43 majalah Shonen Jump. Di Indonesia, manga ini diterbitkan oleh Elex Media Komputindo. Popularitas dan panjang seri Naruto sendiri (terutama di Jepang) menyaingi Dragon Ball karya Akira Toriyama, sedangkan serial anime Naruto, diproduksi oleh Studio Pierrot dan Aniplex, disiarkan secara perdana di Jepang oleh jaringan TV Tokyo dan juga oleh jaringan televisi satelit khusus anime, seperti Animax dan stasiun televisi lainnya, pada 3 Oktober 2002 sampai sekarang. Seri pertama terdiri atas 9 musim dan berlangsung 220 episode. Musim pertama dari seri kedua mulai ditayangkan pada tanggal 15 Februari 2007. Di Indonesia sendiri, anime Naruto pernah ditayangkan oleh stasiun televisi Trans TV, yang kemudian ditayangkan lebih lanjut oleh GTV dan sempat ditayangkan di Indosiar untuk musim keempat dan kelima sampai Naruto Shippuden musim kelima. Selain serial anime, Studio Pierrot telah mengembangkan delapan film untuk seri dan beberapa original video animation (OVA). Jenis barang dagangan termasuk novel ringan, permainan video dan koleksi kartu yang dikembangkan oleh beberapa perusahaan.', 'judul: Daftar volume Naruto teks: Beberapa adaptasi berdasarkan \"Naruto\" telah dibuat, termasuk dua seri anime dan tujuh film. Serial anime pertama, juga berjudul \"Naruto\", meliputi keseluruhan Bagian I dan lebih dari 220 bab. Yang kedua, berjudul , berdasarkan pada Bagian II. Kedua seri ini diproduksi oleh Studio Pierrot dan TV Tokyo, dan ditayangkan pada TV Tokyo.', 'judul: Naruto teks: Berikut beberapa nilai kehidupan yang terkandung di dalam anime dan manga Naruto:', 'judul: Naruto teks: Naruto (ナルト) adalah sebuah serial manga karya Masashi Kishimoto yang diadaptasi menjadi serial anime. Manga Naruto bercerita seputar kehidupan tokoh utamanya, Naruto Uzumaki, seorang ninja yang hiperaktif, periang, dan ambisius yang ingin mewujudkan keinginannya untuk mendapatkan gelar Hokage, pemimpin dan ninja terkuat di desanya. Serial ini didasarkan pada komik one-shot oleh Kishimoto yang diterbitkan dalam edisi Akamaru Jump pada Agustus 1997.[1]', 'judul: Daftar bab Naruto (Bagian II, volume 49-72) teks: Adaptasi anime Bagian II, diproduksi oleh Studio Pierrot dan TV Tokyo, mulai disiarkan pada 15 Februari 2007, di TV Tokyo dengan nama . Episode ini mulai disiarkan setelah akhir dari anime asli \"Naruto\", yang telah menunjukkan episode filler untuk memperluas kesenjangan alur cerita antara anime dan manga.', 'judul: Naruto Shippuden the Movie: The Will of Fire teks: Situs HUT Naruto 10 meluncurkan film dan iklan yang ditunjukkan bersama dengan pratinjau The Three-Tails Arrival anime arc. Situs resmi dari anime \"Naruto: Shippūden\" telah memasang video promosi film.', 'judul: Boruto Uzumaki teks: Dibimbingnya Boruto oleh rival sekaligus teman terbaik Naruto—Sasuke Uchiha, dipengaruhi oleh kurangnya kemunculan Sasuke di film-film \"Naruto\". Kishimoto telah memutuskan bahwa ia menginginkan Sasuke untuk memiliki peran penting di \"Boruto: Naruto the Movie\", yang juga ditulisnya. Di film tersebut, Sasuke menjadi guru dari Boruto, dan ini terinspirasi dari karakter Piccolo dari seri manga \"Dragon Ball\" karya Akira Toriyama. Sebagai mantan musuh dari protagonis \"Dragon Ball\" Goku, Piccolo menjadi guru dari putra pertama Goku, Gohan. Sutradara anime dan film \"Boruto\", Hiroyuki Yamashita, mengatakan bahwa saat pertama kali ia melihatnya di yang khusus mengisahkan Sarada Uchiha, ia menyukai karakter Boruto. Dalam pembuatan film \"Boruto\", Yamashita mengatakan beberapa adegan terkait Boruto dihapus karena keterbatasan waktu—seperti interaksi antara Boruto dengan ayahnya, begitu pula interaksi lain seperti di antara Boruto dan Sarada. Adegan yang tersulit untuk staf adalah penggunaan teknik yang akan menghilang segera setelah digunakan dan muncul kembali sebagai sebuah serangan. Adegan di mana Naruto menyalurkan seluruh chakranya untuk memperbesar Rasengan Boruto ditangani secara hati-hati dalam film.', 'judul: Daftar bab Naruto (Bagian II, volume 28-48) teks: Adaptasi anime Bagian II, diproduksi oleh Studio Pierrot dan TV Tokyo, mulai disiarkan pada 15 Februari 2007, di TV Tokyo dengan nama . Episode ini mulai disiarkan setelah akhir dari anime asli \"Naruto\", yang telah menunjukkan episode filler untuk memperluas kesenjangan alur cerita antara anime dan manga.', 'judul: Naruto: Shippuden (musim 3) teks: Musim ketiga serial anime \"\" yang disutradarai oleh Hayato Date, dan diproduksi oleh Studio Pierrot dan TV Tokyo. Serial tersebut berdasarkan pada Bagian II pada serial manga karya Masashi Kishimoto. Musim ketiganya ditayangkan dari April sampai Agustus 2008 di TV Tokyo. Berjudul , anime tersebut adalah satu-satunya musim yang mengisahkan Naruto Uzumaki berusaha untuk melindungi biarawan Asuma Sarutobi bernama Sora.', 'judul: Boruto: Naruto Next Generations teks: Munculnya \"Boruto\" berawal dari proposal Shueisha kepada Kishimoto untuk membuat cerita sekuel \"Naruto\". Namun, Kishimoto menolak tawaran ini dan mengajukan mantan asistennya, Mikio Ikemoto untuk menggambarnya; dan penulis film \"Boruto\"—Ukyō Kodachi, sebagai penulis ceritanya. Meski Kodachi dan Ikemoto bekerja sama untuk versi manga, Kodachi juga memantau versi adaptasi anime bersama Kishimoto.', 'judul: Naruto: Shippuden (musim 7) teks: Musim ketujuh serial anime \"\" yang disutradarai oleh Hayato Date, dan diproduksi oleh Studio Pierrot dan TV Tokyo. Musim ketujuhnya ditayangkan dari 21 Januari sampai 11 Maret 2010 di TV Tokyo di Jepang. Anime tersebut mengisahkan Naruto Uzumaki berupaya menghancurkan Jutsu Terlarang. Musim tersebut disebut pada DVD-DVDnya sebagai bab .', 'judul: Boruto Uzumaki teks: McNulty mengekspresikan kesenangannya tentang bagaimana para penonton anime \"Boruto\" bisa melihat keseharian Boruto di akademi ninja yang hanya ditampilkan secara singkat di seri \"Naruto\" dan mengenai bagaimana Boruto tidak memiliki kelakuan yang sama dengan ayahnya saat masih kecil. Selain menilai bahwa Boruto masih harus bertarung dengan musuh yang dikuasai oleh \"bayangan\" di anime, penulis dari Anime Now—Sarah Nelkin, menilai bahwa aspek ini lebih ringan daripada aksi yang dilakukan Naruto di seri pertama, seperti pertarungannya melawan Sasuke Uchiha di mana keduanya menjadi teman setelah hampir membunuh satu sama lain. Setelah meningkatnya tensi dari plot cerita pertama dari anime, McNulty memuji pertarungan antara Boruto, Mitsuki, dan Sumire atas kualitas animasinya. Para pengulas juga melihat bagaimana Boruto mewarisi cara ayahnya dalam melihat sisi baik dari musuhnya demi menghindari kekerasan. Sutradara senior dari Viz Media, Kevin Hamric, menyebut Boruto memiliki perbedaan dengan ayahnya seperti tidak adanya niat untuk menjadi pemimpin desa dan justru melakukan kegiatan lain seperti bermain permainan video. Namun, Hamric mengatakan bahwa Boruto pada awalnya memiliki keinginan untuk melampaui ayahnya. Pengisi suara Denki Kaminarimon, Chihiro Ikki, mengatakan bahwa ia menyukai cara Boruto melindungi Denki dari para penindas pada awal dimulainya seri karena ia sendiri pernah ditindas saat masih kecil. Terkait adegan masa depan yang menampilkan desa yang telah hancur, Ikki mengatakan bahwa ia tidak tahu apa yang akan terjadi namun berharap Denki akan ada pada masa depan tersebut untuk membantu Boruto yang sudah dewasa demi melindungi dunia ninja dari para tokoh antagonis yang mengancamnya.', 'judul: Temari (Naruto) teks: Temari adalah nama seorang tokoh fiksi dari anime dan manga \"Naruto\". Ia adalah tokoh utama wanita dari Sunagakure yang merupakan kakak dari Kankurou dan Gaara. Temari pertama kali muncul di Ujian Chuunin. Temari juga berarti bola untuk mainan anak perempuan di Jepang yang dibuat dari benang, kain, atau karet. Pengisi suara Temari adalah Paku Romi, seiyuu yang sering mengisikan suara untuk tokoh laki-laki di anime sehingga suara Temari agak berat, mirip laki-laki.', 'judul: Boruto Uzumaki teks: , awalnya dieja oleh Viz Media sebagai \"Bolt\", adalah seorang karakter fiksi yang diciptakan oleh mangaka Masashi Kishimoto, yang pertama kali muncul pada akhir cerita dari seri manga \"Naruto\" sebagai putra dari tokoh utama dan protagonis Naruto Uzumaki dan Hinata Hyuga. Ia kemudian muncul sebagai tokoh utama dalam film anime tahun 2015 bertajuk \"\", di mana ia berlatih sebagai seorang ninja untuk melampaui ayahnya, pemimpin desa ninja Konohagakure. Boruto juga berperan sebagai tokoh protagonis dalam seri manga dan anime \".\" Di manga, kisah diawali dengan menceritakan kembali film \"Boruto\", sedangkan anime dimulai dari masa kecilnya di akademi ninja di mana ia bertemu dengan rekan-rekannya di masa depan—Sarada Uchiha dan Mitsuki—begitu pula dengan gurunya, Konohamaru Sarutobi.', 'judul: Jutsu (Naruto) teks: Masashi Kishimoto mengembangkan konsep jutsu untuk menjelaskan sumber kemampuan super para ninja dalam manga karyanya, serta untuk menetapkan gambaran orisinal tentang sosok ninja dalam manga tersebut.[1] Pengadaan konsep jutsu dalam seri tersebut mendapatkan pujian dan kritik dari beberapa media massa anime dan manga. T.H.E.M. Anime Reviews menyatakan bahwa jutsu merupakan fokus utama dalam kisah Naruto sekaligus penyebab kesukesannya, namun ia juga mengkritik penampilan jutsu tertentu yang berulang-ulang pada adegan pertarungan.[2] Anime News Network sependapat dengan pendapat tersebut, tetapi ia memuji penggambaran jutsu baik dalam anime maupun manga.[3][4][5]', 'judul: Boruto Uzumaki teks: Karena para staf dari anime \"Naruto\" menggambarkan sosok Naruto dan Sasuke sebagai \"karakter legendaris\", para pengembang anime dari studio Pierrot mencoba untuk berhati-hati dalam menggambarkan sosok Boruto dan kawan-kawannya, atau lebih dikenal dengan \"generasi baru\", sebagai para tokoh protagonis yang baru. Mereka juga berniat untuk membiarkan generasi baru berkembang dengan cara yang sama seperti generasi sebelumnya. Namun, Kishimoto khawatir perihal bagaimana Boruto dan teman-temannya bisa menyamai tingkat kekuatan Naruto dan Sasuke karena menurutnya hal ini repetitif.', 'judul: Naruto SD teks: Naruto SD: Rock Lee no Seishun Full-Power Ninden atau hanya disebut Naruto SD adalah sebuah judul anime yang diadaptasi dari manga Spin-Off berjudul Rock Lee\\'s Springtime of Youth Full Power Ninja Chronicles yang dibuat oleh asisten Masashi Kishimoto bernama Kenji Taira. Banyak yang mengira bahwa singkatan dari SD pada judul anime ini adalah \"Super Deformed\" padahal arti sebenarnya yaitu \"Sugoi Doryoku\" atau bisa diartikan sebagai \"Usaha Yang Mengaggumkan\". Anime ini pertama kali diumumkan pada Februari 2012 oleh Shueisha. Dengan diproduksi oleh Studio Pierrot dan disutradarai oleh Masahiko Murata, serial ini memiliki 51 episode dan pertama kali tayang pada 3 April 2012 di TV Tokyo.\\nWalaupun judulnya Naruto SD tapi yang menjadi tokoh utamanya bukanlah Naruto Uzumaki melainkan Rock Lee, sorang ninja konoha yang mampu melakukan Taijutsu dengan baik tapi tidak punya kemampuan sama sekali dalam Ninjutsu maupun Genjutsu. Alur ceritanya sendiri pun tidak mengikuti plot ‘’Naruto Shippuden’’ melainkan lebih kepada kehidupan sehari-hari Rock Lee dan rekan se-timnya dalam menghadapi masalah-masalah mereka yang nantinya malah menyebabkan banyaknya adegan konyol dan lucu yang terjadi akibat tingkah laku Rock Lee yang kocak. Anime ini juga ditayangkan di Indonesia oleh Global TV. Keunikan lain dari anime ini adalah bentuk para tokohnya yang berbentuk chibi sehingga lebih menimbulkan kesan lucunya.', 'judul: Boruto: Naruto Next Generations teks: , juga dikenal sebagai \"Boruto\", adalah sebuah seri manga Jepang yang ditulis oleh Ukyō Kodachi dan diilustrasikan oleh Mikio Ikemoto. Dimuat di majalah manga \"shōnen\" \"Weekly Shōnen Jump\" milik Shueisha, \"Boruto\" adalah cerita sempalan dan sekuel dari manga \"Naruto\" karya Masashi Kishimoto, yang mengisahkan kehidupan putra Naruto Uzumaki, Boruto Uzumaki, dan kelompok ninjanya. Versi adaptasi anime televisi yang disutradarai oleh Noriyuki Abe mulai tayang di TV Tokyo pada tanggal 5 April 2017. Berbeda dengan versi manganya, yang menceritakan ulang peristiwa dalam film \"\" (2015), versi anime \"Boruto\" berperan sebagai prekuel yang berlatar sebelum Boruto dan teman-temannya menjadi ninja pada plot cerita berikutnya. Serangkaian novel ringan untuk manga ini juga telah diterbitkan.']\n"
     ]
    }
   ],
   "source": [
    "# Fungsi untuk memformat passages\n",
    "def format_passages(example):\n",
    "    # Memformat setiap dictionary dalam all_passages menjadi string\n",
    "    example['formatted_passages'] = [\n",
    "        f\"judul: {passage['title']} teks: {passage['text']}\"\n",
    "        for passage in example['all_passages']\n",
    "    ]\n",
    "    return example\n",
    "\n",
    "# Proses memformat dan menambahkan kolom formatted_passages\n",
    "joined_dataset = joined_dataset.map(format_passages)\n",
    "\n",
    "# Mengecek hasil\n",
    "print(joined_dataset[0]['formatted_passages'])  # Menampilkan isi kolom baru 'formatted_passages' pada row pertama"
   ]
  },
  {
   "cell_type": "code",
   "execution_count": 46,
   "metadata": {},
   "outputs": [],
   "source": [
    "import json\n",
    "# Konversi dataset ke list of dictionaries\n",
    "samples = [dict(row) for row in joined_dataset]\n",
    "\n",
    "# Simpan ke file JSON\n",
    "with open(\"samples.json\", \"w\", encoding=\"utf-8\") as f:\n",
    "    json.dump(samples, f, indent=4, ensure_ascii=False)"
   ]
  },
  {
   "cell_type": "markdown",
   "metadata": {},
   "source": [
    "Mengecek 1 row spesifik berdasarkan query_id"
   ]
  },
  {
   "cell_type": "code",
   "execution_count": 26,
   "metadata": {},
   "outputs": [
    {
     "data": {
      "application/vnd.jupyter.widget-view+json": {
       "model_id": "6d905e954bbf4bd9bfea83add31af23d",
       "version_major": 2,
       "version_minor": 0
      },
      "text/plain": [
       "Filter:   0%|          | 0/30 [00:00<?, ? examples/s]"
      ]
     },
     "metadata": {},
     "output_type": "display_data"
    },
    {
     "data": {
      "text/plain": [
       "Dataset({\n",
       "    features: ['id', 'language', 'document_title', 'passage_text', 'query', 'answers', 'query_id', 'positive_passages', 'negative_passages'],\n",
       "    num_rows: 1\n",
       "})"
      ]
     },
     "execution_count": 26,
     "metadata": {},
     "output_type": "execute_result"
    }
   ],
   "source": [
    "# Query yang ingin dicari\n",
    "target_query_id = '1308'\n",
    "# Fungsi filter untuk mencocokkan query\n",
    "def match_query(example):\n",
    "    return example[\"query_id\"] == target_query_id\n",
    "\n",
    "# Filter dataset di semua split untuk mencari baris yang sesuai\n",
    "inspect = joined_dataset.filter(match_query)\n",
    "inspect"
   ]
  },
  {
   "cell_type": "markdown",
   "metadata": {},
   "source": [
    "## Embedding"
   ]
  },
  {
   "cell_type": "markdown",
   "metadata": {},
   "source": [
    "### Load dataset"
   ]
  },
  {
   "cell_type": "code",
   "execution_count": 6,
   "metadata": {},
   "outputs": [],
   "source": [
    "from datasets import load_dataset\n",
    "samples = load_dataset('json', data_files=\"samples.json\")\n",
    "samples = samples.remove_columns(\"language\")\n",
    "samples = samples.rename_column(\"id\", \"tydiqa_id\")\n",
    "samples = samples.rename_column(\"query_id\", \"mrtydi_id\")"
   ]
  },
  {
   "cell_type": "markdown",
   "metadata": {},
   "source": [
    "### Menghasilkan embedding dan similarity scores"
   ]
  },
  {
   "cell_type": "markdown",
   "metadata": {},
   "source": [
    "__multilingual-e5-base__\n",
    "\n",
    "source: https://huggingface.co/intfloat/multilingual-e5-base"
   ]
  },
  {
   "cell_type": "code",
   "execution_count": 7,
   "metadata": {},
   "outputs": [
    {
     "name": "stderr",
     "output_type": "stream",
     "text": [
      "Processing Batches: 100%|██████████| 8/8 [00:50<00:00,  6.35s/it]"
     ]
    },
    {
     "name": "stdout",
     "output_type": "stream",
     "text": [
      "DI LUAR FOR LOOP\n",
      "len 'formatted_passages'indeks 0: 31\n"
     ]
    },
    {
     "name": "stderr",
     "output_type": "stream",
     "text": [
      "\n"
     ]
    }
   ],
   "source": [
    "import torch.nn.functional as F\n",
    "import torch\n",
    "from torch import Tensor\n",
    "from tqdm import tqdm\n",
    "import gc\n",
    "from datasets import load_dataset\n",
    "\n",
    "# Fungsi average pooling\n",
    "def average_pool(last_hidden_states: Tensor, attention_mask: Tensor) -> Tensor:\n",
    "    last_hidden = last_hidden_states.masked_fill(~attention_mask[..., None].bool(), 0.0)\n",
    "    return last_hidden.sum(dim=1) / attention_mask.sum(dim=1)[..., None]\n",
    "\n",
    "def add_similarity_to_dataset(dataset, batch_size=4):\n",
    "    \"\"\"\n",
    "    Tambahkan kolom 'scored_passages' ke dataset, berisi passage dan similarity score.\n",
    "\n",
    "    Args:\n",
    "        dataset: Dataset Hugging Face.\n",
    "\n",
    "    Returns:\n",
    "        Dataset dengan kolom baru 'scored_passages'.\n",
    "    \"\"\"\n",
    "    scored_passages = []\n",
    "    num_batches = len(range(0, len(dataset), batch_size))  # Total jumlah batch\n",
    "\n",
    "    for start_idx in tqdm(range(0, len(dataset), batch_size), desc=\"Processing Batches\", total=num_batches):\n",
    "        end_idx = min(start_idx + batch_size, len(dataset))\n",
    "        batch = dataset.select(range(start_idx, end_idx))\n",
    "        \n",
    "        formatted_texts = []  # List untuk menyimpan pasangan (formatted_text, row)\n",
    "        # Loop pertama: Bangun formatted_texts\n",
    "        for row in batch:\n",
    "            formatted_text = [f\"query: {row['query']}\"] + [f\"passage: {p}\" for p in row['formatted_passages']]\n",
    "            \n",
    "            # Validasi panjang formatted_text\n",
    "            assert len(formatted_text) == len(row['formatted_passages']) + 1, (\n",
    "                f\"Mismatch: formatted_text({len(formatted_text)}) vs passages({len(row['formatted_passages'])}) + 1\"\n",
    "            )\n",
    "\n",
    "            # Simpan pasangan (formatted_text, row)\n",
    "            formatted_texts.append((formatted_text, row))\n",
    "            \n",
    "        # Loop kedua: Proses formatted_texts untuk similarity scoring\n",
    "        for row_texts, row in formatted_texts:\n",
    "            # Tokenisasi\n",
    "            batch_dict = embedding_tokenizer(row_texts, max_length=512, padding=True, truncation=True, return_tensors='pt')\n",
    "            batch_dict = {k: v.to(\"cuda:0\") for k, v in batch_dict.items()}\n",
    "            try:\n",
    "                outputs = embedding_model(**batch_dict)\n",
    "            except Exception as e:\n",
    "                print(f\"Error: {e}\")\n",
    "                raise\n",
    "\n",
    "            # Embedding dan normalisasi\n",
    "            embeddings = average_pool(outputs.last_hidden_state, batch_dict['attention_mask'])\n",
    "            embeddings = F.normalize(embeddings, p=2, dim=1)\n",
    "\n",
    "            # Hitung similarity scores\n",
    "            query_embedding = embeddings[0].unsqueeze(0)  # Query ada di indeks pertama\n",
    "            passage_embeddings = embeddings[1:]  # Passages ada setelah query\n",
    "            scores = (query_embedding @ passage_embeddings.T).squeeze(0)\n",
    "\n",
    "            # Gabungkan passage dengan skor\n",
    "            row_scored_passages = [\n",
    "                {\"passage\": row['formatted_passages'][i], \"similarity\": scores[i].item()}\n",
    "                for i in range(len(row['formatted_passages']))\n",
    "            ]\n",
    "            scored_passages.append(row_scored_passages)\n",
    "\n",
    "        # Bersihkan cache GPU setelah memproses batch\n",
    "        del batch_dict, outputs, embeddings\n",
    "        torch.cuda.empty_cache()\n",
    "        gc.collect()\n",
    "\n",
    "    # Tambahkan kolom baru ke dataset\n",
    "    print(\"DI LUAR FOR LOOP\")\n",
    "    print(\"len 'formatted_passages'indeks 0:\", len(dataset[0]['formatted_passages']))\n",
    "    dataset = dataset.add_column(\"scored_passages\", scored_passages)\n",
    "    torch.cuda.empty_cache()\n",
    "    \n",
    "    return dataset\n",
    "\n",
    "# Muat dataset dan tambahkan kolom scored_passages\n",
    "samples = load_dataset('json', data_files=\"samples.json\")\n",
    "samples[\"train\"] = add_similarity_to_dataset(samples[\"train\"])"
   ]
  },
  {
   "cell_type": "markdown",
   "metadata": {},
   "source": [
    "### Mengambil top 5 dan menggabungkannya menjadi 1 teks"
   ]
  },
  {
   "cell_type": "code",
   "execution_count": 8,
   "metadata": {},
   "outputs": [],
   "source": [
    "def add_top_5_combined_passages(dataset):\n",
    "    \"\"\"\n",
    "    Tambahkan kolom baru 'top_5_combined' ke dataset, berisi gabungan\n",
    "    top 5 passages berdasarkan similarity score.\n",
    "\n",
    "    Args:\n",
    "        dataset: Dataset Hugging Face dengan kolom 'scored_passages'.\n",
    "\n",
    "    Returns:\n",
    "        Dataset dengan kolom baru 'top_5_combined'.\n",
    "    \"\"\"\n",
    "    combined_passages = []\n",
    "\n",
    "    for row in dataset:\n",
    "        # Ambil dan urutkan top 5 passages berdasarkan similarity\n",
    "        scored_passages = row[\"scored_passages\"]\n",
    "        top_5 = sorted(scored_passages, key=lambda x: x[\"similarity\"], reverse=True)[:5]\n",
    "\n",
    "        # Gabungkan hanya bagian 'passage' dengan pemisah newline\n",
    "        combined_string = \"\\n\".join(p[\"passage\"] for p in top_5)\n",
    "        combined_passages.append(combined_string)\n",
    "\n",
    "    # Tambahkan kolom baru ke dataset\n",
    "    dataset = dataset.add_column(\"top_5_combined\", combined_passages)\n",
    "    return dataset\n",
    "\n",
    "# Tambahkan kolom 'top_5_combined' ke dataset samples[\"train\"]\n",
    "samples[\"train\"] = add_top_5_combined_passages(samples[\"train\"])"
   ]
  },
  {
   "cell_type": "code",
   "execution_count": 29,
   "metadata": {},
   "outputs": [],
   "source": [
    "def wrap_text(text, line_length=203):\n",
    "    return '\\n'.join(text[i:i + line_length] for i in range(0, len(text), line_length))"
   ]
  },
  {
   "cell_type": "code",
   "execution_count": 16,
   "metadata": {},
   "outputs": [],
   "source": [
    "samples = samples.remove_columns(\"language\")\n",
    "samples = samples.rename_column(\"id\", \"tydiqa_id\")\n",
    "samples = samples.rename_column(\"query_id\", \"mrtydi_id\")"
   ]
  },
  {
   "cell_type": "code",
   "execution_count": 22,
   "metadata": {},
   "outputs": [
    {
     "data": {
      "text/plain": [
       "DatasetDict({\n",
       "    train: Dataset({\n",
       "        features: ['tydiqa_id', 'document_title', 'passage_text', 'query', 'answers', 'mrtydi_id', 'positive_passages', 'negative_passages', 'all_passages', 'formatted_passages', 'scored_passages', 'top_5_combined'],\n",
       "        num_rows: 30\n",
       "    })\n",
       "})"
      ]
     },
     "execution_count": 22,
     "metadata": {},
     "output_type": "execute_result"
    }
   ],
   "source": [
    "samples"
   ]
  },
  {
   "cell_type": "code",
   "execution_count": 24,
   "metadata": {},
   "outputs": [],
   "source": [
    "import json\n",
    "# Konversi dataset ke list of dictionaries\n",
    "samples_w_scores = [dict(row) for row in samples['train']]\n",
    "\n",
    "# Simpan ke file JSON\n",
    "with open(\"samples_w_scores.json\", \"w\", encoding=\"utf-8\") as f:\n",
    "    json.dump(samples_w_scores, f, indent=4, ensure_ascii=False)"
   ]
  },
  {
   "cell_type": "markdown",
   "metadata": {},
   "source": [
    "## Generate Rangkuman"
   ]
  },
  {
   "cell_type": "code",
   "execution_count": 3,
   "metadata": {},
   "outputs": [],
   "source": [
    "from datasets import load_dataset\n",
    "samples = load_dataset('json', data_files=\"samples_w_scores.json\")"
   ]
  },
  {
   "cell_type": "code",
   "execution_count": 4,
   "metadata": {},
   "outputs": [
    {
     "name": "stderr",
     "output_type": "stream",
     "text": [
      "Summarizing dataset:   0%|          | 0/30 [00:00<?, ?it/s]The attention mask is not set and cannot be inferred from input because pad token is same as eos token. As a consequence, you may observe unexpected behavior. Please pass your input's `attention_mask` to obtain reliable results.\n",
      "From v4.47 onwards, when a model cache is to be returned, `generate` will return a `Cache` instance instead by default (as opposed to the legacy tuple of tuples format). If you want to keep returning the legacy format, please set `return_legacy_cache=True`.\n",
      "Summarizing dataset: 100%|██████████| 30/30 [04:50<00:00,  9.69s/it]\n"
     ]
    },
    {
     "name": "stdout",
     "output_type": "stream",
     "text": [
      "Durasi: 290.9894685745239 detik\n"
     ]
    }
   ],
   "source": [
    "from summarize import summarize_top_5_combined\n",
    "import time\n",
    "\n",
    "model_name = \"meta-llama/Llama-3.2-1B-Instruct\"\n",
    "\n",
    "start = time.time()\n",
    "samples['train'] = summarize_top_5_combined(\n",
    "    model_name=model_name,\n",
    "    dataset=samples[\"train\"],\n",
    "    model=model, \n",
    "    tokenizer=tokenizer,\n",
    "    batch_size=1\n",
    ")\n",
    "end = time.time()\n",
    "duration = end - start\n",
    "print(f\"Durasi: {duration} detik\")"
   ]
  },
  {
   "cell_type": "markdown",
   "metadata": {},
   "source": [
    "Batch size = 2 --> Durasi: 356.94 detik\n",
    "\n",
    "Batch size = 1 --> Durasi: 290.99 detik"
   ]
  },
  {
   "cell_type": "code",
   "execution_count": 5,
   "metadata": {},
   "outputs": [
    {
     "name": "stdout",
     "output_type": "stream",
     "text": [
      "\n",
      "Index: 0\n",
      "Pertanyaan: Siapakah penulis anime naruto ?\n",
      "\n",
      "Ground-truth: Masashi Kishimoto\n",
      "\n",
      "Generasi: Masashi Kishimoto adalah penulis anime Naruto.\n",
      "==================================================\n"
     ]
    }
   ],
   "source": [
    "dataset_iter = iter(range(len(samples['train'])))\n",
    "\n",
    "def inspect_next():\n",
    "    \"\"\"Menampilkan pertanyaan, ground-truth, dan hasil generasi untuk item berikutnya.\"\"\"\n",
    "    try:\n",
    "        i = next(dataset_iter)\n",
    "        print(f\"\\nIndex: {i}\")\n",
    "        print(\"Pertanyaan:\", samples['train'][i]['query'])\n",
    "        print()\n",
    "        print(\"Ground-truth:\", samples['train'][i]['answers']['text'][0])\n",
    "        print()\n",
    "        print(\"Generasi:\", samples['train'][i]['summary'])\n",
    "        print(\"=\"*50)\n",
    "    except StopIteration:\n",
    "        print(\"Sudah mencapai akhir dataset.\")\n",
    "\n",
    "# Jalankan pertama kali\n",
    "inspect_next()"
   ]
  },
  {
   "cell_type": "code",
   "execution_count": 12,
   "metadata": {},
   "outputs": [
    {
     "name": "stdout",
     "output_type": "stream",
     "text": [
      "\n",
      "Index: 7\n",
      "Pertanyaan: Siapakah Menteri Transmigrasi dan Pemukiman Proyek lahan gambut satu juta hektar?\n",
      "\n",
      "Ground-truth: Siswono Yudo Husodo\n",
      "\n",
      "Generasi: Siswono Yudo Husodo merupakan Menteri Transmigrasi dan Pemukiman Perambah Hutan (PPH) yang digagas untuk meluncurkan proyek lahan gambut satu juta hektar\n",
      "==================================================\n"
     ]
    }
   ],
   "source": [
    "inspect_next()"
   ]
  },
  {
   "cell_type": "code",
   "execution_count": 13,
   "metadata": {},
   "outputs": [],
   "source": [
    "import json\n",
    "# Konversi dataset ke list of dictionaries\n",
    "samples_w_summary = [dict(row) for row in samples['train']]\n",
    "\n",
    "# Simpan ke file JSON\n",
    "with open(\"samples_w_summary.json\", \"w\", encoding=\"utf-8\") as f:\n",
    "    json.dump(samples_w_summary, f, indent=4, ensure_ascii=False)"
   ]
  }
 ],
 "metadata": {
  "kernelspec": {
   "display_name": "cuda_12-4",
   "language": "python",
   "name": "python3"
  },
  "language_info": {
   "codemirror_mode": {
    "name": "ipython",
    "version": 3
   },
   "file_extension": ".py",
   "mimetype": "text/x-python",
   "name": "python",
   "nbconvert_exporter": "python",
   "pygments_lexer": "ipython3",
   "version": "3.12.7"
  }
 },
 "nbformat": 4,
 "nbformat_minor": 2
}
