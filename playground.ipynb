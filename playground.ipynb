{
 "cells": [
  {
   "cell_type": "markdown",
   "metadata": {},
   "source": [
    "# PLAYGROUND NOTEBOOK\n",
    "Notebook untuk mengecek kode yang telah dibuat"
   ]
  },
  {
   "cell_type": "code",
   "execution_count": 1,
   "metadata": {},
   "outputs": [],
   "source": [
    "import pandas as pd\n",
    "from utils import load_model_and_tokenizer\n",
    "pd.set_option('display.max_colwidth', None)"
   ]
  },
  {
   "cell_type": "code",
   "execution_count": 2,
   "metadata": {},
   "outputs": [
    {
     "name": "stdout",
     "output_type": "stream",
     "text": [
      "Loading model on cuda with torch.float16\n"
     ]
    }
   ],
   "source": [
    "llama32_results = pd.read_json(\"meta-llama_Llama-3.2-1B-Instruct-50_results.json\")\n",
    "model_name = \"meta-llama/Llama-3.2-1B-Instruct\"\n",
    "model, tokenizer, config = load_model_and_tokenizer(model_name)"
   ]
  },
  {
   "cell_type": "markdown",
   "metadata": {},
   "source": [
    "## Cek Prioritas Memilih Token *Ground-Truth*"
   ]
  },
  {
   "cell_type": "markdown",
   "metadata": {},
   "source": [
    "### Explore apakah ada token x di dalam ground truth yang mana token x tersebut dihasilkan berkali-kali di *generated answer*"
   ]
  },
  {
   "cell_type": "markdown",
   "metadata": {},
   "source": [
    "menyimpan rows tersebut ke variabel *rows_with_duplicates*"
   ]
  },
  {
   "cell_type": "markdown",
   "metadata": {},
   "source": [
    "#### meta-llama_Llama-3.2-1B-Instruct-50_results (NEW version)"
   ]
  },
  {
   "cell_type": "code",
   "execution_count": 3,
   "metadata": {},
   "outputs": [],
   "source": [
    "from utils import is_groundtruth_duplicated_in_generation\n",
    "\n",
    "# Tambahkan kolom baru untuk menandai apakah ada duplikasi kata, apakah kata tersebut ada di 'answer',\n",
    "# dan daftar kata yang merupakan duplikat\n",
    "llama32_results['duplicates_in_answer'], llama32_results['duplicate_words_list'] = zip(\n",
    "    *llama32_results.apply(lambda row: is_groundtruth_duplicated_in_generation(row['generated_completion'], row['answer']), axis=1)\n",
    ")\n",
    "\n",
    "# Filter baris yang memiliki duplikasi kata\n",
    "rows_with_duplicates = llama32_results[llama32_results['duplicates_in_answer']]\n",
    "print(f\"Banyak row yang ground truth terduplikat dalam generation: {rows_with_duplicates.shape[0]}\")"
   ]
  },
  {
   "cell_type": "code",
   "execution_count": 10,
   "metadata": {},
   "outputs": [
    {
     "data": {
      "text/html": [
       "<div>\n",
       "<style scoped>\n",
       "    .dataframe tbody tr th:only-of-type {\n",
       "        vertical-align: middle;\n",
       "    }\n",
       "\n",
       "    .dataframe tbody tr th {\n",
       "        vertical-align: top;\n",
       "    }\n",
       "\n",
       "    .dataframe thead th {\n",
       "        text-align: right;\n",
       "    }\n",
       "</style>\n",
       "<table border=\"1\" class=\"dataframe\">\n",
       "  <thead>\n",
       "    <tr style=\"text-align: right;\">\n",
       "      <th></th>\n",
       "      <th>id</th>\n",
       "      <th>question</th>\n",
       "      <th>passage</th>\n",
       "      <th>generated_completion</th>\n",
       "      <th>answer</th>\n",
       "      <th>tokens</th>\n",
       "      <th>duplicate_words_list</th>\n",
       "    </tr>\n",
       "  </thead>\n",
       "  <tbody>\n",
       "    <tr>\n",
       "      <th>1</th>\n",
       "      <td>-6515196497017052077-5</td>\n",
       "      <td>Siapa arsitek Balai Kota Seoul?</td>\n",
       "      <td>Pada tanggal 18 Februari 2008, desain Yoo Kerl dari iArc terpilih dalam kompetisi desain Pemerintah Metropolitan Seoul.[6] Bagian atas depan bangunan baru ini dirancang untuk menonjol dalam bentuk lengkung. Perancang Yoo merangkul tiga kata kunci yakni \"tradisi, warga negara, dan masa depan\" dalam rancangannya, yang mencerminkan elemen horisontal dari arsitektur tradisional tingkat rendah Korea dan penafsiran ulang dari nuansa mendalam dan lekukan atap atap.[7]</td>\n",
       "      <td>Arsitek yang dirancang desain Yoo Kerl dari iArc adalah Yoo Kerl.</td>\n",
       "      <td>Yoo Kerl</td>\n",
       "      <td>[Ar, site, k, Ġyang, Ġdir, anc, ang, Ġdes, ain, ĠY, oo, ĠKer, l, Ġdari, Ġi, Arc, Ġadalah, ĠY, oo, ĠKer, l, ., &lt;|eot_id|&gt;]</td>\n",
       "      <td>[Yoo, Kerl]</td>\n",
       "    </tr>\n",
       "    <tr>\n",
       "      <th>4</th>\n",
       "      <td>7410193178422667195-3</td>\n",
       "      <td>Dimana Jamie Richard Vardy lahir?</td>\n",
       "      <td>Lahir di Sheffield, South Yorkshire, Vardy memulai kariernya di tim muda Stocksbridge Park Steels pada umur 16 tahun setelah dilepas Sheffield Wednesday. Ia masuk ke tim reserve dan tim utama dibawah arahan Gary Marrow tahun 2007, menerima £30 perminggu di klub. Setelah performa menakjubkannya, beberapa tim dari Football League tertarik dan tahun 2009 ia menghabiskan seminggu melakukan trial dengan Crewe Alexandra. Transfer itu tidak terjadi dan ia lalu menolak kontrak jangka pendek dengan Rotherham United.</td>\n",
       "      <td>Jamie Richard Vardy lahir di Sheffield, South Yorkshire, Inggris.</td>\n",
       "      <td>Sheffield, South Yorkshire</td>\n",
       "      <td>[J, am, ie, ĠRichard, ĠV, ardy, Ġla, hir, Ġdi, ĠSheffield, ,, ĠSouth, ĠYorkshire, ,, ĠIng, gr, is, ., &lt;|eot_id|&gt;]</td>\n",
       "      <td>[,]</td>\n",
       "    </tr>\n",
       "    <tr>\n",
       "      <th>5</th>\n",
       "      <td>7176612552296612393-4</td>\n",
       "      <td>siapakah orang tua John Fitzgerald Kennedy?</td>\n",
       "      <td>John Fitzgerald Kennedy lahir di 83 Beals Street, Brookline, Massachusetts, pada tanggal 29 Mei 1917[10] dari pasangan pebisnis/politikus Joseph Patrick \"Joe\" Kennedy, Sr. (1888–1969) dan filantropis Rose Elizabeth Fitzgerald (1890–1995). Joe adalah putra sulung pebisnis/politikus Patrick Joseph \"P. J.\" Kennedy (1858–1929) dan Mary Augusta Hickey (1857–1923). Rose adalah putri sulung Wali Kota Boston John Francis \"Honey Fitz\" Fitzgerald (1863–1950) dan Mary Josephine \"Josie\" Hannon (1865–1964). Keempat kakek-neneknya adalah anak-anak imigran Irlandia.[1]</td>\n",
       "      <td>Menurut teks, Joseph Patrick \"Joe\" Kennedy, Sr. adalah ayah John Fitzgerald Kennedy, sedangkan Rose Elizabeth Fitzgerald adalah ibu.</td>\n",
       "      <td>Joseph Patrick \"Joe\" Kennedy, Sr. (1888–1969) dan filantropis Rose Elizabeth Fitzgerald</td>\n",
       "      <td>[Men, ur, ut, Ġte, ks, ,, ĠJoseph, ĠPatrick, Ġ\", Joe, \", ĠKennedy, ,, ĠSr, ., Ġadalah, Ġay, ah, ĠJohn, ĠFitzgerald, ĠKennedy, ,, Ġsed, angkan, ĠRose, ĠElizabeth, ĠFitzgerald, Ġadalah, Ġib, u, ., &lt;|eot_id|&gt;]</td>\n",
       "      <td>[,, \", Kennedy, Fitzgerald, .]</td>\n",
       "    </tr>\n",
       "  </tbody>\n",
       "</table>\n",
       "</div>"
      ],
      "text/plain": [
       "                       id                                     question  \\\n",
       "1  -6515196497017052077-5              Siapa arsitek Balai Kota Seoul?   \n",
       "4   7410193178422667195-3            Dimana Jamie Richard Vardy lahir?   \n",
       "5   7176612552296612393-4  siapakah orang tua John Fitzgerald Kennedy?   \n",
       "\n",
       "                                                                                                                                                                                                                                                                                                                                                                                                                                                                                                                                                                            passage  \\\n",
       "1                                                                                                 Pada tanggal 18 Februari 2008, desain Yoo Kerl dari iArc terpilih dalam kompetisi desain Pemerintah Metropolitan Seoul.[6] Bagian atas depan bangunan baru ini dirancang untuk menonjol dalam bentuk lengkung. Perancang Yoo merangkul tiga kata kunci yakni \"tradisi, warga negara, dan masa depan\" dalam rancangannya, yang mencerminkan elemen horisontal dari arsitektur tradisional tingkat rendah Korea dan penafsiran ulang dari nuansa mendalam dan lekukan atap atap.[7]   \n",
       "4                                                  Lahir di Sheffield, South Yorkshire, Vardy memulai kariernya di tim muda Stocksbridge Park Steels pada umur 16 tahun setelah dilepas Sheffield Wednesday. Ia masuk ke tim reserve dan tim utama dibawah arahan Gary Marrow tahun 2007, menerima £30 perminggu di klub. Setelah performa menakjubkannya, beberapa tim dari Football League tertarik dan tahun 2009 ia menghabiskan seminggu melakukan trial dengan Crewe Alexandra. Transfer itu tidak terjadi dan ia lalu menolak kontrak jangka pendek dengan Rotherham United.   \n",
       "5  John Fitzgerald Kennedy lahir di 83 Beals Street, Brookline, Massachusetts, pada tanggal 29 Mei 1917[10] dari pasangan pebisnis/politikus Joseph Patrick \"Joe\" Kennedy, Sr. (1888–1969) dan filantropis Rose Elizabeth Fitzgerald (1890–1995). Joe adalah putra sulung pebisnis/politikus Patrick Joseph \"P. J.\" Kennedy (1858–1929) dan Mary Augusta Hickey (1857–1923). Rose adalah putri sulung Wali Kota Boston John Francis \"Honey Fitz\" Fitzgerald (1863–1950) dan Mary Josephine \"Josie\" Hannon (1865–1964). Keempat kakek-neneknya adalah anak-anak imigran Irlandia.[1]   \n",
       "\n",
       "                                                                                                                   generated_completion  \\\n",
       "1                                                                     Arsitek yang dirancang desain Yoo Kerl dari iArc adalah Yoo Kerl.   \n",
       "4                                                                     Jamie Richard Vardy lahir di Sheffield, South Yorkshire, Inggris.   \n",
       "5  Menurut teks, Joseph Patrick \"Joe\" Kennedy, Sr. adalah ayah John Fitzgerald Kennedy, sedangkan Rose Elizabeth Fitzgerald adalah ibu.   \n",
       "\n",
       "                                                                                    answer  \\\n",
       "1                                                                                 Yoo Kerl   \n",
       "4                                                               Sheffield, South Yorkshire   \n",
       "5  Joseph Patrick \"Joe\" Kennedy, Sr. (1888–1969) dan filantropis Rose Elizabeth Fitzgerald   \n",
       "\n",
       "                                                                                                                                                                                                           tokens  \\\n",
       "1                                                                                       [Ar, site, k, Ġyang, Ġdir, anc, ang, Ġdes, ain, ĠY, oo, ĠKer, l, Ġdari, Ġi, Arc, Ġadalah, ĠY, oo, ĠKer, l, ., <|eot_id|>]   \n",
       "4                                                                                               [J, am, ie, ĠRichard, ĠV, ardy, Ġla, hir, Ġdi, ĠSheffield, ,, ĠSouth, ĠYorkshire, ,, ĠIng, gr, is, ., <|eot_id|>]   \n",
       "5  [Men, ur, ut, Ġte, ks, ,, ĠJoseph, ĠPatrick, Ġ\", Joe, \", ĠKennedy, ,, ĠSr, ., Ġadalah, Ġay, ah, ĠJohn, ĠFitzgerald, ĠKennedy, ,, Ġsed, angkan, ĠRose, ĠElizabeth, ĠFitzgerald, Ġadalah, Ġib, u, ., <|eot_id|>]   \n",
       "\n",
       "             duplicate_words_list  \n",
       "1                     [Yoo, Kerl]  \n",
       "4                             [,]  \n",
       "5  [,, \", Kennedy, Fitzgerald, .]  "
      ]
     },
     "execution_count": 10,
     "metadata": {},
     "output_type": "execute_result"
    }
   ],
   "source": [
    "rows_with_duplicates[['id', 'question', 'passage', 'generated_completion', 'answer','tokens', 'duplicate_words_list']].head(3)"
   ]
  },
  {
   "cell_type": "markdown",
   "metadata": {},
   "source": [
    "### Memahami kode retrieve_correct_token_logprobs"
   ]
  },
  {
   "cell_type": "markdown",
   "metadata": {},
   "source": [
    "#### llama_32_1B_50_pairs (OLD version)"
   ]
  },
  {
   "cell_type": "code",
   "execution_count": 3,
   "metadata": {},
   "outputs": [
    {
     "data": {
      "text/html": [
       "<div>\n",
       "<style scoped>\n",
       "    .dataframe tbody tr th:only-of-type {\n",
       "        vertical-align: middle;\n",
       "    }\n",
       "\n",
       "    .dataframe tbody tr th {\n",
       "        vertical-align: top;\n",
       "    }\n",
       "\n",
       "    .dataframe thead th {\n",
       "        text-align: right;\n",
       "    }\n",
       "</style>\n",
       "<table border=\"1\" class=\"dataframe\">\n",
       "  <thead>\n",
       "    <tr style=\"text-align: right;\">\n",
       "      <th></th>\n",
       "      <th>id</th>\n",
       "      <th>question</th>\n",
       "      <th>generated_completion</th>\n",
       "      <th>answer</th>\n",
       "    </tr>\n",
       "  </thead>\n",
       "  <tbody>\n",
       "    <tr>\n",
       "      <th>46</th>\n",
       "      <td>8223462044041100059-0</td>\n",
       "      <td>Dimana letak daerah \"Pardembanan\"?</td>\n",
       "      <td>Maaf, saya tidak bisa memberikan informasi tentang lokasi \"Pardembanan\" karena tidak ada informasi yang lengkap tentang daerah tersebut. Namun, saya bisa memberikan informasi umum tentang Kabupaten Asahan,</td>\n",
       "      <td>Kabupaten Asahan, Sumatera Utara, Indonesia</td>\n",
       "    </tr>\n",
       "  </tbody>\n",
       "</table>\n",
       "</div>"
      ],
      "text/plain": [
       "                       id                            question  \\\n",
       "46  8223462044041100059-0  Dimana letak daerah \"Pardembanan\"?   \n",
       "\n",
       "                                                                                                                                                                                             generated_completion  \\\n",
       "46  Maaf, saya tidak bisa memberikan informasi tentang lokasi \"Pardembanan\" karena tidak ada informasi yang lengkap tentang daerah tersebut. Namun, saya bisa memberikan informasi umum tentang Kabupaten Asahan,   \n",
       "\n",
       "                                         answer  \n",
       "46  Kabupaten Asahan, Sumatera Utara, Indonesia  "
      ]
     },
     "execution_count": 3,
     "metadata": {},
     "output_type": "execute_result"
    }
   ],
   "source": [
    "results = pd.read_json(\"llama_32_1B_50_pairs.json\")\n",
    "row = results.loc[[46], :].copy()\n",
    "row[[\"id\", \"question\", \"generated_completion\", \"answer\"]]"
   ]
  },
  {
   "cell_type": "code",
   "execution_count": 4,
   "metadata": {},
   "outputs": [],
   "source": [
    "from retrieve_logprobs import retrieve_correct_token_logprobs\n",
    "row_updated = retrieve_correct_token_logprobs(row, tokenizer)"
   ]
  },
  {
   "cell_type": "code",
   "execution_count": 6,
   "metadata": {},
   "outputs": [
    {
     "data": {
      "text/plain": [
       "46    {' Kab': -2.058924436569214, 'upaten': -3.707477662828751e-05, ' As': -6.55653229841846e-06, 'ahan': -2.145769485650817e-06, ',': -1.106772899627685, 'Sum': None, 'ater': None, 'a': None, 'Ut': None, 'ara': None, 'Ind': None, 'onesia': None}\n",
       "Name: answer_logprobs, dtype: object"
      ]
     },
     "execution_count": 6,
     "metadata": {},
     "output_type": "execute_result"
    }
   ],
   "source": [
    "row_updated['answer_logprobs']"
   ]
  },
  {
   "cell_type": "markdown",
   "metadata": {},
   "source": [
    "### ..."
   ]
  },
  {
   "cell_type": "markdown",
   "metadata": {},
   "source": []
  }
 ],
 "metadata": {
  "kernelspec": {
   "display_name": "cuda_12-4",
   "language": "python",
   "name": "python3"
  },
  "language_info": {
   "codemirror_mode": {
    "name": "ipython",
    "version": 3
   },
   "file_extension": ".py",
   "mimetype": "text/x-python",
   "name": "python",
   "nbconvert_exporter": "python",
   "pygments_lexer": "ipython3",
   "version": "3.12.7"
  }
 },
 "nbformat": 4,
 "nbformat_minor": 2
}
