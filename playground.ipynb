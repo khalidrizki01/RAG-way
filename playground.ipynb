{
 "cells": [
  {
   "cell_type": "markdown",
   "metadata": {},
   "source": [
    "# PLAYGROUND NOTEBOOK\n",
    "Notebook untuk mengecek kode yang telah dibuat"
   ]
  },
  {
   "cell_type": "code",
   "execution_count": 2,
   "metadata": {},
   "outputs": [
    {
     "name": "stdout",
     "output_type": "stream",
     "text": [
      "Loading model on cuda with torch.float16\n"
     ]
    }
   ],
   "source": [
    "import pandas as pd\n",
    "from utils import load_model_and_tokenizer\n",
    "\n",
    "llama32_results = pd.read_json(\"meta-llama_Llama-3.2-1B-Instruct-50_results.json\")\n",
    "model_name = \"meta-llama/Llama-3.2-1B-Instruct\"\n",
    "model, tokenizer, config = load_model_and_tokenizer(model_name)"
   ]
  },
  {
   "cell_type": "markdown",
   "metadata": {},
   "source": [
    "## Cek Prioritas Memilih Token *Ground-Truth*"
   ]
  },
  {
   "cell_type": "markdown",
   "metadata": {},
   "source": [
    "mengambil contoh row dimana jawaban *ground-truth*-nya panjang"
   ]
  },
  {
   "cell_type": "code",
   "execution_count": null,
   "metadata": {},
   "outputs": [],
   "source": [
    "from retrieve_logprobs import retrieve_correct_token_logprobs\n",
    "\n",
    "correct_token_logprobs = retrieve_correct_token_logprobs(llama32_results, tokenizer)"
   ]
  }
 ],
 "metadata": {
  "kernelspec": {
   "display_name": "cuda_12-4",
   "language": "python",
   "name": "python3"
  },
  "language_info": {
   "codemirror_mode": {
    "name": "ipython",
    "version": 3
   },
   "file_extension": ".py",
   "mimetype": "text/x-python",
   "name": "python",
   "nbconvert_exporter": "python",
   "pygments_lexer": "ipython3",
   "version": "3.12.7"
  }
 },
 "nbformat": 4,
 "nbformat_minor": 2
}
