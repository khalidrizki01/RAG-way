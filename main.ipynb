{
 "cells": [
  {
   "cell_type": "markdown",
   "metadata": {},
   "source": [
    "# MAIN NOTEBOOK\n",
    "Notebook untuk menjalankan program utama"
   ]
  },
  {
   "cell_type": "markdown",
   "metadata": {},
   "source": [
    "### Cek CUDA\n",
    "- Apakah sudah berjalan di perangkat yang benar\n",
    "- Berapa alokasi memori GPU\n",
    "- Menghapus cache GPU"
   ]
  },
  {
   "cell_type": "code",
   "execution_count": 2,
   "metadata": {},
   "outputs": [
    {
     "name": "stdout",
     "output_type": "stream",
     "text": [
      "Current active GPU: 0 (NVIDIA GeForce RTX 4050 Laptop GPU)\n",
      "Tensor is on device: cuda:0\n"
     ]
    }
   ],
   "source": [
    "import torch\n",
    "\n",
    "# Cek GPU yang sedang aktif (default)\n",
    "current_device = torch.cuda.current_device()\n",
    "print(f\"Current active GPU: {current_device} ({torch.cuda.get_device_name(current_device)})\")\n",
    "\n",
    "# Pindahkan tensor ke GPU tertentu\n",
    "tensor = torch.tensor([1, 2, 3])\n",
    "gpu_tensor = tensor.to(f'cuda:{current_device}')\n",
    "print(f\"Tensor is on device: {gpu_tensor.device}\")\n",
    "\n"
   ]
  },
  {
   "cell_type": "code",
   "execution_count": null,
   "metadata": {},
   "outputs": [],
   "source": [
    "# GPU yang digunakan\n",
    "device = torch.device(\"cuda:0\")\n",
    "\n",
    "# Total memori GPU\n",
    "total_memory = torch.cuda.get_device_properties(device).total_memory / (1024 ** 3)  # Dalam GB\n",
    "print(f\"Total GPU Memory: {total_memory:.2f} GB\")\n",
    "\n",
    "# Memori yang sudah dialokasikan oleh PyTorch\n",
    "allocated_memory = torch.cuda.memory_allocated(device) / (1024 ** 3)  # Dalam GB\n",
    "print(f\"Allocated GPU Memory: {allocated_memory:.2f} GB\")\n",
    "\n",
    "max_reserved_memory = torch.cuda.max_memory_reserved(device) / (1024 ** 3)  # Dalam GB\n",
    "print(f\"Max Reserved GPU Memory: {max_reserved_memory:.2f} GB\")\n",
    "\n",
    "# Memori GPU yang dicadangkan oleh PyTorch\n",
    "reserved_memory = torch.cuda.memory_reserved(device) / (1024 ** 3)  # Dalam GB\n",
    "print(f\"Reserved GPU Memory: {reserved_memory:.2f} GB\")\n",
    "\n",
    "# Memori GPU yang tersedia\n",
    "free_memory = reserved_memory - allocated_memory\n",
    "print(f\"Free GPU Memory: {free_memory:.2f} GB\")"
   ]
  },
  {
   "cell_type": "code",
   "execution_count": null,
   "metadata": {},
   "outputs": [],
   "source": [
    "# Clean cuda GPU cache\n",
    "torch.cuda.empty_cache()"
   ]
  },
  {
   "cell_type": "markdown",
   "metadata": {},
   "source": [
    "## Meng-*generate* Jawaban"
   ]
  },
  {
   "cell_type": "code",
   "execution_count": 1,
   "metadata": {},
   "outputs": [
    {
     "name": "stdout",
     "output_type": "stream",
     "text": [
      "\n",
      "Loading model on cuda\n",
      "Loading model on cuda with torch.float16\n"
     ]
    },
    {
     "name": "stderr",
     "output_type": "stream",
     "text": [
      "Processing dataset:   0%|          | 0/50 [00:00<?, ?it/s]From v4.47 onwards, when a model cache is to be returned, `generate` will return a `Cache` instance instead by default (as opposed to the legacy tuple of tuples format). If you want to keep returning the legacy format, please set `return_legacy_cache=True`.\n",
      "Processing dataset: 100%|██████████| 50/50 [01:08<00:00,  1.37s/it]"
     ]
    },
    {
     "name": "stdout",
     "output_type": "stream",
     "text": [
      "Processing completed. Results saved to meta-llama_Llama-3.2-1B-Instruct-50_results.json\n",
      "Durasi: 78.52929472923279 detik\n"
     ]
    },
    {
     "name": "stderr",
     "output_type": "stream",
     "text": [
      "\n"
     ]
    }
   ],
   "source": [
    "import time\n",
    "\n",
    "from generate import generate_answer_with_logprobs\n",
    "model_name = \"meta-llama/Llama-3.2-1B-Instruct\"\n",
    "\n",
    "start = time.time()\n",
    "generate_answer_with_logprobs(model_name, loop_range=50, max_new_tokens=75)\n",
    "end = time.time()\n",
    "duration = end - start\n",
    "\n",
    "print(f\"Durasi: {duration} detik\")"
   ]
  },
  {
   "cell_type": "markdown",
   "metadata": {},
   "source": [
    "## Membuat dataset"
   ]
  },
  {
   "cell_type": "code",
   "execution_count": null,
   "metadata": {},
   "outputs": [],
   "source": [
    "## "
   ]
  }
 ],
 "metadata": {
  "kernelspec": {
   "display_name": "cuda_12-4",
   "language": "python",
   "name": "python3"
  },
  "language_info": {
   "codemirror_mode": {
    "name": "ipython",
    "version": 3
   },
   "file_extension": ".py",
   "mimetype": "text/x-python",
   "name": "python",
   "nbconvert_exporter": "python",
   "pygments_lexer": "ipython3",
   "version": "3.12.7"
  }
 },
 "nbformat": 4,
 "nbformat_minor": 2
}
