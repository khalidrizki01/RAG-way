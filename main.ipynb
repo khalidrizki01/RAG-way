{
 "cells": [
  {
   "cell_type": "code",
   "execution_count": 2,
   "metadata": {},
   "outputs": [
    {
     "name": "stdout",
     "output_type": "stream",
     "text": [
      "Current active GPU: 0 (NVIDIA GeForce RTX 4050 Laptop GPU)\n",
      "Tensor is on device: cuda:0\n"
     ]
    }
   ],
   "source": [
    "import torch\n",
    "\n",
    "# Cek GPU yang sedang aktif (default)\n",
    "current_device = torch.cuda.current_device()\n",
    "print(f\"Current active GPU: {current_device} ({torch.cuda.get_device_name(current_device)})\")\n",
    "\n",
    "# Pindahkan tensor ke GPU tertentu\n",
    "tensor = torch.tensor([1, 2, 3])\n",
    "gpu_tensor = tensor.to(f'cuda:{current_device}')\n",
    "print(f\"Tensor is on device: {gpu_tensor.device}\")\n",
    "\n",
    "# Clean cuda GPU cache\n",
    "torch.cuda.empty_cache()"
   ]
  },
  {
   "cell_type": "code",
   "execution_count": 1,
   "metadata": {},
   "outputs": [
    {
     "name": "stdout",
     "output_type": "stream",
     "text": [
      "\n",
      "Loading model on cuda\n",
      "Loading model on cuda with torch.float16\n"
     ]
    },
    {
     "name": "stderr",
     "output_type": "stream",
     "text": [
      "Processing dataset:   0%|          | 0/50 [00:00<?, ?it/s]From v4.47 onwards, when a model cache is to be returned, `generate` will return a `Cache` instance instead by default (as opposed to the legacy tuple of tuples format). If you want to keep returning the legacy format, please set `return_legacy_cache=True`.\n",
      "Processing dataset: 100%|██████████| 50/50 [01:14<00:00,  1.50s/it]"
     ]
    },
    {
     "name": "stdout",
     "output_type": "stream",
     "text": [
      "Processing completed. Results saved to meta-llama_Llama-3.2-1B-Instruct-50_results.json\n",
      "Durasi: 86.28082513809204 detik\n"
     ]
    },
    {
     "name": "stderr",
     "output_type": "stream",
     "text": [
      "\n"
     ]
    }
   ],
   "source": [
    "import time\n",
    "\n",
    "from generate import generate_answer_with_logprobs\n",
    "model_name = \"meta-llama/Llama-3.2-1B-Instruct\"\n",
    "\n",
    "start = time.time()\n",
    "generate_answer_with_logprobs(model_name, loop_range=50)\n",
    "end = time.time()\n",
    "duration = end - start\n",
    "\n",
    "print(f\"Durasi: {duration} detik\")"
   ]
  },
  {
   "cell_type": "code",
   "execution_count": null,
   "metadata": {},
   "outputs": [],
   "source": []
  }
 ],
 "metadata": {
  "kernelspec": {
   "display_name": "cuda_12-4",
   "language": "python",
   "name": "python3"
  },
  "language_info": {
   "codemirror_mode": {
    "name": "ipython",
    "version": 3
   },
   "file_extension": ".py",
   "mimetype": "text/x-python",
   "name": "python",
   "nbconvert_exporter": "python",
   "pygments_lexer": "ipython3",
   "version": "3.12.7"
  }
 },
 "nbformat": 4,
 "nbformat_minor": 2
}
