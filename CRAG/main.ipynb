{
 "cells": [
  {
   "cell_type": "code",
   "execution_count": 1,
   "id": "13c0187f",
   "metadata": {},
   "outputs": [
    {
     "name": "stderr",
     "output_type": "stream",
     "text": [
      "c:\\Users\\LENOVO\\anaconda3\\envs\\recomp\\Lib\\site-packages\\tqdm\\auto.py:21: TqdmWarning: IProgress not found. Please update jupyter and ipywidgets. See https://ipywidgets.readthedocs.io/en/stable/user_install.html\n",
      "  from .autonotebook import tqdm as notebook_tqdm\n"
     ]
    },
    {
     "name": "stdout",
     "output_type": "stream",
     "text": [
      "selesai memuat dataset...\n"
     ]
    },
    {
     "name": "stderr",
     "output_type": "stream",
     "text": [
      "Map: 100%|██████████| 4542/4542 [00:02<00:00, 2022.20 examples/s]\n",
      "Map: 100%|██████████| 1143/1143 [00:00<00:00, 1809.48 examples/s]\n",
      "Map: 100%|██████████| 565/565 [00:00<00:00, 1955.94 examples/s]"
     ]
    },
    {
     "name": "stdout",
     "output_type": "stream",
     "text": [
      "selesai membuat chunks...\n"
     ]
    },
    {
     "name": "stderr",
     "output_type": "stream",
     "text": [
      "\n"
     ]
    }
   ],
   "source": [
    "import re\n",
    "from typing import List, Tuple\n",
    "from nltk import sent_tokenize\n",
    "from datasets import load_from_disk\n",
    "import torch\n",
    "import torch.nn.functional as F\n",
    "from transformers import AutoTokenizer, AutoModel\n",
    "from tqdm import tqdm\n",
    "\n",
    "dataset = load_from_disk(\"../generated_data/raw/final_dataset\")\n",
    "train_dataset = dataset['train']\n",
    "dev_dataset = dataset['dev']\n",
    "test_dataset = dataset['test']\n",
    "print('selesai memuat dataset...')\n",
    "\n",
    "def split_between_title_and_text(text: str) -> Tuple[str, str]:\n",
    "    \"\"\"Memisahkan bagian Judul dan Teks dari input lengkap.\"\"\"\n",
    "    title, content = text.split(\"|\", 1)\n",
    "    return title.strip(), content.strip()\n",
    "\n",
    "def split_sentences(text: str):\n",
    "    # Hapus sitasi dalam format [1], [2], dst.\n",
    "    cleaned_text = re.sub(r'\\[\\d+\\]', '', text)\n",
    "    \n",
    "    # Jalankan sentence tokenizer dari nltk\n",
    "    sentences = sent_tokenize(cleaned_text)\n",
    "    \n",
    "    return [s.strip() for s in sentences if s.strip()]\n",
    "\n",
    "def create_rolling_segments(title: str, sentences: List[str], window_size: int = 3, stride: int = 2) -> List[str]:\n",
    "    segments = []\n",
    "    if len(sentences) < window_size:\n",
    "        segments.append(f\"{title} | {' '.join(sentences)}\")\n",
    "    else:\n",
    "        for i in range(0, len(sentences) - window_size + 1, stride):\n",
    "            group = sentences[i:i + window_size]\n",
    "            combined = title + \" | \" + \" \".join(group)\n",
    "            segments.append(combined)\n",
    "    return segments\n",
    "\n",
    "def prepare_context_chunks(text: str) -> List[str]:\n",
    "    \"\"\"Fungsi utama: memproses teks penuh menjadi rolling segments.\"\"\"\n",
    "    judul, teks = split_between_title_and_text(text)\n",
    "    kalimat_list = split_sentences(teks)\n",
    "    segments = create_rolling_segments(judul, kalimat_list, window_size=3)\n",
    "    return segments\n",
    "\n",
    "def split_each_passages(example):\n",
    "    # Pisahkan teks menjadi pasangan Judul-Teks berdasarkan '\\n\\n'\n",
    "    passages = example[\"passages\"]\n",
    "    all_chunks = []\n",
    "    \n",
    "    # Proses setiap pasangan Judul-Teks\n",
    "    for passage in passages:\n",
    "        # Panggil fungsi prepare_context_chunks pada setiap bagian\n",
    "        all_chunks.extend(prepare_context_chunks(passage))\n",
    "    \n",
    "    return {\"context_chunks\": all_chunks}\n",
    "# ds=ds.map(split_each_passages)\n",
    "train_dataset = train_dataset.map(split_each_passages)\n",
    "dev_dataset = dev_dataset.map(split_each_passages)\n",
    "test_dataset = test_dataset.map(split_each_passages)\n",
    "print('selesai membuat chunks...')"
   ]
  },
  {
   "cell_type": "code",
   "execution_count": 3,
   "id": "153d5f54",
   "metadata": {},
   "outputs": [
    {
     "name": "stderr",
     "output_type": "stream",
     "text": [
      "Processing: 100%|██████████| 4542/4542 [12:37<00:00,  5.99it/s]\n",
      "Processing: 100%|██████████| 1143/1143 [03:03<00:00,  6.24it/s]\n",
      "Processing: 100%|██████████| 565/565 [01:31<00:00,  6.21it/s]\n"
     ]
    }
   ],
   "source": [
    "tokenizer = AutoTokenizer.from_pretrained('intfloat/multilingual-e5-small')\n",
    "model = AutoModel.from_pretrained('intfloat/multilingual-e5-small')\n",
    "model.eval()\n",
    "\n",
    "# Fungsi pooling dari model card\n",
    "def average_pool(last_hidden_states, attention_mask):\n",
    "    last_hidden = last_hidden_states.masked_fill(~attention_mask[..., None].bool(), 0.0)\n",
    "    return last_hidden.sum(dim=1) / attention_mask.sum(dim=1)[..., None]\n",
    "\n",
    "# Fungsi pencocokan top-3\n",
    "def get_top3_chunks(query, chunks):\n",
    "    if not chunks:\n",
    "        return [], [], []\n",
    "\n",
    "    input_texts = [\"query: \" + query] + [\"passage: \" + chunk for chunk in chunks]\n",
    "    batch = tokenizer(input_texts, padding=True, truncation=True, max_length=512, return_tensors=\"pt\")\n",
    "\n",
    "    with torch.no_grad():\n",
    "        outputs = model(**batch)\n",
    "    embeddings = average_pool(outputs.last_hidden_state, batch['attention_mask'])\n",
    "    embeddings = F.normalize(embeddings, p=2, dim=1)\n",
    "\n",
    "    query_embedding = embeddings[0]\n",
    "    chunk_embeddings = embeddings[1:]\n",
    "    scores = (query_embedding @ chunk_embeddings.T) * 100\n",
    "\n",
    "    topk = torch.topk(scores, k=min(3, len(chunks)))  # Antisipasi jika chunk < 3\n",
    "    top_chunks = [chunks[i] for i in topk.indices.tolist()]\n",
    "    top_scores = topk.values.tolist()\n",
    "    top_indices = topk.indices.tolist()\n",
    "\n",
    "    return top_chunks, top_scores, top_indices\n",
    "\n",
    "# Terapkan ke dataset\n",
    "def process_dataset(dataset):\n",
    "    top_chunks_all = []\n",
    "    top_scores_all = []\n",
    "    top_indices_all = []\n",
    "\n",
    "    for example in tqdm(dataset, desc=\"Processing\"):\n",
    "        query = example['query']\n",
    "        chunks = example['context_chunks']\n",
    "\n",
    "        top_chunks, top_scores, top_indices = get_top3_chunks(query, chunks)\n",
    "\n",
    "        top_chunks_all.append(top_chunks)\n",
    "        top_scores_all.append(top_scores)\n",
    "        top_indices_all.append(top_indices)\n",
    "\n",
    "    # Tambahkan kolom baru\n",
    "    dataset = dataset.add_column(\"top_chunks\", top_chunks_all)\n",
    "    dataset = dataset.add_column(\"top_chunk_scores\", top_scores_all)\n",
    "    dataset = dataset.add_column(\"top_chunk_indices\", top_indices_all)\n",
    "    return dataset\n",
    "\n",
    "# Proses semua split\n",
    "train_dataset = process_dataset(train_dataset)\n",
    "dev_dataset = process_dataset(dev_dataset)\n",
    "test_dataset = process_dataset(test_dataset)"
   ]
  },
  {
   "cell_type": "code",
   "execution_count": null,
   "id": "439f8976",
   "metadata": {},
   "outputs": [
    {
     "name": "stderr",
     "output_type": "stream",
     "text": [
      "Saving the dataset (1/1 shards): 100%|██████████| 4542/4542 [00:00<00:00, 154459.15 examples/s]\n",
      "Saving the dataset (1/1 shards): 100%|██████████| 1143/1143 [00:00<00:00, 83688.39 examples/s]\n",
      "Saving the dataset (1/1 shards): 100%|██████████| 565/565 [00:00<00:00, 46257.70 examples/s]\n"
     ]
    }
   ],
   "source": [
    "from datasets import DatasetDict\n",
    "\n",
    "dataset = DatasetDict({\n",
    "    \"train\": train_dataset,\n",
    "    \"dev\": dev_dataset,\n",
    "    \"test\": test_dataset\n",
    "})\n",
    "dataset.save_to_disk(\"../generated_data/CRAG_top_reranked_chunks\")"
   ]
  },
  {
   "cell_type": "code",
   "execution_count": null,
   "id": "53a452ba",
   "metadata": {},
   "outputs": [],
   "source": []
  },
  {
   "cell_type": "code",
   "execution_count": null,
   "id": "8b154bb1",
   "metadata": {},
   "outputs": [
    {
     "name": "stderr",
     "output_type": "stream",
     "text": [
      "Map: 100%|██████████| 4542/4542 [00:01<00:00, 3425.62 examples/s]\n",
      "Map: 100%|██████████| 1143/1143 [00:00<00:00, 3494.14 examples/s]\n",
      "Map: 100%|██████████| 565/565 [00:00<00:00, 3395.50 examples/s]\n"
     ]
    }
   ],
   "source": []
  }
 ],
 "metadata": {
  "kernelspec": {
   "display_name": "recomp",
   "language": "python",
   "name": "python3"
  },
  "language_info": {
   "codemirror_mode": {
    "name": "ipython",
    "version": 3
   },
   "file_extension": ".py",
   "mimetype": "text/x-python",
   "name": "python",
   "nbconvert_exporter": "python",
   "pygments_lexer": "ipython3",
   "version": "3.12.3"
  }
 },
 "nbformat": 4,
 "nbformat_minor": 5
}
