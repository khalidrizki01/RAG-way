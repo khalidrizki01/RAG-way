{
 "cells": [
  {
   "cell_type": "code",
   "execution_count": 19,
   "id": "8f22e4b1",
   "metadata": {},
   "outputs": [],
   "source": [
    "import re\n",
    "from typing import List, Tuple, Dict, Any\n",
    "from nltk import sent_tokenize\n",
    "from datasets import load_dataset\n",
    "import torch\n",
    "import torch.nn.functional as F\n",
    "from transformers import AutoTokenizer, AutoModel\n",
    "from tqdm import tqdm"
   ]
  },
  {
   "cell_type": "code",
   "execution_count": 11,
   "id": "d13f73df",
   "metadata": {},
   "outputs": [
    {
     "name": "stdout",
     "output_type": "stream",
     "text": [
      "selesai memuat dataset...\n"
     ]
    }
   ],
   "source": [
    "dataset = load_dataset(\"khalidrizki/post-retrieval-research_raw-dataset\")\n",
    "train_dataset = dataset['train']\n",
    "dev_dataset = dataset['dev']\n",
    "test_dataset = dataset['test']\n",
    "print('selesai memuat dataset...')"
   ]
  },
  {
   "cell_type": "code",
   "execution_count": null,
   "id": "13c0187f",
   "metadata": {},
   "outputs": [
    {
     "name": "stderr",
     "output_type": "stream",
     "text": [
      "Map:   0%|          | 0/4542 [00:00<?, ? examples/s]"
     ]
    },
    {
     "name": "stderr",
     "output_type": "stream",
     "text": [
      "Map: 100%|██████████| 4542/4542 [00:02<00:00, 1959.06 examples/s]\n",
      "Map: 100%|██████████| 1143/1143 [00:00<00:00, 2139.44 examples/s]\n",
      "Map: 100%|██████████| 565/565 [00:00<00:00, 2000.93 examples/s]"
     ]
    },
    {
     "name": "stdout",
     "output_type": "stream",
     "text": [
      "selesai membuat chunks...\n"
     ]
    },
    {
     "name": "stderr",
     "output_type": "stream",
     "text": [
      "\n"
     ]
    }
   ],
   "source": [
    "def split_between_title_and_text(text: str) -> Tuple[str, str]:\n",
    "    \"\"\"Memisahkan bagian Judul dan Teks dari input lengkap.\"\"\"\n",
    "    title, content = text.split(\"|\", 1)\n",
    "    return title.strip(), content.strip()\n",
    "\n",
    "def split_sentences(text: str):\n",
    "    # Hapus sitasi dalam format [1], [2], dst.\n",
    "    cleaned_text = re.sub(r'\\[\\d+\\]', '', text)\n",
    "    \n",
    "    # Jalankan sentence tokenizer dari nltk\n",
    "    sentences = sent_tokenize(cleaned_text)\n",
    "    \n",
    "    return [s.strip() for s in sentences if s.strip()]\n",
    "\n",
    "def create_rolling_segments(title: str, sentences: List[str], window_size: int = 3, stride: int = 2) -> List[str]:\n",
    "    segments = []\n",
    "    if len(sentences) < window_size:\n",
    "        segments.append(f\"{title} | {' '.join(sentences)}\")\n",
    "    else:\n",
    "        for i in range(0, len(sentences) - window_size + 1, stride):\n",
    "            group = sentences[i:i + window_size]\n",
    "            combined = title + \" | \" + \" \".join(group)\n",
    "            segments.append(combined)\n",
    "    return segments\n",
    "\n",
    "def prepare_context_chunks(text: str, is_positive: bool) -> List[Dict[str, Any]]:\n",
    "    \"\"\"Memproses teks menjadi rolling segments, disertai label apakah positive passage.\"\"\"\n",
    "    title, content = split_between_title_and_text(text)\n",
    "    sentences = split_sentences(content)\n",
    "    segments = create_rolling_segments(title, sentences, window_size=3)\n",
    "    \n",
    "    return [{\"text\": seg, \"is_positive\": is_positive} for seg in segments]\n",
    "\n",
    "\n",
    "def split_each_passages(example):\n",
    "    passages = example[\"passages\"]\n",
    "    all_chunks = []\n",
    "    all_labels = []\n",
    "\n",
    "    for i, passage in enumerate(passages):\n",
    "        is_positive = (i == 0)  # Index 0 = positive passage\n",
    "        chunks = prepare_context_chunks(passage, is_positive)\n",
    "        for c in chunks:\n",
    "            all_chunks.append(c[\"text\"])\n",
    "            all_labels.append(c[\"is_positive\"])\n",
    "\n",
    "    return {\n",
    "        \"context_chunks\": all_chunks,\n",
    "        \"chunk_labels\": all_labels\n",
    "    }\n",
    "\n",
    "train_dataset = train_dataset.map(split_each_passages)\n",
    "dev_dataset = dev_dataset.map(split_each_passages)\n",
    "test_dataset = test_dataset.map(split_each_passages)\n",
    "print('selesai membuat chunks...')"
   ]
  },
  {
   "cell_type": "code",
   "execution_count": 25,
   "id": "7a7471af",
   "metadata": {},
   "outputs": [
    {
     "name": "stdout",
     "output_type": "stream",
     "text": [
      "Rerata jumlah elemen di 'context_chunks' TRAIN: 4.77\n",
      "Rerata jumlah elemen di 'context_chunks' DEV: 4.52\n",
      "Rerata jumlah elemen di 'context_chunks' TEST: 4.61\n"
     ]
    }
   ],
   "source": [
    "total_chunks = sum(len(row[\"context_chunks\"]) for row in train_dataset)\n",
    "average_chunks = total_chunks / len(train_dataset)\n",
    "print(f\"Rerata jumlah elemen di 'context_chunks' TRAIN: {average_chunks:.2f}\")\n",
    "\n",
    "dev_chunks = sum(len(row[\"context_chunks\"]) for row in dev_dataset)\n",
    "average_dev_chunks = dev_chunks / len(dev_dataset)\n",
    "print(f\"Rerata jumlah elemen di 'context_chunks' DEV: {average_dev_chunks:.2f}\")\n",
    "\n",
    "test_chunks = sum(len(row[\"context_chunks\"]) for row in test_dataset)\n",
    "average_test_chunks = test_chunks / len(test_dataset)\n",
    "print(f\"Rerata jumlah elemen di 'context_chunks' TEST: {average_test_chunks:.2f}\")"
   ]
  },
  {
   "cell_type": "code",
   "execution_count": null,
   "id": "153d5f54",
   "metadata": {},
   "outputs": [],
   "source": [
    "tokenizer = AutoTokenizer.from_pretrained('intfloat/multilingual-e5-small')\n",
    "model = AutoModel.from_pretrained('intfloat/multilingual-e5-small')\n",
    "model.eval()\n",
    "\n",
    "# Fungsi pooling dari model card\n",
    "def average_pool(last_hidden_states, attention_mask):\n",
    "    last_hidden = last_hidden_states.masked_fill(~attention_mask[..., None].bool(), 0.0)\n",
    "    return last_hidden.sum(dim=1) / attention_mask.sum(dim=1)[..., None]\n",
    "\n",
    "from typing import Optional\n",
    "def get_all_units_scores_sorted(query, units, labels):\n",
    "    if not units:\n",
    "        return []\n",
    "\n",
    "    input_texts = [\"query: \" + query] + [\"passage: \" + u for u in units]\n",
    "    batch = tokenizer(input_texts, padding=True, truncation=True, max_length=512, return_tensors=\"pt\")\n",
    "\n",
    "    with torch.no_grad():\n",
    "        outputs = model(**batch)\n",
    "\n",
    "    embeddings = average_pool(outputs.last_hidden_state, batch['attention_mask'])\n",
    "    embeddings = F.normalize(embeddings, p=2, dim=1)\n",
    "\n",
    "    query_embedding = embeddings[0]\n",
    "    unit_embeddings = embeddings[1:]\n",
    "    scores = (query_embedding @ unit_embeddings.T) * 100\n",
    "\n",
    "    scores_list = scores.tolist()\n",
    "\n",
    "    combined = [{\"text\": units[i], \"score\": scores_list[i], \"is_positive\": labels[i]} for i in range(len(units))]\n",
    "    combined_sorted = sorted(combined, key=lambda x: x[\"score\"], reverse=True)\n",
    "    return combined_sorted\n",
    "\n",
    "def process_dataset_with_sorted_scores(\n",
    "    dataset, \n",
    "    text_col: str,\n",
    "    label_col: Optional[str] =None,\n",
    "    output_col: str=None\n",
    "):\n",
    "    ranked_units_all = []\n",
    "\n",
    "    for example in tqdm(dataset, desc=f\"Processing {output_col}\"):\n",
    "        query = example['query']\n",
    "\n",
    "        if label_col is None:\n",
    "            units = example[text_col]\n",
    "            labels = [i == 0 for i in range(len(units))]            \n",
    "        else:\n",
    "            units = example[text_col]\n",
    "            labels = example[label_col]            \n",
    "\n",
    "        ranked_units = get_all_units_scores_sorted(query, units, labels)\n",
    "        ranked_units_all.append(ranked_units)\n",
    "\n",
    "    dataset = dataset.add_column(output_col, ranked_units_all)\n",
    "    return dataset"
   ]
  },
  {
   "cell_type": "code",
   "execution_count": null,
   "id": "954c13ce",
   "metadata": {},
   "outputs": [],
   "source": [
    "from datasets import DatasetDict\n",
    "# Membuat chunks dan me-ranking berdasarkan skor similarity\n",
    "train_dataset = process_dataset_with_sorted_scores(train_dataset, text_col=\"context_chunks\", label_col=\"chunk_labels\", output_col=\"ranked_chunks_with_labels\")\n",
    "dev_dataset = process_dataset_with_sorted_scores(dev_dataset, text_col=\"context_chunks\", label_col=\"chunk_labels\", output_col=\"ranked_chunks_with_labels\")\n",
    "test_dataset = process_dataset_with_sorted_scores(test_dataset, text_col=\"context_chunks\", label_col=\"chunk_labels\", output_col=\"ranked_chunks_with_labels\")\n",
    "\n",
    "dataset = DatasetDict({\n",
    "    \"train\": train_dataset,\n",
    "    \"dev\": dev_dataset,\n",
    "    \"test\": test_dataset\n",
    "})\n",
    "\n",
    "# Me-rangking passages berdasarkan skor similarity\n",
    "for split in dataset.keys():\n",
    "    dataset[split] = process_dataset_with_sorted_scores(\n",
    "    dataset[split], \n",
    "    text_col=\"passages\",\n",
    "    output_col=\"ranked_passages_with_labels\"\n",
    ")"
   ]
  },
  {
   "cell_type": "code",
   "execution_count": 37,
   "id": "514df7e0",
   "metadata": {},
   "outputs": [
    {
     "name": "stderr",
     "output_type": "stream",
     "text": [
      "Saving the dataset (1/1 shards): 100%|██████████| 4542/4542 [00:00<00:00, 114432.71 examples/s]\n",
      "Saving the dataset (1/1 shards): 100%|██████████| 1143/1143 [00:00<00:00, 56971.44 examples/s]\n",
      "Saving the dataset (1/1 shards): 100%|██████████| 565/565 [00:00<00:00, 46627.22 examples/s]\n"
     ]
    }
   ],
   "source": [
    "dataset.save_to_disk('../generated_data/CRAG_dataset')"
   ]
  },
  {
   "cell_type": "markdown",
   "id": "c5338070",
   "metadata": {},
   "source": [
    "# EDA "
   ]
  },
  {
   "cell_type": "markdown",
   "id": "95029e7f",
   "metadata": {},
   "source": [
    "## 1. Jumlah Chunks tiap Row"
   ]
  },
  {
   "cell_type": "code",
   "execution_count": 67,
   "id": "32b0b20a",
   "metadata": {},
   "outputs": [
    {
     "name": "stdout",
     "output_type": "stream",
     "text": [
      "Rerata jumlah elemen di 'context_chunks' TRAIN: 4.77\n",
      "3 chunks: 1491 query (32.83%)\n",
      "4 chunks: 1154 query (25.41%)\n",
      "5 chunks: 731 query (16.09%)\n",
      "6 chunks: 470 query (10.35%)\n",
      "7 chunks: 294 query (6.47%)\n",
      "8 chunks: 161 query (3.54%)\n",
      "9 chunks: 87 query (1.92%)\n",
      "10 chunks: 44 query (0.97%)\n",
      "11 chunks: 42 query (0.92%)\n",
      "12 chunks: 20 query (0.44%)\n",
      "13 chunks: 13 query (0.29%)\n",
      "14 chunks: 10 query (0.22%)\n",
      "15 chunks: 5 query (0.11%)\n",
      "16 chunks: 4 query (0.09%)\n",
      "17 chunks: 1 query (0.02%)\n",
      "18 chunks: 1 query (0.02%)\n",
      "19 chunks: 3 query (0.07%)\n",
      "21 chunks: 2 query (0.04%)\n",
      "23 chunks: 2 query (0.04%)\n",
      "25 chunks: 2 query (0.04%)\n",
      "26 chunks: 1 query (0.02%)\n",
      "27 chunks: 2 query (0.04%)\n",
      "44 chunks: 1 query (0.02%)\n",
      "48 chunks: 1 query (0.02%)\n",
      "\n",
      "Rerata jumlah elemen di 'context_chunks' DEV: 4.52\n",
      "3 chunks: 415 query (36.31%)\n",
      "4 chunks: 328 query (28.70%)\n",
      "5 chunks: 153 query (13.39%)\n",
      "6 chunks: 98 query (8.57%)\n",
      "7 chunks: 74 query (6.47%)\n",
      "8 chunks: 35 query (3.06%)\n",
      "9 chunks: 15 query (1.31%)\n",
      "10 chunks: 10 query (0.87%)\n",
      "11 chunks: 6 query (0.52%)\n",
      "12 chunks: 3 query (0.26%)\n",
      "14 chunks: 1 query (0.09%)\n",
      "15 chunks: 3 query (0.26%)\n",
      "19 chunks: 1 query (0.09%)\n",
      "39 chunks: 1 query (0.09%)\n",
      "\n",
      "Rerata jumlah elemen di 'context_chunks' TEST: 4.61\n",
      "3 chunks: 207 query (36.64%)\n",
      "4 chunks: 142 query (25.13%)\n",
      "5 chunks: 89 query (15.75%)\n",
      "6 chunks: 54 query (9.56%)\n",
      "7 chunks: 29 query (5.13%)\n",
      "8 chunks: 22 query (3.89%)\n",
      "9 chunks: 7 query (1.24%)\n",
      "10 chunks: 2 query (0.35%)\n",
      "11 chunks: 5 query (0.88%)\n",
      "13 chunks: 3 query (0.53%)\n",
      "14 chunks: 2 query (0.35%)\n",
      "15 chunks: 1 query (0.18%)\n",
      "17 chunks: 1 query (0.18%)\n",
      "28 chunks: 1 query (0.18%)\n"
     ]
    }
   ],
   "source": [
    "from collections import Counter\n",
    "\n",
    "def count_number_of_chunks_per_query(dataset):\n",
    "    freq_counter = Counter()\n",
    "    total_chunks = 0\n",
    "\n",
    "    for ex in dataset:\n",
    "        labels = ex['chunk_labels']\n",
    "        n_chunks = len(labels)\n",
    "        freq_counter[n_chunks] += 1\n",
    "        total_chunks += n_chunks\n",
    "\n",
    "    avg_chunks_per_query = total_chunks / len(dataset)\n",
    "    return dict(freq_counter), avg_chunks_per_query\n",
    "\n",
    "train_chunks_dist, avg_train_chunks = count_number_of_chunks_per_query(train_dataset)\n",
    "print(f\"Rerata jumlah elemen di 'context_chunks' TRAIN: {avg_train_chunks:.2f}\")\n",
    "print('\\n'.join([f\"{n} chunks: {c} query ({c/len(train_dataset)*100:.2f}%)\" for n, c in sorted(train_chunks_dist.items())]))\n",
    "print()\n",
    "dev_chunks_dist, avg_dev_chunks = count_number_of_chunks_per_query(dev_dataset)\n",
    "print(f\"Rerata jumlah elemen di 'context_chunks' DEV: {avg_dev_chunks:.2f}\")\n",
    "print('\\n'.join([f\"{n} chunks: {c} query ({c/len(dev_dataset)*100:.2f}%)\" for n, c in sorted(dev_chunks_dist.items())]))\n",
    "print()\n",
    "test_chunks_dist, avg_test_chunks = count_number_of_chunks_per_query(test_dataset)\n",
    "print(f\"Rerata jumlah elemen di 'context_chunks' TEST: {avg_test_chunks:.2f}\")\n",
    "print('\\n'.join([f\"{n} chunks: {c} query ({c/len(test_dataset)*100:.2f}%)\" for n, c in sorted(test_chunks_dist.items())]))"
   ]
  },
  {
   "cell_type": "markdown",
   "id": "35c4094e",
   "metadata": {},
   "source": [
    "## 2. Jumlah Chunks Positif tiap Row"
   ]
  },
  {
   "cell_type": "code",
   "execution_count": 56,
   "id": "d73d430f",
   "metadata": {},
   "outputs": [],
   "source": [
    "from collections import Counter\n",
    "\n",
    "def count_positive_chunks_per_query(dataset):\n",
    "    \"\"\"\n",
    "    Menghitung distribusi jumlah chunk positif per query,\n",
    "    serta rata-rata jumlah chunk positif di seluruh dataset.\n",
    "\n",
    "    Parameters:\n",
    "    - dataset: Dataset Huggingface atau list of dict dengan kolom 'chunk_labels'\n",
    "\n",
    "    Returns:\n",
    "    - freq_counter: dict {jumlah_positif: banyak_query}\n",
    "    - avg_positive_per_query: float\n",
    "    \"\"\"\n",
    "    freq_counter = Counter()\n",
    "    total_positives = 0\n",
    "\n",
    "    for ex in dataset:\n",
    "        labels = ex['chunk_labels']\n",
    "        n_positive = sum(labels)\n",
    "        freq_counter[n_positive] += 1\n",
    "        total_positives += n_positive\n",
    "\n",
    "    avg_positive_per_query = total_positives / len(dataset)\n",
    "    return dict(freq_counter), avg_positive_per_query"
   ]
  },
  {
   "cell_type": "code",
   "execution_count": null,
   "id": "364e2359",
   "metadata": {},
   "outputs": [
    {
     "name": "stdout",
     "output_type": "stream",
     "text": [
      "Distribusi jumlah chunk positif per row:\n",
      "1 positif: 3034 query\n",
      "2 positif: 911 query\n",
      "3 positif: 358 query\n",
      "4 positif: 129 query\n",
      "5 positif: 50 query\n",
      "6 positif: 25 query\n",
      "7 positif: 11 query\n",
      "8 positif: 6 query\n",
      "9 positif: 5 query\n",
      "10 positif: 1 query\n",
      "12 positif: 5 query\n",
      "14 positif: 1 query\n",
      "15 positif: 1 query\n",
      "21 positif: 2 query\n",
      "23 positif: 1 query\n",
      "41 positif: 1 query\n",
      "46 positif: 1 query\n",
      "\n",
      "Rata-rata chunk positif per row: 1.60\n"
     ]
    }
   ],
   "source": [
    "dist, avg = count_positive_chunks_per_query(train_dataset)\n",
    "print(\"Distribusi jumlah chunk positif per row:\")\n",
    "for n_pos, count in sorted(dist.items()):\n",
    "    print(f\"{n_pos} positif: {count} query\")\n",
    "\n",
    "print(f\"\\nRata-rata chunk positif per row: {avg:.2f}\")"
   ]
  },
  {
   "cell_type": "markdown",
   "id": "4740ad5c",
   "metadata": {},
   "source": [
    "## 3. Distribusi Skor Similarity"
   ]
  },
  {
   "cell_type": "code",
   "execution_count": 33,
   "id": "f282ca3e",
   "metadata": {},
   "outputs": [],
   "source": [
    "import matplotlib.pyplot as plt\n",
    "\n",
    "def plot_score_distribution_by_label(dataset, sample_size=100, bins=30, use_median=False, show_ticks = True):\n",
    "    pos_scores, neg_scores = [], []\n",
    "    avg_label = \"\"\n",
    "\n",
    "    for ex in dataset.select(range(sample_size)):\n",
    "        for item in ex['ranked_chunks_with_labels']:\n",
    "            if item['is_positive']:\n",
    "                pos_scores.append(item['score'])\n",
    "            else:\n",
    "                neg_scores.append(item['score'])\n",
    "\n",
    "    # Hitung rerata\n",
    "    if use_median:\n",
    "        import numpy as np\n",
    "        pos_avg = np.median(pos_scores)\n",
    "        neg_avg = np.median(neg_scores)\n",
    "        avg_label = 'med'\n",
    "    else:\n",
    "        pos_avg = sum(pos_scores) / len(pos_scores)\n",
    "        neg_avg = sum(neg_scores) / len(neg_scores)\n",
    "        avg_label='mean'\n",
    "\n",
    "    plt.figure(figsize=(10, 6))\n",
    "    plt.hist(pos_scores, bins=bins, alpha=0.6, color='green', label='Positive', density=True)\n",
    "    plt.hist(neg_scores, bins=bins, alpha=0.6, color='red', label='Negative', density=True)\n",
    "\n",
    "    # Garis putus-putus untuk rerata\n",
    "    plt.axvline(pos_avg, color='green', linestyle='--', linewidth=2, label=f'Pos {avg_label}: {pos_avg:.2f}')\n",
    "    plt.axvline(neg_avg, color='red', linestyle='--', linewidth=2, label=f'Neg {avg_label}: {neg_avg:.2f}')\n",
    "\n",
    "    if show_ticks:\n",
    "        current_ticks = plt.xticks()[0].tolist()\n",
    "        extra_ticks = [round(pos_avg, 2), round(neg_avg, 2)]\n",
    "        plt.xticks(sorted(set(current_ticks + extra_ticks)))\n",
    "\n",
    "    plt.title(\"Distribusi Skor Similarity Positive vs Negative Chunks\")\n",
    "    plt.xticks(rotation=45)\n",
    "    plt.xlabel(\"Similarity Score\")\n",
    "    plt.ylabel(\"Density\")\n",
    "    plt.legend()\n",
    "    plt.grid(True)\n",
    "    plt.show()\n"
   ]
  },
  {
   "cell_type": "code",
   "execution_count": 34,
   "id": "b1b62d89",
   "metadata": {},
   "outputs": [
    {
     "data": {
      "image/png": "[encoded data removed]",
      "text/plain": [
       "<Figure size 1000x600 with 1 Axes>"
      ]
     },
     "metadata": {},
     "output_type": "display_data"
    }
   ],
   "source": [
    "plot_score_distribution_by_label(train_dataset, sample_size = len(train_dataset))"
   ]
  },
  {
   "cell_type": "code",
   "execution_count": 35,
   "id": "9c596aeb",
   "metadata": {},
   "outputs": [
    {
     "data": {
      "image/png": "[encoded data removed]",
      "text/plain": [
       "<Figure size 1000x600 with 1 Axes>"
      ]
     },
     "metadata": {},
     "output_type": "display_data"
    }
   ],
   "source": [
    "plot_score_distribution_by_label(train_dataset, sample_size = len(train_dataset), use_median=True)"
   ]
  },
  {
   "cell_type": "markdown",
   "id": "c516ee20",
   "metadata": {},
   "source": [
    "## 4. Presisi \n",
    "Apakah dari chunks yang diambil, semua/mayoritas relevan?"
   ]
  },
  {
   "cell_type": "code",
   "execution_count": 40,
   "id": "439f8976",
   "metadata": {},
   "outputs": [],
   "source": [
    "def precision_at_k(dataset, k=1):\n",
    "    precisions = []\n",
    "    for ex in dataset:\n",
    "        topk = ex['ranked_chunks_with_labels'][:k]\n",
    "        n_pos = sum(1 for item in topk if item['is_positive'])\n",
    "        precisions.append(n_pos / k)\n",
    "    return sum(precisions) / len(precisions)"
   ]
  },
  {
   "cell_type": "code",
   "execution_count": 41,
   "id": "53a452ba",
   "metadata": {},
   "outputs": [
    {
     "data": {
      "text/plain": [
       "0.5763980625275209"
      ]
     },
     "execution_count": 41,
     "metadata": {},
     "output_type": "execute_result"
    }
   ],
   "source": [
    "precision_at_k(train_dataset, k=1)"
   ]
  },
  {
   "cell_type": "code",
   "execution_count": 43,
   "id": "8b154bb1",
   "metadata": {},
   "outputs": [
    {
     "data": {
      "text/plain": [
       "0.39993394980184943"
      ]
     },
     "execution_count": 43,
     "metadata": {},
     "output_type": "execute_result"
    }
   ],
   "source": [
    "precision_at_k(train_dataset, k=2)"
   ]
  },
  {
   "cell_type": "code",
   "execution_count": 44,
   "id": "f58fc52d",
   "metadata": {},
   "outputs": [
    {
     "data": {
      "text/plain": [
       "0.2726552179656539"
      ]
     },
     "execution_count": 44,
     "metadata": {},
     "output_type": "execute_result"
    }
   ],
   "source": [
    "precision_at_k(train_dataset, k=5)"
   ]
  },
  {
   "cell_type": "markdown",
   "id": "7b7f7c05",
   "metadata": {},
   "source": [
    "## 5. Distribusi Rank Positif Pertama"
   ]
  },
  {
   "cell_type": "code",
   "execution_count": 46,
   "id": "97bb6d66",
   "metadata": {},
   "outputs": [],
   "source": [
    "from collections import Counter\n",
    "\n",
    "def get_positive_rank_distribution(dataset, max_rank=None):\n",
    "    \"\"\"\n",
    "    Mengembalikan distribusi posisi ranking dari positive chunk pertama\n",
    "    di setiap query dalam dataset.\n",
    "\n",
    "    Parameters:\n",
    "    - dataset: dataset Huggingface atau list of dict\n",
    "    - max_rank: jika ingin membatasi pencarian sampai rank tertentu saja\n",
    "\n",
    "    Returns:\n",
    "    - Counter dengan kunci posisi (1-based) dan nilai jumlah kemunculan\n",
    "    \"\"\"\n",
    "    position_counts = Counter()\n",
    "\n",
    "    for example in dataset:\n",
    "        found = False\n",
    "        for idx, item in enumerate(example['ranked_chunks_with_labels']):\n",
    "            if max_rank is not None and idx >= max_rank:\n",
    "                break\n",
    "            if item['is_positive']:\n",
    "                position_counts[idx + 1] += 1  # rank = index + 1\n",
    "                found = True\n",
    "                break\n",
    "        if not found:\n",
    "            position_counts['>max'] += 1  # fallback jika tidak ditemukan (opsional)\n",
    "\n",
    "    return dict(position_counts)\n"
   ]
  },
  {
   "cell_type": "code",
   "execution_count": 52,
   "id": "f60d80de",
   "metadata": {},
   "outputs": [],
   "source": [
    "import matplotlib.pyplot as plt\n",
    "\n",
    "def plot_positive_rank_distribution(rank_dist, title=\"Distribusi Posisi Chunk Positif Pertama\"):\n",
    "    \"\"\"\n",
    "    Membuat bar chart dari distribusi posisi ranking positif pertama.\n",
    "\n",
    "    Parameters:\n",
    "    - rank_dist: dict hasil dari get_positive_rank_distribution\n",
    "    - title: judul plot\n",
    "    \"\"\"\n",
    "    # Pisahkan nilai numerik dan non-numerik ('>max') jika ada\n",
    "    numeric_ranks = {k: v for k, v in rank_dist.items() if isinstance(k, int)}\n",
    "    special_ranks = {k: v for k, v in rank_dist.items() if not isinstance(k, int)}\n",
    "\n",
    "    # Gabungkan dan urutkan\n",
    "    sorted_ranks = sorted(numeric_ranks.items()) + list(special_ranks.items())\n",
    "\n",
    "    labels = [str(k) for k, _ in sorted_ranks]\n",
    "    values = [v for _, v in sorted_ranks]\n",
    "\n",
    "    plt.figure(figsize=(10, 5))\n",
    "    bars = plt.bar(labels, values, color='skyblue')\n",
    "\n",
    "    plt.xlabel(\"Posisi Ranking Positif Pertama (1-based)\")\n",
    "    plt.ylabel(\"Jumlah Query\")\n",
    "    plt.title(title)\n",
    "\n",
    "    # Tambahkan label angka di atas bar\n",
    "    for bar in bars:\n",
    "        yval = bar.get_height()\n",
    "        plt.text(bar.get_x() + bar.get_width()/2, yval + 0.5, int(yval), ha='center', va='bottom')\n",
    "\n",
    "    plt.grid(axis='y', linestyle='--', alpha=0.7)\n",
    "    plt.tight_layout()\n",
    "    plt.show()\n"
   ]
  },
  {
   "cell_type": "code",
   "execution_count": 53,
   "id": "5f10e64f",
   "metadata": {},
   "outputs": [
    {
     "data": {
      "image/png": "[encoded data removed]",
      "text/plain": [
       "<Figure size 1000x500 with 1 Axes>"
      ]
     },
     "metadata": {},
     "output_type": "display_data"
    }
   ],
   "source": [
    "# Tanpa batasan rank\n",
    "dist = get_positive_rank_distribution(train_dataset, max_rank=5)\n",
    "plot_positive_rank_distribution(dist)"
   ]
  },
  {
   "cell_type": "code",
   "execution_count": 72,
   "id": "5218a3bc",
   "metadata": {},
   "outputs": [
    {
     "data": {
      "text/plain": [
       "[{'is_positive': False,\n",
       "  'score': 91.0045394897461,\n",
       "  'text': 'Taman Nasional Ujung Kulon | Melalui Keputusan Menteri Kehutanan Nomor: 284/Kpts-II/1992 Tanggal 26 Februari 1992, Ujung Kulon ditunjuk sebagai Taman Nasional Ujung Kulon dengan luas total 122.956 Ha terdiri dari kawasan darat 78.619 Ha dan perairan 44.337 Ha.'},\n",
       " {'is_positive': False,\n",
       "  'score': 89.75101470947266,\n",
       "  'text': 'Taman Nasional Ujung Kulon | Komisi Warisan Dunia UNESCO menetapkan Taman Nasional Ujung Kulon sebagai Natural World Heritage Site (Situs Warisan Alam Dunia) dengan Surat Keputusan Nomor: SC/Eco/5867.2.409 Tanggal 1 Februari 1992.'},\n",
       " {'is_positive': True,\n",
       "  'score': 88.17350006103516,\n",
       "  'text': 'Taman Nasional Ujung Kulon | Ujung Kulon merupakan taman nasional tertua di Indonesia yang sudah diresmikan sebagai salah satu Warisan Dunia yang dilindungi oleh UNESCO pada tahun 1991, karena wilayahnya mencakupi hutan lindung yang sangat luas. Sampai saat ini kurang lebih 50 sampai dengan 60 badak hidup di habitat ini.'}]"
      ]
     },
     "execution_count": 72,
     "metadata": {},
     "output_type": "execute_result"
    }
   ],
   "source": [
    "train_dataset['ranked_chunks_with_labels'][2967]"
   ]
  },
  {
   "cell_type": "markdown",
   "id": "288a1dc1",
   "metadata": {},
   "source": [
    "# Membuat Jawaban"
   ]
  },
  {
   "cell_type": "code",
   "execution_count": 51,
   "id": "38a42171",
   "metadata": {},
   "outputs": [
    {
     "name": "stdout",
     "output_type": "stream",
     "text": [
      "Loading model on cuda with torch.bfloat16\n"
     ]
    },
    {
     "name": "stderr",
     "output_type": "stream",
     "text": [
      "Loading checkpoint shards: 100%|██████████| 2/2 [00:00<00:00,  9.36it/s]\n"
     ]
    }
   ],
   "source": [
    "import sys\n",
    "sys.path.append('../RECOMP')\n",
    "# from generate_answer import generate_answer_and_do_scoring\n",
    "from utils import load_model_and_tokenizer\n",
    "model_name='Qwen/Qwen3-1.7B'\n",
    "model, tokenizer, config = load_model_and_tokenizer(model_name)"
   ]
  },
  {
   "cell_type": "code",
   "execution_count": null,
   "id": "2980d752",
   "metadata": {},
   "outputs": [],
   "source": [
    "from datasets import load_from_disk\n",
    "dataset_path = \"../generated_data/CRAG_dataset\"\n",
    "dataset = load_from_disk(dataset_path)\n",
    "test_dataset = dataset['test']"
   ]
  },
  {
   "cell_type": "code",
   "execution_count": null,
   "id": "ba82ed8f",
   "metadata": {},
   "outputs": [],
   "source": [
    "from functools import partial\n",
    "\n",
    "def extract_topk_text_and_full_passages(example, k=3, ranked_units='ranked_chunks_with_labels'):\n",
    "    ranked_chunks = example[ranked_units]\n",
    "    \n",
    "    # Ambil top-k chunk (atau kurang jika tersedia lebih sedikit)\n",
    "    topk_chunks = ranked_chunks[:k]\n",
    "    \n",
    "    # Gabungkan semua 'text' dari top-k dengan pemisah newline\n",
    "    joined_text = \"\\n\".join(chunk['text'] for chunk in topk_chunks)\n",
    "    topk_labels = [chunk['is_positive'] for chunk in topk_chunks]\n",
    "\n",
    "    return {\n",
    "        f\"top{k}_chunks\": joined_text,\n",
    "        f\"top{k}_labels\": topk_labels\n",
    "    }"
   ]
  },
  {
   "cell_type": "markdown",
   "id": "5854411d",
   "metadata": {},
   "source": [
    "## Dengan Top 1 Chunks"
   ]
  },
  {
   "cell_type": "code",
   "execution_count": 64,
   "id": "39eba1fb",
   "metadata": {},
   "outputs": [],
   "source": [
    "# Top-k bisa kamu sesuaikan di sini\n",
    "k = 1\n",
    "extract_fn = partial(extract_topk_text_and_full_passages, k=k)\n",
    "test_dataset = test_dataset.map(extract_fn)\n"
   ]
  },
  {
   "cell_type": "code",
   "execution_count": 65,
   "id": "cbe454cd",
   "metadata": {},
   "outputs": [
    {
     "name": "stderr",
     "output_type": "stream",
     "text": [
      "Generating responses with summary only:   0%|          | 0/565 [00:00<?, ?it/s]c:\\Users\\LENOVO\\anaconda3\\envs\\recomp\\Lib\\site-packages\\transformers\\generation\\configuration_utils.py:631: UserWarning: `do_sample` is set to `False`. However, `temperature` is set to `0.6` -- this flag is only used in sample-based generation modes. You should set `do_sample=True` or unset `temperature`.\n",
      "  warnings.warn(\n",
      "c:\\Users\\LENOVO\\anaconda3\\envs\\recomp\\Lib\\site-packages\\transformers\\generation\\configuration_utils.py:636: UserWarning: `do_sample` is set to `False`. However, `top_p` is set to `0.95` -- this flag is only used in sample-based generation modes. You should set `do_sample=True` or unset `top_p`.\n",
      "  warnings.warn(\n",
      "c:\\Users\\LENOVO\\anaconda3\\envs\\recomp\\Lib\\site-packages\\transformers\\generation\\configuration_utils.py:653: UserWarning: `do_sample` is set to `False`. However, `top_k` is set to `20` -- this flag is only used in sample-based generation modes. You should set `do_sample=True` or unset `top_k`.\n",
      "  warnings.warn(\n",
      "Generating responses with summary only: 100%|██████████| 565/565 [20:36<00:00,  2.19s/it]\n"
     ]
    }
   ],
   "source": [
    "top1_generation = generate_answer_and_do_scoring(\n",
    "    dataset=test_dataset,\n",
    "    query_col=\"query\",\n",
    "    filtered_contexts_col=\"top1_chunks\",\n",
    "    original_passages_col='ranked_chunks_with_labels',\n",
    "    label_col=\"answer\",\n",
    "    model=model,\n",
    "    tokenizer=tokenizer\n",
    ")"
   ]
  },
  {
   "cell_type": "code",
   "execution_count": 66,
   "id": "a96c2592",
   "metadata": {},
   "outputs": [
    {
     "name": "stdout",
     "output_type": "stream",
     "text": [
      "HASIL CRAG dengan Top 1\n",
      "rerata EM: 0.46194690265486726\n",
      "rerata F1: 0.3076654654081876\n"
     ]
    }
   ],
   "source": [
    "# Attempt: truncate filtered_context so it fits 512\n",
    "from datasets import Dataset\n",
    "CRAG_top1 = Dataset.from_list(top1_generation)\n",
    "print(\"HASIL CRAG dengan Top 1\")\n",
    "print(\"rerata EM:\", sum(CRAG_top1['em'])/len(CRAG_top1))\n",
    "print(\"rerata F1:\", sum(CRAG_top1['f1'])/len(CRAG_top1))"
   ]
  },
  {
   "cell_type": "markdown",
   "id": "45c5a501",
   "metadata": {},
   "source": [
    "__\"Jawab dalam dua kalimat\"__\n",
    "\n",
    "rerata EM: 0.46194690265486726\n",
    "\n",
    "rerata F1: 0.3076654654081876\n",
    "\n",
    "__\"Jawab pertanyaan berikut\"__\n",
    "\n",
    "rerata EM: 0.45132743362831856\n",
    "\n",
    "rerata F1: 0.2531249458778981"
   ]
  },
  {
   "cell_type": "code",
   "execution_count": 74,
   "id": "69476f03",
   "metadata": {},
   "outputs": [
    {
     "name": "stderr",
     "output_type": "stream",
     "text": [
      "Saving the dataset (1/1 shards): 100%|██████████| 565/565 [00:00<00:00, 35401.58 examples/s]\n"
     ]
    }
   ],
   "source": [
    "CRAG_top1.save_to_disk('./generated_data/top1_assuredQuery')"
   ]
  },
  {
   "cell_type": "markdown",
   "id": "dd07bba3",
   "metadata": {},
   "source": [
    "## Dengan Top 2 Chunks"
   ]
  },
  {
   "cell_type": "code",
   "execution_count": 67,
   "id": "403e0baf",
   "metadata": {},
   "outputs": [
    {
     "data": {
      "text/plain": [
       "Dataset({\n",
       "    features: ['query_id', 'query', 'tydiqa_id', 'answer', 'passages', 'context_chunks', 'chunk_labels', 'ranked_chunks_with_labels', 'top1_chunks', 'top1_labels', 'top2_chunks', 'top2_labels'],\n",
       "    num_rows: 565\n",
       "})"
      ]
     },
     "execution_count": 67,
     "metadata": {},
     "output_type": "execute_result"
    }
   ],
   "source": [
    "extract2_fn = partial(extract_topk_text_and_full_passages, k=2)\n",
    "test_dataset = test_dataset.map(extract2_fn)\n",
    "test_dataset"
   ]
  },
  {
   "cell_type": "code",
   "execution_count": 68,
   "id": "8976200a",
   "metadata": {},
   "outputs": [
    {
     "name": "stderr",
     "output_type": "stream",
     "text": [
      "Generating responses with summary only:   0%|          | 0/565 [00:00<?, ?it/s]c:\\Users\\LENOVO\\anaconda3\\envs\\recomp\\Lib\\site-packages\\transformers\\generation\\configuration_utils.py:631: UserWarning: `do_sample` is set to `False`. However, `temperature` is set to `0.6` -- this flag is only used in sample-based generation modes. You should set `do_sample=True` or unset `temperature`.\n",
      "  warnings.warn(\n",
      "c:\\Users\\LENOVO\\anaconda3\\envs\\recomp\\Lib\\site-packages\\transformers\\generation\\configuration_utils.py:636: UserWarning: `do_sample` is set to `False`. However, `top_p` is set to `0.95` -- this flag is only used in sample-based generation modes. You should set `do_sample=True` or unset `top_p`.\n",
      "  warnings.warn(\n",
      "c:\\Users\\LENOVO\\anaconda3\\envs\\recomp\\Lib\\site-packages\\transformers\\generation\\configuration_utils.py:653: UserWarning: `do_sample` is set to `False`. However, `top_k` is set to `20` -- this flag is only used in sample-based generation modes. You should set `do_sample=True` or unset `top_k`.\n",
      "  warnings.warn(\n",
      "Generating responses with summary only: 100%|██████████| 565/565 [20:41<00:00,  2.20s/it]\n"
     ]
    }
   ],
   "source": [
    "top2_answers = generate_answer_and_do_scoring(\n",
    "    dataset=test_dataset,\n",
    "    query_col=\"query\",\n",
    "    filtered_contexts_col=\"top2_chunks\",\n",
    "    original_passages_col='ranked_chunks_with_labels',\n",
    "    label_col=\"answer\",\n",
    "    model=model,\n",
    "    tokenizer=tokenizer\n",
    ")"
   ]
  },
  {
   "cell_type": "code",
   "execution_count": 69,
   "id": "ef56d49a",
   "metadata": {},
   "outputs": [
    {
     "name": "stdout",
     "output_type": "stream",
     "text": [
      "HASIL CRAG dengan Top 2\n",
      "rerata EM: 0.5451327433628319\n",
      "rerata F1: 0.34767403844806855\n"
     ]
    }
   ],
   "source": [
    "from datasets import Dataset\n",
    "CRAG_top2 = Dataset.from_list(top2_answers)\n",
    "print(\"HASIL CRAG dengan Top 2\")\n",
    "print(\"rerata EM:\", sum(CRAG_top2['em'])/len(CRAG_top2))\n",
    "print(\"rerata F1:\", sum(CRAG_top2['f1'])/len(CRAG_top2))"
   ]
  },
  {
   "cell_type": "markdown",
   "id": "b03bff6f",
   "metadata": {},
   "source": [
    "__\"Jawab pertanyaan dalam dua kalimat\"__\n",
    "\n",
    "rerata EM: 0.5380530973451327\n",
    "\n",
    "rerata F1: 0.34436598956479847\n",
    "\n",
    "__\"Jawab pertanyaan berikut\"__\n",
    "\n",
    "rerata EM: 0.5238938053097345\n",
    "\n",
    "rerata F1: 0.2812378673810715"
   ]
  },
  {
   "cell_type": "code",
   "execution_count": 77,
   "id": "9467a2b5",
   "metadata": {},
   "outputs": [
    {
     "data": {
      "text/plain": [
       "Dataset({\n",
       "    features: ['query', 'filtered_context', 'label', 'generated_answer', 'em', 'f1', 'prompt_token_length', 'was_truncated', 'final_prompt', 'final_prompt_decoded', 'full_decoded_output', 'passages'],\n",
       "    num_rows: 565\n",
       "})"
      ]
     },
     "execution_count": 77,
     "metadata": {},
     "output_type": "execute_result"
    }
   ],
   "source": [
    "CRAG_top2"
   ]
  },
  {
   "cell_type": "code",
   "execution_count": 78,
   "id": "35821225",
   "metadata": {},
   "outputs": [
    {
     "name": "stderr",
     "output_type": "stream",
     "text": [
      "Saving the dataset (1/1 shards): 100%|██████████| 565/565 [00:00<00:00, 44878.83 examples/s]\n"
     ]
    }
   ],
   "source": [
    "CRAG_top2.save_to_disk('./generated_data/top2_assuredQuery')"
   ]
  },
  {
   "cell_type": "markdown",
   "id": "e6adc795",
   "metadata": {},
   "source": [
    "## Dengan Top 3 Chunks"
   ]
  },
  {
   "cell_type": "code",
   "execution_count": 70,
   "id": "7b0d6671",
   "metadata": {},
   "outputs": [
    {
     "name": "stderr",
     "output_type": "stream",
     "text": [
      "Generating responses with summary only: 100%|██████████| 565/565 [21:30<00:00,  2.28s/it]\n"
     ]
    }
   ],
   "source": [
    "extract3_fn = partial(extract_topk_text_and_full_passages, k=3)\n",
    "test_dataset = test_dataset.map(extract3_fn)\n",
    "top3_answers = generate_answer_and_do_scoring(\n",
    "    dataset=test_dataset,\n",
    "    query_col=\"query\",\n",
    "    filtered_contexts_col=\"top3_chunks\",\n",
    "    original_passages_col='ranked_chunks_with_labels',\n",
    "    label_col=\"answer\",\n",
    "    model=model,\n",
    "    tokenizer=tokenizer\n",
    ")"
   ]
  },
  {
   "cell_type": "markdown",
   "id": "7bd01761",
   "metadata": {},
   "source": [
    "__\"Jawab pertanyaan dalam dua kalimat\"__\n",
    "\n",
    "rerata EM: 0.5256637168141592\n",
    "\n",
    "rerata F1: 0.33914371557823864\n",
    "\n",
    "__\"Jawab pertanyaan berikut\"__\n",
    "\n",
    "rerata EM: 0.5203539823008849\n",
    "\n",
    "rerata F1: 0.2702114031039669"
   ]
  },
  {
   "cell_type": "code",
   "execution_count": 71,
   "id": "c4995168",
   "metadata": {},
   "outputs": [
    {
     "name": "stdout",
     "output_type": "stream",
     "text": [
      "HASIL CRAG dengan chunks top 3\n",
      "rerata EM: 0.5911504424778761\n",
      "rerata F1: 0.36747370967665716\n"
     ]
    }
   ],
   "source": [
    "# Latest attempt\n",
    "CRAG_top3 = Dataset.from_list(top3_answers)\n",
    "print(\"HASIL CRAG dengan chunks top 3\")\n",
    "print(\"rerata EM:\", sum(CRAG_top3['em'])/len(CRAG_top3))\n",
    "print(\"rerata F1:\", sum(CRAG_top3['f1'])/len(CRAG_top3))"
   ]
  },
  {
   "cell_type": "code",
   "execution_count": 75,
   "id": "4c725932",
   "metadata": {},
   "outputs": [
    {
     "name": "stderr",
     "output_type": "stream",
     "text": [
      "Saving the dataset (1/1 shards): 100%|██████████| 565/565 [00:00<00:00, 38623.47 examples/s]\n"
     ]
    }
   ],
   "source": [
    "CRAG_top3.save_to_disk('./generated_data/top3_assuredQuery')"
   ]
  },
  {
   "cell_type": "markdown",
   "id": "e6918d30",
   "metadata": {},
   "source": [
    "## Dengan Semua Chunks\n",
    "Tapi tetap maksimal panjang input ditetapkan sebagai 512 token"
   ]
  },
  {
   "cell_type": "markdown",
   "id": "16609ba6",
   "metadata": {},
   "source": [
    "Melakukan generasi jawaban dengan semua chunks, diurutkan dari paling tinggi skor similarity-nya"
   ]
  },
  {
   "cell_type": "code",
   "execution_count": 72,
   "id": "1d405ca3",
   "metadata": {},
   "outputs": [
    {
     "name": "stderr",
     "output_type": "stream",
     "text": [
      "Generating responses with summary only: 100%|██████████| 565/565 [21:26<00:00,  2.28s/it]\n"
     ]
    }
   ],
   "source": [
    "extract_all_fn = partial(extract_topk_text_and_full_passages, k=99)\n",
    "test_dataset = test_dataset.map(extract_all_fn)\n",
    "\n",
    "all_chunk_answers = generate_answer_and_do_scoring(\n",
    "    dataset=test_dataset,\n",
    "    query_col=\"query\",\n",
    "    filtered_contexts_col=\"top99_chunks\",\n",
    "    original_passages_col='ranked_chunks_with_labels',\n",
    "    label_col=\"answer\",\n",
    "    model=model,\n",
    "    tokenizer=tokenizer\n",
    ")\n",
    "ds = Dataset.from_list(all_chunk_answers)"
   ]
  },
  {
   "cell_type": "code",
   "execution_count": 73,
   "id": "1d3c7667",
   "metadata": {},
   "outputs": [
    {
     "name": "stderr",
     "output_type": "stream",
     "text": [
      "Filter: 100%|██████████| 565/565 [00:00<00:00, 9259.56 examples/s]\n",
      "Filter: 100%|██████████| 565/565 [00:00<00:00, 11590.56 examples/s]\n"
     ]
    },
    {
     "name": "stdout",
     "output_type": "stream",
     "text": [
      "Long Input Avg F1: 0.0\n",
      "Long Input Avg EM: 0.0\n",
      "Short Input Avg F1: 0.37027166749336476\n",
      "Short Input Avg EM: 0.5939716312056738\n"
     ]
    }
   ],
   "source": [
    "long_inputs = ds.filter(lambda x: x[\"was_truncated\"])\n",
    "short_inputs = ds.filter(lambda x: not x[\"was_truncated\"])\n",
    "\n",
    "if len(long_inputs) > 0:\n",
    "    print(\"Long Input Avg F1:\", sum([r[\"f1\"] for r in long_inputs]) / len(long_inputs))\n",
    "    print(\"Long Input Avg EM:\", sum([r[\"em\"] for r in long_inputs]) / len(long_inputs))\n",
    "print(\"Short Input Avg F1:\", sum([r[\"f1\"] for r in short_inputs]) / len(short_inputs))\n",
    "print(\"Short Input Avg EM:\", sum([r[\"em\"] for r in short_inputs]) / len(short_inputs))"
   ]
  },
  {
   "cell_type": "markdown",
   "id": "a2e20c84",
   "metadata": {},
   "source": [
    "__Ketika query belum tentu masuk ke dalam prompt__\n",
    "\n",
    "Long Input Avg EM: 0.08996539792387544\n",
    "\n",
    "Short Input Avg EM: 0.5978260869565217"
   ]
  },
  {
   "cell_type": "code",
   "execution_count": 76,
   "id": "fbde755e",
   "metadata": {},
   "outputs": [
    {
     "name": "stderr",
     "output_type": "stream",
     "text": [
      "Saving the dataset (1/1 shards): 100%|██████████| 565/565 [00:00<00:00, 38419.34 examples/s]\n"
     ]
    }
   ],
   "source": [
    "ds.save_to_disk('./generated_data/all_assuredQuery')"
   ]
  },
  {
   "cell_type": "markdown",
   "id": "363402da",
   "metadata": {},
   "source": [
    "## RAG Normal"
   ]
  },
  {
   "cell_type": "code",
   "execution_count": 41,
   "id": "10e57f98",
   "metadata": {},
   "outputs": [],
   "source": [
    "from datasets import load_from_disk\n",
    "dataset = load_from_disk('../generated_data/CRAG_dataset')\n",
    "test_dataset = dataset['test']"
   ]
  },
  {
   "cell_type": "code",
   "execution_count": 45,
   "id": "cf6892ec",
   "metadata": {},
   "outputs": [
    {
     "name": "stderr",
     "output_type": "stream",
     "text": [
      "Map: 100%|██████████| 565/565 [00:00<00:00, 3251.19 examples/s]\n"
     ]
    }
   ],
   "source": [
    "extract_all_fn = partial(extract_topk_text_and_full_passages, k=3, ranked_units='ranked_passages_with_labels')\n",
    "test_dataset = test_dataset.map(extract_all_fn)"
   ]
  },
  {
   "cell_type": "code",
   "execution_count": 52,
   "id": "0aeae59e",
   "metadata": {},
   "outputs": [
    {
     "name": "stderr",
     "output_type": "stream",
     "text": [
      "Generating responses with summary only:   0%|          | 0/565 [00:00<?, ?it/s]c:\\Users\\LENOVO\\anaconda3\\envs\\recomp\\Lib\\site-packages\\transformers\\generation\\configuration_utils.py:631: UserWarning: `do_sample` is set to `False`. However, `temperature` is set to `0.6` -- this flag is only used in sample-based generation modes. You should set `do_sample=True` or unset `temperature`.\n",
      "  warnings.warn(\n",
      "c:\\Users\\LENOVO\\anaconda3\\envs\\recomp\\Lib\\site-packages\\transformers\\generation\\configuration_utils.py:636: UserWarning: `do_sample` is set to `False`. However, `top_p` is set to `0.95` -- this flag is only used in sample-based generation modes. You should set `do_sample=True` or unset `top_p`.\n",
      "  warnings.warn(\n",
      "c:\\Users\\LENOVO\\anaconda3\\envs\\recomp\\Lib\\site-packages\\transformers\\generation\\configuration_utils.py:653: UserWarning: `do_sample` is set to `False`. However, `top_k` is set to `20` -- this flag is only used in sample-based generation modes. You should set `do_sample=True` or unset `top_k`.\n",
      "  warnings.warn(\n",
      "The attention mask is not set and cannot be inferred from input because pad token is same as eos token. As a consequence, you may observe unexpected behavior. Please pass your input's `attention_mask` to obtain reliable results.\n",
      "Generating responses with summary only: 100%|██████████| 565/565 [24:33<00:00,  2.61s/it]\n"
     ]
    }
   ],
   "source": [
    "all_passages_answers = generate_answer_and_do_scoring(\n",
    "    dataset= test_dataset,\n",
    "    query_col = 'query', \n",
    "    filtered_contexts_col = 'top3_chunks',\n",
    "    label_col = 'answer', \n",
    "    model = model,\n",
    "    tokenizer = tokenizer,\n",
    "    original_passages_col='ranked_passages_with_labels', \n",
    "    verbose = True\n",
    ")\n",
    "\n",
    "normal_RAG = Dataset.from_list(all_passages_answers)"
   ]
  },
  {
   "cell_type": "code",
   "execution_count": 54,
   "id": "b0886c25",
   "metadata": {},
   "outputs": [
    {
     "name": "stderr",
     "output_type": "stream",
     "text": [
      "Filter: 100%|██████████| 565/565 [00:00<00:00, 8721.19 examples/s]\n",
      "Filter: 100%|██████████| 565/565 [00:00<00:00, 11429.94 examples/s]\n"
     ]
    },
    {
     "name": "stdout",
     "output_type": "stream",
     "text": [
      "terdapat 1 row yang kemungkinan query / \"Assistant\" nya terpotong\n",
      "Long Input Avg F1: 0.0\n",
      "Long Input Avg EM: 0.0\n",
      "Short Input Avg F1: 0.36616952920899787\n",
      "Short Input Avg EM: 0.5833333333333334\n"
     ]
    }
   ],
   "source": [
    "long_inputs = normal_RAG.filter(lambda x: x[\"was_truncated\"])\n",
    "short_inputs = normal_RAG.filter(lambda x: not x[\"was_truncated\"])\n",
    "\n",
    "if len(long_inputs) > 0:\n",
    "    print(f'terdapat {len(long_inputs)} row yang kemungkinan query / \"Assistant\" nya terpotong')\n",
    "    print(\"Long Input Avg F1:\", sum([r[\"f1\"] for r in long_inputs]) / len(long_inputs))\n",
    "    print(\"Long Input Avg EM:\", sum([r[\"em\"] for r in long_inputs]) / len(long_inputs))\n",
    "print(\"Short Input Avg F1:\", sum([r[\"f1\"] for r in short_inputs]) / len(short_inputs))\n",
    "print(\"Short Input Avg EM:\", sum([r[\"em\"] for r in short_inputs]) / len(short_inputs))"
   ]
  },
  {
   "cell_type": "code",
   "execution_count": 55,
   "id": "6e677357",
   "metadata": {},
   "outputs": [
    {
     "name": "stderr",
     "output_type": "stream",
     "text": [
      "Saving the dataset (1/1 shards): 100%|██████████| 565/565 [00:00<00:00, 29715.13 examples/s]\n"
     ]
    }
   ],
   "source": [
    "normal_RAG.save_to_disk('./generated_data/normal_rag')"
   ]
  },
  {
   "cell_type": "markdown",
   "id": "fadc970a",
   "metadata": {},
   "source": [
    "# Playground"
   ]
  },
  {
   "cell_type": "code",
   "execution_count": 1,
   "id": "8b382bae",
   "metadata": {},
   "outputs": [
    {
     "name": "stderr",
     "output_type": "stream",
     "text": [
      "c:\\Users\\LENOVO\\anaconda3\\envs\\recomp\\Lib\\site-packages\\tqdm\\auto.py:21: TqdmWarning: IProgress not found. Please update jupyter and ipywidgets. See https://ipywidgets.readthedocs.io/en/stable/user_install.html\n",
      "  from .autonotebook import tqdm as notebook_tqdm\n"
     ]
    }
   ],
   "source": [
    "import sys \n",
    "sys.path.append('../RECOMP')\n",
    "from datasets import Dataset\n",
    "from functools import partial"
   ]
  },
  {
   "cell_type": "code",
   "execution_count": null,
   "id": "ad089cea",
   "metadata": {},
   "outputs": [],
   "source": [
    "from utils import format_chat_prompt, detect_device, DeviceType\n",
    "from generate_answer import evaluate_em_f1\n",
    "from transformers import AutoModelForCausalLM, AutoTokenizer\n",
    "from typing import Optional, Union, Tuple, Dict, List, Any\n",
    "import torch\n",
    "from tqdm import tqdm\n",
    "\n",
    "def prepare_inputs(\n",
    "    text: str,\n",
    "    tokenizer: AutoTokenizer,\n",
    "    device_type: DeviceType, \n",
    "    max_length: int = None,\n",
    "    return_decoded_prompt: bool = False\n",
    ") -> Union[Tuple[Dict[str, torch.Tensor], int, bool],\n",
    "           Tuple[Dict[str, torch.Tensor], int, bool, str]]:\n",
    "    \"\"\"\n",
    "    Prepare model inputs with proper device placement,\n",
    "    return token length, truncation info,\n",
    "    and optionally the decoded final input.\n",
    "    \"\"\"\n",
    "    tokenize_kwargs = {}\n",
    "    if max_length is not None:\n",
    "        tokenize_kwargs['max_length'] = max_length\n",
    "\n",
    "    # Tokenize only for length-checking\n",
    "    encoding = tokenizer(\n",
    "        text,\n",
    "        add_special_tokens=False,\n",
    "        truncation=False,\n",
    "        return_tensors=\"pt\"\n",
    "    )\n",
    "    token_length = encoding[\"input_ids\"].shape[1]\n",
    "    is_truncated = token_length > max_length if max_length else False\n",
    "\n",
    "    # Tokenize for model input (with truncation)\n",
    "    inputs = tokenizer(\n",
    "        text,\n",
    "        return_tensors=\"pt\",\n",
    "        padding=True,\n",
    "        truncation=True,\n",
    "        add_special_tokens=False,\n",
    "        **tokenize_kwargs\n",
    "    )\n",
    "\n",
    "    device = device_type.value\n",
    "    inputs = {k: v.to(device) for k, v in inputs.items()}\n",
    "\n",
    "    if return_decoded_prompt:\n",
    "        decoded_prompt = tokenizer.decode(inputs[\"input_ids\"][0], skip_special_tokens=True)\n",
    "        return inputs, token_length, is_truncated, decoded_prompt\n",
    "    else:\n",
    "        return inputs, token_length, is_truncated\n",
    "\n",
    "def truncate_context_to_fit_prompt(\n",
    "    filtered_context: str,\n",
    "    query: str,\n",
    "    tokenizer: AutoTokenizer,\n",
    "    max_source_length: int\n",
    ") -> str:\n",
    "    raw_instruction = f\"Konteks: \\nBerdasarkan konteks, jawab pertanyaan dalam dua kalimat. Pertanyaan: {query}\"\n",
    "    instruction_prefix = format_chat_prompt([{\"role\": \"user\", \"content\": raw_instruction}], tokenizer)\n",
    "    instruction_len = len(tokenizer(instruction_prefix, add_special_tokens=False)[\"input_ids\"])\n",
    "    available_len = max_source_length - instruction_len\n",
    "\n",
    "    truncated_context_ids = tokenizer(\n",
    "        filtered_context,\n",
    "        max_length=available_len,\n",
    "        truncation=True,\n",
    "        add_special_tokens=False\n",
    "    )[\"input_ids\"]\n",
    "\n",
    "    return tokenizer.decode(truncated_context_ids, skip_special_tokens=True)\n",
    "\n",
    "def generate_completion(\n",
    "    filtered_context: str,\n",
    "    query: str,\n",
    "    model: AutoModelForCausalLM,\n",
    "    tokenizer: AutoTokenizer,\n",
    "    device_type: str,\n",
    "    max_new_tokens: int = 50,\n",
    "    max_source_length: int = 512\n",
    ") -> Tuple[str, int, bool, str]:  # Tambahkan prompt (str)\n",
    "    truncated_context = truncate_context_to_fit_prompt(\n",
    "        filtered_context=filtered_context,\n",
    "        query=query,\n",
    "        tokenizer=tokenizer,\n",
    "        max_source_length=max_source_length\n",
    "    )\n",
    "\n",
    "    prompt = f\"Konteks: {truncated_context}\\nBerdasarkan konteks, jawab pertanyaan dalam dua kalimat. Pertanyaan: {query}\"\n",
    "    formatted_prompt = format_chat_prompt([{\"role\": \"user\", \"content\": prompt}], tokenizer)\n",
    "\n",
    "    inputs, token_length, was_truncated, decoded_prompt = prepare_inputs(\n",
    "        formatted_prompt, tokenizer, device_type, max_length=max_source_length, return_decoded_prompt=True\n",
    "    )\n",
    "\n",
    "    input_ids = inputs[\"input_ids\"]\n",
    "    output = model.generate(\n",
    "        input_ids,\n",
    "        max_new_tokens=max_new_tokens,\n",
    "        do_sample=False,\n",
    "        pad_token_id=tokenizer.pad_token_id,\n",
    "        return_dict_in_generate=True\n",
    "    )\n",
    "    generated_ids = output.sequences[0][len(input_ids[0]):]\n",
    "    completion = tokenizer.decode(generated_ids, skip_special_tokens=True)\n",
    "    full_decoded_output = tokenizer.decode(output.sequences[0], skip_special_tokens=False)\n",
    "\n",
    "    return completion, token_length, was_truncated, prompt, decoded_prompt, full_decoded_output\n",
    "\n",
    "def generate_answer_and_do_scoring(\n",
    "    dataset: Dataset,\n",
    "    query_col: str, \n",
    "    filtered_contexts_col: str,\n",
    "    label_col: str, \n",
    "    model: AutoModelForCausalLM,\n",
    "    tokenizer: AutoTokenizer,\n",
    "    original_passages_col: Optional[Union[str, List[Any]]] = None, \n",
    "    max_new_tokens: int = 52, \n",
    "    max_source_length: int = 512,\n",
    "    verbose: bool = False\n",
    "):\n",
    "    config = detect_device()\n",
    "    results = []\n",
    "\n",
    "    for i in tqdm(range(len(dataset)), desc=\"Generating responses with summary only\"):\n",
    "        query = dataset[query_col][i]\n",
    "        filtered_context = dataset[filtered_contexts_col][i]\n",
    "        label = dataset[label_col][i]\n",
    "        if original_passages_col is not None:\n",
    "            original_passages = dataset[original_passages_col][i]\n",
    "\n",
    "        completion, token_len, was_truncated, prompt, decoded_prompt, full_decoded_output = generate_completion(\n",
    "            filtered_context, query, model, tokenizer, config.device_type, max_new_tokens, max_source_length\n",
    "        )\n",
    "\n",
    "        em, f1 = evaluate_em_f1(completion.strip(), label.strip())\n",
    "\n",
    "        # Core result\n",
    "        result = {\n",
    "            \"query\": query,\n",
    "            \"filtered_context\": filtered_context,\n",
    "            \"label\": label,\n",
    "            \"generated_answer\": completion,\n",
    "            \"em\": em,\n",
    "            \"f1\": f1\n",
    "        }\n",
    "\n",
    "        if original_passages_col is not None:\n",
    "            result[\"passages\"] = original_passages\n",
    "\n",
    "        # Tambahan hanya jika verbose=True\n",
    "        if verbose:\n",
    "            result.update({\n",
    "                \"prompt_token_length\": token_len,\n",
    "                \"was_truncated\": was_truncated,\n",
    "                \"final_prompt\": prompt, \n",
    "                \"final_prompt_decoded\": decoded_prompt, \n",
    "                \"full_decoded_output\": full_decoded_output\n",
    "            })\n",
    "\n",
    "        results.append(result)\n",
    "\n",
    "    return results"
   ]
  }
 ],
 "metadata": {
  "kernelspec": {
   "display_name": "recomp",
   "language": "python",
   "name": "python3"
  },
  "language_info": {
   "codemirror_mode": {
    "name": "ipython",
    "version": 3
   },
   "file_extension": ".py",
   "mimetype": "text/x-python",
   "name": "python",
   "nbconvert_exporter": "python",
   "pygments_lexer": "ipython3",
   "version": "3.12.3"
  }
 },
 "nbformat": 4,
 "nbformat_minor": 5
}
