{
 "cells": [
  {
   "cell_type": "markdown",
   "id": "0ea02742",
   "metadata": {},
   "source": [
    "# EDA"
   ]
  },
  {
   "cell_type": "code",
   "execution_count": null,
   "id": "1c74023d",
   "metadata": {},
   "outputs": [],
   "source": [
    "from datasets import load_dataset\n",
    "\n",
    "corpus = load_dataset(\"castorini/mr-tydi-corpus\", \"indonesian\", trust_remote_code=True)\n",
    "mr_tydi = load_dataset(\"castorini/mr-tydi\", \"indonesian\")\n",
    "tydiqa_gold = load_dataset(\"khalidalt/tydiqa-goldp\", 'indonesian', trust_remote_code=True)\n",
    "\n",
    "print(corpus)\n",
    "print(mr_tydi)\n",
    "print(tydiqa_gold)"
   ]
  },
  {
   "cell_type": "markdown",
   "id": "4c2d66a9",
   "metadata": {},
   "source": [
    "Mengecek dataset mr_tydi, terutama terkait apakah:\n",
    "1. semua positive_passages pada tiap row di ketiga split itu satu\n",
    "2. kolom negative_passages itu ada isinya atau ngga"
   ]
  },
  {
   "cell_type": "code",
   "execution_count": null,
   "id": "1bb65fe0",
   "metadata": {},
   "outputs": [],
   "source": [
    "# Mengecek untuk split 'dev' dan 'test'\n",
    "for split in mr_tydi:\n",
    "    # Cek apakah semua positive_passages hanya berisi satu elemen\n",
    "    all_positive_single = all(len(row['positive_passages']) == 1 for row in mr_tydi[split])\n",
    "    \n",
    "    # Cek apakah semua negative_passages kosong\n",
    "    all_negative_empty = all(len(row['negative_passages']) == 0 for row in mr_tydi[split])\n",
    "\n",
    "    print(f\"Split: {split}\")\n",
    "    print(f\"- Semua positive_passages berisi satu elemen: {all_positive_single}\")\n",
    "    if all_negative_empty:\n",
    "        print('- Kolom negative passages kosong')\n",
    "    else:\n",
    "        print('- Kolom negative_passages ada isinya')\n",
    "    print(\"-\" * 50)"
   ]
  },
  {
   "cell_type": "markdown",
   "id": "e693d53f",
   "metadata": {},
   "source": [
    "Karena kolom positive_passages pada split test tidak semuanya berjumlah satu, maka kita explore lebih dalam"
   ]
  },
  {
   "cell_type": "code",
   "execution_count": null,
   "id": "5310cb4e",
   "metadata": {},
   "outputs": [],
   "source": [
    "from collections import Counter\n",
    "\n",
    "# Hitung jumlah elemen dalam positive_passages untuk setiap row di split 'test'\n",
    "positive_lengths = [len(row['positive_passages']) for row in mr_tydi['test']]\n",
    "\n",
    "# Hitung distribusi jumlah elemen dalam positive_passages\n",
    "length_counts = Counter(positive_lengths)\n",
    "\n",
    "# Tampilkan hasil\n",
    "print(\"Distribusi jumlah elemen dalam positive_passages pada split 'test':\")\n",
    "for length, count in sorted(length_counts.items()):\n",
    "    print(f\"- {count} row memiliki {length} elemen\")"
   ]
  },
  {
   "cell_type": "markdown",
   "id": "8ffb33cd",
   "metadata": {},
   "source": [
    "Melihat contoh baris yang jumlah positive_passages-nya lebih dari 1"
   ]
  },
  {
   "cell_type": "code",
   "execution_count": null,
   "id": "2532ef5c",
   "metadata": {},
   "outputs": [],
   "source": [
    "from collections import defaultdict\n",
    "\n",
    "# Buat dictionary untuk menyimpan contoh berdasarkan jumlah elemen positive_passages\n",
    "examples_by_length = defaultdict(list)\n",
    "\n",
    "# Loop melalui dataset test untuk mengumpulkan contoh\n",
    "for row in mr_tydi['test']:\n",
    "    length = len(row['positive_passages'])\n",
    "    if len(examples_by_length[length]) < 2:  # Simpan maksimal 5 contoh per kategori\n",
    "        examples_by_length[length].append(row)\n",
    "\n",
    "# Tampilkan contoh\n",
    "for length, examples in sorted(examples_by_length.items()):\n",
    "    if length == 1:\n",
    "        continue\n",
    "    print(f\"\\n===== Contoh untuk positive_passages dengan {length} elemen =====\")\n",
    "    for i, example in enumerate(examples):\n",
    "        print(f\"\\nContoh {i+1}:\")\n",
    "        print(f\"Query: {example['query']}\")\n",
    "        print(f\"Positive Passages: {example['positive_passages']}\")"
   ]
  },
  {
   "cell_type": "markdown",
   "id": "a72398a4",
   "metadata": {},
   "source": [
    "Mengecek distribusi panjang jawaban (dihitung dalam jumlah kata) untuk dataset tydiqa_gold\\[train\\]"
   ]
  },
  {
   "cell_type": "code",
   "execution_count": null,
   "id": "dd957b00",
   "metadata": {},
   "outputs": [],
   "source": [
    "import matplotlib.pyplot as plt\n",
    "from collections import Counter\n",
    "\n",
    "# Fungsi untuk menghitung distribusi panjang jawaban\n",
    "def plot_length_distribution(dataset, ax, title):\n",
    "    # Hitung distribusi panjang jawaban\n",
    "    length_counts = Counter(len(row['answers']['text'][0].split()) for row in dataset if row['answers']['text'])\n",
    "    \n",
    "    # Urutkan berdasarkan panjang kata\n",
    "    sorted_lengths = sorted(length_counts.items())\n",
    "    \n",
    "    # Ekstrak data untuk plotting\n",
    "    lengths, counts = zip(*sorted_lengths)\n",
    "    \n",
    "    # Plot\n",
    "    ax.bar(lengths, counts, color='royalblue', alpha=0.7)\n",
    "    ax.set_xlabel(\"Jumlah Kata dalam Answer Text\")\n",
    "    ax.set_ylabel(\"Jumlah Instance\")\n",
    "    ax.set_title(title)\n",
    "    ax.grid(axis='y', linestyle='--', alpha=0.7)\n",
    "    \n",
    "    # Sesuaikan xticks\n",
    "    ax.set_xticks(range(min(lengths), max(lengths) + 1))  # Menampilkan semua jumlah kata pada sumbu x\n",
    "    \n",
    "    # Putar 315 derajat untuk ticks di sumbu X\n",
    "    for tick in ax.get_xticklabels():\n",
    "        tick.set_rotation(315)\n",
    "\n",
    "# Membuat figure dengan 2 plot (satu di atas dan satu di bawah)\n",
    "fig, axs = plt.subplots(2, 1, figsize=(20, 10), sharex=False)  # 2 baris, 1 kolom\n",
    "\n",
    "# Plot untuk split 'train'\n",
    "plot_length_distribution(tydiqa_gold['train'], axs[0], \"Distribusi Panjang Jawaban (Train)\")\n",
    "\n",
    "# Plot untuk split 'validation'\n",
    "plot_length_distribution(tydiqa_gold['validation'], axs[1], \"Distribusi Panjang Jawaban (Validation)\")\n",
    "\n",
    "# Menampilkan plot\n",
    "plt.tight_layout()  # Menyesuaikan layout agar tidak saling bertumpukan\n",
    "plt.show()\n"
   ]
  },
  {
   "cell_type": "code",
   "execution_count": null,
   "id": "60a367b4",
   "metadata": {},
   "outputs": [],
   "source": [
    "# Filter instance yang panjang jawabannya adalah 10 kata\n",
    "instances_10_words = [row for row in tydiqa_gold['train'] if len(row['answers']['text'][0].split()) == 10]\n",
    "\n",
    "# Tampilkan beberapa contoh\n",
    "print(f\"Jumlah instance dengan jawaban 10 kata: {len(instances_10_words)}\\n\")\n",
    "\n",
    "for i, example in enumerate(instances_10_words[:4]):  # Ambil 5 contoh pertama\n",
    "    print(f\"Contoh {i+1}:\")\n",
    "    print(f\"Pertanyaan: {example['question_text']}\")\n",
    "    print(f\"Jawaban: {example['answers']['text'][0]}\")\n",
    "    print(f\"Konteks: {example['passage_text'][:200]}...\")  # Hanya tampilkan sebagian konteks untuk ringkas\n",
    "    print(\"-\" * 80)\n"
   ]
  },
  {
   "cell_type": "markdown",
   "id": "724d9f21",
   "metadata": {},
   "source": [
    "Inspect per row untuk split train dan dev"
   ]
  },
  {
   "cell_type": "code",
   "execution_count": null,
   "id": "191c21fd",
   "metadata": {},
   "outputs": [],
   "source": [
    "mr_tydi['train'][0]"
   ]
  },
  {
   "cell_type": "code",
   "execution_count": null,
   "id": "e940fb83",
   "metadata": {},
   "outputs": [],
   "source": [
    "mr_tydi['dev'][0]"
   ]
  }
 ],
 "metadata": {
  "kernelspec": {
   "display_name": "recomp",
   "language": "python",
   "name": "python3"
  },
  "language_info": {
   "codemirror_mode": {
    "name": "ipython",
    "version": 3
   },
   "file_extension": ".py",
   "mimetype": "text/x-python",
   "name": "python",
   "nbconvert_exporter": "python",
   "pygments_lexer": "ipython3",
   "version": "3.12.3"
  }
 },
 "nbformat": 4,
 "nbformat_minor": 5
}
