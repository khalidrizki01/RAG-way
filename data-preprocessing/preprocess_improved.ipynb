{
 "cells": [
  {
   "cell_type": "markdown",
   "id": "7f53264a",
   "metadata": {},
   "source": [
    "# Fungsi Dasar"
   ]
  },
  {
   "cell_type": "code",
   "execution_count": 16,
   "id": "adf6e500",
   "metadata": {},
   "outputs": [],
   "source": [
    "import re, unicodedata \n",
    "\n",
    "# === helpers ===\n",
    "ZW_RE = re.compile(r\"[\\u200b-\\u200d\\u2060\\ufeff\\u00ad\\u200e\\u200f]\")\n",
    "NBSP_RE = re.compile(r\"[\\u00A0]\")\n",
    "MULTI_SPACE_RE = re.compile(r\"\\s{2,}\")\n",
    "\n",
    "# wiki image markup (case-insensitive)\n",
    "WIKI_IMG_TOKEN_RE = re.compile(\n",
    "    r\"(?i)(?:\\|\\s*(?:jmpl|thumb|kiri|kanan|ka)\\b|\\b(?:jmpl|thumb|kiri|kanan|ka)\\b\\s*\\|?)\"\n",
    ")\n",
    "WIKI_IMG_SIZE_RE = re.compile(\n",
    "    r\"(?i)(?:\\|\\s*\\d{2,4}(?:x\\d{2,4})?px\\b|\\b\\d{2,4}(?:x\\d{2,4})?px\\b\\s*\\|?)\"\n",
    ")\n",
    "# sisa pipa/whitespace berlebih\n",
    "PIPE_SPACES_RE = re.compile(r\"(?:\\s*\\|\\s*)+\")\n",
    "\n",
    "_UNITS = r\"(km2|m2|km|m|cm|mm|kg|g|mg|t|l|ml|hz|khz|mhz|ghz|v|kv|w|kw|mw|a|ma|pa|kpa|mpa|bar|%)\"\n",
    "\n",
    "def normalize(q: str, lowercase: bool = True) -> str:\n",
    "    if not q:\n",
    "        return \"\"\n",
    "    # -------- hapus sitasi [angka] --------\n",
    "    q = re.sub(r\"\\[\\d+\\]\", \"\", q)\n",
    "\n",
    "    # -------- unicode & basic cleanup --------\n",
    "    q = unicodedata.normalize(\"NFKC\", q)\n",
    "    q = ZW_RE.sub(\"\", q)\n",
    "    q = NBSP_RE.sub(\" \", q)\n",
    "\n",
    "    # -------- bersihkan artefak gambar wiki --------\n",
    "    for _ in range(2):\n",
    "        q = WIKI_IMG_TOKEN_RE.sub(\" \", q)\n",
    "        q = WIKI_IMG_SIZE_RE.sub(\" \", q)\n",
    "    q = PIPE_SPACES_RE.sub(\" \", q)\n",
    "\n",
    "    # -------- bersihkan artefak HTML/parsoid --------\n",
    "    q = q.replace(r\"\\'\", \"'\").replace(r'\\\"', '\"')\n",
    "    # A) buang tag italic <i ...> / </i> lengkap/terpenggal\n",
    "    q = re.sub(r\"(?i)(?<=\\w)<\\s*/?\\s*i\\b[^>]*>?(?=\\w)\", \"\", q)\n",
    "    q = re.sub(r\"(?i)<\\s*/?\\s*i\\b[^>]*>?\", \" \", q)\n",
    "    q = re.sub(r\"(?i)<\\s*/?\\s*i\\b[^\\n<]*$\", \" \", q)\n",
    "\n",
    "    # 1) hapus atribut data-parsoid (toleran kutip/penutup tidak lengkap)\n",
    "    q = re.sub(\n",
    "        r\"\\s*data-parsoid\\s*=\\s*(?:'[^']*'?|\\\"[^\\\"]*\\\"?|[^>\\s]+)\",\" \",q,flags=re.IGNORECASE,\n",
    "    )\n",
    "\n",
    "    # C) HAPUS \"dsr\":[<deret angka/titik>] MESKI TANPA PENUTUP\n",
    "    #    Contoh yang disapu: \"dsr\":[417424.3.3   atau   'dsr':[12.34\n",
    "    q = re.sub(r'''(?i)[\"']dsr[\"']\\s*:\\s*\\[\\s*[0-9.,-]*''', \" \", q)\n",
    "    #    Tambahan: kalau key-nya (korup) tanpa kutip\n",
    "    q = re.sub(r'''(?i)\\bdsr\\b\\s*:\\s*\\[\\s*[0-9.,-]*''', \" \", q)\n",
    "\n",
    "    # D) setelah dsr dihapus sering tersisa buntut seperti \"}'>\", buang:\n",
    "    q = re.sub(r\"\\}\\s*['\\\"]?\\s*>\", \" \", q)          # }'>  atau }\">  → spasi\n",
    "    q = re.sub(r\"(?<=\\S)['\\\"]\\s*>\", \" \", q)         # '>, \"> setelah token lain → spasi\n",
    "    # D) buang penutup yang menggantung (], }, ) + opsional ' atau \" atau >) tepat sebelum huruf\n",
    "    q = re.sub(r'(?:(?<=^)|(?<=\\s))[\\]\\}\\)]+(?:\\s*[\"\\']?\\s*>?)?\\s*(?=\\w)', '', q)\n",
    "\n",
    "\n",
    "    # 1) Hapus tag yang berada DI DALAM kata tanpa meninggalkan spasi\n",
    "    q = re.sub(r\"(?<=\\w)</?\\s*[a-zA-Z][^>]*>(?=\\w)\", \"\", q)\n",
    "\n",
    "    # hapus tag HTML normal (misalnya <b>...</b>)\n",
    "    q = re.sub(r\"</?\\s*[a-zA-Z][^>]*>\", \" \", q)\n",
    "\n",
    "    # sambungkan huruf yang terpisah oleh tag patah /b>, /i>, /u>, /s>\n",
    "    q = re.sub(r\"(?<=\\w)/[bius]>(?=\\w)\", \"\", q, flags=re.IGNORECASE)\n",
    "\n",
    "    # hilangkan sisa /b> /i> /u> /s> sendirian\n",
    "    q = re.sub(r\"/[bius]>\", \" \", q, flags=re.IGNORECASE)\n",
    "\n",
    "    # -------- lower & normalisasi tanda baca --------\n",
    "\n",
    "    q = q.strip()\n",
    "    q = (q.replace(\"“\", \"\\\"\").replace(\"”\", \"\\\"\")\n",
    "           .replace(\"‘\", \"'\").replace(\"’\", \"'\")\n",
    "           .replace(\"…\", \"...\")\n",
    "           .replace(\"–\", \"-\").replace(\"—\", \"-\")\n",
    "           .replace(\"؟\", \"?\").replace(\"．\", \".\").replace(\"؟\", \"?\"))\n",
    "    \n",
    "    if lowercase:\n",
    "        q = q.lower()\n",
    "\n",
    "    # --- spasi + tanda baca (ramah tanda kurung) ---\n",
    "    q = re.sub(r\"\\s+\\?\", \"?\", q)                            # hapus spasi sebelum '?'\n",
    "    q = re.sub(r\"\\s+([,.:;!?/\\)\\-])\", r\"\\1\", q)             # hapus spasi sebelum tanda baca (kecuali '(')\n",
    "    q = re.sub(r\"([/(])\\s+\", r\"\\1\", q)                      # hapus spasi setelah '/' dan '('\n",
    "    q = re.sub(r\"(?<=\\w)\\(\", r\" (\", q)                      # pastikan ada spasi sebelum '(' bila didahului huruf/angka\n",
    "    q = re.sub(r\"\\)(?=\\w)\", r\") \", q)                       # pastikan ada spasi setelah ')' bila diikuti huruf/angka\n",
    "\n",
    "    # rapikan spasi\n",
    "    q = MULTI_SPACE_RE.sub(\" \", q).strip()\n",
    "\n",
    "    # normalisasi ringan kosakata/angka\n",
    "    q = re.sub(r\"\\bdi\\s+mana\\b\", \"dimana\", q)\n",
    "    q = re.sub(r\"\\byg\\b\", \"yang\", q)\n",
    "    q = q.replace(\"km²\", \"km2\").replace(\"m²\", \"m2\")\n",
    "    # --- sisipkan spasi antara angka dan satuan ---\n",
    "\n",
    "    # 12km -> 12 km, 5m2 -> 5 m2, 100% -> 100 %\n",
    "    q = re.sub(rf\"(?i)(\\d)\\s*({_UNITS})\\b\", r\"\\1 \\2\", q)\n",
    "\n",
    "    # suhu: 50°C / 50 °C -> 50 °C  (pastikan ada spasi sebelum '°' dan antara ° dengan huruf)\n",
    "    q = re.sub(r\"(?i)(\\d)\\s*°\\s*([cf])\\b\", r\"\\1 °\\2\", q)\n",
    "\n",
    "    q = re.sub(r\"\\s*&\\s*\", \" dan \", q)\n",
    "    q = re.sub(r\"\\?{2,}\", \"?\", q)\n",
    "\n",
    "    # final cleanup\n",
    "    q = MULTI_SPACE_RE.sub(\" \", q).strip()\n",
    "    return q"
   ]
  },
  {
   "cell_type": "code",
   "execution_count": 17,
   "id": "674fd368",
   "metadata": {},
   "outputs": [],
   "source": [
    "import re\n",
    "from Sastrawi.Stemmer.StemmerFactory import StemmerFactory\n",
    "factory = StemmerFactory()\n",
    "stemmer = factory.create_stemmer()\n",
    "\n",
    "def add_norm_and_stem(batch, column):\n",
    "    qs = batch[column]\n",
    "    norm = [normalize(x) for x in qs]\n",
    "\n",
    "    stem = []\n",
    "    for x in norm:\n",
    "        s = stemmer.stem(x)\n",
    "        # cek kata pertama ada akhiran -kah\n",
    "        parts = s.split()\n",
    "        if parts and parts[0].endswith(\"kah\"):\n",
    "            parts[0] = re.sub(r\"kah$\", \"\", parts[0])\n",
    "        s = \" \".join(parts).strip()\n",
    "        stem.append(s)\n",
    "\n",
    "    return {f\"{column}_norm\": norm, f\"{column}_stem\": stem}\n"
   ]
  },
  {
   "cell_type": "markdown",
   "id": "0c31939b",
   "metadata": {},
   "source": [
    "# Membuat Korpus Panjang 180 Token nan Sudah Dinormalisasi"
   ]
  },
  {
   "cell_type": "markdown",
   "id": "4b87106a",
   "metadata": {},
   "source": [
    "Gunanya untuk \n",
    "1) Pretraining model xRAG\n",
    "2) Menyusun data negative passages dari bagian dataset yang belum punya"
   ]
  },
  {
   "cell_type": "code",
   "execution_count": 11,
   "id": "331ef9b7",
   "metadata": {},
   "outputs": [
    {
     "data": {
      "text/plain": [
       "DatasetDict({\n",
       "    train: Dataset({\n",
       "        features: ['docid', 'title', 'text'],\n",
       "        num_rows: 1469399\n",
       "    })\n",
       "})"
      ]
     },
     "execution_count": 11,
     "metadata": {},
     "output_type": "execute_result"
    }
   ],
   "source": [
    "from datasets import load_dataset\n",
    "from transformers import AutoTokenizer\n",
    "import re\n",
    "\n",
    "# Load corpus & tokenizer\n",
    "corpus = load_dataset(\"castorini/mr-tydi-corpus\", \"indonesian\", trust_remote_code=True)\n",
    "corpus"
   ]
  },
  {
   "cell_type": "markdown",
   "id": "1f3f81d1",
   "metadata": {},
   "source": [
    "## EDA\n",
    "\n",
    "nengok kasus dimana terdapat tag html atau yang mirip"
   ]
  },
  {
   "cell_type": "code",
   "execution_count": null,
   "id": "0b60f79e",
   "metadata": {},
   "outputs": [
    {
     "name": "stdout",
     "output_type": "stream",
     "text": [
      "Hasil disimpan ke mr_tydi_matches.xlsx, total baris: 97\n"
     ]
    }
   ],
   "source": [
    "import re\n",
    "import pandas as pd\n",
    "from datasets import load_dataset\n",
    "\n",
    "# Muat dataset (ganti sesuai punyamu)\n",
    "ds = load_dataset(\"castorini/mr-tydi-corpus\", \"indonesian\", split=\"train\")\n",
    "\n",
    "# Pola rawan\n",
    "PATTERNS = {\n",
    "    \"slash_bius\": re.compile(r\"/[bius]>\"),            # /b> /i> /u> /s>\n",
    "    \"broken_join\": re.compile(r\"\\w/[bius]>\\w\"),       # d/b>e\n",
    "    \"data_parsoid\": re.compile(r\"data-parsoid\\s*=\", re.I),\n",
    "    \"dsr\": re.compile(r'\"dsr\"\\s*:\\s*\\[', re.I),\n",
    "    \"html_tag\": re.compile(r\"</?\\s*[a-zA-Z][^>]*>\"),  # <...> tag\n",
    "}\n",
    "\n",
    "# Simpan hasil match\n",
    "records = []\n",
    "for ex in ds.select(range(100000)):\n",
    "    text = ex[\"text\"]\n",
    "    matches = {name: bool(pat.search(text)) for name, pat in PATTERNS.items()}\n",
    "    if any(matches.values()):\n",
    "        record = {\n",
    "            \"docid\": ex[\"docid\"],\n",
    "            \"title\": ex[\"title\"],\n",
    "            \"text_snippet\": text,  # simpan potongan teks saja biar file tidak terlalu berat\n",
    "        }\n",
    "        record.update(matches)\n",
    "        records.append(record)\n",
    "\n",
    "# Buat DataFrame\n",
    "df = pd.DataFrame(records)\n",
    "\n",
    "# Simpan ke Excel\n",
    "output_file = \"mr_tydi_matches.xlsx\"\n",
    "df.to_excel(output_file, index=False)\n",
    "\n",
    "print(f\"Hasil disimpan ke {output_file}, total baris: {len(df)}\")"
   ]
  },
  {
   "cell_type": "markdown",
   "id": "507449f0",
   "metadata": {},
   "source": [
    "## Normalisasi dan Chunking 180 Token"
   ]
  },
  {
   "cell_type": "code",
   "execution_count": null,
   "id": "e8462dd9",
   "metadata": {},
   "outputs": [],
   "source": [
    "from transformers import AutoTokenizer\n",
    "t5_tokenizer = AutoTokenizer.from_pretrained(\"google/flan-t5-large\")\n",
    "\n",
    "MAX_TOK = 180\n",
    "MIN_TOK = 50\n",
    "\n",
    "# ---------- Normalisasi ----------\n",
    "\n",
    "def normalize_batch(batch):\n",
    "    batch[\"title\"] = [normalize(t, lowercase=False) for t in batch[\"title\"]]\n",
    "    batch[\"text\"] = [normalize(t, lowercase=False) for t in batch[\"text\"]]\n",
    "    return batch\n",
    "\n",
    "# ---------- Chunking ----------\n",
    "def chunk_batch(batch):\n",
    "    out_docid, out_title, out_text = [], [], []\n",
    "    for docid, title, text in zip(batch[\"docid\"], batch[\"title\"], batch[\"text\"]):\n",
    "        token_ids = t5_tokenizer.encode(text, add_special_tokens=False)\n",
    "        if not token_ids:\n",
    "            continue\n",
    "\n",
    "        chunks = []\n",
    "        start = 0\n",
    "        while start < len(token_ids):\n",
    "            end = min(start + MAX_TOK, len(token_ids))\n",
    "\n",
    "            # pastikan akhir chunk di batas kata\n",
    "            if end < len(token_ids):\n",
    "                tok_str = t5_tokenizer.convert_ids_to_tokens([token_ids[end]])[0]\n",
    "                while end > start and not tok_str.startswith(\"▁\"):\n",
    "                    end -= 1\n",
    "                    tok_str = t5_tokenizer.convert_ids_to_tokens([token_ids[end]])[0]\n",
    "                if end == start:\n",
    "                    end = min(start + MAX_TOK, len(token_ids))\n",
    "\n",
    "            chunks.append(token_ids[start:end])\n",
    "            start = end\n",
    "\n",
    "        # gabungkan segmen terakhir kalau <50 token\n",
    "        if len(chunks) >= 2 and len(chunks[-1]) < MIN_TOK:\n",
    "            chunks[-2].extend(chunks[-1])\n",
    "            chunks = chunks[:-1]\n",
    "        elif len(chunks) == 1 and len(chunks[0]) < MIN_TOK:\n",
    "            chunks = []  # terlalu pendek → buang\n",
    "\n",
    "        # simpan segmen valid\n",
    "        for idx, seg in enumerate(chunks):\n",
    "            if len(seg) < MIN_TOK:\n",
    "                continue\n",
    "            out_docid.append(f\"{docid}_{idx}\")\n",
    "            out_title.append(title)\n",
    "            out_text.append(t5_tokenizer.decode(seg, skip_special_tokens=True))\n",
    "\n",
    "    return {\"docid\": out_docid, \"title\": out_title, \"text\": out_text}\n",
    "\n",
    "# ---------- Pipeline ----------\n",
    "# 1. Normalisasi dulu\n",
    "normalized_corpus = corpus.map(\n",
    "    normalize_batch,\n",
    "    batched=True,\n",
    "    desc=\"Normalizing title & text\"\n",
    ")\n",
    "\n",
    "# 2. Chunking setelah normalisasi\n",
    "split_dataset = normalized_corpus[\"train\"].map(\n",
    "    chunk_batch,\n",
    "    batched=True,\n",
    "    remove_columns=normalized_corpus[\"train\"].column_names,\n",
    "    desc=\"Chunking into <=180 tokens (word-aware) & merging last <50\"\n",
    ")\n",
    "\n",
    "print(split_dataset)\n",
    "print(split_dataset[0])"
   ]
  },
  {
   "cell_type": "markdown",
   "id": "513645e4",
   "metadata": {},
   "source": [
    "## Hapus Duplikasi"
   ]
  },
  {
   "cell_type": "code",
   "execution_count": 26,
   "id": "75cd836b",
   "metadata": {},
   "outputs": [
    {
     "name": "stdout",
     "output_type": "stream",
     "text": [
      "Jumlah duplikat (berdasarkan kolom text): 38\n"
     ]
    }
   ],
   "source": [
    "import pandas as pd\n",
    "\n",
    "# ambil 10.000 baris pertama\n",
    "sample = split_dataset.select(range(10000))\n",
    "\n",
    "# konversi ke DataFrame untuk analisis cepat\n",
    "df = pd.DataFrame(sample)\n",
    "\n",
    "# cek duplikasi berdasarkan kolom 'text'\n",
    "dup_mask = df.duplicated(subset=[\"text\"], keep=False)\n",
    "duplicates = df[dup_mask].sort_values(by=\"text\")\n",
    "\n",
    "# simpan hasil duplikat ke Excel\n",
    "duplicates.to_excel(\"duplicates_first_10k.xlsx\", index=False)\n",
    "\n",
    "print(f\"Jumlah duplikat (berdasarkan kolom text): {duplicates.shape[0]}\")"
   ]
  },
  {
   "cell_type": "code",
   "execution_count": 28,
   "id": "ac9e46e6",
   "metadata": {},
   "outputs": [
    {
     "name": "stdout",
     "output_type": "stream",
     "text": [
      "Jumlah awal: 1588236, jumlah setelah buang duplikat: 1521373\n"
     ]
    }
   ],
   "source": [
    "import pandas as pd\n",
    "from datasets import Dataset\n",
    "\n",
    "# Konversi dulu ke pandas DataFrame\n",
    "df = split_dataset.to_pandas()\n",
    "\n",
    "# Hapus duplikasi berdasarkan kolom \"text\"\n",
    "# keep='first' artinya baris pertama dipertahankan\n",
    "df_nodup = df.drop_duplicates(subset=[\"text\"], keep=\"first\").reset_index(drop=True)\n",
    "\n",
    "# Konversi kembali ke HuggingFace Dataset\n",
    "split_dataset_nodup = Dataset.from_pandas(df_nodup)\n",
    "\n",
    "print(f\"Jumlah awal: {len(split_dataset)}, jumlah setelah buang duplikat: {len(split_dataset_nodup)}\")\n"
   ]
  },
  {
   "cell_type": "markdown",
   "id": "da46813c",
   "metadata": {},
   "source": [
    "## Push ke Huggingface (Tanpa Pembagian Split)"
   ]
  },
  {
   "cell_type": "code",
   "execution_count": 29,
   "id": "3599ef81",
   "metadata": {},
   "outputs": [
    {
     "name": "stderr",
     "output_type": "stream",
     "text": [
      "Creating parquet from Arrow format: 100%|██████████| 795/795 [00:02<00:00, 283.55ba/s]\n",
      "Uploading files as a binary IO buffer is not supported by Xet Storage. Falling back to HTTP upload.\n",
      "Creating parquet from Arrow format: 100%|██████████| 795/795 [00:02<00:00, 315.18ba/s]\n",
      "Uploading files as a binary IO buffer is not supported by Xet Storage. Falling back to HTTP upload.\n",
      "Uploading the dataset shards: 100%|██████████| 2/2 [00:52<00:00, 26.10s/it]\n"
     ]
    }
   ],
   "source": [
    "# pip install datasets huggingface_hub\n",
    "\n",
    "from datasets import DatasetDict\n",
    "from huggingface_hub import HfApi, HfFolder\n",
    "from datetime import datetime\n",
    "\n",
    "# ====== asumsikan split_dataset sudah ada dari langkahmu sebelumnya ======\n",
    "# split_dataset = normalized_corpus[\"train\"].map(...)\n",
    "\n",
    "# Bungkus ke DatasetDict agar rapi (boleh tambah 'validation'/'test' kalau ada)\n",
    "split_dataset_dict = DatasetDict({\"train\": split_dataset})\n",
    "\n",
    "# ====== Konfigurasi repo ======\n",
    "repo_id = \"khalidrizki/indonesian-wiki-chunked-180tok\"   # ganti\n",
    "private = False                                          # True kalau mau privat\n",
    "token = HfFolder.get_token()\n",
    "api = HfApi()\n",
    "\n",
    "# 1) Buat repo (jika belum ada)\n",
    "api.create_repo(\n",
    "    repo_id=repo_id,\n",
    "    repo_type=\"dataset\",\n",
    "    private=private,\n",
    "    exist_ok=True,\n",
    "    token=token,\n",
    ")\n",
    "\n",
    "# 2) Push dataset\n",
    "split_dataset_dict.push_to_hub(\n",
    "    repo_id=repo_id,\n",
    "    private=private,\n",
    ")\n",
    "\n",
    "# 3) Siapkan README (dataset card)\n",
    "readme = f\"\"\"# mr-tydi-indonesian-chunked-180tok\n",
    "\n",
    "Hasil preprocessing dari [`castorini/mr-tydi-corpus`](https://huggingface.co/datasets/castorini/mr-tydi-corpus) split **Indonesian**.\n",
    "\n",
    "## Pipeline\n",
    "1. **Normalisasi teks**\n",
    "   - Bersihkan artefak Parsoid/markup wiki (mis. `data-parsoid`, `dsr`, tag HTML patah)\n",
    "   - Normalisasi whitespace & tanda baca\n",
    "2. **Chunking word-aware**\n",
    "   - Tokenizer: **google/flan-t5-base** (SentencePiece)\n",
    "   - Panjang segmen ≤ **180 token**\n",
    "   - Pemotongan berhenti di **batas kata** (hindari potong subword di tengah)\n",
    "   - Jika segmen terakhir < **50 token**, **digabung** ke segmen sebelumnya\n",
    "3. **docid baru**\n",
    "   - Format: `docidAsli#partisiOlehMrTydi_nomorSegmen` (mis. `12345#67_0`, `12345#67_1`, …)\n",
    "\n",
    "## Statistik\n",
    "- Dataset asli (train, ID): ≈ 1.47M dokumen\n",
    "- Dataset hasil chunking: lebih besar (tergantung distribusi panjang)\n",
    "- Panjang segmen: 50–180 token (bisa >180 bila segmen terakhir digabung)\n",
    "\n",
    "## Contoh\n",
    "```json\n",
    "{{\n",
    "  \"docid\": \"12345#0_0\",\n",
    "  \"title\": \"Dokar\",\n",
    "  \"text\": \"Dokar, kendaraan dengan kuda sebagai penarik ...\"\n",
    "}}\"\"\""
   ]
  },
  {
   "cell_type": "markdown",
   "id": "872934c6",
   "metadata": {},
   "source": [
    "## 180 Token Menurut Flan T5 itu Berapa Token Multilingual E5?"
   ]
  },
  {
   "cell_type": "code",
   "execution_count": null,
   "id": "64abf2da",
   "metadata": {},
   "outputs": [
    {
     "name": "stderr",
     "output_type": "stream",
     "text": [
      "Downloading readme: 1.38kB [00:00, ?B/s]\n",
      "Downloading data: 100%|██████████| 146M/146M [00:14<00:00, 10.2MB/s] \n",
      "Downloading data: 100%|██████████| 124M/124M [00:11<00:00, 10.5MB/s] \n",
      "Generating train split: 100%|██████████| 1588236/1588236 [00:02<00:00, 641382.23 examples/s]\n",
      "Map: 100%|██████████| 100000/100000 [00:08<00:00, 11193.50 examples/s]"
     ]
    },
    {
     "name": "stdout",
     "output_type": "stream",
     "text": [
      "Rata-rata panjang token dari 100.000 sampel: 65.77\n"
     ]
    },
    {
     "name": "stderr",
     "output_type": "stream",
     "text": [
      "\n"
     ]
    }
   ],
   "source": [
    "from datasets import load_dataset\n",
    "from transformers import AutoTokenizer\n",
    "import numpy as np\n",
    "\n",
    "# 1. Load dataset & tokenizer\n",
    "corpus = load_dataset(\"khalidrizki/indonesian-wiki-chunked-180tok\", split=\"train\")\n",
    "tokenizer = AutoTokenizer.from_pretrained(\"intfloat/multilingual-e5-base\")\n",
    "\n",
    "# 2. Ambil sampel 100.000 data secara acak\n",
    "sampled = corpus.shuffle(seed=42).select(range(100_000))\n",
    "\n",
    "# 3. Tokenisasi batch agar lebih cepat\n",
    "def tokenize_batch(batch):\n",
    "    tokens = tokenizer(batch[\"text\"], truncation=False, padding=False)[\"input_ids\"]\n",
    "    return {\"lengths\": [len(t) for t in tokens]}\n",
    "\n",
    "sampled = sampled.map(tokenize_batch, batched=True, batch_size=1000)\n",
    "\n",
    "# 4. Hitung rata-rata panjang token\n",
    "avg_length = np.mean(sampled[\"lengths\"])\n",
    "print(f\"Rata-rata panjang token dari 100.000 sampel: {avg_length:.2f}\")"
   ]
  },
  {
   "cell_type": "markdown",
   "id": "2f24d4ed",
   "metadata": {},
   "source": [
    "## Pembagian Split (Train dan Validasi)"
   ]
  },
  {
   "cell_type": "code",
   "execution_count": null,
   "id": "76482684",
   "metadata": {},
   "outputs": [
    {
     "name": "stdout",
     "output_type": "stream",
     "text": [
      "Validation rows: 7941, Target: 7941\n"
     ]
    },
    {
     "name": "stderr",
     "output_type": "stream",
     "text": [
      "Filter: 100%|██████████| 1588236/1588236 [01:10<00:00, 22418.92 examples/s]\n",
      "Filter: 100%|██████████| 1588236/1588236 [01:11<00:00, 22218.61 examples/s]"
     ]
    },
    {
     "name": "stdout",
     "output_type": "stream",
     "text": [
      "Dataset({\n",
      "    features: ['docid', 'title', 'text', 'doc_prefix'],\n",
      "    num_rows: 1580295\n",
      "})\n",
      "Dataset({\n",
      "    features: ['docid', 'title', 'text', 'doc_prefix'],\n",
      "    num_rows: 7941\n",
      "})\n"
     ]
    },
    {
     "name": "stderr",
     "output_type": "stream",
     "text": [
      "\n"
     ]
    }
   ],
   "source": [
    "from datasets import load_dataset\n",
    "import random\n",
    "import numpy as np\n",
    "\n",
    "# Load dataset\n",
    "dataset = load_dataset(\"khalidrizki/indonesian-wiki-chunked-180tok\", split=\"train\")\n",
    "\n",
    "# Ekstrak prefix sebelum '#'\n",
    "def get_doc_prefix(example):\n",
    "    return {\"doc_prefix\": example[\"docid\"].split(\"#\")[0]}\n",
    "\n",
    "dataset = dataset.map(get_doc_prefix)\n",
    "\n",
    "# Group dokumen unik\n",
    "all_docs = list(set(dataset[\"doc_prefix\"]))\n",
    "random.seed(42)\n",
    "random.shuffle(all_docs)\n",
    "\n",
    "# Hitung target size\n",
    "target_val_size = 7941\n",
    "\n",
    "# Iteratif pilih dokumen sampai mendekati target\n",
    "val_docs = []\n",
    "val_count = 0\n",
    "for d in all_docs:\n",
    "    count_d = (np.array(dataset[\"doc_prefix\"]) == d).sum()\n",
    "    if val_count + count_d <= target_val_size:\n",
    "        val_docs.append(d)\n",
    "        val_count += count_d\n",
    "    if val_count >= target_val_size:\n",
    "        break\n",
    "\n",
    "print(f\"Validation rows: {val_count}, Target: {target_val_size}\")\n",
    "\n",
    "# Split dataset\n",
    "val_dataset = dataset.filter(lambda x: x[\"doc_prefix\"] in val_docs)\n",
    "train_dataset = dataset.filter(lambda x: x[\"doc_prefix\"] not in val_docs)\n",
    "\n",
    "print(train_dataset)\n",
    "print(val_dataset)"
   ]
  },
  {
   "cell_type": "code",
   "execution_count": null,
   "id": "391ba914",
   "metadata": {},
   "outputs": [],
   "source": [
    "from datasets import DatasetDict\n",
    "\n",
    "# Gabungkan ke dalam DatasetDict\n",
    "dataset = DatasetDict({\n",
    "    \"train\": train_dataset,\n",
    "    \"dev\": val_dataset\n",
    "})\n",
    "\n",
    "dataset.push_to_hub(\"khalidrizki/indonesian-wiki-chunked-180tok-splitted\")"
   ]
  },
  {
   "cell_type": "markdown",
   "id": "33d6a6cf",
   "metadata": {},
   "source": [
    "# TyDi QA"
   ]
  },
  {
   "cell_type": "markdown",
   "id": "07787b35",
   "metadata": {},
   "source": [
    "## Khusus Data Question dan Answer (Tanpa Retrieval/Negative Passages)"
   ]
  },
  {
   "cell_type": "markdown",
   "id": "316fa759",
   "metadata": {},
   "source": [
    "Gabungkan semua split jadi 1"
   ]
  },
  {
   "cell_type": "code",
   "execution_count": 3,
   "id": "4fdc0c47",
   "metadata": {},
   "outputs": [
    {
     "name": "stderr",
     "output_type": "stream",
     "text": [
      "c:\\Users\\LENOVO\\anaconda3\\envs\\recomp\\Lib\\site-packages\\tqdm\\auto.py:21: TqdmWarning: IProgress not found. Please update jupyter and ipywidgets. See https://ipywidgets.readthedocs.io/en/stable/user_install.html\n",
      "  from .autonotebook import tqdm as notebook_tqdm\n"
     ]
    }
   ],
   "source": [
    "from datasets import load_dataset, concatenate_datasets\n",
    "\n",
    "# Muat dataset\n",
    "tydiqa_gold = load_dataset(\"khalidalt/tydiqa-goldp\", \"indonesian\", trust_remote_code=True)"
   ]
  },
  {
   "cell_type": "code",
   "execution_count": 4,
   "id": "74325716",
   "metadata": {},
   "outputs": [],
   "source": [
    "# Gabungkan semua split di tydiqa_gold\n",
    "tydiqa_gold_all = concatenate_datasets([tydiqa_gold[split] for split in tydiqa_gold.keys()])"
   ]
  },
  {
   "cell_type": "code",
   "execution_count": 5,
   "id": "231fe85d",
   "metadata": {},
   "outputs": [
    {
     "data": {
      "text/plain": [
       "Dataset({\n",
       "    features: ['id', 'language', 'document_title', 'passage_text', 'question_text', 'answers'],\n",
       "    num_rows: 6267\n",
       "})"
      ]
     },
     "execution_count": 5,
     "metadata": {},
     "output_type": "execute_result"
    }
   ],
   "source": [
    "tydiqa_gold_all"
   ]
  },
  {
   "cell_type": "code",
   "execution_count": 6,
   "id": "4b94704c",
   "metadata": {},
   "outputs": [
    {
     "name": "stdout",
     "output_type": "stream",
     "text": [
      "Jumlah id unik: 6267\n",
      "Jumlah id duplikat: 0\n"
     ]
    }
   ],
   "source": [
    "from collections import Counter\n",
    "\n",
    "# hitung frekuensi id\n",
    "id_counts = Counter(tydiqa_gold_all[\"id\"])\n",
    "\n",
    "# ambil yang lebih dari 1\n",
    "dupes = {k: v for k, v in id_counts.items() if v > 1}\n",
    "\n",
    "print(f\"Jumlah id unik: {len(id_counts)}\")\n",
    "print(f\"Jumlah id duplikat: {len(dupes)}\")\n",
    "\n",
    "# kalau mau lihat contoh id duplikat\n",
    "for k, v in list(dupes.items())[:10]:\n",
    "    print(k, \"->\", v)\n"
   ]
  },
  {
   "cell_type": "markdown",
   "id": "e2d917ef",
   "metadata": {},
   "source": [
    "Rename kolom question pada tydiqa menjadi query"
   ]
  },
  {
   "cell_type": "code",
   "execution_count": 7,
   "id": "3527940f",
   "metadata": {},
   "outputs": [],
   "source": [
    "tydiqa_gold_all = tydiqa_gold_all.rename_column(\"question_text\", \"question\")"
   ]
  },
  {
   "cell_type": "markdown",
   "id": "6479c36e",
   "metadata": {},
   "source": [
    "Normalisasi dan buat kolom question_stem, yakni query yang sudah di-stemming. Ini gunanya untuk memudahkan membuang duplikasi"
   ]
  },
  {
   "cell_type": "code",
   "execution_count": 8,
   "id": "7444977a",
   "metadata": {},
   "outputs": [
    {
     "name": "stderr",
     "output_type": "stream",
     "text": [
      "Map: 100%|██████████| 6267/6267 [09:36<00:00, 10.87 examples/s]\n"
     ]
    },
    {
     "data": {
      "text/plain": [
       "Dataset({\n",
       "    features: ['id', 'language', 'document_title', 'passage_text', 'question', 'answers', 'question_norm', 'question_stem'],\n",
       "    num_rows: 6267\n",
       "})"
      ]
     },
     "execution_count": 8,
     "metadata": {},
     "output_type": "execute_result"
    }
   ],
   "source": [
    "tydiqa_gold_all = tydiqa_gold_all.map(\n",
    "    add_norm_and_stem, \n",
    "    batched=True, \n",
    "    fn_kwargs={\"column\": \"question\"}   # sesuaikan dengan nama kolom di tydiqa_gold_all\n",
    ")\n",
    "tydiqa_gold_all"
   ]
  },
  {
   "cell_type": "markdown",
   "id": "7547c54e",
   "metadata": {},
   "source": [
    "Dengan melakukan inspeksi manual, dari baris yang question_stem nya terduplikasi, sudah ditentukan mana saja baris yang answer nya salah. \n",
    "\n",
    "Dengan demikian, baris-baris yang question_stem terduplikasi dan answer salah tersebut dihapus"
   ]
  },
  {
   "cell_type": "code",
   "execution_count": 9,
   "id": "a697c445",
   "metadata": {},
   "outputs": [
    {
     "name": "stderr",
     "output_type": "stream",
     "text": [
      "Filter: 100%|██████████| 6267/6267 [00:00<00:00, 23773.68 examples/s]\n"
     ]
    },
    {
     "data": {
      "text/plain": [
       "Dataset({\n",
       "    features: ['id', 'language', 'document_title', 'passage_text', 'question', 'answers', 'question_norm', 'question_stem'],\n",
       "    num_rows: 1\n",
       "})"
      ]
     },
     "execution_count": 9,
     "metadata": {},
     "output_type": "execute_result"
    }
   ],
   "source": [
    "row = tydiqa_gold_all.filter(lambda x: x['question']=='apakah bilangan ganjil?' and x['answers']['text'][0]=='t dibuktikan bahwa bilangan ganjil')\n",
    "row"
   ]
  },
  {
   "cell_type": "code",
   "execution_count": 10,
   "id": "8c892f73",
   "metadata": {},
   "outputs": [
    {
     "data": {
      "text/plain": [
       "'apa bilang ganjil'"
      ]
     },
     "execution_count": 10,
     "metadata": {},
     "output_type": "execute_result"
    }
   ],
   "source": [
    "row['question_stem'][0]"
   ]
  },
  {
   "cell_type": "code",
   "execution_count": 11,
   "id": "73f8b861",
   "metadata": {},
   "outputs": [
    {
     "name": "stderr",
     "output_type": "stream",
     "text": [
      "Filter:   0%|          | 0/6267 [00:00<?, ? examples/s]"
     ]
    },
    {
     "name": "stderr",
     "output_type": "stream",
     "text": [
      "Filter: 100%|██████████| 6267/6267 [00:00<00:00, 25532.10 examples/s]\n"
     ]
    },
    {
     "data": {
      "text/plain": [
       "Dataset({\n",
       "    features: ['id', 'language', 'document_title', 'passage_text', 'question', 'answers', 'question_norm', 'question_stem'],\n",
       "    num_rows: 1\n",
       "})"
      ]
     },
     "execution_count": 11,
     "metadata": {},
     "output_type": "execute_result"
    }
   ],
   "source": [
    "row = tydiqa_gold_all.filter(lambda x: x['question_stem']=='apa bilang ganjil' and x['answers']['text'][0]=='t dibuktikan bahwa bilangan ganjil')\n",
    "row"
   ]
  },
  {
   "cell_type": "code",
   "execution_count": 12,
   "id": "dfedd19d",
   "metadata": {},
   "outputs": [
    {
     "name": "stderr",
     "output_type": "stream",
     "text": [
      "Filter: 100%|██████████| 6267/6267 [00:00<00:00, 23130.82 examples/s]\n"
     ]
    },
    {
     "name": "stdout",
     "output_type": "stream",
     "text": [
      "Rows before: 6267 | after: 6206 | removed: 61\n"
     ]
    },
    {
     "name": "stderr",
     "output_type": "stream",
     "text": [
      "Map: 100%|██████████| 6267/6267 [00:01<00:00, 5367.56 examples/s]\n"
     ]
    },
    {
     "data": {
      "text/plain": [
       "Dataset({\n",
       "    features: ['id', 'language', 'document_title', 'passage_text', 'question', 'answers', 'question_norm', 'question_stem'],\n",
       "    num_rows: 6206\n",
       "})"
      ]
     },
     "execution_count": 12,
     "metadata": {},
     "output_type": "execute_result"
    }
   ],
   "source": [
    "# ====== 2) Daftar pasangan dari Excel (sudah dituliskan ulang ke kode) ======\n",
    "EXCEL_PAIRS = [\n",
    "    (\"apa bilang ganjil\", \"t dibuktikan bahwa bilangan ganjil\"),\n",
    "    ('apa definisi dari budaya', 'cara hidup yang berkembang, dan dimiliki bersama oleh sebuah kelompok orang, dan diwariskan dari generasi ke generasi'),\n",
    "    ('apa erti pasar dalam ilmu ekonomi', 'empat bertemunya penjual dan pembeli. Transaksi jual-beli yang terjadi tidak selalu memerlukan lokasi fisik'),\n",
    "    ('apa ibukota israel', 'Yerusalem'),\n",
    "    ('apa ibukota jerman', 'Jerman Timur memilih Berlin Timur sebagai ibukota, sedangkan Jerman Barat memilih Bonn'),\n",
    "    ('apa itu dna', '\"dsr\":[417,424,3,3]}\\'>n</b>ucleic a</b>cid), adalah sejenis biomolekul yang menyimpan dan menyandi instruksi-instru'),\n",
    "    ('apa itu manga', 'komik yang dibuat di Jepang, kata tersebut digunakan khusus untuk membicarakan tentang komik Jepang, sesuai dengan gaya yang dikembangkan di Jepang pada akhir abad ke-19'),\n",
    "    ('apa itu rna', 'molekul polimer yang terlibat dalam berbagai peran biologis dalam mengkode, dekode, regulasi, dan ekspresi gen'),\n",
    "    ('apa mata uang israel', 'Shekel baru Israel'),\n",
    "    ('apa nama ibukota israel', 'Yerusalem'),\n",
    "    ('apa nama ibukota jerman', 'Jerman Timur memilih Berlin Timur sebagai ibukota, sedangkan Jerman Barat memilih Bonn'),\n",
    "    ('apa nama mata uang israel', 'Shekel baru Israel'),\n",
    "    ('apa warna bendera jepang', '6.2R 4/15.2 untuk merah dan N9.2 untuk putih'),\n",
    "    ('apa yang maksud dengan budaya', 'suatu cara hidup yang berkembang, dan dimiliki bersama oleh sebuah kelompok orang, dan diwariskan dari generasi ke generasi'),\n",
    "    ('apa yang maksud dengan monarki', 'merupakan sejenis pemerintahan yang dipimpin oleh seorang penguasa monarki'),\n",
    "    ('apa yang maksud dengan surah makkiyah', 'yat-ayat yang turun sebelum Rasulullah SAW hijrah ke Madinah'),\n",
    "    ('apa yang maksud dengan zaman meiji', 'salah satu nama zaman pemerintahan kaisar Jepang sewaktu Kaisar Meiji memerintah Jepang, sesudah tahun Keiō(慶応) dan sebelum zaman zaman Taishō(大正'),\n",
    "    ('berapa luas danau toba', '100 kilometres (62 miles), lebar 30 kilometres (19mi), dan kedalaman 505 metres'),\n",
    "    ('berapa luas jakarta timur', '187,75km² (menurut Pemerintah Kota Administrasi Jakarta Timur)[1], atau seluas 188,19km² (menurut Badan Perencanaan Pembangunan Daerah Khusus Ibu Kota Jakarta)'),\n",
    "    ('berapa luas jerman', '357,021km'),\n",
    "    ('berapa luas kolombia', \"828,660km² dan yang kedua yang terbentuk oleh pegunungan Andes dan lempeng Llanos yang berbagi bersama Venezuela dengan area seluas 1'143,748km²\"), \n",
    "    ('berapa luas kota lampung', '35.376,50km²'),\n",
    "    ('berapa luas kuasa sultan mataram', 'Jawa dan sekitarnya, termasuk Madura'),\n",
    "    ('berapa luas negara israel',\t'27.799km2'),\n",
    "    (\"berapa luas papua\",\"808.105km persegi\"),\n",
    "    ('berapa luas pulau jawa','160 juta'),\n",
    "    ('berapa luas singapura', '5,815km'),\n",
    "    ('berapa luas sulawesi selatan','45.764,53'),\n",
    "    ('berapa panjang sungai kuning'\t,'40km'),\n",
    "    ('dari mana asal suku sunda','bagian barat pulau Jawa, Indonesia'),\n",
    "    (\"kapan dinasti tang diri\",\"618\"),\n",
    "    (\"kapan internet pertama masuk ke indonesia\",\"1994\"),\n",
    "    (\"kapan perintah orde baru mulai\",\"1966\"),\n",
    "    (\"kapan pt kereta api indonesia diri\",\"Mei 2010\"),\n",
    "    (\"kapan pt kereta api indonesia diri\",\"17 Juni 1864\"),\n",
    "    (\"kapan radio pertama kali cipta\",\"Guglielmo Marconi\"),\n",
    "    (\"kapan universitas indonesia diri\",\"1955\"),\n",
    "    (\"mana letak jam gadang\",\"kota Bukittinggi, Sumatera Barat, Indonesia\"),\n",
    "    (\"mana letak jepang\",\"ujung barat Samudra Pasifik, di sebelah timur Laut Jepang, dan bertetangga dengan Republik Rakyat Tiongkok, Korea, dan Rusia\"),\n",
    "    (\"mana letak mesir\",\"antara garis lintang 22 ° dan 32 ° N, dan garis bujur 25 ° dan 35 ° E\"),\n",
    "    (\"mana letak polandia\",\"Eropa Tengah yang berbatasan dengan Jerman di sebelah barat Perbatasan Oder-Neisse, Ceko, dan Slowakia di sebelah selatan, Rusia (Kaliningrad), Lituania di sebelah timur laut dan Belarus serta Ukraina di sebelah barat (Garis Curzon)\"),\n",
    "    (\"siapa diri dinasti han timur\",\"Liu Bang\"),\n",
    "    (\"siapa diri toyota motor corporation\",\"Toyoda\"),\n",
    "    (\"siapa nama kaisar pertama dinasti ming\",\"Zhu Yuanzhang\"),\n",
    "    (\"siapa yang cipta wiracarita mahabharata\",\"Begawan Byasa atau Vyasa\"), \n",
    "    (\"apa erti dari digital\", \"penggambaran dari suatu keadaan bilangan yang terdiri dari angka 0 dan 1 atau off dan on (bilangan biner)\"),\n",
    "    (\"berapa luas jambi\", \"53.435 km2\"),\n",
    "    (\"kapan sultan utsmaniyah diri\", \"bawa\"),\n",
    "    (\"apa itu dvd\", \"cakram padat yang dapat digunakan untuk menyimpan data, termasuk film dengan kualitas video dan audio yang lebih baik dari kualitas VCD\"),\n",
    "    (\"apa nama ibukota provinsi sulawesi utara\", \"kota Manado\"), \n",
    "    (\"apa nama mata uang korea utara\", \"Won\"), \n",
    "    (\"berapa luas samudera atlantik\", \"106.450.000km²\"),\n",
    "    (\"mana letak danau toba\", \"kaldera Gunung Berapi Super\")\n",
    "]\n",
    "\n",
    "# Ubah ke set untuk lookup cepat; trimming spasi di kiri/kanan biar \"persis\" tapi toleran spasi ekstra\n",
    "PAIRS_SET = set((qs.strip(), ans.strip()) for qs, ans in EXCEL_PAIRS)\n",
    "\n",
    "# ====== 3) Hapus baris di tydiqa_gold_all yang match kombinasi (question_stem, answers.text) ======\n",
    "# Asumsi: kolom 'question_stem' SUDAH ada di tydiqa_gold_all\n",
    "def _should_keep(example):\n",
    "    qstem = (example.get('question_stem') or \"\").strip()\n",
    "    texts = example.get('answers', {}).get('text', []) or []\n",
    "    # hapus baris bila ADA salah satu jawaban yang match persis\n",
    "    for t in texts:\n",
    "        if (qstem, (t or \"\").strip()) in PAIRS_SET:\n",
    "            return False\n",
    "    return True\n",
    "\n",
    "before_n = len(tydiqa_gold_all)\n",
    "filtered_train = tydiqa_gold_all.filter(_should_keep)\n",
    "after_n = len(filtered_train)\n",
    "removed = before_n - after_n\n",
    "\n",
    "print(f\"Rows before: {before_n} | after: {after_n} | removed: {removed}\")\n",
    "\n",
    "# (Opsional) laporan pasangan Excel yang tidak ketemu sama sekali di dataset\n",
    "# Kita cek apakah ada contoh yang match; kalau tidak ada, kita laporkan\n",
    "def _has_match(example):\n",
    "    qstem = (example.get('question_stem') or \"\").strip()\n",
    "    texts = example.get('answers', {}).get('text', []) or []\n",
    "    out = []\n",
    "    for t in texts:\n",
    "        key = (qstem, (t or \"\").strip())\n",
    "        if key in PAIRS_SET:\n",
    "            out.append(key)\n",
    "    return {\"_hits\": out}\n",
    "\n",
    "hits_ds = tydiqa_gold_all.map(_has_match, batched=False)\n",
    "found_pairs = set()\n",
    "for row in hits_ds:\n",
    "    for h in row.get(\"_hits\", []):\n",
    "        found_pairs.add(tuple(h))\n",
    "\n",
    "not_found = PAIRS_SET - found_pairs\n",
    "if not_found:\n",
    "    print(\"\\nPairs from Excel NOT FOUND in dataset:\")\n",
    "    for qs, ans in sorted(not_found):\n",
    "        print(f\"- question_stem={qs!r} | answers.text={ans!r}\")\n",
    "\n",
    "# Commit hasil filter\n",
    "tydiqa_gold_all_dupe_wo_bad_labels = filtered_train\n",
    "tydiqa_gold_all_dupe_wo_bad_labels"
   ]
  },
  {
   "cell_type": "markdown",
   "id": "2fd5a049",
   "metadata": {},
   "source": [
    "Ekstrak jawaban dari yang awalnya berada pada answers.text menjadi answer saja"
   ]
  },
  {
   "cell_type": "code",
   "execution_count": 13,
   "id": "e9938f4d",
   "metadata": {},
   "outputs": [
    {
     "name": "stderr",
     "output_type": "stream",
     "text": [
      "Map: 100%|██████████| 6206/6206 [00:01<00:00, 4896.57 examples/s]\n"
     ]
    }
   ],
   "source": [
    "def extract_text(example):\n",
    "    example[\"answer\"] = example[\"answers\"][\"text\"]  # Ambil hanya bagian text, start_byte dan limit_byte dibuang saja\n",
    "    return example\n",
    "\n",
    "tydiqa_gold_all_dupe_wo_bad_labels = tydiqa_gold_all_dupe_wo_bad_labels.map(extract_text)\n",
    "tydiqa_gold_all_dupe_wo_bad_labels = tydiqa_gold_all_dupe_wo_bad_labels.remove_columns([\"language\", \"answers\"])"
   ]
  },
  {
   "cell_type": "code",
   "execution_count": 14,
   "id": "2fa82b8d",
   "metadata": {},
   "outputs": [
    {
     "name": "stderr",
     "output_type": "stream",
     "text": [
      "Filter: 100%|██████████| 6206/6206 [00:00<00:00, 27284.22 examples/s]"
     ]
    },
    {
     "name": "stdout",
     "output_type": "stream",
     "text": [
      "Jumlah baris yang miss: 0\n"
     ]
    },
    {
     "name": "stderr",
     "output_type": "stream",
     "text": [
      "\n"
     ]
    }
   ],
   "source": [
    "def passage_miss_answer(example):\n",
    "    passage = example[\"passage_text\"]\n",
    "    answers = example[\"answer\"] or []  # list of string\n",
    "    \n",
    "    # True kalau tidak ada satu pun jawaban yang muncul di passage_text\n",
    "    return not any(ans in passage for ans in answers)\n",
    "tydi_miss = tydiqa_gold_all_dupe_wo_bad_labels.filter(passage_miss_answer)\n",
    "\n",
    "print(f\"Jumlah baris yang miss: {len(tydi_miss)}\")"
   ]
  },
  {
   "cell_type": "markdown",
   "id": "df066546",
   "metadata": {},
   "source": [
    "Inspect lagi, apakah untuk kelompok question_stem sama (terduplikasi), apakah ada passage_text yang passage_text nya berbeda satu sama lain. Kalau berbeda, cek apakah jawaban berbeda juga. Jika jawaban berbeda, cari baris yang jawabannya benar dan sesuai dengan passage_text. Jawaban yang salah kemudian dihapus. Pencarian jawaban salah dilakukan dengan manual."
   ]
  },
  {
   "cell_type": "code",
   "execution_count": null,
   "id": "794b328e",
   "metadata": {},
   "outputs": [
    {
     "name": "stdout",
     "output_type": "stream",
     "text": [
      "Total question_stem duplikat: 224\n",
      "Grup konsisten (judul & passage sama semua): 205\n",
      "Grup konflik (judul/passage berbeda): 19\n",
      "\n",
      "=== Contoh konflik (maks 5) ===\n",
      "- question_stem: 'apa ibukota rusia' | n_rows=2, n_titles=1, n_passages=2\n",
      "  titles_sample: ['Rusia']\n",
      "  passages_sample: ['Sebagian besar jalur air Rusia sepanjang 102,000km (63,380mi) terdiri dari sungai atau danau alam. Ibukota Moskwa disebut sebagai \"pelabuhan lima laut\" karena memiliki 5 jalur air menuju Baltik, Laut Putih, Kaspia, Laut Azov dan Laut Hitam.']\n",
      "------------------------------------------------------------\n",
      "- question_stem: 'apa mata uang yang guna di jerman' | n_rows=2, n_titles=1, n_passages=2\n",
      "  titles_sample: ['Mark Jerman']\n",
      "  passages_sample: ['Peralihan dari mata uang resmi yang lama ke euro di Jerman berbeda dengan negara-negara Zona Euro lainnya. Di negara-negara lain, saat peralihan mata uang resmi lama dan euro beredar berdampingan selama dua bulan. Tetapi, di Jerman, koin dan uang kertas mark masih diterima sebagai pembayaran yang sah hingga 28 Februari 2002. Dan pihak Deutsche Bundesbank menjamin bahwa semua uang mark tunai dapat diganti ke Euro tanpa batas waktu dan dapat dilakukan di semua cabang Bundesbank di Jerman. Uang kertas bahkan dapat dikirim ke bank melalui pos.[1]']\n",
      "------------------------------------------------------------\n",
      "- question_stem: 'apa nama ibukota jepang' | n_rows=2, n_titles=1, n_passages=2\n",
      "  titles_sample: ['Ibu kota Jepang']\n",
      "  passages_sample: ['Tokyo diperlakukan secara de facto sebagai ibu kota karena menurut Konstitusi Jepang, Kaisar Jepang sebagai \"lambang negara Jepang dan simbol pemersatu rakyat Jepang\" dan istana kaisar berkedudukan di Tokyo. Selain itu, lembaga-lembaga pemerintah seperti Parlemen Jepang, Kantor Perdana Menteri (Kantei) dan Mahkamah Agung Jepang yang ditetapkan konstitusi sebagai \"lembaga tertinggi negara\" berada di distrik Chiyoda, Tokyo.']\n",
      "------------------------------------------------------------\n",
      "- question_stem: 'apa nama pulau tengah danau toba' | n_rows=2, n_titles=1, n_passages=2\n",
      "  titles_sample: ['Danau Toba']\n",
      "  passages_sample: ['Kejadian ini menyebabkan kematian massal dan kepunahan pada beberapa spesies makhluk hidup. Menurut beberapa bukti DNA, letusan ini juga menyusutkan jumlah manusia sampai sekitar 60% dari jumlah populasi manusia bumi saat itu, yaitu sekitar 60 juta manusia. Letusan itu juga ikut menyebabkan terjadinya zaman es, walaupun para ahli masih memperdebatkannya. Setelah letusan tersebut, terbentuk kaldera yang kemudian terisi oleh air dan menjadi yang sekarang dikenal sebagai Danau Toba. Tekanan ke atas oleh magma yang belum keluar menyebabkan munculnya Pulau Samosir.\\n\\n\\nTim peneliti multidisiplin internasional, yang dipimpin oleh Dr. Michael Petraglia, mengungkapkan dalam suatu konferensi pers di Oxford, Amerika Serikat bahwa telah ditemukan situs arkeologi baru yang cukup spektakuler oleh para ahli geologi di selatan dan utara India. Di situs itu terungkap bagaimana orang bertahan hidup, sebelum dan sesudah letusan gunung berapi (supervolcano) Toba pada 74.000 tahun yang lalu, dan bukti tentang adanya kehidupan di bawah timbunan abu Gunung Toba. Padahal sumber letusan berjarak 3.000 mil, dari sebaran abunya.']\n",
      "------------------------------------------------------------\n",
      "- question_stem: 'apa nama video game pertama di dunia' | n_rows=2, n_titles=1, n_passages=2\n",
      "  titles_sample: ['OXO']\n",
      "  passages_sample: ['OXO memiliki gambar seperti papan skor Olimpiade atau \"pod\". Ada keraguan OXO adalah permainan video pertama, yang lebih dulu terbit daripada permainan Tennis For Two yang terbit tahun 1958']\n",
      "------------------------------------------------------------\n"
     ]
    }
   ],
   "source": [
    "# import pandas as pd\n",
    "\n",
    "# # pastikan kolom yang dibutuhkan ada\n",
    "# required_cols = {\"question_stem\", \"document_title\", \"passage_text\"}\n",
    "# missing = required_cols - set(tydiqa_gold_all_dupe_wo_bad_labels.column_names)\n",
    "# assert not missing, f\"Kolom hilang: {missing}\"\n",
    "\n",
    "# # ke pandas untuk analisis cepat\n",
    "# df = tydiqa_gold_all_dupe_wo_bad_labels.to_pandas()\n",
    "\n",
    "# # ambil hanya question_stem yang duplikat (>1 kemunculan)\n",
    "# dup_keys = (\n",
    "#     df.groupby(\"question_stem\", dropna=False).size()\n",
    "#       .reset_index(name=\"n\")\n",
    "#       .query(\"n > 1\")[\"question_stem\"]\n",
    "# )\n",
    "\n",
    "# dup_df = df[df[\"question_stem\"].isin(dup_keys)].copy()\n",
    "\n",
    "# # ringkasan per question_stem\n",
    "# def _unique_list(s, k=3):\n",
    "#     # ambil contoh unik maksimal k item untuk pratinjau\n",
    "#     vals = pd.unique(s.dropna())\n",
    "#     return list(vals[:k])\n",
    "\n",
    "# summary = (\n",
    "#     dup_df.groupby(\"question_stem\", dropna=False)\n",
    "#           .agg(\n",
    "#               n_rows=(\"question_stem\", \"size\"),\n",
    "#               n_titles=(\"document_title\", pd.Series.nunique),\n",
    "#               n_passages=(\"passage_text\", pd.Series.nunique),\n",
    "#               titles_sample=(\"document_title\", lambda s: _unique_list(s, k=3)),\n",
    "#               passages_sample=(\"passage_text\", lambda s: _unique_list(s, k=1)),\n",
    "#           )\n",
    "#           .reset_index()\n",
    "# )\n",
    "\n",
    "# summary[\"same_title\"] = summary[\"n_titles\"].eq(1)\n",
    "# summary[\"same_passage\"] = summary[\"n_passages\"].eq(1)\n",
    "# summary[\"all_same\"] = summary[\"same_title\"] & summary[\"same_passage\"]\n",
    "\n",
    "# # baris yang tidak konsisten (judul atau passage berbeda)\n",
    "# conflicts = summary.query(\"~all_same\").copy()\n",
    "\n",
    "# print(f\"Total question_stem duplikat: {len(summary)}\")\n",
    "# print(f\"Grup konsisten (judul & passage sama semua): {summary['all_same'].sum()}\")\n",
    "# print(f\"Grup konflik (judul/passage berbeda): {len(conflicts)}\")\n",
    "\n",
    "# # contoh menampilkan beberapa konflik\n",
    "# if len(conflicts):\n",
    "#     print(\"\\n=== Contoh konflik (maks 5) ===\")\n",
    "#     for _, r in conflicts.head(5).iterrows():\n",
    "#         print(f\"- question_stem: {r['question_stem']!r} | n_rows={r['n_rows']}, \"\n",
    "#               f\"n_titles={r['n_titles']}, n_passages={r['n_passages']}\")\n",
    "#         print(f\"  titles_sample: {r['titles_sample']}\")\n",
    "#         print(f\"  passages_sample: {r['passages_sample']}\")\n",
    "#         print(\"-\"*60)\n",
    "\n",
    "# # (Opsional) simpan hasil\n",
    "# summary.to_excel(\"tydiqa_gold_dupe_groups_summary.xlsx\", index=False)\n",
    "# conflicts.to_excel(\"tydiqa_gold_dupe_groups_conflicts.xlsx\", index=False)"
   ]
  },
  {
   "cell_type": "markdown",
   "id": "b563ec15",
   "metadata": {},
   "source": [
    "Penghapusan baris berdasarkan question_stem dan passage_text/answer yang salah. Baris berikut sudah diketahui query nya terduplikasi. Berhubung jawabannya pun salah, sekalian aja hapus dulu, biar nanti pas proses penghapusan query ga sengaja meninggalkan baris dengan answer yang salah"
   ]
  },
  {
   "cell_type": "code",
   "execution_count": 15,
   "id": "5b22d519",
   "metadata": {},
   "outputs": [
    {
     "name": "stderr",
     "output_type": "stream",
     "text": [
      "Map:   0%|          | 0/6206 [00:00<?, ? examples/s]"
     ]
    },
    {
     "name": "stderr",
     "output_type": "stream",
     "text": [
      "Map: 100%|██████████| 6206/6206 [00:00<00:00, 7647.32 examples/s]\n",
      "Filter: 100%|██████████| 6206/6206 [00:00<00:00, 38610.62 examples/s]\n",
      "Filter: 100%|██████████| 6206/6206 [00:00<00:00, 36517.44 examples/s]"
     ]
    },
    {
     "name": "stdout",
     "output_type": "stream",
     "text": [
      "Rows before: 6206 | after: 6200 | removed: 6\n"
     ]
    },
    {
     "name": "stderr",
     "output_type": "stream",
     "text": [
      "\n"
     ]
    }
   ],
   "source": [
    "import numpy as np\n",
    "\n",
    "# ====== daftar pasangan ======\n",
    "Q_ANSWER_PAIRS = [\n",
    "    (\"apa yang maksud dengan uskup\",\n",
    "     \"pimpinan Gereja setempat yang bernama Keuskupan dan merupakan bagian dari hierarki Gereja Katolik Roma setelah Sri Paus (Uskup Agung Roma) dan Kardinal\"),\n",
    "    (\"berapa lama kaisar romawi kuasa\", \"27 SM sampai 284 M\"),\n",
    "    (\"berapa luas korea selatan\", \"99.274km2\"),\n",
    "    (\"berapa luas negara jepang\", \"377.835km²\"),\n",
    "]\n",
    "\n",
    "Q_PSGTEXT_STARTSWITH_PAIRS = [\n",
    "    (\"kapan internet masuk ke indonesia pertama kali\",\n",
    "     \"Sejarah internet Indonesia dimulai pada awal tahun 1990-an.\"),\n",
    "    (\"kapan komputer pertama kali cipta\",\n",
    "     \"Sebelum Internet muncul, telah ada beberapa sistem komunikasi yang berbasis digital\"),\n",
    "]\n",
    "\n",
    "# Lookup cepat\n",
    "ANSWER_SET = set((q.strip(), a.strip()) for q, a in Q_ANSWER_PAIRS)\n",
    "PFX_LIST  = [(q.strip(), pfx.strip()) for q, pfx in Q_PSGTEXT_STARTSWITH_PAIRS]\n",
    "\n",
    "def _iter_answers(val):\n",
    "    \"\"\"Yield jawaban sebagai string-strip, terlepas val= str / list / tuple / np.ndarray / None.\"\"\"\n",
    "    if val is None:\n",
    "        return\n",
    "    if isinstance(val, (list, tuple, np.ndarray)):\n",
    "        for x in val:\n",
    "            if x is None:\n",
    "                continue\n",
    "            yield str(x).strip()\n",
    "    else:\n",
    "        yield str(val).strip()\n",
    "\n",
    "def _should_drop(example):\n",
    "    qstem = (example.get(\"question_stem\") or \"\").strip()\n",
    "    psg   = (example.get(\"passage_text\") or \"\").strip()\n",
    "\n",
    "    # Rule 1: (question_stem, answer) exact match\n",
    "    for a in _iter_answers(example.get(\"answer\")):\n",
    "        if (qstem, a) in ANSWER_SET:\n",
    "            return True\n",
    "\n",
    "    # Rule 2: (question_stem, passage_text startswith prefix)\n",
    "    for q, pfx in PFX_LIST:\n",
    "        if qstem == q and psg.startswith(pfx):\n",
    "            return True\n",
    "\n",
    "    return False\n",
    "\n",
    "# === Flag → filter ===\n",
    "before_n = len(tydiqa_gold_all_dupe_wo_bad_labels)\n",
    "\n",
    "flagged = tydiqa_gold_all_dupe_wo_bad_labels.map(\n",
    "    lambda ex: {\"_drop\": _should_drop(ex)}, batched=False\n",
    ")\n",
    "\n",
    "removed_rows = flagged.filter(lambda ex: ex[\"_drop\"])\n",
    "kept         = flagged.filter(lambda ex: not ex[\"_drop\"]).remove_columns([\"_drop\"])\n",
    "\n",
    "after_n   = len(kept)\n",
    "removed_n = before_n - after_n\n",
    "print(f\"Rows before: {before_n} | after: {after_n} | removed: {removed_n}\")\n",
    "\n",
    "# Commit hasil bersih kembali ke variabel asal (kalau diinginkan)\n",
    "tydiqa_gold_all_dupe_wo_bad_labels = kept\n",
    "\n",
    "# (Opsional) simpan audit baris yang dihapus\n",
    "# removed_rows.to_csv(\"tydiqa_removed_rows.csv\")\n"
   ]
  },
  {
   "cell_type": "code",
   "execution_count": 10,
   "id": "2ab06fa1",
   "metadata": {},
   "outputs": [
    {
     "name": "stderr",
     "output_type": "stream",
     "text": [
      "Filter: 100%|██████████| 6213/6213 [00:00<00:00, 18761.51 examples/s]"
     ]
    },
    {
     "name": "stdout",
     "output_type": "stream",
     "text": [
      "Jumlah baris yang miss: 0\n"
     ]
    },
    {
     "name": "stderr",
     "output_type": "stream",
     "text": [
      "\n"
     ]
    }
   ],
   "source": [
    "tydi_miss = tydiqa_gold_all_dupe_wo_bad_labels.filter(passage_miss_answer)\n",
    "\n",
    "print(f\"Jumlah baris yang miss: {len(tydi_miss)}\")"
   ]
  },
  {
   "cell_type": "markdown",
   "id": "698c17cf",
   "metadata": {},
   "source": [
    "Penghapusan duplikasi dengan menyisakan passage_text yang lebih pendek"
   ]
  },
  {
   "cell_type": "code",
   "execution_count": 16,
   "id": "a03d8ff3",
   "metadata": {},
   "outputs": [
    {
     "name": "stdout",
     "output_type": "stream",
     "text": [
      "Before: 6200 | After: 5928 | Removed: 272\n"
     ]
    },
    {
     "data": {
      "text/plain": [
       "Dataset({\n",
       "    features: ['id', 'document_title', 'passage_text', 'question', 'question_norm', 'question_stem', 'answer'],\n",
       "    num_rows: 5928\n",
       "})"
      ]
     },
     "execution_count": 16,
     "metadata": {},
     "output_type": "execute_result"
    }
   ],
   "source": [
    "import pandas as pd\n",
    "from datasets import Dataset\n",
    "\n",
    "# convert ke pandas\n",
    "df = tydiqa_gold_all_dupe_wo_bad_labels.to_pandas()\n",
    "\n",
    "# hitung panjang passage_text (kalau NaN → inf supaya tidak kepilih)\n",
    "df[\"_passage_len\"] = df[\"passage_text\"].fillna(\"\").str.len()\n",
    "\n",
    "# untuk tiap question_stem, ambil index baris dengan passage_text terpendek\n",
    "idx_min = df.groupby(\"question_stem\")[\"_passage_len\"].idxmin()\n",
    "\n",
    "# ambil hanya baris-baris itu\n",
    "df_kept = df.loc[idx_min].reset_index(drop=True)\n",
    "\n",
    "print(f\"Before: {len(df)} | After: {len(df_kept)} | Removed: {len(df) - len(df_kept)}\")\n",
    "\n",
    "# buang kolom bantu\n",
    "df_kept = df_kept.drop(columns=[\"_passage_len\"])\n",
    "\n",
    "# convert balik ke HuggingFace Dataset\n",
    "tydiqa_gold_all_dupe_wo_bad_labels = Dataset.from_pandas(df_kept)\n",
    "tydiqa_gold_all_dupe_wo_bad_labels"
   ]
  },
  {
   "cell_type": "code",
   "execution_count": 17,
   "id": "d82ea09c",
   "metadata": {},
   "outputs": [
    {
     "name": "stderr",
     "output_type": "stream",
     "text": [
      "Filter: 100%|██████████| 5928/5928 [00:00<00:00, 53152.16 examples/s]"
     ]
    },
    {
     "name": "stdout",
     "output_type": "stream",
     "text": [
      "Jumlah baris yang miss: 0\n"
     ]
    },
    {
     "name": "stderr",
     "output_type": "stream",
     "text": [
      "\n"
     ]
    }
   ],
   "source": [
    "tydi_miss = tydiqa_gold_all_dupe_wo_bad_labels.filter(passage_miss_answer)\n",
    "\n",
    "print(f\"Jumlah baris yang miss: {len(tydi_miss)}\")"
   ]
  },
  {
   "cell_type": "markdown",
   "id": "d177bc9c",
   "metadata": {},
   "source": [
    "Isi text dari split dev dan test mr_tydi"
   ]
  },
  {
   "cell_type": "code",
   "execution_count": 18,
   "id": "ac80b2da",
   "metadata": {},
   "outputs": [],
   "source": [
    "corpus = load_dataset(\"castorini/mr-tydi-corpus\", \"indonesian\", trust_remote_code=True)"
   ]
  },
  {
   "cell_type": "code",
   "execution_count": 19,
   "id": "db38c22e",
   "metadata": {},
   "outputs": [
    {
     "name": "stdout",
     "output_type": "stream",
     "text": [
      "{'query_id': '3', 'query': 'Dimana James Hepburn meninggal?', 'positive_passages': [{'docid': '2386357#15', 'text': 'Dia dipenjarakan di Puri Dragsholm, 75 kilometer Kopenhagen. Dia ditahan dalam apa yang dikatakan sebagai kondisi yang mengerikan. Dia meninggal pada bulan April 1578.[8][10]', 'title': 'James Hepburn'}], 'negative_passages': []}\n",
      "{'query_id': '6148', 'query': 'Siapakah yang menemuka benua Amerika ?', 'positive_passages': [{'docid': '6874#1', 'text': \"Kolumbus bukanlah orang pertama yang tiba di Amerika, yang ia dapati sudah diduduki. Ia juga bukan orang Eropa pertama yang sampai ke benua itu karena sekarang telah diakui secara meluas bahwa orang-orang Viking dari Eropa Utara telah berkunjung ke Amerika Utara pada abad ke 11 dan mendirikan koloni L'Anse aux Meadows untuk jangka waktu singkat. Terdapat perkiraan bahwa pelayar yang tidak dikenali pernah melawat ke Amerika sebelum Kolumbus dan membekalkannya dengan sumber untuk kejayaannya. Terdapat juga banyak teori mengenai ekspedisi ke Amerika oleh berbagai orang sepanjang masa itu.\", 'title': 'Kristoforus Kolumbus'}], 'negative_passages': []}\n"
     ]
    }
   ],
   "source": [
    "mr_tydi = load_dataset(\"castorini/mr-tydi\", \"indonesian\")\n",
    "\n",
    "# Buat dictionary {docid: (title, text)} untuk pencarian cepat\n",
    "corpus_dict = {row[\"docid\"]: (row[\"title\"], row[\"text\"]) for row in corpus[\"train\"]}\n",
    "\n",
    "# Fungsi untuk melengkapi positive_passages dalam dataset mr_tydi\n",
    "def fill_passage_info(example):\n",
    "    for passage in example[\"positive_passages\"]:\n",
    "        docid = passage[\"docid\"]\n",
    "        if docid in corpus_dict:  # Cek apakah docid ada di corpus\n",
    "            passage[\"title\"], passage[\"text\"] = corpus_dict[docid]\n",
    "    \n",
    "    return example\n",
    "\n",
    "# Terapkan fungsi untuk melengkapi positive_passages di split 'dev' dan 'test'\n",
    "mr_tydi[\"dev\"] = mr_tydi[\"dev\"].map(fill_passage_info)\n",
    "mr_tydi[\"test\"] = mr_tydi[\"test\"].map(fill_passage_info)\n",
    "\n",
    "# Cek hasilnya\n",
    "print(mr_tydi[\"dev\"][0])\n",
    "print(mr_tydi[\"test\"][0])"
   ]
  },
  {
   "cell_type": "code",
   "execution_count": 20,
   "id": "e4dbe07c",
   "metadata": {},
   "outputs": [],
   "source": [
    "# Gabungkan semua split di mr_tydi\n",
    "mr_tydi_all = concatenate_datasets([mr_tydi[split] for split in mr_tydi.keys()])"
   ]
  },
  {
   "cell_type": "markdown",
   "id": "708db2ac",
   "metadata": {},
   "source": [
    "Normalisasi dan stemming query mr_tydi"
   ]
  },
  {
   "cell_type": "code",
   "execution_count": 21,
   "id": "60676053",
   "metadata": {},
   "outputs": [
    {
     "name": "stderr",
     "output_type": "stream",
     "text": [
      "Map: 100%|██████████| 6955/6955 [01:05<00:00, 106.90 examples/s]\n"
     ]
    }
   ],
   "source": [
    "mr_tydi_all = mr_tydi_all.map(\n",
    "    add_norm_and_stem, \n",
    "    batched=True, \n",
    "    fn_kwargs={\"column\": \"query\"}     \n",
    ")"
   ]
  },
  {
   "cell_type": "markdown",
   "id": "cae89066",
   "metadata": {},
   "source": [
    "Join kedua dataset"
   ]
  },
  {
   "cell_type": "code",
   "execution_count": 22,
   "id": "e615ea0f",
   "metadata": {},
   "outputs": [
    {
     "name": "stderr",
     "output_type": "stream",
     "text": [
      "Map: 100%|██████████| 5928/5928 [00:05<00:00, 1172.96 examples/s]"
     ]
    },
    {
     "name": "stdout",
     "output_type": "stream",
     "text": [
      "Query-norm matched: 5912/5928\n",
      "Positive-passage fully matched (title+text): 5540/5928\n"
     ]
    },
    {
     "name": "stderr",
     "output_type": "stream",
     "text": [
      "\n"
     ]
    }
   ],
   "source": [
    "import numpy as np\n",
    "\n",
    "# 1) Bangun index dari mr_tydi_all: query_norm -> list kandidat mr\n",
    "mr_index = {}  # query_norm -> [ {query_id, positive_passages_raw, negative_passages_raw, positives_norm:[...]} ]\n",
    "for qnorm, qid, pos_list, neg_list in zip(\n",
    "    mr_tydi_all[\"query_norm\"],\n",
    "    mr_tydi_all[\"query_id\"],\n",
    "    mr_tydi_all[\"positive_passages\"],\n",
    "    mr_tydi_all[\"negative_passages\"],\n",
    "):\n",
    "    rec = {\n",
    "        \"query_id\": qid,\n",
    "        \"positive_passages_raw\": pos_list or [],\n",
    "        \"negative_passages_raw\": neg_list or [],\n",
    "        \"positives_norm\": []\n",
    "    }\n",
    "    # siapkan versi ternormalisasi utk pencocokan cepat\n",
    "    for p in (pos_list or []):\n",
    "        title = (p.get(\"title\") or \"\")\n",
    "        text  = (p.get(\"text\")  or \"\")\n",
    "        rec[\"positives_norm\"].append({\n",
    "            \"docid\": p.get(\"docid\"),\n",
    "            \"title\": title,\n",
    "            \"title_norm\": normalize(title),\n",
    "            \"text\": text,\n",
    "            \"text_norm\": normalize(text),\n",
    "        })\n",
    "    mr_index.setdefault(qnorm, []).append(rec)\n",
    "\n",
    "# 2) Map ke tiap baris tydiqa: tambahkan kolom hasil join\n",
    "def attach_mr_match(example):\n",
    "    qnorm = example.get(\"question_norm\") or \"\"\n",
    "    cands = mr_index.get(qnorm, [])\n",
    "\n",
    "    title_norm = normalize(example.get(\"document_title\") or \"\")\n",
    "    psg_norm   = normalize(example.get(\"passage_text\")   or \"\")\n",
    "\n",
    "    # default (tidak ketemu query_norm)\n",
    "    if not cands:\n",
    "        return {\n",
    "            \"mr_query_id\": None,\n",
    "            \"mr_docid\": None,\n",
    "            \"mr_title\": None,\n",
    "            \"mr_text\": None,\n",
    "            \"mr_negative_passages\": [],   # <- kolom yang kamu minta ikut dibawa\n",
    "            \"mr_query_norm_match\": False, # hanya query_norm?\n",
    "            \"mr_pos_match\": False,        # apakah positive_passages (title+text) match?\n",
    "        }\n",
    "\n",
    "    # ada kandidat dengan query_norm sama\n",
    "    # coba cari positive yang match (title & text)\n",
    "    for cand in cands:\n",
    "        for pos in cand[\"positives_norm\"]:\n",
    "            if pos[\"title_norm\"] == title_norm and pos[\"text_norm\"] == psg_norm:\n",
    "                return {\n",
    "                    \"mr_query_id\": cand[\"query_id\"],\n",
    "                    \"mr_docid\": pos[\"docid\"],\n",
    "                    \"mr_title\": pos[\"title\"],\n",
    "                    \"mr_text\": pos[\"text\"],\n",
    "                    \"mr_negative_passages\": cand[\"negative_passages_raw\"],  # ikutkan apa adanya\n",
    "                    \"mr_query_norm_match\": True,\n",
    "                    \"mr_pos_match\": True,\n",
    "                }\n",
    "\n",
    "    # tidak ada positive yang match; tetap pilih kandidat pertama agar negative_passages tetap terisi\n",
    "    cand0 = cands[0]\n",
    "    return {\n",
    "        \"mr_query_id\": cand0[\"query_id\"],\n",
    "        \"mr_docid\": None,\n",
    "        \"mr_title\": None,\n",
    "        \"mr_text\": None,\n",
    "        \"mr_negative_passages\": cand0[\"negative_passages_raw\"],\n",
    "        \"mr_query_norm_match\": True,\n",
    "        \"mr_pos_match\": False,\n",
    "    }\n",
    "\n",
    "# 3) Terapkan ke dataset tydiqa (tanpa menduplikasi baris)\n",
    "tydiqa_with_mr = tydiqa_gold_all_dupe_wo_bad_labels.map(\n",
    "    attach_mr_match,\n",
    "    batched=False,\n",
    "    load_from_cache_file=False,\n",
    ")\n",
    "\n",
    "# (opsional) ringkas hasil\n",
    "total = len(tydiqa_with_mr)\n",
    "qnorm_hits = sum(1 for b in tydiqa_with_mr[\"mr_query_norm_match\"] if b)\n",
    "pos_hits   = sum(1 for b in tydiqa_with_mr[\"mr_pos_match\"] if b)\n",
    "print(f\"Query-norm matched: {qnorm_hits}/{total}\")\n",
    "print(f\"Positive-passage fully matched (title+text): {pos_hits}/{total}\")\n",
    "\n",
    "# hasil akhirnya: tydiqa_with_mr punya kolom tambahan:\n",
    "# ['mr_query_id','mr_docid','mr_title','mr_text','mr_negative_passages','mr_query_norm_match','mr_pos_match']\n"
   ]
  },
  {
   "cell_type": "code",
   "execution_count": 23,
   "id": "8e53be28",
   "metadata": {},
   "outputs": [
    {
     "name": "stderr",
     "output_type": "stream",
     "text": [
      "Filter: 100%|██████████| 5928/5928 [00:01<00:00, 3485.28 examples/s]"
     ]
    },
    {
     "name": "stdout",
     "output_type": "stream",
     "text": [
      "Jumlah baris yang miss: 0\n"
     ]
    },
    {
     "name": "stderr",
     "output_type": "stream",
     "text": [
      "\n"
     ]
    }
   ],
   "source": [
    "tydi_miss = tydiqa_with_mr.filter(passage_miss_answer)\n",
    "\n",
    "print(f\"Jumlah baris yang miss: {len(tydi_miss)}\")"
   ]
  },
  {
   "cell_type": "markdown",
   "id": "78bb9d1d",
   "metadata": {},
   "source": [
    "Buang baris yang tidak nemu pasangan di mr_tydi_all"
   ]
  },
  {
   "cell_type": "code",
   "execution_count": 24,
   "id": "1be2cda8",
   "metadata": {},
   "outputs": [
    {
     "name": "stderr",
     "output_type": "stream",
     "text": [
      "Filter: 100%|██████████| 5928/5928 [00:01<00:00, 3489.71 examples/s]\n"
     ]
    },
    {
     "name": "stdout",
     "output_type": "stream",
     "text": [
      "Jumlah orphan: 16\n"
     ]
    },
    {
     "name": "stderr",
     "output_type": "stream",
     "text": [
      "Filter: 100%|██████████| 5928/5928 [00:01<00:00, 3577.80 examples/s]"
     ]
    },
    {
     "name": "stdout",
     "output_type": "stream",
     "text": [
      "Sekarang tydiqa_with_mr berisi 5912 baris (orphan sudah dihapus).\n"
     ]
    },
    {
     "name": "stderr",
     "output_type": "stream",
     "text": [
      "\n"
     ]
    }
   ],
   "source": [
    "import pandas as pd\n",
    "\n",
    "# 1) ambil orphan (tidak ada pasangan query_norm di mr_tydi_all)\n",
    "orphans = tydiqa_with_mr.filter(lambda ex: not ex[\"mr_query_norm_match\"])\n",
    "print(f\"Jumlah orphan: {len(orphans)}\")\n",
    "\n",
    "# # convert ke pandas biar bisa dicek/ekspor\n",
    "# orphans_df = orphans.to_pandas()\n",
    "# orphans_df.to_excel(\"tydiqa_orphans.xlsx\", index=False)\n",
    "# print(\"File tydiqa_orphans.xlsx berhasil dibuat.\")\n",
    "\n",
    "# 2) buang orphan dari dataset utama\n",
    "tydiqa_with_mr = tydiqa_with_mr.filter(lambda ex: ex[\"mr_query_norm_match\"])\n",
    "print(f\"Sekarang tydiqa_with_mr berisi {len(tydiqa_with_mr)} baris (orphan sudah dihapus).\")"
   ]
  },
  {
   "cell_type": "markdown",
   "id": "12b9e578",
   "metadata": {},
   "source": [
    "Inspeksi lebih dalam terkait teks passage"
   ]
  },
  {
   "cell_type": "code",
   "execution_count": null,
   "id": "1c2795f5",
   "metadata": {},
   "outputs": [
    {
     "name": "stderr",
     "output_type": "stream",
     "text": [
      "Filter: 100%|██████████| 5908/5908 [00:02<00:00, 2847.97 examples/s]"
     ]
    },
    {
     "name": "stdout",
     "output_type": "stream",
     "text": [
      "Baris yang mengandung 'jmpl|': 0\n",
      "Tidak ada 'jmpl|' yang ditemukan. Ambil 5 sampel acak untuk inspeksi manual.\n",
      "id: -4133709973186485101-1\n",
      "question_stem: kapan raja sriwijaya diri\n",
      "document_title: Sriwijaya\n",
      "passage_text (snippet): Bukti awal mengenai keberadaan kerajaan ini berasal dari abad ke-7; seorang pendeta Tiongkok dari Dinasti Tang, I Tsing, menulis bahwa ia mengunjungi Sriwijaya tahun 671 dan tinggal selama 6 bulan. Selanjutnya prasasti yang paling tua mengenai Sriwijaya juga berada pada abad ke-7, yaitu prasasti Kedukan Bukit di Palembang, bertarikh 682. ...\n",
      "--------------------------------------------------------------------------------\n",
      "id: 3098224921792818706-0\n",
      "question_stem: siapa nama pimpin dalam gereja\n",
      "document_title: Paus (Gereja Katolik)\n",
      "passage_text (snippet): Paus (dari Dutch: paus; Latin: papa dari Greek: πάππας pappas, \"ayah\") adalah Uskup Roma dan pemimpin Gereja Katolik di seluruh dunia. Keutamaan Uskup Roma sebagian besar berasal dari peranannya dalam tradisi sebagai penerus Santo Petrus, kepada siapa Yesus memberikan kunci Surga dan kuasa untuk \"mengikat dan melepaskan\" serta menyebutnya sebagai \"batu karang\" yang di atasnya Gereja kemudian diban ...\n",
      "--------------------------------------------------------------------------------\n",
      "id: 4767658594182879697-29\n",
      "question_stem: tahun berapa gereja katolik siro-malankara bangun\n",
      "document_title: Gereja-Gereja Katolik Timur\n",
      "passage_text (snippet): Gedung Gereja Katolik-Yunani berukuran kecil beserta menara loncengnya di desa Sielec, Drohobych Raion dari abad ke-17, dibangun dalam gaya arsitektur yang lazim di daerah itu Sebagian besar Gereja Katolik Timur muncul karena ada sekelompok umat dalam Gereja Kristen Ortodoks yang berselisih paham dengan Roma memilih untuk masuk dalam persekutuan paripurna dengan tahta keuskupan Roma. Meskipun demi ...\n",
      "--------------------------------------------------------------------------------\n",
      "id: -1054527605839953677-1\n",
      "question_stem: apa arti kata tarekat\n",
      "document_title: Tarekat\n",
      "passage_text (snippet): Tarekat (Bahasa Arab: طرق, transliterasi: Tariqah) berarti \"jalan\" atau \"metode\", dan mengacu pada aliran kegamaan tasawuf atau sufisme dalam Islam. Ia secara konseptual terkait dengan ḥaqīqah atau \"kebenaran sejati\", yaitu cita-cita ideal yang ingin dicapai oleh para pelaku aliran tersebut. Seorang penuntut ilmu agama akan memulai pendekatannya dengan mempelajari hukum Islam, yaitu praktik eksote ...\n",
      "--------------------------------------------------------------------------------\n",
      "id: -2048179785790065744-1\n",
      "question_stem: siapa nama ibu don juan de austria\n",
      "document_title: Don Juan de Austria\n",
      "passage_text (snippet): Don Juan de Austria, yang lahir di Kota Swapraja Regensburg, Oberpfalz, adalah anak hasil hubungan gelap antara Kaisar Romawi Suci, Carlos V (menduda semenjak 1539), dan Barbara Blomberg, seorang biduanita, anak perempuan seorang burger (saudagar). ...\n",
      "--------------------------------------------------------------------------------\n"
     ]
    },
    {
     "name": "stderr",
     "output_type": "stream",
     "text": [
      "\n"
     ]
    }
   ],
   "source": [
    "import re\n",
    "import pandas as pd\n",
    "from datasets import Dataset\n",
    "\n",
    "# pola 'jmpl|' toleran spasi & case-insensitive\n",
    "JMPL_RE = re.compile(r\"jmpl\\s*\\|\", flags=re.IGNORECASE)\n",
    "\n",
    "# 1) ambil baris yang mengandung 'jmpl|'\n",
    "def has_jmpl(example):\n",
    "    txt = example.get(\"passage_text\") or \"\"\n",
    "    return bool(JMPL_RE.search(txt))\n",
    "\n",
    "jmpl_ds =  tydiqa_with_mr.filter(has_jmpl)\n",
    "print(f\"Baris yang mengandung 'jmpl|': {len(jmpl_ds)}\")\n",
    "\n",
    "# 2) tampilkan sampai 5 contoh (ke layar)\n",
    "n_show = min(5, len(jmpl_ds))\n",
    "if n_show > 0:\n",
    "    print(\"\\n=== Contoh passage dengan 'jmpl|' (maks 5) ===\")\n",
    "    for r in jmpl_ds.select(range(n_show)):\n",
    "        print(f\"id: {r.get('id')}\")\n",
    "        print(f\"question_stem: {r.get('question_stem')}\")\n",
    "        print(f\"document_title: {r.get('document_title')}\")\n",
    "        # tampilkan potongan teks agar mudah dibaca\n",
    "        psg = (r.get('passage_text') or \"\").replace(\"\\n\", \" \")\n",
    "        print(\"passage_text (snippet):\", psg[:400], \"...\")\n",
    "        print(\"-\" * 80)\n",
    "else:\n",
    "    print(\"Tidak ada 'jmpl|' yang ditemukan. Ambil 5 sampel acak untuk inspeksi manual.\")\n",
    "    n_show = min(5, len(tydiqa_with_mr))\n",
    "    for r in tydiqa_with_mr.shuffle(seed=42).select(range(n_show)):\n",
    "        print(f\"id: {r.get('id')}\")\n",
    "        print(f\"question_stem: {r.get('question_stem')}\")\n",
    "        print(f\"document_title: {r.get('document_title')}\")\n",
    "        psg = (r.get('passage_text') or \"\").replace(\"\\n\", \" \")\n",
    "        print(\"passage_text (snippet):\", psg[:400], \"...\")\n",
    "        print(\"-\" * 80)\n",
    "\n",
    "# 3) simpan ke Excel untuk inspeksi lebih nyaman\n",
    "#    - jika ada 'jmpl|', simpan contoh baris tersebut (maks 200 baris agar ringan)\n",
    "#    - kalau tidak ada, simpan 200 sampel acak\n",
    "# if len(jmpl_ds) > 0:\n",
    "#     out_df = jmpl_ds.select(range(min(200, len(jmpl_ds)))).to_pandas()\n",
    "#     out_path = \"tydiqa_passages_with_jmpl.xlsx\"\n",
    "# else:\n",
    "#     out_df = tydiqa_with_mr.shuffle(seed=42).select(range(min(200, len(tydiqa_with_mr)))).to_pandas()\n",
    "#     out_path = \"tydiqa_passages_sample.xlsx\"\n",
    "\n",
    "# out_df.to_excel(out_path, index=False)\n",
    "# print(f\"Disimpan ke: {out_path}\")\n"
   ]
  },
  {
   "cell_type": "code",
   "execution_count": null,
   "id": "649571b1",
   "metadata": {},
   "outputs": [
    {
     "name": "stderr",
     "output_type": "stream",
     "text": [
      "Saving the dataset (1/1 shards): 100%|██████████| 5912/5912 [00:00<00:00, 23094.95 examples/s]\n"
     ]
    }
   ],
   "source": [
    "\"\"\"\n",
    "Sampai tahap ini, sudah dilakukan:\n",
    "1. Penggabungan split TyDi QA\n",
    "2. Normalisasi dan stemming question\n",
    "3. Penghapusan duplikasi\n",
    "\n",
    "4. Mengisi psg positif dari split dev dan test Mr. TyDi\n",
    "5. Penggabungan split Mr. TyDi\n",
    "6. Normalisasi dan stemming question Mr. TyDi\n",
    "\n",
    "7. Join TyDi QA dengan Mr. TyDi\n",
    "\"\"\"\n",
    "tydiqa_with_mr.save_to_disk(\"tydiqa_with_mr\")"
   ]
  },
  {
   "cell_type": "code",
   "execution_count": null,
   "id": "81865f92",
   "metadata": {},
   "outputs": [
    {
     "data": {
      "text/plain": [
       "Dataset({\n",
       "    features: ['id', 'document_title', 'passage_text', 'query', 'question_norm', 'question_stem', 'answer', 'mr_query_id', 'mr_docid', 'mr_title', 'mr_text', 'mr_negative_passages', 'mr_query_norm_match', 'mr_pos_match'],\n",
       "    num_rows: 5912\n",
       "})"
      ]
     },
     "execution_count": 30,
     "metadata": {},
     "output_type": "execute_result"
    }
   ],
   "source": [
    "from datasets import load_from_disk\n",
    "tydiqa_with_mr = load_from_disk(\"tydiqa_with_mr\")\n",
    "tydiqa_with_mr"
   ]
  },
  {
   "cell_type": "markdown",
   "id": "9da5f62f",
   "metadata": {},
   "source": [
    "memperbaiki pasangan query dan answer"
   ]
  },
  {
   "cell_type": "code",
   "execution_count": 26,
   "id": "ef9b86b9",
   "metadata": {},
   "outputs": [],
   "source": [
    "rows_to_update = [\n",
    "    {\n",
    "        \"q_to_find\": \"dimanakah Dr. Ernest François Eugène Douwes Dekker meninggal?\", \n",
    "        \"new_answer\" : \"TMP Cikutra, Bandung\",\n",
    "    }, \n",
    "    {\n",
    "        \"q_to_find\": \"Dimanakah Kucing Pallas pertama kali ditemukan ?\", \n",
    "        \"new_answer\": \"Asia Tengah wilayah Mongolia, Cina dan Dataran Tinggi Tibet\",\n",
    "    }, \n",
    "    {\n",
    "        \"q_to_find\": \"dimanakah Joseph Patrick \\\"Joe\\\" Kennedy dilahirkan?\", \n",
    "        \"new_q\" : \"Kapan Joseph Patrick \\\"Joe\\\" Kennedy dilahirkan?\",\n",
    "        \"new_answer\" : \"1888\",\n",
    "    }, \n",
    "    {\n",
    "        \"q_to_find\": \"Dimanakah produksi film pertama dilakukan ?\", \n",
    "        \"new_q\" : \"Kapan pemutaran film pertama dilakukan ?\",\n",
    "    }, \n",
    "    {\n",
    "        \"q_to_find\": \"dimanakah Fiber optik pertama kali diciptakan?\", \n",
    "        \"new_q\" : \"Kapan film mulai diproduksi menggunakan videotape?\",\n",
    "    }, \n",
    "    {\n",
    "        \"q_to_find\": \"Dimana Muhammad bin ʿAbd al-Wahhāb dilahirkan?\", \n",
    "        \"new_answer\" : \"kampung Uyainah (Najd)\",\n",
    "    }, \n",
    "    {\n",
    "        \"q_to_find\": \"Dimanakah balap sepeda professional Eropa pertama diadakan ?\", \n",
    "        \"new_q\" : \"Sejak kapan Tour of Flanders diadakan?\",\n",
    "    }, \n",
    "    {\n",
    "        \"q_to_find\": \"Dimana Benito Mussolini meninggal ?\", \n",
    "        \"new_answer\" : \"Giulino di Mezzegra\",\n",
    "    }, \n",
    "    {\n",
    "        \"q_to_find\": \"dimanakah kanon Muratori ditemukan?\", \n",
    "        \"new_q\" : \"Kapan Papirus 46 diperkirakan dibuat?\",\n",
    "    }, \n",
    "    {\n",
    "        \"q_to_find\": \"Dimana Friedrich Nietzsche meninggal?\", \n",
    "        \"new_q\" : \"Kapan Friedrich Nietzsche meninggal?\",\n",
    "    }, \n",
    "    {\n",
    "        \"q_to_find\": \"Dimana al-Ikhshīd lahir ?\", \n",
    "        \"new_answer\" : \"Baghdad\",\n",
    "    }, \n",
    "    {\n",
    "        \"q_to_find\": \"Dimana Pangeran Xia meninggal?\", \n",
    "        \"new_q\" : \"Pada tahun berapa Dou Jiande meninggal?\",\n",
    "    }, \n",
    "    {\n",
    "        \"q_to_find\": \"Dimana Robert I Estienne lahir?\", \n",
    "        \"new_q\" : \"Kapankah Robert I Estienne lahir?\",\n",
    "    }, \n",
    "    {\n",
    "        \"q_to_find\": \"Dimana Paus Yohanes XXIII meninggal?\", \n",
    "        \"new_q\" : \"Kapan Paus Yohanes XXIII meninggal?\",\n",
    "    }, \n",
    "    {\n",
    "        \"q_to_find\": \"dimanakah Napoleon meninggal?\", \n",
    "        \"new_q\" : \"Tanggal berapa Napoleon meninggal?\",\n",
    "    }, \n",
    "    {\n",
    "        \"q_to_find\": \"Kapan Utsmani berdiri ?\", \n",
    "        \"new_answer\" : \"1299\",\n",
    "    }, \n",
    "    {\n",
    "        \"q_to_find\": \"Kapan CIA dibentuk ?\", \n",
    "        \"new_q\" : \"Apa itu CIA?\",\n",
    "    }, \n",
    "    {\n",
    "        \"q_to_find\": \"kapankah Radio pertama kali diciptakan?\", \n",
    "        \"new_q\" : \"Siapa pencipta radio?\",\n",
    "    }, \n",
    "    {\n",
    "        \"q_to_find\": \"Kapan Mariah lahir ?\", \n",
    "        \"new_answer\" : \"27 Maret 1970\",\n",
    "    }, \n",
    "    {\n",
    "        \"q_to_find\": \"Kapan Kekaisaran Romawi mengalami masa jaya?\", \n",
    "        \"new_answer\" : \"Dua abad pertama kekaisaran\",\n",
    "    }, \n",
    "    {\n",
    "        \"q_to_find\": \"kapankah provinsi Sulawesi Barat diresmikan?\", \n",
    "        \"new_q\" : \"Berapa luas provinsi Sulawesi Barat?\",\n",
    "    }, \n",
    "    {\n",
    "        \"q_to_find\": \"Kapan Gereja Asiria Timur didirikan?\", \n",
    "        \"new_q\" : \"Siapa yang mendirikan Gereja Asiria Timur?\",\n",
    "    }, \n",
    "    {\n",
    "        \"q_to_find\": \"kapankah Windows XP pertama kali diciptakan?\", \n",
    "        \"new_q\" : \"kapankah Windows XP pertama kali dirilis?\",\n",
    "        \"new_answer\" : \"25 Oktober 2001\",\n",
    "    }, \n",
    "    {\n",
    "        \"q_to_find\": \"Kapan musik rock pertama kali masuk ke Indonesia?\", \n",
    "        \"new_q\" : \"Siapa yang dipercaya lebih dulu memperkenalkan musik beraliran rock?\",\n",
    "    }, \n",
    "    {\n",
    "        \"q_to_find\": \"Kapan Sayf Allāh al-Maslūl lahir ?\", \n",
    "        \"new_answer\" : \"585\",\n",
    "    }, \n",
    "    {\n",
    "        \"q_to_find\": \"Kapan Katherine Anne lahir ?\", \n",
    "        \"new_q\" : \"Dimana Katie Couric lahir?\",\n",
    "    }, \n",
    "    {\n",
    "        \"q_to_find\": \"kapankah ilmu kimia dipelajari oleh manusia?\", \n",
    "        \"new_q\" : \"Reaksi kimia apa yang sudah diketahui sejak dahulu kala?\",\n",
    "        \"new_answer\" : \"pembakaran, fermentasi, dan reduksi dari bijih menjadi logam\",\n",
    "    }, \n",
    "    {\n",
    "        \"q_to_find\": \"Kapan Ernest Miller Hemingway pertama kali menulis novel?\", \n",
    "        \"new_q\" : \"Apa judul buku pertama Ernest Hemingway yang diterbitkan?\",\n",
    "    }, \n",
    "    {\n",
    "        \"q_to_find\": \"Kapankah Kesultanan Utsmaniyah berdiri ?\", \n",
    "        \"new_answer\" : \"1299\",\n",
    "    }, \n",
    "    {\n",
    "        \"q_to_find\": \"Berapa luas wilayah kekuasan Romawi pada zaman dahulu ?\", \n",
    "        \"new_q\" : \"Kekaisaran Romawi menguasai daerah sekitar apa?\",\n",
    "    }, \n",
    "    {\n",
    "        \"q_to_find\": \"Berapa luas kekuasaan Kerajaan Sriwijaya?\", \n",
    "        \"new_q\" : \"Wilayah mana saja yang dikuasai oleh Sriwijaya?\",\n",
    "    }, \n",
    "    {\n",
    "        \"q_to_find\": \"Berapa luas kekuasaan kerajaan Banjar?\", \n",
    "        \"new_q\" : \"Apa nama kerajaan pertama di Kalimantan bagian selatan menurut mitologi\",\n",
    "        \"new_answer\" : \"Kerajaan Nan Sarunai\",\n",
    "    }, \n",
    "    {\n",
    "        \"q_to_find\": \"berapakah jumlah album Tantowi Yahya?\", \n",
    "        \"new_q\" : \"Apa album kedua Tantowi Yahya?\",\n",
    "        \"new_answer\" : \"Southern Dreams\",\n",
    "    }, \n",
    "    {\n",
    "        \"q_to_find\": \"Berapa luas kekuasaan dinasti Utsmaniyah ?\", \n",
    "        \"new_q\" : \"Kesultanan Utsmaniyah berkuasa atas wilayah luas di mana?\",\n",
    "    }, \n",
    "    {\n",
    "        \"q_to_find\": \"berapakah jenis senjata mesin yang digunakan di PD II?\", \n",
    "        \"new_q\" : \"Senapan apa yang digunakan di banyak negara Persemakmuran Inggris pasca perang dunia II?\",\n",
    "        \"new_answer\" : \"Bren\",\n",
    "    }, \n",
    "    {\n",
    "        \"q_to_find\": \"Berapa luas daerah kekuasan Turki Seljuk ?\", \n",
    "        \"new_q\" : \"Sejauh mana luas daerah kekuasan Turki Seljuk ?\",\n",
    "    }, \n",
    "    {\n",
    "        \"q_to_find\": \"Berapa luas kerajaan Banjar?\", \n",
    "        \"new_q\" : \"Sejauh mana luas kerajaan Banjar?\",\n",
    "    }, \n",
    "    {\n",
    "        \"q_to_find\": \"Berapa luas wilayah kekaisaran Romawi?\", \n",
    "        \"new_q\" : \"Di wilayah mana saja Kekaisaran Romawi berkuasa?\",\n",
    "    }, \n",
    "    {\n",
    "        \"q_to_find\": \"Berapa luas kekuasaan Kesultanan Utsmaniyah?\", \n",
    "        \"new_q\" : \"Di daerah mana kekuasaaan Kesultanan Utsmaniyah?\",\n",
    "    }, \n",
    "    {\n",
    "        \"q_to_find\": \"Siapakah yang mendirikan Sekolah Tinggi Agama Islam Balai Selasa?\", \n",
    "        \"new_answer\" : \"M. Dinar Moely dibantu Sekretaris Muchtar Komar dan Bendahara Ny. Martini\",\n",
    "    }, \n",
    "    {\n",
    "        \"q_to_find\": \"Siapakah yang menemukan alarm pertama kali ?\", \n",
    "        \"new_passage_text\" : \"Alarm | Awalnya, penemuan baterai pada tahun 1799 dan telegraf pada tahun 1841 secara umum mengubah dunia dan menginspirasi para penyuka hobi, ahli listrik dan ilmuwan yang ada di seluruh dunia untuk melihat dan memperdalam ilmu komunikasi. Tidak lama setelah telegraf diperkenalkan, seorang dokter muda yang kaya bernama William Channing membuat sebuah sistem dari pemerintah untuk menyalurkan sinyal alarm kebakaran kepada stasiun pemadam kebakaran yang ada di sekeliling kota Boston, Amerika Serikat. Menggunakan morse yang ditemukan oleh Samuel Morse dalam sistem telegram yang memadukan kode dengan teknologi, Channing membuat rencana elaborasi untuk menyalurkan sinyal dari pusat sistem pemerintah menuju stasiun pemadam kebakaran untuk memberitahu titik lokasi terjadinya kebakaran. Rencana Channing memiliki masalah karena besar bunyi alarm tidak dapat dikendalikan dari stasiun pemadam kebakaran.\"\"\"\n",
    "    }, \n",
    "    {\n",
    "        \"q_to_find\": \"Siapakah yang menemukan kamera?\", \n",
    "        \"new_q\" : \"Pada tahun berapa foto pertama di dunia dihasilkan?\",\n",
    "    }, \n",
    "    {\n",
    "        \"q_to_find\": \"apakah penyebab Uni Soviet dibubarkan?\", \n",
    "        \"new_answer\" : \"kebijakan glasnost dan perestroika, tetapi justru memicu perpecahan di Uni Soviet\",\n",
    "    }, \n",
    "    {\n",
    "        \"q_to_find\": \"apakah penyebab utama kematian Fidiricu II?\", \n",
    "        \"new_q\" : \"Kapan wafatnya Fidiricu II?\",\n",
    "    }, \n",
    "    {\n",
    "        \"q_to_find\": \"Apakah penyebab utama Dinasti Ayyubiyyah runtuh?\", \n",
    "        \"new_q\" : \"Perjanjian antara Mamluk dan Ayyubiyah ditandatangani kapan?\",\n",
    "    }, \n",
    "    {\n",
    "        \"q_to_find\": \"Apakah kepanjangan dari DNA?\", \n",
    "        \"new_answer\" : \"deoxyribonucleic acid\",\n",
    "    }, \n",
    "    {\n",
    "        \"q_to_find\": \"Di hari apakah Amstel Gold Race diadakan pertama kali?\",\n",
    "        \"new_q\" : \"Kapan Amstel Gold Race mulai tercatat dalam kalender resmi UCI?\",\n",
    "    }, \n",
    "    {\n",
    "        \"q_to_find\": \"Mengapa Kerajaan Joseon berakhir?\", \n",
    "        \"new_q\" : \"Kapan Kerajaan Joseon berakhir?\",\n",
    "    }, \n",
    "    {\n",
    "        \"q_to_find\": \"Dimana Gianfranco Chiarini belajar memasak?\", \n",
    "        \"new_answer\" : \"Instituto de Alta Gastronomia de Caracas\",\n",
    "    }, \n",
    "    {\n",
    "        \"q_to_find\": \"Apa penyebab utama runtuhnya kekaisaran Bizantium ?\", \n",
    "        \"new_answer\" : \"Perang Salib Keempat tahun 1204, ketika kekaisaran ini dibubarkan secara paksa\",\n",
    "    }, \n",
    "    {\n",
    "        \"q_to_find\": \"Apakah film pertama Alexa Ellesse Vega?\", \n",
    "        \"new_answer\" : \"Twister\",\n",
    "    }, \n",
    "    {\n",
    "        \"q_to_find\": \"kapankah Bebop mulai dipopulerkan?\", \n",
    "        \"new_q\" : \"Kapan genre musik hip hop mulai muncul di Amerika Serikat?\",\n",
    "    }, \n",
    "    {\n",
    "        \"q_to_find\": \"Apa definisi dari endokrinolog?\", \n",
    "        \"new_q\" : \"Apa definisi dari endokrinologi?\",\n",
    "    }, \n",
    "    {\n",
    "        \"q_to_find\": \"Berapa berat Mesin kepung?\", \n",
    "        \"new_q\" : \"Hingga berapa berat mesin kepung besar\",\n",
    "    }\n",
    "]"
   ]
  },
  {
   "cell_type": "code",
   "execution_count": 27,
   "id": "cb745fd8",
   "metadata": {},
   "outputs": [
    {
     "name": "stderr",
     "output_type": "stream",
     "text": [
      "Map: 100%|██████████| 5912/5912 [00:01<00:00, 4613.66 examples/s]\n"
     ]
    },
    {
     "name": "stdout",
     "output_type": "stream",
     "text": [
      "Baris yang diupdate: 53\n"
     ]
    }
   ],
   "source": [
    "from typing import List, Dict, Any\n",
    "\n",
    "def apply_rows_updates(\n",
    "    ds,\n",
    "    rows_to_update: List[Dict[str, Any]],\n",
    "    lowercase_norm: bool = True,\n",
    "):\n",
    "    \"\"\"\n",
    "    Terapkan banyak update berdasarkan q_to_find (dicocokkan via question_norm).\n",
    "    Setiap item bisa berisi beberapa field opsional:\n",
    "      {\n",
    "        \"q_to_find\": str,               # WAJIB (akan dinormalisasi)\n",
    "        \"new_q\": Optional[str],         # ubah query (+ regen question_norm & question_stem)\n",
    "        \"new_answer\": Optional[str|list[str]],  # ubah kolom 'answer' (list[str]); sinkronkan answers['text'] jika ada\n",
    "        \"new_passage_text\": Optional[str],      # ubah passage_text\n",
    "      }\n",
    "    \"\"\"\n",
    "    # Precompute mapping: find_norm -> payload perubahan\n",
    "    fix_map = {}\n",
    "    for row in rows_to_update:\n",
    "        q_raw = row[\"q_to_find\"]\n",
    "        find_norm = normalize(q_raw, lowercase=lowercase_norm)\n",
    "        payload = {}\n",
    "\n",
    "        # new_q\n",
    "        if \"new_q\" in row and row[\"new_q\"] is not None:\n",
    "            new_q = str(row[\"new_q\"])\n",
    "            new_norm = normalize(new_q, lowercase=lowercase_norm)\n",
    "            new_stem = stemmer.stem(new_norm)\n",
    "            payload.update({\n",
    "                \"new_q\": new_q,\n",
    "                \"new_norm\": new_norm,\n",
    "                \"new_stem\": new_stem,\n",
    "            })\n",
    "\n",
    "        # new_answer\n",
    "        if \"new_answer\" in row and row[\"new_answer\"] is not None:\n",
    "            na = row[\"new_answer\"]\n",
    "            if isinstance(na, (list, tuple)):\n",
    "                new_answer = [str(x) for x in na]\n",
    "            else:\n",
    "                new_answer = [str(na)]\n",
    "            payload[\"new_answer\"] = new_answer\n",
    "\n",
    "        # new_passage_text\n",
    "        if \"new_passage_text\" in row and row[\"new_passage_text\"] is not None:\n",
    "            payload[\"new_passage_text\"] = str(row[\"new_passage_text\"])\n",
    "\n",
    "        # Gabungkan jika ada beberapa entry dengan q_to_find sama (yang terakhir override)\n",
    "        fix_map[find_norm] = payload\n",
    "\n",
    "    # Flag baris yang kena perubahan dan terapkan\n",
    "    def _apply(batch):\n",
    "        qnorms = batch[\"question_norm\"]\n",
    "        has_answer_col = \"answer\" in batch\n",
    "        has_answers_dict = \"answers\" in batch\n",
    "\n",
    "        # siapkan output default (copy)\n",
    "        out_query         = list(batch[\"question\"])\n",
    "        out_question_norm = list(batch[\"question_norm\"])\n",
    "        out_question_stem = list(batch[\"question_stem\"])\n",
    "        out_answer        = list(batch[\"answer\"]) if has_answer_col else None\n",
    "        out_answers_dict  = list(batch[\"answers\"]) if has_answers_dict else None\n",
    "        out_passage_text  = list(batch[\"passage_text\"]) if \"passage_text\" in batch else None\n",
    "\n",
    "        touched = [False] * len(qnorms)\n",
    "\n",
    "        for i, qn in enumerate(qnorms):\n",
    "            if qn not in fix_map:\n",
    "                continue\n",
    "            payload = fix_map[qn]\n",
    "            touched[i] = True\n",
    "\n",
    "            # update query (+norm+stem)\n",
    "            if \"new_q\" in payload:\n",
    "                out_query[i]         = payload[\"new_q\"]\n",
    "                out_question_norm[i] = payload[\"new_norm\"]\n",
    "                out_question_stem[i] = payload[\"new_stem\"]\n",
    "\n",
    "            # update answer (+sinkron answers['text'] jika ada)\n",
    "            if has_answer_col and \"new_answer\" in payload:\n",
    "                out_answer[i] = payload[\"new_answer\"]\n",
    "                if has_answers_dict:\n",
    "                    curr = dict(out_answers_dict[i]) if out_answers_dict[i] is not None else {}\n",
    "                    curr[\"text\"] = payload[\"new_answer\"]\n",
    "                    out_answers_dict[i] = curr\n",
    "\n",
    "            # update passage_text\n",
    "            if out_passage_text is not None and \"new_passage_text\" in payload:\n",
    "                out_passage_text[i] = payload[\"new_passage_text\"]\n",
    "\n",
    "        out = {\n",
    "            \"query\": out_query,\n",
    "            \"question_norm\": out_question_norm,\n",
    "            \"question_stem\": out_question_stem,\n",
    "        }\n",
    "        if has_answer_col:\n",
    "            out[\"answer\"] = out_answer\n",
    "        if has_answers_dict:\n",
    "            out[\"answers\"] = out_answers_dict\n",
    "        if out_passage_text is not None:\n",
    "            out[\"passage_text\"] = out_passage_text\n",
    "\n",
    "        # untuk ringkasan\n",
    "        out[\"_touched\"] = touched\n",
    "        return out\n",
    "\n",
    "    updated = ds.map(_apply, batched=True, load_from_cache_file=False)\n",
    "    touched_count = sum(1 for x in updated[\"_touched\"] if x)\n",
    "    print(f\"Baris yang diupdate: {touched_count}\")\n",
    "\n",
    "    if \"_touched\" in updated.column_names:\n",
    "        updated = updated.remove_columns([\"_touched\"])\n",
    "\n",
    "    return updated\n",
    "\n",
    "# Terapkan\n",
    "tydiqa_with_mr = apply_rows_updates(tydiqa_with_mr, rows_to_update, lowercase_norm=True)"
   ]
  },
  {
   "cell_type": "code",
   "execution_count": 28,
   "id": "b34a3794",
   "metadata": {},
   "outputs": [
    {
     "name": "stderr",
     "output_type": "stream",
     "text": [
      "Filter: 100%|██████████| 5912/5912 [00:01<00:00, 3274.20 examples/s]"
     ]
    },
    {
     "name": "stdout",
     "output_type": "stream",
     "text": [
      "Jumlah baris yang miss: 1\n"
     ]
    },
    {
     "name": "stderr",
     "output_type": "stream",
     "text": [
      "\n"
     ]
    }
   ],
   "source": [
    "tydi_miss = tydiqa_with_mr.filter(passage_miss_answer)\n",
    "\n",
    "print(f\"Jumlah baris yang miss: {len(tydi_miss)}\")"
   ]
  },
  {
   "cell_type": "code",
   "execution_count": 30,
   "id": "c3c8dc7e",
   "metadata": {},
   "outputs": [
    {
     "data": {
      "text/plain": [
       "{'id': '-5975665470374026550-0',\n",
       " 'document_title': 'Asam deoksiribonukleat',\n",
       " 'passage_text': '\\n\\nAsam deoksiribonukleat, lebih dikenal dengan singkatan DNA (bahasa Inggris: d</b>eoxyribo<b data-parsoid=\\'{\"dsr\":[417,424,3,3]}\\'>n</b>ucleic a</b>cid), adalah sejenis biomolekul yang menyimpan dan menyandi instruksi-instruksi genetika setiap organisme dan banyak jenis virus. Instruksi-instruksi genetika ini berperan penting dalam pertumbuhan, perkembangan, dan fungsi organisme dan virus. DNA merupakan asam nukleat; bersamaan dengan protein dan karbohidrat, asam nukleat adalah makromolekul esensial bagi seluruh makhluk hidup yang diketahui. Kebanyakan molekul DNA terdiri dari dua unting biopolimer yang berpilin satu sama lainnya membentuk heliks ganda. Dua unting DNA ini dikenal sebagai polinukleotida karena keduanya terdiri dari satuan-satuan molekul yang disebut nukleotida. Tiap-tiap nukleotida terdiri atas salah satu jenis basa nitrogen (guanina (G), adenina (A), timina (T), atau sitosina (C)), gula monosakarida yang disebut deoksiribosa, dan gugus fosfat. Nukleotida-nukelotida ini kemudian tersambung dalam satu rantai ikatan kovalen antara gula satu nukleotida dengan fosfat nukelotida lainnya. Hasilnya adalah rantai punggung gula-fosfat yang berselang-seling. Menurut kaidah pasangan basa (A dengan T dan C dengan G), ikatan hidrogen mengikat basa-basa dari kedua unting polinukleotida membentuk DNA unting ganda',\n",
       " 'question': 'Apakah kepanjangan dari DNA?',\n",
       " 'question_norm': 'apakah kepanjangan dari dna?',\n",
       " 'question_stem': 'apa panjang dari dna',\n",
       " 'answer': ['deoxyribonucleic acid'],\n",
       " 'mr_query_id': '2369',\n",
       " 'mr_docid': '1#0',\n",
       " 'mr_title': 'Asam deoksiribonukleat',\n",
       " 'mr_text': 'Asam deoksiribonukleat, lebih dikenal dengan singkatan DNA (bahasa Inggris: d</b>eoxyribo<b data-parsoid=\\'{\"dsr\":[417,424,3,3]}\\'>n</b>ucleic a</b>cid), adalah sejenis biomolekul yang menyimpan dan menyandi instruksi-instruksi genetika setiap organisme dan banyak jenis virus. Instruksi-instruksi genetika ini berperan penting dalam pertumbuhan, perkembangan, dan fungsi organisme dan virus. DNA merupakan asam nukleat; bersamaan dengan protein dan karbohidrat, asam nukleat adalah makromolekul esensial bagi seluruh makhluk hidup yang diketahui. Kebanyakan molekul DNA terdiri dari dua unting biopolimer yang berpilin satu sama lainnya membentuk heliks ganda. Dua unting DNA ini dikenal sebagai polinukleotida karena keduanya terdiri dari satuan-satuan molekul yang disebut nukleotida. Tiap-tiap nukleotida terdiri atas salah satu jenis basa nitrogen (guanina (G), adenina (A), timina (T), atau sitosina (C)), gula monosakarida yang disebut deoksiribosa, dan gugus fosfat. Nukleotida-nukelotida ini kemudian tersambung dalam satu rantai ikatan kovalen antara gula satu nukleotida dengan fosfat nukelotida lainnya. Hasilnya adalah rantai punggung gula-fosfat yang berselang-seling. Menurut kaidah pasangan basa (A dengan T dan C dengan G), ikatan hidrogen mengikat basa-basa dari kedua unting polinukleotida membentuk DNA unting ganda',\n",
       " 'mr_negative_passages': [{'docid': '518985#1',\n",
       "   'text': 'Pada akhir 1960-an, ilmuwan Stewart Linn dan Werner Arber mengisolasi dua contoh enzim yang berperan dalam menghambat pertumbuhan bakteriofag yang menyerang E. coli.[3] Salah satu enzim bekerja memetilasi DNA, sedangkan enzim yang satunya bekerja memotong DNA yang tidak termetilasi pada beberapa lokasi di sepanjang molekul DNA.[3] Enzim yang pertama disebut metilase (methylase), sedangkan enzim yang satunya disebut nuklease restriksi (restriction nuclease).[3] Kemudian pada tahun 1968, H.O. Smith, K.W. Wilcox, dan T.J. Kelley, yang bekerja di Johns Hopkins University, mengisolasi dan mengkarakterisasi enzim nuklease restriksi pertama.[3] Enzim ini berasal dari bakteri Haemophilus influenzae, dan diberi nama HindII.[3] Enzim ini selalu memotong molekul DNA pada sekuen spesifik dengan panjang situs pengenalan enam pasang basa.[3]',\n",
       "   'title': 'Enzim restriksi'},\n",
       "  {'docid': '370945#10',\n",
       "   'text': 'Gen terbuat dari DNA, yakni molekul panjang yang membawa informasi. Informasi ini disimpan dalam urutan nukleotida dalam DNA, sama seperti urutan huruf-huruf dalam suatu kata yang membawa informasi. Gen sama seperti instruksi pendek yang terdiri dari \"huruf-huruf\" alfabet DNA. Apabila digabungkan bersama, keseluruhan set gen ini akan memberikan informasi yang cukup untuk membangun dan menjalankan suatu organisme. Instruksi yang terdapat pada DNA ini dapat berubah oleh karena mutasi. Dalam sel, gen dibawa oleh kromosom yang merupakan kumpulan DNA. Adalah perombakan pada kromosom yang mengakibatkan kombinasi unik gen pada keturunan.',\n",
       "   'title': 'Pengenalan evolusi'},\n",
       "  {'docid': '31102#0',\n",
       "   'text': 'DNA sampah adalah sekuens DNA berulang yang ditemukan tersebar di dalam genom manusia yang (sebelumnya) belum diketahui fungsinya. Sekuens DNA ini, dikenal sebagai sekuens berulang Alu, dapat ditemukan hampir di setiap tempat pada sekuens panjang dari genom manusia yang tidak diketahui mengontrol fungsi genetik secara langsung. Karena tanpa fungsi genetik yang jelas itulah ia disebut ‘DNA sampah’.',\n",
       "   'title': 'DNA sampah'},\n",
       "  {'docid': '1#27',\n",
       "   'text': 'Ilmuwan forensik dapat menggunakan DNA yang terletak dalam darah, sperma, kulit, liur atau rambut yang tersisa di tempat kejadian kejahatan untuk mengidentifikasi kemungkinan tersangka, sebuah proses yang disebut fingerprinting genetika atau pemrofilan DNA (DNA profiling). Dalam pemrofilan DNA panjang relatif dari bagian DNA yang berulang seperti short tandem repeats dan minisatelit, dibandingkan. Pemrofilan DNA dikembangkan pada 1984 oleh genetikawan Inggris Alec Jeffreys dari Universitas Leicester, dan pertama kali digunakan untuk mendakwa Colin Pitchfork pada 1988 dalam kasus pembunuhan Enderby di Leicestershire, Inggris.',\n",
       "   'title': 'Asam deoksiribonukleat'},\n",
       "  {'docid': '6463#12',\n",
       "   'text': 'Sifat-sifat terwariskan diwariskan antar generasi via DNA, sebuah molekul yang dapat menyimpan informasi genetika.[29] DNA merupakan sebuah polimer yang terdiri dari empat jenis basa nukleotida. Urutan basa pada molekul DNA tertentu menentukan informasi genetika. Bagian molekul DNA yang menentukan sebuah satuan fungsional disebut gen; gen yang berbeda mempunyai urutan basa yang berbeda. Dalam sel, unting DNA yang panjang berasosiasi dengan protein, membentuk struktur padat yang disebut kromosom. Lokasi spesifik pada sebuah kromosom dikenal sebagai lokus. Jika urutan DNA pada sebuah lokus bervariasi antar individu, bentuk berbeda pada urutan ini disebut sebagai alel. Urutan DNA dapat berubah melalui mutasi, menghasilkan alel yang baru. Jika mutasi terjadi pada gen, alel yang baru dapat memengaruhi sifat individu yang dikontrol oleh gen, menyebabkan perubahan fenotipe organisme. Walaupun demikian, manakala contoh ini menunjukkan bagaimana alel dan sifat bekerja pada beberapa kasus, kebanyakan sifat lebih kompleks dan dikontrol oleh interaksi banyak gen.[32][33]',\n",
       "   'title': 'Evolusi'},\n",
       "  {'docid': '38272#11',\n",
       "   'text': 'Pada metode yang asli, urutan nukleotida DNA tertentu dapat disimpulkan dengan membuat secara paralel empat reaksi perpanjangan rantai menggunakan salah satu dari empat jenis basa pemutus rantai pada masing-masing reaksi. Fragmen-fragmen DNA yang kemudian terbentuk dideteksi dengan menandai (\"labelling\") \"primer\" yang digunakan dengan fosfor radioaktif sebelum reaksi sekuensing dilangsungkan. Keempat hasil reaksi tersebut kemudian dielektroforesis pada empat lajur yang saling bersebelahan pada gel poliakrilamida.\\nHasil pengembangan metode ini menggunakan empat macam \"primer\" yang ditandai dengan pewarna berpendar (\"fluorescent dye\"). Hal ini memiliki kelebihan karena tidak menggunakan bahan radioaktif; selain menambah keamanan dan kecepatan, keempat hasil reaksi dapat dicampur dan dielektroforesis pada satu lajur pada gel. Metode ini dikenal sebagai metode \"dye primer sequencing\".',\n",
       "   'title': 'Pengurutan DNA'},\n",
       "  {'docid': '527504#0',\n",
       "   'text': 'Polimorfisme panjang fragmen teramplifikasi (bahasa Inggris: \"Amplified Fragment Length Polymorphism\", AFLP) adalah teknik dalam biologi molekuler yang digunakan untuk penandaan genetik berbasis hasil amplifikasi (perbanyakan) PCR terhadap potongan-potongan (fragmen) DNA yang terbentuk akibat aktivitas enzim restriksi tertentu. Oleh pembuatnya, AFLP dimaksudkan sebagai salah satu alat untuk pengujian DNA.',\n",
       "   'title': 'Polimorfisme panjang fragmen teramplifikasi'},\n",
       "  {'docid': '2569235#22',\n",
       "   'text': 'Genom HBV terbentuk dari DNA sirkuler, tetapi genomnya tak biasa karena DNA tidak sepenuhnya berunting rangkap. Satu ujung unting panjang penuh terpaut dengan DNA polimerase virus. Genom memiliki panjang 3020–3320 nukleotida (untuk unting panjang penuh) dan 1700–2800 nukleotida (untuk unting pendek).[37]',\n",
       "   'title': 'Virus hepatitis B'},\n",
       "  {'docid': '121893#3',\n",
       "   'text': 'Metode RAPD memberikan kemudahan mereplikasi DNA yang tidak diketahui sekuensnya dan dalam konsentrasi yang kecil (nanogram) dengan primer-primer yang bersifat tidak tentu (\"arbitrary primers\"). Teknik RAPD yang umum dipakai memerlukan oligonukleotida sintesis pendek, berukuran sekitar 10 basa dari sekuens acak. Primer ini biasanya telah disiapkan dalam bentuk kit untuk analisis RAPD. Jika primer yang dipakai berukuran kurang dari 10 basa maka lebih cocok digunakan untuk menampilkan riwayat sidik jari DNA yang lebih kompleks (bidang forensik) dengan situs penempelan primer pada sekuens DNA yang lebih banyak. Perlu diperhatikan bahwa panjang primer menjadi faktor penentu berhasil tidaknya replikasi. Primer spesifik yang ideal berukuran tidak lebih panjang dari 15 bp.\\nPrimer yang panjang akan menyebabkan peluang komplemen dengan utas DNA semakin kecil, bahkan nihil. Hal ini terjadi karena primer yang memiliki jangkauan primer \"reverse\" dan \"forward\" yang besar tidak dapat diamplifikasi karena fragmennya terlalu panjang.',\n",
       "   'title': 'Amplifikasi Acak Polimorfisme DNA'},\n",
       "  {'docid': '1495351#0',\n",
       "   'text': 'RNA polimerase sering disebut RNAP (bahasa inggris: \"RNA polymerase\") adalah suatu enzim yang membantu mempercepat proses pembentukan RNA. Enzim ini berbeda dengan enzim DNA polimerase, RNA polimerase dapat memulai pembentukan rantai RNA tanpa menggunakan primer. Sintesis atau pembentukan DNA dimulai dengan proses elongasi pada bagian rantai pendek RNA. Panjang rantai tersebut biasanya berkisar antara 10 sampai 50 nukleotida yang kemudian berikatan dengan DNA contoh setelah enzim RNA polimerase berpisah dari RNA. Rantai pendek dari RNA menghasilkan primer yang dapat digunakan oleh DNA polimerase untuk menambahkan deoksinukleotida. RNA polimerase yang menghasilkan primer dalam proses pembentukan DNA disebut primase.',\n",
       "   'title': 'RNA polimerase'},\n",
       "  {'docid': '527504#4',\n",
       "   'text': 'Pemotongan DNA dilakukan dengan bantuan sepasang enzim restriksi yang berbeda frekuensi pemotongannya. Salah satu enzim yang dipakai adalah enzim yang diketahui memiliki titik restriksi (pemotongan) yang jarang dan enzim lainnya diketahui memiliki titik restriksi yang lebih sering dijumpai. Pasangan enzim restriksi yang umum dipakai adalah \"Eco\"RIII (jarang) dan \"Mst\"I (sering) atau \"Eco\"RI (jarang) dan \"Mse\"I (sering). Selanjutnya fragmen DNA hasil pemotongan ditempelkan (ligasi) dengan DNA adapter yang terdiri dari sekuens inti (\"core sequences\") dan sekuens spesifik dari enzim yang digunakan.\\nAmplifikasi selektif dengan PCR dilakukan dengan menggunakan primer yang terdiri dari DNA adaptor (sekuens inti dan sekuens spesifik enzim) dan tiga nukleotida. Penambahan panjang primer dengan tiga nukleotida dimaksudkan agar fragmen DNA yang teramplifikasi akan lebih spesifik karena hanya fragmen yang cocok atau berkomplemen saja yang akan ditempeli primer. Ini berarti penambahan nukleotida akan memperkecil jumlah polimorfisme (variasi) dari fragmen DNA.\\nHasil amplifikasi PCR selektif akan divisualisasi dengan menggunakan teknik elektroforesis gel. Gel yang biasa digunakan untuk AFLP adalah poliakrilamida. Pola DNA pada gel akan diwarnai kemudian hasil berupa pita DNA dapat dilihat.',\n",
       "   'title': 'Polimorfisme panjang fragmen teramplifikasi'},\n",
       "  {'docid': '529841#1',\n",
       "   'text': 'GeneQuant dapat mengukur absorbansi sampel pada panjang gelombang 230, 260, 280, dan 320 nm tanpa menggunakan pewarna. Konsentrasi DNA dapat diukur dari absorbansi pada panjang gelombang 260nm (A260). Perhitungannya berdasarkan rasio A260/A280. RNA diukur pada spektroskopi A260/A280. Selain dapat mengestimasi kemurnian sampel (membandingkan konsentrasi A260/A280 dengan nilai yang sudah diketahui), genequant dapat mengukur konsentrasi dari DNA utas tunggal, DNA utas ganda, serta RNA dari sampel dalam satuan µg/mL, mg/mL, pmol/µL, dan fosfat µM. Selain itu GeneQuant juga dapat mengukur konsentrasi protein, molekul/mL, jumlah oligonukleotida sintetik (dari perbandingan antara konsentrasi sebenarnya dengan nilai yang sudah diketahui), serta nilai Tm.',\n",
       "   'title': 'GeneQuant'},\n",
       "  {'docid': '20987#18',\n",
       "   'text': 'Seperti halnya pada prokariota, satu atau beberapa DNA helikase dan Ssb yang disebut dengan protein replikasi A atau \"replication protein\" A (RP-A) diperlukan untuk memisahkan kedua untai DNA. Selanjutnya, tiga DNA polimerase yang berbeda terlibat dalam elongasi. Untai pengarah dan masing-masing fragmen untai tertinggal diinisiasi oleh RNA primer dengan bantuan aktivitas primase yang merupakan bagian integral enzim DNA polimerase a. Enzim ini akan meneruskan elongasi replikasi tetapi kemudian segera digantikan oleh DNA polimerase d pada untai pengarah dan DNA polimerase e pada untai tertinggal. Baik DNA polimerase d maupun e mempunyai fungsi penyuntingan. Kemampuan DNA polimerase d untuk menyintesis DNA yang panjang disebabkan oleh adanya antigen perbanyakan nuklear sel atau proliferating cell nuclear antigen (PCNA), yang fungsinya setara dengan subunit b holoenzim DNA polimerase III pada \"E. coli\". Selain terjadi penggandaan DNA, kandungan histon di dalam sel juga mengalami penggandaan selama fase S.',\n",
       "   'title': 'Replikasi DNA'},\n",
       "  {'docid': '1482176#0',\n",
       "   'text': 'Helikase yang umum ditemukan adalah Helikase DNA dan Helikase RNA. Helikase DNA memiliki nomor EC 3.6.4.12 dan berperan dalam proses replikasi DNA. Berbeda dengan helikase DNA, helikase RNA memiliki nomor EC 3.6.4.13 dan berperan dalam proses translasi. Arti dari nomor EC 3 adalah enzim ini termasuk kelas enzim hidrolisis. Mekanisme kerja helikase DNA adalah membentuk komplek nucleoprotein, disebut replisome, dengan primase dan memotong ikatan pada \"double helix\" DNA menjadi 2 rantai tunggal DNA. Kestabilan replisome akan mempengaruhi proses replikasi pada \"lagging-strand\", khususnya panjang fragmen Okazaki yang terbentuk. Semakin stabil replisome, maka fragmen Okazaki akan semakin panjang dan memudahkan tugas RNA polymerase. Peran helikase juga terlihat dalam perbaikan DNA dan rekombinasi DNA di semua organisme.',\n",
       "   'title': 'Helikase'},\n",
       "  {'docid': '1#16',\n",
       "   'text': 'Stabilitas dsDNA tidak hanya bergantung pada kandungan GC (% pasangan basa G,C) DNA, namun juga tergantung pada urutan basa (tumpukan basa) dan panjang molekul DNA tersebut (molekul yang lebih panjang lebih stabil). Oleh sebab itu, kekuatan ikatan antar dua unting DNA ditentukan oleh persentase pasangan basa GC dan keseluruhan panjang heliks ganda DNA. Heliks DNA yang panjang dengan kandungan GC yang tinggi memiliki interaksi antar-unting yang lebih kuat; sebaliknya heliks DNA yang pendek dengan kandungan AT yang tinggi memiliki interaksi antar-unting yang lebih lemah.[29] Dalam proses biologis, bagian heliks ganda DNA yang perlu dipisahkan dengan mudah seperti kotak Pribnow TATAAT pada beberapa promotor cenderung memiliki kandungan AT yang tinggi.[30]',\n",
       "   'title': 'Asam deoksiribonukleat'},\n",
       "  {'docid': '2569235#39',\n",
       "   'text': 'PenempelanVirus memperoleh pintu masuk ke dalam sel dengan berikatan ke reseptor pada permukaan sel dan masuk dengan endositosis dimediasi oleh klatrin atau kaveolin-1.[52] HBV pada awalnya berikatan ke proteoglikan heparin sulfat. Segmen pra-S1 dari protein L HBV kemudian berikatan dengan kuat ke reseptor permukaan sel polipeptida kotranspor natrium taurokolat (NTCP), dikodekan oleh gen SLC10A1.[53] NTCP umumnya ditemukan pada membran sinusoidal sel hati. Keberadaan NTCP pada sel hati berkorelasi dengan spesifisitas jaringan infeksi HBV.[52] PenetrasiSetelah endositosis, membran virus berfusi dengan membran sel inang, melepaskan nukleokapsid ke dalam sitoplasma.[54] PembukaanKarena virus memperbanyak melalui RNA yang dibuat oleh enzim sel inang, DNA genom virus dikirim menuju inti sel. Proses ini terjadi dengan mentranspor kapsid pada mikrotubulus ke pori inti. Protein inti berdisosiasi dari DNA virus berunting rangkap parsial, yang kemudian dibuat unting rangkap penuh (oleh DNA polimerase inang) dan bertransformasi menjadi DNA sirkuler tertutup secara kovalen (cccDNA) yang menyediakan cetakan untuk transkripsi empat RNA duta virus. ReplikasiRNA duta terbesar, lebih panjang dari genom virus, digunakan untuk membuat salinan genom baru dan membuat protein inti kapsid serta DNA-polimerase-bergantung-RNA-virus. PerakitanEmpat transkrip virus ini melalui proses tambahan dan bergabung untuk membentuk virion turunan yang kemudian dilepaskan dari sel atau kembali menuju inti dan membentuk siklus kembali untuk memproduksi lebih banyak salinan.[41][55] PelepasanRNA duta panjang kemudian ditranspor kembali ke sitoplasma dengan virion protein P menyintesis DNA melalui aktivitas transkriptase balik.',\n",
       "   'title': 'Virus hepatitis B'},\n",
       "  {'docid': '38272#17',\n",
       "   'text': 'Metode sekuensing DNA yang kini ada hanya dapat merunut sepotong pendek DNA sekaligus. Contohnya, mesin sekuensing modern yang menggunakan metode Sanger hanya dapat mencakup paling banyak sekitar 1000 pasang basa setiap sekuensing . Keterbatasan ini disebabkan oleh probabilitas terminasi rantai yang menurun secara geometris seiring dengan bertambahnya panjang rantai, selain keterbatasan fisik ukuran dan resolusi gel.',\n",
       "   'title': 'Pengurutan DNA'},\n",
       "  {'docid': '527504#6',\n",
       "   'text': 'AFLP merupakan teknik yang relatif mudah dikerjakan dan, dibandingkan dengan penanda-penanda berbasis PCR lainnya, murah per satuan polimorfismenya. Penggunaannya sebagai alat pengujian DNA masih bersaing ketat dengan mikrosatelit (SSR atau STR) atau minisatelit. Penggunaan yang lebih luas ditemukan dalam kajian struktur populasi dan pemetaan genetik. Ia dapat diaplikasikan untuk melihat perbedaan dan pelacakan hingga ke tingkat galur mikroorganisme yang berada dalam satu spesies, deteksi polimorfisme DNA untuk studi evolusi genom, melihat kekerabatan antara organisme patogen dalam kajian epidemiologi, pemetaan potongan DNA hasil kloning, dan kajian sistematika molekuler.',\n",
       "   'title': 'Polimorfisme panjang fragmen teramplifikasi'},\n",
       "  {'docid': '38272#9',\n",
       "   'text': 'Pada metode terminasi rantai (metode Sanger), perpanjangan atau ekstensi rantai DNA dimulai pada situs spesifik pada DNA cetakan dengan menggunakan oligonukleotida pendek yang disebut \"primer\" yang komplementer terhadap DNA pada daerah situs tersebut. \"Primer\" tersebut diperpanjang menggunakan DNA polimerase, enzim yang mereplikasi DNA. Bersama dengan \"primer\" dan DNA polimerase, diikutsertakan pula empat jenis basa deoksinukleotida (satuan pembentuk DNA), juga nukleotida pemutus atau penghenti rantai (\"terminator\" rantai) dalam konsentrasi rendah (biasanya di-deoksinukleotida). Penggabungan nukleotida pemutus rantai tersebut secara terbatas kepada rantai DNA oleh polimerase DNA menghasilkan fragmen-fragmen DNA yang berhenti bertumbuh hanya pada posisi pada DNA tempat nukleotida tertentu tersebut tergabungkan. Fragmen-fragmen DNA tersebut lalu dipisahkan menurut ukurannya dengan elektroforesis gel poliakrilamida, atau sekarang semakin lazim dengan elektroforesis menggunakan tabung gelas berjari-jari kecil (pipa kapiler) yang diisi dengan polimer kental.',\n",
       "   'title': 'Pengurutan DNA'},\n",
       "  {'docid': '38202#2',\n",
       "   'text': 'Pada metode sekuensing terminasi rantai (metode Sanger), perpanjangan atau ekstensi rantai DNA dimulai pada situs spesifik pada DNA cetakan dengan menggunakan oligonukleotida pendek yang disebut \"primer\" yang komplementer terhadap DNA pada daerah situs tersebut. \"Primer\" tersebut diperpanjang menggunakan DNA polimerase, enzim yang mereplikasi DNA. Bersama dengan \"primer\" dan DNA polimerase, diikutsertakan pula empat jenis basa deoksinukleotida (satuan pembentuk DNA), juga nukleotida pemutus atau penghenti rantai (\"terminator\" rantai) dalam konsentrasi rendah. Penggabungan nukleotida pemutus rantai tersebut secara terbatas kepada rantai DNA oleh polimerase DNA menghasilkan fragmen-fragmen DNA yang berhenti bertumbuh hanya pada posisi pada DNA tempat nukleotida tertentu tersebut tergabungkan. Fragmen-fragmen DNA tersebut lalu dipisahkan menurut ukurannya dengan elektroforesis.',\n",
       "   'title': 'Sekuensing'},\n",
       "  {'docid': '1494562#0',\n",
       "   'text': 'Fragmen Okazaki adalah DNA pendek berbentuk fragmen (bagian-bagian) dalam proses replikasi DNA pada bagian untaian DNA lambat (bahasa inggris: \"lagging strand\"). Sintesis DNA akan selalu bergerak dengan arah 5’ → 3’. Untai DNA awal (leading strand) dibaca dari ujung 5’ ke 3’ maka sintesisnya dapat dilakukan secara kontinu, sedangkan untaian DNA lambat merupakan anti parallel dari untaian DNA awal yang memiliki arah berkebalikan (ujung 3’ ke 5’) maka sintesis tidak dapat dilakukan secara kontinu melainkan dibuat fragmen-fragmen agar sintesis DNA dapat terjadi serentak. Fragmen DNA pendek yang terbentuk pada akhirnya akan disambung dengan enzim DNA ligase sehingga membentuk unit yang utuh. Panjang fragmen Okazaki berkisar dari ratusan sampai ribuan nukleotida, tergantung jenis selnya.',\n",
       "   'title': 'Fragmen Okazaki'},\n",
       "  {'docid': '516497#0',\n",
       "   'text': 'DNA ligase merupakan enzim yang mengkatalisis pembentukan ikatan fosfodiester antara ujung 5’-fosfat dan 3’-hidroksil pada DNA yang mengalami \"nick\". \"Nick\" pada DNA dapat terjadi pada saat replikasi DNA, rekombinasi dan kerusakan. Secara biologis, DNA ligase diperlukan untuk menggabungkan fragmen Okazaki saat proses replikasi, menyambung potongan-potongan DNA yang baru disintesis, serta berperan dalam proses reparasi DNA. Oleh karena pentingnya peranan DNA ligase, sekarang ini telah dikembangkan obat antibakterial yang menginhibisi DNA ligase. Dengan diinhibisinya DNA ligase, diharapkan kromosom menjadi terdegradasi dan sel akan mati.\\nDNA ligase merupakan enzim yang sangat berguna baik di dalam sel, maupun di luar sel. Untuk penggunaan di luar sel, penggabungan dengan enzim restriksi telah membuat terobosan baru di bidang teknologi DNA rekombinan. Enzim restriksi diibaratkan seperti gunting yang memungkinkan kita untuk memotong DNA di tempat yang spesifik. Kemudian DNA ligase berperan sebagai lem yang menyambung DNA yang telah terpotong sehingga menjadi DNA yang fungsional.',\n",
       "   'title': 'DNA ligase'},\n",
       "  {'docid': '29582#11',\n",
       "   'text': 'Setelah menempel, selubung virus akan melebur (fusi) dengan membran sel sehingga isi partikel virus akan terlepas di dalam sel.[16] Selanjutnya, enzim transkriptase balik yang dimiliki HIV akan mengubah genom virus yang berupa RNA menjadi DNA.[16] Kemudian, DNA virus akan dibawa ke inti sel manusia sehingga dapat menyisip atau terintegrasi dengan DNA manusia.[16] DNA virus yang menyisip di DNA manusia disebut sebagai provirus dan dapat bertahan cukup lama di dalam sel.[16] Saat sel teraktivasi, enzim-enzim tertentu yang dimiliki sel inang akan memproses provirus sama dengan DNA manusia, yaitu diubah menjadi mRNA.[16] Kemudian, mRNA akan dibawa keluar dari inti sel dan menjadi cetakan untuk membuat protein dan enzim HIV.[16] Sebagian RNA dari provirus yang merupakan genom RNA virus.[16] Bagian genom RNA tersebut akan dirakit dengan protein dan enzim hingga menjadi virus utuh.[16] Pada tahap perakitan ini, enzim protease virus berperan penting untuk memotong protein panjang menjadi bagian pendek yang menyusun inti virus.[16] Apabila HIV utuh telah matang, maka virus tersebut dapat keluar dari sel inang dan menginfeksi sel berikutnya.[17] Proses pengeluaran virus tersebut melalui pertunasan (budding), di mana virus akan mendapatkan selubung dari membran permukaan sel inang.[17]',\n",
       "   'title': 'HIV'},\n",
       "  {'docid': '117991#2',\n",
       "   'text': 'Oligo DNA (deoksioligonukleotida, mengandung timin dan gula deoksiribosa) sering digunakan sebagai primer dalam teknik PCR untuk menghasilkan berkas DNA yang lebih panjang. Dalam teknik ini, oligo berdiri atau dipasangi zat detektor tergantung alat yang dipakai (seperti M-13 sehingga dapat memantulkan laser).',\n",
       "   'title': 'Oligonukleotida'},\n",
       "  {'docid': '527504#5',\n",
       "   'text': 'Teknik AFLP memiliki beberapa kelebihan, yaitu tidak memerlukan pengetahuan atau data tentang sekuens DNA genom yang akan dianalisa, hanya memerlukan sampel DNA dalam jumlah yang sedikit, teknik ini dapat digunakan untuk berbagai jenis sampel DNA, penanda yang dihasilkan lebih dapat dipercaya dan hasil pengulangan lebih baik jika dibandingkan dengan RAPD. Kekurangan dari AFLP adalah penanda DNA yang dihasilkan hanya bersifat dominan.',\n",
       "   'title': 'Polimorfisme panjang fragmen teramplifikasi'},\n",
       "  {'docid': '518985#7',\n",
       "   'text': 'Panjang dari sekuen pengenalan memengaruhi seringnya enzim restriksi memotong DNA dalam ukuran tertentu.[6] Misalnya pada enzim yang memiliki panjang 4 basa, enzim ini diperkirakan akan memotong setiap 256 nukleotida.[6] Perhitungan tersebut diperoleh dengan mengasumsikan setiap basa mempunyai kemungkinan yang sama untuk muncul, yaitu sebesar 1/4 (kemungkinan muncul 1 dari 4 basa).[6] Jadi jika sekuen pengenalan mempunyai panjang 6 basa, maka perhitungannya menjadi: (1/4)6 = 1/4096.[6] Perhitungan ini hanya sebagai perkiraan, pada kenyataannya belum tentu demikian.[6] Beberapa sekuen bisa jadi lebih sering atau lebih jarang ditemui dalam suatu organisme.[6] Seperti pada mamalia, sekuen CG sangat jarang ditemui sehingga enzim HpaII yang mempunyai sekuen pengenalan CCGG akan lebih jarang memotong pada DNA mamalia.[6]',\n",
       "   'title': 'Enzim restriksi'},\n",
       "  {'docid': '1#8',\n",
       "   'text': 'Struktur DNA semua jenis spesies terdiri dari dua rantai heliks yang berpilin dengan jarak antar putaran heliks 34Å (3,4nanometer) dan jari-jari 10Å (1.0nanometer).[12] Menurut kajian lainnya, ketika diukur menggunakan larutan tertentu, rantai DNA memiliki lebar 22-26Å (2,2-2,6nanometer) sedangkan satu satuan nukleotida memiliki panjang 33Å (0,33nm).[13] Walaupun satuan nukleotida ini sangatlah kecil, polimer DNA dapat memiliki jutaan nukleotida yang terangkai seperti rantai. Misalnya, kromosom 1 yang merupakan kromosom terbesar pada manusia mengandung sekitar 220 juta pasangan basa.[14]',\n",
       "   'title': 'Asam deoksiribonukleat'},\n",
       "  {'docid': '20987#7',\n",
       "   'text': 'Replikasi DNA kromosom prokariota, khususnya bakteri, sangat berkaitan dengan siklus pertumbuhannya. Daerah ori pada \"E. coli\", misalnya, berisi empat buah tempat pengikatan protein inisiator DnaA, yang masing-masing panjangnya 9 pb. Sintesis protein DnaA ini sejalan dengan laju pertumbuhan bakteri sehingga inisiasi replikasi juga sejalan dengan laju pertumbuhan bakteri. Pada laju pertumbuhan sel yang sangat tinggi; DNA kromosom prokariota dapat mengalami reinisiasi replikasi pada dua ori yang baru terbentuk sebelum putaran replikasi yang pertama berakhir. Akibatnya, sel-sel hasil pembelahan akan menerima kromosom yang sebagian telah bereplikasi.',\n",
       "   'title': 'Replikasi DNA'},\n",
       "  {'docid': '518985#8',\n",
       "   'text': 'Enzim restriksi yang mempunyai sekuen pengenalan yang pendek akan menghasilkan banyak potongan DNA; sedangkan jika mempunyai sekuen pengenalan yang panjang, akan dihasilkan potongan DNA yang lebih sedikit.[6] Baik enzim yang mempunyai sekuen pemotongan pendek maupun panjang, mempunyai fungsi masing-masing dalam rekayasa genetika.[6]',\n",
       "   'title': 'Enzim restriksi'},\n",
       "  {'docid': '605118#0',\n",
       "   'text': 'Histon adalah protein yang ditemukan pada inti sel eukariota yang terbungkus DNA, yang kemudian bersama DNA menyusun struktur nukleosom. Ada lima subunit histon yaitu histon H1, H2A, H2B, H3 dan H4. Subunit-subunit ini kaya akan asam amino yang bermuatan positif atau bersifat basa. Histon bereaksi dengan asam deoksiribonukleat melalui interaksi antara protein yang bermuatan positif dengan fosfodiester dari asam deoksiribonukleat yang bermuatan negatif kemudian membentuk nukleosom. Tiap inti nukleosom terdiri atas suatu kompleks dari delapan protein histon, yang disebut juga histon oktamer, dengan DNA rantai ganda dengan panjang 147 pasang nukleotida. Kompleks histon oktamer yang membentuk inti nukleosom ini masing-masing terdiri atas 2 molekul histon H2A, H2B, H3, dan H4.',\n",
       "   'title': 'Histon'}],\n",
       " 'mr_query_norm_match': True,\n",
       " 'mr_pos_match': True,\n",
       " 'query': 'Apakah kepanjangan dari DNA?'}"
      ]
     },
     "execution_count": 30,
     "metadata": {},
     "output_type": "execute_result"
    }
   ],
   "source": [
    "tydi_miss[0]"
   ]
  },
  {
   "cell_type": "code",
   "execution_count": 31,
   "id": "e2b52bf7",
   "metadata": {},
   "outputs": [
    {
     "name": "stderr",
     "output_type": "stream",
     "text": [
      "Map:   0%|          | 0/5912 [00:00<?, ? examples/s]"
     ]
    },
    {
     "name": "stderr",
     "output_type": "stream",
     "text": [
      "Map: 100%|██████████| 5912/5912 [01:16<00:00, 76.97 examples/s]\n"
     ]
    }
   ],
   "source": [
    "\n",
    "def normalize_fields(batch):\n",
    "    new_answers = []\n",
    "    new_passages = []\n",
    "    new_titles = []\n",
    "    new_neg_passages = []\n",
    "\n",
    "    for i in range(len(batch[\"answer\"])):\n",
    "        # ===== answers =====\n",
    "        import re\n",
    "\n",
    "        ans_list = batch[\"answer\"][i] or []\n",
    "        normed_ans = []\n",
    "        for a in ans_list:\n",
    "            if a is None:\n",
    "                continue\n",
    "            s = normalize(a, lowercase=False)\n",
    "            # hapus tanda kurung penutup di awal string\n",
    "            s = re.sub(r'^[\\]\\}\\)]+', '', s)\n",
    "            # hapus tanda kurung pembuka di akhir string\n",
    "            s = re.sub(r'[\\[\\{\\(]+$', '', s)\n",
    "            normed_ans.append(s)\n",
    "        new_answers.append(normed_ans)\n",
    "\n",
    "        # ===== passage_text =====\n",
    "        passage = batch.get(\"passage_text\", [None])[i]\n",
    "        new_passages.append(normalize(passage, lowercase=False) if passage else passage)\n",
    "\n",
    "        # ===== document_title =====\n",
    "        doc_title = batch.get(\"document_title\", [None])[i]\n",
    "        new_titles.append(normalize(doc_title, lowercase=False) if doc_title else doc_title)\n",
    "\n",
    "        # ===== mr_negative_passages (list of dict) =====\n",
    "        negs = batch.get(\"mr_negative_passages\", [None])[i]\n",
    "        if negs is None:\n",
    "            new_neg_passages.append(None)\n",
    "        else:\n",
    "            normed_negs = []\n",
    "            for d in negs:\n",
    "                new_d = dict(d)\n",
    "                if \"title\" in new_d and new_d[\"title\"] is not None:\n",
    "                    new_d[\"title\"] = normalize(new_d[\"title\"], lowercase=False)\n",
    "                if \"text\" in new_d and new_d[\"text\"] is not None:\n",
    "                    new_d[\"text\"] = normalize(new_d[\"text\"], lowercase=False)\n",
    "                normed_negs.append(new_d)\n",
    "            new_neg_passages.append(normed_negs)\n",
    "\n",
    "    out = {\n",
    "        \"answer\": new_answers,\n",
    "        \"passage_text\": new_passages,\n",
    "        \"document_title\": new_titles,\n",
    "        \"mr_negative_passages\": new_neg_passages,\n",
    "    }\n",
    "    return out\n",
    "\n",
    "# terapkan ke dataset\n",
    "tydiqa = tydiqa_with_mr.map(\n",
    "    normalize_fields,\n",
    "    batched=True,\n",
    "    batch_size=100,\n",
    "    load_from_cache_file=False\n",
    ")"
   ]
  },
  {
   "cell_type": "code",
   "execution_count": 32,
   "id": "48bdee0d",
   "metadata": {},
   "outputs": [
    {
     "name": "stderr",
     "output_type": "stream",
     "text": [
      "Filter: 100%|██████████| 5912/5912 [00:01<00:00, 3537.43 examples/s]"
     ]
    },
    {
     "name": "stdout",
     "output_type": "stream",
     "text": [
      "Jumlah baris yang miss: 3\n"
     ]
    },
    {
     "name": "stderr",
     "output_type": "stream",
     "text": [
      "\n"
     ]
    }
   ],
   "source": [
    "tydi_miss = tydiqa.filter(passage_miss_answer)\n",
    "\n",
    "print(f\"Jumlah baris yang miss: {len(tydi_miss)}\")"
   ]
  },
  {
   "cell_type": "code",
   "execution_count": null,
   "id": "c1b139d0",
   "metadata": {},
   "outputs": [],
   "source": [
    "def has_answer(example):\n",
    "    passage = example[\"passage_text\"]\n",
    "    answers = example[\"answer\"] or []\n",
    "    # True kalau ada minimal satu jawaban muncul di passage\n",
    "    return any(ans in passage for ans in answers)\n",
    "\n",
    "# filter dataset\n",
    "tydiqa_filtered = tydiqa.filter(has_answer)\n",
    "\n",
    "print(\"Sebelum:\", len(tydiqa))\n",
    "print(\"Sesudah:\", len(tydiqa_filtered))"
   ]
  },
  {
   "cell_type": "code",
   "execution_count": 54,
   "id": "f64496f1",
   "metadata": {},
   "outputs": [
    {
     "name": "stderr",
     "output_type": "stream",
     "text": [
      "Saving the dataset (0/1 shards):   0%|          | 0/5952 [00:00<?, ? examples/s]"
     ]
    },
    {
     "name": "stderr",
     "output_type": "stream",
     "text": [
      "Saving the dataset (1/1 shards): 100%|██████████| 5952/5952 [00:00<00:00, 22360.62 examples/s]\n"
     ]
    }
   ],
   "source": [
    "tydiqa_filtered.save_to_disk(\"./generated_data/tydi_but_still_with_unchecked_multi_answers\")"
   ]
  },
  {
   "cell_type": "markdown",
   "id": "c4c8be35",
   "metadata": {},
   "source": [
    "cek apakah answer hanya satu"
   ]
  },
  {
   "cell_type": "code",
   "execution_count": 34,
   "id": "0ee421c5",
   "metadata": {},
   "outputs": [
    {
     "name": "stderr",
     "output_type": "stream",
     "text": [
      "Filter:   0%|          | 0/5909 [00:00<?, ? examples/s]"
     ]
    },
    {
     "name": "stderr",
     "output_type": "stream",
     "text": [
      "Filter: 100%|██████████| 5909/5909 [00:02<00:00, 2684.52 examples/s]"
     ]
    },
    {
     "name": "stdout",
     "output_type": "stream",
     "text": [
      "Total baris asli   : 5912\n",
      "Total baris subset : 558\n",
      "['ke-12 hingga abad ke-19', 'ke-12 hingga abad ke-19', 'abad ke-12 hingga abad ke-19']\n"
     ]
    },
    {
     "name": "stderr",
     "output_type": "stream",
     "text": [
      "\n"
     ]
    }
   ],
   "source": [
    "# subset hanya baris dengan jumlah elemen answer > 1\n",
    "tydiqa_multi_answer = tydiqa_filtered.filter(lambda ex: len(ex[\"answer\"]) > 1)\n",
    "\n",
    "print(f\"Total baris asli   : {len(tydiqa_with_mr)}\")\n",
    "print(f\"Total baris subset : {len(tydiqa_multi_answer)}\")\n",
    "\n",
    "# cek contoh\n",
    "print(tydiqa_multi_answer[0][\"answer\"])"
   ]
  },
  {
   "cell_type": "code",
   "execution_count": null,
   "id": "e635b541",
   "metadata": {},
   "outputs": [
    {
     "name": "stderr",
     "output_type": "stream",
     "text": [
      "Filter: 100%|██████████| 558/558 [00:00<00:00, 6625.17 examples/s]"
     ]
    },
    {
     "name": "stdout",
     "output_type": "stream",
     "text": [
      "Total multi-answer: 558\n",
      "Total konflik     : 45\n",
      "['ilmu atau seni dalam menciptakan dan menghias lambang, beserta kajian tentang makna, asal-usul, sejarah, dan perkembangannya', 'suatu ilmu atau seni dalam menciptakan dan menghias lambang, beserta kajian tentang makna, asal-usul, sejarah, dan perkembangannya', 'panglima perang']\n",
      "['konsep Hindu, tetapi juga dipakai dalam konteks agama Buddha, untuk merujuk pada berbagai benda nyata', 'lingkaran', 'lingkaran']\n",
      "['avtur', 'aviation turbine fuel', 'jenis bahan bakar penerbangan yang dirancang untuk digunakan pada pesawat terbang yang bermesin turbin gas']\n",
      "['mata hitam, rambut hitam yang tak pernah memanjang dan memiliki ekor', 'gaya rambut yang secara tegap berdiri ke atas dengan ujung-ujung runcing']\n",
      "['pola permukiman dan ritualnya', 'Vinča']\n"
     ]
    },
    {
     "name": "stderr",
     "output_type": "stream",
     "text": [
      "\n"
     ]
    }
   ],
   "source": [
    "import re\n",
    "\n",
    "def _simple_norm(s: str) -> str:\n",
    "    return (s or \"\").strip().lower()\n",
    "\n",
    "def is_conflict(example):\n",
    "    ans = example.get(\"answer\") or []\n",
    "    if len(ans) < 2:\n",
    "        return False\n",
    "\n",
    "    # normalisasi sederhana\n",
    "    norm = [_simple_norm(a) for a in ans if a is not None and _simple_norm(a) != \"\"]\n",
    "    if len(norm) < 2:\n",
    "        return False\n",
    "\n",
    "    # jika semua sama persis → bukan konflik\n",
    "    if len(set(norm)) == 1:\n",
    "        return False\n",
    "\n",
    "    # ambil yang terpendek\n",
    "    shortest = min(norm, key=len)\n",
    "\n",
    "    # cek apakah shortest subset dari elemen lain YANG BERBEDA\n",
    "    subset_of_other = any(\n",
    "        (shortest != other) and (shortest in other)\n",
    "        for other in norm\n",
    "    )\n",
    "\n",
    "    # konflik jika BUKAN subset dari elemen lain (dan kita sudah pastikan tidak semuanya identik)\n",
    "    return not subset_of_other\n",
    "\n",
    "# buat subset konflik baru\n",
    "tydiqa_multi_answer_conflict = tydiqa_multi_answer.filter(is_conflict)\n",
    "\n",
    "print(f\"Total multi-answer: {len(tydiqa_multi_answer)}\")\n",
    "print(f\"Total konflik     : {len(tydiqa_multi_answer_conflict)}\")\n",
    "\n",
    "# intip beberapa contoh\n",
    "for i in range(min(5, len(tydiqa_multi_answer_conflict))):\n",
    "    print(tydiqa_multi_answer_conflict[i][\"answer\"])\n",
    "\n",
    "import pandas as pd\n",
    "\n",
    "# konversi ke pandas DataFrame\n",
    "conflict_df = tydiqa_multi_answer_conflict.to_pandas()\n",
    "\n",
    "# simpan ke Excel\n",
    "conflict_df.to_excel(\"tydiqa_multi_answer_conflict.xlsx\", index=False)\n",
    "\n",
    "print(\"✅ File berhasil disimpan ke tydiqa_multi_answer_conflict.xlsx\")\n"
   ]
  },
  {
   "cell_type": "markdown",
   "id": "97fe5fbd",
   "metadata": {},
   "source": [
    "Atur answer sebagai satu elemen saja, yakni string terpendek"
   ]
  },
  {
   "cell_type": "code",
   "execution_count": 35,
   "id": "0b9a3044",
   "metadata": {},
   "outputs": [
    {
     "name": "stderr",
     "output_type": "stream",
     "text": [
      "Map: 100%|██████████| 5909/5909 [00:01<00:00, 3726.03 examples/s]"
     ]
    },
    {
     "name": "stdout",
     "output_type": "stream",
     "text": [
      "Selesai. Baris dengan answer akhir 1 elemen: 5909 dari 5909\n"
     ]
    },
    {
     "name": "stderr",
     "output_type": "stream",
     "text": [
      "\n"
     ]
    }
   ],
   "source": [
    "# Asumsi: fungsi normalize(q: str, lowercase: bool=True) sudah ada di sistem\n",
    "\n",
    "def _shortest_normalized_answer(ans_list, lowercase=False):\n",
    "    \"\"\"\n",
    "    Ambil elemen terpendek SETELAH dinormalisasi.\n",
    "    Tie-breaker: kalau ada beberapa dengan panjang sama, ambil yang pertama.\n",
    "    Kembalikan string normalized (bukan versi aslinya).\n",
    "    \"\"\"\n",
    "    if ans_list is None:\n",
    "        return None\n",
    "    if not isinstance(ans_list, (list, tuple)):\n",
    "        ans_list = [ans_list]\n",
    "\n",
    "    # Normalisasi tiap elemen, buang None/kosong\n",
    "    normed = [normalize(str(a), lowercase=lowercase) for a in ans_list if a is not None and str(a).strip() != \"\"]\n",
    "    if not normed:\n",
    "        return None\n",
    "    # pilih yang terpendek\n",
    "    shortest = min(normed, key=len)\n",
    "    return shortest\n",
    "\n",
    "def keep_shortest_answer(batch, lowercase_norm=False):\n",
    "    out_answer = []\n",
    "    out_answers_dict = None\n",
    "    has_answers_dict = \"answers\" in batch\n",
    "\n",
    "    if has_answers_dict:\n",
    "        out_answers_dict = []\n",
    "\n",
    "    for i in range(len(batch[\"answer\"])):\n",
    "        shortest = _shortest_normalized_answer(batch[\"answer\"][i], lowercase=lowercase_norm)\n",
    "        # simpan sebagai list (konsisten dengan skema)\n",
    "        new_list = [shortest] if shortest is not None else []\n",
    "\n",
    "        out_answer.append(new_list)\n",
    "\n",
    "        if has_answers_dict:\n",
    "            curr = dict(batch[\"answers\"][i]) if batch[\"answers\"][i] is not None else {}\n",
    "            curr[\"text\"] = new_list\n",
    "            out_answers_dict.append(curr)\n",
    "\n",
    "    out = {\"answer\": out_answer}\n",
    "    if has_answers_dict:\n",
    "        out[\"answers\"] = out_answers_dict\n",
    "    return out\n",
    "\n",
    "# Terapkan ke dataset\n",
    "tydiqa_one_answer = tydiqa_filtered.map(\n",
    "    keep_shortest_answer,\n",
    "    batched=True,\n",
    "    fn_kwargs={\"lowercase_norm\": False},   # ganti ke False jika ingin pertahankan kapitalisasi\n",
    "    load_from_cache_file=False,\n",
    ")\n",
    "\n",
    "changed = sum(1 for a in tydiqa_one_answer[\"answer\"] if isinstance(a, list) and len(a) == 1)\n",
    "print(f\"Selesai. Baris dengan answer akhir 1 elemen: {changed} dari {len(tydiqa_one_answer)}\")"
   ]
  },
  {
   "cell_type": "code",
   "execution_count": 36,
   "id": "71e8f350",
   "metadata": {},
   "outputs": [
    {
     "name": "stderr",
     "output_type": "stream",
     "text": [
      "Filter: 100%|██████████| 5909/5909 [00:01<00:00, 3584.83 examples/s]"
     ]
    },
    {
     "name": "stdout",
     "output_type": "stream",
     "text": [
      "Jumlah baris yang miss: 0\n"
     ]
    },
    {
     "name": "stderr",
     "output_type": "stream",
     "text": [
      "\n"
     ]
    }
   ],
   "source": [
    "tydi_miss = tydiqa_one_answer.filter(passage_miss_answer)\n",
    "\n",
    "print(f\"Jumlah baris yang miss: {len(tydi_miss)}\")"
   ]
  },
  {
   "cell_type": "code",
   "execution_count": 39,
   "id": "f3e795c1",
   "metadata": {},
   "outputs": [
    {
     "name": "stdout",
     "output_type": "stream",
     "text": [
      "File berhasil disimpan ke tydi_miss_answers.xlsx dengan 97 baris.\n"
     ]
    }
   ],
   "source": [
    "import pandas as pd\n",
    "\n",
    "# konversi ke DataFrame\n",
    "df_miss = tydi_miss.to_pandas()\n",
    "\n",
    "# simpan ke Excel\n",
    "output_path = \"tydi_miss_answers.xlsx\"\n",
    "df_miss.to_excel(output_path, index=False)\n",
    "\n",
    "print(f\"File berhasil disimpan ke {output_path} dengan {len(df_miss)} baris.\")\n"
   ]
  },
  {
   "cell_type": "code",
   "execution_count": 37,
   "id": "dd4fc03e",
   "metadata": {},
   "outputs": [
    {
     "name": "stderr",
     "output_type": "stream",
     "text": [
      "Map: 100%|██████████| 5909/5909 [00:00<00:00, 26409.60 examples/s]"
     ]
    },
    {
     "name": "stdout",
     "output_type": "stream",
     "text": [
      "Baris yang diupdate: 20\n"
     ]
    },
    {
     "name": "stderr",
     "output_type": "stream",
     "text": [
      "\n"
     ]
    }
   ],
   "source": [
    "rows_to_update_2 = [\n",
    "    {\n",
    "        \"q_to_find\": \"apa arti dari heraldik?\", \n",
    "        \"new_answer\" : ['suatu ilmu atau seni dalam menciptakan dan menghias lambang, beserta kajian tentang makna, asal-usul, sejarah, dan perkembangannya'],\n",
    "    }, \n",
    "    {\n",
    "        \"q_to_find\": \"apa arti kata mandala?\", \n",
    "        \"new_answer\" : ['konsep Hindu, tetapi juga dipakai dalam konteks agama Buddha, untuk merujuk pada berbagai benda nyata','lingkaran'],\n",
    "    }, \n",
    "    {\n",
    "        \"q_to_find\": \"apa bahan bakar mesin jet?\", \n",
    "        \"new_answer\" : ['avtur'],\n",
    "    }, \n",
    "    {\n",
    "        \"q_to_find\": \"apa ciri khas bangsa saiya?\", \n",
    "        \"new_answer\" : ['mata hitam, rambut hitam yang tak pernah memanjang dan memiliki ekor'],\n",
    "    }, \n",
    "    {\n",
    "        \"q_to_find\": \"apa ciri khas dari kebudayaan neolitik?\", \n",
    "        \"new_answer\" : ['pola permukiman dan ritualnya'],\n",
    "    }, \n",
    "    {\n",
    "        \"q_to_find\": \"apa pendidikan terakhir mochamad fadjroel rachman?\", \n",
    "        \"new_answer\" : ['Magister Hukum'],\n",
    "    }, \n",
    "    {\n",
    "        \"q_to_find\": \"apa isi surat deuteropauline?\", \n",
    "        \"new_answer\" : ['gagasan eskatologi','wujud kepastian iman yang menjadi suatu pengharapan dalam kehidupan dan bagaimana sikap orang terhadap parousia serta sikap iman terhadap parousia yang mempunyai arti bagi kehidupan saat ini'],\n",
    "    }, \n",
    "    {\n",
    "        \"q_to_find\": \"apa maksud istilah shengnü?\", \n",
    "        \"new_answer\" : ['ejekan yang dipopulerkan oleh Federasi Wanita Seluruh Tiongkok yang mengklasifikasikan wanita yang masih belum menikah pada usia akhir dua puluh tahunan atau lebih','wanita sisa'],\n",
    "    }, \n",
    "    {\n",
    "        \"q_to_find\": \"apa nama bandara di penang?\", \n",
    "        \"new_answer\" : ['Bandar Udara Internasional Penang', 'Bandar Udara Internasional Bayan Lepas'],\n",
    "    }, \n",
    "    {\n",
    "        \"q_to_find\": \"apa nama rumah adat suku banjar?\", \n",
    "        \"new_answer\" : ['Rumah Baanjung', 'Rumah Banjar'],\n",
    "    }, \n",
    "    {\n",
    "        \"q_to_find\": \"apa peran dewa wisnu dalam kepercayaan hindu?\", \n",
    "        \"new_answer\" : ['pemelihara'],\n",
    "    }, \n",
    "    {\n",
    "        \"q_to_find\": \"apa penyebab utama pengeboman pasar tentena 2005?\", \n",
    "        \"new_answer\" : ['konflik sektarian antara Muslim dan Kristen di Poso', 'upaya balas dendam atas kekejaman sebelumnya yang dilakukan terhadap komunitas Muslim di Poso'],\n",
    "    }, \n",
    "    {\n",
    "        \"q_to_find\": \"apa seni islam pertama di baitul qur'an?\", \n",
    "        \"new_answer\" : ['salinan pertama Alquran'],\n",
    "    }, \n",
    "    {\n",
    "        \"q_to_find\": \"apa spesies ubur-ubur yang terbesar?\", \n",
    "        \"new_answer\" : ['Cyanea capillata', 'Surai singa'],\n",
    "    }, \n",
    "    {\n",
    "        \"q_to_find\": \"apa perusahaan pertama tempat david mackenzie ogilvy bekerja?\", \n",
    "        \"new_answer\" : ['Majestic Hotel'],\n",
    "    }, \n",
    "    {\n",
    "        \"q_to_find\": \"bagaimana sistem pemerintahan pakistan?\", \n",
    "        \"new_answer\" : ['pemerintah federal', 'republik demokrasi parlementer'],\n",
    "    }, \n",
    "    {\n",
    "        \"q_to_find\": \"berapa luas smk negeri 1 cikampek?\", \n",
    "        \"new_answer\" : ['29095m²', '28997m²'],\n",
    "    }, \n",
    "    {\n",
    "        \"q_to_find\": \"di tim apakah marc márquez alenta mendapatkan gelar juara dunia kelas 125cc pertama kali?\", \n",
    "        \"new_answer\" : ['KTM'],\n",
    "    }, \n",
    "    {\n",
    "        \"q_to_find\": \"kapan kapal pertama diciptakan?\", \n",
    "        \"new_answer\" : ['10.000 tahun yang lalu','masa Neolitikum'],\n",
    "    }, \n",
    "    {\n",
    "        \"q_to_find\": \"kapan katrina kaif mulai menjadi model?\", \n",
    "        \"new_answer\" : ['usia empat belas'],\n",
    "    }, \n",
    "    {\n",
    "        \"q_to_find\": \"kapan komputer mikro mulai dikembangkan?\", \n",
    "        \"new_answer\" : ['1971'],\n",
    "    }, \n",
    "    {\n",
    "        \"q_to_find\": \"kapan need for speed: payback dirilis?\", \n",
    "        \"new_answer\" : ['10 November 2017'],\n",
    "    }, \n",
    "    {\n",
    "        \"q_to_find\": \"kapan raja ataulf menikah?\", \n",
    "        \"new_answer\" : ['Januari 414'],\n",
    "    }, \n",
    "    {\n",
    "        \"q_to_find\": \"kapan rudi garcia mulai menjadi manajer sepak bola?\", \n",
    "        \"new_answer\" : ['Antara tahun 1994 dan 1996'],\n",
    "    }, \n",
    "    {\n",
    "        \"q_to_find\": \"kapan teori hubungan internasional diciptakan?\", \n",
    "        \"new_answer\" : ['setelah Perang Dunia I', '1939'],\n",
    "    }, \n",
    "    {\n",
    "        \"q_to_find\": \"dimana pelemparan di praha terjadi?\", \n",
    "        \"new_answer\" : ['Bohemia'],\n",
    "    }, \n",
    "    {\n",
    "        \"q_to_find\": \"dimana letak aquitania?\", \n",
    "        \"new_answer\" : ['Perancis bagian barat daya', 'Pegunungan Pyrenees'],\n",
    "    }, \n",
    "    {\n",
    "        \"q_to_find\": \"dimana letak balai kota dki jakarta?\", \n",
    "        \"new_answer\" : ['Jl. Medan Merdeka Selatan No. 8-9, Jakarta Pusat'],\n",
    "    }, \n",
    "    {\n",
    "        \"q_to_find\": \"dimana letak cekungan tarim?\", \n",
    "        \"new_answer\" : ['Barat Laut China','Xinjiang China'],\n",
    "    }, \n",
    "    {\n",
    "        \"q_to_find\": \"dimana letak daerah malta di eropa?\", \n",
    "        \"new_answer\" : ['Eropa Selatan'],\n",
    "    }, {\n",
    "        \"q_to_find\": \"dimana letak montenegro?\", \n",
    "        \"new_answer\" : ['Eropa Selatan'],\n",
    "    }, \n",
    "    {\n",
    "        \"q_to_find\": \"dimana letak orléans?\", \n",
    "        \"new_answer\" : ['Amerika Serikat' ,'muara Sungai Mississippi'],\n",
    "    }, \n",
    "    {\n",
    "        \"q_to_find\": \"dimana letak samudera pasifik?\", \n",
    "        \"new_answer\" : ['di antara Asia dan Australia di sebelah barat, Amerika di sebelah timur, Antartika di sebelah selatan dan Samudra Arktik di sebelah utara'],\n",
    "    }, \n",
    "    {\n",
    "        \"q_to_find\": \"dimana letak timur dekat kuno?\", \n",
    "        \"new_answer\" : ['Timur Tengah'],\n",
    "    }, \n",
    "    {\n",
    "        \"q_to_find\": \"dimana letak universitas leiden?\", \n",
    "        \"new_answer\" : ['Leiden','Belanda'],\n",
    "    }, \n",
    "    {\n",
    "        \"q_to_find\": \"dimana studio pembuatan tom and jerry?\", \n",
    "        \"new_answer\" : ['Hollywood'],\n",
    "    }, \n",
    "    {\n",
    "        \"q_to_find\": \"dimana su dingfang lahir?\", \n",
    "        \"new_answer\" : ['Wuyi'],\n",
    "    }, \n",
    "    {\n",
    "        \"q_to_find\": \"siapa dewa wisnu menurut agama hindu?\", \n",
    "        \"new_answer\" : ['Dewa yang bergelar sebagai shtiti (pemelihara) yang bertugas memelihara dan melindungi segala ciptaan Brahman'],\n",
    "    }, \n",
    "    {\n",
    "        \"q_to_find\": \"siapa ketua perum lkbn pertama?\", \n",
    "        \"new_answer\" : ['Mr. Soemanang'],\n",
    "    }, \n",
    "    {\n",
    "        \"q_to_find\": \"siapa nama karakter antagonis utama di dalam avatar: the last airbender?\", \n",
    "        \"new_answer\" : ['Amon'],\n",
    "        \"new_passage_text\": 'Steve Blum sebagai Amon adalah pria bertopeng misterius yang memimpin kelompok Equalists, sebuah kelompok yang anti-Pengendali yang juga menggunakan Ketrampilan Chi-Blokir yang dipakai untuk menaklukkan musuh. Dalam \"Kitab Wahyu\" yang pernah ditulisnya, wajahnya memiliki luka yang disebabkan oleh Mafia Pengendali Api yang suka memeras dan pernah membunuh keluarganya yang kemudian menjadi sebab ia mendirikan kelompok Anti-Pengendali, tetapi sebenarnya cerita itu hanya bohong agar para equalistbisa mngikuti jalannya, Ia memiliki kemampuan untuk menghilangkan kemampuan Pengendalian seseorang. Kemampuan seperti ini telah dimiliki oleh Aang di Avatar serial sebelumnya di Episode terakhir. Dia adalah tokoh Antagonis utama dalam serial ini.'\n",
    "    }, \n",
    "    {\n",
    "        \"q_to_find\": \"siapa presiden russia pada tahun 2012?\", \n",
    "        \"new_answer\" : ['Vladimir Putin'],\n",
    "    }, \n",
    "    {\n",
    "        \"q_to_find\": \"siapa presiden wanita pertama di filipina?\", \n",
    "        \"new_answer\" : ['Maria Corazon Sumulong Cojuangco Aquino', 'Cory Aquino'],\n",
    "    },\n",
    "    {\n",
    "        \"q_to_find\": \"siapa puteri indonesia yang ke 18?\", \n",
    "        \"new_answer\" : ['Sonia Fergina Citra'],\n",
    "    },\n",
    "    {\n",
    "        \"q_to_find\": \"siapa yang mendirikan organisasi palang merah?\", \n",
    "        \"new_answer\" : ['Henry Dunant'],\n",
    "    },\n",
    "    {\n",
    "        \"q_to_find\": \"tahun berapa pertempuran shiffin terjadi?\", \n",
    "        \"new_answer\" : ['657 Masehi', '37 Hijriah'],\n",
    "    },\n",
    "]\n",
    "tydiqa_filtered_answer = apply_rows_updates(\n",
    "    tydiqa_one_answer,\n",
    "    rows_to_update=rows_to_update_2,\n",
    "    lowercase_norm=True,\n",
    ")"
   ]
  },
  {
   "cell_type": "code",
   "execution_count": 38,
   "id": "bdccc4e8",
   "metadata": {},
   "outputs": [
    {
     "name": "stderr",
     "output_type": "stream",
     "text": [
      "Filter: 100%|██████████| 5909/5909 [00:01<00:00, 3430.52 examples/s]"
     ]
    },
    {
     "name": "stdout",
     "output_type": "stream",
     "text": [
      "Jumlah baris yang miss: 1\n"
     ]
    },
    {
     "name": "stderr",
     "output_type": "stream",
     "text": [
      "\n"
     ]
    }
   ],
   "source": [
    "tydi_miss = tydiqa_filtered_answer.filter(passage_miss_answer)\n",
    "\n",
    "print(f\"Jumlah baris yang miss: {len(tydi_miss)}\")"
   ]
  },
  {
   "cell_type": "code",
   "execution_count": 39,
   "id": "0dbea7ea",
   "metadata": {},
   "outputs": [
    {
     "name": "stderr",
     "output_type": "stream",
     "text": [
      "Filter: 100%|██████████| 5909/5909 [00:01<00:00, 3237.92 examples/s]"
     ]
    },
    {
     "name": "stdout",
     "output_type": "stream",
     "text": [
      "Sebelum: 5909\n",
      "Sesudah: 5908\n"
     ]
    },
    {
     "name": "stderr",
     "output_type": "stream",
     "text": [
      "\n"
     ]
    }
   ],
   "source": [
    "tydiqa_fin = tydiqa_filtered_answer.filter(has_answer)\n",
    "\n",
    "print(\"Sebelum:\", len(tydiqa_filtered_answer))\n",
    "print(\"Sesudah:\", len(tydiqa_fin))"
   ]
  },
  {
   "cell_type": "markdown",
   "id": "97b7a562",
   "metadata": {},
   "source": [
    "Hapus kolom 'mr_query_norm_match' dan 'mr_pos_match'"
   ]
  },
  {
   "cell_type": "code",
   "execution_count": 40,
   "id": "f717e88b",
   "metadata": {},
   "outputs": [],
   "source": [
    "tydiqa_fin = tydiqa_fin.remove_columns(['mr_query_norm_match', 'mr_pos_match', 'mr_title', 'mr_text'])"
   ]
  },
  {
   "cell_type": "code",
   "execution_count": 41,
   "id": "65eaf86d",
   "metadata": {},
   "outputs": [
    {
     "name": "stderr",
     "output_type": "stream",
     "text": [
      "Saving the dataset (1/1 shards): 100%|██████████| 5908/5908 [00:00<00:00, 25550.37 examples/s]\n"
     ]
    }
   ],
   "source": [
    "\"\"\"\n",
    "Sampai tahap ini, sudah:\n",
    "1. Memperbaiki pertanyaan/jawaban yang salah (misal, pertanyaan \"dimana\" malah dijawab dengan tanggal)\n",
    "2. Kalau ada beberapa jawaban, dan jawaban terpendek tidak sama dengan jawaban yang lain, maka perlu ditandai mana jawaban yang benar (bisa multiple)\n",
    "3. Untuk kasus jawaban banyak tapi relatif sama, pertahankan jawaban terpendek dan buang jawaban yang lain\n",
    "4. Atur jawaban multiple yang benar secara manual\n",
    "5. Normalisasi passage positif dan jawaban\n",
    "\"\"\"\n",
    "tydiqa_fin.save_to_disk(\"./generated_data/tydiqa_fin\")"
   ]
  },
  {
   "cell_type": "code",
   "execution_count": 1,
   "id": "6a669dff",
   "metadata": {},
   "outputs": [
    {
     "name": "stderr",
     "output_type": "stream",
     "text": [
      "c:\\Users\\LENOVO\\anaconda3\\envs\\recomp\\Lib\\site-packages\\tqdm\\auto.py:21: TqdmWarning: IProgress not found. Please update jupyter and ipywidgets. See https://ipywidgets.readthedocs.io/en/stable/user_install.html\n",
      "  from .autonotebook import tqdm as notebook_tqdm\n"
     ]
    },
    {
     "data": {
      "text/plain": [
       "Dataset({\n",
       "    features: ['id', 'document_title', 'passage_text', 'question', 'question_norm', 'question_stem', 'answer', 'mr_query_id', 'mr_docid', 'mr_negative_passages', 'query'],\n",
       "    num_rows: 5908\n",
       "})"
      ]
     },
     "execution_count": 1,
     "metadata": {},
     "output_type": "execute_result"
    }
   ],
   "source": [
    "from datasets import load_from_disk\n",
    "tydiqa_fin = load_from_disk(\"./generated_data/tydiqa_fin\")\n",
    "tydiqa_fin"
   ]
  },
  {
   "cell_type": "code",
   "execution_count": 2,
   "id": "a8f572aa",
   "metadata": {},
   "outputs": [],
   "source": [
    "import re\n",
    "from typing import List, Tuple, Union\n",
    "from datasets import Dataset\n",
    "from transformers import AutoTokenizer\n",
    "\n",
    "# Pakai BASE sesuai permintaan\n",
    "t5_tokenizer = AutoTokenizer.from_pretrained(\"google/flan-t5-base\")\n",
    "\n",
    "# ---------- helpers ----------\n",
    "def _encode_with_offsets(text: str, tokenizer):\n",
    "    enc = tokenizer(\n",
    "        text,\n",
    "        add_special_tokens=False,\n",
    "        return_offsets_mapping=True,\n",
    "        return_attention_mask=False,\n",
    "        return_token_type_ids=False,\n",
    "    )\n",
    "    return enc[\"input_ids\"], enc[\"offset_mapping\"]  # offsets: [(char_start, char_end)]\n",
    "\n",
    "def _find_answer_char_spans(context: str, answer: str) -> List[Tuple[int, int]]:\n",
    "    if not answer:\n",
    "        return []\n",
    "    return [(m.start(), m.end()) for m in re.finditer(re.escape(answer), context)]\n",
    "\n",
    "def _char_to_token_span(offsets: List[Tuple[int,int]], char_start: int, char_end: int):\n",
    "    tok_s, tok_e = None, None\n",
    "    for i, (s, e) in enumerate(offsets):\n",
    "        if e <= char_start:\n",
    "            continue\n",
    "        if s >= char_end:\n",
    "            break\n",
    "        if tok_s is None:\n",
    "            tok_s = i\n",
    "        tok_e = i\n",
    "    if tok_s is None:\n",
    "        return None\n",
    "    return (tok_s, tok_e)  # inklusif\n",
    "\n",
    "def _answers_token_spans(context: str, answers: List[str], offsets: List[Tuple[int,int]]) -> List[Tuple[int,int]]:\n",
    "    \"\"\"Gabungkan semua rentang token untuk SEMUA jawaban (boleh multi-kemunculan).\"\"\"\n",
    "    spans_tok: List[Tuple[int,int]] = []\n",
    "    for ans in answers:\n",
    "        if not isinstance(ans, str) or not ans:\n",
    "            continue\n",
    "        for (cs, ce) in _find_answer_char_spans(context, ans):\n",
    "            span = _char_to_token_span(offsets, cs, ce)\n",
    "            if span is not None:\n",
    "                spans_tok.append(span)\n",
    "    if not spans_tok:\n",
    "        return spans_tok\n",
    "    spans_tok.sort()\n",
    "    merged = []\n",
    "    cur_s, cur_e = spans_tok[0]\n",
    "    for s, e in spans_tok[1:]:\n",
    "        if s <= cur_e + 1:\n",
    "            cur_e = max(cur_e, e)\n",
    "        else:\n",
    "            merged.append((cur_s, cur_e))\n",
    "            cur_s, cur_e = s, e\n",
    "    merged.append((cur_s, cur_e))\n",
    "    return merged\n",
    "\n",
    "def _adjust_cut_for_answer(start_idx: int, tentative_cut: int, ans_spans: List[Tuple[int,int]]) -> int:\n",
    "    \"\"\"\n",
    "    Aturan:\n",
    "      * cut == s (awal jawaban): potong sebelum s, KECUALI s == start_idx -> maju ke e+1 (hindari segmen kosong)\n",
    "      * s < cut <= e (di tengah jawaban): maju ke e+1\n",
    "      * lainnya: biarkan\n",
    "    \"\"\"\n",
    "    cut = tentative_cut\n",
    "    for (s, e) in ans_spans:\n",
    "        if cut == s:\n",
    "            cut = s if s > start_idx else (e + 1)\n",
    "            break\n",
    "        if s < cut <= e:\n",
    "            cut = e + 1\n",
    "            break\n",
    "    return cut\n",
    "\n",
    "# ---------- NEW: snap batas potong ke batas kata ----------\n",
    "def _is_midword_boundary(b: int, context: str, offsets: List[Tuple[int,int]]) -> bool:\n",
    "    \"\"\"\n",
    "    Apakah batas antara token (b-1) | (b) jatuh di tengah kata?\n",
    "    Definisi 'tengah kata': tidak ada spasi/punctuation di antara keduanya\n",
    "    DAN kedua sisi adalah huruf/angka.\n",
    "    \"\"\"\n",
    "    if b <= 0 or b >= len(offsets):\n",
    "        return False\n",
    "    left_end = offsets[b - 1][1]   # char index setelah token kiri\n",
    "    right_start = offsets[b][0]    # char index awal token kanan\n",
    "\n",
    "    # Jika ada jarak (spasi) di antaranya, jelas bukan mid-word.\n",
    "    if left_end < right_start:\n",
    "        # ada karakter di antara; kalau itu whitespace, aman\n",
    "        gap = context[left_end:right_start]\n",
    "        if any(ch.isspace() for ch in gap):\n",
    "            return False\n",
    "        # kalau gap bukan spasi (aneh, tapi anggap sebagai pemisah juga)\n",
    "        if any(not ch.isalnum() for ch in gap):\n",
    "            return False\n",
    "        # kalau semua gap alnum (jarang), ini mid-word\n",
    "        return True\n",
    "\n",
    "    # Umumnya tokenizer menyambung langsung: left_end == right_start\n",
    "    # Cek char terakhir kiri & char pertama kanan\n",
    "    left_char  = context[left_end - 1] if left_end - 1 >= 0 else \" \"\n",
    "    right_char = context[right_start]   if right_start < len(context) else \" \"\n",
    "    return left_char.isalnum() and right_char.isalnum()\n",
    "\n",
    "def _snap_cut_to_word_boundary(start: int, cut: int, n_tok: int, context: str, offsets: List[Tuple[int,int]]) -> int:\n",
    "    \"\"\"\n",
    "    Jika 'cut' memotong di tengah kata, coba MAJU hingga keluar dari kata.\n",
    "    Jika sudah di ujung dan masih mid-word, mundur sampai awal kata (tanpa membuat segmen kosong).\n",
    "    \"\"\"\n",
    "    if cut <= start or cut >= n_tok:\n",
    "        return cut\n",
    "    if not _is_midword_boundary(cut, context, offsets):\n",
    "        return cut\n",
    "\n",
    "    # Coba MAJU sampai bukan mid-word\n",
    "    fwd = cut\n",
    "    while fwd < n_tok and _is_midword_boundary(fwd, context, offsets):\n",
    "        fwd += 1\n",
    "    if fwd < n_tok:\n",
    "        return fwd\n",
    "\n",
    "    # Jika mentok (mis. sisa teks satu kata panjang sampai akhir), MUNDUR\n",
    "    back = cut\n",
    "    while back > start + 1 and _is_midword_boundary(back, context, offsets):\n",
    "        back -= 1\n",
    "    return max(back, start + 1)\n",
    "\n",
    "# ---------- core: segmenter generik ----------\n",
    "def segment_string_with_answers(\n",
    "    context: str,\n",
    "    answers: Union[str, List[str], None],\n",
    "    tokenizer,\n",
    "    max_wp: int = 180,\n",
    "    min_wp_last: int = 50,\n",
    ") -> List[str]:\n",
    "    \"\"\"\n",
    "    Segmentasi string 'context' ke potongan <= max_wp (WP T5),\n",
    "    hindari memotong JAWABAN (string atau list of strings),\n",
    "    dan JUGA hindari memotong di tengah-tengah kata.\n",
    "    Jika segmen terakhir < min_wp_last token, gabungkan ke segmen sebelumnya.\n",
    "    \"\"\"\n",
    "    if not isinstance(context, str) or len(context) == 0:\n",
    "        return []\n",
    "\n",
    "    # Normalisasi tipe answers -> list[str]\n",
    "    if answers is None:\n",
    "        answers_list: List[str] = []\n",
    "    elif isinstance(answers, str):\n",
    "        answers_list = [answers]\n",
    "    else:\n",
    "        answers_list = [a for a in answers if isinstance(a, str) and a]\n",
    "\n",
    "    input_ids, offsets = _encode_with_offsets(context, tokenizer)\n",
    "    n_tok = len(input_ids)\n",
    "    if n_tok == 0:\n",
    "        return [context]\n",
    "\n",
    "    # semua rentang token jawaban\n",
    "    ans_tok_spans = _answers_token_spans(context, answers_list, offsets)\n",
    "\n",
    "    # bagi per 180 dengan penyesuaian jawaban + snap ke batas kata\n",
    "    segments_tok_ranges: List[Tuple[int,int]] = []  # [(start, end_exclusive)]\n",
    "    start = 0\n",
    "    while start < n_tok:\n",
    "        tentative_cut = min(start + max_wp, n_tok)\n",
    "        cut = _adjust_cut_for_answer(start, tentative_cut, ans_tok_spans)\n",
    "        # snap ke batas kata agar tidak terbelah di tengah kata\n",
    "        cut = _snap_cut_to_word_boundary(start, cut, n_tok, context, offsets)\n",
    "        # amankan batas\n",
    "        cut = max(cut, start + 1)\n",
    "        cut = min(cut, n_tok)\n",
    "        segments_tok_ranges.append((start, cut))\n",
    "        start = cut\n",
    "\n",
    "    # merge segmen terakhir bila < min_wp_last\n",
    "    if len(segments_tok_ranges) >= 2:\n",
    "        last_s, last_e = segments_tok_ranges[-1]\n",
    "        if (last_e - last_s) < min_wp_last:\n",
    "            prev_s, prev_e = segments_tok_ranges[-2]\n",
    "            segments_tok_ranges[-2] = (prev_s, last_e)\n",
    "            segments_tok_ranges.pop()\n",
    "\n",
    "    # konversi token-index ke substring asli via offsets\n",
    "    seg_texts: List[str] = []\n",
    "    for (a, b) in segments_tok_ranges:\n",
    "        char_start = offsets[a][0]\n",
    "        char_end   = offsets[b-1][1]\n",
    "        seg_texts.append(context[char_start:char_end].strip())\n",
    "\n",
    "    return seg_texts\n",
    "\n",
    "# ---------- wrapper map yang fleksibel ----------\n",
    "def add_segments_generic(\n",
    "    example,\n",
    "    context_col: str = \"context\",\n",
    "    answer_col: str  = \"answer\",\n",
    "    out_col: str     = \"context_segments_180\",\n",
    "    tokenizer = t5_tokenizer,\n",
    "    max_wp: int = 180,\n",
    "    min_wp_last: int = 50,\n",
    "):\n",
    "    segs = segment_string_with_answers(\n",
    "        context = example[context_col],\n",
    "        answers = example.get(answer_col, None),\n",
    "        tokenizer = tokenizer,\n",
    "        max_wp = max_wp,\n",
    "        min_wp_last = min_wp_last,\n",
    "    )\n",
    "    example[out_col] = segs\n",
    "    return example\n"
   ]
  },
  {
   "cell_type": "code",
   "execution_count": null,
   "id": "a22ece94",
   "metadata": {},
   "outputs": [],
   "source": [
    "tydiqa_fin = tydiqa_fin.map(\n",
    "    lambda ex: add_segments_generic(\n",
    "        ex,\n",
    "        context_col=\"passage_text\",\n",
    "        answer_col=\"answer\",\n",
    "        out_col=\"passage_segments_180\",  # nama keluaran sesuai selera\n",
    "        tokenizer=t5_tokenizer,\n",
    "        max_wp=180,\n",
    "        min_wp_last=50,\n",
    "    ),\n",
    "    load_from_cache_file=False\n",
    ")\n"
   ]
  },
  {
   "cell_type": "code",
   "execution_count": 5,
   "id": "7be289b9",
   "metadata": {},
   "outputs": [
    {
     "name": "stderr",
     "output_type": "stream",
     "text": [
      "Map: 100%|██████████| 5908/5908 [00:01<00:00, 3965.10 examples/s]\n"
     ]
    }
   ],
   "source": [
    "def add_pos_neg_for_indoqa_or_tydiqa(example, case_insensitive: bool = False):\n",
    "    segs = example.get(\"passage_segments_180\", []) or []\n",
    "\n",
    "    # Ambil kolom jawaban (INDOQA: 'answer' -> str; TYDIQA: 'answers' -> list[str])\n",
    "    ans_obj = example.get(\"answer\", None)\n",
    "\n",
    "    # Normalisasi ke list[str]\n",
    "    if isinstance(ans_obj, str):\n",
    "        answers_list = [ans_obj] if ans_obj.strip() else []\n",
    "    elif isinstance(ans_obj, (list, tuple)):\n",
    "        answers_list = [a for a in ans_obj if isinstance(a, str) and a.strip()]\n",
    "    else:\n",
    "        answers_list = []\n",
    "\n",
    "    # Jika tidak ada segmen atau daftar jawaban kosong → semuanya negatif\n",
    "    if not segs or not answers_list:\n",
    "        example[\"positive_passage\"] = \"\"\n",
    "        example[\"negative_passages\"] = segs[:]\n",
    "        return example\n",
    "\n",
    "    # Normalisasi case jika diminta\n",
    "    if case_insensitive:\n",
    "        seg_norms = [s.casefold() for s in segs]\n",
    "        answers_norm = [a.casefold() for a in answers_list]\n",
    "    else:\n",
    "        seg_norms = segs\n",
    "        answers_norm = answers_list\n",
    "\n",
    "    # Cek: segmen harus mengandung SEMUA elemen jawaban\n",
    "    def contains_all(seg_text: str, all_answers: list[str]) -> bool:\n",
    "        return all(a in seg_text for a in all_answers)\n",
    "\n",
    "    pos_indices = [i for i, s in enumerate(seg_norms) if contains_all(s, answers_norm)]\n",
    "\n",
    "    if pos_indices:\n",
    "        pos_idx = pos_indices[0]\n",
    "        example[\"positive_passage\"] = segs[pos_idx]  # pakai teks asli\n",
    "        example[\"negative_passages\"] = [s for j, s in enumerate(segs) if j != pos_idx]\n",
    "    else:\n",
    "        example[\"positive_passage\"] = \"\"\n",
    "        example[\"negative_passages\"] = segs[:]\n",
    "\n",
    "    return example\n",
    "\n",
    "# Contoh pemakaian:\n",
    "# INDOQA (answer = string):\n",
    "# indoqa_clean = indoqa_clean.map(add_pos_neg_for_indoqa_or_tydiqa)\n",
    "\n",
    "# TYDIQA (answers = list[str]):\n",
    "tydiqa_fin = tydiqa_fin.map(add_pos_neg_for_indoqa_or_tydiqa)\n"
   ]
  },
  {
   "cell_type": "code",
   "execution_count": 10,
   "id": "e363b50a",
   "metadata": {},
   "outputs": [],
   "source": [
    "tydiqa_fin=tydiqa_fin.remove_columns(['passage_text', 'query'])"
   ]
  },
  {
   "cell_type": "code",
   "execution_count": 11,
   "id": "d833efde",
   "metadata": {},
   "outputs": [
    {
     "name": "stdout",
     "output_type": "stream",
     "text": [
      "panjang sebelum drop positive_passagge kosong: 5908\n"
     ]
    },
    {
     "name": "stderr",
     "output_type": "stream",
     "text": [
      "Filter: 100%|██████████| 5908/5908 [00:02<00:00, 2597.84 examples/s]"
     ]
    },
    {
     "name": "stdout",
     "output_type": "stream",
     "text": [
      "panjang setelah drop positive_passagge kosong: 5907\n"
     ]
    },
    {
     "name": "stderr",
     "output_type": "stream",
     "text": [
      "\n"
     ]
    }
   ],
   "source": [
    "def has_answer(example):\n",
    "    passage = example[\"positive_passage\"]\n",
    "    answers = example[\"answer\"] or []\n",
    "    # True kalau ada minimal satu jawaban muncul di passage\n",
    "    return any(ans in passage for ans in answers)\n",
    "\n",
    "# filter dataset\n",
    "print(\"panjang sebelum drop positive_passagge kosong:\", len(tydiqa_fin))\n",
    "tydiqa_with_unfinished_negative_passages = tydiqa_fin.filter(has_answer)\n",
    "print(\"panjang setelah drop positive_passagge kosong:\", len(tydiqa_with_unfinished_negative_passages))"
   ]
  },
  {
   "cell_type": "code",
   "execution_count": 12,
   "id": "45401723",
   "metadata": {},
   "outputs": [
    {
     "name": "stderr",
     "output_type": "stream",
     "text": [
      "Saving the dataset (1/1 shards): 100%|██████████| 5907/5907 [00:00<00:00, 19205.47 examples/s]\n"
     ]
    }
   ],
   "source": [
    "tydiqa_with_unfinished_negative_passages.save_to_disk(\"./generated_data/tydiqa_with_unfinished_negative_passages\")"
   ]
  },
  {
   "cell_type": "markdown",
   "id": "038ec075",
   "metadata": {},
   "source": [
    "# Indoqa"
   ]
  },
  {
   "cell_type": "code",
   "execution_count": 13,
   "id": "d4a924e4",
   "metadata": {},
   "outputs": [
    {
     "data": {
      "text/plain": [
       "DatasetDict({\n",
       "    train: Dataset({\n",
       "        features: ['id', 'question', 'answer', 'context', 'category', 'span_start', 'span_end'],\n",
       "        num_rows: 3309\n",
       "    })\n",
       "    validation: Dataset({\n",
       "        features: ['id', 'question', 'answer', 'context', 'category', 'span_start', 'span_end'],\n",
       "        num_rows: 1104\n",
       "    })\n",
       "})"
      ]
     },
     "execution_count": 13,
     "metadata": {},
     "output_type": "execute_result"
    }
   ],
   "source": [
    "from datasets import load_dataset, concatenate_datasets\n",
    "indoqa_raw = load_dataset(\"SEACrowd/indoqa\", trust_remote_code=True)\n",
    "indoqa_raw"
   ]
  },
  {
   "cell_type": "code",
   "execution_count": 14,
   "id": "35ae0310",
   "metadata": {},
   "outputs": [],
   "source": [
    "indoqa = concatenate_datasets([indoqa_raw[split] for split in indoqa_raw.keys()])"
   ]
  },
  {
   "cell_type": "code",
   "execution_count": 19,
   "id": "20fefd43",
   "metadata": {},
   "outputs": [
    {
     "name": "stderr",
     "output_type": "stream",
     "text": [
      "Filter: 100%|██████████| 4253/4253 [00:00<00:00, 18735.45 examples/s]\n",
      "Map: 100%|██████████| 4253/4253 [06:06<00:00, 11.61 examples/s]\n"
     ]
    },
    {
     "data": {
      "text/plain": [
       "Dataset({\n",
       "    features: ['id', 'question', 'answer', 'context', 'category', 'span_start', 'span_end', 'question_norm', 'question_stem'],\n",
       "    num_rows: 4253\n",
       "})"
      ]
     },
     "execution_count": 19,
     "metadata": {},
     "output_type": "execute_result"
    }
   ],
   "source": [
    "indoqa = indoqa.filter(lambda x: x['category']=='SPAN')\n",
    "\n",
    "indoqa = indoqa.map(\n",
    "    add_norm_and_stem, \n",
    "    batched=True, \n",
    "    fn_kwargs={\"column\": \"question\"}   # sesuaikan dengan nama kolom di tydiqa_gold_all\n",
    ")\n",
    "indoqa"
   ]
  },
  {
   "cell_type": "code",
   "execution_count": 20,
   "id": "ff5a0c5e",
   "metadata": {},
   "outputs": [
    {
     "name": "stdout",
     "output_type": "stream",
     "text": [
      "Sebelum: 4253 baris\n",
      "Sesudah: 4247 baris (duplikat dihapus)\n"
     ]
    }
   ],
   "source": [
    "import pandas as pd\n",
    "from datasets import Dataset\n",
    "\n",
    "# konversi ke pandas\n",
    "df = indoqa.to_pandas()\n",
    "\n",
    "# tambahkan panjang context\n",
    "df[\"_context_len\"] = df[\"context\"].str.len()\n",
    "\n",
    "# urutkan biar idxmin konsisten (misal by context_len)\n",
    "df_sorted = df.sort_values(by=[\"question_stem\", \"_context_len\"])\n",
    "\n",
    "# ambil index dengan context terpendek untuk setiap question_stem\n",
    "idx_keep = df_sorted.groupby(\"question_stem\")[\"_context_len\"].idxmin()\n",
    "\n",
    "# subset baru\n",
    "df_dedup = df.loc[idx_keep].reset_index(drop=True)\n",
    "\n",
    "print(f\"Sebelum: {len(df)} baris\")\n",
    "print(f\"Sesudah: {len(df_dedup)} baris (duplikat dihapus)\")\n",
    "\n",
    "# drop kolom bantu\n",
    "df_dedup = df_dedup.drop(columns=[\"_context_len\"])\n",
    "\n",
    "# konversi balik ke HuggingFace Dataset\n",
    "indoqa_dedup = Dataset.from_pandas(df_dedup, preserve_index=False)"
   ]
  },
  {
   "cell_type": "code",
   "execution_count": 21,
   "id": "7a189daa",
   "metadata": {},
   "outputs": [
    {
     "name": "stderr",
     "output_type": "stream",
     "text": [
      "Map: 100%|██████████| 4247/4247 [00:02<00:00, 1547.77 examples/s]\n"
     ]
    }
   ],
   "source": [
    "def normalize_fields(batch):\n",
    "    new_answers = []\n",
    "    new_passages = []\n",
    "\n",
    "    for i in range(len(batch[\"answer\"])):\n",
    "\n",
    "        answer = batch.get(\"answer\", [None])[i]\n",
    "        new_answers.append(normalize(answer, lowercase=False) if answer else answer)\n",
    "\n",
    "        # ===== passage_text =====\n",
    "        passage = batch.get(\"context\", [None])[i]\n",
    "        new_passages.append(normalize(passage, lowercase=False) if passage else passage)\n",
    "\n",
    "    out = {\n",
    "        \"answer\": new_answers,\n",
    "        \"context\": new_passages,\n",
    "    }\n",
    "    return out\n",
    "\n",
    "indoqa_clean = indoqa_dedup.map(\n",
    "    normalize_fields,\n",
    "    batched=True,\n",
    "    batch_size=100,\n",
    "    load_from_cache_file=False\n",
    ")"
   ]
  },
  {
   "cell_type": "code",
   "execution_count": 22,
   "id": "43648be7",
   "metadata": {},
   "outputs": [
    {
     "name": "stderr",
     "output_type": "stream",
     "text": [
      "Tokenizing `context`:   0%|          | 0/9 [00:00<?, ?it/s]Token indices sequence length is longer than the specified maximum sequence length for this model (514 > 512). Running this sequence through the model will result in indexing errors\n",
      "Tokenizing `context`: 100%|██████████| 9/9 [00:00<00:00,  9.41it/s]\n"
     ]
    },
    {
     "name": "stdout",
     "output_type": "stream",
     "text": [
      "=== Statistik panjang token `context` (Flan-T5) ===\n",
      "       count: 4247\n",
      "        mean: 282.12\n",
      "         std: 86.64\n",
      "         min: 111\n",
      "  p50_median: 264.00\n",
      "         p90: 413.00\n",
      "         p95: 450.70\n",
      "         p99: 499.00\n",
      "         max: 566\n",
      "   > 256:  52.91%\n",
      "   > 512:   0.61%\n",
      "   > 600:   0.00%\n",
      "  > 1024:   0.00%\n"
     ]
    },
    {
     "data": {
      "image/png": "[encoded data removed]",
      "text/plain": [
       "<Figure size 800x500 with 1 Axes>"
      ]
     },
     "metadata": {},
     "output_type": "display_data"
    }
   ],
   "source": [
    "from transformers import AutoTokenizer\n",
    "import numpy as np\n",
    "import matplotlib.pyplot as plt\n",
    "from tqdm import tqdm\n",
    "\n",
    "# 1) Tokenizer Flan-T5\n",
    "t5_tokenizer = AutoTokenizer.from_pretrained(\"google/flan-t5-base\")\n",
    "\n",
    "# 2) Ambil panjang token kolom `context` dengan batching (lebih cepat)\n",
    "def token_lengths_for_column(ds, col=\"context\", batch_size=512):\n",
    "    lengths = []\n",
    "    n = len(ds)\n",
    "    for start in tqdm(range(0, n, batch_size), desc=f\"Tokenizing `{col}`\"):\n",
    "        end = min(start + batch_size, n)\n",
    "        batch_texts = [(ds[i].get(col) or \"\") for i in range(start, end)]\n",
    "        enc = t5_tokenizer(batch_texts, add_special_tokens=True, truncation=False)\n",
    "        # panjang = jumlah token per contoh\n",
    "        lens = [len(ids) for ids in enc[\"input_ids\"]]\n",
    "        lengths.extend(lens)\n",
    "    return np.array(lengths, dtype=np.int32)\n",
    "\n",
    "lengths = token_lengths_for_column(indoqa_clean, col=\"context\", batch_size=512)\n",
    "\n",
    "# 3) Statistik ringkas\n",
    "def describe_lengths(arr):\n",
    "    if arr.size == 0:\n",
    "        return {}\n",
    "    stats = {\n",
    "        \"count\": int(arr.size),\n",
    "        \"mean\": float(np.mean(arr)),\n",
    "        \"std\": float(np.std(arr)),\n",
    "        \"min\": int(np.min(arr)),\n",
    "        \"p50_median\": float(np.median(arr)),\n",
    "        \"p90\": float(np.percentile(arr, 90)),\n",
    "        \"p95\": float(np.percentile(arr, 95)),\n",
    "        \"p99\": float(np.percentile(arr, 99)),\n",
    "        \"max\": int(np.max(arr)),\n",
    "    }\n",
    "    # proporsi melewati beberapa ambang umum (opsional)\n",
    "    for thr in (256, 512, 600, 1024):\n",
    "        stats[f\"> {thr}\"] = float((arr > thr).mean() * 100.0)\n",
    "    return stats\n",
    "\n",
    "stats = describe_lengths(lengths)\n",
    "\n",
    "# 4) Cetak statistik\n",
    "print(\"=== Statistik panjang token `context` (Flan-T5) ===\")\n",
    "for k in [\"count\",\"mean\",\"std\",\"min\",\"p50_median\",\"p90\",\"p95\",\"p99\",\"max\",\"> 256\",\"> 512\",\"> 600\",\"> 1024\"]:\n",
    "    if k in stats:\n",
    "        if k.startswith(\"> \"):\n",
    "            print(f\"{k:>8}: {stats[k]:6.2f}%\")\n",
    "        elif k in {\"mean\",\"std\",\"p50_median\",\"p90\",\"p95\",\"p99\"}:\n",
    "            print(f\"{k:>12}: {stats[k]:.2f}\")\n",
    "        else:\n",
    "            print(f\"{k:>12}: {stats[k]}\")\n",
    "\n",
    "# 5) Visualisasi histogram\n",
    "plt.figure(figsize=(8,5))\n",
    "plt.hist(lengths, bins=60, edgecolor=\"black\")\n",
    "plt.title(\"Distribusi Panjang Token `context` (Flan-T5)\")\n",
    "plt.xlabel(\"Jumlah token\"); plt.ylabel(\"Frekuensi\")\n",
    "\n",
    "# Garis bantu mean/median/p95\n",
    "mean_v = np.mean(lengths) if lengths.size else 0\n",
    "med_v  = np.median(lengths) if lengths.size else 0\n",
    "p95_v  = np.percentile(lengths, 95) if lengths.size else 0\n",
    "plt.axvline(mean_v, linestyle=\"--\", label=f\"Mean={mean_v:.1f}\")\n",
    "plt.axvline(med_v,  linestyle=\":\",  label=f\"Median={med_v:.1f}\")\n",
    "plt.axvline(p95_v,  linestyle=\"-.\", label=f\"P95={p95_v:.1f}\")\n",
    "plt.legend()\n",
    "plt.tight_layout()\n",
    "plt.show()\n"
   ]
  },
  {
   "cell_type": "code",
   "execution_count": 23,
   "id": "8a960ce5",
   "metadata": {},
   "outputs": [
    {
     "data": {
      "text/plain": [
       "Dataset({\n",
       "    features: ['id', 'question', 'answer', 'context', 'category', 'span_start', 'span_end', 'question_norm', 'question_stem'],\n",
       "    num_rows: 4247\n",
       "})"
      ]
     },
     "execution_count": 23,
     "metadata": {},
     "output_type": "execute_result"
    }
   ],
   "source": [
    "indoqa_clean"
   ]
  },
  {
   "cell_type": "markdown",
   "id": "fc03b2ab",
   "metadata": {},
   "source": [
    "Potong context agar panjangnya 180 token, minimal 50 token"
   ]
  },
  {
   "cell_type": "code",
   "execution_count": 24,
   "id": "c824437d",
   "metadata": {},
   "outputs": [
    {
     "name": "stderr",
     "output_type": "stream",
     "text": [
      "Map: 100%|██████████| 4247/4247 [00:04<00:00, 973.72 examples/s] \n"
     ]
    }
   ],
   "source": [
    "indoqa_clean = indoqa_clean.map(\n",
    "    lambda ex: add_segments_generic(\n",
    "        ex,\n",
    "        context_col=\"context\",\n",
    "        answer_col=\"answer\",\n",
    "        out_col=\"context_segments_180\",  # nama keluaran sesuai selera\n",
    "        tokenizer=t5_tokenizer,\n",
    "        max_wp=180,\n",
    "        min_wp_last=50,\n",
    "    ),\n",
    "    load_from_cache_file=False\n",
    ")"
   ]
  },
  {
   "cell_type": "code",
   "execution_count": null,
   "id": "c99c799b",
   "metadata": {},
   "outputs": [
    {
     "name": "stderr",
     "output_type": "stream",
     "text": [
      "Map:   0%|          | 0/4247 [00:00<?, ? examples/s]Token indices sequence length is longer than the specified maximum sequence length for this model (513 > 512). Running this sequence through the model will result in indexing errors\n",
      "Map: 100%|██████████| 4247/4247 [00:04<00:00, 855.09 examples/s] \n"
     ]
    }
   ],
   "source": [
    "# import re\n",
    "# from typing import List, Tuple\n",
    "# from datasets import Dataset  # kalau perlu\n",
    "# from transformers import AutoTokenizer\n",
    "\n",
    "# # Pakai BASE (bukan large)\n",
    "# t5_tokenizer = AutoTokenizer.from_pretrained(\"google/flan-t5-base\")\n",
    "\n",
    "# def _encode_with_offsets(text: str, tokenizer):\n",
    "#     \"\"\"\n",
    "#     Tokenisasi tanpa special tokens, sekaligus ambil offset mapping (char start, char end) per token.\n",
    "#     \"\"\"\n",
    "#     enc = tokenizer(\n",
    "#         text,\n",
    "#         add_special_tokens=False,\n",
    "#         return_offsets_mapping=True,\n",
    "#         return_attention_mask=False,\n",
    "#         return_token_type_ids=False,\n",
    "#     )\n",
    "#     # enc[\"input_ids\"] adalah deretan wordpiece; setiap item = 1 token WP\n",
    "#     return enc[\"input_ids\"], enc[\"offset_mapping\"]  # offsets: List[(start,end)]\n",
    "\n",
    "# def _find_answer_char_spans(context: str, answer: str) -> List[Tuple[int, int]]:\n",
    "#     \"\"\"\n",
    "#     Cari semua kemunculan substring 'answer' di 'context' (exact match, case-sensitive).\n",
    "#     Kembalikan list pasangan (char_start, char_end).\n",
    "#     \"\"\"\n",
    "#     if not answer:\n",
    "#         return []\n",
    "#     return [(m.start(), m.end()) for m in re.finditer(re.escape(answer), context)]\n",
    "\n",
    "# def _char_to_token_span(offsets: List[Tuple[int,int]], char_start: int, char_end: int) -> Tuple[int, int]:\n",
    "#     \"\"\"\n",
    "#     Peta rentang karakter [char_start, char_end) ke rentang token indeks [tok_s, tok_e] (inklusif).\n",
    "#     Token dihitung masuk jika overlap dengan rentang karakter.\n",
    "#     \"\"\"\n",
    "#     tok_s, tok_e = None, None\n",
    "#     for i, (s, e) in enumerate(offsets):\n",
    "#         if e <= char_start:    # token berakhir sebelum mulai jawaban\n",
    "#             continue\n",
    "#         if s >= char_end:      # token mulai setelah akhir jawaban\n",
    "#             break\n",
    "#         # overlap\n",
    "#         if tok_s is None:\n",
    "#             tok_s = i\n",
    "#         tok_e = i\n",
    "#     if tok_s is None:\n",
    "#         return None\n",
    "#     return (tok_s, tok_e)\n",
    "\n",
    "# def _answer_token_spans(context: str, answer: str, offsets: List[Tuple[int,int]]) -> List[Tuple[int,int]]:\n",
    "#     \"\"\"\n",
    "#     Dapatkan semua rentang token (start,end inklusif) yang mencakup jawaban (string).\n",
    "#     \"\"\"\n",
    "#     spans_char = _find_answer_char_spans(context, answer)\n",
    "#     spans_tok = []\n",
    "#     for (cs, ce) in spans_char:\n",
    "#         span = _char_to_token_span(offsets, cs, ce)\n",
    "#         if span is not None:\n",
    "#             spans_tok.append(span)\n",
    "#     return spans_tok\n",
    "\n",
    "# def _adjust_cut_for_answer(start_idx: int, tentative_cut: int, ans_spans: List[Tuple[int,int]]) -> int:\n",
    "#     \"\"\"\n",
    "#     Sesuaikan titik potong (batas) agar tidak memotong jawaban.\n",
    "#     - start_idx: indeks token awal segmen saat ini\n",
    "#     - tentative_cut: indeks token batas eksklusif (potong di sini) = start_idx + 180 atau akhir teks\n",
    "#     - ans_spans: daftar (s,e) inklusif token-range jawaban\n",
    "\n",
    "#     Aturan:\n",
    "#       * Jika tepat di awal jawaban (tentative_cut == s): potong SEBELUM jawaban (cut = s),\n",
    "#         kecuali s == start_idx (akan kosong) -> dalam kasus ini MAJU ke akhir jawaban (cut = e+1).\n",
    "#       * Jika jatuh DI TENGAH jawaban (s < tentative_cut <= e): MAJU ke akhir jawaban (cut = e+1).\n",
    "#       * Jika tidak menyentuh jawaban: biarkan.\n",
    "#     \"\"\"\n",
    "#     cut = tentative_cut\n",
    "#     for (s, e) in ans_spans:\n",
    "#         # tepat di awal jawaban\n",
    "#         if cut == s:\n",
    "#             if s > start_idx:\n",
    "#                 cut = s\n",
    "#             else:\n",
    "#                 # menghindari segmen kosong; masukkan jawaban di segmen ini\n",
    "#                 cut = e + 1\n",
    "#             break\n",
    "#         # di tengah jawaban\n",
    "#         if s < cut <= e:\n",
    "#             cut = e + 1\n",
    "#             break\n",
    "#     return cut\n",
    "\n",
    "# def segment_context_with_answer(context: str, answer: str, tokenizer, max_wp: int = 180, min_wp_last: int = 50) -> List[str]:\n",
    "#     \"\"\"\n",
    "#     Bagi 'context' (string) menjadi segmen dengan panjang <= max_wp wordpiece.\n",
    "#     Jika batas memotong jawaban, sesuaikan sesuai aturan.\n",
    "#     Setelah selesai, jika segmen terakhir < min_wp_last token, gabungkan ke segmen sebelumnya.\n",
    "\n",
    "#     Return: list of segment strings.\n",
    "#     \"\"\"\n",
    "#     if not isinstance(context, str) or len(context) == 0:\n",
    "#         return []\n",
    "\n",
    "#     input_ids, offsets = _encode_with_offsets(context, tokenizer)\n",
    "#     n_tok = len(input_ids)\n",
    "#     if n_tok == 0:\n",
    "#         return [context]\n",
    "\n",
    "#     # daftar jawaban (boleh ada beberapa kemunculan)\n",
    "#     ans_tok_spans = _answer_token_spans(context, answer or \"\", offsets)\n",
    "\n",
    "#     segments_tok_ranges: List[Tuple[int,int]] = []  # [ (a,b) ) b eksklusif\n",
    "#     start = 0\n",
    "#     while start < n_tok:\n",
    "#         # target batas normal\n",
    "#         tentative_cut = min(start + max_wp, n_tok)\n",
    "#         # sesuaikan jika memotong jawaban\n",
    "#         cut = _adjust_cut_for_answer(start, tentative_cut, ans_tok_spans)\n",
    "#         # amankan batas\n",
    "#         cut = max(cut, start + 1)  # jangan biarkan kosong\n",
    "#         cut = min(cut, n_tok)\n",
    "\n",
    "#         segments_tok_ranges.append((start, cut))\n",
    "#         start = cut\n",
    "\n",
    "#     # Hitung panjang token tiap segmen; jika segmen terakhir < min_wp_last, gabung ke sebelumnya\n",
    "#     if len(segments_tok_ranges) >= 2:\n",
    "#         last_s, last_e = segments_tok_ranges[-1]\n",
    "#         last_len = last_e - last_s\n",
    "#         if last_len < min_wp_last:\n",
    "#             # gabung ke segmen sebelumnya (kontigu, jadi aman)\n",
    "#             prev_s, prev_e = segments_tok_ranges[-2]\n",
    "#             segments_tok_ranges[-2] = (prev_s, last_e)\n",
    "#             segments_tok_ranges.pop()\n",
    "\n",
    "#     # Konversi token-range ke substring asli via offset char\n",
    "#     segments_text: List[str] = []\n",
    "#     for (a, b) in segments_tok_ranges:\n",
    "#         char_start = offsets[a][0]\n",
    "#         char_end   = offsets[b-1][1]\n",
    "#         segments_text.append(context[char_start:char_end])\n",
    "\n",
    "#     return segments_text\n",
    "\n",
    "# # ===== contoh pemakaian pada HuggingFace Dataset indoqa_clean =====\n",
    "# # Asumsi: indoqa_clean punya kolom \"context\" (str) dan \"answer\" (str)\n",
    "# def add_segments_for_indoqa(example):\n",
    "#     segs = segment_context_with_answer(\n",
    "#         context=example[\"context\"],\n",
    "#         answer=example[\"answer\"],\n",
    "#         tokenizer=t5_tokenizer,\n",
    "#         max_wp=180,\n",
    "#         min_wp_last=50,\n",
    "#     )\n",
    "#     example[\"context_segments_180\"] = segs  # list[str]\n",
    "#     return example\n",
    "\n",
    "# # Terapkan:\n",
    "# indoqa_clean = indoqa_clean.map(add_segments_for_indoqa)\n"
   ]
  },
  {
   "cell_type": "code",
   "execution_count": 25,
   "id": "76e3d3ae",
   "metadata": {},
   "outputs": [
    {
     "name": "stderr",
     "output_type": "stream",
     "text": [
      "Map: 100%|██████████| 4247/4247 [00:00<00:00, 5680.81 examples/s]\n"
     ]
    }
   ],
   "source": [
    "def add_pos_neg_for_indoqa(example, case_insensitive: bool = False):\n",
    "    segs = example.get(\"context_segments_180\", []) or []\n",
    "    ans  = example.get(\"answer\", \"\") or \"\"\n",
    "\n",
    "    # jika tidak ada segmen atau jawaban kosong → semuanya negatif\n",
    "    if not segs or not isinstance(ans, str) or not ans.strip():\n",
    "        example[\"positive_passage\"] = \"\"\n",
    "        example[\"negative_passages\"] = segs[:]  # semua negatif\n",
    "        return example\n",
    "\n",
    "    if case_insensitive:\n",
    "        ans_norm = ans.casefold()\n",
    "        seg_norms = [s.casefold() for s in segs]\n",
    "        hit_indices = [i for i, s in enumerate(seg_norms) if ans_norm in s]\n",
    "    else:\n",
    "        hit_indices = [i for i, s in enumerate(segs) if ans in s]\n",
    "\n",
    "    if hit_indices:\n",
    "        pos_idx = hit_indices[0]\n",
    "        example[\"positive_passage\"] = segs[pos_idx]             # pakai teks asli\n",
    "        example[\"negative_passages\"] = [s for j, s in enumerate(segs) if j != pos_idx]\n",
    "    else:\n",
    "        # tidak ada segmen yang memuat jawaban (edge case)\n",
    "        example[\"positive_passage\"] = \"\"\n",
    "        example[\"negative_passages\"] = segs[:]\n",
    "\n",
    "    return example\n",
    "\n",
    "# Terapkan ke dataset (setelah kolom context_segments_180 ada)\n",
    "# Exact match:\n",
    "indoqa_clean = indoqa_clean.map(add_pos_neg_for_indoqa)"
   ]
  },
  {
   "cell_type": "code",
   "execution_count": 26,
   "id": "a833dd97",
   "metadata": {},
   "outputs": [
    {
     "name": "stderr",
     "output_type": "stream",
     "text": [
      "Filter: 100%|██████████| 4247/4247 [00:00<00:00, 28356.31 examples/s]"
     ]
    },
    {
     "name": "stdout",
     "output_type": "stream",
     "text": [
      "Jumlah baris dengan positive_passage kosong: 3\n",
      "{'id': ['1634B9b3aVWdJnidGaTwrGNb1147', '1170ckd0uh4YAd-bKWZ_EFml3244', '1539KqJCW6Fb0u-gfUpW2rn21396'], 'question': ['Mengapa Singapura mengirimkan 3 helikopter CH-47 Chinook ke Louisiana?', 'Pada tanggal berapa Timor Timur lepas dari NKRI dan menjadi negara terpisah yang berdaulat?', 'Siapakah guru Agama Mohamad Hatta ?'], 'answer': [\"untuk membantu operasi kemanusiaan Badai Katrina'\", 'mengadakan jajak pendapat bagi warga Timor Timur untuk memilih merdeka atau masih tetap menjadi 30 Agustus 1999.', 'Muhammad Jamil Jambek, Abdullah Ahmad, dan beberapa ulama lainnyaMuhammad Jamil Jambek, Abdullah Ahmad, dan beberapa ulama lainnya'], 'context': ['Sumber daya pertahanan Singapura telah dimanfaatkan pada misi-misi bantuan kemanusiaan internasional, termasuk tugas penjagaan perdamaian dari Perserikatan Bangsa-Bangsa yang melibatkan 11 negara. Bulan September 2005, Angkatan Udara Republik Singapura (RSAF) mengirimkan tiga helikopter CH-47 Chinook ke Louisiana untuk membantu operasi kemanusiaan Badai Katrina. Setelah Tsunami Asia 2004, SAF mengirimkan tank dan helikopter untuk membantu operasi kemanusiaan di negara yang terkena dampaknya.', 'Menurut pihak oposisi, salah satu kesalahan terbesar yang ia lakukan saat menjabat sebagai Presiden ialah memperbolehkan diadakannya referendum provinsi Timor Timur (sekarang Timor Leste). Ia mengajukan hal yang cukup menggemparkan publik saat itu, yaitu mengadakan jajak pendapat bagi warga Timor Timur untuk memilih merdeka atau masih tetap menjadi bagian dari Indonesia. Pada masa kepresidenannya, Timor Timur lepas dari Negara Kesatuan Republik Indonesia dan menjadi negara terpisah yang berdaulat pada tanggal 30 Agustus 1999.', 'Mohammad Hatta pertama kali mengenyam pendidikan formal di sekolah swasta. Setelah enam bulan, ia pindah ke sekolah rakyat dan sekelas dengan Rafiah, kakaknya. Namun, pelajarannya berhenti pada pertengahan semester kelas tiga. Ia lalu pindah ke ELS di Padang (kini SMA Negeri 1 Padang) sampai tahun 1913, dan melanjutkan ke MULO sampai tahun 1917. Di luar pendidikan formal, ia pernah belajar agama kepada Muhammad Jamil Jambek, Abdullah Ahmad, dan beberapa ulama lainnya. Selain keluarga, perdagangan memengaruhi perhatian Hatta terhadap perekonomian. Di Padang, ia mengenal pedagang-pedagang yang masuk anggota Serikat Oesaha dan aktif dalam Jong Sumatranen Bond sebagai bendahara. Kegiatannya ini tetap dilanjutkannya ketika ia bersekolah di Prins Hendrik School. Mohammad Hatta tetap menjadi bendahara di Jakarta.'], 'category': ['SPAN', 'SPAN', 'SPAN'], 'span_start': [315, 515, 406], 'span_end': [363, 531, 471], 'question_norm': ['mengapa singapura mengirimkan 3 helikopter ch-47 chinook ke louisiana?', 'pada tanggal berapa timor timur lepas dari nkri dan menjadi negara terpisah yang berdaulat?', 'siapakah guru agama mohamad hatta?'], 'question_stem': ['mengapa singapura kirim 3 helikopter ch-47 chinook ke louisiana', 'pada tanggal berapa timor timur lepas dari nkri dan jadi negara pisah yang daulat', 'siapa guru agama mohamad hatta'], 'context_segments_180': [['Sumber daya pertahanan Singapura telah dimanfaatkan pada misi-misi bantuan kemanusiaan internasional, termasuk tugas penjagaan perdamaian dari Perserikatan Bangsa-Bangsa yang melibatkan 11 negara. Bulan September 2005, Angkatan Udara Republik Singapura (RSAF) mengirimkan tiga helikopter CH-47 Chinook ke Louisiana untuk membantu operasi kemanusiaan Badai Katrina. Setelah Tsunami Asia 2004, SAF mengirimkan tank dan helikopter untuk membantu operasi kemanusiaan di negara yang terkena dampaknya.'], ['Menurut pihak oposisi, salah satu kesalahan terbesar yang ia lakukan saat menjabat sebagai Presiden ialah memperbolehkan diadakannya referendum provinsi Timor Timur (sekarang Timor Leste). Ia mengajukan hal yang cukup menggemparkan publik saat itu, yaitu mengadakan jajak pendapat bagi warga Timor Timur untuk memilih merdeka atau masih tetap menjadi bagian dari Indonesia. Pada masa kepresidenannya', ', Timor Timur lepas dari Negara Kesatuan Republik Indonesia dan menjadi negara terpisah yang berdaulat pada tanggal 30 Agustus 1999.'], ['Mohammad Hatta pertama kali mengenyam pendidikan formal di sekolah swasta. Setelah enam bulan, ia pindah ke sekolah rakyat dan sekelas dengan Rafiah, kakaknya. Namun, pelajarannya berhenti pada pertengahan semester kelas tiga. Ia lalu pindah ke ELS di Padang (kini SMA Negeri 1 Padang) sampai tahun 1913, dan melanjutkan ke MULO sampai tahun 1917. Di luar pendidikan formal,', 'ia pernah belajar agama kepada Muhammad Jamil Jambek, Abdullah Ahmad, dan beberapa ulama lainnya. Selain keluarga, perdagangan memengaruhi perhatian Hatta terhadap perekonomian. Di Padang, ia mengenal pedagang-pedagang yang masuk anggota Serikat Oesaha dan aktif dalam Jong Sumatranen Bond sebagai bendahara. Kegiatannya ini tetap dilanjutkannya ketika ia bersekolah di Prins Hendrik School. Mohammad Hatta tetap menjadi bendahara di Jakarta.']], 'positive_passage': ['', '', ''], 'negative_passages': [['Sumber daya pertahanan Singapura telah dimanfaatkan pada misi-misi bantuan kemanusiaan internasional, termasuk tugas penjagaan perdamaian dari Perserikatan Bangsa-Bangsa yang melibatkan 11 negara. Bulan September 2005, Angkatan Udara Republik Singapura (RSAF) mengirimkan tiga helikopter CH-47 Chinook ke Louisiana untuk membantu operasi kemanusiaan Badai Katrina. Setelah Tsunami Asia 2004, SAF mengirimkan tank dan helikopter untuk membantu operasi kemanusiaan di negara yang terkena dampaknya.'], ['Menurut pihak oposisi, salah satu kesalahan terbesar yang ia lakukan saat menjabat sebagai Presiden ialah memperbolehkan diadakannya referendum provinsi Timor Timur (sekarang Timor Leste). Ia mengajukan hal yang cukup menggemparkan publik saat itu, yaitu mengadakan jajak pendapat bagi warga Timor Timur untuk memilih merdeka atau masih tetap menjadi bagian dari Indonesia. Pada masa kepresidenannya', ', Timor Timur lepas dari Negara Kesatuan Republik Indonesia dan menjadi negara terpisah yang berdaulat pada tanggal 30 Agustus 1999.'], ['Mohammad Hatta pertama kali mengenyam pendidikan formal di sekolah swasta. Setelah enam bulan, ia pindah ke sekolah rakyat dan sekelas dengan Rafiah, kakaknya. Namun, pelajarannya berhenti pada pertengahan semester kelas tiga. Ia lalu pindah ke ELS di Padang (kini SMA Negeri 1 Padang) sampai tahun 1913, dan melanjutkan ke MULO sampai tahun 1917. Di luar pendidikan formal,', 'ia pernah belajar agama kepada Muhammad Jamil Jambek, Abdullah Ahmad, dan beberapa ulama lainnya. Selain keluarga, perdagangan memengaruhi perhatian Hatta terhadap perekonomian. Di Padang, ia mengenal pedagang-pedagang yang masuk anggota Serikat Oesaha dan aktif dalam Jong Sumatranen Bond sebagai bendahara. Kegiatannya ini tetap dilanjutkannya ketika ia bersekolah di Prins Hendrik School. Mohammad Hatta tetap menjadi bendahara di Jakarta.']]}\n"
     ]
    },
    {
     "name": "stderr",
     "output_type": "stream",
     "text": [
      "\n"
     ]
    }
   ],
   "source": [
    "# ambil baris yang positive_passage kosong\n",
    "empty_pos = indoqa_clean.filter(lambda ex: not ex[\"positive_passage\"].strip())\n",
    "\n",
    "print(\"Jumlah baris dengan positive_passage kosong:\", len(empty_pos))\n",
    "# lihat contoh\n",
    "print(empty_pos[:3])\n"
   ]
  },
  {
   "cell_type": "code",
   "execution_count": 27,
   "id": "1473e6a9",
   "metadata": {},
   "outputs": [
    {
     "name": "stdout",
     "output_type": "stream",
     "text": [
      "Sebelum: 4247\n"
     ]
    },
    {
     "name": "stderr",
     "output_type": "stream",
     "text": [
      "Filter: 100%|██████████| 4247/4247 [00:00<00:00, 27535.97 examples/s]"
     ]
    },
    {
     "name": "stdout",
     "output_type": "stream",
     "text": [
      "Sesudah: 4244\n"
     ]
    },
    {
     "name": "stderr",
     "output_type": "stream",
     "text": [
      "\n"
     ]
    }
   ],
   "source": [
    "def has_answer(example):\n",
    "    passage = example[\"positive_passage\"]\n",
    "    answers = example[\"answer\"] or []\n",
    "    # True kalau ada minimal satu jawaban muncul di passage\n",
    "    return any(ans in passage for ans in answers)\n",
    "\n",
    "print(\"Sebelum:\", len(indoqa_clean))\n",
    "# filter dataset\n",
    "indoqa_clean_filtered = indoqa_clean.filter(has_answer)\n",
    "print(\"Sesudah:\", len(indoqa_clean_filtered))"
   ]
  },
  {
   "cell_type": "code",
   "execution_count": 28,
   "id": "b35ce27d",
   "metadata": {},
   "outputs": [],
   "source": [
    "indoqa_clean_filtered = indoqa_clean_filtered.remove_columns(['category', 'span_start', 'span_end', 'context','context_segments_180'])"
   ]
  },
  {
   "cell_type": "code",
   "execution_count": 29,
   "id": "50625099",
   "metadata": {},
   "outputs": [
    {
     "name": "stderr",
     "output_type": "stream",
     "text": [
      "Tokenizing `positive_passage`: 100%|██████████| 9/9 [00:00<00:00,  9.34it/s]\n"
     ]
    },
    {
     "name": "stdout",
     "output_type": "stream",
     "text": [
      "=== Statistik panjang token `context` (Flan-T5) ===\n",
      "       count: 4247\n",
      "        mean: 179.19\n",
      "         std: 34.99\n",
      "         min: 1\n",
      "  p50_median: 182.00\n",
      "         p90: 217.00\n",
      "         p95: 224.00\n",
      "         p99: 231.00\n",
      "         max: 332\n",
      "   > 256:   0.12%\n",
      "   > 512:   0.00%\n",
      "   > 600:   0.00%\n",
      "  > 1024:   0.00%\n"
     ]
    },
    {
     "data": {
      "image/png": "[encoded data removed]",
      "text/plain": [
       "<Figure size 800x500 with 1 Axes>"
      ]
     },
     "metadata": {},
     "output_type": "display_data"
    }
   ],
   "source": [
    "lengths = token_lengths_for_column(indoqa_clean, col=\"positive_passage\", batch_size=512)\n",
    "stats = describe_lengths(lengths)\n",
    "# 4) Cetak statistik\n",
    "print(\"=== Statistik panjang token `context` (Flan-T5) ===\")\n",
    "for k in [\"count\",\"mean\",\"std\",\"min\",\"p50_median\",\"p90\",\"p95\",\"p99\",\"max\",\"> 256\",\"> 512\",\"> 600\",\"> 1024\"]:\n",
    "    if k in stats:\n",
    "        if k.startswith(\"> \"):\n",
    "            print(f\"{k:>8}: {stats[k]:6.2f}%\")\n",
    "        elif k in {\"mean\",\"std\",\"p50_median\",\"p90\",\"p95\",\"p99\"}:\n",
    "            print(f\"{k:>12}: {stats[k]:.2f}\")\n",
    "        else:\n",
    "            print(f\"{k:>12}: {stats[k]}\")\n",
    "\n",
    "# 5) Visualisasi histogram\n",
    "plt.figure(figsize=(8,5))\n",
    "plt.hist(lengths, bins=60, edgecolor=\"black\")\n",
    "plt.title(\"Distribusi Panjang Token `positive_passage` (Flan-T5)\")\n",
    "plt.xlabel(\"Jumlah token\"); plt.ylabel(\"Frekuensi\")\n",
    "\n",
    "# Garis bantu mean/median/p95\n",
    "mean_v = np.mean(lengths) if lengths.size else 0\n",
    "med_v  = np.median(lengths) if lengths.size else 0\n",
    "p95_v  = np.percentile(lengths, 95) if lengths.size else 0\n",
    "plt.axvline(mean_v, linestyle=\"--\", label=f\"Mean={mean_v:.1f}\")\n",
    "plt.axvline(med_v,  linestyle=\":\",  label=f\"Median={med_v:.1f}\")\n",
    "plt.axvline(p95_v,  linestyle=\"-.\", label=f\"P95={p95_v:.1f}\")\n",
    "plt.legend()\n",
    "plt.tight_layout()\n",
    "plt.show()"
   ]
  },
  {
   "cell_type": "code",
   "execution_count": 30,
   "id": "3b1ec252",
   "metadata": {},
   "outputs": [
    {
     "name": "stderr",
     "output_type": "stream",
     "text": [
      "Saving the dataset (1/1 shards): 100%|██████████| 4244/4244 [00:00<00:00, 47453.78 examples/s]\n"
     ]
    }
   ],
   "source": [
    "indoqa_clean_filtered.save_to_disk(\"./generated_data/indoqa_with_unfinished_negative_passages\")"
   ]
  },
  {
   "cell_type": "markdown",
   "id": "2ceb3cf8",
   "metadata": {},
   "source": [
    "# FacQA"
   ]
  },
  {
   "cell_type": "code",
   "execution_count": 1,
   "id": "c63985e4",
   "metadata": {},
   "outputs": [
    {
     "name": "stderr",
     "output_type": "stream",
     "text": [
      "c:\\Users\\LENOVO\\anaconda3\\envs\\recomp\\Lib\\site-packages\\tqdm\\auto.py:21: TqdmWarning: IProgress not found. Please update jupyter and ipywidgets. See https://ipywidgets.readthedocs.io/en/stable/user_install.html\n",
      "  from .autonotebook import tqdm as notebook_tqdm\n"
     ]
    }
   ],
   "source": [
    "from datasets import load_dataset, concatenate_datasets\n",
    "facqa = load_dataset(\"SEACrowd/facqa\", trust_remote_code=True)"
   ]
  },
  {
   "cell_type": "markdown",
   "id": "e8e33eac",
   "metadata": {},
   "source": [
    "tandai baris mana yang berasal dari split train, mana yang validation, mana yang test"
   ]
  },
  {
   "cell_type": "code",
   "execution_count": 2,
   "id": "c8ea729a",
   "metadata": {},
   "outputs": [
    {
     "name": "stdout",
     "output_type": "stream",
     "text": [
      "DatasetDict({\n",
      "    train: Dataset({\n",
      "        features: ['question', 'passage', 'seq_label', 'id'],\n",
      "        num_rows: 2495\n",
      "    })\n",
      "    test: Dataset({\n",
      "        features: ['question', 'passage', 'seq_label', 'id'],\n",
      "        num_rows: 311\n",
      "    })\n",
      "    validation: Dataset({\n",
      "        features: ['question', 'passage', 'seq_label', 'id'],\n",
      "        num_rows: 311\n",
      "    })\n",
      "})\n",
      "{'question': ['Kelompok', 'apakah', 'yang', 'menyatakan', 'bertanggung', 'jawab', 'atas', 'ledakan', 'di', 'Srinagar', '?'], 'passage': ['Lewat', 'telepon', 'ke', 'kantor', 'berita', 'lokal', 'Current', 'News', 'Service', ',', 'Hezb-ul', 'Mujahedeen', ',', 'kelompok', 'militan', 'Kashmir', 'yang', 'terbesar', ',', 'menyatakan', 'bertanggung', 'jawab', 'atas', 'ledakan', 'di', 'Srinagar', '.'], 'seq_label': ['O', 'O', 'O', 'O', 'O', 'O', 'O', 'O', 'O', 'O', 'B', 'I', 'O', 'O', 'O', 'O', 'O', 'O', 'O', 'O', 'O', 'O', 'O', 'O', 'O', 'O', 'O'], 'id': 'train_0'}\n"
     ]
    }
   ],
   "source": [
    "from datasets import load_dataset\n",
    "\n",
    "# load dataset\n",
    "facqa = load_dataset(\"SEACrowd/facqa\", trust_remote_code=True)\n",
    "\n",
    "# ubah kolom \"index\" -> \"id\" dan sesuaikan nilainya per split\n",
    "def rename_and_prefix(example, idx, split_name):\n",
    "    # gabungkan nama split + id lama\n",
    "    return {\"id\": f\"{split_name}_{str(example['index'])}\"}\n",
    "\n",
    "new_splits = {}\n",
    "for split_name, ds in facqa.items():\n",
    "    # map dengan tambahan index\n",
    "    ds_new = ds.map(\n",
    "        lambda ex, idx: rename_and_prefix(ex, idx, split_name),\n",
    "        with_indices=True\n",
    "    )\n",
    "    # hapus kolom \"index\" lama\n",
    "    ds_new = ds_new.remove_columns([\"index\"])\n",
    "    new_splits[split_name] = ds_new\n",
    "\n",
    "facqa = facqa.__class__(new_splits)\n",
    "\n",
    "print(facqa)\n",
    "print(facqa[\"train\"][0])\n"
   ]
  },
  {
   "cell_type": "markdown",
   "id": "09731321",
   "metadata": {},
   "source": [
    "gabungkan semua split"
   ]
  },
  {
   "cell_type": "code",
   "execution_count": 3,
   "id": "49a5caff",
   "metadata": {},
   "outputs": [
    {
     "data": {
      "text/plain": [
       "Dataset({\n",
       "    features: ['question', 'passage', 'seq_label', 'id'],\n",
       "    num_rows: 3117\n",
       "})"
      ]
     },
     "execution_count": 3,
     "metadata": {},
     "output_type": "execute_result"
    }
   ],
   "source": [
    "from datasets import concatenate_datasets\n",
    "facqa = concatenate_datasets([facqa[split] for split in facqa.keys()])\n",
    "facqa"
   ]
  },
  {
   "cell_type": "markdown",
   "id": "a8816b2c",
   "metadata": {},
   "source": [
    "gabungkan pertanyaan dan jawaban yang tadinya berupa list of strings"
   ]
  },
  {
   "cell_type": "code",
   "execution_count": 4,
   "id": "eada403d",
   "metadata": {},
   "outputs": [],
   "source": [
    "# --- util: simple detokenizer utk spasi & tanda baca ---\n",
    "_PUNCT_RIGHT = set([\",\", \".\", \":\", \";\", \"!\", \"?\", \"%\", \")\", \"]\", \"}\", \"’\", \"”\"])\n",
    "_PUNCT_LEFT  = set([\"(\", \"[\", \"{\", \"‘\", \"“\"])\n",
    "\n",
    "def detok(tokens):\n",
    "    out = []\n",
    "    for i, tok in enumerate(tokens):\n",
    "        if i == 0:\n",
    "            out.append(tok)\n",
    "            continue\n",
    "        # tanpa spasi sebelum tanda baca kanan\n",
    "        if tok in _PUNCT_RIGHT:\n",
    "            out[-1] = out[-1] + tok\n",
    "        # tanpa spasi setelah tanda buka kiri\n",
    "        elif out[-1] in _PUNCT_LEFT:\n",
    "            out[-1] = out[-1] + tok\n",
    "        # kasus khusus tanda persen\n",
    "        elif tok == \"%\" and out[-1].isdigit():\n",
    "            out[-1] = out[-1] + tok\n",
    "        else:\n",
    "            out.append(\" \" + tok)\n",
    "    return \"\".join(out)"
   ]
  },
  {
   "cell_type": "code",
   "execution_count": 5,
   "id": "52a761a1",
   "metadata": {},
   "outputs": [
    {
     "name": "stderr",
     "output_type": "stream",
     "text": [
      "Map: 100%|██████████| 3117/3117 [00:01<00:00, 2605.11 examples/s]"
     ]
    },
    {
     "name": "stdout",
     "output_type": "stream",
     "text": [
      "Dataset({\n",
      "    features: ['question', 'passage', 'seq_label', 'id', 'question_text', 'answer_text'],\n",
      "    num_rows: 3117\n",
      "})\n",
      "Kelompok apakah yang menyatakan bertanggung jawab atas ledakan di Srinagar?\n",
      "['Hezb-ul Mujahedeen']\n"
     ]
    },
    {
     "name": "stderr",
     "output_type": "stream",
     "text": [
      "\n"
     ]
    }
   ],
   "source": [
    "from datasets import load_dataset\n",
    "\n",
    "# fungsi ekstraksi jawaban dari BIO (pakai detok)\n",
    "def extract_answer(tokens, labels):\n",
    "    answers = []\n",
    "    current = []\n",
    "    for tok, lab in zip(tokens, labels):\n",
    "        if lab == \"B\":\n",
    "            if current:\n",
    "                answers.append(detok(current))\n",
    "            current = [tok]\n",
    "        elif lab == \"I\":\n",
    "            current.append(tok)\n",
    "        else:  # O\n",
    "            if current:\n",
    "                answers.append(detok(current))\n",
    "                current = []\n",
    "    if current:\n",
    "        answers.append(detok(current))\n",
    "    return answers\n",
    "\n",
    "\n",
    "# fungsi untuk map ke dataset\n",
    "def preprocess(example):\n",
    "    # gabungkan token jadi string utuh dengan detok\n",
    "    example[\"question_text\"] = detok(example[\"question\"])\n",
    "    # example[\"passage_text\"]  = detok(example[\"passage\"])  # aktifkan jika perlu\n",
    "    # ekstrak jawaban ter-detok\n",
    "    example[\"answer_text\"]   = extract_answer(example[\"passage\"], example[\"seq_label\"])\n",
    "    return example\n",
    "\n",
    "\n",
    "# terapkan ke semua split\n",
    "facqa = facqa.map(preprocess)\n",
    "\n",
    "# cek hasil\n",
    "print(facqa)\n",
    "print(facqa[0][\"question_text\"])\n",
    "# print(facqa[0][\"passage_text\"])\n",
    "print(facqa[0][\"answer_text\"])"
   ]
  },
  {
   "cell_type": "markdown",
   "id": "da925156",
   "metadata": {},
   "source": [
    "lakukan segmentasi passage agar panjangnya 180 token. dalam kasus ada segmen yang panjangnya kurang dari 50 token, maka gabungkan segmen tersebut ke segmen sebelumnya"
   ]
  },
  {
   "cell_type": "code",
   "execution_count": 6,
   "id": "b2369e1e",
   "metadata": {},
   "outputs": [
    {
     "name": "stderr",
     "output_type": "stream",
     "text": [
      "Map: 100%|██████████| 3117/3117 [00:08<00:00, 352.10 examples/s]\n"
     ]
    }
   ],
   "source": [
    "from transformers import AutoTokenizer\n",
    "from datasets import Dataset  # jika perlu contoh lokal\n",
    "import re\n",
    "\n",
    "t5_tokenizer = AutoTokenizer.from_pretrained(\"google/flan-t5-large\")\n",
    "\n",
    "# --- deteksi span B-I: kembalikan [(start, end_inclusive), ...] ---\n",
    "def find_spans(seq_label):\n",
    "    spans = []\n",
    "    start = None\n",
    "    for i, tag in enumerate(seq_label):\n",
    "        if tag == \"B\":\n",
    "            if start is not None:\n",
    "                spans.append((start, i-1))\n",
    "            start = i\n",
    "        elif tag == \"I\":\n",
    "            if start is None:\n",
    "                # Jika ada I tanpa B (data noisy), mulai span di sini\n",
    "                start = i\n",
    "        else:  # \"O\" atau lainnya\n",
    "            if start is not None:\n",
    "                spans.append((start, i-1))\n",
    "                start = None\n",
    "    if start is not None:\n",
    "        spans.append((start, len(seq_label)-1))\n",
    "    return spans\n",
    "\n",
    "# --- helper: apakah index i ada di dalam span manapun; dan cari end span aktif ---\n",
    "def span_end_if_inside(i, spans):\n",
    "    for s, e in spans:\n",
    "        if s <= i <= e:\n",
    "            return e\n",
    "    return None\n",
    "\n",
    "def is_span_start(i, spans):\n",
    "    for s, e in spans:\n",
    "        if s == i:\n",
    "            return (s, e)\n",
    "    return None\n",
    "\n",
    "# --- hitung jumlah wordpieces per token ---\n",
    "def wp_counts_for_tokens(tokens, tokenizer):\n",
    "    counts = []\n",
    "    for tok in tokens:\n",
    "        # add_special_tokens=False agar hitung murni konten\n",
    "        ids = tokenizer(tok, add_special_tokens=False).input_ids\n",
    "        counts.append(len(ids))\n",
    "    return counts\n",
    "\n",
    "# --- segmentasi aman span + MERGE segmen < min_wp ke segmen sebelumnya ---\n",
    "def segment_passage(tokens, seq_label, tokenizer, max_wp=180, min_wp=50):\n",
    "    assert len(tokens) == len(seq_label)\n",
    "    spans = find_spans(seq_label)\n",
    "    wp_counts = wp_counts_for_tokens(tokens, tokenizer)\n",
    "\n",
    "    segments_tok = []  # list of token-slices (masih berupa list token)\n",
    "    i = 0\n",
    "    seg_start = 0\n",
    "    acc_wp = 0\n",
    "\n",
    "    n = len(tokens)\n",
    "    while i < n:\n",
    "        c = wp_counts[i]\n",
    "        # jika muat, lanjut\n",
    "        if acc_wp + c <= max_wp:\n",
    "            acc_wp += c\n",
    "            i += 1\n",
    "            continue\n",
    "\n",
    "        # tidak muat bila tambah token i\n",
    "        # cek: apakah kita sedang berada di dalam span (i-1 di dalam span yg berlanjut melewati i-1)?\n",
    "        if i > seg_start:\n",
    "            end_inside = span_end_if_inside(i-1, spans)\n",
    "        else:\n",
    "            end_inside = None\n",
    "\n",
    "        # 1) Jika sedang di dalam span, majukan ke akhir span\n",
    "        if end_inside is not None and end_inside >= i-1:\n",
    "            cut_end = end_inside  # inklusif\n",
    "            if cut_end < i-1:\n",
    "                cut_end = i-1\n",
    "            segments_tok.append(tokens[seg_start:cut_end+1])\n",
    "            # reset ke setelah span\n",
    "            i = cut_end + 1\n",
    "            seg_start = i\n",
    "            acc_wp = 0\n",
    "            continue\n",
    "\n",
    "        # 2) Jika token i adalah awal span, potong sebelum span\n",
    "        span_at_i = is_span_start(i, spans)\n",
    "        if span_at_i is not None:\n",
    "            if i == seg_start:\n",
    "                s, e = span_at_i\n",
    "                segments_tok.append(tokens[s:e+1])  # span > max_wp pun dibolehkan 1 chunk\n",
    "                i = e + 1\n",
    "                seg_start = i\n",
    "                acc_wp = 0\n",
    "            else:\n",
    "                segments_tok.append(tokens[seg_start:i])\n",
    "                seg_start = i\n",
    "                acc_wp = 0\n",
    "            continue\n",
    "\n",
    "        # 3) Bukan di dalam span, bukan awal span -> potong biasa sebelum i\n",
    "        if i == seg_start:\n",
    "            segments_tok.append([tokens[i]])\n",
    "            i += 1\n",
    "            seg_start = i\n",
    "            acc_wp = 0\n",
    "        else:\n",
    "            segments_tok.append(tokens[seg_start:i])\n",
    "            seg_start = i\n",
    "            acc_wp = 0\n",
    "\n",
    "    # sisa\n",
    "    if seg_start < n:\n",
    "        segments_tok.append(tokens[seg_start:])\n",
    "\n",
    "    # konversi ke teks (sementara, sebelum merge)\n",
    "    segment_texts = [detok(seg) for seg in segments_tok]\n",
    "\n",
    "    # === MERGE: gabungkan segmen yang < min_wp ke segmen sebelumnya ===\n",
    "    def wp_len(text):\n",
    "        return len(tokenizer(text, add_special_tokens=False).input_ids)\n",
    "\n",
    "    merged = []\n",
    "    for idx, seg_text in enumerate(segment_texts):\n",
    "        if idx > 0 and wp_len(seg_text) < min_wp:\n",
    "            # append ke sebelumnya (boleh melewati 180 sesuai aturan pengecualian)\n",
    "            merged[-1] = merged[-1].rstrip() + \" \" + seg_text.lstrip()\n",
    "        else:\n",
    "            merged.append(seg_text)\n",
    "\n",
    "    full_text = detok(tokens)\n",
    "    return full_text, merged\n",
    "\n",
    "# ====== Integrasi ke HuggingFace Dataset (tetap SATU kolom akhir) ======\n",
    "def add_text_and_segments(example):\n",
    "    full_text, segs_final = segment_passage(\n",
    "        example[\"passage\"], example[\"seq_label\"], t5_tokenizer, max_wp=180, min_wp=50\n",
    "    )\n",
    "    example[\"passage_text\"] = full_text\n",
    "    example[\"passage_segments_180\"] = segs_final  # sudah final + merged\n",
    "    return example\n",
    "\n",
    "facqa_initial = facqa.map(add_text_and_segments)\n"
   ]
  },
  {
   "cell_type": "code",
   "execution_count": 30,
   "id": "9ca7c319",
   "metadata": {},
   "outputs": [
    {
     "name": "stderr",
     "output_type": "stream",
     "text": [
      "Tokenizing `passage_text`: 100%|██████████| 7/7 [00:01<00:00,  5.75it/s]\n"
     ]
    },
    {
     "name": "stdout",
     "output_type": "stream",
     "text": [
      "=== Statistik panjang token `context` (Flan-T5) ===\n",
      "       count: 3117\n",
      "        mean: 133.88\n",
      "         std: 44.03\n",
      "         min: 15\n",
      "  p50_median: 128.00\n",
      "         p90: 193.00\n",
      "         p95: 211.00\n",
      "         p99: 266.00\n",
      "         max: 366\n",
      "   > 256:   1.67%\n",
      "   > 512:   0.00%\n",
      "   > 600:   0.00%\n",
      "  > 1024:   0.00%\n"
     ]
    },
    {
     "data": {
      "image/png": "[encoded data removed]",
      "text/plain": [
       "<Figure size 800x500 with 1 Axes>"
      ]
     },
     "metadata": {},
     "output_type": "display_data"
    }
   ],
   "source": [
    "lengths = token_lengths_for_column(facqa_initial, col=\"passage_text\", batch_size=512)\n",
    "stats = describe_lengths(lengths)\n",
    "# 4) Cetak statistik\n",
    "print(\"=== Statistik panjang token `context` (Flan-T5) ===\")\n",
    "for k in [\"count\",\"mean\",\"std\",\"min\",\"p50_median\",\"p90\",\"p95\",\"p99\",\"max\",\"> 256\",\"> 512\",\"> 600\",\"> 1024\"]:\n",
    "    if k in stats:\n",
    "        if k.startswith(\"> \"):\n",
    "            print(f\"{k:>8}: {stats[k]:6.2f}%\")\n",
    "        elif k in {\"mean\",\"std\",\"p50_median\",\"p90\",\"p95\",\"p99\"}:\n",
    "            print(f\"{k:>12}: {stats[k]:.2f}\")\n",
    "        else:\n",
    "            print(f\"{k:>12}: {stats[k]}\")\n",
    "\n",
    "# 5) Visualisasi histogram\n",
    "plt.figure(figsize=(8,5))\n",
    "plt.hist(lengths, bins=60, edgecolor=\"black\")\n",
    "plt.title(\"Distribusi Panjang Token `context` (Flan-T5)\")\n",
    "plt.xlabel(\"Jumlah token\"); plt.ylabel(\"Frekuensi\")\n",
    "\n",
    "# Garis bantu mean/median/p95\n",
    "mean_v = np.mean(lengths) if lengths.size else 0\n",
    "med_v  = np.median(lengths) if lengths.size else 0\n",
    "p95_v  = np.percentile(lengths, 95) if lengths.size else 0\n",
    "plt.axvline(mean_v, linestyle=\"--\", label=f\"Mean={mean_v:.1f}\")\n",
    "plt.axvline(med_v,  linestyle=\":\",  label=f\"Median={med_v:.1f}\")\n",
    "plt.axvline(p95_v,  linestyle=\"-.\", label=f\"P95={p95_v:.1f}\")\n",
    "plt.legend()\n",
    "plt.tight_layout()\n",
    "plt.show()"
   ]
  },
  {
   "cell_type": "code",
   "execution_count": 8,
   "id": "2353239e",
   "metadata": {},
   "outputs": [
    {
     "name": "stdout",
     "output_type": "stream",
     "text": [
      "Jumlah baris yang miss: 0\n"
     ]
    }
   ],
   "source": [
    "def passage_miss_answer(example):\n",
    "    passage = example[\"passage_text\"]\n",
    "    answers = example[\"answer_text\"] or []  # list of string\n",
    "    \n",
    "    # True kalau tidak ada satu pun jawaban yang muncul di passage_text\n",
    "    return not any(ans in passage for ans in answers)\n",
    "fac_miss = facqa_initial.filter(passage_miss_answer)\n",
    "\n",
    "print(f\"Jumlah baris yang miss: {len(fac_miss)}\")\n",
    "# df=fac_miss.to_pandas()\n",
    "# df.to_excel(\"answer_not_in_positive_passage.xlsx\")"
   ]
  },
  {
   "cell_type": "code",
   "execution_count": 9,
   "id": "9a9a3d4c",
   "metadata": {},
   "outputs": [
    {
     "name": "stderr",
     "output_type": "stream",
     "text": [
      "Map:   0%|          | 0/3117 [00:00<?, ? examples/s]"
     ]
    },
    {
     "name": "stderr",
     "output_type": "stream",
     "text": [
      "Map: 100%|██████████| 3117/3117 [00:00<00:00, 3205.83 examples/s]\n"
     ]
    }
   ],
   "source": [
    "import re\n",
    "\n",
    "# normalisasi ringan untuk kesesuaian segmen vs jawaban\n",
    "_PUNCT_RIGHT = r\",\\.\\:\\;\\!\\?\\%\\)\\]\\}\\'\\\"\"\n",
    "_PUNCT_LEFT = r\"\\(\\[\\{\"\n",
    "\n",
    "def normalize_text(s: str) -> str:\n",
    "    if not isinstance(s, str):\n",
    "        return \"\"\n",
    "    # hapus spasi sebelum tanda baca kanan: \"Fauzi , Gubernur\" -> \"Fauzi, Gubernur\"\n",
    "    s = re.sub(rf\"\\s+([{_PUNCT_RIGHT}])\", r\"\\1\", s)\n",
    "    # hapus spasi setelah tanda buka kiri: \"( 15/12)\" -> \"(15/12)\"\n",
    "    s = re.sub(rf\"([{_PUNCT_LEFT}])\\s+\", r\"\\1\", s)\n",
    "    # rapikan spasi ganda\n",
    "    s = re.sub(r\"\\s{2,}\", \" \", s)\n",
    "    # trim\n",
    "    s = s.strip()\n",
    "    return s\n",
    "\n",
    "def add_positive_negative(example):\n",
    "    segments = example.get(\"passage_segments_180\", [])  # list[str]\n",
    "    answers  = example.get(\"answer_text\", [])           # list[str]\n",
    "\n",
    "    # bersihkan / normalisasi\n",
    "    seg_norms = [normalize_text(seg).casefold() for seg in segments]\n",
    "    ans_norms = [normalize_text(a).casefold() for a in answers if isinstance(a, str) and a.strip()]\n",
    "\n",
    "    # fungsi cek: segmen memuat SEMUA jawaban\n",
    "    def contains_all(seg_norm: str, ans_list_norm):\n",
    "        return all(a in seg_norm for a in ans_list_norm)\n",
    "\n",
    "    if not segments:\n",
    "        # tidak ada segmen sama sekali\n",
    "        example[\"positive_passage\"] = \"\"\n",
    "        example[\"negative_passages\"] = []\n",
    "        example[\"positive_passage_index\"] = -1\n",
    "        example[\"has_all_answers_in_one_segment\"] = False\n",
    "        return example\n",
    "\n",
    "    # jika tidak ada jawaban (edge case), anggap tidak ada segmen positif\n",
    "    if not ans_norms:\n",
    "        example[\"positive_passage\"] = \"\"\n",
    "        example[\"negative_passages\"] = segments[:]  # semua negatif\n",
    "        example[\"positive_passage_index\"] = -1\n",
    "        example[\"has_all_answers_in_one_segment\"] = False\n",
    "        return example\n",
    "\n",
    "    # cari segmen yang memuat semua jawaban\n",
    "    pos_indices = [i for i, segn in enumerate(seg_norms) if contains_all(segn, ans_norms)]\n",
    "\n",
    "    if pos_indices:\n",
    "        pos_idx = pos_indices[0]                # ambil yang pertama jika ada beberapa\n",
    "        positive = segments[pos_idx]            # pakai teks aslinya (tanpa normalisasi)\n",
    "        negatives = [seg for j, seg in enumerate(segments) if j != pos_idx]\n",
    "        has_all = True\n",
    "    else:\n",
    "        pos_idx = -1\n",
    "        positive = \"\"                           # atau None\n",
    "        negatives = segments[:]                 # semua dianggap negatif\n",
    "        has_all = False\n",
    "\n",
    "    example[\"positive_passage\"] = positive\n",
    "    example[\"negative_passages\"] = negatives\n",
    "    example[\"positive_passage_index\"] = pos_idx\n",
    "    example[\"has_all_answers_in_one_segment\"] = has_all\n",
    "    return example\n",
    "\n",
    "# Terapkan ke dataset (setelah passage_segments_180 & answer_text ada)\n",
    "facqa_positive_and_negative = facqa_initial.map(add_positive_negative)\n"
   ]
  },
  {
   "cell_type": "code",
   "execution_count": 11,
   "id": "1bf5c102",
   "metadata": {},
   "outputs": [
    {
     "name": "stderr",
     "output_type": "stream",
     "text": [
      "Filter: 100%|██████████| 3117/3117 [00:00<00:00, 4862.65 examples/s]\n",
      "Filter: 100%|██████████| 123/123 [00:00<00:00, 1411.00 examples/s]"
     ]
    },
    {
     "name": "stdout",
     "output_type": "stream",
     "text": [
      "banyak baris yang jawabannya tidak berada di segmen pertama: 35\n"
     ]
    },
    {
     "name": "stderr",
     "output_type": "stream",
     "text": [
      "\n"
     ]
    }
   ],
   "source": [
    "def all_answers_not_in_first(example):\n",
    "    answers = example[\"answer_text\"]  # list of strings\n",
    "    segments = example[\"passage_segments_180\"]\n",
    "\n",
    "    if not segments:  # jaga-jaga kalau list kosong\n",
    "        return False\n",
    "\n",
    "    first_seg = segments[0]\n",
    "    # cek apakah ada jawaban yg muncul di segmen pertama\n",
    "    any_in_first = any(ans in first_seg for ans in answers)\n",
    "\n",
    "    # kalau tidak ada satu pun di segmen pertama, return True\n",
    "    return not any_in_first\n",
    "\n",
    "multi_segments = facqa_positive_and_negative.filter(lambda x: len(x['passage_segments_180'])> 1)\n",
    "# filter baris yang semua jawabannya bukan di segmen pertama\n",
    "not_in_first = multi_segments.filter(all_answers_not_in_first)\n",
    "\n",
    "print(\"banyak baris yang jawabannya tidak berada di segmen pertama:\", len(not_in_first))\n",
    "\n",
    "# df = not_in_first.to_pandas()\n",
    "# df.to_excel(\"answers_not_in_first_segment.xlsx\", index=False)\n",
    "# print(\"Disimpan ke answers_not_in_first_segment.xlsx\")"
   ]
  },
  {
   "cell_type": "code",
   "execution_count": null,
   "id": "254366eb",
   "metadata": {},
   "outputs": [
    {
     "name": "stderr",
     "output_type": "stream",
     "text": [
      "Map: 100%|██████████| 3117/3117 [00:00<00:00, 4599.30 examples/s]\n"
     ]
    },
    {
     "name": "stdout",
     "output_type": "stream",
     "text": [
      "Total B: 3169\n",
      "Total rows: 3117\n"
     ]
    },
    {
     "name": "stderr",
     "output_type": "stream",
     "text": [
      "Filter: 100%|██████████| 3117/3117 [00:00<00:00, 5156.09 examples/s]"
     ]
    },
    {
     "name": "stdout",
     "output_type": "stream",
     "text": [
      "Rows with multi-span answers: 42\n"
     ]
    },
    {
     "name": "stderr",
     "output_type": "stream",
     "text": [
      "\n"
     ]
    }
   ],
   "source": [
    "# 1) hitung jumlah 'B' total & distribusi 'B' per baris\n",
    "from collections import Counter\n",
    "def count_B_I_O(ex):\n",
    "    c = Counter(ex[\"seq_label\"])\n",
    "    ex[\"num_B\"] = c.get(\"B\", 0)\n",
    "    ex[\"num_I\"] = c.get(\"I\", 0)\n",
    "    ex[\"num_O\"] = c.get(\"O\", 0)\n",
    "    return ex\n",
    "\n",
    "facqa = facqa.map(count_B_I_O)\n",
    "\n",
    "total_B = int(sum(facqa[\"num_B\"]))\n",
    "print(\"Total B:\", total_B)\n",
    "print(\"Total rows:\", len(facqa))\n",
    "\n",
    "# 2) filter baris yang punya >1 span (num_B > 1)\n",
    "multi_span = facqa.filter(lambda ex: ex[\"num_B\"] > 1)\n",
    "print(\"Rows with multi-span answers:\", len(multi_span))"
   ]
  },
  {
   "cell_type": "code",
   "execution_count": 16,
   "id": "712da5b2",
   "metadata": {},
   "outputs": [
    {
     "name": "stderr",
     "output_type": "stream",
     "text": [
      "Map: 100%|██████████| 3117/3117 [06:41<00:00,  7.77 examples/s]\n"
     ]
    },
    {
     "data": {
      "text/plain": [
       "Dataset({\n",
       "    features: ['question', 'passage', 'seq_label', 'id', 'question_text', 'answer_text', 'passage_text', 'passage_segments_180', 'positive_passage', 'negative_passages', 'positive_passage_index', 'has_all_answers_in_one_segment', 'question_text_norm', 'question_text_stem'],\n",
       "    num_rows: 3117\n",
       "})"
      ]
     },
     "execution_count": 16,
     "metadata": {},
     "output_type": "execute_result"
    }
   ],
   "source": [
    "facqa_positive_and_negative = facqa_positive_and_negative.map(\n",
    "    add_norm_and_stem, \n",
    "    batched=True, \n",
    "    fn_kwargs={\"column\": \"question_text\"}   # sesuaikan dengan nama kolom di tydiqa_gold_all\n",
    ")\n",
    "facqa_positive_and_negative"
   ]
  },
  {
   "cell_type": "code",
   "execution_count": 17,
   "id": "43578854",
   "metadata": {},
   "outputs": [
    {
     "name": "stderr",
     "output_type": "stream",
     "text": [
      "Filter: 100%|██████████| 3117/3117 [00:00<00:00, 5167.76 examples/s]"
     ]
    },
    {
     "name": "stdout",
     "output_type": "stream",
     "text": [
      "Jumlah baris yang miss: 0\n"
     ]
    },
    {
     "name": "stderr",
     "output_type": "stream",
     "text": [
      "\n"
     ]
    }
   ],
   "source": [
    "def passage_miss_answer(example):\n",
    "    passage = example[\"positive_passage\"]\n",
    "    answers = example[\"answer_text\"] or []  # list of string\n",
    "    \n",
    "    # True kalau tidak ada satu pun jawaban yang muncul di passage_text\n",
    "    return not any(ans in passage for ans in answers)\n",
    "fac_miss = facqa_positive_and_negative.filter(passage_miss_answer)\n",
    "\n",
    "print(f\"Jumlah baris yang miss: {len(fac_miss)}\")\n",
    "# df=fac_miss.to_pandas()\n",
    "# df.to_excel(\"answer_not_in_positive_passage.xlsx\")"
   ]
  },
  {
   "cell_type": "code",
   "execution_count": 18,
   "id": "601ee2cf",
   "metadata": {},
   "outputs": [
    {
     "data": {
      "text/plain": [
       "Dataset({\n",
       "    features: ['question', 'id', 'question_text', 'answer_text', 'positive_passage', 'negative_passages', 'question_text_norm', 'question_text_stem'],\n",
       "    num_rows: 3117\n",
       "})"
      ]
     },
     "execution_count": 18,
     "metadata": {},
     "output_type": "execute_result"
    }
   ],
   "source": [
    "facqa_positive_and_negative = facqa_positive_and_negative.remove_columns([ 'passage', 'seq_label','passage_text', 'passage_segments_180','positive_passage_index', 'has_all_answers_in_one_segment'])\n",
    "facqa_positive_and_negative"
   ]
  },
  {
   "cell_type": "code",
   "execution_count": 19,
   "id": "8080b415",
   "metadata": {},
   "outputs": [
    {
     "name": "stdout",
     "output_type": "stream",
     "text": [
      "Jumlah question_stem yang terduplikasi: 73\n",
      "Jumlah baris yang termasuk duplikat  : 189\n"
     ]
    }
   ],
   "source": [
    "import pandas as pd\n",
    "\n",
    "# konversi dataset HF ke pandas\n",
    "df = facqa_positive_and_negative.to_pandas()\n",
    "\n",
    "# cari duplikasi berdasarkan kolom question_stem\n",
    "dupes_mask = df.duplicated(subset=[\"question_text_stem\"], keep=False)\n",
    "\n",
    "# subset baris duplikat\n",
    "dupes_df = df[dupes_mask].sort_values(\"question_text_stem\")\n",
    "\n",
    "# hitung jumlah pertanyaan yang duplikat\n",
    "n_dupes = dupes_df[\"question_text_stem\"].nunique()\n",
    "print(f\"Jumlah question_stem yang terduplikasi: {n_dupes}\")\n",
    "print(f\"Jumlah baris yang termasuk duplikat  : {len(dupes_df)}\")\n",
    "\n",
    "# simpan ke Excel\n",
    "# dupes_df.to_excel(\"facqa_question_stem_duplicates.xlsx\", index=False)\n",
    "# print(\"✅ File 'facqa_question_stem_duplicates.xlsx' berhasil dibuat.\")"
   ]
  },
  {
   "cell_type": "markdown",
   "id": "51112fc0",
   "metadata": {},
   "source": [
    "menghapus baris yang questions_stem nya terduplikasi dan answer nya jelek (pengecekan answer secara manual)"
   ]
  },
  {
   "cell_type": "code",
   "execution_count": 20,
   "id": "c0437db3",
   "metadata": {},
   "outputs": [
    {
     "name": "stderr",
     "output_type": "stream",
     "text": [
      "Filter: 100%|██████████| 3117/3117 [00:00<00:00, 20280.51 examples/s]\n"
     ]
    },
    {
     "name": "stdout",
     "output_type": "stream",
     "text": [
      "Rows before: 3117 | after: 3108 | removed: 9\n"
     ]
    },
    {
     "name": "stderr",
     "output_type": "stream",
     "text": [
      "Map: 100%|██████████| 3117/3117 [00:00<00:00, 6548.57 examples/s]\n"
     ]
    }
   ],
   "source": [
    "# ====== 2) Daftar pasangan dari Excel (sudah dituliskan ulang ke kode) ======\n",
    "EXCEL_PAIRS = [\n",
    "    (\"apa nama badan bagi dari universitas gadjah mada ugm yang libat dalam ada sistem energi alternatif di yogyakarta\", 'PSE UGM'),\n",
    "    (\"apa nama partai hosni mubarak\", 'NDP'),\n",
    "    ('di badan apakah bastian purnama jabat bagai direktur utama', 'BES'),\n",
    "    ('kapan keluar undang nomor 31 tentang ikan', 'tahun '\n",
    "    '2004'),\n",
    "    ('kapan mou indonesia-gam ditandatangani', '15/8'),\n",
    "    ('kepala badan apakah mohamed elbaradei', 'IAEA'),\n",
    "    ('kepala balai apakah yohanes sudarto', 'BKSDA Kalteng'),\n",
    "    ('menandatangani apakah perintah indonesia dan gam di helsinki finlandia tanggal 15 agustus 2005', 'nota kesepahaman atau MOU tentang perdamaian di Aceh'),\n",
    "    ('siapa nama putra presiden hosni mubarak','Jamal')\n",
    "]\n",
    "\n",
    "# Ubah ke set untuk lookup cepat; trimming spasi agar toleran spasi ekstra\n",
    "PAIRS_SET = set((qs.strip(), ans.strip()) for qs, ans in EXCEL_PAIRS)\n",
    "\n",
    "# ====== Filter facqa: drop baris yang match (question_text_stem, salah-satu answer_text) ======\n",
    "def _should_keep_facqa(example):\n",
    "    qstem = (example.get(\"question_text_stem\") or \"\").strip()\n",
    "    answers = example.get(\"answer_text\") or []  # list[str]\n",
    "    for t in answers:\n",
    "        if (qstem, (t or \"\").strip()) in PAIRS_SET:\n",
    "            return False  # baris ini DIHAPUS\n",
    "    return True  # keep\n",
    "\n",
    "before_n = len(facqa_positive_and_negative)\n",
    "facqa_filtered = facqa_positive_and_negative.filter(_should_keep_facqa)\n",
    "after_n = len(facqa_filtered)\n",
    "removed = before_n - after_n\n",
    "print(f\"Rows before: {before_n} | after: {after_n} | removed: {removed}\")\n",
    "\n",
    "# ====== (Opsional) laporan pasangan Excel yang tidak ketemu di dataset ======\n",
    "def _collect_hits(example):\n",
    "    qstem = (example.get(\"question_text_stem\") or \"\").strip()\n",
    "    answers = example.get(\"answer_text\") or []\n",
    "    hits = []\n",
    "    for t in answers:\n",
    "        key = (qstem, (t or \"\").strip())\n",
    "        if key in PAIRS_SET:\n",
    "            hits.append(key)\n",
    "    return {\"_hits\": hits}\n",
    "\n",
    "hits_ds = facqa_positive_and_negative.map(_collect_hits, batched=False)\n",
    "found_pairs = set()\n",
    "for row in hits_ds:\n",
    "    for h in row.get(\"_hits\", []):\n",
    "        # 'h' sudah tuple-like (atau list dua elemen)\n",
    "        found_pairs.add(tuple(h))\n",
    "\n",
    "not_found = PAIRS_SET - found_pairs\n",
    "if not_found:\n",
    "    print(\"\\nPairs from Excel NOT FOUND in facqa:\")\n",
    "    for qs, ans in sorted(not_found):\n",
    "        print(f\"- question_text_stem={qs!r} | answer_text element={ans!r}\")\n",
    "\n",
    "# Commit hasil filter\n",
    "facqa = facqa_filtered"
   ]
  },
  {
   "cell_type": "code",
   "execution_count": 21,
   "id": "2196f74a",
   "metadata": {},
   "outputs": [
    {
     "name": "stderr",
     "output_type": "stream",
     "text": [
      "Filter: 100%|██████████| 3108/3108 [00:00<00:00, 11389.97 examples/s]"
     ]
    },
    {
     "name": "stdout",
     "output_type": "stream",
     "text": [
      "Jumlah baris yang miss: 0\n"
     ]
    },
    {
     "name": "stderr",
     "output_type": "stream",
     "text": [
      "\n"
     ]
    }
   ],
   "source": [
    "def passage_miss_answer(example):\n",
    "    passage = example[\"positive_passage\"]\n",
    "    answers = example[\"answer_text\"] or []  # list of string\n",
    "    \n",
    "    # True kalau tidak ada satu pun jawaban yang muncul di passage_text\n",
    "    return not any(ans in passage for ans in answers)\n",
    "fac_miss = facqa.filter(passage_miss_answer)\n",
    "\n",
    "print(f\"Jumlah baris yang miss: {len(fac_miss)}\")\n",
    "# df=fac_miss.to_pandas()\n",
    "# df.to_excel(\"answer_not_in_positive_passage.xlsx\")"
   ]
  },
  {
   "cell_type": "code",
   "execution_count": 22,
   "id": "6ff86b5e",
   "metadata": {},
   "outputs": [
    {
     "name": "stdout",
     "output_type": "stream",
     "text": [
      "Before: 3108 | After: 3001 | Removed: 107\n"
     ]
    }
   ],
   "source": [
    "import pandas as pd\n",
    "import numpy as np\n",
    "from datasets import Dataset\n",
    "\n",
    "# convert ke pandas\n",
    "df = facqa.to_pandas()\n",
    "\n",
    "# panjang passage; NaN -> +inf agar tidak terpilih sebagai terpendek\n",
    "df[\"_passage_len\"] = df[\"positive_passage\"].str.len()\n",
    "df[\"_passage_len\"] = df[\"_passage_len\"].fillna(np.inf)\n",
    "\n",
    "# (opsional) buat hasil deterministik pada tie: sort by _passage_len lalu ambil first\n",
    "df_sorted = df.sort_values(by=[\"question_text_stem\", \"_passage_len\"], kind=\"mergesort\")\n",
    "\n",
    "# ambil indeks dengan passage terpendek per question_text_stem\n",
    "idx_min = df_sorted.groupby(\"question_text_stem\")[\"_passage_len\"].idxmin()\n",
    "\n",
    "# subset baris yang disimpan\n",
    "df_kept = df.loc[idx_min].reset_index(drop=True)\n",
    "\n",
    "print(f\"Before: {len(df)} | After: {len(df_kept)} | Removed: {len(df) - len(df_kept)}\")\n",
    "\n",
    "# buang kolom bantu\n",
    "df_kept = df_kept.drop(columns=[\"_passage_len\"])\n",
    "\n",
    "# convert balik ke HF Dataset (hindari kolom __index_level_0__)\n",
    "facqa_wo_dedupe = Dataset.from_pandas(df_kept, preserve_index=False)\n"
   ]
  },
  {
   "cell_type": "code",
   "execution_count": 23,
   "id": "0caf723f",
   "metadata": {},
   "outputs": [
    {
     "name": "stderr",
     "output_type": "stream",
     "text": [
      "Map: 100%|██████████| 3108/3108 [00:01<00:00, 2120.77 examples/s]\n"
     ]
    }
   ],
   "source": [
    "def normalize_fields(batch, answer_col):\n",
    "    new_answers = []\n",
    "    new_positive = []\n",
    "    new_negatives = []\n",
    "\n",
    "    answers_batch   = batch.get(answer_col, [])\n",
    "    positives_batch = batch.get(\"positive_passage\", [])\n",
    "    negatives_batch = batch.get(\"negative_passages\", [])\n",
    "\n",
    "    for i in range(len(answers_batch)):\n",
    "        # ===== answers: pastikan list, lalu normalize per elemen =====\n",
    "        ans = answers_batch[i]\n",
    "        if ans is None:\n",
    "            norm_ans = []\n",
    "        elif isinstance(ans, (list, tuple)):\n",
    "            norm_ans = [normalize(a, lowercase=False) for a in ans if a is not None]\n",
    "        else:\n",
    "            # kalau awalnya string tunggal → jadikan list satu elemen\n",
    "            norm_ans = [normalize(ans, lowercase=False)]\n",
    "\n",
    "        new_answers.append(norm_ans)\n",
    "\n",
    "        # ===== positive_passage (string) =====\n",
    "        pos = positives_batch[i] if i < len(positives_batch) else None\n",
    "        norm_pos = normalize(pos, lowercase=False) if pos else pos\n",
    "        new_positive.append(norm_pos)\n",
    "\n",
    "        # ===== negative_passages (list of string) =====\n",
    "        negs = negatives_batch[i] if i < len(negatives_batch) else []\n",
    "        norm_negs = [normalize(n, lowercase=False) for n in negs if n is not None]\n",
    "        new_negatives.append(norm_negs)\n",
    "    # tulis balik ke kolom yang sama\n",
    "    return {\n",
    "        answer_col: new_answers,\n",
    "        \"positive_passage\": new_positive,\n",
    "        \"negative_passages\": new_negatives,\n",
    "    }\n",
    "\n",
    "facqa_wo_dedupe = facqa.map(\n",
    "    normalize_fields,\n",
    "    batched=True,\n",
    "    batch_size=100,\n",
    "    load_from_cache_file=False,\n",
    "    fn_kwargs={\"answer_col\": \"answer_text\"},\n",
    ")"
   ]
  },
  {
   "cell_type": "code",
   "execution_count": 24,
   "id": "9335f860",
   "metadata": {},
   "outputs": [
    {
     "name": "stderr",
     "output_type": "stream",
     "text": [
      "Filter: 100%|██████████| 3108/3108 [00:00<00:00, 17515.86 examples/s]\n"
     ]
    },
    {
     "name": "stdout",
     "output_type": "stream",
     "text": [
      "Jumlah baris yang miss: 0\n"
     ]
    }
   ],
   "source": [
    "def passage_miss_answer(example):\n",
    "    passage = example[\"positive_passage\"]\n",
    "    answers = example[\"answer_text\"] or []  # list of string\n",
    "    \n",
    "    # True kalau tidak ada satu pun jawaban yang muncul di passage_text\n",
    "    return not any(ans in passage for ans in answers)\n",
    "fac_miss = facqa_wo_dedupe.filter(passage_miss_answer)\n",
    "\n",
    "print(f\"Jumlah baris yang miss: {len(fac_miss)}\")\n",
    "# df=fac_miss.to_pandas()\n",
    "# df.to_excel(\"answer_not_in_positive_passage.xlsx\")"
   ]
  },
  {
   "cell_type": "code",
   "execution_count": 31,
   "id": "bc34508f",
   "metadata": {},
   "outputs": [
    {
     "name": "stderr",
     "output_type": "stream",
     "text": [
      "Tokenizing `positive_passage`: 100%|██████████| 7/7 [00:00<00:00, 11.00it/s]\n"
     ]
    },
    {
     "name": "stdout",
     "output_type": "stream",
     "text": [
      "=== Statistik panjang token `positive_passage` (Flan-T5) ===\n",
      "       count: 3108\n",
      "        mean: 129.18\n",
      "         std: 37.51\n",
      "         min: 15\n",
      "  p50_median: 127.00\n",
      "         p90: 178.00\n",
      "         p95: 196.65\n",
      "         p99: 211.00\n",
      "         max: 224\n",
      "   > 256:   0.00%\n",
      "   > 512:   0.00%\n",
      "   > 600:   0.00%\n",
      "  > 1024:   0.00%\n"
     ]
    },
    {
     "data": {
      "image/png": "[encoded data removed]",
      "text/plain": [
       "<Figure size 800x500 with 1 Axes>"
      ]
     },
     "metadata": {},
     "output_type": "display_data"
    }
   ],
   "source": [
    "lengths = token_lengths_for_column(facqa_wo_dedupe, col=\"positive_passage\", batch_size=512)\n",
    "stats = describe_lengths(lengths)\n",
    "# 4) Cetak statistik\n",
    "print(\"=== Statistik panjang token `positive_passage` (Flan-T5) ===\")\n",
    "for k in [\"count\",\"mean\",\"std\",\"min\",\"p50_median\",\"p90\",\"p95\",\"p99\",\"max\",\"> 256\",\"> 512\",\"> 600\",\"> 1024\"]:\n",
    "    if k in stats:\n",
    "        if k.startswith(\"> \"):\n",
    "            print(f\"{k:>8}: {stats[k]:6.2f}%\")\n",
    "        elif k in {\"mean\",\"std\",\"p50_median\",\"p90\",\"p95\",\"p99\"}:\n",
    "            print(f\"{k:>12}: {stats[k]:.2f}\")\n",
    "        else:\n",
    "            print(f\"{k:>12}: {stats[k]}\")\n",
    "\n",
    "# 5) Visualisasi histogram\n",
    "plt.figure(figsize=(8,5))\n",
    "plt.hist(lengths, bins=60, edgecolor=\"black\")\n",
    "plt.title(\"Distribusi Panjang Token `context` (Flan-T5)\")\n",
    "plt.xlabel(\"Jumlah token\"); plt.ylabel(\"Frekuensi\")\n",
    "\n",
    "# Garis bantu mean/median/p95\n",
    "mean_v = np.mean(lengths) if lengths.size else 0\n",
    "med_v  = np.median(lengths) if lengths.size else 0\n",
    "p95_v  = np.percentile(lengths, 95) if lengths.size else 0\n",
    "plt.axvline(mean_v, linestyle=\"--\", label=f\"Mean={mean_v:.1f}\")\n",
    "plt.axvline(med_v,  linestyle=\":\",  label=f\"Median={med_v:.1f}\")\n",
    "plt.axvline(p95_v,  linestyle=\"-.\", label=f\"P95={p95_v:.1f}\")\n",
    "plt.legend()\n",
    "plt.tight_layout()\n",
    "plt.show()"
   ]
  },
  {
   "cell_type": "code",
   "execution_count": 34,
   "id": "e694e88a",
   "metadata": {},
   "outputs": [
    {
     "data": {
      "text/plain": [
       "Dataset({\n",
       "    features: ['id', 'question', 'answer', 'positive_passage', 'negative_passages', 'question_norm', 'question_stem'],\n",
       "    num_rows: 3108\n",
       "})"
      ]
     },
     "execution_count": 34,
     "metadata": {},
     "output_type": "execute_result"
    }
   ],
   "source": [
    "facqa_wo_dedupe"
   ]
  },
  {
   "cell_type": "code",
   "execution_count": 33,
   "id": "aa1513a2",
   "metadata": {},
   "outputs": [],
   "source": [
    "facqa_wo_dedupe=facqa_wo_dedupe.remove_columns(['question'])\n",
    "facqa_wo_dedupe=facqa_wo_dedupe.rename_column('answer_text', 'answer')\n",
    "\n",
    "# mapping nama lama ke nama baru\n",
    "rename_map = {\n",
    "    \"question_text\": \"question\",\n",
    "    \"question_text_norm\": \"question_norm\",\n",
    "    \"question_text_stem\": \"question_stem\",\n",
    "}\n",
    "\n",
    "# rename kolom\n",
    "facqa_wo_dedupe = facqa_wo_dedupe.rename_columns(rename_map)"
   ]
  },
  {
   "cell_type": "code",
   "execution_count": 39,
   "id": "14473472",
   "metadata": {},
   "outputs": [
    {
     "name": "stderr",
     "output_type": "stream",
     "text": [
      "Filter: 100%|██████████| 3108/3108 [00:00<00:00, 23771.43 examples/s]"
     ]
    },
    {
     "name": "stdout",
     "output_type": "stream",
     "text": [
      "Jumlah baris yang miss: 0\n"
     ]
    },
    {
     "name": "stderr",
     "output_type": "stream",
     "text": [
      "\n"
     ]
    }
   ],
   "source": [
    "def passage_miss_answer(example):\n",
    "    passage = example[\"positive_passage\"]\n",
    "    answers = example[\"answer\"] or []  # list of string\n",
    "    \n",
    "    # True kalau tidak ada satu pun jawaban yang muncul di passage_text\n",
    "    return not any(ans in passage for ans in answers)\n",
    "fac_miss = facqa_wo_dedupe.filter(passage_miss_answer)\n",
    "\n",
    "print(f\"Jumlah baris yang miss: {len(fac_miss)}\")\n",
    "# df=fac_miss.to_pandas()\n",
    "# df.to_excel(\"answer_not_in_positive_passage.xlsx\")"
   ]
  },
  {
   "cell_type": "code",
   "execution_count": null,
   "id": "b911c9a8",
   "metadata": {},
   "outputs": [],
   "source": [
    "facqa_wo_dedupe.save_to_disk(\"./generated_data/facqa_with_unfinished_negative_passages\")"
   ]
  },
  {
   "cell_type": "code",
   "execution_count": 2,
   "id": "bcaa11b2",
   "metadata": {},
   "outputs": [],
   "source": [
    "from datasets import load_from_disk\n",
    "facqa_wo_dedupe = load_from_disk(\"./generated_data/facqa_with_unfinished_negative_passages\")"
   ]
  },
  {
   "cell_type": "code",
   "execution_count": 4,
   "id": "d28a7246",
   "metadata": {},
   "outputs": [],
   "source": [
    "rows = facqa_wo_dedupe.filter(lambda x: len(x['negative_passages'])>0)\n",
    "df=rows.to_pandas()\n",
    "df.to_excel(\"negative_passages_splitted_from_positive_passage.xlsx\")"
   ]
  },
  {
   "cell_type": "markdown",
   "id": "9d947111",
   "metadata": {},
   "source": [
    "# Isi negative passages"
   ]
  },
  {
   "cell_type": "code",
   "execution_count": 197,
   "id": "6d8e61f7",
   "metadata": {},
   "outputs": [
    {
     "name": "stdout",
     "output_type": "stream",
     "text": [
      "Dataset({\n",
      "    features: ['docid', 'title', 'text'],\n",
      "    num_rows: 300000\n",
      "})\n"
     ]
    }
   ],
   "source": [
    "from datasets import load_dataset\n",
    "corpus = load_dataset(\"khalidrizki/indonesian-wiki-chunked-180tok\")\n",
    "# ambil hanya split train\n",
    "corpus = corpus[\"train\"]\n",
    "\n",
    "# shuffle dengan seed biar hasil konsisten\n",
    "corpus = corpus.shuffle(seed=42)\n",
    "\n",
    "# pilih 300 ribu baris pertama setelah shuffle\n",
    "corpus = corpus.select(range(300_000))\n",
    "\n",
    "print(corpus)"
   ]
  },
  {
   "cell_type": "code",
   "execution_count": 205,
   "id": "28d5f090",
   "metadata": {},
   "outputs": [
    {
     "name": "stderr",
     "output_type": "stream",
     "text": [
      "Filter: 100%|██████████| 300000/300000 [00:11<00:00, 27188.88 examples/s]"
     ]
    },
    {
     "name": "stdout",
     "output_type": "stream",
     "text": [
      "Jumlah baris ditemukan: 0\n",
      "Dataset({\n",
      "    features: ['docid', 'title', 'text'],\n",
      "    num_rows: 0\n",
      "})\n"
     ]
    },
    {
     "name": "stderr",
     "output_type": "stream",
     "text": [
      "\n"
     ]
    }
   ],
   "source": [
    "prefix = \"Sejarah Nusantara pada era kerajaan Hindu-Buddha | 101- Penempatan Lembah Bujang yang menggunakan aksara Sanskrit Pallava membuktikan\"\n",
    "\n",
    "# ambil baris yang diawali prefix\n",
    "subset = corpus.filter(lambda ex: ex[\"text\"].startswith(prefix))\n",
    "\n",
    "print(\"Jumlah baris ditemukan:\", len(subset))\n",
    "print(subset)"
   ]
  },
  {
   "cell_type": "code",
   "execution_count": 198,
   "id": "47ed80e4",
   "metadata": {},
   "outputs": [
    {
     "name": "stdout",
     "output_type": "stream",
     "text": [
      "Dataset({\n",
      "    features: ['docid', 'title', 'text'],\n",
      "    num_rows: 300000\n",
      "})\n"
     ]
    },
    {
     "name": "stderr",
     "output_type": "stream",
     "text": [
      "Map: 100%|██████████| 300000/300000 [00:26<00:00, 11428.26 examples/s]\n"
     ]
    },
    {
     "name": "stdout",
     "output_type": "stream",
     "text": [
      "\n",
      "Statistik panjang token (T5-base) — kolom 'text':\n",
      " count: 300000\n",
      "  mean: 135.50\n",
      "median: 139.00\n",
      "   q25: 93.00\n",
      "   q75: 180.00\n",
      "   p10: 66.00\n",
      "   p90: 185.00\n",
      "   min: 2\n",
      "   max: 230\n"
     ]
    },
    {
     "data": {
      "image/png": "[encoded data removed]",
      "text/plain": [
       "<Figure size 900x500 with 1 Axes>"
      ]
     },
     "metadata": {},
     "output_type": "display_data"
    },
    {
     "data": {
      "image/png": "[encoded data removed]",
      "text/plain": [
       "<Figure size 600x400 with 1 Axes>"
      ]
     },
     "metadata": {},
     "output_type": "display_data"
    }
   ],
   "source": [
    "import numpy as np\n",
    "import pandas as pd\n",
    "import matplotlib.pyplot as plt\n",
    "from datasets import load_dataset\n",
    "from transformers import AutoTokenizer\n",
    "\n",
    "# ----- 1) Siapkan dataset persis seperti milikmu -----\n",
    "corpus = load_dataset(\"khalidrizki/indonesian-wiki-chunked-180tok\")[\"train\"]\n",
    "corpus = corpus.shuffle(seed=42).select(range(300_000))\n",
    "print(corpus)\n",
    "\n",
    "# ----- 2) Load tokenizer T5 base -----\n",
    "t5_tokenizer = AutoTokenizer.from_pretrained(\"google/flan-t5-base\")\n",
    "\n",
    "# ----- 3) Hitung panjang token per contoh (batched) -----\n",
    "def add_t5_len(batch):\n",
    "    # Tokenisasi tanpa truncation, tanpa padding; panjang = jumlah token WP T5\n",
    "    enc = t5_tokenizer(\n",
    "        batch[\"text\"],\n",
    "        add_special_tokens=True,   # set True agar panjang mencakup special tokens (konsisten banyak pipeline)\n",
    "        truncation=False,\n",
    "        padding=False,\n",
    "        return_attention_mask=False,\n",
    "        return_token_type_ids=False,\n",
    "    )\n",
    "    # enc[\"input_ids\"] adalah list of lists; ambil panjangnya\n",
    "    lengths = [len(ids) for ids in enc[\"input_ids\"]]\n",
    "    return {\"t5_len\": lengths}\n",
    "\n",
    "# num_proc bisa >1 kalau sistemmu mendukung multiprocessing (opsional)\n",
    "corpus_len = corpus.map(add_t5_len, batched=True, batch_size=1024, load_from_cache_file=False)\n",
    "\n",
    "# ----- 4) Statistik ringkas -----\n",
    "lens = np.array(corpus_len[\"t5_len\"], dtype=np.int32)\n",
    "stats = {\n",
    "    \"count\": len(lens),\n",
    "    \"mean\": float(np.mean(lens)),\n",
    "    \"median\": float(np.median(lens)),\n",
    "    \"q25\": float(np.percentile(lens, 25)),\n",
    "    \"q75\": float(np.percentile(lens, 75)),\n",
    "    \"p10\": float(np.percentile(lens, 10)),\n",
    "    \"p90\": float(np.percentile(lens, 90)),\n",
    "    \"min\": int(lens.min()),\n",
    "    \"max\": int(lens.max()),\n",
    "}\n",
    "print(\"\\nStatistik panjang token (T5-base) — kolom 'text':\")\n",
    "for k, v in stats.items():\n",
    "    print(f\"{k:>6}: {v:.2f}\" if isinstance(v, float) else f\"{k:>6}: {v}\")\n",
    "\n",
    "# ----- 5) Visualisasi -----\n",
    "plt.figure(figsize=(9,5))\n",
    "plt.hist(lens, bins=60, edgecolor=\"black\")\n",
    "plt.axvline(stats[\"mean\"], linestyle=\"--\", label=f\"Mean {stats['mean']:.1f}\")\n",
    "plt.axvline(stats[\"median\"], linestyle=\"--\", label=f\"Median {stats['median']:.1f}\")\n",
    "plt.title(\"Distribusi Panjang Token (T5-base) untuk kolom 'text'\")\n",
    "plt.xlabel(\"Jumlah Token\")\n",
    "plt.ylabel(\"Frekuensi\")\n",
    "plt.legend()\n",
    "plt.tight_layout()\n",
    "plt.show()\n",
    "\n",
    "# Boxplot untuk melihat sebaran & outlier\n",
    "plt.figure(figsize=(6,4))\n",
    "plt.boxplot(lens, vert=True, showfliers=True)\n",
    "plt.title(\"Boxplot Panjang Token (T5-base)\")\n",
    "plt.ylabel(\"Jumlah Token\")\n",
    "plt.tight_layout()\n",
    "plt.show()\n"
   ]
  },
  {
   "cell_type": "code",
   "execution_count": 51,
   "id": "6d682c94",
   "metadata": {},
   "outputs": [],
   "source": [
    "from torch import Tensor\n",
    "from transformers import AutoTokenizer, AutoModel\n",
    "\n",
    "model_name = \"intfloat/multilingual-e5-small\"\n",
    "embedding_tokenizer = AutoTokenizer.from_pretrained(model_name)\n",
    "embedding_model = AutoModel.from_pretrained(model_name).to(\"cuda:0\")\n",
    "embedding_model.eval()\n",
    "\n",
    "# Fungsi average pooling\n",
    "def average_pool(last_hidden_states: Tensor, attention_mask: Tensor) -> Tensor:\n",
    "    last_hidden = last_hidden_states.masked_fill(~attention_mask[..., None].bool(), 0.0)\n",
    "    return last_hidden.sum(dim=1) / attention_mask.sum(dim=1)[..., None]\n",
    "\n",
    "corpus_dict = {row[\"docid\"]: (row[\"title\"], row[\"text\"]) for row in corpus}\n",
    "corpus_docids = list(corpus_dict.keys())\n",
    "corpus_texts = [f\"passage: {corpus_dict[docid][0]} | {corpus_dict[docid][1]}\" for docid in corpus_docids]"
   ]
  },
  {
   "cell_type": "code",
   "execution_count": 52,
   "id": "96874ade",
   "metadata": {},
   "outputs": [
    {
     "name": "stderr",
     "output_type": "stream",
     "text": [
      "Encoding Corpus: 100%|██████████| 2344/2344 [09:26<00:00,  4.13it/s]\n"
     ]
    }
   ],
   "source": [
    "import torch.nn.functional as F\n",
    "from tqdm import tqdm\n",
    "import torch\n",
    "import faiss\n",
    "batch_size = 128  # Sesuaikan dengan VRAM yang tersedia\n",
    "corpus_embeddings = []\n",
    "\n",
    "for start_idx in tqdm(range(0, len(corpus_texts), batch_size), desc=\"Encoding Corpus\"):\n",
    "    end_idx = min(start_idx + batch_size, len(corpus_texts))\n",
    "    batch_texts = corpus_texts[start_idx:end_idx]\n",
    "\n",
    "    batch_dict = embedding_tokenizer(batch_texts, max_length=512, padding=True, truncation=True, return_tensors='pt')\n",
    "    batch_dict = {k: v.to(\"cuda:0\") for k, v in batch_dict.items()}\n",
    "\n",
    "    with torch.no_grad():\n",
    "        outputs = embedding_model(**batch_dict)\n",
    "\n",
    "    embeddings = average_pool(outputs.last_hidden_state, batch_dict['attention_mask'])\n",
    "    embeddings = F.normalize(embeddings, p=2, dim=1)  # Normalisasi untuk cosine similarity\n",
    "    corpus_embeddings.append(embeddings.to(torch.float32).cpu())  # Pastikan float32 dan tetap di CPU"
   ]
  },
  {
   "cell_type": "code",
   "execution_count": 53,
   "id": "b1c14a74",
   "metadata": {},
   "outputs": [],
   "source": [
    "import numpy as np\n",
    "# Gabungkan semua embedding menjadi satu tensor besar\n",
    "corpus_embeddings = torch.cat(corpus_embeddings, dim=0).numpy().astype(np.float32)  # Konversi ke NumPy\n",
    "\n",
    "# Buat FAISS index untuk pencarian similarity\n",
    "index = faiss.IndexFlatIP(corpus_embeddings.shape[1])  # IP = Inner Product (Cosine Similarity)\n",
    "index.add(corpus_embeddings)  # Tambahkan corpus embeddings ke FAISS"
   ]
  },
  {
   "cell_type": "code",
   "execution_count": 54,
   "id": "49c93df4",
   "metadata": {},
   "outputs": [
    {
     "name": "stdout",
     "output_type": "stream",
     "text": [
      "Saved:\n",
      "./generated_data/corpus_faiss.idx\n",
      "./generated_data/corpus_texts.npy\n",
      "./generated_data/corpus_docids.npy\n"
     ]
    }
   ],
   "source": [
    "import os\n",
    "import numpy as np\n",
    "os.makedirs(\"./generated_data\", exist_ok=True)\n",
    "\n",
    "# Simpan FAISS index\n",
    "faiss.write_index(index, \"./generated_data/corpus_faiss.idx\")\n",
    "\n",
    "# Simpan lookup agar urutan selaras dengan index\n",
    "# (penting untuk merekonstruksi teks dari hasil pencarian FAISS)\n",
    "np.save(\"./generated_data/corpus_texts.npy\", np.array(corpus_texts, dtype=object))\n",
    "np.save(\"./generated_data/corpus_docids.npy\", np.array(corpus_docids, dtype=object))\n",
    "\n",
    "print(\"Saved:\",\n",
    "      \"./generated_data/corpus_faiss.idx\",\n",
    "      \"./generated_data/corpus_texts.npy\",\n",
    "      \"./generated_data/corpus_docids.npy\", sep=\"\\n\")"
   ]
  },
  {
   "cell_type": "code",
   "execution_count": null,
   "id": "e3abd49f",
   "metadata": {},
   "outputs": [],
   "source": [
    "# GA UP TO DATE\n",
    "# import faiss\n",
    "\n",
    "# # baca kembali dari file\n",
    "# index = faiss.read_index(\"./generated_data/_corpus_faiss.idx\")"
   ]
  },
  {
   "cell_type": "code",
   "execution_count": 55,
   "id": "e6ed5976",
   "metadata": {},
   "outputs": [],
   "source": [
    "import os\n",
    "import re\n",
    "import numpy as np\n",
    "import torch\n",
    "import torch.nn.functional as F\n",
    "from transformers import AutoTokenizer, AutoModel\n",
    "import faiss\n",
    "from tqdm import tqdm\n",
    "\n",
    "# ---------------------------\n",
    "# 1) Load FAISS index + lookup\n",
    "# ---------------------------\n",
    "\n",
    "# Lookup yang SELARAS dengan urutan embeddings saat di-add.\n",
    "# Misalnya kamu simpan pakai: np.save(\"./generated_data/corpus_texts.npy\", np.array(corpus_texts, dtype=object))\n",
    "# corpus_texts = np.load(\"./generated_data/corpus_texts.npy\", allow_pickle=True).tolist()\n",
    "# assert index.ntotal == len(corpus_texts), \"Index size dan jumlah corpus_texts tidak sama!\"\n",
    "\n",
    "# (opsional) Kalau kamu juga simpan docids selaras:\n",
    "# corpus_docids = np.load(\"./generated_data/corpus_docids.npy\", allow_pickle=True).tolist()\n",
    "\n",
    "# ---------------------------\n",
    "# 2) Siapkan encoder (multilingual-e5-small)\n",
    "# ---------------------------\n",
    "model_name = \"intfloat/multilingual-e5-small\"\n",
    "device = torch.device(\"cuda:0\" if torch.cuda.is_available() else \"cpu\")\n",
    "embedding_tokenizer = AutoTokenizer.from_pretrained(model_name)\n",
    "embedding_model = AutoModel.from_pretrained(model_name).to(device).eval()\n",
    "\n",
    "def average_pool(last_hidden_states: torch.Tensor, attention_mask: torch.Tensor) -> torch.Tensor:\n",
    "    last_hidden = last_hidden_states.masked_fill(~attention_mask[..., None].bool(), 0.0)\n",
    "    return last_hidden.sum(dim=1) / attention_mask.sum(dim=1)[..., None]\n",
    "\n",
    "# ---------------------------\n",
    "# 3) Util: normalisasi ringan & filter\n",
    "# ---------------------------\n",
    "def strip_passage_prefix(s: str) -> str:\n",
    "    # Kalau saat buat index kamu pakai \"passage: title | body\", kita hilangkan \"passage:\" agar adil saat perbandingan\n",
    "    return re.sub(r\"^\\s*passage:\\s*\", \"\", s, flags=re.IGNORECASE)\n",
    "\n",
    "def normalize_cmp(s: str) -> str:\n",
    "    if s is None:\n",
    "        return \"\"\n",
    "    s = strip_passage_prefix(s)\n",
    "    s = re.sub(r\"\\s+\", \" \", s).strip().casefold()\n",
    "    return s\n",
    "\n",
    "def choose_topk_filtered(ids_row, k, positive_text):\n",
    "    \"\"\"Ambil top-k corpus_texts untuk satu query, sambil membuang yang sama persis dgn positive_passage.\"\"\"\n",
    "    pos_norm = normalize_cmp(positive_text or \"\")\n",
    "    out = []\n",
    "    for idx in ids_row:\n",
    "        cand = corpus_texts[idx]\n",
    "        # bandingkan secara normalisasi\n",
    "        if normalize_cmp(cand) == pos_norm:\n",
    "            continue\n",
    "        out.append(cand)\n",
    "        if len(out) == k:\n",
    "            break\n",
    "    return out\n",
    "\n",
    "# ---------------------------\n",
    "# 4) Batch retrieve untuk dataset HF\n",
    "# ---------------------------\n",
    "# Param:\n",
    "TOPK = 3               # ingin 3 passages\n",
    "SEARCH_OVERFETCH = 5  # ambil lebih banyak, untuk jaga-jaga kalau ada yang terfilter karena sama dgn positive_passage\n",
    "BATCH_SIZE = 128\n",
    "\n",
    "# amp untuk inference cepat\n",
    "amp_dtype = torch.bfloat16 if (device.type == \"cuda\" and torch.cuda.is_bf16_supported()) else torch.float16\n",
    "\n",
    "def retrieve_batch(batch):\n",
    "    \"\"\"\n",
    "    batch: dict dari HF map (berisi 'question_norm' dan 'positive_passage')\n",
    "    Output: tambah kolom 'retrieved_top3' = list of list[str]\n",
    "    \"\"\"\n",
    "    questions = batch[\"question_norm\"]\n",
    "    positives = batch.get(\"positive_passage\", [\"\"] * len(questions))\n",
    "\n",
    "    # Prefix E5: \"query: ...\"\n",
    "    texts = [f\"query: {q}\" for q in questions]\n",
    "\n",
    "    tok = embedding_tokenizer(\n",
    "        texts,\n",
    "        max_length=512,\n",
    "        padding=True,\n",
    "        truncation=True,\n",
    "        pad_to_multiple_of=8,\n",
    "        return_tensors=\"pt\",\n",
    "    )\n",
    "\n",
    "    tok = {k: v.to(device, non_blocking=True) for k, v in tok.items()}\n",
    "\n",
    "    with torch.inference_mode(), torch.autocast(device_type=device.type, dtype=amp_dtype) if device.type == \"cuda\" else torch.cuda.amp.autocast(enabled=False):\n",
    "        out = embedding_model(**tok)\n",
    "        q_emb = average_pool(out.last_hidden_state, tok[\"attention_mask\"])\n",
    "        q_emb = F.normalize(q_emb, p=2, dim=1).float().cpu().numpy()  # [B, d], float32\n",
    "\n",
    "    # FAISS search (batch)\n",
    "    D, I = index.search(q_emb, TOPK + SEARCH_OVERFETCH)  # ambil ekstra kandidat\n",
    "\n",
    "    # Filter yang sama dengan positive_passage lalu ambil 3\n",
    "    retrieved = []\n",
    "    for row_ids, pos_text in zip(I, positives):\n",
    "        retrieved.append(choose_topk_filtered(row_ids, TOPK, pos_text))\n",
    "\n",
    "    batch[\"retrieved_top3\"] = retrieved\n",
    "    return batch\n",
    "\n",
    "# ---------------------------\n",
    "# 5) Terapkan ke dataset\n",
    "# ---------------------------\n",
    "# Misal dataset-mu bernama indoqa_clean / tydiqa_fin / ds_lain\n",
    "# Pastikan dataset memiliki kolom 'question_norm' dan 'positive_passage'\n",
    "# Contoh:\n",
    "# ds = indoqa_clean  # atau tydiqa_fin, asal punya dua kolom tsb\n",
    "\n",
    "# ds = ds.map(\n",
    "#     retrieve_batch,\n",
    "#     batched=True,\n",
    "#     batch_size=BATCH_SIZE,\n",
    "#     load_from_cache_file=False,\n",
    "#     desc=\"Retrieving top-3 passages\"\n",
    "# )\n",
    "# Sekarang ds punya kolom 'retrieved_top3'\n"
   ]
  },
  {
   "cell_type": "code",
   "execution_count": null,
   "id": "3374fcc2",
   "metadata": {},
   "outputs": [],
   "source": [
    "import re\n",
    "import torch\n",
    "import torch.nn.functional as F\n",
    "from transformers import AutoTokenizer, AutoModel\n",
    "\n",
    "def _as_text_list(maybe_list):\n",
    "    \"\"\"retrieved_top3 bisa list[str] atau list[dict{'text':...}]; kembalikan list[str].\"\"\"\n",
    "    out = []\n",
    "    if not isinstance(maybe_list, list):\n",
    "        return out\n",
    "    for x in maybe_list:\n",
    "        if isinstance(x, dict):\n",
    "            t = x.get(\"text\", \"\")\n",
    "        else:\n",
    "            t = x\n",
    "        if isinstance(t, str) and t.strip():\n",
    "            out.append(t)\n",
    "    return out\n",
    "\n",
    "def _collect_candidates(positive_passage, negative_passages, retrieved_top3):\n",
    "    \"\"\"\n",
    "    Kembalikan: list[ (text, is_positive) ] yang sudah deduplicate berdasarkan normalize_cmp.\n",
    "    Urutan awal tidak penting karena nanti kita re-rank pakai model.\n",
    "    \"\"\"\n",
    "    seen = set()\n",
    "    cands = []\n",
    "\n",
    "    def add(text, is_pos):\n",
    "        if not isinstance(text, str) or not text.strip():\n",
    "            return\n",
    "        key = normalize_cmp(text)\n",
    "        if key in seen:\n",
    "            return\n",
    "        seen.add(key)\n",
    "        cands.append((text, is_pos))\n",
    "\n",
    "    # positive\n",
    "    add(positive_passage, True)\n",
    "\n",
    "    # negatives\n",
    "    if isinstance(negative_passages, list):\n",
    "        for t in negative_passages:\n",
    "            add(t, False)\n",
    "\n",
    "    # retrieved (list[str] atau list[dict])\n",
    "    for t in _as_text_list(retrieved_top3):\n",
    "        add(t, False)\n",
    "\n",
    "    return cands\n",
    "\n",
    "# ---------- core: re-rank & bangun dua kolom ----------\n",
    "amp_dtype = torch.bfloat16 if (device.type == \"cuda\" and torch.cuda.is_bf16_supported()) else torch.float16\n",
    "\n",
    "def rerank_build_top3_for_batch(batch):\n",
    "    \"\"\"\n",
    "    Input batch (HF map):\n",
    "      - question_norm: str\n",
    "      - positive_passage: str\n",
    "      - negative_passages: list[str]\n",
    "      - retrieved_top3: list[str] atau list[dict{'text':...}]\n",
    "    Output kolom baru:\n",
    "      - top3_psgs_include_positive: list[dict{text, score, is_positive}]\n",
    "      - top3_psgs_may_not_include_positive: list[dict{text, score, is_positive}]\n",
    "    \"\"\"\n",
    "    questions = batch[\"question_norm\"]\n",
    "    positives = batch.get(\"positive_passage\", [\"\"] * len(questions))\n",
    "    negatives = batch.get(\"negative_passages\", [[] for _ in range(len(questions))])\n",
    "    retrieved = batch.get(\"retrieved_top3\", [[] for _ in range(len(questions))])\n",
    "\n",
    "    out_inc_pos = []\n",
    "    out_maybe_pos = []\n",
    "\n",
    "    for q, pos, negs, rets in zip(questions, positives, negatives, retrieved):\n",
    "        # Kumpulkan kandidat\n",
    "        cands = _collect_candidates(pos, negs, rets)  # list[(text, is_positive)]\n",
    "        if not cands:\n",
    "            out_inc_pos.append([])\n",
    "            out_maybe_pos.append([])\n",
    "            continue\n",
    "\n",
    "        # siapkan teks untuk embedding\n",
    "        cand_texts = [t for (t, _) in cands]\n",
    "        cand_flags = [is_pos for (_, is_pos) in cands]\n",
    "        # E5: prefix\n",
    "        q_text = f\"query: {q}\"\n",
    "        p_texts = [f\"passage: {t}\" for t in cand_texts]\n",
    "\n",
    "        # tokenisasi & embedding (per contoh sederhana; per-row agar simpel)\n",
    "        tok_q = embedding_tokenizer(q_text, max_length=512, padding=True, truncation=True, return_tensors=\"pt\")\n",
    "        tok_p = embedding_tokenizer(p_texts, max_length=512, padding=True, truncation=True, return_tensors=\"pt\")\n",
    "\n",
    "        tok_q = {k: v.to(device, non_blocking=True) for k, v in tok_q.items()}\n",
    "        tok_p = {k: v.to(device, non_blocking=True) for k, v in tok_p.items()}\n",
    "\n",
    "        with torch.inference_mode(), (\n",
    "            torch.autocast(device_type=device.type, dtype=amp_dtype) if device.type == \"cuda\" else torch.cuda.amp.autocast(enabled=False)\n",
    "        ):\n",
    "            out_q = embedding_model(**tok_q)\n",
    "            out_p = embedding_model(**tok_p)\n",
    "\n",
    "            q_emb = average_pool(out_q.last_hidden_state, tok_q[\"attention_mask\"])\n",
    "            p_emb = average_pool(out_p.last_hidden_state, tok_p[\"attention_mask\"])\n",
    "\n",
    "            q_emb = F.normalize(q_emb, p=2, dim=1)        # [1, d]\n",
    "            p_emb = F.normalize(p_emb, p=2, dim=1)        # [N, d]\n",
    "\n",
    "            scores = (q_emb @ p_emb.T).squeeze(0)         # [N]\n",
    "            scores = (scores * 100.0).float().cpu().numpy().tolist()\n",
    "\n",
    "        # urutkan kandidat berdasarkan skor (desc)\n",
    "        order = sorted(range(len(cands)), key=lambda i: scores[i], reverse=True)\n",
    "        ranked = [{\"text\": cand_texts[i], \"score\": float(scores[i]), \"is_positive\": bool(cand_flags[i])} for i in order]\n",
    "\n",
    "        # 1) top3_psgs_may_not_include_positive: ambil 3 teratas apa adanya\n",
    "        out_maybe_pos.append(ranked[:3])\n",
    "\n",
    "        # 2) top3_psgs_include_positive:\n",
    "        #    - kalau ada positive, letakkan positive (skor aslinya), lalu isi dengan top skor lain hingga 3 item\n",
    "        #    - kalau tidak ada positive, sama seperti maybe_pos\n",
    "        pos_indices = [i for i, r in enumerate(ranked) if r[\"is_positive\"]]\n",
    "        if pos and pos_indices:\n",
    "            pos_item = ranked[pos_indices[0]]\n",
    "            # ambil non-positive dari ranked (urut skor)\n",
    "            fillers = [r for r in ranked if not r[\"is_positive\"]]\n",
    "            include_list = [pos_item] + fillers[:2]\n",
    "            out_inc_pos.append(include_list[:3])\n",
    "        else:\n",
    "            out_inc_pos.append(ranked[:3])\n",
    "\n",
    "    batch[\"top3_psgs_include_positive\"] = out_inc_pos\n",
    "    batch[\"top3_psgs_may_not_include_positive\"] = out_maybe_pos\n",
    "    return batch\n",
    "\n",
    "# ---- contoh pemakaian pada dataset HF (mis. tydiqa_with_neg) ----\n",
    "# tydiqa_with_neg = tydiqa_with_neg.map(\n",
    "#     rerank_build_top3_for_batch,\n",
    "#     batched=True,\n",
    "#     batch_size=64,                 # bebas; ini tidak GPU-heavy karena per-row embed kandidat\n",
    "#     load_from_cache_file=False,\n",
    "#     desc=\"Re-ranking to build top3 cols\"\n",
    "# )\n"
   ]
  },
  {
   "cell_type": "code",
   "execution_count": 145,
   "id": "8c0049be",
   "metadata": {},
   "outputs": [],
   "source": [
    "def _sort_top3_by_score_batch(batch, col=\"top3_psgs_include_positive\"):\n",
    "    lists = batch.get(col, [])\n",
    "    out = []\n",
    "    for items in lists:\n",
    "        if not isinstance(items, list):\n",
    "            out.append(items)  # biarkan apa adanya kalau bukan list\n",
    "            continue\n",
    "        # skor numerik; jika tidak ada/invalid -> -inf\n",
    "        def _score(it):\n",
    "            try:\n",
    "                return float(it.get(\"score\", float(\"-inf\")))\n",
    "            except Exception:\n",
    "                return float(\"-inf\")\n",
    "        sorted_items = sorted(items, key=_score, reverse=True)\n",
    "        out.append(sorted_items[:3])  # jaga-jaga kalau lebih dari 3\n",
    "    batch[col] = out\n",
    "    return batch\n",
    "\n",
    "# Terapkan ke masing-masing dataset yang kamu punya\n",
    "# (aktifkan hanya yang ada variabelnya di sesi kamu)\n",
    "\n"
   ]
  },
  {
   "cell_type": "markdown",
   "id": "e0d1b3d6",
   "metadata": {},
   "source": [
    "### Inspect persentase dari masing-masing dataset terkait berapa banyak yang sudah memiliki negative passages"
   ]
  },
  {
   "cell_type": "code",
   "execution_count": null,
   "id": "95f8159b",
   "metadata": {},
   "outputs": [],
   "source": [
    "def remove_passage_prefix(batch):\n",
    "    cleaned = []\n",
    "    for segs in batch[\"retrieved_top3\"]:\n",
    "        # hilangkan prefix \"passage: \" kalau ada\n",
    "        new_segs = [s.replace(\"passage: \", \"\", 1) if s.startswith(\"passage: \") else s\n",
    "                    for s in segs]\n",
    "        cleaned.append(new_segs)\n",
    "    batch[\"retrieved_top3\"] = cleaned\n",
    "    return batch"
   ]
  },
  {
   "cell_type": "code",
   "execution_count": 34,
   "id": "0cad7839",
   "metadata": {},
   "outputs": [],
   "source": [
    "facqa = load_from_disk(\"./generated_data/facqa_with_unfinished_negative_passages\")\n",
    "indoqa = load_from_disk(\"./generated_data/indoqa_with_unfinished_negative_passages\")\n",
    "tydiqa = load_from_disk(\"./generated_data/tydiqa_with_unfinished_negative_passages\")"
   ]
  },
  {
   "cell_type": "code",
   "execution_count": 39,
   "id": "ec00c94b",
   "metadata": {},
   "outputs": [
    {
     "name": "stdout",
     "output_type": "stream",
     "text": [
      "tanpa negatives, facqa punya 2985 baris (96.04)%\n",
      "dengan tepat 1 negative, facqa punya 123 baris (3.96)%\n",
      "dengan >1 negatives, facqa punya 0 baris (0.0)%\n"
     ]
    }
   ],
   "source": [
    "total_fac_len = len(facqa)\n",
    "fac_wo_negs = facqa.filter(lambda x: len(x['negative_passages'])==0)\n",
    "print(f\"tanpa negatives, facqa punya {len(fac_wo_negs)} baris ({round(len(fac_wo_negs)/total_fac_len*100, 2)})%\")\n",
    "fac_w_one_negs = facqa.filter(lambda x: len(x['negative_passages'])==1)\n",
    "print(f\"dengan tepat 1 negative, facqa punya {len(fac_w_one_negs)} baris ({round(len(fac_w_one_negs)/total_fac_len*100, 2)})%\")\n",
    "fac_w_multi_negs = facqa.filter(lambda x: len(x['negative_passages'])>1)\n",
    "print(f\"dengan >1 negatives, facqa punya {len(fac_w_multi_negs)} baris ({round(len(fac_w_multi_negs)/total_fac_len*100, 2)})%\") "
   ]
  },
  {
   "cell_type": "code",
   "execution_count": 43,
   "id": "bab4e449",
   "metadata": {},
   "outputs": [
    {
     "name": "stdout",
     "output_type": "stream",
     "text": [
      "tanpa negatives, facqa punya 1521 baris (35.84)%\n",
      "dengan tepat 1 negative, facqa punya 2302 baris (54.24)%\n",
      "dengan >1 negatives, facqa punya 421 baris (9.92)%\n"
     ]
    }
   ],
   "source": [
    "total_indo_len = len(indoqa)\n",
    "indo_wo_negs = indoqa.filter(lambda x: len(x['negative_passages'])==0)\n",
    "print(f\"tanpa negatives, facqa punya {len(indo_wo_negs)} baris ({round(len(indo_wo_negs)/total_indo_len*100, 2)})%\")\n",
    "indo_w_one_negs = indoqa.filter(lambda x: len(x['negative_passages'])==1)\n",
    "print(f\"dengan tepat 1 negative, facqa punya {len(indo_w_one_negs)} baris ({round(len(indo_w_one_negs)/total_indo_len*100, 2)})%\")\n",
    "indo_w_multi_negs = indoqa.filter(lambda x: len(x['negative_passages'])>1)\n",
    "print(f\"dengan >1 negatives, facqa punya {len(indo_w_multi_negs)} baris ({round(len(indo_w_multi_negs)/total_indo_len*100, 2)})%\") "
   ]
  },
  {
   "cell_type": "code",
   "execution_count": 44,
   "id": "9b879e2d",
   "metadata": {},
   "outputs": [
    {
     "name": "stdout",
     "output_type": "stream",
     "text": [
      "tanpa negatives, facqa punya 3155 baris (53.41)%\n",
      "dengan tepat 1 negative, facqa punya 1991 baris (33.71)%\n",
      "dengan >1 negatives, facqa punya 761 baris (12.88)%\n"
     ]
    }
   ],
   "source": [
    "total_tydi_len = len(tydiqa)\n",
    "tydi_wo_negs = tydiqa.filter(lambda x: len(x['negative_passages'])==0)\n",
    "print(f\"tanpa negatives, facqa punya {len(tydi_wo_negs)} baris ({round(len(tydi_wo_negs)/total_tydi_len*100, 2)})%\")\n",
    "tydi_w_one_negs = tydiqa.filter(lambda x: len(x['negative_passages'])==1)\n",
    "print(f\"dengan tepat 1 negative, facqa punya {len(tydi_w_one_negs)} baris ({round(len(tydi_w_one_negs)/total_tydi_len*100, 2)})%\")\n",
    "tydi_w_multi_negs = tydiqa.filter(lambda x: len(x['negative_passages'])>1)\n",
    "print(f\"dengan >1 negatives, facqa punya {len(tydi_w_multi_negs)} baris ({round(len(tydi_w_multi_negs)/total_tydi_len*100, 2)})%\") "
   ]
  },
  {
   "cell_type": "markdown",
   "id": "4e13d560",
   "metadata": {},
   "source": [
    "## FacQA "
   ]
  },
  {
   "cell_type": "code",
   "execution_count": 56,
   "id": "205c28fa",
   "metadata": {},
   "outputs": [
    {
     "name": "stderr",
     "output_type": "stream",
     "text": [
      "Retrieving top-3 passages: 100%|██████████| 3108/3108 [10:53<00:00,  4.76 examples/s]\n"
     ]
    }
   ],
   "source": [
    "facqa = facqa.map(\n",
    "    retrieve_batch,\n",
    "    batched=True,\n",
    "    batch_size=BATCH_SIZE,\n",
    "    load_from_cache_file=False,\n",
    "    desc=\"Retrieving top-3 passages\"\n",
    ")"
   ]
  },
  {
   "cell_type": "code",
   "execution_count": 60,
   "id": "64637fc7",
   "metadata": {},
   "outputs": [
    {
     "name": "stderr",
     "output_type": "stream",
     "text": [
      "Map: 100%|██████████| 3108/3108 [00:00<00:00, 30958.68 examples/s]\n"
     ]
    }
   ],
   "source": [
    "facqa = facqa.map(remove_passage_prefix, batched=True)"
   ]
  },
  {
   "cell_type": "code",
   "execution_count": 69,
   "id": "1e5391ec",
   "metadata": {},
   "outputs": [
    {
     "name": "stderr",
     "output_type": "stream",
     "text": [
      "Saving the dataset (0/1 shards):   0%|          | 0/3108 [00:00<?, ? examples/s]"
     ]
    },
    {
     "name": "stderr",
     "output_type": "stream",
     "text": [
      "Saving the dataset (1/1 shards): 100%|██████████| 3108/3108 [00:00<00:00, 99942.48 examples/s] \n"
     ]
    }
   ],
   "source": [
    "facqa.save_to_disk(\"./generated_data/facqa_with_negs\")"
   ]
  },
  {
   "cell_type": "code",
   "execution_count": 117,
   "id": "983ace2d",
   "metadata": {},
   "outputs": [
    {
     "name": "stderr",
     "output_type": "stream",
     "text": [
      "Re-ranking to build top3 cols: 100%|██████████| 3108/3108 [02:11<00:00, 23.67 examples/s]\n"
     ]
    }
   ],
   "source": [
    "facqa = facqa.map(\n",
    "    rerank_build_top3_for_batch,\n",
    "    batched=True,\n",
    "    batch_size=64,                 # bebas; ini tidak GPU-heavy karena per-row embed kandidat\n",
    "    load_from_cache_file=False,\n",
    "    desc=\"Re-ranking to build top3 cols\"\n",
    ")"
   ]
  },
  {
   "cell_type": "code",
   "execution_count": 121,
   "id": "5776fb65",
   "metadata": {},
   "outputs": [
    {
     "name": "stdout",
     "output_type": "stream",
     "text": [
      "Total baris: 3108\n",
      "Baris yang memiliki is_positive di TOP-3: 2239 (72.04%)\n",
      "Distribusi posisi (di antara baris yang memiliki positif):\n",
      "  Index 0 (skor tertinggi): 1966 (87.81%)\n",
      "  Index 1:                  195 (8.71%)\n",
      "  Index 2:                  78 (3.48%)\n"
     ]
    }
   ],
   "source": [
    "# Ambil kolom\n",
    "rows = facqa[\"top3_psgs_may_not_include_positive\"]\n",
    "\n",
    "total = len(rows)\n",
    "with_pos = 0\n",
    "none_pos = 0\n",
    "\n",
    "# hitung posisi (di antara baris yang punya positif)\n",
    "pos_counts = {0: 0, 1: 0, 2: 0}\n",
    "\n",
    "for items in rows:\n",
    "    # Pastikan list valid\n",
    "    if not isinstance(items, list) or len(items) == 0:\n",
    "        none_pos += 1\n",
    "        continue\n",
    "\n",
    "    # Cari indeks item dengan is_positive=True\n",
    "    pos_idxs = [i for i, it in enumerate(items) if isinstance(it, dict) and it.get(\"is_positive\", False) is True]\n",
    "\n",
    "    if not pos_idxs:\n",
    "        none_pos += 1\n",
    "        continue\n",
    "\n",
    "    with_pos += 1\n",
    "    top_idx = min(pos_idxs)  # pilih yang ranking tertinggi\n",
    "    if top_idx in pos_counts:\n",
    "        pos_counts[top_idx] += 1\n",
    "    # jika list kurang dari 3 elemen tapi ada positif di idx 0/1, tetap terhitung\n",
    "\n",
    "# --- Hasil & persentase ---\n",
    "pct_any = (with_pos / total * 100.0) if total else 0.0\n",
    "pct_top0 = (pos_counts[0] / with_pos * 100.0) if with_pos else 0.0\n",
    "pct_top1 = (pos_counts[1] / with_pos * 100.0) if with_pos else 0.0\n",
    "pct_top2 = (pos_counts[2] / with_pos * 100.0) if with_pos else 0.0\n",
    "\n",
    "print(f\"Total baris: {total}\")\n",
    "print(f\"Baris yang memiliki is_positive di TOP-3: {with_pos} ({pct_any:.2f}%)\")\n",
    "print(\"Distribusi posisi (di antara baris yang memiliki positif):\")\n",
    "print(f\"  Index 0 (skor tertinggi): {pos_counts[0]} ({pct_top0:.2f}%)\")\n",
    "print(f\"  Index 1:                  {pos_counts[1]} ({pct_top1:.2f}%)\")\n",
    "print(f\"  Index 2:                  {pos_counts[2]} ({pct_top2:.2f}%)\")\n"
   ]
  },
  {
   "cell_type": "code",
   "execution_count": null,
   "id": "ccb2df3a",
   "metadata": {},
   "outputs": [
    {
     "name": "stdout",
     "output_type": "stream",
     "text": [
      "Total baris: 3108\n",
      "Baris yang memiliki is_positive di TOP-3: 3108 (100.00%)\n",
      "Distribusi posisi (di antara baris yang memiliki positif):\n",
      "  Index 0 (skor tertinggi): 3108 (100.00%)\n",
      "  Index 1:                  0 (0.00%)\n",
      "  Index 2:                  0 (0.00%)\n"
     ]
    }
   ],
   "source": [
    "# Ambil kolom\n",
    "rows = facqa[\"top3_psgs_include_positive\"]\n",
    "\n",
    "total = len(rows)\n",
    "with_pos = 0\n",
    "none_pos = 0\n",
    "\n",
    "# hitung posisi (di antara baris yang punya positif)\n",
    "pos_counts = {0: 0, 1: 0, 2: 0}\n",
    "\n",
    "for items in rows:\n",
    "    # Pastikan list valid\n",
    "    if not isinstance(items, list) or len(items) == 0:\n",
    "        none_pos += 1\n",
    "        continue\n",
    "\n",
    "    # Cari indeks item dengan is_positive=True\n",
    "    pos_idxs = [i for i, it in enumerate(items) if isinstance(it, dict) and it.get(\"is_positive\", False) is True]\n",
    "\n",
    "    if not pos_idxs:\n",
    "        none_pos += 1\n",
    "        continue\n",
    "\n",
    "    with_pos += 1\n",
    "    top_idx = min(pos_idxs)  # pilih yang ranking tertinggi\n",
    "    if top_idx in pos_counts:\n",
    "        pos_counts[top_idx] += 1\n",
    "    # jika list kurang dari 3 elemen tapi ada positif di idx 0/1, tetap terhitung\n",
    "\n",
    "# --- Hasil & persentase ---\n",
    "pct_any = (with_pos / total * 100.0) if total else 0.0\n",
    "pct_top0 = (pos_counts[0] / with_pos * 100.0) if with_pos else 0.0\n",
    "pct_top1 = (pos_counts[1] / with_pos * 100.0) if with_pos else 0.0\n",
    "pct_top2 = (pos_counts[2] / with_pos * 100.0) if with_pos else 0.0\n",
    "\n",
    "print(f\"Total baris: {total}\")\n",
    "print(f\"Baris yang memiliki is_positive di TOP-3: {with_pos} ({pct_any:.2f}%)\")\n",
    "print(\"Distribusi posisi (di antara baris yang memiliki positif):\")\n",
    "print(f\"  Index 0 (skor tertinggi): {pos_counts[0]} ({pct_top0:.2f}%)\")\n",
    "print(f\"  Index 1:                  {pos_counts[1]} ({pct_top1:.2f}%)\")\n",
    "print(f\"  Index 2:                  {pos_counts[2]} ({pct_top2:.2f}%)\")\n"
   ]
  },
  {
   "cell_type": "code",
   "execution_count": 146,
   "id": "0d5514cd",
   "metadata": {},
   "outputs": [
    {
     "name": "stderr",
     "output_type": "stream",
     "text": [
      "Map: 100%|██████████| 3108/3108 [00:00<00:00, 9350.42 examples/s] \n"
     ]
    }
   ],
   "source": [
    "facqa = facqa.map(_sort_top3_by_score_batch, batched=True, load_from_cache_file=False)"
   ]
  },
  {
   "cell_type": "code",
   "execution_count": 157,
   "id": "f6d3d007",
   "metadata": {},
   "outputs": [],
   "source": [
    "facqa = facqa.remove_columns(['negative_passages'])"
   ]
  },
  {
   "cell_type": "code",
   "execution_count": 159,
   "id": "de2e9668",
   "metadata": {},
   "outputs": [
    {
     "data": {
      "text/plain": [
       "Dataset({\n",
       "    features: ['id', 'question', 'answer', 'positive_passage', 'question_norm', 'question_stem', 'retrieved_top3', 'top3_psgs_include_positive', 'top3_psgs_may_not_include_positive'],\n",
       "    num_rows: 3108\n",
       "})"
      ]
     },
     "execution_count": 159,
     "metadata": {},
     "output_type": "execute_result"
    }
   ],
   "source": [
    "facqa"
   ]
  },
  {
   "cell_type": "code",
   "execution_count": 161,
   "id": "6769ed5e",
   "metadata": {},
   "outputs": [
    {
     "name": "stderr",
     "output_type": "stream",
     "text": [
      "Saving the dataset (1/1 shards): 100%|██████████| 3108/3108 [00:00<00:00, 115794.35 examples/s]\n"
     ]
    }
   ],
   "source": [
    "facqa.save_to_disk(\"./generated_data/facqa_finish\")"
   ]
  },
  {
   "cell_type": "markdown",
   "id": "835b5e34",
   "metadata": {},
   "source": [
    "## IndoQA"
   ]
  },
  {
   "cell_type": "code",
   "execution_count": 62,
   "id": "0591722b",
   "metadata": {},
   "outputs": [
    {
     "name": "stderr",
     "output_type": "stream",
     "text": [
      "Retrieving top-3 passages: 100%|██████████| 4244/4244 [13:36<00:00,  5.20 examples/s]\n"
     ]
    }
   ],
   "source": [
    "indoqa = indoqa.map(\n",
    "    retrieve_batch,\n",
    "    batched=True,\n",
    "    batch_size=BATCH_SIZE,\n",
    "    load_from_cache_file=False,\n",
    "    desc=\"Retrieving top-3 passages\"\n",
    ")"
   ]
  },
  {
   "cell_type": "code",
   "execution_count": 63,
   "id": "5049d935",
   "metadata": {},
   "outputs": [
    {
     "name": "stderr",
     "output_type": "stream",
     "text": [
      "Map: 100%|██████████| 4244/4244 [00:00<00:00, 25213.17 examples/s]\n"
     ]
    }
   ],
   "source": [
    "indoqa = indoqa.map(remove_passage_prefix, batched=True)"
   ]
  },
  {
   "cell_type": "code",
   "execution_count": 68,
   "id": "779921a8",
   "metadata": {},
   "outputs": [
    {
     "name": "stderr",
     "output_type": "stream",
     "text": [
      "Saving the dataset (0/1 shards):   0%|          | 0/4244 [00:00<?, ? examples/s]"
     ]
    },
    {
     "name": "stderr",
     "output_type": "stream",
     "text": [
      "Saving the dataset (1/1 shards): 100%|██████████| 4244/4244 [00:00<00:00, 159046.35 examples/s]\n"
     ]
    }
   ],
   "source": [
    "indoqa.save_to_disk(\"./generated_data/indoqa_with_negs\")"
   ]
  },
  {
   "cell_type": "code",
   "execution_count": 118,
   "id": "1f30c426",
   "metadata": {},
   "outputs": [
    {
     "name": "stderr",
     "output_type": "stream",
     "text": [
      "Re-ranking to build top3 cols: 100%|██████████| 4244/4244 [03:16<00:00, 21.62 examples/s]\n"
     ]
    }
   ],
   "source": [
    "indoqa = indoqa.map(\n",
    "    rerank_build_top3_for_batch,\n",
    "    batched=True,\n",
    "    batch_size=64,                 # bebas; ini tidak GPU-heavy karena per-row embed kandidat\n",
    "    load_from_cache_file=False,\n",
    "    desc=\"Re-ranking to build top3 cols\"\n",
    ")"
   ]
  },
  {
   "cell_type": "code",
   "execution_count": 124,
   "id": "07410d8b",
   "metadata": {},
   "outputs": [
    {
     "name": "stdout",
     "output_type": "stream",
     "text": [
      "Total baris: 4244\n",
      "Baris yang memiliki is_positive di TOP-3: 2985 (70.33%)\n",
      "Distribusi posisi (di antara baris yang memiliki positif):\n",
      "  Index 0 (skor tertinggi): 2250 (75.38%)\n",
      "  Index 1:                  522 (17.49%)\n",
      "  Index 2:                  213 (7.14%)\n"
     ]
    }
   ],
   "source": [
    "# Ambil kolom\n",
    "rows = indoqa[\"top3_psgs_may_not_include_positive\"]\n",
    "\n",
    "total = len(rows)\n",
    "with_pos = 0\n",
    "none_pos = 0\n",
    "\n",
    "# hitung posisi (di antara baris yang punya positif)\n",
    "pos_counts = {0: 0, 1: 0, 2: 0}\n",
    "\n",
    "for items in rows:\n",
    "    # Pastikan list valid\n",
    "    if not isinstance(items, list) or len(items) == 0:\n",
    "        none_pos += 1\n",
    "        continue\n",
    "\n",
    "    # Cari indeks item dengan is_positive=True\n",
    "    pos_idxs = [i for i, it in enumerate(items) if isinstance(it, dict) and it.get(\"is_positive\", False) is True]\n",
    "\n",
    "    if not pos_idxs:\n",
    "        none_pos += 1\n",
    "        continue\n",
    "\n",
    "    with_pos += 1\n",
    "    top_idx = min(pos_idxs)  # pilih yang ranking tertinggi\n",
    "    if top_idx in pos_counts:\n",
    "        pos_counts[top_idx] += 1\n",
    "    # jika list kurang dari 3 elemen tapi ada positif di idx 0/1, tetap terhitung\n",
    "\n",
    "# --- Hasil & persentase ---\n",
    "pct_any = (with_pos / total * 100.0) if total else 0.0\n",
    "pct_top0 = (pos_counts[0] / with_pos * 100.0) if with_pos else 0.0\n",
    "pct_top1 = (pos_counts[1] / with_pos * 100.0) if with_pos else 0.0\n",
    "pct_top2 = (pos_counts[2] / with_pos * 100.0) if with_pos else 0.0\n",
    "\n",
    "print(f\"Total baris: {total}\")\n",
    "print(f\"Baris yang memiliki is_positive di TOP-3: {with_pos} ({pct_any:.2f}%)\")\n",
    "print(\"Distribusi posisi (di antara baris yang memiliki positif):\")\n",
    "print(f\"  Index 0 (skor tertinggi): {pos_counts[0]} ({pct_top0:.2f}%)\")\n",
    "print(f\"  Index 1:                  {pos_counts[1]} ({pct_top1:.2f}%)\")\n",
    "print(f\"  Index 2:                  {pos_counts[2]} ({pct_top2:.2f}%)\")\n"
   ]
  },
  {
   "cell_type": "code",
   "execution_count": null,
   "id": "38a51ff0",
   "metadata": {},
   "outputs": [
    {
     "name": "stdout",
     "output_type": "stream",
     "text": [
      "Total baris: 4244\n",
      "Baris yang memiliki is_positive di TOP-3: 4244 (100.00%)\n",
      "Distribusi posisi (di antara baris yang memiliki positif):\n",
      "  Index 0 (skor tertinggi): 4244 (100.00%)\n",
      "  Index 1:                  0 (0.00%)\n",
      "  Index 2:                  0 (0.00%)\n"
     ]
    }
   ],
   "source": [
    "indoqa = indoqa.map(_sort_top3_by_score_batch, batched=True, load_from_cache_file=False)"
   ]
  },
  {
   "cell_type": "code",
   "execution_count": 163,
   "id": "aac96a67",
   "metadata": {},
   "outputs": [],
   "source": [
    "indoqa=indoqa.remove_columns(['negative_passages'])"
   ]
  },
  {
   "cell_type": "code",
   "execution_count": 165,
   "id": "afb2d721",
   "metadata": {},
   "outputs": [
    {
     "name": "stderr",
     "output_type": "stream",
     "text": [
      "Saving the dataset (1/1 shards): 100%|██████████| 4244/4244 [00:00<00:00, 63890.84 examples/s]\n"
     ]
    }
   ],
   "source": [
    "indoqa.save_to_disk(\"./generated_data/indoqa_finish\")"
   ]
  },
  {
   "cell_type": "markdown",
   "id": "a9bbe58c",
   "metadata": {},
   "source": [
    "## TyDi"
   ]
  },
  {
   "cell_type": "code",
   "execution_count": 64,
   "id": "ec9c1c4d",
   "metadata": {},
   "outputs": [
    {
     "data": {
      "text/plain": [
       "Dataset({\n",
       "    features: ['id', 'document_title', 'question', 'question_norm', 'question_stem', 'answer', 'mr_query_id', 'mr_docid', 'mr_negative_passages', 'passage_segments_180', 'positive_passage', 'negative_passages'],\n",
       "    num_rows: 5907\n",
       "})"
      ]
     },
     "execution_count": 64,
     "metadata": {},
     "output_type": "execute_result"
    }
   ],
   "source": [
    "tydiqa"
   ]
  },
  {
   "cell_type": "code",
   "execution_count": 65,
   "id": "a067765b",
   "metadata": {},
   "outputs": [
    {
     "name": "stderr",
     "output_type": "stream",
     "text": [
      "Filter: 100%|██████████| 5907/5907 [00:03<00:00, 1502.11 examples/s]\n",
      "Filter: 100%|██████████| 5907/5907 [00:02<00:00, 2028.76 examples/s]"
     ]
    },
    {
     "name": "stdout",
     "output_type": "stream",
     "text": [
      "Jumlah dengan negatives: 4284\n",
      "Jumlah tanpa negatives: 1623\n"
     ]
    },
    {
     "name": "stderr",
     "output_type": "stream",
     "text": [
      "\n"
     ]
    }
   ],
   "source": [
    "# dataset dengan kolom mr_negative_passages sudah terisi (bukan None/kosong)\n",
    "tydiqa_with_neg = tydiqa.filter(\n",
    "    lambda ex: ex[\"mr_negative_passages\"] is not None and len(ex[\"mr_negative_passages\"]) > 0\n",
    ")\n",
    "\n",
    "# dataset dengan kolom mr_negative_passages belum terisi (None/kosong)\n",
    "tydiqa_without_neg = tydiqa.filter(\n",
    "    lambda ex: ex[\"mr_negative_passages\"] is None or len(ex[\"mr_negative_passages\"]) == 0\n",
    ")\n",
    "\n",
    "print(\"Jumlah dengan negatives:\", len(tydiqa_with_neg))\n",
    "print(\"Jumlah tanpa negatives:\", len(tydiqa_without_neg))\n"
   ]
  },
  {
   "cell_type": "code",
   "execution_count": null,
   "id": "1d023975",
   "metadata": {},
   "outputs": [],
   "source": [
    "import re\n",
    "import torch\n",
    "import torch.nn.functional as F\n",
    "from transformers import AutoTokenizer, AutoModel\n",
    "\n",
    "model_name = \"intfloat/multilingual-e5-small\"\n",
    "device = torch.device(\"cuda:0\" if torch.cuda.is_available() else \"cpu\")\n",
    "embedding_tokenizer = AutoTokenizer.from_pretrained(model_name)\n",
    "embedding_model = AutoModel.from_pretrained(model_name).to(device).eval()\n",
    "\n",
    "def average_pool(last_hidden_states: torch.Tensor, attention_mask: torch.Tensor) -> torch.Tensor:\n",
    "    last_hidden = last_hidden_states.masked_fill(~attention_mask[..., None].bool(), 0.0)\n",
    "    return last_hidden.sum(dim=1) / attention_mask.sum(dim=1)[..., None]\n",
    "\n",
    "# ---------- Util normalisasi & filter ----------\n",
    "def strip_passage_prefix(s: str) -> str:\n",
    "    return re.sub(r\"^\\s*passage:\\s*\", \"\", s, flags=re.IGNORECASE)\n",
    "\n",
    "def normalize_cmp(s: str) -> str:\n",
    "    if s is None:\n",
    "        return \"\"\n",
    "    s = strip_passage_prefix(s)\n",
    "    s = re.sub(r\"\\s+\", \" \", s).strip().casefold()\n",
    "    return s\n",
    "\n",
    "def docid_prefix(docid: str) -> str:\n",
    "    # \"1#0_12\" -> \"1#0\"; jika tidak ada \"_\", kembalikan apa adanya\n",
    "    if not isinstance(docid, str):\n",
    "        return \"\"\n",
    "    return docid.split(\"_\", 1)[0]\n",
    "\n",
    "def choose_topk_filtered(ids_row, k, positive_text, forbid_prefix, return_with_docid: bool = False):\n",
    "    \"\"\"\n",
    "    Ambil top-k dari corpus dengan filter:\n",
    "      - buang kandidat yang identik (setelah normalisasi) dgn positive_text\n",
    "      - buang kandidat yang prefix docid-nya == forbid_prefix (mr_docid)\n",
    "\n",
    "    return_with_docid=True -> kembalikan list[{'text':..., 'docid':...}]\n",
    "    False (default)       -> kembalikan list[str] (teks saja)\n",
    "    \"\"\"\n",
    "    pos_norm = normalize_cmp(positive_text or \"\")\n",
    "    out = []\n",
    "    for idx in ids_row:\n",
    "        cand_docid = corpus_docids[idx]\n",
    "        if docid_prefix(cand_docid) == forbid_prefix:\n",
    "            continue\n",
    "\n",
    "        cand_text = corpus_texts[idx]\n",
    "        if pos_norm and normalize_cmp(cand_text) == pos_norm:\n",
    "            continue\n",
    "\n",
    "        if return_with_docid:\n",
    "            out.append({\"text\": cand_text, \"docid\": cand_docid})\n",
    "        else:\n",
    "            out.append(cand_text)\n",
    "\n",
    "        if len(out) == k:\n",
    "            break\n",
    "    return out\n",
    "\n",
    "# ---------- Batch retrieve untuk HF Dataset (tydiqa_with_neg) ----------\n",
    "TOPK = 3\n",
    "SEARCH_OVERFETCH = 20  # overfetch lebih besar karena ada filter tambahan\n",
    "BATCH_SIZE = 128\n",
    "amp_dtype = torch.bfloat16 if (device.type == \"cuda\" and torch.cuda.is_bf16_supported()) else torch.float16\n",
    "\n",
    "def retrieve_batch(batch):\n",
    "    \"\"\"\n",
    "    Ekspektasi kolom di tydiqa_with_neg:\n",
    "      - question_norm: string\n",
    "      - positive_passage: string (opsional)\n",
    "      - mr_docid: string, contoh \"1#0\"\n",
    "    Output (ditambahkan):\n",
    "      - retrieved_top3: list[list[str]]\n",
    "      - retrieved_top3_with_docid: list[list[{'text': str, 'docid': str}]]\n",
    "    \"\"\"\n",
    "    questions = batch[\"question_norm\"]\n",
    "    positives = batch.get(\"positive_passage\", [\"\"] * len(questions))\n",
    "    mr_ids    = batch[\"mr_docid\"]\n",
    "\n",
    "    # Prefix E5\n",
    "    texts = [f\"query: {q}\" for q in questions]\n",
    "    tok = embedding_tokenizer(\n",
    "        texts,\n",
    "        max_length=512,\n",
    "        padding=True,\n",
    "        truncation=True,\n",
    "        pad_to_multiple_of=8,\n",
    "        return_tensors=\"pt\",\n",
    "    )\n",
    "    tok = {k: v.to(device, non_blocking=True) for k, v in tok.items()}\n",
    "\n",
    "    with torch.inference_mode(), (\n",
    "        torch.autocast(device_type=device.type, dtype=amp_dtype) if device.type == \"cuda\" else torch.cuda.amp.autocast(enabled=False)\n",
    "    ):\n",
    "        out = embedding_model(**tok)\n",
    "        q_emb = average_pool(out.last_hidden_state, tok[\"attention_mask\"])\n",
    "        q_emb = F.normalize(q_emb, p=2, dim=1).float().cpu().numpy()\n",
    "\n",
    "    # FAISS search\n",
    "    D, I = index.search(q_emb, TOPK + SEARCH_OVERFETCH)\n",
    "\n",
    "    # Build dua kolom sekaligus\n",
    "    retrieved_with_doc = []\n",
    "    retrieved_texts    = []\n",
    "    for row_ids, pos_text, mr in zip(I, positives, mr_ids):\n",
    "        items = choose_topk_filtered(row_ids, TOPK, pos_text, forbid_prefix=mr, return_with_docid=True)\n",
    "        retrieved_with_doc.append(items)\n",
    "        retrieved_texts.append([it[\"text\"] for it in items])\n",
    "\n",
    "    batch[\"retrieved_top3_with_docid\"] = retrieved_with_doc\n",
    "    batch[\"retrieved_top3\"] = retrieved_texts\n",
    "    return batch"
   ]
  },
  {
   "cell_type": "code",
   "execution_count": 174,
   "id": "2683e5ef",
   "metadata": {},
   "outputs": [],
   "source": [
    "def add_pos_with_title(batch):\n",
    "    titles = batch[\"document_title\"]\n",
    "    positives = batch[\"positive_passage\"]\n",
    "    out = []\n",
    "    for t, p in zip(titles, positives):\n",
    "        if p is None or not str(p).strip():\n",
    "            out.append(p)  # biarkan kosong kalau memang kosong\n",
    "        else:\n",
    "            title = (t or \"\").strip()\n",
    "            if title:\n",
    "                out.append(f\"{title} | {p.strip()}\")\n",
    "            else:\n",
    "                out.append(p.strip())\n",
    "    batch[\"positive_passage_with_title\"] = out\n",
    "    return batch\n"
   ]
  },
  {
   "cell_type": "markdown",
   "id": "44aa8af4",
   "metadata": {},
   "source": [
    "### Khusus baris yang `mr_negative_passages` masih kosong (split dev & test)"
   ]
  },
  {
   "cell_type": "code",
   "execution_count": 77,
   "id": "7040bd03",
   "metadata": {},
   "outputs": [
    {
     "name": "stdout",
     "output_type": "stream",
     "text": [
      "Total baris: 1623\n",
      "Baris mr_docid kosong: 105\n",
      "Persentase: 6.47%\n"
     ]
    }
   ],
   "source": [
    "# hitung total baris\n",
    "n_total = len(tydiqa_without_neg)\n",
    "\n",
    "# cek yang kosong (None atau string kosong setelah strip)\n",
    "n_empty = sum(\n",
    "    1 for x in tydiqa_without_neg[\"mr_docid\"]\n",
    "    if x is None or str(x).strip() == \"\"\n",
    ")\n",
    "\n",
    "persentase = (n_empty / n_total) * 100 if n_total > 0 else 0.0\n",
    "\n",
    "print(f\"Total baris: {n_total}\")\n",
    "print(f\"Baris mr_docid kosong: {n_empty}\")\n",
    "print(f\"Persentase: {persentase:.2f}%\")"
   ]
  },
  {
   "cell_type": "code",
   "execution_count": 84,
   "id": "c64bc41e",
   "metadata": {},
   "outputs": [],
   "source": [
    "tydiqa_without_neg= tydiqa_without_neg.filter(lambda ex: ex[\"mr_docid\"] is not None and str(ex[\"mr_docid\"]).strip() != \"\")"
   ]
  },
  {
   "cell_type": "code",
   "execution_count": 90,
   "id": "aa8d6369",
   "metadata": {},
   "outputs": [
    {
     "name": "stderr",
     "output_type": "stream",
     "text": [
      "Retrieving top-3 (with docids): 100%|██████████| 1518/1518 [04:59<00:00,  5.06 examples/s]\n"
     ]
    }
   ],
   "source": [
    "# contoh pemakaian:\n",
    "tydiqa_without_neg = tydiqa_without_neg.map(\n",
    "    retrieve_batch,\n",
    "    batched=True,\n",
    "    batch_size=BATCH_SIZE,\n",
    "    load_from_cache_file=False,\n",
    "    desc=\"Retrieving top-3 (with docids)\"\n",
    ")"
   ]
  },
  {
   "cell_type": "code",
   "execution_count": 99,
   "id": "1db55ad4",
   "metadata": {},
   "outputs": [
    {
     "name": "stderr",
     "output_type": "stream",
     "text": [
      "Map: 100%|██████████| 1518/1518 [00:00<00:00, 17222.27 examples/s]\n"
     ]
    }
   ],
   "source": [
    "tydiqa_without_neg = tydiqa_without_neg.map(remove_passage_prefix, batched=True)"
   ]
  },
  {
   "cell_type": "code",
   "execution_count": 130,
   "id": "1316de6d",
   "metadata": {},
   "outputs": [
    {
     "name": "stderr",
     "output_type": "stream",
     "text": [
      "Build top3 (include & maybe) for tydiqa_without_neg: 100%|██████████| 1518/1518 [00:59<00:00, 25.41 examples/s]\n"
     ]
    }
   ],
   "source": [
    "import re\n",
    "import torch\n",
    "import torch.nn.functional as F\n",
    "from transformers import AutoTokenizer, AutoModel\n",
    "\n",
    "amp_dtype = torch.bfloat16 if (device.type == \"cuda\" and torch.cuda.is_bf16_supported()) else torch.float16\n",
    "\n",
    "# ====== utils ======\n",
    "def strip_prefixes(s: str) -> str:\n",
    "    # buang \"query:\" / \"passage:\" jika sudah ada\n",
    "    return re.sub(r\"^\\s*(?:query|passage)\\s*:\\s*\", \"\", s or \"\", flags=re.IGNORECASE)\n",
    "\n",
    "def to_e5_query(s: str) -> str:\n",
    "    return \"query: \" + strip_prefixes(s)\n",
    "\n",
    "def to_e5_passage(s: str) -> str:\n",
    "    return \"passage: \" + strip_prefixes(s)\n",
    "\n",
    "def normalize_cmp(s: str) -> str:\n",
    "    # untuk deduplikasi\n",
    "    s = strip_prefixes(s or \"\")\n",
    "    s = re.sub(r\"\\s+\", \" \", s).strip().casefold()\n",
    "    return s\n",
    "\n",
    "def prepend_title(title: str, text: str) -> str:\n",
    "    if not isinstance(text, str) or not text.strip():\n",
    "        return text\n",
    "    title = (title or \"\").strip()\n",
    "    if not title:\n",
    "        return text.strip()\n",
    "    # jika sudah diawali title (longgar), jangan gandakan\n",
    "    t_clean = text.strip()\n",
    "    if t_clean.lower().startswith(title.lower()):\n",
    "        return t_clean\n",
    "    return f\"{title} | {t_clean}\"\n",
    "\n",
    "def _as_text_list(maybe_list):\n",
    "    \"\"\"retrieved_top3 bisa list[str] atau list[dict{'text':...}]; kembalikan list[str].\"\"\"\n",
    "    out = []\n",
    "    if not isinstance(maybe_list, list):\n",
    "        return out\n",
    "    for x in maybe_list:\n",
    "        if isinstance(x, dict):\n",
    "            t = x.get(\"text\", \"\")\n",
    "        else:\n",
    "            t = x\n",
    "        if isinstance(t, str) and t.strip():\n",
    "            out.append(t)\n",
    "    return out\n",
    "\n",
    "def _collect_candidates_with_title(title, positive_passage, negative_passages, retrieved_top3):\n",
    "    \"\"\"\n",
    "    Kembalikan: list[(text, is_positive)] setelah:\n",
    "      - title dipasang ke positive & negatives\n",
    "      - retrieved_top3 dipakai langsung (sudah punya title)\n",
    "      - deduplicate (normalize_cmp)\n",
    "    \"\"\"\n",
    "    seen = set()\n",
    "    cands = []\n",
    "\n",
    "    def add(text, is_pos):\n",
    "        if not isinstance(text, str) or not text.strip():\n",
    "            return\n",
    "        key = normalize_cmp(text)\n",
    "        if key in seen:\n",
    "            return\n",
    "        seen.add(key)\n",
    "        cands.append((text, is_pos))\n",
    "\n",
    "    # positive + title\n",
    "    add(prepend_title(title, positive_passage), True)\n",
    "\n",
    "    # negatives + title\n",
    "    if isinstance(negative_passages, list):\n",
    "        for t in negative_passages:\n",
    "            add(prepend_title(title, t), False)\n",
    "\n",
    "    # retrieved (sudah berjudul)\n",
    "    for t in _as_text_list(retrieved_top3):\n",
    "        add(t, False)\n",
    "\n",
    "    return cands\n",
    "\n",
    "# ====== core: re-rank & build two cols ======\n",
    "def build_top3_for_tydiqa_without_neg(batch):\n",
    "    \"\"\"\n",
    "    Ekspektasi kolom:\n",
    "      - question_norm: str\n",
    "      - document_title: str\n",
    "      - positive_passage: str\n",
    "      - negative_passages: list[str]\n",
    "      - retrieved_top3: list[str] atau list[dict{'text':...}] (sudah berjudul)\n",
    "    Output:\n",
    "      - top3_psgs_include_positive: list[dict{text, score, is_positive}]\n",
    "      - top3_psgs_may_not_include_positive: list[dict{text, score, is_positive}]\n",
    "    \"\"\"\n",
    "    questions = batch[\"question_norm\"]\n",
    "    titles    = batch[\"document_title\"]\n",
    "    positives = batch.get(\"positive_passage\", [\"\"] * len(questions))\n",
    "    negatives = batch.get(\"negative_passages\", [[] for _ in range(len(questions))])\n",
    "    retrieved = batch.get(\"retrieved_top3\", [[] for _ in range(len(questions))])\n",
    "\n",
    "    out_inc_pos = []\n",
    "    out_maybe_pos = []\n",
    "\n",
    "    for q, title, pos, negs, rets in zip(questions, titles, positives, negatives, retrieved):\n",
    "        # 1) kumpulkan kandidat (dengan title untuk pos & negs)\n",
    "        cands = _collect_candidates_with_title(title, pos, negs, rets)  # list[(text, is_positive)]\n",
    "        if not cands:\n",
    "            out_inc_pos.append([])\n",
    "            out_maybe_pos.append([])\n",
    "            continue\n",
    "\n",
    "        cand_texts = [t for (t, _) in cands]\n",
    "        cand_flags = [is_pos for (_, is_pos) in cands]\n",
    "\n",
    "        # 2) buat input E5\n",
    "        q_text  = to_e5_query(q)\n",
    "        p_texts = [to_e5_passage(t) for t in cand_texts]\n",
    "\n",
    "        # 3) embed & score\n",
    "        tok_q = embedding_tokenizer(q_text, max_length=512, padding=True, truncation=True, return_tensors=\"pt\")\n",
    "        tok_p = embedding_tokenizer(p_texts, max_length=512, padding=True, truncation=True, return_tensors=\"pt\")\n",
    "\n",
    "        tok_q = {k: v.to(device, non_blocking=True) for k, v in tok_q.items()}\n",
    "        tok_p = {k: v.to(device, non_blocking=True) for k, v in tok_p.items()}\n",
    "\n",
    "        with torch.inference_mode(), (\n",
    "            torch.autocast(device_type=device.type, dtype=amp_dtype) if device.type == \"cuda\" else torch.cuda.amp.autocast(enabled=False)\n",
    "        ):\n",
    "            out_q = embedding_model(**tok_q)\n",
    "            out_p = embedding_model(**tok_p)\n",
    "\n",
    "            q_emb = average_pool(out_q.last_hidden_state, tok_q[\"attention_mask\"])\n",
    "            p_emb = average_pool(out_p.last_hidden_state, tok_p[\"attention_mask\"])\n",
    "\n",
    "            q_emb = F.normalize(q_emb, p=2, dim=1)        # [1, d]\n",
    "            p_emb = F.normalize(p_emb, p=2, dim=1)        # [N, d]\n",
    "\n",
    "            scores = (q_emb @ p_emb.T).squeeze(0)         # [N]\n",
    "            scores = (scores * 100.0).float().cpu().numpy().tolist()\n",
    "\n",
    "        # 4) ranking desc\n",
    "        order = sorted(range(len(cands)), key=lambda i: scores[i], reverse=True)\n",
    "        ranked = [{\"text\": cand_texts[i], \"score\": float(scores[i]), \"is_positive\": bool(cand_flags[i])} for i in order]\n",
    "\n",
    "        # 5a) top3 bebas (boleh/tidak mengandung positive)\n",
    "        top3_any = ranked[:3]\n",
    "        out_maybe_pos.append(top3_any)\n",
    "\n",
    "        # 5b) top3 harus menyertakan positive (jika ada)\n",
    "        pos_indices = [i for i, r in enumerate(ranked) if r[\"is_positive\"]]\n",
    "        if pos_indices:\n",
    "            pos_item = ranked[pos_indices[0]]           # ambil positive skor tertinggi\n",
    "            fillers = [r for r in ranked if not r[\"is_positive\"]]\n",
    "            top_inc = [pos_item] + fillers[:2]\n",
    "            out_inc_pos.append(top_inc[:3])\n",
    "        else:\n",
    "            # kalau tidak ada positive sama sekali (kosong), fallback = top3_any\n",
    "            out_inc_pos.append(top3_any)\n",
    "\n",
    "    batch[\"top3_psgs_include_positive\"] = out_inc_pos\n",
    "    batch[\"top3_psgs_may_not_include_positive\"] = out_maybe_pos\n",
    "    return batch\n",
    "\n",
    "# ====== apply ke dataset HF ======\n",
    "tydiqa_without_neg = tydiqa_without_neg.map(\n",
    "    build_top3_for_tydiqa_without_neg,\n",
    "    batched=True,\n",
    "    batch_size=64,\n",
    "    load_from_cache_file=False,\n",
    "    desc=\"Build top3 (include & maybe) for tydiqa_without_neg\"\n",
    ")"
   ]
  },
  {
   "cell_type": "code",
   "execution_count": null,
   "id": "e94e9ab0",
   "metadata": {},
   "outputs": [
    {
     "name": "stdout",
     "output_type": "stream",
     "text": [
      "Total baris: 1518\n",
      "Baris yang memiliki is_positive di TOP-3: 1287 (84.78%)\n",
      "Distribusi posisi (di antara baris yang memiliki positif):\n",
      "  Index 0 (skor tertinggi): 1045 (81.20%)\n",
      "  Index 1:                  167 (12.98%)\n",
      "  Index 2:                  75 (5.83%)\n"
     ]
    }
   ],
   "source": [
    "# Ambil kolom\n",
    "rows = tydiqa_without_neg[\"top3_psgs_may_not_include_positive\"]\n",
    "\n",
    "total = len(rows)\n",
    "with_pos = 0\n",
    "none_pos = 0\n",
    "\n",
    "# hitung posisi (di antara baris yang punya positif)\n",
    "pos_counts = {0: 0, 1: 0, 2: 0}\n",
    "\n",
    "for items in rows:\n",
    "    # Pastikan list valid\n",
    "    if not isinstance(items, list) or len(items) == 0:\n",
    "        none_pos += 1\n",
    "        continue\n",
    "\n",
    "    # Cari indeks item dengan is_positive=True\n",
    "    pos_idxs = [i for i, it in enumerate(items) if isinstance(it, dict) and it.get(\"is_positive\", False) is True]\n",
    "\n",
    "    if not pos_idxs:\n",
    "        none_pos += 1\n",
    "        continue\n",
    "\n",
    "    with_pos += 1\n",
    "    top_idx = min(pos_idxs)  # pilih yang ranking tertinggi\n",
    "    if top_idx in pos_counts:\n",
    "        pos_counts[top_idx] += 1\n",
    "    # jika list kurang dari 3 elemen tapi ada positif di idx 0/1, tetap terhitung\n",
    "\n",
    "# --- Hasil & persentase ---\n",
    "pct_any = (with_pos / total * 100.0) if total else 0.0\n",
    "pct_top0 = (pos_counts[0] / with_pos * 100.0) if with_pos else 0.0\n",
    "pct_top1 = (pos_counts[1] / with_pos * 100.0) if with_pos else 0.0\n",
    "pct_top2 = (pos_counts[2] / with_pos * 100.0) if with_pos else 0.0\n",
    "\n",
    "print(f\"Total baris: {total}\")\n",
    "print(f\"Baris yang memiliki is_positive di TOP-3: {with_pos} ({pct_any:.2f}%)\")\n",
    "print(\"Distribusi posisi (di antara baris yang memiliki positif):\")\n",
    "print(f\"  Index 0 (skor tertinggi): {pos_counts[0]} ({pct_top0:.2f}%)\")\n",
    "print(f\"  Index 1:                  {pos_counts[1]} ({pct_top1:.2f}%)\")\n",
    "print(f\"  Index 2:                  {pos_counts[2]} ({pct_top2:.2f}%)\")"
   ]
  },
  {
   "cell_type": "code",
   "execution_count": 166,
   "id": "cd509a00",
   "metadata": {},
   "outputs": [
    {
     "name": "stderr",
     "output_type": "stream",
     "text": [
      "Map: 100%|██████████| 1518/1518 [00:00<00:00, 6676.68 examples/s]\n"
     ]
    }
   ],
   "source": [
    "tydiqa_without_neg = tydiqa_without_neg.map(_sort_top3_by_score_batch, batched=True, load_from_cache_file=False)"
   ]
  },
  {
   "cell_type": "code",
   "execution_count": null,
   "id": "45c2f400",
   "metadata": {},
   "outputs": [
    {
     "data": {
      "text/plain": [
       "Dataset({\n",
       "    features: ['id', 'question', 'question_norm', 'question_stem', 'answer', 'retrieved_top3', 'top3_psgs_include_positive', 'top3_psgs_may_not_include_positive', 'positive_passage'],\n",
       "    num_rows: 1518\n",
       "})"
      ]
     },
     "execution_count": 177,
     "metadata": {},
     "output_type": "execute_result"
    }
   ],
   "source": [
    "tydiqa_wo_neg_columns_dropped = tydiqa_without_neg.remove_columns([\n",
    "    'mr_query_id', \n",
    "    'mr_docid', \n",
    "    'mr_negative_passages', \n",
    "    'passage_segments_180', \n",
    "    'negative_passages', \n",
    "    'retrieved_top3_with_docid'\n",
    "])\n",
    "\n",
    "# Terapkan ke tydiqa_without_neg\n",
    "tydiqa_wo_neg_columns_dropped = tydiqa_wo_neg_columns_dropped.map(\n",
    "    add_pos_with_title,\n",
    "    batched=True,\n",
    "    load_from_cache_file=False,\n",
    "    desc=\"Tambah kolom positive_passage_with_title ke tydiqa_without_neg\"\n",
    ")\n",
    "tydiqa_wo_neg_columns_dropped\n",
    "\n",
    "tydiqa_wo_neg_columns_dropped = tydiqa_wo_neg_columns_dropped.remove_columns(['document_title', 'positive_passage'])\n",
    "tydiqa_wo_neg_columns_dropped = tydiqa_wo_neg_columns_dropped.rename_column('positive_passage_with_title', 'positive_passage')\n",
    "tydiqa_wo_neg_columns_dropped"
   ]
  },
  {
   "cell_type": "markdown",
   "id": "93dd0149",
   "metadata": {},
   "source": [
    "### Khusus baris yang `mr_negative_passages sudah berisi` (split train)"
   ]
  },
  {
   "cell_type": "code",
   "execution_count": 75,
   "id": "0360d9f7",
   "metadata": {},
   "outputs": [
    {
     "name": "stdout",
     "output_type": "stream",
     "text": [
      "Total baris: 4284\n",
      "Baris mr_docid kosong: 267\n",
      "Persentase: 6.23%\n"
     ]
    }
   ],
   "source": [
    "# Contoh pemakaian:\n",
    "tydiqa_with_neg = tydiqa_with_neg.map(\n",
    "    retrieve_batch,\n",
    "    batched=True,\n",
    "    batch_size=BATCH_SIZE,\n",
    "    load_from_cache_file=False,\n",
    "    desc=\"Retrieving top-3 (prefix-filtered)\"\n",
    ")\n",
    "\n",
    "# hitung total baris\n",
    "n_total = len(tydiqa_with_neg)\n",
    "\n",
    "# cek yang kosong (None atau string kosong setelah strip)\n",
    "n_empty = sum(\n",
    "    1 for x in tydiqa_with_neg[\"mr_docid\"]\n",
    "    if x is None or str(x).strip() == \"\"\n",
    ")\n",
    "\n",
    "persentase = (n_empty / n_total) * 100 if n_total > 0 else 0.0\n",
    "\n",
    "print(f\"Total baris: {n_total}\")\n",
    "print(f\"Baris mr_docid kosong: {n_empty}\")\n",
    "print(f\"Persentase: {persentase:.2f}%\")"
   ]
  },
  {
   "cell_type": "code",
   "execution_count": 142,
   "id": "0c42ef5d",
   "metadata": {},
   "outputs": [
    {
     "name": "stderr",
     "output_type": "stream",
     "text": [
      "Build top3 (include & maybe) for tydiqa_with_neg: 100%|██████████| 4284/4284 [07:03<00:00, 10.11 examples/s]\n"
     ]
    }
   ],
   "source": [
    "import re\n",
    "import torch\n",
    "import torch.nn.functional as F\n",
    "from transformers import AutoTokenizer, AutoModel\n",
    "\n",
    "# ====== utils ======\n",
    "\n",
    "def prepend_title(title: str, text: str) -> str:\n",
    "    \"\"\"Tambahkan 'title | text' secara aman (hindari duplikasi jika sudah diawali title yang sama).\"\"\"\n",
    "    if not isinstance(text, str) or not text.strip():\n",
    "        return text\n",
    "    title = (title or \"\").strip()\n",
    "    t_clean = text.strip()\n",
    "    if not title:\n",
    "        return t_clean\n",
    "    # jika sudah diawali title (longgar), jangan gandakan\n",
    "    if t_clean.lower().startswith(title.lower()):\n",
    "        return t_clean\n",
    "    return f\"{title} | {t_clean}\"\n",
    "\n",
    "def mr_neg_to_texts(mr_list):\n",
    "    \"\"\"mr_negative_passages: list[dict{'title':..., 'text':...}] -> list[str] 'title | text' (skip jika kosong).\"\"\"\n",
    "    out = []\n",
    "    if not isinstance(mr_list, list):\n",
    "        return out\n",
    "    for item in mr_list:\n",
    "        if not isinstance(item, dict):\n",
    "            continue\n",
    "        title = item.get(\"title\", \"\") or \"\"\n",
    "        text  = item.get(\"text\", \"\") or \"\"\n",
    "        merged = prepend_title(title, text)\n",
    "        if isinstance(merged, str) and merged.strip():\n",
    "            out.append(merged)\n",
    "    return out\n",
    "\n",
    "def collect_candidates_for_with_neg(document_title, positive_passage, negative_passages, mr_negative_passages):\n",
    "    \"\"\"\n",
    "    Kembalikan list[(text, is_positive)]:\n",
    "      - positive_passage & negative_passages diasumsikan sudah diawali title; guard untuk hindari dobel\n",
    "      - mr_negative_passages disusun 'title | text'\n",
    "      - deduplicate by normalize_cmp\n",
    "    \"\"\"\n",
    "    seen = set()\n",
    "    cands = []\n",
    "\n",
    "    def add(text, is_pos):\n",
    "        if not isinstance(text, str) or not text.strip():\n",
    "            return\n",
    "        key = normalize_cmp(text)\n",
    "        if key in seen:\n",
    "            return\n",
    "        seen.add(key)\n",
    "        cands.append((text, is_pos))\n",
    "\n",
    "    # positive (guard prepend kalau belum)\n",
    "    add(prepend_title(document_title, positive_passage), True)\n",
    "\n",
    "    # negatives (guard prepend kalau belum)\n",
    "    if isinstance(negative_passages, list):\n",
    "        for t in negative_passages:\n",
    "            add(prepend_title(document_title, t), False)\n",
    "\n",
    "    # mr_negative_passages -> 'title | text'\n",
    "    for t in mr_neg_to_texts(mr_negative_passages):\n",
    "        add(t, False)\n",
    "\n",
    "    return cands\n",
    "\n",
    "# ====== core: re-rank & build two cols ======\n",
    "def build_top3_for_tydiqa_with_neg(batch):\n",
    "    \"\"\"\n",
    "    Ekspektasi kolom pada tydiqa_with_neg:\n",
    "      - question_norm: str\n",
    "      - document_title: str\n",
    "      - positive_passage: str         (sudah diawali title, tapi kita guard)\n",
    "      - negative_passages: list[str]  (sudah diawali title, tapi kita guard)\n",
    "      - mr_negative_passages: list[dict{'title','text',...}]\n",
    "    Output:\n",
    "      - top3_psgs_include_positive: list[dict{text, score, is_positive}]\n",
    "      - top3_psgs_may_not_include_positive: list[dict{text, score, is_positive}]\n",
    "    \"\"\"\n",
    "    questions = batch[\"question_norm\"]\n",
    "    titles    = batch[\"document_title\"]\n",
    "    positives = batch.get(\"positive_passage\", [\"\"] * len(questions))\n",
    "    negatives = batch.get(\"negative_passages\", [[] for _ in range(len(questions))])\n",
    "    mr_negs   = batch.get(\"mr_negative_passages\", [[] for _ in range(len(questions))])\n",
    "\n",
    "    out_inc_pos = []\n",
    "    out_maybe_pos = []\n",
    "\n",
    "    for q, title, pos, negs, mr_list in zip(questions, titles, positives, negatives, mr_negs):\n",
    "        # 1) kumpulkan kandidat\n",
    "        cands = collect_candidates_for_with_neg(title, pos, negs, mr_list)  # list[(text, is_positive)]\n",
    "        if not cands:\n",
    "            out_inc_pos.append([])\n",
    "            out_maybe_pos.append([])\n",
    "            continue\n",
    "\n",
    "        cand_texts = [t for (t, _) in cands]\n",
    "        cand_flags = [is_pos for (_, is_pos) in cands]\n",
    "\n",
    "        # 2) buat input E5\n",
    "        q_text  = to_e5_query(q)\n",
    "        p_texts = [to_e5_passage(t) for t in cand_texts]\n",
    "\n",
    "        # 3) embed & score\n",
    "        tok_q = embedding_tokenizer(q_text, max_length=512, padding=True, truncation=True, return_tensors=\"pt\")\n",
    "        tok_p = embedding_tokenizer(p_texts, max_length=512, padding=True, truncation=True, return_tensors=\"pt\")\n",
    "\n",
    "        tok_q = {k: v.to(device, non_blocking=True) for k, v in tok_q.items()}\n",
    "        tok_p = {k: v.to(device, non_blocking=True) for k, v in tok_p.items()}\n",
    "\n",
    "        with torch.inference_mode(), (\n",
    "            torch.autocast(device_type=device.type, dtype=amp_dtype) if device.type == \"cuda\" else torch.cuda.amp.autocast(enabled=False)\n",
    "        ):\n",
    "            out_q = embedding_model(**tok_q)\n",
    "            out_p = embedding_model(**tok_p)\n",
    "\n",
    "            q_emb = average_pool(out_q.last_hidden_state, tok_q[\"attention_mask\"])\n",
    "            p_emb = average_pool(out_p.last_hidden_state, tok_p[\"attention_mask\"])\n",
    "\n",
    "            q_emb = F.normalize(q_emb, p=2, dim=1)        # [1, d]\n",
    "            p_emb = F.normalize(p_emb, p=2, dim=1)        # [N, d]\n",
    "\n",
    "            scores = (q_emb @ p_emb.T).squeeze(0)         # [N]\n",
    "            scores = (scores * 100.0).float().cpu().numpy().tolist()\n",
    "\n",
    "        # 4) ranking desc\n",
    "        order = sorted(range(len(cands)), key=lambda i: scores[i], reverse=True)\n",
    "        ranked = [{\"text\": cand_texts[i], \"score\": float(scores[i]), \"is_positive\": bool(cand_flags[i])} for i in order]\n",
    "\n",
    "        # 5a) top3 bebas (boleh/tidak mengandung positive)\n",
    "        top3_any = ranked[:3]\n",
    "        out_maybe_pos.append(top3_any)\n",
    "\n",
    "        # 5b) top3 harus menyertakan positive (jika ada)\n",
    "        pos_indices = [i for i, r in enumerate(ranked) if r[\"is_positive\"]]\n",
    "        if pos_indices:\n",
    "            pos_item = ranked[pos_indices[0]]           # ambil positive skor tertinggi\n",
    "            fillers = [r for r in ranked if not r[\"is_positive\"]]\n",
    "            top_inc = [pos_item] + fillers[:2]\n",
    "            out_inc_pos.append(top_inc[:3])\n",
    "        else:\n",
    "            # kalau tidak ada positive sama sekali (kosong), fallback = top3_any\n",
    "            out_inc_pos.append(top3_any)\n",
    "\n",
    "    batch[\"top3_psgs_include_positive\"] = out_inc_pos\n",
    "    batch[\"top3_psgs_may_not_include_positive\"] = out_maybe_pos\n",
    "    return batch\n",
    "\n",
    "# ====== apply ke dataset HF ======\n",
    "tydiqa_with_neg = tydiqa_with_neg.map(\n",
    "    build_top3_for_tydiqa_with_neg,\n",
    "    batched=True,\n",
    "    batch_size=64,\n",
    "    load_from_cache_file=False,\n",
    "    desc=\"Build top3 (include & maybe) for tydiqa_with_neg\"\n",
    ")\n"
   ]
  },
  {
   "cell_type": "code",
   "execution_count": 179,
   "id": "8d3a9921",
   "metadata": {},
   "outputs": [
    {
     "name": "stderr",
     "output_type": "stream",
     "text": [
      "Map: 100%|██████████| 4284/4284 [00:00<00:00, 9285.59 examples/s] \n"
     ]
    }
   ],
   "source": [
    "tydiqa_with_neg = tydiqa_with_neg.map(_sort_top3_by_score_batch, batched=True, load_from_cache_file=False)"
   ]
  },
  {
   "cell_type": "code",
   "execution_count": 182,
   "id": "a4735c1b",
   "metadata": {},
   "outputs": [
    {
     "name": "stderr",
     "output_type": "stream",
     "text": [
      "Tambah kolom positive_passage_with_title ke tydiqa_with_neg: 100%|██████████| 4284/4284 [00:00<00:00, 19139.02 examples/s]\n"
     ]
    }
   ],
   "source": [
    "# Terapkan ke tydiqa_with_neg\n",
    "tydiqa_with_neg = tydiqa_with_neg.map(\n",
    "    add_pos_with_title,\n",
    "    batched=True,\n",
    "    load_from_cache_file=False,\n",
    "    desc=\"Tambah kolom positive_passage_with_title ke tydiqa_with_neg\"\n",
    ")"
   ]
  },
  {
   "cell_type": "code",
   "execution_count": 184,
   "id": "89e61283",
   "metadata": {},
   "outputs": [
    {
     "data": {
      "text/plain": [
       "Dataset({\n",
       "    features: ['id', 'document_title', 'question', 'question_norm', 'question_stem', 'answer', 'mr_query_id', 'mr_docid', 'mr_negative_passages', 'passage_segments_180', 'positive_passage', 'negative_passages', 'retrieved_top3', 'top3_psgs_include_positive', 'top3_psgs_may_not_include_positive', 'positive_passage_with_title'],\n",
       "    num_rows: 4284\n",
       "})"
      ]
     },
     "execution_count": 184,
     "metadata": {},
     "output_type": "execute_result"
    }
   ],
   "source": [
    "tydiqa_with_neg"
   ]
  },
  {
   "cell_type": "code",
   "execution_count": 186,
   "id": "c90f05ef",
   "metadata": {},
   "outputs": [
    {
     "data": {
      "text/plain": [
       "Dataset({\n",
       "    features: ['id', 'question', 'question_norm', 'question_stem', 'answer', 'retrieved_top3', 'top3_psgs_include_positive', 'top3_psgs_may_not_include_positive', 'positive_passage'],\n",
       "    num_rows: 4284\n",
       "})"
      ]
     },
     "execution_count": 186,
     "metadata": {},
     "output_type": "execute_result"
    }
   ],
   "source": [
    "tydiqa_w_neg_columns_dropped = tydiqa_with_neg.remove_columns([\n",
    "    'document_title', \n",
    "    'positive_passage',\n",
    "    'mr_query_id', \n",
    "    'mr_docid', \n",
    "    'mr_negative_passages', \n",
    "    'passage_segments_180', \n",
    "    'negative_passages'\n",
    "])\n",
    "tydiqa_w_neg_columns_dropped = tydiqa_w_neg_columns_dropped.rename_column('positive_passage_with_title', 'positive_passage')\n",
    "tydiqa_w_neg_columns_dropped"
   ]
  },
  {
   "cell_type": "code",
   "execution_count": 188,
   "id": "69d48a83",
   "metadata": {},
   "outputs": [
    {
     "data": {
      "text/plain": [
       "Dataset({\n",
       "    features: ['id', 'question', 'question_norm', 'question_stem', 'answer', 'retrieved_top3', 'top3_psgs_include_positive', 'top3_psgs_may_not_include_positive', 'positive_passage'],\n",
       "    num_rows: 4284\n",
       "})"
      ]
     },
     "execution_count": 188,
     "metadata": {},
     "output_type": "execute_result"
    }
   ],
   "source": [
    "tydiqa_w_neg_columns_dropped"
   ]
  },
  {
   "cell_type": "code",
   "execution_count": 192,
   "id": "7f74bd40",
   "metadata": {},
   "outputs": [
    {
     "name": "stdout",
     "output_type": "stream",
     "text": [
      "Dataset({\n",
      "    features: ['id', 'question', 'question_norm', 'question_stem', 'answer', 'retrieved_top3', 'top3_psgs_include_positive', 'top3_psgs_may_not_include_positive', 'positive_passage'],\n",
      "    num_rows: 5802\n",
      "})\n"
     ]
    }
   ],
   "source": [
    "from datasets import concatenate_datasets\n",
    "\n",
    "# gabungkan\n",
    "tydiqa_combined = concatenate_datasets([tydiqa_wo_neg_columns_dropped,\n",
    "                                        tydiqa_w_neg_columns_dropped])\n",
    "\n",
    "print(tydiqa_combined)"
   ]
  },
  {
   "cell_type": "code",
   "execution_count": 193,
   "id": "1ceda5f8",
   "metadata": {},
   "outputs": [
    {
     "name": "stderr",
     "output_type": "stream",
     "text": [
      "Saving the dataset (1/1 shards): 100%|██████████| 5802/5802 [00:00<00:00, 89534.37 examples/s]\n"
     ]
    }
   ],
   "source": [
    "tydiqa_combined.save_to_disk('./generated_data/tydiqa_finish')"
   ]
  },
  {
   "cell_type": "markdown",
   "id": "fad1a956",
   "metadata": {},
   "source": [
    "# Gabungkan ketiganya"
   ]
  },
  {
   "cell_type": "code",
   "execution_count": 195,
   "id": "d4072d92",
   "metadata": {},
   "outputs": [
    {
     "name": "stderr",
     "output_type": "stream",
     "text": [
      "Map: 100%|██████████| 3108/3108 [00:00<00:00, 43154.50 examples/s]\n",
      "Casting the dataset: 100%|██████████| 3108/3108 [00:00<00:00, 57338.70 examples/s]\n",
      "Map: 100%|██████████| 4244/4244 [00:00<00:00, 46642.09 examples/s]\n",
      "Casting the dataset: 100%|██████████| 4244/4244 [00:00<00:00, 74665.80 examples/s]\n",
      "Map: 100%|██████████| 5802/5802 [00:00<00:00, 51849.60 examples/s]\n",
      "Casting the dataset: 100%|██████████| 5802/5802 [00:00<00:00, 95814.13 examples/s]"
     ]
    },
    {
     "name": "stdout",
     "output_type": "stream",
     "text": [
      "Dataset({\n",
      "    features: ['id', 'question', 'answer', 'positive_passage', 'question_norm', 'question_stem', 'retrieved_top3', 'top3_psgs_include_positive', 'top3_psgs_may_not_include_positive'],\n",
      "    num_rows: 13154\n",
      "})\n"
     ]
    },
    {
     "name": "stderr",
     "output_type": "stream",
     "text": [
      "\n"
     ]
    }
   ],
   "source": [
    "from datasets import Sequence, Value\n",
    "\n",
    "def ensure_answer_is_list(ds, col=\"answer\"):\n",
    "    # Skip kalau kolom tidak ada\n",
    "    if col not in ds.column_names:\n",
    "        return ds\n",
    "    \n",
    "    # Ubah nilai ke list[str]\n",
    "    def _to_list(batch):\n",
    "        out = []\n",
    "        for v in batch[col]:\n",
    "            if v is None:\n",
    "                out.append([])\n",
    "            elif isinstance(v, (list, tuple)):\n",
    "                out.append([str(x) for x in v if x is not None])\n",
    "            else:\n",
    "                s = str(v).strip()\n",
    "                out.append([s] if s else [])\n",
    "        return {col: out}\n",
    "    \n",
    "    ds = ds.map(_to_list, batched=True, load_from_cache_file=False)\n",
    "    # Cast tipe kolom jadi Sequence(string)\n",
    "    ds = ds.cast_column(col, Sequence(Value(\"string\")))\n",
    "    return ds\n",
    "\n",
    "# Samakan tipe 'answer' di semua dataset\n",
    "facqa_fixed  = ensure_answer_is_list(facqa,  col=\"answer\")\n",
    "indoqa_fixed = ensure_answer_is_list(indoqa, col=\"answer\")\n",
    "tydiqa_fixed = ensure_answer_is_list(tydiqa_combined, col=\"answer\")\n",
    "\n",
    "# Sekarang concatenate\n",
    "from datasets import concatenate_datasets\n",
    "all_ds = concatenate_datasets([facqa_fixed, indoqa_fixed, tydiqa_fixed])\n",
    "\n",
    "print(all_ds)"
   ]
  },
  {
   "cell_type": "code",
   "execution_count": 206,
   "id": "259d5f86",
   "metadata": {},
   "outputs": [
    {
     "data": {
      "text/plain": [
       "[{'is_positive': True,\n",
       "  'score': 88.0,\n",
       "  'text': 'Lewat telepon ke kantor berita lokal Current News Service, Hezb-ul Mujahedeen, kelompok militan Kashmir yang terbesar, menyatakan bertanggung jawab atas ledakan di Srinagar.'},\n",
       " {'is_positive': False,\n",
       "  'score': 84.5,\n",
       "  'text': 'Parlemen Sri Lanka | Pada tahun 1987, sebuah granat dilemparkan ke ruang konferensi di dalam kompleks Parlemen ketika anggota Parlemen sedang rapat. Dua orang tewas dan enam terluka, tetapi target dari serangan, Presiden J. R. Jayawardene selamat tanpa luka. Janatha Vimukthi Peramuna mengaku bertanggung jawab atas serangan itu.'},\n",
       " {'is_positive': False,\n",
       "  'score': 84.0,\n",
       "  'text': 'Robert O. Blake, Jr. | Rajapaksa. Pada Januari 2007 ia bertemu dengan Presiden Maumoon Abdul Gayoom untuk membicarakan energi terbarukan di Maladewa. Pada bulan Februari 2007, Blake menerima luka ringan dari ledakan mortir saat keluar dari helikopter di pangkalan udara Lanka Sri di Batticaloa, dimana ia seharusnya menghadiri pertemuan pembangunan. Pemberontak Tamil Eelam diyakini bertanggung jawab atas serangan mortir tersebut. Kelompok'}]"
      ]
     },
     "execution_count": 206,
     "metadata": {},
     "output_type": "execute_result"
    }
   ],
   "source": [
    "all_ds['top3_psgs_include_positive'][0]"
   ]
  },
  {
   "cell_type": "code",
   "execution_count": 196,
   "id": "253416ab",
   "metadata": {},
   "outputs": [
    {
     "name": "stderr",
     "output_type": "stream",
     "text": [
      "Tokenizing:  67%|██████▋   | 26380/39462 [00:09<00:04, 2786.02it/s]Token indices sequence length is longer than the specified maximum sequence length for this model (590 > 512). Running this sequence through the model will result in indexing errors\n",
      "Tokenizing: 100%|██████████| 39462/39462 [00:15<00:00, 2527.91it/s]\n"
     ]
    },
    {
     "name": "stdout",
     "output_type": "stream",
     "text": [
      "Statistik panjang token (flan-t5-base):\n",
      "mean: 176.04\n",
      "median: 181.00\n",
      "q25: 128.00\n",
      "q75: 193.00\n",
      "p10: 88.00\n",
      "p90: 230.00\n"
     ]
    },
    {
     "data": {
      "image/png": "[encoded data removed]",
      "text/plain": [
       "<Figure size 800x500 with 1 Axes>"
      ]
     },
     "metadata": {},
     "output_type": "display_data"
    }
   ],
   "source": [
    "import numpy as np\n",
    "import pandas as pd\n",
    "import matplotlib.pyplot as plt\n",
    "from transformers import AutoTokenizer\n",
    "from tqdm import tqdm\n",
    "\n",
    "# load tokenizer\n",
    "t5_tokenizer = AutoTokenizer.from_pretrained(\"google/flan-t5-base\")\n",
    "\n",
    "# ambil semua teks dari kolom top3_psgs_include_positive\n",
    "all_texts = []\n",
    "for row in all_ds[\"top3_psgs_include_positive\"]:\n",
    "    for item in row:\n",
    "        all_texts.append(item[\"text\"])\n",
    "\n",
    "# hitung panjang token untuk tiap teks\n",
    "token_lengths = []\n",
    "for txt in tqdm(all_texts, desc=\"Tokenizing\"):\n",
    "    tokenized = t5_tokenizer(\n",
    "        txt,\n",
    "        truncation=False,\n",
    "        add_special_tokens=True,\n",
    "        return_attention_mask=False,\n",
    "        return_token_type_ids=False,\n",
    "    )\n",
    "    token_lengths.append(len(tokenized[\"input_ids\"]))\n",
    "\n",
    "token_lengths = np.array(token_lengths)\n",
    "\n",
    "# hitung statistik\n",
    "stats = {\n",
    "    \"mean\": np.mean(token_lengths),\n",
    "    \"median\": np.median(token_lengths),\n",
    "    \"q25\": np.percentile(token_lengths, 25),\n",
    "    \"q75\": np.percentile(token_lengths, 75),\n",
    "    \"p10\": np.percentile(token_lengths, 10),\n",
    "    \"p90\": np.percentile(token_lengths, 90),\n",
    "}\n",
    "\n",
    "print(\"Statistik panjang token (flan-t5-base):\")\n",
    "for k, v in stats.items():\n",
    "    print(f\"{k}: {v:.2f}\")\n",
    "\n",
    "# visualisasi distribusi\n",
    "plt.figure(figsize=(8,5))\n",
    "plt.hist(token_lengths, bins=50, edgecolor=\"black\")\n",
    "plt.axvline(stats[\"mean\"], color=\"red\", linestyle=\"--\", label=f\"Mean {stats['mean']:.1f}\")\n",
    "plt.axvline(stats[\"median\"], color=\"green\", linestyle=\"--\", label=f\"Median {stats['median']:.1f}\")\n",
    "plt.title(\"Distribusi Panjang Token (top3_psgs_include_positive)\")\n",
    "plt.xlabel(\"Jumlah Token\")\n",
    "plt.ylabel(\"Frekuensi\")\n",
    "plt.legend()\n",
    "plt.show()"
   ]
  },
  {
   "cell_type": "code",
   "execution_count": null,
   "id": "00699d61",
   "metadata": {},
   "outputs": [
    {
     "name": "stderr",
     "output_type": "stream",
     "text": [
      "Token indices sequence length is longer than the specified maximum sequence length for this model (590 > 512). Running this sequence through the model will result in indexing errors\n"
     ]
    },
    {
     "name": "stdout",
     "output_type": "stream",
     "text": [
      "Jumlah passage > 300 token: 2108\n",
      "                           id  top3_index  token_len  is_positive  \\\n",
      "496      509381553604953491-0           0       2228        False   \n",
      "1091   -4891423765760330169-2           2       1643        False   \n",
      "411     3729667736221810738-0           2       1572        False   \n",
      "1831    3610370681884974807-0           2       1490        False   \n",
      "257     2792667802436251792-0           2       1430        False   \n",
      "1729   -6294291492927048707-1           2       1358        False   \n",
      "1829    2162058776019169335-2           2       1287        False   \n",
      "489   -7657914863939360573-30           1       1282        False   \n",
      "2047    3105168833694610114-2           2       1244        False   \n",
      "1962    -302008274795995573-1           0       1244        False   \n",
      "\n",
      "                                                   text  \n",
      "496   Sejarah Nusantara pada era kerajaan Hindu-Budd...  \n",
      "1091  Jujun Junaedi | Sejak usianya baru empat tahun...  \n",
      "411   Teknologi komunikasi permainan daring | Permai...  \n",
      "1831  Suhani Si Ek Ladki | Mereka akhirnya menikah d...  \n",
      "257   Gaara muncul saat dia, Temari, dan Kankurou se...  \n",
      "1729  Indopos | INDO.POS adalah nama surat kabar har...  \n",
      "1829  Dragon Ball Z: Dead Zone (ドラゴンボールZ オラの悟飯を返せッ!!...  \n",
      "489   Kabupaten Rejang Lebong | Mayoritas penduduk k...  \n",
      "2047  Perkembangan Film | Sejarah film tidak bisa le...  \n",
      "1962  Perkembangan Film | Sejarah film tidak bisa le...  \n"
     ]
    }
   ],
   "source": [
    "import numpy as np\n",
    "import pandas as pd\n",
    "from transformers import AutoTokenizer\n",
    "from tqdm import tqdm\n",
    "\n",
    "# tokenizer\n",
    "t5_tokenizer = AutoTokenizer.from_pretrained(\"google/flan-t5-base\")\n",
    "\n",
    "# 1) Kumpulkan (row_id, top3_index, text, is_positive)\n",
    "triples = []  # (row_id, k, text, is_positive)\n",
    "ids = all_ds[\"id\"] if \"id\" in all_ds.column_names else list(range(len(all_ds)))\n",
    "top3_col = all_ds[\"top3_psgs_include_positive\"]\n",
    "\n",
    "for row_id, items in zip(ids, top3_col):\n",
    "    if not isinstance(items, list):\n",
    "        continue\n",
    "    for k, d in enumerate(items):\n",
    "        if not isinstance(d, dict):\n",
    "            continue\n",
    "        txt = d.get(\"text\", \"\")\n",
    "        is_pos = bool(d.get(\"is_positive\", False))\n",
    "        if isinstance(txt, str) and txt.strip():\n",
    "            triples.append((row_id, k, txt, is_pos))\n",
    "\n",
    "# 2) Tokenisasi batch dan hitung panjang token\n",
    "texts = [t[2] for t in triples]\n",
    "enc = t5_tokenizer(\n",
    "    texts,\n",
    "    add_special_tokens=True,   # hitung panjang dengan special tokens\n",
    "    truncation=False,\n",
    "    padding=False,\n",
    "    return_attention_mask=False,\n",
    "    return_token_type_ids=False,\n",
    ")\n",
    "\n",
    "lens = [len(ids) for ids in enc[\"input_ids\"]]\n",
    "\n",
    "# 3) Filter > 300 token\n",
    "rows = []\n",
    "for (row_id, k, txt, is_pos), L in zip(triples, lens):\n",
    "    if L > 300:\n",
    "        rows.append({\n",
    "            \"id\": row_id,\n",
    "            \"top3_index\": k,           # posisi dalam top3 (0=skor tertinggi)\n",
    "            \"token_len\": L,\n",
    "            \"is_positive\": is_pos,\n",
    "            \"text\": txt,\n",
    "        })\n",
    "\n",
    "# 4) Lihat hasil\n",
    "df_long = pd.DataFrame(rows).sort_values([\"token_len\"], ascending=False)\n",
    "print(\"Jumlah passage > 300 token:\", len(df_long))\n",
    "print(df_long.head(10))"
   ]
  },
  {
   "cell_type": "code",
   "execution_count": 201,
   "id": "413296f6",
   "metadata": {},
   "outputs": [],
   "source": [
    "# (opsional) simpan ke CSV untuk inspeksi manual\n",
    "df_long.to_excel(\"top3_include_positive_over300.xlsx\", index=False)"
   ]
  },
  {
   "cell_type": "code",
   "execution_count": 202,
   "id": "90a8aef1",
   "metadata": {},
   "outputs": [
    {
     "name": "stderr",
     "output_type": "stream",
     "text": [
      "Filter: 100%|██████████| 13154/13154 [00:01<00:00, 6754.42 examples/s]"
     ]
    },
    {
     "name": "stdout",
     "output_type": "stream",
     "text": [
      "positive: ['Borobudur | Borobudur adalah sebuah candi Buddha yang terletak di Borobudur, Magelang, Jawa Tengah, Indonesia. Candi ini terletak kurang lebih 100 km di sebelah barat daya Semarang, 86 km di sebelah barat Surakarta, dan 40 km di sebelah barat laut Yogyakarta. Candi berbentuk stupa ini didirikan oleh para penganut agama Buddha Mahayana sekitar tahun 800-an Masehi pada masa pemerintahan wangsa Syailendra. Borobudur adalah candi atau kuil Buddha terbesar di dunia, sekaligus salah satu monumen Buddha terbesar di dunia.']\n"
     ]
    },
    {
     "name": "stderr",
     "output_type": "stream",
     "text": [
      "\n"
     ]
    }
   ],
   "source": [
    "row = all_ds.filter(lambda x: x['id']=='509381553604953491-0')\n",
    "print(\"positive:\",row['positive_passage'])"
   ]
  },
  {
   "cell_type": "code",
   "execution_count": 204,
   "id": "18c28974",
   "metadata": {},
   "outputs": [
    {
     "name": "stdout",
     "output_type": "stream",
     "text": [
      "Sejarah Nusantara pada era kerajaan Hindu-Buddha | 101- Penempatan Lembah Bujang yang menggunakan aksara Sanskrit Pallava membuktikan hubungan dengan India di Sungai Batu. 150- Kerajaan Salakanagara, berdasarkan Naskah Wangsakerta- Pustaka Rajyarajya i Bhumi Nusantara (yang disusun sebuah panitia dengan ketuanya Pangeran Wangsakerta) diperkirakan merupakan kerajaan paling awal yang ada di Nusantara. 300- Kerajaan-kerajaan di asia tenggara telah melakukan hubungan dagang dengan India. Hubungan dagang ini mulai intensif pada abad ke-2 M. Memperdagangkan barang-barang dalam pasaran internasional misalnya: logam mulia, perhiasan, kerajinan, wangi-wangian, obat-obatan. Dari sebelah timur Indonesia diperdagangkan kayu cendana, kapur barus, cengkeh. Hubungan dagang ini memberi pengaruh yang besar dalam masyarakat Indonesia, terutama dengan masuknya ajaran Hindu dan Budha, pengaruh lainnya terlihat pada sistem pemerintahan. 300- Telah dilakukannya hubungan pelayaran niaga yang melintasi Tiongkok. Dibuktikan dengan perjalanan dua pendeta Budha yaitu Fa Shien dan Gunavarman. Hubungan dagang ini telah lazim dilakukan, barang-barang yang diperdagangkan kemenyan, kayu cendana, hasil kerajinan. 400- Hindu dan Budha telah berkembang di Indonesia dilihat dari sejarah kerajaan-kerajaan dan peninggalan-peninggalan pada masa itu antara lain prasasti, candi, patung dewa, seni ukir, barang-barang logam. Keberadaan kerajaan Tarumanagara diberitakan oleh orang Cina. 603- Kerajaan Malayu berdiri di hilir Batang Hari. Kerajaan ini merupakan konfederasi dari para pedagang-pedagang yang berasal dari pedalaman Minangkabau. Tahun 683, Malayu runtuh oleh serangan Sriwijaya. {referensi?} 671- Seorang pendeta Budha dari Tiongkok, bernama I-Tsing berangkat dari Kanton ke India. Ia singgah di Sriwijaya untuk belajar tata bahasa Sanskerta, kemudian ia singgah di Malayu selama dua bulan, dan baru melanjutkan perjalanannya ke India. 685- I-Tsing kembali ke Sriwijaya, disini ia tinggal selama empat tahun untuk menterjemahkan kitab suci Budha dari bahasa Sanskerta ke dalam bahasa Tionghoa. 692- Salah satu kerajaan Budha di Indonesia yaitu Sriwijaya tumbuh dan berkembang menjadi pusat perdagangan yang dikunjungi oleh pedagang Arab, Parsi, dan Tiongkok. Yang diperdagangkan antara lain tekstil, kapur barus, mutiara, rempah-rempah, emas, perak. Wilayah kekuasaannya meliputi Sumatera, Semenanjung Malaya, Kamboja, dan Jawa. Sriwijaya juga menguasai jalur perdagangan Selat Malaka, Selat Sunda, dan Laut China Selatan. Dengan penguasaan ini, Sriwijaya mengontrol lalu lintas perdagangan antara Tiongkok dan India, sekaligus menciptakan kekayaan bagi kerajaan. 922- Dari sebuah laporan tertulis diketahui seorang musafir Tiongkok telah datang kekerajaan Kahuripan di Jawa Timur dan maharaja Jawa telah menghadiahkan pedang pendek berhulu gading berukur pada kaisar Tiongkok. 932- Restorasi kekuasaan Kerajaan Sunda. Hal ini muncul melalui Prasasti Kebon Kopi II yang bertanggal 854 Saka atau 932 Masehi. 1292- Musafir Venesia, Marco Polo singgah di bagian utara Sumatera dalam perjalanan pulangnya dari Tiongkok ke Persia melalui laut. Marco Polo berpendapat bahwa Perlak merupakan sebuah kota Islam. 1292- Raden Wijaya, atas izin Jayakatwang, membuka hutan tarik menjadi permukiman yang disebut Majapahit. Nama ini berasal dari pohon Maja yang berbuah pahit di tempat ini. 1293- Raden Wijaya memanfaatkan tentara Mongol untuk menggulingkan Jayakatwang di Kediri. Memukul mundur tentara Mongol, lalu ia naik takhta sebagai raja Majapahit pertama pada 12 November. 1293- 1478- Kota Majapahit menjadi pusat kemaharajaan yang pengaruhnya membentang dari Sumatera ke Papua, kecuali Sunda dan Madura. Kawasan urban yang padat dihuni oleh populasi yang kosmopolitan dan menjalankan berbagai macam pekerjaan. Kitab Negarakertagama menggambarkan keluhuran budaya Majapahit dengan cita rasa yang halus dalam seni, sastra, dan ritual keagamaan. 1345-1346- Musafir Maroko, Ibn Battuta melewati Samudra dalam perjalanannya ke dan dari Tiongkok. Diketahui juga bahwa Samudra merupakan pelabuhan yang sangat penting, tempat kapal-kapal dagang dari India dan Tiongkok. Ibn Battuta mendapati bahwa penguasa Samudra adalah seorang pengikut Mahzab Syafi'i salah satu ajaran dalam Islam. 1350-1389- Puncak kejayaan Majapahit dibawah pimpinan raja Hayam Wuruk dan patihnya Gajah Mada. Majapahit menguasai seluruh kepulauan di asia tenggara bahkan jazirah Malaya sesuai dengan \"Sumpah Palapa\" yang menyatakan bahwa Gajah Mada menginginkan Nusantara bersatu. 1478 Majapahit runtuh akibat serangan Demak. Kota ini berangsur-angsur ditinggalkan penduduknya, tertimbun tanah, dan menjadi hutan jati. 1570- Pajajaran, ibukota Kerajaan Hindu terakhir di pulau Jawa dihancurkan oleh Kesultanan Banten.\n",
      "Pariwisata di Indonesia | Sejarah mencatat bahwa agama Hindu dan Buddha pernah masuk dan memengaruhi kehidupan spiritual di Indonesia dengan adanya peninggalan sejarah seperti candi dan prasasti di beberapa lokasi. Jejak-jejak peninggalan agama Buddha yang terbesar adalah Candi Borobudur yang terletak di Magelang dan merupakan candi Buddha terbesar di dunia dan masuk dalam daftar Warisan Budaya Dunia UNESCO pada tahun 1991. Pada abad ke-13 hingga ke-16 Islam masuk ke nusantara menggantikan era kerajaan Hindu-Buddha. Pada masa ini, banyak ditemukan masjid yang merupakan akulturasi kebudayaan antara Hindu-Buddha-Jawa dengan agama Islam seperti terlihat pada Masjid Agung Demak dan Masjid Menara Kudus.\n",
      "Borobudur adalah sebuah candi Buddha yang terletak di Borobudur, Magelang, Jawa Tengah, Indonesia. Candi ini terletak kurang lebih 100 km di sebelah barat daya Semarang, 86 km di sebelah barat Surakarta, dan 40 km di sebelah barat laut Yogyakarta. Candi berbentuk stupa ini didirikan oleh para penganut agama Buddha Mahayana sekitar tahun 800-an Masehi pada masa pemerintahan wangsa Syailendra. Borobudur adalah candi atau kuil Buddha terbesar di dunia, sekaligus salah satu monumen Buddha terbesar di dunia.\n"
     ]
    }
   ],
   "source": [
    "for item in row['top3_psgs_include_positive'][0]:\n",
    "    print(item['text'])"
   ]
  },
  {
   "cell_type": "code",
   "execution_count": 2,
   "id": "78e816ca",
   "metadata": {},
   "outputs": [
    {
     "name": "stderr",
     "output_type": "stream",
     "text": [
      "Concat + token length (top3_psgs_include_positive):   0%|          | 0/13154 [00:00<?, ? examples/s]Token indices sequence length is longer than the specified maximum sequence length for this model (521 > 512). Running this sequence through the model will result in indexing errors\n",
      "Concat + token length (top3_psgs_include_positive): 100%|██████████| 13154/13154 [00:03<00:00, 3998.07 examples/s]\n",
      "Filter: 100%|██████████| 13154/13154 [00:01<00:00, 7736.86 examples/s]"
     ]
    },
    {
     "name": "stdout",
     "output_type": "stream",
     "text": [
      "Dataset({\n",
      "    features: ['id', 'question', 'answer', 'positive_passage', 'question_norm', 'question_stem', 'retrieved_top3', 'top3_psgs_include_positive', 'top3_psgs_may_not_include_positive'],\n",
      "    num_rows: 12504\n",
      "})\n"
     ]
    },
    {
     "name": "stderr",
     "output_type": "stream",
     "text": [
      "\n"
     ]
    }
   ],
   "source": [
    "from transformers import AutoTokenizer\n",
    "\n",
    "t5_tokenizer = AutoTokenizer.from_pretrained(\"google/flan-t5-base\")\n",
    "\n",
    "def _concat_top3_texts(batch):\n",
    "    \"\"\"\n",
    "    Buat gabungan teks dari kolom top3_psgs_include_positive (list[dict/text]) per-baris,\n",
    "    lalu hitung panjang token dengan T5-base (tanpa truncation).\n",
    "    \"\"\"\n",
    "    concat_texts = []\n",
    "    for items in batch[\"top3_psgs_include_positive\"]:\n",
    "        texts = []\n",
    "        if isinstance(items, list):\n",
    "            for it in items:\n",
    "                if isinstance(it, dict):\n",
    "                    txt = it.get(\"text\", \"\")\n",
    "                else:\n",
    "                    txt = it\n",
    "                if isinstance(txt, str) and txt.strip():\n",
    "                    texts.append(txt.strip())\n",
    "        # gabungkan dengan spasi (bisa diganti \"\\n\\n\" jika ingin separator lebih jelas)\n",
    "        concat_texts.append(\" \".join(texts) if texts else \"\")\n",
    "\n",
    "    enc = t5_tokenizer(\n",
    "        concat_texts,\n",
    "        add_special_tokens=True,\n",
    "        truncation=False,\n",
    "        padding=False,\n",
    "        return_attention_mask=False,\n",
    "        return_token_type_ids=False,\n",
    "    )\n",
    "    lengths = [len(ids) for ids in enc[\"input_ids\"]]\n",
    "    return {\"_top3_concat_text\": concat_texts, \"_top3_concat_len\": lengths}\n",
    "\n",
    "# Tambahkan kolom bantu berisi gabungan teks & panjang token\n",
    "all_ds_tmp = all_ds.map(\n",
    "    _concat_top3_texts,\n",
    "    batched=True,\n",
    "    batch_size=512,\n",
    "    load_from_cache_file=False,\n",
    "    desc=\"Concat + token length (top3_psgs_include_positive)\"\n",
    ")\n",
    "\n",
    "# Filter: hanya baris dengan total token <= 850\n",
    "all_ds_filtered = all_ds_tmp.filter(lambda ex: ex[\"_top3_concat_len\"] <= 850)\n",
    "\n",
    "# (opsional) hapus kolom bantu\n",
    "all_ds_filtered = all_ds_filtered.remove_columns([\"_top3_concat_text\", \"_top3_concat_len\"])\n",
    "\n",
    "print(all_ds_filtered)"
   ]
  },
  {
   "cell_type": "code",
   "execution_count": 3,
   "id": "8f50ea90",
   "metadata": {},
   "outputs": [
    {
     "ename": "NameError",
     "evalue": "name 'tqdm' is not defined",
     "output_type": "error",
     "traceback": [
      "\u001b[1;31m---------------------------------------------------------------------------\u001b[0m",
      "\u001b[1;31mNameError\u001b[0m                                 Traceback (most recent call last)",
      "Cell \u001b[1;32mIn[3], line 8\u001b[0m\n\u001b[0;32m      6\u001b[0m \u001b[38;5;66;03m# hitung panjang token untuk tiap teks\u001b[39;00m\n\u001b[0;32m      7\u001b[0m token_lengths \u001b[38;5;241m=\u001b[39m []\n\u001b[1;32m----> 8\u001b[0m \u001b[38;5;28;01mfor\u001b[39;00m txt \u001b[38;5;129;01min\u001b[39;00m tqdm(all_texts, desc\u001b[38;5;241m=\u001b[39m\u001b[38;5;124m\"\u001b[39m\u001b[38;5;124mTokenizing\u001b[39m\u001b[38;5;124m\"\u001b[39m):\n\u001b[0;32m      9\u001b[0m     tokenized \u001b[38;5;241m=\u001b[39m t5_tokenizer(\n\u001b[0;32m     10\u001b[0m         txt,\n\u001b[0;32m     11\u001b[0m         truncation\u001b[38;5;241m=\u001b[39m\u001b[38;5;28;01mFalse\u001b[39;00m,\n\u001b[1;32m   (...)\u001b[0m\n\u001b[0;32m     14\u001b[0m         return_token_type_ids\u001b[38;5;241m=\u001b[39m\u001b[38;5;28;01mFalse\u001b[39;00m,\n\u001b[0;32m     15\u001b[0m     )\n\u001b[0;32m     16\u001b[0m     token_lengths\u001b[38;5;241m.\u001b[39mappend(\u001b[38;5;28mlen\u001b[39m(tokenized[\u001b[38;5;124m\"\u001b[39m\u001b[38;5;124minput_ids\u001b[39m\u001b[38;5;124m\"\u001b[39m]))\n",
      "\u001b[1;31mNameError\u001b[0m: name 'tqdm' is not defined"
     ]
    }
   ],
   "source": [
    "all_texts = []\n",
    "for row in all_ds_filtered[\"top3_psgs_include_positive\"]:\n",
    "    for item in row:\n",
    "        all_texts.append(item[\"text\"])\n",
    "\n",
    "# hitung panjang token untuk tiap teks\n",
    "token_lengths = []\n",
    "for txt in tqdm(all_texts, desc=\"Tokenizing\"):\n",
    "    tokenized = t5_tokenizer(\n",
    "        txt,\n",
    "        truncation=False,\n",
    "        add_special_tokens=True,\n",
    "        return_attention_mask=False,\n",
    "        return_token_type_ids=False,\n",
    "    )\n",
    "    token_lengths.append(len(tokenized[\"input_ids\"]))\n",
    "\n",
    "token_lengths = np.array(token_lengths)\n",
    "\n",
    "# hitung statistik\n",
    "stats = {\n",
    "    \"mean\": np.mean(token_lengths),\n",
    "    \"median\": np.median(token_lengths),\n",
    "    \"q25\": np.percentile(token_lengths, 25),\n",
    "    \"q75\": np.percentile(token_lengths, 75),\n",
    "    \"p10\": np.percentile(token_lengths, 10),\n",
    "    \"p90\": np.percentile(token_lengths, 90),\n",
    "}\n",
    "\n",
    "print(\"Statistik panjang token (flan-t5-base):\")\n",
    "for k, v in stats.items():\n",
    "    print(f\"{k}: {v:.2f}\")\n",
    "\n",
    "# visualisasi distribusi\n",
    "plt.figure(figsize=(8,5))\n",
    "plt.hist(token_lengths, bins=50, edgecolor=\"black\")\n",
    "plt.axvline(stats[\"mean\"], color=\"red\", linestyle=\"--\", label=f\"Mean {stats['mean']:.1f}\")\n",
    "plt.axvline(stats[\"median\"], color=\"green\", linestyle=\"--\", label=f\"Median {stats['median']:.1f}\")\n",
    "plt.title(\"Distribusi Panjang Token (top3_psgs_include_positive)\")\n",
    "plt.xlabel(\"Jumlah Token\")\n",
    "plt.ylabel(\"Frekuensi\")\n",
    "plt.legend()\n",
    "plt.show()"
   ]
  },
  {
   "cell_type": "code",
   "execution_count": 4,
   "id": "0b8b65d4",
   "metadata": {},
   "outputs": [
    {
     "name": "stderr",
     "output_type": "stream",
     "text": [
      "Saving the dataset (1/1 shards): 100%|██████████| 12504/12504 [00:00<00:00, 36372.30 examples/s]\n"
     ]
    }
   ],
   "source": [
    "all_ds_filtered.save_to_disk(\"./generated_data/all_ds_concat_psgs_under_850\")"
   ]
  },
  {
   "cell_type": "code",
   "execution_count": 25,
   "id": "339ceaef",
   "metadata": {},
   "outputs": [],
   "source": [
    "all_ds_filtered = load_from_disk(\"./generated_data/all_ds_concat_psgs_under_850\")"
   ]
  },
  {
   "cell_type": "code",
   "execution_count": 26,
   "id": "562eeefc",
   "metadata": {},
   "outputs": [
    {
     "name": "stdout",
     "output_type": "stream",
     "text": [
      "Sebelum dedup: 12504 baris\n",
      "Sesudah dedup: 12385 baris\n"
     ]
    }
   ],
   "source": [
    "import pandas as pd\n",
    "\n",
    "# convert ke pandas dataframe\n",
    "df = all_ds_filtered.to_pandas()\n",
    "\n",
    "# ambil elemen pertama dari answer (asumsikan answer selalu list dengan ≥1 elemen)\n",
    "df[\"_answer_first\"] = df[\"answer\"].apply(lambda x: x[0] if isinstance(x, (list, tuple)) and len(x) > 0 else None)\n",
    "\n",
    "# panjang positive_passage\n",
    "df[\"_pos_len\"] = df[\"positive_passage\"].astype(str).str.len()\n",
    "\n",
    "# sort agar yg terpendek muncul dulu\n",
    "df_sorted = df.sort_values(by=\"_pos_len\", ascending=True)\n",
    "\n",
    "# drop_duplicates mempertahankan yg pertama (terpendek)\n",
    "df_dedup = df_sorted.drop_duplicates(subset=[\"question_stem\", \"_answer_first\"], keep=\"first\").reset_index(drop=True)\n",
    "\n",
    "print(f\"Sebelum dedup: {len(df)} baris\")\n",
    "print(f\"Sesudah dedup: {len(df_dedup)} baris\")\n",
    "\n",
    "# simpan hasil\n",
    "df_dedup.to_excel(\"dedup_shortest_positive.xlsx\", index=False)\n"
   ]
  },
  {
   "cell_type": "code",
   "execution_count": 27,
   "id": "539e30ec",
   "metadata": {},
   "outputs": [],
   "source": [
    "all_ds_filtered = Dataset.from_pandas(df_dedup, preserve_index=False)"
   ]
  },
  {
   "cell_type": "code",
   "execution_count": 28,
   "id": "d5669498",
   "metadata": {},
   "outputs": [
    {
     "name": "stderr",
     "output_type": "stream",
     "text": [
      "Check positive passage contains all answers: 100%|██████████| 12385/12385 [00:00<00:00, 15500.83 examples/s]"
     ]
    },
    {
     "name": "stdout",
     "output_type": "stream",
     "text": [
      "Total baris: 12385\n",
      "Baris di mana positive_passage tidak mengandung semua answer: 0\n",
      "Persentase: 0.00%\n"
     ]
    },
    {
     "name": "stderr",
     "output_type": "stream",
     "text": [
      "\n"
     ]
    }
   ],
   "source": [
    "def check_positive_contains_answer(batch):\n",
    "    results = []\n",
    "    for answers, top3 in zip(batch[\"answer\"], batch[\"top3_psgs_include_positive\"]):\n",
    "        # ambil teks positif (kalau ada)\n",
    "        pos_texts = [d[\"text\"] for d in top3 if d.get(\"is_positive\")]\n",
    "        if not pos_texts:\n",
    "            # kalau tidak ada positive, hitung sebagai gagal\n",
    "            results.append(False)\n",
    "            continue\n",
    "\n",
    "        pos_text = pos_texts[0]  # asumsi cuma ada satu positive\n",
    "        # cek semua answer ada dalam teks positive\n",
    "        ok = all(ans.strip() in pos_text for ans in answers if ans.strip())\n",
    "        results.append(ok)\n",
    "    return {\"_pos_has_all_answers\": results}\n",
    "\n",
    "# Tambahkan kolom cek\n",
    "all_ds_checked = all_ds_filtered.map(\n",
    "    check_positive_contains_answer,\n",
    "    batched=True,\n",
    "    batch_size=512,\n",
    "    load_from_cache_file=False,\n",
    "    desc=\"Check positive passage contains all answers\"\n",
    ")\n",
    "\n",
    "# Hitung statistik\n",
    "total = len(all_ds_checked)\n",
    "n_fail = sum(1 for x in all_ds_checked[\"_pos_has_all_answers\"] if not x)\n",
    "percent_fail = (n_fail / total) * 100 if total > 0 else 0.0\n",
    "\n",
    "print(f\"Total baris: {total}\")\n",
    "print(f\"Baris di mana positive_passage tidak mengandung semua answer: {n_fail}\")\n",
    "print(f\"Persentase: {percent_fail:.2f}%\")"
   ]
  },
  {
   "cell_type": "code",
   "execution_count": 29,
   "id": "269f1290",
   "metadata": {},
   "outputs": [
    {
     "name": "stderr",
     "output_type": "stream",
     "text": [
      "Cari posisi is_positive=True: 100%|██████████| 12385/12385 [00:00<00:00, 18458.65 examples/s]\n"
     ]
    },
    {
     "name": "stdout",
     "output_type": "stream",
     "text": [
      "Index 0: 9375 baris (75.70%)\n",
      "Index 1: 889 baris (7.18%)\n",
      "Index 2: 2121 baris (17.13%)\n"
     ]
    }
   ],
   "source": [
    "from collections import Counter\n",
    "\n",
    "def get_positive_index(batch):\n",
    "    indices = []\n",
    "    for top3 in batch[\"top3_psgs_include_positive\"]:\n",
    "        idx = None\n",
    "        for i, d in enumerate(top3):\n",
    "            if d.get(\"is_positive\"):\n",
    "                idx = i\n",
    "                break   # ambil yang pertama ketemu\n",
    "        indices.append(idx)\n",
    "    return {\"_positive_index\": indices}\n",
    "\n",
    "# Tambahkan kolom indeks\n",
    "all_ds_with_idx = all_ds_filtered.map(\n",
    "    get_positive_index,\n",
    "    batched=True,\n",
    "    batch_size=512,\n",
    "    load_from_cache_file=False,\n",
    "    desc=\"Cari posisi is_positive=True\"\n",
    ")\n",
    "\n",
    "# Hitung distribusi\n",
    "total = len(all_ds_with_idx)\n",
    "ctr = Counter(x for x in all_ds_with_idx[\"_positive_index\"] if x is not None)\n",
    "\n",
    "for i in range(3):\n",
    "    n = ctr.get(i, 0)\n",
    "    p = (n / total) * 100 if total > 0 else 0\n",
    "    print(f\"Index {i}: {n} baris ({p:.2f}%)\")\n",
    "\n",
    "n_none = sum(1 for x in all_ds_with_idx[\"_positive_index\"] if x is None)\n",
    "if n_none:\n",
    "    p_none = (n_none / total) * 100\n",
    "    print(f\"Tidak ada positive: {n_none} baris ({p_none:.2f}%)\")"
   ]
  },
  {
   "cell_type": "code",
   "execution_count": null,
   "id": "1c8b8af3",
   "metadata": {},
   "outputs": [
    {
     "name": "stdout",
     "output_type": "stream",
     "text": [
      "9375 889 2121\n"
     ]
    },
    {
     "name": "stderr",
     "output_type": "stream",
     "text": [
      "Reposition positives: 100%|██████████| 12385/12385 [00:02<00:00, 4313.40 examples/s]\n"
     ]
    }
   ],
   "source": [
    "import random\n",
    "from datasets import Dataset\n",
    "\n",
    "random.seed(42)  # untuk konsistensi\n",
    "\n",
    "# 1. Tandai index posisi positive\n",
    "def get_positive_index(example):\n",
    "    for i, d in enumerate(example[\"top3_psgs_include_positive\"]):\n",
    "        if d.get(\"is_positive\"):\n",
    "            return i\n",
    "    return None\n",
    "\n",
    "pos_indices = [get_positive_index(ex) for ex in all_ds_filtered]\n",
    "\n",
    "# 2. Ambil id baris untuk setiap grup\n",
    "idx0 = [i for i, p in enumerate(pos_indices) if p == 0]\n",
    "idx1 = [i for i, p in enumerate(pos_indices) if p == 1]\n",
    "idx2 = [i for i, p in enumerate(pos_indices) if p == 2]\n",
    "\n",
    "print(len(idx0), len(idx1), len(idx2))  # 9404, 892, 2208\n",
    "\n",
    "# 3. Tentukan jumlah target\n",
    "keep0 = 4129\n",
    "move1 = 3239\n",
    "move2 = 2007\n",
    "\n",
    "# 4. Acak idx0 dan bagi\n",
    "random.shuffle(idx0)\n",
    "idx0_keep = idx0[:keep0]\n",
    "idx0_to1  = idx0[keep0:keep0+move1]\n",
    "idx0_to2  = idx0[keep0+move1:keep0+move1+move2]\n",
    "\n",
    "# 5. Buat set target index\n",
    "target_pos = {}\n",
    "for i in idx0_keep:\n",
    "    target_pos[i] = 0\n",
    "for i in idx0_to1:\n",
    "    target_pos[i] = 1\n",
    "for i in idx0_to2:\n",
    "    target_pos[i] = 2\n",
    "# sisanya (idx1, idx2) biarkan tetap\n",
    "\n",
    "# 6. Fungsi swap posisi positive\n",
    "def reposition_positive(example, idx):\n",
    "    target = target_pos.get(idx, None)\n",
    "    if target is None:\n",
    "        return example  # tidak diubah\n",
    "\n",
    "    top3 = example[\"top3_psgs_include_positive\"]\n",
    "    pos_idx = None\n",
    "    for i, d in enumerate(top3):\n",
    "        if d.get(\"is_positive\"):\n",
    "            pos_idx = i\n",
    "            break\n",
    "\n",
    "    if pos_idx is not None and pos_idx != target and target < len(top3):\n",
    "        # tukar elemen pos_idx dengan elemen target\n",
    "        top3[pos_idx], top3[target] = top3[target], top3[pos_idx]\n",
    "\n",
    "    example[\"top3_psgs_include_positive\"] = top3\n",
    "    return example\n",
    "\n",
    "# 7. Terapkan mapping dengan enumerate dataset\n",
    "all_ds_balanced = all_ds_filtered.map(\n",
    "    lambda ex, idx: reposition_positive(ex, idx),\n",
    "    with_indices=True,\n",
    "    load_from_cache_file=False,\n",
    "    desc=\"Reposition positives\"\n",
    ")\n"
   ]
  },
  {
   "cell_type": "code",
   "execution_count": 31,
   "id": "69f46a47",
   "metadata": {},
   "outputs": [
    {
     "data": {
      "text/plain": [
       "Dataset({\n",
       "    features: ['id', 'question', 'answer', 'positive_passage', 'question_norm', 'question_stem', 'retrieved_top3', 'top3_psgs_include_positive', 'top3_psgs_may_not_include_positive', '_answer_first', '_pos_len'],\n",
       "    num_rows: 12385\n",
       "})"
      ]
     },
     "execution_count": 31,
     "metadata": {},
     "output_type": "execute_result"
    }
   ],
   "source": [
    "all_ds_balanced"
   ]
  },
  {
   "cell_type": "code",
   "execution_count": 32,
   "id": "610e7669",
   "metadata": {},
   "outputs": [
    {
     "name": "stderr",
     "output_type": "stream",
     "text": [
      "Cek distribusi ulang posisi is_positive=True: 100%|██████████| 12385/12385 [00:00<00:00, 16736.08 examples/s]\n"
     ]
    }
   ],
   "source": [
    "def get_positive_index(batch):\n",
    "    indices = []\n",
    "    for top3s in batch[\"top3_psgs_include_positive\"]:\n",
    "        idx = None\n",
    "        for i, d in enumerate(top3s):\n",
    "            if d.get(\"is_positive\"):\n",
    "                idx = i\n",
    "                break\n",
    "        indices.append(idx)\n",
    "    return {\"_positive_index\": indices}\n",
    "\n",
    "all_ds_with_idx = all_ds_balanced.map(\n",
    "    get_positive_index,\n",
    "    batched=True,\n",
    "    batch_size=512,\n",
    "    load_from_cache_file=False,\n",
    "    desc=\"Cek distribusi ulang posisi is_positive=True\"\n",
    ")\n"
   ]
  },
  {
   "cell_type": "code",
   "execution_count": 33,
   "id": "06465073",
   "metadata": {},
   "outputs": [
    {
     "name": "stdout",
     "output_type": "stream",
     "text": [
      "Index 0: 4129 baris (33.34%)\n",
      "Index 1: 4128 baris (33.33%)\n",
      "Index 2: 4128 baris (33.33%)\n"
     ]
    }
   ],
   "source": [
    "# Hitung distribusi\n",
    "total = len(all_ds_with_idx)\n",
    "ctr = Counter(x for x in all_ds_with_idx[\"_positive_index\"] if x is not None)\n",
    "\n",
    "for i in range(3):\n",
    "    n = ctr.get(i, 0)\n",
    "    p = (n / total) * 100 if total > 0 else 0\n",
    "    print(f\"Index {i}: {n} baris ({p:.2f}%)\")\n",
    "\n",
    "n_none = sum(1 for x in all_ds_with_idx[\"_positive_index\"] if x is None)\n",
    "if n_none:\n",
    "    p_none = (n_none / total) * 100\n",
    "    print(f\"Tidak ada positive: {n_none} baris ({p_none:.2f}%)\")"
   ]
  },
  {
   "cell_type": "code",
   "execution_count": 34,
   "id": "3c0eb681",
   "metadata": {},
   "outputs": [
    {
     "name": "stdout",
     "output_type": "stream",
     "text": [
      "DatasetDict({\n",
      "    train: Dataset({\n",
      "        features: ['id', 'question', 'answer', 'positive_passage', 'question_norm', 'question_stem', 'retrieved_top3', 'top3_psgs_include_positive', 'top3_psgs_may_not_include_positive', '_answer_first', '_pos_len', '_positive_index'],\n",
      "        num_rows: 10385\n",
      "    })\n",
      "    dev: Dataset({\n",
      "        features: ['id', 'question', 'answer', 'positive_passage', 'question_norm', 'question_stem', 'retrieved_top3', 'top3_psgs_include_positive', 'top3_psgs_may_not_include_positive', '_answer_first', '_pos_len', '_positive_index'],\n",
      "        num_rows: 1000\n",
      "    })\n",
      "    test: Dataset({\n",
      "        features: ['id', 'question', 'answer', 'positive_passage', 'question_norm', 'question_stem', 'retrieved_top3', 'top3_psgs_include_positive', 'top3_psgs_may_not_include_positive', '_answer_first', '_pos_len', '_positive_index'],\n",
      "        num_rows: 1000\n",
      "    })\n",
      "})\n",
      "train 10385\n",
      "dev 1000\n",
      "test 1000\n"
     ]
    }
   ],
   "source": [
    "from sklearn.model_selection import train_test_split\n",
    "import pandas as pd\n",
    "from datasets import Dataset, DatasetDict\n",
    "\n",
    "# pastikan dataset punya kolom _positive_index\n",
    "df = all_ds_with_idx.to_pandas()\n",
    "\n",
    "# Step 1: ambil 2000 baris dulu untuk dev+test (stratified)\n",
    "df_train, df_temp = train_test_split(\n",
    "    df,\n",
    "    test_size=2000,\n",
    "    stratify=df[\"_positive_index\"],\n",
    "    random_state=42\n",
    ")\n",
    "\n",
    "# Step 2: dari df_temp (2000 baris), split jadi dev=1000 & test=1000 (stratified lagi)\n",
    "df_dev, df_test = train_test_split(\n",
    "    df_temp,\n",
    "    test_size=1000,\n",
    "    stratify=df_temp[\"_positive_index\"],\n",
    "    random_state=42\n",
    ")\n",
    "\n",
    "# Convert kembali ke HuggingFace Dataset\n",
    "ds_train = Dataset.from_pandas(df_train, preserve_index=False)\n",
    "ds_dev   = Dataset.from_pandas(df_dev, preserve_index=False)\n",
    "ds_test  = Dataset.from_pandas(df_test, preserve_index=False)\n",
    "\n",
    "# Gabungkan ke DatasetDict\n",
    "dataset_splits = DatasetDict({\n",
    "    \"train\": ds_train,\n",
    "    \"dev\": ds_dev,\n",
    "    \"test\": ds_test,\n",
    "})\n",
    "\n",
    "print(dataset_splits)\n",
    "for split in dataset_splits:\n",
    "    print(split, len(dataset_splits[split]))"
   ]
  },
  {
   "cell_type": "code",
   "execution_count": 35,
   "id": "c679762b",
   "metadata": {},
   "outputs": [
    {
     "name": "stderr",
     "output_type": "stream",
     "text": [
      "Saving the dataset (1/1 shards): 100%|██████████| 10385/10385 [00:00<00:00, 171657.22 examples/s]\n",
      "Saving the dataset (1/1 shards): 100%|██████████| 1000/1000 [00:00<00:00, 127587.27 examples/s]\n",
      "Saving the dataset (1/1 shards): 100%|██████████| 1000/1000 [00:00<00:00, 88725.15 examples/s] \n"
     ]
    }
   ],
   "source": [
    "dataset_splits.save_to_disk('./generated_data/all_ds_balanced')"
   ]
  },
  {
   "cell_type": "code",
   "execution_count": 37,
   "id": "f2008836",
   "metadata": {},
   "outputs": [
    {
     "name": "stderr",
     "output_type": "stream",
     "text": [
      "Creating parquet from Arrow format: 100%|██████████| 11/11 [00:00<00:00, 29.36ba/s]\n",
      "Uploading files as a binary IO buffer is not supported by Xet Storage. Falling back to HTTP upload.\n",
      "Uploading the dataset shards: 100%|██████████| 1/1 [00:06<00:00,  6.85s/it]\n",
      "Creating parquet from Arrow format: 100%|██████████| 1/1 [00:00<00:00, 30.05ba/s]\n",
      "Uploading files as a binary IO buffer is not supported by Xet Storage. Falling back to HTTP upload.\n",
      "Uploading the dataset shards: 100%|██████████| 1/1 [00:02<00:00,  2.55s/it]\n",
      "Creating parquet from Arrow format: 100%|██████████| 1/1 [00:00<00:00, 28.83ba/s]\n",
      "Uploading files as a binary IO buffer is not supported by Xet Storage. Falling back to HTTP upload.\n",
      "Uploading the dataset shards: 100%|██████████| 1/1 [00:02<00:00,  2.13s/it]\n"
     ]
    },
    {
     "data": {
      "text/plain": [
       "CommitInfo(commit_url='https://huggingface.co/datasets/khalidrizki/indonesian-qa-and-info-retrieval/commit/ee323e73d3859fa9753c3752a87af4fa804b6503', commit_message='Upload dataset', commit_description='', oid='ee323e73d3859fa9753c3752a87af4fa804b6503', pr_url=None, repo_url=RepoUrl('https://huggingface.co/datasets/khalidrizki/indonesian-qa-and-info-retrieval', endpoint='https://huggingface.co', repo_type='dataset', repo_id='khalidrizki/indonesian-qa-and-info-retrieval'), pr_revision=None, pr_num=None)"
      ]
     },
     "execution_count": 37,
     "metadata": {},
     "output_type": "execute_result"
    }
   ],
   "source": [
    "dataset_splits.push_to_hub('khalidrizki/indonesian-qa-and-info-retrieval')"
   ]
  },
  {
   "cell_type": "code",
   "execution_count": 39,
   "id": "b9d541ba",
   "metadata": {},
   "outputs": [
    {
     "data": {
      "text/plain": [
       "DatasetDict({\n",
       "    train: Dataset({\n",
       "        features: ['id', 'question', 'answer', 'positive_passage', 'question_norm', 'question_stem', 'retrieved_top3', 'top3_psgs_include_positive', 'top3_psgs_may_not_include_positive', '_positive_index'],\n",
       "        num_rows: 10385\n",
       "    })\n",
       "    dev: Dataset({\n",
       "        features: ['id', 'question', 'answer', 'positive_passage', 'question_norm', 'question_stem', 'retrieved_top3', 'top3_psgs_include_positive', 'top3_psgs_may_not_include_positive', '_positive_index'],\n",
       "        num_rows: 1000\n",
       "    })\n",
       "    test: Dataset({\n",
       "        features: ['id', 'question', 'answer', 'positive_passage', 'question_norm', 'question_stem', 'retrieved_top3', 'top3_psgs_include_positive', 'top3_psgs_may_not_include_positive', '_positive_index'],\n",
       "        num_rows: 1000\n",
       "    })\n",
       "})"
      ]
     },
     "execution_count": 39,
     "metadata": {},
     "output_type": "execute_result"
    }
   ],
   "source": [
    "for split in dataset_splits.keys():\n",
    "    dataset_splits[split] = dataset_splits[split].remove_columns(['_answer_first', '_pos_len'])\n",
    "dataset_splits"
   ]
  },
  {
   "cell_type": "code",
   "execution_count": 42,
   "id": "5fadd656",
   "metadata": {},
   "outputs": [
    {
     "name": "stdout",
     "output_type": "stream",
     "text": [
      "\n",
      "=== Split: None (total 10385 baris) ===\n",
      "Baris 0–1000:\n",
      "  0: 333 (33.30%)\n",
      "  1: 350 (35.00%)\n",
      "  2: 317 (31.70%)\n",
      "\n",
      "Baris 1000–2000:\n",
      "  0: 311 (31.10%)\n",
      "  1: 331 (33.10%)\n",
      "  2: 358 (35.80%)\n",
      "\n",
      "Baris 2000–3000:\n",
      "  0: 348 (34.80%)\n",
      "  1: 340 (34.00%)\n",
      "  2: 312 (31.20%)\n",
      "\n",
      "Baris 3000–4000:\n",
      "  0: 326 (32.60%)\n",
      "  1: 348 (34.80%)\n",
      "  2: 326 (32.60%)\n",
      "\n",
      "Baris 4000–5000:\n",
      "  0: 326 (32.60%)\n",
      "  1: 325 (32.50%)\n",
      "  2: 349 (34.90%)\n",
      "\n",
      "Baris 5000–6000:\n",
      "  0: 339 (33.90%)\n",
      "  1: 333 (33.30%)\n",
      "  2: 328 (32.80%)\n",
      "\n",
      "Baris 6000–7000:\n",
      "  0: 346 (34.60%)\n",
      "  1: 321 (32.10%)\n",
      "  2: 333 (33.30%)\n",
      "\n",
      "Baris 7000–8000:\n",
      "  0: 332 (33.20%)\n",
      "  1: 327 (32.70%)\n",
      "  2: 341 (34.10%)\n",
      "\n",
      "Baris 8000–9000:\n",
      "  0: 326 (32.60%)\n",
      "  1: 333 (33.30%)\n",
      "  2: 341 (34.10%)\n",
      "\n",
      "Baris 9000–10000:\n",
      "  0: 340 (34.00%)\n",
      "  1: 331 (33.10%)\n",
      "  2: 329 (32.90%)\n",
      "\n",
      "Baris 10000–10385:\n",
      "  0: 135 (35.06%)\n",
      "  1: 122 (31.69%)\n",
      "  2: 128 (33.25%)\n",
      "\n",
      "\n",
      "=== Split: None (total 1000 baris) ===\n",
      "Baris 0–1000:\n",
      "  0: 333 (33.30%)\n",
      "  1: 334 (33.40%)\n",
      "  2: 333 (33.30%)\n",
      "\n",
      "\n",
      "=== Split: None (total 1000 baris) ===\n",
      "Baris 0–1000:\n",
      "  0: 334 (33.40%)\n",
      "  1: 333 (33.30%)\n",
      "  2: 333 (33.30%)\n",
      "\n"
     ]
    }
   ],
   "source": [
    "import pandas as pd\n",
    "\n",
    "def distribusi_per_segmen(ds, col=\"_positive_index\", seg_size=1000):\n",
    "    df = ds.to_pandas()\n",
    "    n = len(df)\n",
    "    print(f\"\\n=== Split: {ds.split} (total {n} baris) ===\")\n",
    "    for start in range(0, n, seg_size):\n",
    "        end = min(start + seg_size, n)\n",
    "        counts = df[col].iloc[start:end].value_counts(normalize=True).sort_index()\n",
    "        counts_abs = df[col].iloc[start:end].value_counts().sort_index()\n",
    "        print(f\"Baris {start}–{end}:\")\n",
    "        for idx in sorted(counts_abs.index):\n",
    "            print(f\"  {idx}: {counts_abs[idx]} ({counts[idx]*100:.2f}%)\")\n",
    "        print()\n",
    "\n",
    "# jalankan untuk semua split\n",
    "for split in dataset_splits.keys():\n",
    "    ds = dataset_splits[split]   # biar tampil nama split\n",
    "    distribusi_per_segmen(ds, col=\"_positive_index\", seg_size=1000)\n"
   ]
  },
  {
   "cell_type": "code",
   "execution_count": 43,
   "id": "3116d9d7",
   "metadata": {},
   "outputs": [
    {
     "name": "stderr",
     "output_type": "stream",
     "text": [
      "Creating parquet from Arrow format: 100%|██████████| 11/11 [00:00<00:00, 32.91ba/s]\n",
      "Uploading files as a binary IO buffer is not supported by Xet Storage. Falling back to HTTP upload.\n",
      "Uploading the dataset shards: 100%|██████████| 1/1 [00:06<00:00,  6.45s/it]\n",
      "Creating parquet from Arrow format: 100%|██████████| 1/1 [00:00<00:00, 27.58ba/s]\n",
      "Uploading files as a binary IO buffer is not supported by Xet Storage. Falling back to HTTP upload.\n",
      "Uploading the dataset shards: 100%|██████████| 1/1 [00:02<00:00,  2.67s/it]\n",
      "Creating parquet from Arrow format: 100%|██████████| 1/1 [00:00<00:00, 25.75ba/s]\n",
      "Uploading files as a binary IO buffer is not supported by Xet Storage. Falling back to HTTP upload.\n",
      "Uploading the dataset shards: 100%|██████████| 1/1 [00:03<00:00,  3.08s/it]\n"
     ]
    },
    {
     "data": {
      "text/plain": [
       "CommitInfo(commit_url='https://huggingface.co/datasets/khalidrizki/indonesian-qa-and-info-retrieval/commit/5c6b5f6d86dc33f866cce4bb1f39085547c46cce', commit_message='Upload dataset', commit_description='', oid='5c6b5f6d86dc33f866cce4bb1f39085547c46cce', pr_url=None, repo_url=RepoUrl('https://huggingface.co/datasets/khalidrizki/indonesian-qa-and-info-retrieval', endpoint='https://huggingface.co', repo_type='dataset', repo_id='khalidrizki/indonesian-qa-and-info-retrieval'), pr_revision=None, pr_num=None)"
      ]
     },
     "execution_count": 43,
     "metadata": {},
     "output_type": "execute_result"
    }
   ],
   "source": [
    "dataset_splits.push_to_hub('khalidrizki/indonesian-qa-and-info-retrieval')"
   ]
  }
 ],
 "metadata": {
  "kernelspec": {
   "display_name": "recomp",
   "language": "python",
   "name": "python3"
  },
  "language_info": {
   "codemirror_mode": {
    "name": "ipython",
    "version": 3
   },
   "file_extension": ".py",
   "mimetype": "text/x-python",
   "name": "python",
   "nbconvert_exporter": "python",
   "pygments_lexer": "ipython3",
   "version": "3.12.3"
  }
 },
 "nbformat": 4,
 "nbformat_minor": 5
}
