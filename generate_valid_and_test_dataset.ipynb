{
 "cells": [
  {
   "cell_type": "code",
   "execution_count": 5,
   "metadata": {},
   "outputs": [],
   "source": [
    "from datasets import load_dataset\n",
    "\n",
    "corpus = load_dataset(\"castorini/mr-tydi-corpus\", \"indonesian\", trust_remote_code=True)"
   ]
  },
  {
   "cell_type": "code",
   "execution_count": 1,
   "metadata": {},
   "outputs": [
    {
     "data": {
      "text/plain": [
       "DatasetDict({\n",
       "    train: Dataset({\n",
       "        features: ['query_id', 'query', 'positive_passages', 'negative_passages'],\n",
       "        num_rows: 4902\n",
       "    })\n",
       "    dev: Dataset({\n",
       "        features: ['query_id', 'query', 'positive_passages', 'negative_passages'],\n",
       "        num_rows: 1224\n",
       "    })\n",
       "    test: Dataset({\n",
       "        features: ['query_id', 'query', 'positive_passages', 'negative_passages'],\n",
       "        num_rows: 829\n",
       "    })\n",
       "})"
      ]
     },
     "execution_count": 1,
     "metadata": {},
     "output_type": "execute_result"
    }
   ],
   "source": [
    "from datasets import load_dataset\n",
    "mr_tydi = load_dataset(\"castorini/mr-tydi\", \"indonesian\")\n",
    "mr_tydi"
   ]
  },
  {
   "cell_type": "code",
   "execution_count": 3,
   "metadata": {},
   "outputs": [
    {
     "data": {
      "text/plain": [
       "DatasetDict({\n",
       "    train: Dataset({\n",
       "        features: ['id', 'language', 'document_title', 'passage_text', 'question_text', 'answers'],\n",
       "        num_rows: 5702\n",
       "    })\n",
       "    validation: Dataset({\n",
       "        features: ['id', 'language', 'document_title', 'passage_text', 'question_text', 'answers'],\n",
       "        num_rows: 565\n",
       "    })\n",
       "})"
      ]
     },
     "execution_count": 3,
     "metadata": {},
     "output_type": "execute_result"
    }
   ],
   "source": [
    "tydiqa_gold = load_dataset(\"khalidalt/tydiqa-goldp\", 'indonesian', trust_remote_code=True)\n",
    "tydiqa_gold"
   ]
  },
  {
   "cell_type": "markdown",
   "metadata": {},
   "source": [
    "# EDA"
   ]
  },
  {
   "cell_type": "code",
   "execution_count": 13,
   "metadata": {},
   "outputs": [
    {
     "name": "stdout",
     "output_type": "stream",
     "text": [
      "Split: dev\n",
      "- Semua positive_passages berisi satu elemen: True\n",
      "- Semua negative_passages kosong: True\n",
      "--------------------------------------------------\n",
      "Split: test\n",
      "- Semua positive_passages berisi satu elemen: False\n",
      "- Semua negative_passages kosong: True\n",
      "--------------------------------------------------\n"
     ]
    }
   ],
   "source": [
    "# Mengecek untuk split 'dev' dan 'test'\n",
    "for split in ['dev', 'test']:\n",
    "    # Cek apakah semua positive_passages hanya berisi satu elemen\n",
    "    all_positive_single = all(len(row['positive_passages']) == 1 for row in mr_tydi[split])\n",
    "    \n",
    "    # Cek apakah semua negative_passages kosong\n",
    "    all_negative_empty = all(len(row['negative_passages']) == 0 for row in mr_tydi[split])\n",
    "\n",
    "    print(f\"Split: {split}\")\n",
    "    print(f\"- Semua positive_passages berisi satu elemen: {all_positive_single}\")\n",
    "    print(f\"- Semua negative_passages kosong: {all_negative_empty}\")\n",
    "    print(\"-\" * 50)"
   ]
  },
  {
   "cell_type": "code",
   "execution_count": 5,
   "metadata": {},
   "outputs": [
    {
     "name": "stdout",
     "output_type": "stream",
     "text": [
      "Distribusi jumlah elemen dalam positive_passages pada split 'test':\n",
      "- 706 row memiliki 1 elemen\n",
      "- 114 row memiliki 2 elemen\n",
      "- 9 row memiliki 3 elemen\n"
     ]
    }
   ],
   "source": [
    "from collections import Counter\n",
    "\n",
    "# Hitung jumlah elemen dalam positive_passages untuk setiap row di split 'test'\n",
    "positive_lengths = [len(row['positive_passages']) for row in mr_tydi['test']]\n",
    "\n",
    "# Hitung distribusi jumlah elemen dalam positive_passages\n",
    "length_counts = Counter(positive_lengths)\n",
    "\n",
    "# Tampilkan hasil\n",
    "print(\"Distribusi jumlah elemen dalam positive_passages pada split 'test':\")\n",
    "for length, count in sorted(length_counts.items()):\n",
    "    print(f\"- {count} row memiliki {length} elemen\")"
   ]
  },
  {
   "cell_type": "code",
   "execution_count": 4,
   "metadata": {},
   "outputs": [
    {
     "name": "stdout",
     "output_type": "stream",
     "text": [
      "\n",
      "===== Contoh untuk positive_passages dengan 2 elemen =====\n",
      "\n",
      "Contoh 1:\n",
      "Query: Siapakah yang merumuskan naskah proklamasi ?\n",
      "Positive Passages: [{'docid': '12126#13', 'text': '', 'title': ''}, {'docid': '12126#21', 'text': '', 'title': ''}]\n",
      "\n",
      "Contoh 2:\n",
      "Query: Apakah Learning Management System  memerlukan jaringan internet?\n",
      "Positive Passages: [{'docid': '692014#3', 'text': '', 'title': ''}, {'docid': '692014#13', 'text': '', 'title': ''}]\n",
      "\n",
      "Contoh 3:\n",
      "Query: tahun berapakah Universitas Islam Negeri Sumatera Utara didirikan?\n",
      "Positive Passages: [{'docid': '741127#1', 'text': '', 'title': ''}, {'docid': '741127#3', 'text': '', 'title': ''}]\n",
      "\n",
      "Contoh 4:\n",
      "Query: apakah Václav I mempunyai seorang anak?\n",
      "Positive Passages: [{'docid': '771231#16', 'text': '', 'title': ''}, {'docid': '771231#4', 'text': '', 'title': ''}]\n",
      "\n",
      "Contoh 5:\n",
      "Query: siapakah pendiri Proton?\n",
      "Positive Passages: [{'docid': '29028#0', 'text': '', 'title': ''}, {'docid': '29028#1', 'text': '', 'title': ''}]\n",
      "\n",
      "===== Contoh untuk positive_passages dengan 3 elemen =====\n",
      "\n",
      "Contoh 1:\n",
      "Query: Apakah Perhimpunan Anak adalah nama sebuah organisasi ?\n",
      "Positive Passages: [{'docid': '2620247#0', 'text': '', 'title': ''}, {'docid': '2620247#1', 'text': '', 'title': ''}, {'docid': '2620247#6', 'text': '', 'title': ''}]\n",
      "\n",
      "Contoh 2:\n",
      "Query: Kapan Kalium ditemukan ?\n",
      "Positive Passages: [{'docid': '62199#1', 'text': '', 'title': ''}, {'docid': '62199#5', 'text': '', 'title': ''}, {'docid': '62199#21', 'text': '', 'title': ''}]\n",
      "\n",
      "Contoh 3:\n",
      "Query: Dimanakah sejarah tentang adanya Kerajaan Kandali bisa ditemukan?\n",
      "Positive Passages: [{'docid': '223489#0', 'text': '', 'title': ''}, {'docid': '223489#8', 'text': '', 'title': ''}, {'docid': '223489#5', 'text': '', 'title': ''}]\n",
      "\n",
      "Contoh 4:\n",
      "Query: Dimanakah Pertempuran Badar terjadi ?\n",
      "Positive Passages: [{'docid': '30685#17', 'text': '', 'title': ''}, {'docid': '30685#20', 'text': '', 'title': ''}, {'docid': '30685#13', 'text': '', 'title': ''}]\n",
      "\n",
      "Contoh 5:\n",
      "Query: Siapa yang menggunakan ilmu Pemuliaan tanaman?\n",
      "Positive Passages: [{'docid': '42425#9', 'text': '', 'title': ''}, {'docid': '42425#2', 'text': '', 'title': ''}, {'docid': '42425#30', 'text': '', 'title': ''}]\n"
     ]
    }
   ],
   "source": [
    "from collections import defaultdict\n",
    "\n",
    "# Buat dictionary untuk menyimpan contoh berdasarkan jumlah elemen positive_passages\n",
    "examples_by_length = defaultdict(list)\n",
    "\n",
    "# Loop melalui dataset test untuk mengumpulkan contoh\n",
    "for row in mr_tydi['test']:\n",
    "    length = len(row['positive_passages'])\n",
    "    if len(examples_by_length[length]) < 5:  # Simpan maksimal 5 contoh per kategori\n",
    "        examples_by_length[length].append(row)\n",
    "\n",
    "# Tampilkan contoh\n",
    "for length, examples in sorted(examples_by_length.items()):\n",
    "    if length == 1:\n",
    "        continue\n",
    "    print(f\"\\n===== Contoh untuk positive_passages dengan {length} elemen =====\")\n",
    "    for i, example in enumerate(examples):\n",
    "        print(f\"\\nContoh {i+1}:\")\n",
    "        print(f\"Query: {example['query']}\")\n",
    "        print(f\"Positive Passages: {example['positive_passages']}\")"
   ]
  },
  {
   "cell_type": "markdown",
   "metadata": {},
   "source": [
    "query: Siapakah yang merumuskan naskah proklamasi?"
   ]
  },
  {
   "cell_type": "code",
   "execution_count": 6,
   "metadata": {},
   "outputs": [
    {
     "data": {
      "application/vnd.jupyter.widget-view+json": {
       "model_id": "f0a32eeb191a4ab8b4100fab25dc4021",
       "version_major": 2,
       "version_minor": 0
      },
      "text/plain": [
       "Filter:   0%|          | 0/1469399 [00:00<?, ? examples/s]"
      ]
     },
     "metadata": {},
     "output_type": "display_data"
    },
    {
     "name": "stdout",
     "output_type": "stream",
     "text": [
      "title: ['Proklamasi Kemerdekaan Indonesia']\n",
      "teks: ['Setelah dari rumah Nishimura, Sukarno-Hatta menuju rumah Laksamana Maeda (kini Jalan Imam Bonjol No.1) diiringi oleh Myoshi guna melakukan rapat untuk menyiapkan teks Proklamasi. Setelah menyapa Sukarno-Hatta yang ditinggalkan berdebat dengan Nishimura, Maeda mengundurkan diri menuju kamar tidurnya. Penyusunan teks Proklamasi dilakukan oleh Soekarno, M. Hatta, Achmad Soebardjo dan disaksikan oleh Soekarni, B.M. Diah, Sudiro (Mbah) dan Sayuti Melik. Myoshi yang setengah mabuk duduk di kursi belakang mendengarkan penyusunan teks tersebut tetapi kemudian ada kalimat dari Shigetada Nishijima seolah-olah dia ikut mencampuri penyusunan teks proklamasi dan menyarankan agar pemindahan kekuasaan itu hanya berarti kekuasaan administratif. Tentang hal ini Bung Karno menegaskan bahwa pemindahan kekuasaan itu berarti \"transfer of power\". Bung Hatta, Subardjo, B.M Diah, Sukarni, Sudiro dan Sajuti Malik tidak ada yang membenarkan klaim Nishijima tetapi di beberapa kalangan klaim Nishijima masih didengungkan.']\n"
     ]
    },
    {
     "data": {
      "application/vnd.jupyter.widget-view+json": {
       "model_id": "bf4658effd1f4db4a8662be25a46a7cc",
       "version_major": 2,
       "version_minor": 0
      },
      "text/plain": [
       "Filter:   0%|          | 0/1469399 [00:00<?, ? examples/s]"
      ]
     },
     "metadata": {},
     "output_type": "display_data"
    },
    {
     "name": "stdout",
     "output_type": "stream",
     "text": [
      "title: ['Proklamasi Kemerdekaan Indonesia']\n",
      "teks: ['Adapun yang merumuskan proklamasi Kemerdekaan Bangsa Indonesia terdiri dari Tadashi Maeda, Tomegoro Yoshizumi, S. Nishijima, S. Miyoshi, Mohammad Hatta, Soekarno, dan Achmad Soebardjo[4].']\n"
     ]
    }
   ],
   "source": [
    "filtered_ds = ds[\"train\"].filter(lambda example: example[\"docid\"] == \"12126#13\")\n",
    "print(\"title:\", filtered_ds['title'])\n",
    "print(\"teks:\", filtered_ds['text'])\n",
    "\n",
    "filtered_ds = ds[\"train\"].filter(lambda example: example[\"docid\"] == \"12126#21\")\n",
    "print(\"title:\", filtered_ds['title'])\n",
    "print(\"teks:\", filtered_ds['text'])"
   ]
  },
  {
   "cell_type": "code",
   "execution_count": 14,
   "metadata": {},
   "outputs": [
    {
     "data": {
      "application/vnd.jupyter.widget-view+json": {
       "model_id": "de4107cccec4465b93e9899526b5eb1a",
       "version_major": 2,
       "version_minor": 0
      },
      "text/plain": [
       "Filter:   0%|          | 0/5702 [00:00<?, ? examples/s]"
      ]
     },
     "metadata": {},
     "output_type": "display_data"
    },
    {
     "data": {
      "text/plain": [
       "Dataset({\n",
       "    features: ['id', 'language', 'document_title', 'passage_text', 'question_text', 'answers'],\n",
       "    num_rows: 4889\n",
       "})"
      ]
     },
     "execution_count": 14,
     "metadata": {},
     "output_type": "execute_result"
    }
   ],
   "source": [
    "def filter_short_answers(example):\n",
    "    # Ambil jawaban pertama dari list 'text' (jika ada) dan hitung jumlah katanya\n",
    "    text = example['answers']['text']\n",
    "    if text:  # Pastikan tidak kosong\n",
    "        return len(text[0].split()) <= 10\n",
    "    return False\n",
    "\n",
    "# Filter dataset train untuk mengambil hanya baris dengan key 'text' <= 6 kata\n",
    "filtered_train = tydiqa_gold['train'].filter(filter_short_answers)\n",
    "filtered_train"
   ]
  },
  {
   "cell_type": "code",
   "execution_count": 18,
   "metadata": {},
   "outputs": [
    {
     "data": {
      "application/vnd.jupyter.widget-view+json": {
       "model_id": "2fe94ea08ecb4b72bbf81e8830f9387f",
       "version_major": 2,
       "version_minor": 0
      },
      "text/plain": [
       "Filter:   0%|          | 0/565 [00:00<?, ? examples/s]"
      ]
     },
     "metadata": {},
     "output_type": "display_data"
    },
    {
     "data": {
      "text/plain": [
       "Dataset({\n",
       "    features: ['id', 'language', 'document_title', 'passage_text', 'question_text', 'answers'],\n",
       "    num_rows: 485\n",
       "})"
      ]
     },
     "execution_count": 18,
     "metadata": {},
     "output_type": "execute_result"
    }
   ],
   "source": [
    "filtered_validation = tydiqa_gold['validation'].filter(filter_short_answers)\n",
    "filtered_validation"
   ]
  },
  {
   "cell_type": "code",
   "execution_count": 13,
   "metadata": {},
   "outputs": [
    {
     "data": {
      "image/png": "[encoded data removed]",
      "text/plain": [
       "<Figure size 1000x500 with 1 Axes>"
      ]
     },
     "metadata": {},
     "output_type": "display_data"
    }
   ],
   "source": [
    "import matplotlib.pyplot as plt\n",
    "from collections import Counter\n",
    "\n",
    "# Hitung distribusi panjang jawaban\n",
    "length_counts = Counter(len(row['answers']['text'][0].split()) for row in tydiqa_gold['train'] if row['answers']['text'])\n",
    "\n",
    "# Urutkan berdasarkan panjang kata\n",
    "sorted_lengths = sorted(length_counts.items())\n",
    "\n",
    "# Ekstrak data untuk plotting\n",
    "lengths, counts = zip(*sorted_lengths)\n",
    "\n",
    "# Plot menggunakan Matplotlib\n",
    "plt.figure(figsize=(10, 5))\n",
    "plt.bar(lengths, counts, color='royalblue', alpha=0.7)\n",
    "plt.xlabel(\"Jumlah Kata dalam Answer Text\")\n",
    "plt.ylabel(\"Jumlah Instance\")\n",
    "plt.title(\"Distribusi Panjang Jawaban dalam Dataset\")\n",
    "plt.xticks(range(min(lengths), max(lengths) + 1))  # Menampilkan semua jumlah kata pada sumbu x\n",
    "plt.grid(axis='y', linestyle='--', alpha=0.7)\n",
    "plt.show()"
   ]
  },
  {
   "cell_type": "code",
   "execution_count": 19,
   "metadata": {},
   "outputs": [
    {
     "data": {
      "image/png": "[encoded data removed]",
      "text/plain": [
       "<Figure size 1000x500 with 1 Axes>"
      ]
     },
     "metadata": {},
     "output_type": "display_data"
    }
   ],
   "source": [
    "import matplotlib.pyplot as plt\n",
    "from collections import Counter\n",
    "\n",
    "# Hitung distribusi panjang jawaban\n",
    "length_counts = Counter(len(row['answers']['text'][0].split()) for row in tydiqa_gold['validation'] if row['answers']['text'])\n",
    "\n",
    "# Urutkan berdasarkan panjang kata\n",
    "sorted_lengths = sorted(length_counts.items())\n",
    "\n",
    "# Ekstrak data untuk plotting\n",
    "lengths, counts = zip(*sorted_lengths)\n",
    "\n",
    "# Plot menggunakan Matplotlib\n",
    "plt.figure(figsize=(10, 5))\n",
    "plt.bar(lengths, counts, color='royalblue', alpha=0.7)\n",
    "plt.xlabel(\"Jumlah Kata dalam Answer Text\")\n",
    "plt.ylabel(\"Jumlah Instance\")\n",
    "plt.title(\"Distribusi Panjang Jawaban dalam Dataset\")\n",
    "plt.xticks(range(min(lengths), max(lengths) + 1))  # Menampilkan semua jumlah kata pada sumbu x\n",
    "plt.grid(axis='y', linestyle='--', alpha=0.7)\n",
    "plt.show()"
   ]
  },
  {
   "cell_type": "code",
   "execution_count": 22,
   "metadata": {},
   "outputs": [
    {
     "name": "stdout",
     "output_type": "stream",
     "text": [
      "Jumlah instance dengan jawaban 10 kata: 91\n",
      "\n",
      "Contoh 1:\n",
      "Pertanyaan: Apakah yang dimaksud dengan Generasi Z?\n",
      "Jawaban: orang-orang yang lahir dalam rentang tahun kelahiran 1995 sampai 2014\n",
      "Konteks: Generasi Z adalah generasi setelah Generasi Y, yang didefenisikan sebagai orang-orang yang lahir dalam rentang tahun kelahiran 1995 sampai 2014[1]....\n",
      "--------------------------------------------------------------------------------\n",
      "Contoh 2:\n",
      "Pertanyaan: Apa itu poliester ?\n",
      "Jawaban: kategori polimer yang mengandung gugus fungsional ester dalam rantai utamanya\n",
      "Konteks: \n",
      "\n",
      "Poliester adalah suatu kategori polimer yang mengandung gugus fungsional ester dalam rantai utamanya. Meski terdapat banyak sekali poliester, istilah \"poliester\" merupakan sebagai sebuah bahan yang ...\n",
      "--------------------------------------------------------------------------------\n",
      "Contoh 3:\n",
      "Pertanyaan: Apakah peristiwa terbesar yang pernah terjadi di Pompeii ?\n",
      "Jawaban: gempa bumi yang hebat yang menimbulkan kerusakan yang cukup besar\n",
      "Konteks: Para penduduk Pompeii, seperti mereka yang hidup di daerah itu sekarang, telah lama terbiasa dengan getaran kecil, namun pada 5 Februari 62  terjadi gempa bumi yang hebat yang menimbulkan kerusakan ya...\n",
      "--------------------------------------------------------------------------------\n",
      "Contoh 4:\n",
      "Pertanyaan: Apakah famili Haver?\n",
      "Jawaban: serealia yang cukup penting di daerah beriklim subtropis dan sedang\n",
      "Konteks: Haver (Avena sativa L.), dikenal pula sebagai oat, merupakan serealia yang cukup penting di daerah beriklim subtropis dan sedang. Bulir yang dihasilkannya (disebut haver pula) dimanfaatkan sebagai mak...\n",
      "--------------------------------------------------------------------------------\n",
      "Contoh 5:\n",
      "Pertanyaan: Apakah pengertian sederhana dari DNA ?\n",
      "Jawaban: \"dsr\":[417,424,3,3]}'>n</b>ucleic a</b>cid), adalah sejenis biomolekul yang menyimpan dan menyandi instruksi-instru\n",
      "Konteks: \n",
      "\n",
      "Asam deoksiribonukleat, lebih dikenal dengan singkatan DNA (bahasa Inggris: d</b>eoxyribo<b data-parsoid='{\"dsr\":[417,424,3,3]}'>n</b>ucleic a</b>cid), adalah sejenis biomolekul yang menyimpan dan m...\n",
      "--------------------------------------------------------------------------------\n"
     ]
    }
   ],
   "source": [
    "# Filter instance yang panjang jawabannya adalah 10 kata\n",
    "instances_10_words = [row for row in tydiqa_gold['train'] if len(row['answers']['text'][0].split()) == 10]\n",
    "\n",
    "# Tampilkan beberapa contoh\n",
    "print(f\"Jumlah instance dengan jawaban 10 kata: {len(instances_10_words)}\\n\")\n",
    "\n",
    "for i, example in enumerate(instances_10_words[:5]):  # Ambil 5 contoh pertama\n",
    "    print(f\"Contoh {i+1}:\")\n",
    "    print(f\"Pertanyaan: {example['question_text']}\")\n",
    "    print(f\"Jawaban: {example['answers']['text'][0]}\")\n",
    "    print(f\"Konteks: {example['passage_text'][:200]}...\")  # Hanya tampilkan sebagian konteks untuk ringkas\n",
    "    print(\"-\" * 80)\n"
   ]
  },
  {
   "cell_type": "code",
   "execution_count": 24,
   "metadata": {},
   "outputs": [
    {
     "data": {
      "text/plain": [
       "{'query_id': '0',\n",
       " 'query': 'dimanakah  Dr. Ernest François Eugène Douwes Dekker meninggal?',\n",
       " 'positive_passages': [{'docid': '7080#33',\n",
       "   'text': 'Ernest Douwes Dekker wafat dini hari tanggal 28 Agustus 1950 (tertulis di batu nisannya; 29 Agustus 1950 versi van der Veur, 2006) dan dimakamkan di TMP Cikutra, Bandung.',\n",
       "   'title': 'Ernest Douwes Dekker'}],\n",
       " 'negative_passages': [{'docid': '7074#0',\n",
       "   'text': 'dr. Tjipto Mangoenkoesoemo (EYD: Cipto Mangunkusumo) (Pecangaan, Jepara, Jawa Tengah, 1886 – Jakarta, 8 Maret 1943) adalah seorang tokoh pergerakan kemerdekaan Indonesia. Bersama dengan Ernest Douwes Dekker dan Ki Hajar Dewantara ia dikenal sebagai \"Tiga Serangkai\" yang banyak menyebarluaskan ide pemerintahan sendiri dan kritis terhadap pemerintahan penjajahan Hindia Belanda. Ia adalah tokoh dalam Indische Partij, suatu organisasi politik yang pertama kali mencetuskan ide pemerintahan sendiri di tangan penduduk setempat, bukan oleh Belanda. Pada tahun 1913 ia dan kedua rekannya diasingkan oleh pemerintah kolonial ke Belanda akibat tulisan dan aktivitas politiknya, dan baru kembali 1917.',\n",
       "   'title': 'Tjipto Mangoenkoesoemo'},\n",
       "  {'docid': '425142#0',\n",
       "   'text': 'Olaf Douwes Dekker () adalah penyair dan wartawan Belanda. Kakek moyangnya yang ke-4, Jan, adalah saudara dari penulis Eduard Douwes Dekker, terkenal sebagai Multatuli. Wartawan, penulis, dan aktivis politik Ernest Douwes Dekker adalah saudara kakeknya.',\n",
       "   'title': 'Olaf Douwes Dekker'},\n",
       "  {'docid': '44227#4',\n",
       "   'text': 'Selain itu juga disadari betapa pun baiknya usaha yang dibangun oleh orang Indonesia, tidak akan mendapat tanggapan rakyat tanpa adanya bantuan orang-orang bumiputera. Perlu diketahui bahwa E.F.E. Douwes Dekker dilahirkan dari keturunan campuran, ayah Belanda, ibu seorang Indonesia. Indische Partij merupakan satu-satunya organisasi pergerakan yang secara terang-terangan bergerak di bidang politik dan ingin mencapai Indonesia merdeka. Tujuan Indische Partij adalah untuk membangunkan patriotisme semua indiers terhadap tanah air. IP menggunakan media majalah \"Het Tijdschrifc\" dan surat kabar \"De Expres\" pimpinan E.F.E Douwes Dekker sebagai sarana untuk membangkitkan rasa kebangsaan dan cinta tanah air. Tujuan dari partai ini benar-benar revolusioner karena mau mendobrak kenyataan politik rasial yang dilakukan pemerintah kolonial. Tindakan ini terlihat nyata pada tahun 1913. Saat itu pemerintah Belanda akan mengadakan peringatan 100 tahun bebasnya Belanda dari tangan Napoleon Bonaparte (Perancis). Perayaan ini direncanakan diperingati juga oleh pemerintah Hindia Belanda. Adalah suatu yang kurang pas di mana suatu negara penjajah melakukan upacara peringatan pembebasan dari penjajah pada suatu bangsa yang dia sebagai penjajahnya. Hal yang ironis ini mendatangkan cemoohan termasuk dari para pemimpin Indische Partij. R.M. Suwardi Suryaningrat menulis artikel bernada sarkastis yang berjudul \"Als ik een Nederlander was\" (Andaikan aku seorang Belanda). Akibat dari tulisan itu R.M. Suwardi Suryaningrat ditangkap. Menyusul sarkasme dari Dr. Cipto Mangunkusumo yang dimuat dalam \"De Expres\" tanggal 26 Juli 1913 yang diberi judul \"Kracht of Vrees?\", berisi tentang kekhawatiran, kekuatan, dan ketakutan. Dr. Tjipto pun ditangkap, yang membuat rekan dalam Tiga Serangkai, Douwes Dekker mengkritik dalam tulisan di De Express tanggal 5 Agustus 1913 yang berjudul \"Onze Helden: Tjipto Mangoenkoesoemo en Soewardi Soerjaningrat\" (Pahlawan kita: Tjipto Mangoenkoesoemo dan Soewardi Soerjaningrat). Kecaman-kecaman yang menentang pemerintah Belanda menyebabkan ketiga tokoh dari Indische Partij ditangkap. Pada tahun 1913 mereka diasingkan ke Belanda. Douwes Dekker dibuang ke Kupang, NTT sedangkan Dr. Cipto Mangunkusumo dibuang ke Pulau Banda. Namun pada tahun 1914 Cipto Mangunkusumo dikembalikan ke Indonesia karena sakit. Sedangkan Suwardi Suryaningrat dan E.F.E. Douwes Dekker baru kembali ke Indonesia pada tahun 1919. Suwardi Suryaningrat terjun dalam dunia pendidikan, dikenal sebagai Ki Hajar Dewantara, mendirikan perguruan Taman Siswa. E.F.E Douwes Dekker juga mengabdikan diri dalam dunia pendidikan dan mendirikan yayasan pendidikan Ksatrian Institute di Sukabumi pada tahun 1940. Dalam perkembangannya, E.F.E Douwes Dekker ditangkap lagi dan dibuang ke Suriname, Amerika Selatan.',\n",
       "   'title': 'National Indische Partij'},\n",
       "  {'docid': '20439#25',\n",
       "   'text': 'Eduard Douwes Dekker kemudian pindah ke Ingelheim am Rhein dekat Sungai Rhein sampai akhirnya meninggal 19 Februari 1887.',\n",
       "   'title': 'Eduard Douwes Dekker'},\n",
       "  {'docid': '7080#1',\n",
       "   'text': 'Ia adalah salah seorang peletak dasar nasionalisme Indonesia di awal abad ke-20, penulis yang kritis terhadap kebijakan pemerintah penjajahan Hindia Belanda, wartawan, aktivis politik, serta penggagas nama \"Nusantara\" sebagai nama untuk Hindia Belanda yang merdeka. Setiabudi adalah salah satu dari \"Tiga Serangkai\" pejuang pergerakan kemerdekaan Indonesia, selain dr. Tjipto Mangoenkoesoemo dan Suwardi Suryaningrat.',\n",
       "   'title': 'Ernest Douwes Dekker'},\n",
       "  {'docid': '7080#38',\n",
       "   'text': 'Kategori:Pahlawan nasional Indonesia Kategori:Orang Indo Kategori:Menteri Kabinet Sjahrir III Kategori:Tokoh dari Pasuruan Kategori:Tokoh yang berpindah agama ke Islam Kategori:Tokoh Orde Lama',\n",
       "   'title': 'Ernest Douwes Dekker'},\n",
       "  {'docid': '7080#37',\n",
       "   'text': 'Italic or bold markup not allowed in: |publisher= (help)',\n",
       "   'title': 'Ernest Douwes Dekker'},\n",
       "  {'docid': '7080#5',\n",
       "   'text': 'Sewaktu Douwes Dekker \"kabur\" dari Suriname dan menetap sebentar di Belanda (1946), ia menjadi dekat dengan perawat yang mengasuhnya, Nelly Alberta Geertzema née Kruymel, seorang Indo yang berstatus janda beranak satu. Nelly kemudian menemani Douwes Dekker yang menggunakan nama samaran pulang ke Indonesia agar tidak ditangkap intelijen Belanda. Mengetahui bahwa Johanna telah menikah dengan Djafar, Douwes Dekker tidak lama kemudian menikahi Nelly, pada tahun 1947. Douwes Dekker kemudian menggunakan nama Danoedirdja Setiabuddhi dan Nelly menggunakan nama Haroemi Wanasita, nama-nama yang diusulkan oleh Sukarno. Sepeninggal Douwes Dekker, Haroemi menikah dengan Wayne E. Evans pada tahun 1964 dan kini tinggal di Amerika Serikat.',\n",
       "   'title': 'Ernest Douwes Dekker'},\n",
       "  {'docid': '7080#4',\n",
       "   'text': 'Kemudian Douwes Dekker menikah lagi dengan Johanna Petronella Mossel (1905-1978), seorang Indo keturunan Yahudi, pada tahun 1927. Johanna adalah guru yang banyak membantu kegiatan kesekretariatan Ksatrian Instituut, sekolah yang didirikan Douwes Dekker. Dari perkawinan ini mereka tidak dikaruniai anak. Di saat Douwes Dekker dibuang ke Suriname pada tahun 1941 pasangan ini harus berpisah, dan di kala itu kemudian Johanna menikah dengan Djafar Kartodiredjo, yang juga merupakan seorang Indo (sebelumnya dikenal sebagai Arthur Kolmus), tanpa perceraian resmi terlebih dahulu. Tidak jelas apakah Douwes Dekker mengetahui pernikahan ini karena ia selama dalam pengasingan tetap berkirim surat namun tidak dibalas.',\n",
       "   'title': 'Ernest Douwes Dekker'},\n",
       "  {'docid': '441326#2',\n",
       "   'text': 'Pahlawan nasional Indonesia, Ernest Douwes Dekker, adalah alumnus universitas ini.',\n",
       "   'title': 'Universitas Zürich'},\n",
       "  {'docid': '7080#36',\n",
       "   'text': 'Daftar tokoh Indonesia Daftar tokoh Eropa-Indonesia',\n",
       "   'title': 'Ernest Douwes Dekker'},\n",
       "  {'docid': '7080#0',\n",
       "   'text': 'Dr. Ernest François Eugène Douwes Dekker (umumnya dikenal dengan nama Douwes Dekker atau Danudirja Setiabudi; ) adalah seorang pejuang kemerdekaan dan pahlawan nasional Indonesia.',\n",
       "   'title': 'Ernest Douwes Dekker'},\n",
       "  {'docid': '7080#17',\n",
       "   'text': 'jmpl|200px|Universitas Zurich, tempat Ernest Douwes Dekker menempuh pendidikan tingginya. Masa di Eropa dimanfaatkan oleh Nes untuk mengambil program doktor di Universitas Zürich, Swiss, dalam bidang ekonomi. Di sini ia tinggal bersama-sama keluarganya. Gelar doktor diperoleh secara agak kontroversial dan dengan nilai \"serendah-rendahnya\", menurut istilah salah satu pengujinya. Karena di Swis ia terlibat konspirasi dengan kaum revolusioner India, ia ditangkap di Hong Kong dan diadili, kemudian ia ditahan di Singapura (1918). Setelah dua tahun dipenjara, ia pulang ke Hindia Belanda 1920.',\n",
       "   'title': 'Ernest Douwes Dekker'},\n",
       "  {'docid': '7074#17',\n",
       "   'text': 'Pada tahun 1912 Cipto pindah dari Solo ke Bandung, dengan dalih agar dekat dengan Douwes Dekker. Ia kemudian menjadi anggota redaksi penerbitan harian de Express dan majalah het Tijdschrijft. Perkenalan antara Cipto dan Douwes Dekker yang sehaluan itu sebenarnya telah dijalin ketika Douwes Dekker bekerja pada Bataviaasch Nieuwsblad. Douwes Dekker sering berhubungan dengan murid-murid STOVIA.',\n",
       "   'title': 'Tjipto Mangoenkoesoemo'},\n",
       "  {'docid': '7074#16',\n",
       "   'text': 'Setelah mengundurkan diri dari Budi Utomo, Cipto membuka praktik dokter di Solo. Meskipun demikian, Cipto tidak meninggalkan dunia politik sama sekali. Di sela-sela kesibukan nya melayani pasien nya, Cipto mendirikan Raden Ajeng Kartini Klub yang bertujuan memperbaiki nasib rakyat. Perhatiannya pada politik semakin menjadi-jadi setelah dia bertemu dengan Douwes Dekker yang tengah berpropaganda untuk mendirikan Indische Partij. Cipto melihat Douwes Dekker sebagai kawan seperjuangan. Kerja sama dengan Douwes Dekker telah memberinya kesempatan untuk melaksanakan cita-citanya, yakni gerakan politik bagi seluruh rakyat Hindia Belanda. Bagi Cipto Indische Partij merupakan upaya mulia mewakili kepentingan-kepentingan semua penduduk Hindia Belanda, tidak memandang suku, golongan, dan agama.',\n",
       "   'title': 'Tjipto Mangoenkoesoemo'},\n",
       "  {'docid': '7080#6',\n",
       "   'text': 'Walaupun mencintai anak-anaknya, Douwes Dekker tampaknya terlalu berfokus pada perjuangan idealismenya sehingga perhatian pada keluarga agak kurang dalam. Ia pernah berkata kepada kakak perempuannya, Adelin, kalau yang ia perjuangkan adalah untuk memberi masa depan yang baik kepada anak-anaknya di Hindia kelak yang merdeka. Pada kenyataannya, semua anaknya meninggalkan Indonesia menuju ke Belanda ketika Jepang masuk. Demikian pula semua saudaranya, tidak ada yang memilih menjadi warga negara Indonesia.',\n",
       "   'title': 'Ernest Douwes Dekker'},\n",
       "  {'docid': '447388#1',\n",
       "   'text': 'E.F.E. Douwes Dekker, bekas pemimpin \"Indische Partij\", setelah pulang dari pengasingan di Belanda tahun 1922 kemudian berusaha untuk melamar sebagai guru pada sekolah rendah partikelir pimpinan Ny. H.E. Mayer-Elenbaas di Jln. Kebon Kelapa No. 17, Bandung. Hal tersebut dilaporkan oleh Residen Priangan kepada Gubernur Jenderal saat itu, Mr. Dr. Dirk Fock, dimana salah satu keberatannya ialah karena suami Ny. Mayer tercatat seorang komunis. Namun Gubernur Jenderal mengatakan bahwa \"lebih baik kepada orang-orang yang sedang gelisah seperti Douwes Dekker diberi kesempatan kerja tetap bagi penghidupannya daripada ia, karena dihalangi kesempatannya, akan lebih condong untuk rakyat\". Douwes Dekker kemudian mulai mengajar di sana sejak September 1922.',\n",
       "   'title': 'Ksatrian Instituut'},\n",
       "  {'docid': '7080#3',\n",
       "   'text': 'Douwes Dekker menikah dengan Clara Charlotte Deije (1885-1968), anak dokter campuran Jerman-Belanda pada tahun 1903, dan mendapat lima anak, namun dua di antaranya meninggal sewaktu bayi (keduanya laki-laki). Yang bertahan hidup semuanya perempuan. Perkawinan ini kandas pada tahun 1919 dan keduanya bercerai.',\n",
       "   'title': 'Ernest Douwes Dekker'},\n",
       "  {'docid': '7080#2',\n",
       "   'text': 'Douwes Dekker terlahir di Pasuruan, Jawa Timur, pada tanggal 8 Oktober 1879, sebagaimana yang dia tulis pada riwayat hidup singkat saat mendaftar di Universitas Zurich, September 1913. Ayahnya, Auguste Henri Edoeard Douwes Dekker, adalah seorang agen di bank kelas kakap Nederlandsch Indisch Escomptobank. Auguste ayahnya, memiliki darah Belanda dari ayahnya, Jan (adik Eduard Douwes Dekker) dan dari ibunya, Louise Bousquet. Sementara itu, ibu Douwes Dekker, Louisa Neumann, lahir di Pekalongan, Jawa Tengah, dari pasangan Jerman-Jawa.[1] Dia terlahir sebagai anak ke-3 dari 4 bersaudara, dan keluarganya pun sering berpindah-pindah. Saudaranya yang perempuan dan laki-laki, yakni Adeline (1876) dan Julius (1878) terlahir sewaktu keluarga Dekker berada di Surabaya, dan adik laki-lakinya lahir di Meester Cornelis, Batavia (sekarang Jatinegara, Jakarta Timur pada tahun 1883. Dari situ, keluarga Dekker berpindah lagi ke Pegangsaan, Jakarta Pusat.[1]',\n",
       "   'title': 'Ernest Douwes Dekker'},\n",
       "  {'docid': '1780350#5',\n",
       "   'text': 'Dalam dunia politik ia berguru kepada Dr. Ernest François Eugène Douwes Dekker, bersama Darnasukumah, Bakri Suraatmaja, dan Gatot Mangkupraja di Bandung. Pada tahun 1949-1950 ia mulai berkiprah di Dewan Perwakilan Rakyat Kota Bandung. Ema, dalam pandangan politiknya, (1) ingin memajukan bangsanya karena cinta akan tanah air yang dimulai dan diutamakan dari tingkat bawah berdasarkan kebudayaan (suku bangsa dan daerah: Sunda), (2) ingin memerdekakan bangsanya dari belenggu penjajahan melalui persiapan rakyat harus berani bertarung secara individual dan atau kelompok, (3) bentuk negara yang sesuai bagi Indonesia merdeka adalah federasi atau otonomi yang luas, karena sesuai dengan kodrat masyarakat dan geografi Indonesia. Untuk mencapai pandangan tersebut ditempuhlah program pendidikan, pers, dan pencak. Meskipun demikian, jiwa ke-jurnalistik-annya pun masih tetap membara, pada tahun 1956 bersama Sutisna Senjaya, Supyan Iskandar, dan Otong Kosasih, ia mendirikan surat kabar Kalawarta Kujang. Media ini didirikan demi menunjang perjuangan Sunda dan Partai Gerakan Pilihan Sunda pada saat itu.',\n",
       "   'title': 'Ema Bratakusumah'},\n",
       "  {'docid': '80082#5',\n",
       "   'text': 'Pada usia 17 tahun, Burhanuddin berangkat ke Jakarta dan belajar di Ksatriaan Instituut (sekarang Sekolah Ksatrian) yang dipimpin oleh Dr. E.E. Douwes Dekker. Burhanuddin memilih jurusan jurnalistik, namun ia banyak belajar tentang dunia kewartawanan dari pribadi Douwes Dekker.',\n",
       "   'title': 'B.M. Diah'},\n",
       "  {'docid': '339098#0',\n",
       "   'text': 'Johanna Petronella Mossel (Batavia, 1904-1978) adalah seorang guru dari kalangan Indo yang menjadi istri kedua Ernest Douwes Dekker (DD). Ia lahir dari keluarga Belanda keturunan Yahudi.',\n",
       "   'title': 'Johanna Petronella Mossel'},\n",
       "  {'docid': '7080#35',\n",
       "   'text': 'Di Belanda, nama DD juga dihormati sebagai orang yang berjasa dalam meluruskan arah kolonialisme (meskipun hampir sepanjang hidupnya ia berseberangan posisi politik dengan pemerintah kolonial Belanda; bahkan dituduh \"pengkhianat\").',\n",
       "   'title': 'Ernest Douwes Dekker'},\n",
       "  {'docid': '605469#1',\n",
       "   'text': 'Ernest Douwes Dekker, pahlawan nasional Indonesia, pernah terlibat dalam perang ini di pihak Republik Transvaal.',\n",
       "   'title': 'Perang Boer Kedua'},\n",
       "  {'docid': '132274#44',\n",
       "   'text': 'Ini dalah suatu infiltrasi yang amat efektif dan merupakan jasa pertama dari Dr. E.F.E. douwes Dekker (alias Danudirdja Setiabudhi), seorang kerabat jauh E. Douwes Dekker (Multatuli).',\n",
       "   'title': 'Soerjopranoto'},\n",
       "  {'docid': '378455#3',\n",
       "   'text': 'Tokoh Nasional Indonesia Ernest Douwes Dekker pernah berpartisipasi dalam perang ini di kubu Republik Transvaal.',\n",
       "   'title': 'Perang Boer'},\n",
       "  {'docid': '7080#22',\n",
       "   'text': 'Sekeluarnya dari tahanan dan rentetan pengadilan, DD cenderung meninggalkan kegiatan jurnalistik dan menyibukkan diri dalam penulisan sejumlah buku semi-ilmiah dan melakukan penangkaran anjing gembala Jerman dan aktif dalam organisasinya. Prestasinya cukup mengesankan, karena salah satu anjingnya memenangi kontes dan bahkan mampu menjawab beberapa pertanyaan berhitung dan menjawab beberapa pertanyaan tertulis.',\n",
       "   'title': 'Ernest Douwes Dekker'},\n",
       "  {'docid': '1892023#3',\n",
       "   'text': 'Pada tahun 1912, ketika itu di Bandung berdiri organisasi kebangsaan pertama di Indonesia yakni National Indische Partij dengan tokoh-tokohnya: Dr. Ernest Douwes Dekker (Danudirja Setiabudi), Dr. Cipto Mangunkusumo, dan Dr. Suwardi Suryaningrat (Ki Hadjar Dewantara).\\nKarena organisasi ini dianggap membahayakan kelanggengan kolonialisme Belanda, pada tahun 1913 para tokoh tersebut dibuang ke negeri Belanda. Pada tahun 1918, terjadi Perang Dunia I, mereka bebas dan kembali ke Indonesia. Pada tanggal 12 November 1924, Dr. Danudirja Setiabudi di Kota Bandung mendirikan lembaga pendidikan berwawasan kebangsaan Indonesia namanya Ksatrian Institute.',\n",
       "   'title': 'SMP Negeri 1 Bandung'},\n",
       "  {'docid': '20439#1',\n",
       "   'text': 'Eduard memiliki saudara bernama Jan yang adalah kakek dari tokoh pergerakan kemerdekaan Indonesia, Ernest Douwes Dekker yang dikenal pula dengan nama Danudirja Setiabudi.',\n",
       "   'title': 'Eduard Douwes Dekker'}]}"
      ]
     },
     "execution_count": 24,
     "metadata": {},
     "output_type": "execute_result"
    }
   ],
   "source": [
    "mr_tydi['train'][0]"
   ]
  },
  {
   "cell_type": "code",
   "execution_count": 23,
   "metadata": {},
   "outputs": [
    {
     "data": {
      "text/plain": [
       "{'query_id': '3',\n",
       " 'query': 'Dimana James Hepburn meninggal?',\n",
       " 'positive_passages': [{'docid': '2386357#15', 'text': '', 'title': ''}],\n",
       " 'negative_passages': []}"
      ]
     },
     "execution_count": 23,
     "metadata": {},
     "output_type": "execute_result"
    }
   ],
   "source": [
    "mr_tydi['dev'][0]"
   ]
  },
  {
   "cell_type": "markdown",
   "metadata": {},
   "source": [
    "# Generate data Mr Tydi"
   ]
  },
  {
   "cell_type": "markdown",
   "metadata": {},
   "source": [
    "## Isi title dan text dari split dev dan test"
   ]
  },
  {
   "cell_type": "code",
   "execution_count": 5,
   "metadata": {},
   "outputs": [
    {
     "data": {
      "application/vnd.jupyter.widget-view+json": {
       "model_id": "5e758070ff7b4558a8eb89d9fe09c37b",
       "version_major": 2,
       "version_minor": 0
      },
      "text/plain": [
       "Map:   0%|          | 0/1224 [00:00<?, ? examples/s]"
      ]
     },
     "metadata": {},
     "output_type": "display_data"
    },
    {
     "data": {
      "application/vnd.jupyter.widget-view+json": {
       "model_id": "c917a378f7b7407799ba2eaff0ea6c0d",
       "version_major": 2,
       "version_minor": 0
      },
      "text/plain": [
       "Map:   0%|          | 0/829 [00:00<?, ? examples/s]"
      ]
     },
     "metadata": {},
     "output_type": "display_data"
    },
    {
     "data": {
      "text/plain": [
       "{'query_id': '3',\n",
       " 'query': 'Dimana James Hepburn meninggal?',\n",
       " 'positive_passages': [{'docid': '2386357#15',\n",
       "   'text': 'Dia dipenjarakan di Puri Dragsholm, 75 kilometer Kopenhagen. Dia ditahan dalam apa yang dikatakan sebagai kondisi yang mengerikan. Dia meninggal pada bulan April 1578.[8][10]',\n",
       "   'title': 'James Hepburn'}],\n",
       " 'negative_passages': [{'docid': '2386357#0',\n",
       "   'text': 'James Hepburn (skt. 1534– 14 April 1578), Adipati Orkney pertama dan Earl Bothwell keempat (lebih dikenal sebagai Lord Bothwell), adalah seorang bangsawan terkemuka asal Skotlandia. Dia terkenal karena hubungannya dengan, penculikan, dan pernikahan dengan Maria, Ratu Skotlandia, sebagai suami ketiga dan terakhirnya. Dia dituduh membunuh suami kedua Maria, Henry Stuart, Lord Darnley, yang tuduhannya dibebaskan. Pernikahannya dengan Maria kontroversial dan membagi negara; ketika dia melarikan diri dari pemberontakan yang sedang tumbuh ke Skandinavia dia ditangkap di Norwegia dan menjalani sisa hidupnya dipenjara di Denmark.',\n",
       "   'title': 'James Hepburn'},\n",
       "  {'docid': '120802#4',\n",
       "   'text': 'James wafat di Rumah Sakit Bhakti Yudha, Depok, hari Senin dini hari tanggal 21 Oktober 2013. Setelah diberkati dalam misa requiem di rumahnya, jenazahnya dimakamkan di Kalimulya, Cilodong pada pukul 14 siang.',\n",
       "   'title': 'James Danandjaja'},\n",
       "  {'docid': '77689#49',\n",
       "   'text': 'James dimakamkan di Westminster Abbey. Posisi makam itu hilang selama bertahun-tahun sampai peti jenazahnya ditemukan di kubah Henry VII pada abad ke-19, selama penggalian.',\n",
       "   'title': 'James Charles Stuart'},\n",
       "  {'docid': '115796#0',\n",
       "   'text': 'James Curtis Hepburn, MD, LL.D. () adalah seorang dokter, penerjemah, pengajar dan misionaris Kristen. Ia dikenal dengan membuat sistem Alih aksara Hepburn untuk alih aksara dari bahasa Jepang ke huruf Latin, yang dipopulerkan dalam kamus bahasa Jepang-Inggris miliknya.',\n",
       "   'title': 'James Curtis Hepburn'}]}"
      ]
     },
     "execution_count": 5,
     "metadata": {},
     "output_type": "execute_result"
    }
   ],
   "source": [
    "from datasets import load_dataset\n",
    "\n",
    "# Load dataset corpus (sumber teks dan title)\n",
    "corpus = load_dataset(\"castorini/mr-tydi-corpus\", \"indonesian\", trust_remote_code=True)\n",
    "\n",
    "# Buat dictionary {docid: (title, text)} untuk pencarian cepat\n",
    "corpus_dict = {row[\"docid\"]: (row[\"title\"], row[\"text\"]) for row in corpus[\"train\"]}\n",
    "\n",
    "# Fungsi untuk melengkapi positive_passages dalam dataset mr_tydi\n",
    "def fill_passage_info(example):\n",
    "    for passage in example[\"positive_passages\"]:\n",
    "        docid = passage[\"docid\"]\n",
    "        if docid in corpus_dict:  # Cek apakah docid ada di corpus\n",
    "            passage[\"title\"], passage[\"text\"] = corpus_dict[docid]\n",
    "    \n",
    "    return example\n",
    "\n",
    "# Terapkan fungsi untuk melengkapi positive_passages di split 'dev' dan 'test'\n",
    "mr_tydi[\"dev\"] = mr_tydi[\"dev\"].map(fill_passage_info)\n",
    "mr_tydi[\"test\"] = mr_tydi[\"test\"].map(fill_passage_info)\n",
    "\n",
    "# Cek hasilnya\n",
    "mr_tydi[\"dev\"][0]\n",
    "# print(mr_tydi[\"test\"][0])  # Contoh setelah pengisian"
   ]
  },
  {
   "cell_type": "markdown",
   "metadata": {},
   "source": [
    "## Ambil 2 passage untuk negative_passages khusus split dev dan test"
   ]
  },
  {
   "cell_type": "markdown",
   "metadata": {},
   "source": [
    "#### Versi 3: Pakai FAISS"
   ]
  },
  {
   "cell_type": "code",
   "execution_count": null,
   "metadata": {},
   "outputs": [],
   "source": [
    "import faiss\n",
    "import numpy as np\n",
    "import torch.nn.functional as F\n",
    "import torch\n",
    "from torch import Tensor\n",
    "from tqdm import tqdm\n",
    "import gc\n",
    "import os\n",
    "from datasets import load_dataset\n",
    "from transformers import AutoTokenizer, AutoModel\n",
    "\n",
    "# Load tokenizer & model untuk Multilingual-E5-Base\n",
    "model_name = \"intfloat/multilingual-e5-base\"\n",
    "embedding_tokenizer = AutoTokenizer.from_pretrained(model_name)\n",
    "embedding_model = AutoModel.from_pretrained(model_name).to(\"cuda:0\")\n",
    "\n",
    "# Fungsi average pooling\n",
    "def average_pool(last_hidden_states: Tensor, attention_mask: Tensor) -> Tensor:\n",
    "    last_hidden = last_hidden_states.masked_fill(~attention_mask[..., None].bool(), 0.0)\n",
    "    return last_hidden.sum(dim=1) / attention_mask.sum(dim=1)[..., None]\n",
    "\n",
    "from datasets import load_dataset\n",
    "\n",
    "# Load dataset MR-TyDi dan Corpus\n",
    "mr_tydi = load_dataset(\"castorini/mr-tydi\", \"indonesian\", trust_remote_code=True)\n",
    "corpus = load_dataset(\"castorini/mr-tydi-corpus\", \"indonesian\", trust_remote_code=True)"
   ]
  },
  {
   "cell_type": "code",
   "execution_count": 2,
   "metadata": {},
   "outputs": [],
   "source": [
    "corpus_dict = {row[\"docid\"]: (row[\"title\"], row[\"text\"]) for row in corpus[\"train\"]}\n",
    "corpus_docids = list(corpus_dict.keys())\n",
    "corpus_texts = [corpus_dict[docid][1] for docid in corpus_docids]  # Ambil teksnya saja\n",
    "\n",
    "import faiss\n",
    "# Load FAISS Index\n",
    "index = faiss.read_index(\"generated_data/faiss_index.idx\")"
   ]
  },
  {
   "cell_type": "code",
   "execution_count": null,
   "metadata": {},
   "outputs": [],
   "source": [
    "import faiss\n",
    "import numpy as np\n",
    "import torch.nn.functional as F\n",
    "import torch\n",
    "from torch import Tensor\n",
    "from tqdm import tqdm\n",
    "import gc\n",
    "import os\n",
    "from datasets import load_dataset\n",
    "\n",
    "# Load dataset MR-TyDi dan Corpus\n",
    "mr_tydi = load_dataset(\"castorini/mr-tydi\", \"indonesian\", trust_remote_code=True)\n",
    "corpus = load_dataset(\"castorini/mr-tydi-corpus\", \"indonesian\", trust_remote_code=True)\n",
    "\n",
    "# Pastikan folder 'generated_data/' ada untuk menyimpan dataset berkala\n",
    "os.makedirs(\"generated_data\", exist_ok=True)\n",
    "\n",
    "# Buat dictionary {docid: (title, text)} untuk lookup cepat dari corpus\n",
    "corpus_dict = {row[\"docid\"]: (row[\"title\"], row[\"text\"]) for row in corpus[\"train\"]}\n",
    "\n",
    "# Ambil semua dokumen text dari corpus untuk dijadikan embedding\n",
    "corpus_docids = list(corpus_dict.keys())\n",
    "corpus_texts = [corpus_dict[docid][1] for docid in corpus_docids]  # Ambil teksnya saja\n",
    "\n",
    "# Tokenisasi dan embedding seluruh corpus (hanya dilakukan sekali untuk efisiensi)\n",
    "batch_size = 128  # Sesuaikan dengan VRAM yang tersedia\n",
    "corpus_embeddings = []\n",
    "\n",
    "for start_idx in tqdm(range(0, len(corpus_texts), batch_size), desc=\"Encoding Corpus\"):\n",
    "    end_idx = min(start_idx + batch_size, len(corpus_texts))\n",
    "    batch_texts = corpus_texts[start_idx:end_idx]\n",
    "\n",
    "    batch_dict = embedding_tokenizer(batch_texts, max_length=512, padding=True, truncation=True, return_tensors='pt')\n",
    "    batch_dict = {k: v.to(\"cuda:0\") for k, v in batch_dict.items()}\n",
    "\n",
    "    with torch.no_grad():\n",
    "        outputs = embedding_model(**batch_dict)\n",
    "\n",
    "    embeddings = average_pool(outputs.last_hidden_state, batch_dict['attention_mask'])\n",
    "    embeddings = F.normalize(embeddings, p=2, dim=1)  # Normalisasi untuk cosine similarity\n",
    "    corpus_embeddings.append(embeddings.to(torch.float32).cpu())  # Pastikan float32 dan tetap di CPU\n",
    "\n",
    "# Gabungkan semua embedding menjadi satu tensor besar\n",
    "corpus_embeddings = torch.cat(corpus_embeddings, dim=0).numpy().astype(np.float32)  # Konversi ke NumPy\n",
    "\n",
    "# Buat FAISS index untuk pencarian similarity\n",
    "index = faiss.IndexFlatIP(corpus_embeddings.shape[1])  # IP = Inner Product (Cosine Similarity)\n",
    "index.add(corpus_embeddings)  # Tambahkan corpus embeddings ke FAISS\n"
   ]
  },
  {
   "cell_type": "code",
   "execution_count": 3,
   "metadata": {},
   "outputs": [
    {
     "data": {
      "application/vnd.jupyter.widget-view+json": {
       "model_id": "92f4e0ad1b4445bc9d8cd4f3a65a31b6",
       "version_major": 2,
       "version_minor": 0
      },
      "text/plain": [
       "Map:   0%|          | 0/1224 [00:00<?, ? examples/s]"
      ]
     },
     "metadata": {},
     "output_type": "display_data"
    },
    {
     "data": {
      "application/vnd.jupyter.widget-view+json": {
       "model_id": "18234c0770754af8992ee1d79f9d5443",
       "version_major": 2,
       "version_minor": 0
      },
      "text/plain": [
       "Creating json from Arrow format:   0%|          | 0/2 [00:00<?, ?ba/s]"
      ]
     },
     "metadata": {},
     "output_type": "display_data"
    },
    {
     "data": {
      "application/vnd.jupyter.widget-view+json": {
       "model_id": "6e102099ef824bf0804c53f95923f54f",
       "version_major": 2,
       "version_minor": 0
      },
      "text/plain": [
       "Creating json from Arrow format:   0%|          | 0/1 [00:00<?, ?ba/s]"
      ]
     },
     "metadata": {},
     "output_type": "display_data"
    },
    {
     "name": "stdout",
     "output_type": "stream",
     "text": [
      "✅ Checkpoint disimpan setelah 0 query.\n"
     ]
    },
    {
     "data": {
      "application/vnd.jupyter.widget-view+json": {
       "model_id": "74366254a87e44ca9a78eb033087298d",
       "version_major": 2,
       "version_minor": 0
      },
      "text/plain": [
       "Map:   0%|          | 0/829 [00:00<?, ? examples/s]"
      ]
     },
     "metadata": {},
     "output_type": "display_data"
    },
    {
     "data": {
      "application/vnd.jupyter.widget-view+json": {
       "model_id": "fc56c81e55474f5a8991c687a06bff85",
       "version_major": 2,
       "version_minor": 0
      },
      "text/plain": [
       "Creating json from Arrow format:   0%|          | 0/2 [00:00<?, ?ba/s]"
      ]
     },
     "metadata": {},
     "output_type": "display_data"
    },
    {
     "data": {
      "application/vnd.jupyter.widget-view+json": {
       "model_id": "2f37b03094c24cddaff790316ed464f4",
       "version_major": 2,
       "version_minor": 0
      },
      "text/plain": [
       "Creating json from Arrow format:   0%|          | 0/1 [00:00<?, ?ba/s]"
      ]
     },
     "metadata": {},
     "output_type": "display_data"
    },
    {
     "name": "stdout",
     "output_type": "stream",
     "text": [
      "✅ Checkpoint disimpan setelah 0 query.\n"
     ]
    }
   ],
   "source": [
    "import gc\n",
    "import torch\n",
    "import torch.nn.functional as F\n",
    "\n",
    "def add_negative_passages(batch, indices):\n",
    "    batch_queries = batch[\"query\"]  # List of queries\n",
    "\n",
    "    batch_dict = embedding_tokenizer(batch_queries, max_length=512, padding=True, truncation=True, return_tensors='pt')\n",
    "    batch_dict = {k: v.to(\"cuda:0\") for k, v in batch_dict.items()}\n",
    "\n",
    "    with torch.no_grad():\n",
    "        outputs = embedding_model(**batch_dict)\n",
    "\n",
    "    query_embeddings = average_pool(outputs.last_hidden_state, batch_dict['attention_mask'])\n",
    "    query_embeddings = F.normalize(query_embeddings, p=2, dim=1).cpu().numpy().astype(np.float32)  # (batch, dim)\n",
    "\n",
    "    # FAISS Search untuk semua query dalam batch\n",
    "    D, I = index.search(query_embeddings, 10)  # Ambil 10 kandidat\n",
    "\n",
    "    # Iterasi untuk setiap query dalam batch\n",
    "    negative_passages_batch = []\n",
    "    for i, idx in enumerate(indices):\n",
    "        positive_docids = set(p[\"docid\"] for p in batch[\"positive_passages\"][i])\n",
    "        selected_negative_passages = []\n",
    "\n",
    "        for doc_idx in I[i]:  # Loop hasil FAISS untuk query ke-i\n",
    "            docid = corpus_docids[doc_idx]\n",
    "            if docid not in positive_docids:\n",
    "                title, text = corpus_dict[docid]\n",
    "                selected_negative_passages.append({\"docid\": docid, \"title\": title, \"text\": text})\n",
    "            if len(selected_negative_passages) == 4:\n",
    "                break\n",
    "\n",
    "        negative_passages_batch.append(selected_negative_passages)\n",
    "\n",
    "    batch[\"negative_passages\"] = negative_passages_batch\n",
    "\n",
    "    # 🔥 **BERSIHKAN CACHE GPU & MEMORI SETELAH BATCH SELESAI**\n",
    "    del batch_dict, outputs, query_embeddings\n",
    "    torch.cuda.empty_cache()  # Kosongkan cache GPU\n",
    "    gc.collect()  # Kosongkan cache CPU untuk menghindari memory leak\n",
    "\n",
    "    # 🔥 **SIMPAN CHECKPOINT SETIAP 1000 QUERY UNTUK KEAMANAN**\n",
    "    if indices[0] % 500 == 0:  \n",
    "        mr_tydi[\"dev\"].to_json(\"generated_data/mr_tydi_dev_with_negatives.json\", indent=2)\n",
    "        mr_tydi[\"test\"].to_json(\"generated_data/mr_tydi_test_with_negatives.json\", indent=2)\n",
    "        print(f\"✅ Checkpoint disimpan setelah {indices[0]} query.\")\n",
    "\n",
    "    return batch\n",
    "\n",
    "mr_tydi[\"dev\"] = mr_tydi[\"dev\"].map(add_negative_passages, with_indices=True, batched=True, batch_size=16)\n",
    "mr_tydi[\"test\"] = mr_tydi[\"test\"].map(add_negative_passages, with_indices=True, batched=True, batch_size=16)"
   ]
  },
  {
   "cell_type": "markdown",
   "metadata": {},
   "source": [
    "#### Simpan checkpoint"
   ]
  },
  {
   "cell_type": "code",
   "execution_count": 2,
   "metadata": {},
   "outputs": [
    {
     "data": {
      "application/vnd.jupyter.widget-view+json": {
       "model_id": "d837ceec2fa84df0a45650eca41f5e31",
       "version_major": 2,
       "version_minor": 0
      },
      "text/plain": [
       "Creating json from Arrow format:   0%|          | 0/2 [00:00<?, ?ba/s]"
      ]
     },
     "metadata": {},
     "output_type": "display_data"
    },
    {
     "data": {
      "application/vnd.jupyter.widget-view+json": {
       "model_id": "1a03fb83b9a74707892968014ae4fde0",
       "version_major": 2,
       "version_minor": 0
      },
      "text/plain": [
       "Creating json from Arrow format:   0%|          | 0/1 [00:00<?, ?ba/s]"
      ]
     },
     "metadata": {},
     "output_type": "display_data"
    },
    {
     "name": "stdout",
     "output_type": "stream",
     "text": [
      "Checkpoint berhasil disimpan!\n"
     ]
    }
   ],
   "source": [
    "import numpy as np\n",
    "import faiss\n",
    "import pickle\n",
    "\n",
    "# Simpan corpus embeddings\n",
    "np.save(\"generated_data/corpus_embeddings.npy\", corpus_embeddings)\n",
    "\n",
    "# Simpan FAISS Index\n",
    "faiss.write_index(index, \"generated_data/faiss_index.idx\")\n",
    "\n",
    "# Simpan dataset yang sudah diproses sebagian\n",
    "mr_tydi[\"dev\"].to_json(\"generated_data/mr_tydi_dev_checkpoint.json\", indent=2)\n",
    "mr_tydi[\"test\"].to_json(\"generated_data/mr_tydi_test_checkpoint.json\", indent=2)\n",
    "\n",
    "print(\"Checkpoint berhasil disimpan!\")"
   ]
  },
  {
   "cell_type": "code",
   "execution_count": 11,
   "metadata": {},
   "outputs": [
    {
     "name": "stdout",
     "output_type": "stream",
     "text": [
      "✅ Dataset berhasil disimpan dalam format JSON yang benar!\n"
     ]
    }
   ],
   "source": [
    "import json\n",
    "\n",
    "# Buat dictionary untuk menyimpan ketiga split dataset\n",
    "mr_tydi_dict = {\n",
    "    \"train\": mr_tydi[\"train\"].to_list(),\n",
    "    \"dev\": mr_tydi[\"dev\"].to_list(),  # Konversi ke list agar formatnya benar\n",
    "    \"test\": mr_tydi[\"test\"].to_list(),\n",
    "}\n",
    "\n",
    "# Simpan ke file JSON\n",
    "with open(\"generated_data/mr_tydi_full.json\", \"w\", encoding=\"utf-8\") as f:\n",
    "    json.dump(mr_tydi_dict, f, indent=2, ensure_ascii=False)\n",
    "\n",
    "print(\"✅ Dataset berhasil disimpan dalam format JSON yang benar!\")\n"
   ]
  },
  {
   "cell_type": "code",
   "execution_count": null,
   "metadata": {},
   "outputs": [],
   "source": []
  }
 ],
 "metadata": {
  "kernelspec": {
   "display_name": "cuda_12-4",
   "language": "python",
   "name": "python3"
  },
  "language_info": {
   "codemirror_mode": {
    "name": "ipython",
    "version": 3
   },
   "file_extension": ".py",
   "mimetype": "text/x-python",
   "name": "python",
   "nbconvert_exporter": "python",
   "pygments_lexer": "ipython3",
   "version": "3.12.7"
  }
 },
 "nbformat": 4,
 "nbformat_minor": 2
}
